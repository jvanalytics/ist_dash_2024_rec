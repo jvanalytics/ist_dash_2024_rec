{
 "cells": [
  {
   "cell_type": "code",
   "execution_count": 14,
   "metadata": {},
   "outputs": [
    {
     "name": "stdout",
     "output_type": "stream",
     "text": [
      "Notebooks merged successfully into /Users/lourefra/Documents/Mercedes-benz.io/TRAINING/post graduation course IST - Data science/projeto curso/ist_dash_2024_rec/non_supervised_analysis/notebooks/dataset_1/G02_notebook_dataset1.ipynb\n"
     ]
    }
   ],
   "source": [
    "import os\n",
    "import nbformat\n",
    "from nbformat.v4 import new_notebook, new_markdown_cell\n",
    "\n",
    "# Caminho base\n",
    "base_path = \"/Users/lourefra/Documents/Mercedes-benz.io/TRAINING/post graduation course IST - Data science/projeto curso/ist_dash_2024_rec/non_supervised_analysis/notebooks/dataset_1/\"\n",
    "\n",
    "# Lista de ficheiros\n",
    "notebook_files = [\n",
    "    \"_0_citibike_pre_processing.ipynb\",\n",
    "    \"_1_citibike_data_profiling.ipynb\",\n",
    "    \"_4_citibike_clustering.ipynb\",\n",
    "    \"_5_citibike_pattern_mining.ipynb\"\n",
    "]\n",
    "\n",
    "# Criar um novo notebook\n",
    "merged_notebook = new_notebook()\n",
    "\n",
    "# Iterar pelos ficheiros e adicioná-los ao notebook final\n",
    "for notebook_file in notebook_files:\n",
    "    notebook_path = os.path.join(base_path, notebook_file)  # Criar caminho completo\n",
    "\n",
    "    if not os.path.exists(notebook_path):\n",
    "        print(f\"Erro: Ficheiro não encontrado -> {notebook_path}\")\n",
    "        continue\n",
    "\n",
    "    with open(notebook_path, 'r', encoding='utf-8') as f:\n",
    "        nb = nbformat.read(f, as_version=4)\n",
    "        merged_notebook.cells.append(new_markdown_cell(f'# Merged from {notebook_file}'))\n",
    "        merged_notebook.cells.extend(nb.cells)\n",
    "\n",
    "# Guardar o notebook final\n",
    "output_path = os.path.join(base_path, \"G02_notebook_dataset1.ipynb\")\n",
    "with open(output_path, 'w', encoding='utf-8') as f:\n",
    "    nbformat.write(merged_notebook, f)\n",
    "\n",
    "print(f'Notebooks merged successfully into {output_path}')"
   ]
  },
  {
   "cell_type": "code",
   "execution_count": null,
   "metadata": {},
   "outputs": [],
   "source": []
  }
 ],
 "metadata": {
  "kernelspec": {
   "display_name": "base",
   "language": "python",
   "name": "python3"
  },
  "language_info": {
   "codemirror_mode": {
    "name": "ipython",
    "version": 3
   },
   "file_extension": ".py",
   "mimetype": "text/x-python",
   "name": "python",
   "nbconvert_exporter": "python",
   "pygments_lexer": "ipython3",
   "version": "3.12.2"
  }
 },
 "nbformat": 4,
 "nbformat_minor": 2
}
