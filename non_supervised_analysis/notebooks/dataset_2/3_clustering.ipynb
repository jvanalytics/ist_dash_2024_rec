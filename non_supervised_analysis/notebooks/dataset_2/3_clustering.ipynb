{
 "cells": [
  {
   "cell_type": "markdown",
   "metadata": {},
   "source": [
    "# Profiling and Analysis Questions\n",
    "\n",
    "\n",
    "Clustering\n",
    "https://web.ist.utl.pt/rmch/dash/guides/Clustering%20in%20Python.html\n",
    "\n",
    "\n",
    "- what are the top aisle purchase clusters?\n",
    "- what are the most common timeframe order time clusters (order_dow, order_hour_of_day,days_since_prior_order and weeks_since_prior_order) ?\n",
    "\n",
    "PCA Resources\n",
    "- https://www.kaggle.com/code/asindico/customer-segments-with-pca\n",
    "- https://www.datacamp.com/tutorial/principal-component-analysis-in-python\n",
    "- https://www.youtube.com/watch?v=8klqIM9UvAc\n",
    "- https://www.youtube.com/watch?v=FD4DeN81ODY\n",
    "- https://www.youtube.com/watch?v=HMOI_lkzW08\n",
    "\n",
    "\n",
    "# NOTAS PROF\n",
    "- DETETAR E EXCLUIR OUTLIERS DOS CLUSTERS PEQUENOS \n",
    "- ADICIONAR DENDROGRAMA DOS CLUSTERS\n",
    "- EXPERIMENTAR DBSCAN\n",
    "- ADICIONAR E VALIDAR CENTROIDES"
   ]
  },
  {
   "cell_type": "markdown",
   "metadata": {},
   "source": [
    "# File and libraries"
   ]
  },
  {
   "cell_type": "code",
   "execution_count": 74,
   "metadata": {},
   "outputs": [],
   "source": [
    "import pandas as pd\n",
    "import numpy as np\n",
    "\n",
    "\n",
    "filepath=r'/Users/cozmaeug/Private/IST PG - DS/DaSH ENG/ist_dash_2024_rec/non_supervised_analysis/notebooks/dataset_2/df_bakery_encoded.csv'\n",
    "\n",
    "file_tag = \"Bakery Pattern Mining\"\n",
    "\n",
    "data = pd.read_csv(filepath)\n"
   ]
  },
  {
   "cell_type": "code",
   "execution_count": 75,
   "metadata": {},
   "outputs": [],
   "source": [
    "%run \"scripts/dslabs_functions.py\""
   ]
  },
  {
   "cell_type": "code",
   "execution_count": 76,
   "metadata": {},
   "outputs": [
    {
     "name": "stdout",
     "output_type": "stream",
     "text": [
      "data_functions lodaded\n"
     ]
    }
   ],
   "source": [
    "%run \"scripts/data_functions.py\""
   ]
  },
  {
   "cell_type": "code",
   "execution_count": 77,
   "metadata": {},
   "outputs": [],
   "source": [
    "data_copy=data.copy()\n",
    "data_copy = data_copy.dropna(axis=0, how=\"any\") #axis=0 tells dropna to remove rows that have at least one NaN value."
   ]
  },
  {
   "cell_type": "markdown",
   "metadata": {},
   "source": [
    "# Clustering"
   ]
  },
  {
   "cell_type": "code",
   "execution_count": 78,
   "metadata": {},
   "outputs": [],
   "source": [
    "from sklearn import cluster\n",
    "from sklearn.metrics import pairwise_distances"
   ]
  },
  {
   "cell_type": "code",
   "execution_count": 79,
   "metadata": {},
   "outputs": [],
   "source": [
    "def mydistance(x1, x2):\n",
    "    res = 0\n",
    "    fix_weight = 1\n",
    "    for j in range(len(x1)):\n",
    "        res += fix_weight*abs(x1[j]-x2[j])\n",
    "    return res\n",
    "\n",
    "def affinity(X):\n",
    "    return pairwise_distances(X, metric=mydistance)"
   ]
  },
  {
   "cell_type": "code",
   "execution_count": 80,
   "metadata": {},
   "outputs": [
    {
     "data": {
      "text/plain": [
       "array([1, 1, 2, ..., 1, 1, 1])"
      ]
     },
     "execution_count": 80,
     "metadata": {},
     "output_type": "execute_result"
    }
   ],
   "source": [
    "hier_algo = cluster.AgglomerativeClustering(n_clusters=5, metric=affinity, linkage='complete')\n",
    "hier_model = hier_algo.fit(data_copy)\n",
    "hier_model.labels_"
   ]
  },
  {
   "cell_type": "code",
   "execution_count": 81,
   "metadata": {},
   "outputs": [
    {
     "name": "stdout",
     "output_type": "stream",
     "text": [
      "Silhouette: 0.74831119558551\n"
     ]
    }
   ],
   "source": [
    "from sklearn import metrics\n",
    "print(\"Silhouette:\",metrics.silhouette_score(data_copy, hier_model.labels_))"
   ]
  },
  {
   "cell_type": "code",
   "execution_count": 82,
   "metadata": {},
   "outputs": [],
   "source": [
    "data_copy['cluster']=hier_model.labels_\n"
   ]
  },
  {
   "cell_type": "code",
   "execution_count": 83,
   "metadata": {},
   "outputs": [],
   "source": [
    "import matplotlib.pyplot as plt\n",
    "import seaborn as sns\n"
   ]
  },
  {
   "cell_type": "code",
   "execution_count": 84,
   "metadata": {},
   "outputs": [
    {
     "data": {
      "image/png": "[encoded data removed]",
      "text/plain": [
       "<Figure size 640x480 with 1 Axes>"
      ]
     },
     "metadata": {},
     "output_type": "display_data"
    }
   ],
   "source": [
    "sns.boxplot(x=\"cluster\", y='total', data=data_copy)      \n",
    "plt.show()"
   ]
  },
  {
   "cell_type": "markdown",
   "metadata": {},
   "source": [
    "## K Means"
   ]
  },
  {
   "cell_type": "code",
   "execution_count": 85,
   "metadata": {},
   "outputs": [],
   "source": [
    "# Clustering\n",
    "\n",
    "from sklearn import cluster, mixture\n",
    "kmeans_algo = cluster.KMeans(n_clusters=3, random_state=1)\n",
    "kmeans_model = kmeans_algo.fit(data_copy)"
   ]
  },
  {
   "cell_type": "code",
   "execution_count": 86,
   "metadata": {},
   "outputs": [],
   "source": [
    "feature_names = feature_names = data_copy.columns.tolist()\n"
   ]
  },
  {
   "cell_type": "code",
   "execution_count": 87,
   "metadata": {},
   "outputs": [
    {
     "name": "stdout",
     "output_type": "stream",
     "text": [
      "          total  angbutter  plain bread       jam  americano  croissant  \\\n",
      "0  1.825116e+04   1.138031     0.391892  0.095077   0.188707   0.361486   \n",
      "1  1.293000e+06   6.000000     5.000000  0.000000   0.000000   5.000000   \n",
      "2  3.495130e+04   2.492795     0.608069  0.149856   0.351585   0.850144   \n",
      "\n",
      "   caffe latte  tiramisu croissant  cacao deep  pain au chocolat  ...  \\\n",
      "0     0.082529            0.335907    0.143340          0.258687  ...   \n",
      "1     0.000000            0.000000    0.000000          5.000000  ...   \n",
      "2     0.123919            0.717579    0.193084          0.533141  ...   \n",
      "\n",
      "   hour_cos   min_sin   min_cos  day_of_month_sin  day_of_month_cos  \\\n",
      "0 -0.861576  0.075113  0.043259         -0.012735          0.003295   \n",
      "1 -0.991000 -0.638000 -0.770000         -0.849000          0.529000   \n",
      "2 -0.875398  0.111781  0.058625         -0.042285          0.021715   \n",
      "\n",
      "   day_of_week_nr_sin  day_of_week_nr_cos  week_of_month_sin  \\\n",
      "0           -0.157986            0.168436           0.088803   \n",
      "1           -0.866000           -0.500000           0.000000   \n",
      "2           -0.109810            0.095101           0.083573   \n",
      "\n",
      "   week_of_month_cos   cluster  \n",
      "0           0.022201  1.000000  \n",
      "1           1.000000  3.000000  \n",
      "2           0.005764  1.285303  \n",
      "\n",
      "[3 rows x 60 columns]\n"
     ]
    }
   ],
   "source": [
    "# describe centroids\n",
    "\n",
    "centroids = kmeans_model.cluster_centers_\n",
    "centroid_df = pd.DataFrame(data=centroids, columns=feature_names)\n",
    "print(centroid_df)"
   ]
  },
  {
   "cell_type": "code",
   "execution_count": 88,
   "metadata": {},
   "outputs": [
    {
     "data": {
      "text/plain": [
       "array([0, 0, 2, ..., 0, 0, 0], dtype=int32)"
      ]
     },
     "execution_count": 88,
     "metadata": {},
     "output_type": "execute_result"
    }
   ],
   "source": [
    "# show the clusters per instance\n",
    "kmeans_model.labels_"
   ]
  },
  {
   "cell_type": "markdown",
   "metadata": {},
   "source": [
    "## Customized distance using agglomerative clustering"
   ]
  },
  {
   "cell_type": "code",
   "execution_count": 89,
   "metadata": {},
   "outputs": [],
   "source": [
    "from sklearn.metrics import pairwise_distances\n",
    "\n",
    "def mydistance(x1, x2):\n",
    "    res = 0.0001\n",
    "    for j, weight in enumerate([1,2,3,1]):\n",
    "        res += weight*abs(x1[j]-x2[j])\n",
    "    return res\n",
    "\n",
    "def sim_affinity(X):\n",
    "    return pairwise_distances(X, metric=mydistance)\n"
   ]
  },
  {
   "cell_type": "code",
   "execution_count": 90,
   "metadata": {},
   "outputs": [
    {
     "data": {
      "text/plain": [
       "array([0, 0, 0, ..., 0, 0, 0])"
      ]
     },
     "execution_count": 90,
     "metadata": {},
     "output_type": "execute_result"
    }
   ],
   "source": [
    "hier_algo = cluster.AgglomerativeClustering(n_clusters=3, metric='euclidean', linkage='average')\n",
    "hier_model = hier_algo.fit(data_copy)\n",
    "hier_model.labels_\n"
   ]
  },
  {
   "cell_type": "markdown",
   "metadata": {},
   "source": [
    "## Evaluating the clustering solution using internal indices\n",
    "\n"
   ]
  },
  {
   "cell_type": "code",
   "execution_count": 91,
   "metadata": {},
   "outputs": [
    {
     "name": "stdout",
     "output_type": "stream",
     "text": [
      "Silhouette: 0.7006085605777561\n",
      "Silhouette per instance:\n",
      " [0.48101275 0.84371167 0.39126744 0.82414381 0.84097135] ...\n",
      "Sum of squared distances: 62018680949.56879\n"
     ]
    }
   ],
   "source": [
    "from sklearn import metrics\n",
    "y_pred = kmeans_model.labels_\n",
    "print(\"Silhouette:\",metrics.silhouette_score(data_copy, y_pred))\n",
    "print(\"Silhouette per instance:\\n\",metrics.silhouette_samples(data_copy, y_pred)[:5],\"...\")\n",
    "print(\"Sum of squared distances:\",kmeans_model.inertia_)\n"
   ]
  },
  {
   "cell_type": "markdown",
   "metadata": {},
   "source": [
    "# Hierarchical clustering with different linkage criteria\n"
   ]
  },
  {
   "cell_type": "markdown",
   "metadata": {},
   "source": [
    "## agglomerative clustering with different criteria\n",
    "\n"
   ]
  },
  {
   "cell_type": "code",
   "execution_count": 73,
   "metadata": {},
   "outputs": [
    {
     "ename": "ValueError",
     "evalue": "too many values to unpack (expected 2)",
     "output_type": "error",
     "traceback": [
      "\u001b[0;31m---------------------------------------------------------------------------\u001b[0m",
      "\u001b[0;31mValueError\u001b[0m                                Traceback (most recent call last)",
      "Cell \u001b[0;32mIn[73], line 32\u001b[0m\n\u001b[1;32m     28\u001b[0m algorithms[\u001b[38;5;124m'\u001b[39m\u001b[38;5;124mSingle Linkage\u001b[39m\u001b[38;5;124m'\u001b[39m] \u001b[38;5;241m=\u001b[39m cluster\u001b[38;5;241m.\u001b[39mAgglomerativeClustering(\n\u001b[1;32m     29\u001b[0m     n_clusters\u001b[38;5;241m=\u001b[39mparams[\u001b[38;5;124m'\u001b[39m\u001b[38;5;124mn_clusters\u001b[39m\u001b[38;5;124m'\u001b[39m], linkage\u001b[38;5;241m=\u001b[39m\u001b[38;5;124m'\u001b[39m\u001b[38;5;124msingle\u001b[39m\u001b[38;5;124m'\u001b[39m)\n\u001b[1;32m     31\u001b[0m \u001b[38;5;66;03m# 2 Access and normalize data\u001b[39;00m\n\u001b[0;32m---> 32\u001b[0m X, y \u001b[38;5;241m=\u001b[39m dataset\n\u001b[1;32m     33\u001b[0m X \u001b[38;5;241m=\u001b[39m StandardScaler()\u001b[38;5;241m.\u001b[39mfit_transform(X)\n\u001b[1;32m     35\u001b[0m \u001b[38;5;66;03m# 3 Run clustering algorithm and store predictions\u001b[39;00m\n",
      "\u001b[0;31mValueError\u001b[0m: too many values to unpack (expected 2)"
     ]
    }
   ],
   "source": [
    "import time, warnings\n",
    "from itertools import cycle, islice\n",
    "from sklearn.preprocessing import StandardScaler\n",
    "\n",
    "default_base = {'n_neighbors': 10,'n_clusters': 3}\n",
    "datasets = [\n",
    "    (data_copy, {'n_clusters': 2}),\n",
    "    (data_copy, {'n_neighbors': 2}),\n",
    "]\n",
    "\n",
    "algorithms = {}\n",
    "all_predictions = []\n",
    "all_efficiency = []\n",
    "\n",
    "for i_dataset, (dataset, algo_params) in enumerate(datasets):\n",
    "\n",
    "    # 1a Set parameters for each dataset\n",
    "    params = default_base.copy()\n",
    "    params.update(algo_params)\n",
    "    \n",
    "    # 1b Parameterize clustering algorithms\n",
    "    algorithms['Ward Linkage'] = cluster.AgglomerativeClustering(\n",
    "        n_clusters=params['n_clusters'], linkage='ward')\n",
    "    algorithms['Complete Linkage'] = cluster.AgglomerativeClustering(\n",
    "        n_clusters=params['n_clusters'], linkage='complete')\n",
    "    algorithms['Average Linkage'] = cluster.AgglomerativeClustering(\n",
    "        n_clusters=params['n_clusters'], linkage='average')\n",
    "    algorithms['Single Linkage'] = cluster.AgglomerativeClustering(\n",
    "        n_clusters=params['n_clusters'], linkage='single')\n",
    "\n",
    "    # 2 Access and normalize data\n",
    "    X, y = dataset\n",
    "    X = StandardScaler().fit_transform(X)\n",
    "\n",
    "    # 3 Run clustering algorithm and store predictions\n",
    "    predictions = {}\n",
    "    efficiency = {}\n",
    "    for name in algorithms:\n",
    "        clustering = algorithms[name]\n",
    "        t0 = time.time()\n",
    "        with warnings.catch_warnings():\n",
    "            warnings.filterwarnings(\n",
    "                \"ignore\",\n",
    "                message=\"the number of connected components of the connectivity matrix is [0-9]{1,2}\" +\n",
    "                    \" > 1. Completing it to avoid stopping the tree early.\",\n",
    "                category=UserWarning)\n",
    "            clustering.fit(X)\n",
    "        efficiency[name]= time.time()-t0\n",
    "        if hasattr(clustering, 'labels_'): predictions[name] = clustering.labels_.astype(np.int)\n",
    "        else: predictions[name] = clustering.predict(X)\n",
    "            \n",
    "    all_predictions.append(predictions)\n",
    "    all_efficiency.append(efficiency)"
   ]
  },
  {
   "cell_type": "markdown",
   "metadata": {},
   "source": [
    "## Plotting clustering solutions\n",
    "\n"
   ]
  },
  {
   "cell_type": "code",
   "execution_count": null,
   "metadata": {},
   "outputs": [],
   "source": [
    "# Set up cluster parameters\n",
    "plt.figure(figsize=(7, 6))\n",
    "plt.subplots_adjust(left=.02, right=.98, bottom=.001, top=.96, wspace=.05, hspace=.01)\n",
    "color_array = ['#377eb8','#ff7f00','#4daf4a','#f781bf','#a65628','#984ea3','#999999','#e41a1c','#dede00']\n",
    "plot_num = 1\n",
    "for k in range(len(datasets)):\n",
    "    predictions = all_predictions[k]\n",
    "    efficiency = all_efficiency[k]\n",
    "    X, y = datasets[k][0]\n",
    "    X = StandardScaler().fit_transform(X)\n",
    "    \n",
    "    for name in predictions:\n",
    "        y_pred = predictions[name]\n",
    "        plt.subplot(len(datasets), len(algorithms), plot_num)\n",
    "        if k == 0: plt.title(name, size=10)\n",
    "        colors = np.array(list(islice(cycle(color_array),int(max(y_pred) + 1))))\n",
    "        colors = np.append(colors, [\"#000000\"]) #black color for outliers (if any)\n",
    "        \n",
    "        plt.scatter(X[:, 0], X[:, 1], s=10, color=colors[y_pred])\n",
    "        plt.xlim(-2.5, 2.5)\n",
    "        plt.ylim(-2.5, 2.5)\n",
    "        plt.xticks(())\n",
    "        plt.yticks(())\n",
    "        plt.text(.99, .01, ('%.2fs' % efficiency[name]).lstrip('0'),\n",
    "                 transform=plt.gca().transAxes,size=15,horizontalalignment='right')\n",
    "        plot_num += 1\n",
    "\n",
    "plt.show()\n"
   ]
  },
  {
   "cell_type": "markdown",
   "metadata": {},
   "source": [
    "# Others: spectral, agglomerative, dbscan, model-based\n"
   ]
  },
  {
   "cell_type": "markdown",
   "metadata": {},
   "source": [
    "Applying different clustering algorithms available in sklearn to the previously generated data\n"
   ]
  },
  {
   "cell_type": "markdown",
   "metadata": {},
   "source": []
  }
 ],
 "metadata": {
  "kernelspec": {
   "display_name": "base",
   "language": "python",
   "name": "python3"
  },
  "language_info": {
   "codemirror_mode": {
    "name": "ipython",
    "version": 3
   },
   "file_extension": ".py",
   "mimetype": "text/x-python",
   "name": "python",
   "nbconvert_exporter": "python",
   "pygments_lexer": "ipython3",
   "version": "3.12.4"
  }
 },
 "nbformat": 4,
 "nbformat_minor": 2
}
