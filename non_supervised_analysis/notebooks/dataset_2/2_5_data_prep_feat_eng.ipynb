{
 "cells": [
  {
   "cell_type": "code",
   "execution_count": null,
   "metadata": {},
   "outputs": [],
   "source": [
    "# total = medio alto baixo\n",
    "# is food / is drink binary\n",
    "# cold drink hot drink\n",
    "# sazonalidade - winter autumn fall summer \n"
   ]
  }
 ],
 "metadata": {
  "language_info": {
   "name": "python"
  }
 },
 "nbformat": 4,
 "nbformat_minor": 2
}
