{
 "cells": [
  {
   "cell_type": "markdown",
   "metadata": {},
   "source": [
    "# File and libraries"
   ]
  },
  {
   "cell_type": "code",
   "execution_count": 1,
   "metadata": {},
   "outputs": [],
   "source": [
    "import pandas as pd\n",
    "import numpy as np\n",
    "\n",
    "\n",
    "file_tag = \"Instacart Market Basket\""
   ]
  },
  {
   "cell_type": "markdown",
   "metadata": {},
   "source": [
    "# DSLabs functions"
   ]
  },
  {
   "cell_type": "code",
   "execution_count": 2,
   "metadata": {},
   "outputs": [],
   "source": [
    "%run \"scripts/dslabs_functions.py\"\n"
   ]
  },
  {
   "cell_type": "markdown",
   "metadata": {},
   "source": [
    "# data functions"
   ]
  },
  {
   "cell_type": "code",
   "execution_count": 3,
   "metadata": {},
   "outputs": [
    {
     "name": "stdout",
     "output_type": "stream",
     "text": [
      "data_functions lodaded\n"
     ]
    }
   ],
   "source": [
    "%run \"scripts/data_functions.py\"\n"
   ]
  },
  {
   "cell_type": "markdown",
   "metadata": {},
   "source": [
    "# sampling and testing"
   ]
  },
  {
   "cell_type": "code",
   "execution_count": 4,
   "metadata": {},
   "outputs": [
    {
     "name": "stdout",
     "output_type": "stream",
     "text": [
      "<class 'pandas.core.frame.DataFrame'>\n",
      "RangeIndex: 3421083 entries, 0 to 3421082\n",
      "Data columns (total 6 columns):\n",
      " #   Column                  Dtype  \n",
      "---  ------                  -----  \n",
      " 0   order_id                int64  \n",
      " 1   user_id                 int64  \n",
      " 2   order_number            int64  \n",
      " 3   order_dow               int64  \n",
      " 4   order_hour_of_day       int64  \n",
      " 5   days_since_prior_order  float64\n",
      "dtypes: float64(1), int64(5)\n",
      "memory usage: 156.6 MB\n",
      "None\n"
     ]
    }
   ],
   "source": [
    "\n",
    "# test_data=True\n",
    "test_data=False\n",
    "\n",
    "\n",
    "# Define the sampling function\n",
    "def sample_user_orders(data, fraction=0.1):\n",
    "    # Get unique user_ids and order_ids\n",
    "    unique_user_orders = data[['user_id', 'order_id']].drop_duplicates()\n",
    "    sampled_user_orders = unique_user_orders.sample(frac=fraction)\n",
    "    \n",
    "    # Filter the dataset to include only the sampled users and orders\n",
    "    sampled_data = data[data[['user_id', 'order_id']].apply(tuple, axis=1).isin(sampled_user_orders.apply(tuple, axis=1))]\n",
    "    return sampled_data\n",
    "\n",
    "\n",
    "# Load the data\n",
    "orders = pd.read_csv('data/input/orders.csv')\n",
    "\n",
    "\n",
    "if test_data==True:\n",
    "\n",
    "\n",
    "\n",
    "    # Apply the sampling to each group 1%\n",
    "    sample=0.05\n",
    "    order_data = sample_user_orders(orders, fraction=sample)\n",
    "    \n",
    "\n",
    "else:\n",
    "\n",
    "\n",
    "    order_data = orders\n",
    "    # order_data = sample_user_orders(orders, fraction=sample)\n",
    "    \n",
    "    \n",
    "# drop eval_set as its not necessary\n",
    "order_data=order_data.drop(['eval_set'], axis=1)\n",
    "\n",
    "print(order_data.info())"
   ]
  },
  {
   "cell_type": "markdown",
   "metadata": {},
   "source": [
    "## merge orders with prior"
   ]
  },
  {
   "cell_type": "code",
   "execution_count": 5,
   "metadata": {},
   "outputs": [],
   "source": [
    "prior=pd.read_csv('data/input/order_products__prior.csv')\n",
    "\n",
    "\n",
    "# merge the two dataframes on order id\n",
    "data = pd.merge(prior,order_data , on='order_id', how='inner')"
   ]
  },
  {
   "cell_type": "markdown",
   "metadata": {},
   "source": [
    "# class target column\n"
   ]
  },
  {
   "cell_type": "code",
   "execution_count": 6,
   "metadata": {},
   "outputs": [
    {
     "name": "stdout",
     "output_type": "stream",
     "text": [
      "reordered\n",
      "1    0.589697\n",
      "0    0.410303\n",
      "Name: proportion, dtype: float64\n"
     ]
    }
   ],
   "source": [
    "target = \"reordered\"\n",
    "\n",
    "values = data[target].value_counts(normalize=True) \n",
    "print(values)"
   ]
  },
  {
   "cell_type": "code",
   "execution_count": 7,
   "metadata": {},
   "outputs": [
    {
     "data": {
      "text/plain": [
       "(32434489, 9)"
      ]
     },
     "execution_count": 7,
     "metadata": {},
     "output_type": "execute_result"
    }
   ],
   "source": [
    "data.shape"
   ]
  },
  {
   "cell_type": "code",
   "execution_count": 8,
   "metadata": {},
   "outputs": [
    {
     "data": {
      "application/vnd.microsoft.datawrangler.viewer.v0+json": {
       "columns": [
        {
         "name": "index",
         "rawType": "object",
         "type": "string"
        },
        {
         "name": "order_id",
         "rawType": "float64",
         "type": "float"
        },
        {
         "name": "product_id",
         "rawType": "float64",
         "type": "float"
        },
        {
         "name": "add_to_cart_order",
         "rawType": "float64",
         "type": "float"
        },
        {
         "name": "reordered",
         "rawType": "float64",
         "type": "float"
        },
        {
         "name": "user_id",
         "rawType": "float64",
         "type": "float"
        },
        {
         "name": "order_number",
         "rawType": "float64",
         "type": "float"
        },
        {
         "name": "order_dow",
         "rawType": "float64",
         "type": "float"
        },
        {
         "name": "order_hour_of_day",
         "rawType": "float64",
         "type": "float"
        },
        {
         "name": "days_since_prior_order",
         "rawType": "float64",
         "type": "float"
        }
       ],
       "conversionMethod": "pd.DataFrame",
       "ref": "35cbdd5d-d089-4fe9-8fff-3722f6f1d0cc",
       "rows": [
        [
         "count",
         "32434489.0",
         "32434489.0",
         "32434489.0",
         "32434489.0",
         "32434489.0",
         "32434489.0",
         "32434489.0",
         "32434489.0",
         "30356421.0"
        ],
        [
         "mean",
         "1710748.5189427834",
         "25576.337535424096",
         "8.351075517175559",
         "0.5896974667922161",
         "102937.23942319548",
         "17.142050210811092",
         "2.7388176826217303",
         "13.424977405995204",
         "11.104074258292833"
        ],
        [
         "std",
         "987300.6964527412",
         "14096.689090430387",
         "7.126671160711698",
         "0.49188857680951814",
         "59466.478267885126",
         "17.535040493921123",
         "2.09004908085805",
         "4.246364995837531",
         "8.778914323268735"
        ],
        [
         "min",
         "2.0",
         "1.0",
         "1.0",
         "0.0",
         "1.0",
         "1.0",
         "0.0",
         "0.0",
         "0.0"
        ],
        [
         "25%",
         "855943.0",
         "13530.0",
         "3.0",
         "0.0",
         "51421.0",
         "5.0",
         "1.0",
         "10.0",
         "5.0"
        ],
        [
         "50%",
         "1711048.0",
         "25256.0",
         "6.0",
         "1.0",
         "102611.0",
         "11.0",
         "3.0",
         "13.0",
         "8.0"
        ],
        [
         "75%",
         "2565514.0",
         "37935.0",
         "11.0",
         "1.0",
         "154391.0",
         "24.0",
         "5.0",
         "16.0",
         "15.0"
        ],
        [
         "max",
         "3421083.0",
         "49688.0",
         "145.0",
         "1.0",
         "206209.0",
         "99.0",
         "6.0",
         "23.0",
         "30.0"
        ]
       ],
       "shape": {
        "columns": 9,
        "rows": 8
       }
      },
      "text/html": [
       "<div>\n",
       "<style scoped>\n",
       "    .dataframe tbody tr th:only-of-type {\n",
       "        vertical-align: middle;\n",
       "    }\n",
       "\n",
       "    .dataframe tbody tr th {\n",
       "        vertical-align: top;\n",
       "    }\n",
       "\n",
       "    .dataframe thead th {\n",
       "        text-align: right;\n",
       "    }\n",
       "</style>\n",
       "<table border=\"1\" class=\"dataframe\">\n",
       "  <thead>\n",
       "    <tr style=\"text-align: right;\">\n",
       "      <th></th>\n",
       "      <th>order_id</th>\n",
       "      <th>product_id</th>\n",
       "      <th>add_to_cart_order</th>\n",
       "      <th>reordered</th>\n",
       "      <th>user_id</th>\n",
       "      <th>order_number</th>\n",
       "      <th>order_dow</th>\n",
       "      <th>order_hour_of_day</th>\n",
       "      <th>days_since_prior_order</th>\n",
       "    </tr>\n",
       "  </thead>\n",
       "  <tbody>\n",
       "    <tr>\n",
       "      <th>count</th>\n",
       "      <td>3.243449e+07</td>\n",
       "      <td>3.243449e+07</td>\n",
       "      <td>3.243449e+07</td>\n",
       "      <td>3.243449e+07</td>\n",
       "      <td>3.243449e+07</td>\n",
       "      <td>3.243449e+07</td>\n",
       "      <td>3.243449e+07</td>\n",
       "      <td>3.243449e+07</td>\n",
       "      <td>3.035642e+07</td>\n",
       "    </tr>\n",
       "    <tr>\n",
       "      <th>mean</th>\n",
       "      <td>1.710749e+06</td>\n",
       "      <td>2.557634e+04</td>\n",
       "      <td>8.351076e+00</td>\n",
       "      <td>5.896975e-01</td>\n",
       "      <td>1.029372e+05</td>\n",
       "      <td>1.714205e+01</td>\n",
       "      <td>2.738818e+00</td>\n",
       "      <td>1.342498e+01</td>\n",
       "      <td>1.110407e+01</td>\n",
       "    </tr>\n",
       "    <tr>\n",
       "      <th>std</th>\n",
       "      <td>9.873007e+05</td>\n",
       "      <td>1.409669e+04</td>\n",
       "      <td>7.126671e+00</td>\n",
       "      <td>4.918886e-01</td>\n",
       "      <td>5.946648e+04</td>\n",
       "      <td>1.753504e+01</td>\n",
       "      <td>2.090049e+00</td>\n",
       "      <td>4.246365e+00</td>\n",
       "      <td>8.778914e+00</td>\n",
       "    </tr>\n",
       "    <tr>\n",
       "      <th>min</th>\n",
       "      <td>2.000000e+00</td>\n",
       "      <td>1.000000e+00</td>\n",
       "      <td>1.000000e+00</td>\n",
       "      <td>0.000000e+00</td>\n",
       "      <td>1.000000e+00</td>\n",
       "      <td>1.000000e+00</td>\n",
       "      <td>0.000000e+00</td>\n",
       "      <td>0.000000e+00</td>\n",
       "      <td>0.000000e+00</td>\n",
       "    </tr>\n",
       "    <tr>\n",
       "      <th>25%</th>\n",
       "      <td>8.559430e+05</td>\n",
       "      <td>1.353000e+04</td>\n",
       "      <td>3.000000e+00</td>\n",
       "      <td>0.000000e+00</td>\n",
       "      <td>5.142100e+04</td>\n",
       "      <td>5.000000e+00</td>\n",
       "      <td>1.000000e+00</td>\n",
       "      <td>1.000000e+01</td>\n",
       "      <td>5.000000e+00</td>\n",
       "    </tr>\n",
       "    <tr>\n",
       "      <th>50%</th>\n",
       "      <td>1.711048e+06</td>\n",
       "      <td>2.525600e+04</td>\n",
       "      <td>6.000000e+00</td>\n",
       "      <td>1.000000e+00</td>\n",
       "      <td>1.026110e+05</td>\n",
       "      <td>1.100000e+01</td>\n",
       "      <td>3.000000e+00</td>\n",
       "      <td>1.300000e+01</td>\n",
       "      <td>8.000000e+00</td>\n",
       "    </tr>\n",
       "    <tr>\n",
       "      <th>75%</th>\n",
       "      <td>2.565514e+06</td>\n",
       "      <td>3.793500e+04</td>\n",
       "      <td>1.100000e+01</td>\n",
       "      <td>1.000000e+00</td>\n",
       "      <td>1.543910e+05</td>\n",
       "      <td>2.400000e+01</td>\n",
       "      <td>5.000000e+00</td>\n",
       "      <td>1.600000e+01</td>\n",
       "      <td>1.500000e+01</td>\n",
       "    </tr>\n",
       "    <tr>\n",
       "      <th>max</th>\n",
       "      <td>3.421083e+06</td>\n",
       "      <td>4.968800e+04</td>\n",
       "      <td>1.450000e+02</td>\n",
       "      <td>1.000000e+00</td>\n",
       "      <td>2.062090e+05</td>\n",
       "      <td>9.900000e+01</td>\n",
       "      <td>6.000000e+00</td>\n",
       "      <td>2.300000e+01</td>\n",
       "      <td>3.000000e+01</td>\n",
       "    </tr>\n",
       "  </tbody>\n",
       "</table>\n",
       "</div>"
      ],
      "text/plain": [
       "           order_id    product_id  add_to_cart_order     reordered  \\\n",
       "count  3.243449e+07  3.243449e+07       3.243449e+07  3.243449e+07   \n",
       "mean   1.710749e+06  2.557634e+04       8.351076e+00  5.896975e-01   \n",
       "std    9.873007e+05  1.409669e+04       7.126671e+00  4.918886e-01   \n",
       "min    2.000000e+00  1.000000e+00       1.000000e+00  0.000000e+00   \n",
       "25%    8.559430e+05  1.353000e+04       3.000000e+00  0.000000e+00   \n",
       "50%    1.711048e+06  2.525600e+04       6.000000e+00  1.000000e+00   \n",
       "75%    2.565514e+06  3.793500e+04       1.100000e+01  1.000000e+00   \n",
       "max    3.421083e+06  4.968800e+04       1.450000e+02  1.000000e+00   \n",
       "\n",
       "            user_id  order_number     order_dow  order_hour_of_day  \\\n",
       "count  3.243449e+07  3.243449e+07  3.243449e+07       3.243449e+07   \n",
       "mean   1.029372e+05  1.714205e+01  2.738818e+00       1.342498e+01   \n",
       "std    5.946648e+04  1.753504e+01  2.090049e+00       4.246365e+00   \n",
       "min    1.000000e+00  1.000000e+00  0.000000e+00       0.000000e+00   \n",
       "25%    5.142100e+04  5.000000e+00  1.000000e+00       1.000000e+01   \n",
       "50%    1.026110e+05  1.100000e+01  3.000000e+00       1.300000e+01   \n",
       "75%    1.543910e+05  2.400000e+01  5.000000e+00       1.600000e+01   \n",
       "max    2.062090e+05  9.900000e+01  6.000000e+00       2.300000e+01   \n",
       "\n",
       "       days_since_prior_order  \n",
       "count            3.035642e+07  \n",
       "mean             1.110407e+01  \n",
       "std              8.778914e+00  \n",
       "min              0.000000e+00  \n",
       "25%              5.000000e+00  \n",
       "50%              8.000000e+00  \n",
       "75%              1.500000e+01  \n",
       "max              3.000000e+01  "
      ]
     },
     "execution_count": 8,
     "metadata": {},
     "output_type": "execute_result"
    }
   ],
   "source": [
    "summary5 = data.describe(include=\"all\")\n",
    "\n",
    "summary5"
   ]
  },
  {
   "cell_type": "markdown",
   "metadata": {},
   "source": [
    "### additional date columns creation"
   ]
  },
  {
   "cell_type": "code",
   "execution_count": 9,
   "metadata": {},
   "outputs": [],
   "source": [
    "# Categorize the time of day\n",
    "def categorize_time_of_day(hour):\n",
    "    if 5 <= hour < 12:\n",
    "        return 'Morning'\n",
    "    elif 12 <= hour < 17:\n",
    "        return 'Afternoon'\n",
    "    elif 17 <= hour < 22:\n",
    "        return 'Evening'\n",
    "    else:\n",
    "        return 'Night'\n",
    "\n",
    "data['order_time_of_day'] = data['order_hour_of_day'].apply(categorize_time_of_day)\n",
    "\n",
    "data['is_weekend'] = data['order_dow'].apply(lambda x: 1 if x >= 5 else 0)  # 1 for weekend, 0 for weekday\n",
    "\n",
    "data['is_peak_time_of_day']=data['order_time_of_day'].apply(lambda x: 1 if x in ['Morning','Afternoon'] else 0)\n",
    "\n",
    "data['weeks_since_prior_order'] = data['days_since_prior_order'].apply(lambda x: round(x / 7, 0) if pd.notnull(x) else np.nan)\n",
    "\n"
   ]
  },
  {
   "cell_type": "markdown",
   "metadata": {},
   "source": [
    "## encode date time to cyclic"
   ]
  },
  {
   "cell_type": "code",
   "execution_count": 10,
   "metadata": {},
   "outputs": [],
   "source": [
    "from math import pi, sin, cos\n",
    "\n",
    "# Function to apply sin and cos on an already-mapped cyclic feature\n",
    "def apply_sin_cos_for_mapped_column(data, column):\n",
    "    data[column + '_sin'] = np.sin(data[column])  # apply sine\n",
    "    data[column + '_cos'] = np.cos(data[column])  # apply cosine\n",
    "    return data\n",
    "\n",
    "# Function to encode cyclic variables using sine and cosine\n",
    "def cyclic_encode(value, x_max):\n",
    "    # sine and cosine components to capture cyclic pattern\n",
    "    value_sin = np.sin(2 * np.pi * value / x_max)\n",
    "    value_cos = np.cos(2 * np.pi * value / x_max)\n",
    "    return value_sin, value_cos\n",
    "\n",
    "\n",
    "day_of_week_encoding_mapping={\n",
    "    'Night':0,   \n",
    "    'Morning':pi/2,\n",
    "    'Afternoon':pi,\n",
    "    'Evening':-pi/2,   \n",
    "}\n",
    "\n",
    "data['order_time_of_day_enc'] = encode_column_with_mapping(data, 'order_time_of_day', day_of_week_encoding_mapping)\n",
    "\n",
    "\n",
    "# Encoding for local_hour (0-23)\n",
    "data['order_hour_of_day_sin'], data['order_hour_of_day_cos'] = zip(*data['order_hour_of_day'].apply(lambda x: cyclic_encode(x, 23)))\n",
    "\n",
    "# Encoding for day_of_week (0-6)\n",
    "data['order_dow_sin'], data['order_dow_cos'] = zip(*data['order_dow'].apply(lambda x: cyclic_encode(x, 6)))\n"
   ]
  },
  {
   "cell_type": "markdown",
   "metadata": {},
   "source": [
    "# user order dataframe for clustering"
   ]
  },
  {
   "cell_type": "code",
   "execution_count": 11,
   "metadata": {},
   "outputs": [],
   "source": [
    "# Group by order_id and aggregate features\n",
    "order_agg = data.groupby('order_id').agg({\n",
    "    'add_to_cart_order': 'max',\n",
    "    'reordered': 'mean',\n",
    "}).rename(columns={'add_to_cart_order': 'num_products', 'reordered': 'reorder_rate'})\n",
    "\n",
    "\n",
    "data=data.merge(order_agg, on='order_id', how='left')"
   ]
  },
  {
   "cell_type": "code",
   "execution_count": 12,
   "metadata": {},
   "outputs": [
    {
     "data": {
      "application/vnd.microsoft.datawrangler.viewer.v0+json": {
       "columns": [
        {
         "name": "index",
         "rawType": "int64",
         "type": "integer"
        },
        {
         "name": "user_id",
         "rawType": "int64",
         "type": "integer"
        },
        {
         "name": "total_orders",
         "rawType": "int64",
         "type": "integer"
        },
        {
         "name": "mean_products",
         "rawType": "float64",
         "type": "float"
        },
        {
         "name": "max_products",
         "rawType": "int64",
         "type": "integer"
        },
        {
         "name": "std_num_products",
         "rawType": "float64",
         "type": "float"
        },
        {
         "name": "mean_lag_between_orders",
         "rawType": "float64",
         "type": "float"
        },
        {
         "name": "std_lag_between_orders",
         "rawType": "float64",
         "type": "float"
        },
        {
         "name": "mean_reorder_rate",
         "rawType": "float64",
         "type": "float"
        },
        {
         "name": "mean_weekend_order_rate",
         "rawType": "float64",
         "type": "float"
        },
        {
         "name": "mean_order_dow",
         "rawType": "float64",
         "type": "float"
        },
        {
         "name": "top_order_dow",
         "rawType": "int64",
         "type": "integer"
        },
        {
         "name": "order_dow_variety",
         "rawType": "int64",
         "type": "integer"
        },
        {
         "name": "top_order_hour",
         "rawType": "int64",
         "type": "integer"
        },
        {
         "name": "order_hour_variety",
         "rawType": "int64",
         "type": "integer"
        },
        {
         "name": "std_order_hour",
         "rawType": "float64",
         "type": "float"
        },
        {
         "name": "mean_peak_time_of_day_rate",
         "rawType": "float64",
         "type": "float"
        },
        {
         "name": "top_order_time_of_day_enc",
         "rawType": "float64",
         "type": "float"
        },
        {
         "name": "order_time_of_day_enc_variety",
         "rawType": "int64",
         "type": "integer"
        }
       ],
       "conversionMethod": "pd.DataFrame",
       "ref": "447abd0d-ca1e-4f50-9121-6123c3937422",
       "rows": [
        [
         "0",
         "1",
         "10",
         "6.254237288135593",
         "9",
         "1.5821550159348143",
         "20.25925925925926",
         "9.30446268497245",
         "0.6949152542372882",
         "0.0",
         "2.6440677966101696",
         "4",
         "4",
         "7",
         "7",
         "3.5003548288034687",
         "1.0",
         "1.5707963267948966",
         "2"
        ],
        [
         "1",
         "2",
         "14",
         "16.107692307692307",
         "26",
         "5.469097091624992",
         "15.967032967032967",
         "9.119768521646256",
         "0.47692307692307695",
         "0.03076923076923077",
         "2.005128205128205",
         "2",
         "5",
         "9",
         "5",
         "1.649854406059765",
         "1.0",
         "1.5707963267948966",
         "2"
        ],
        [
         "2",
         "3",
         "12",
         "7.886363636363637",
         "11",
         "2.0422650158547797",
         "11.487179487179487",
         "4.869047720820336",
         "0.625",
         "0.0",
         "1.0113636363636365",
         "0",
         "4",
         "16",
         "6",
         "1.4545985165347575",
         "0.5681818181818182",
         "3.141592653589793",
         "2"
        ],
        [
         "3",
         "4",
         "5",
         "4.555555555555555",
         "7",
         "2.120549934838553",
         "15.357142857142858",
         "8.58090135894057",
         "0.05555555555555555",
         "0.5",
         "4.722222222222222",
         "4",
         "3",
         "15",
         "3",
         "1.7452081921613032",
         "1.0",
         "3.141592653589793",
         "2"
        ],
        [
         "4",
         "5",
         "4",
         "10.027027027027026",
         "12",
         "2.315245205234289",
         "14.5",
         "4.263801121065568",
         "0.3783783783783784",
         "0.0",
         "1.6216216216216217",
         "3",
         "3",
         "18",
         "3",
         "2.588957841043903",
         "0.5405405405405406",
         "3.141592653589793",
         "2"
        ]
       ],
       "shape": {
        "columns": 18,
        "rows": 5
       }
      },
      "text/html": [
       "<div>\n",
       "<style scoped>\n",
       "    .dataframe tbody tr th:only-of-type {\n",
       "        vertical-align: middle;\n",
       "    }\n",
       "\n",
       "    .dataframe tbody tr th {\n",
       "        vertical-align: top;\n",
       "    }\n",
       "\n",
       "    .dataframe thead th {\n",
       "        text-align: right;\n",
       "    }\n",
       "</style>\n",
       "<table border=\"1\" class=\"dataframe\">\n",
       "  <thead>\n",
       "    <tr style=\"text-align: right;\">\n",
       "      <th></th>\n",
       "      <th>user_id</th>\n",
       "      <th>total_orders</th>\n",
       "      <th>mean_products</th>\n",
       "      <th>max_products</th>\n",
       "      <th>std_num_products</th>\n",
       "      <th>mean_lag_between_orders</th>\n",
       "      <th>std_lag_between_orders</th>\n",
       "      <th>mean_reorder_rate</th>\n",
       "      <th>mean_weekend_order_rate</th>\n",
       "      <th>mean_order_dow</th>\n",
       "      <th>top_order_dow</th>\n",
       "      <th>order_dow_variety</th>\n",
       "      <th>top_order_hour</th>\n",
       "      <th>order_hour_variety</th>\n",
       "      <th>std_order_hour</th>\n",
       "      <th>mean_peak_time_of_day_rate</th>\n",
       "      <th>top_order_time_of_day_enc</th>\n",
       "      <th>order_time_of_day_enc_variety</th>\n",
       "    </tr>\n",
       "  </thead>\n",
       "  <tbody>\n",
       "    <tr>\n",
       "      <th>0</th>\n",
       "      <td>1</td>\n",
       "      <td>10</td>\n",
       "      <td>6.254237</td>\n",
       "      <td>9</td>\n",
       "      <td>1.582155</td>\n",
       "      <td>20.259259</td>\n",
       "      <td>9.304463</td>\n",
       "      <td>0.694915</td>\n",
       "      <td>0.000000</td>\n",
       "      <td>2.644068</td>\n",
       "      <td>4</td>\n",
       "      <td>4</td>\n",
       "      <td>7</td>\n",
       "      <td>7</td>\n",
       "      <td>3.500355</td>\n",
       "      <td>1.000000</td>\n",
       "      <td>1.570796</td>\n",
       "      <td>2</td>\n",
       "    </tr>\n",
       "    <tr>\n",
       "      <th>1</th>\n",
       "      <td>2</td>\n",
       "      <td>14</td>\n",
       "      <td>16.107692</td>\n",
       "      <td>26</td>\n",
       "      <td>5.469097</td>\n",
       "      <td>15.967033</td>\n",
       "      <td>9.119769</td>\n",
       "      <td>0.476923</td>\n",
       "      <td>0.030769</td>\n",
       "      <td>2.005128</td>\n",
       "      <td>2</td>\n",
       "      <td>5</td>\n",
       "      <td>9</td>\n",
       "      <td>5</td>\n",
       "      <td>1.649854</td>\n",
       "      <td>1.000000</td>\n",
       "      <td>1.570796</td>\n",
       "      <td>2</td>\n",
       "    </tr>\n",
       "    <tr>\n",
       "      <th>2</th>\n",
       "      <td>3</td>\n",
       "      <td>12</td>\n",
       "      <td>7.886364</td>\n",
       "      <td>11</td>\n",
       "      <td>2.042265</td>\n",
       "      <td>11.487179</td>\n",
       "      <td>4.869048</td>\n",
       "      <td>0.625000</td>\n",
       "      <td>0.000000</td>\n",
       "      <td>1.011364</td>\n",
       "      <td>0</td>\n",
       "      <td>4</td>\n",
       "      <td>16</td>\n",
       "      <td>6</td>\n",
       "      <td>1.454599</td>\n",
       "      <td>0.568182</td>\n",
       "      <td>3.141593</td>\n",
       "      <td>2</td>\n",
       "    </tr>\n",
       "    <tr>\n",
       "      <th>3</th>\n",
       "      <td>4</td>\n",
       "      <td>5</td>\n",
       "      <td>4.555556</td>\n",
       "      <td>7</td>\n",
       "      <td>2.120550</td>\n",
       "      <td>15.357143</td>\n",
       "      <td>8.580901</td>\n",
       "      <td>0.055556</td>\n",
       "      <td>0.500000</td>\n",
       "      <td>4.722222</td>\n",
       "      <td>4</td>\n",
       "      <td>3</td>\n",
       "      <td>15</td>\n",
       "      <td>3</td>\n",
       "      <td>1.745208</td>\n",
       "      <td>1.000000</td>\n",
       "      <td>3.141593</td>\n",
       "      <td>2</td>\n",
       "    </tr>\n",
       "    <tr>\n",
       "      <th>4</th>\n",
       "      <td>5</td>\n",
       "      <td>4</td>\n",
       "      <td>10.027027</td>\n",
       "      <td>12</td>\n",
       "      <td>2.315245</td>\n",
       "      <td>14.500000</td>\n",
       "      <td>4.263801</td>\n",
       "      <td>0.378378</td>\n",
       "      <td>0.000000</td>\n",
       "      <td>1.621622</td>\n",
       "      <td>3</td>\n",
       "      <td>3</td>\n",
       "      <td>18</td>\n",
       "      <td>3</td>\n",
       "      <td>2.588958</td>\n",
       "      <td>0.540541</td>\n",
       "      <td>3.141593</td>\n",
       "      <td>2</td>\n",
       "    </tr>\n",
       "  </tbody>\n",
       "</table>\n",
       "</div>"
      ],
      "text/plain": [
       "   user_id  total_orders  mean_products  max_products  std_num_products  \\\n",
       "0        1            10       6.254237             9          1.582155   \n",
       "1        2            14      16.107692            26          5.469097   \n",
       "2        3            12       7.886364            11          2.042265   \n",
       "3        4             5       4.555556             7          2.120550   \n",
       "4        5             4      10.027027            12          2.315245   \n",
       "\n",
       "   mean_lag_between_orders  std_lag_between_orders  mean_reorder_rate  \\\n",
       "0                20.259259                9.304463           0.694915   \n",
       "1                15.967033                9.119769           0.476923   \n",
       "2                11.487179                4.869048           0.625000   \n",
       "3                15.357143                8.580901           0.055556   \n",
       "4                14.500000                4.263801           0.378378   \n",
       "\n",
       "   mean_weekend_order_rate  mean_order_dow  top_order_dow  order_dow_variety  \\\n",
       "0                 0.000000        2.644068              4                  4   \n",
       "1                 0.030769        2.005128              2                  5   \n",
       "2                 0.000000        1.011364              0                  4   \n",
       "3                 0.500000        4.722222              4                  3   \n",
       "4                 0.000000        1.621622              3                  3   \n",
       "\n",
       "   top_order_hour  order_hour_variety  std_order_hour  \\\n",
       "0               7                   7        3.500355   \n",
       "1               9                   5        1.649854   \n",
       "2              16                   6        1.454599   \n",
       "3              15                   3        1.745208   \n",
       "4              18                   3        2.588958   \n",
       "\n",
       "   mean_peak_time_of_day_rate  top_order_time_of_day_enc  \\\n",
       "0                    1.000000                   1.570796   \n",
       "1                    1.000000                   1.570796   \n",
       "2                    0.568182                   3.141593   \n",
       "3                    1.000000                   3.141593   \n",
       "4                    0.540541                   3.141593   \n",
       "\n",
       "   order_time_of_day_enc_variety  \n",
       "0                              2  \n",
       "1                              2  \n",
       "2                              2  \n",
       "3                              2  \n",
       "4                              2  "
      ]
     },
     "execution_count": 12,
     "metadata": {},
     "output_type": "execute_result"
    }
   ],
   "source": [
    "# Drop product_id column and get unique values per order_id\n",
    "distinct_orders = data.drop(columns=['product_id']).drop_duplicates()\n",
    "\n",
    "# Group by user_id and aggregate features using named aggregations\n",
    "user_agg = distinct_orders.groupby('user_id').agg(\n",
    "    total_orders=('order_number', 'max'),  # Total number of orders\n",
    "    mean_products=('num_products', 'mean'),  # mean products purchased\n",
    "    max_products=('num_products', 'max'),  # max products ever purchased\n",
    "    std_num_products=('num_products', 'std'),  # std products purchased\n",
    "    mean_lag_between_orders=('days_since_prior_order', 'mean'),\n",
    "    std_lag_between_orders=('days_since_prior_order', 'std'),\n",
    "    mean_reorder_rate=('reorder_rate', 'mean'),\n",
    "    mean_weekend_order_rate=('is_weekend', 'mean'),\n",
    "    mean_order_dow=('order_dow', 'mean'),\n",
    "    top_order_dow=('order_dow', lambda x: x.mode()[0]),\n",
    "    order_dow_variety=('order_dow', lambda x: x.nunique()),\n",
    "    top_order_hour=('order_hour_of_day', lambda x: x.mode()[0]),\n",
    "    order_hour_variety=('order_hour_of_day', lambda x: x.nunique()),\n",
    "    std_order_hour=('order_hour_of_day', 'std'),\n",
    "    mean_peak_time_of_day_rate=('is_peak_time_of_day', 'mean'),\n",
    "    top_order_time_of_day_enc=('order_time_of_day_enc', lambda x: x.mode()[0]),\n",
    "    order_time_of_day_enc_variety=('order_time_of_day_enc', lambda x: x.nunique()),\n",
    "\n",
    "\n",
    ").reset_index()\n",
    "\n",
    "# Handle NaN values (if needed)\n",
    "user_agg = user_agg.fillna(0)  # or user_agg.dropna()\n",
    "\n",
    "user_agg.head()"
   ]
  },
  {
   "cell_type": "markdown",
   "metadata": {},
   "source": [
    "# enrich main order product dataframe"
   ]
  },
  {
   "cell_type": "code",
   "execution_count": 13,
   "metadata": {},
   "outputs": [],
   "source": [
    "\n",
    "\n",
    "enriched_data = enrich_instacart_df(data)\n",
    "\n",
    "            "
   ]
  },
  {
   "cell_type": "markdown",
   "metadata": {},
   "source": [
    "# Final df to csv"
   ]
  },
  {
   "cell_type": "code",
   "execution_count": 14,
   "metadata": {},
   "outputs": [],
   "source": [
    "if test_data==False:\n",
    "    \n",
    "    data.to_csv('data/instacart_pre_proc.csv',index=False)\n",
    "\n",
    "    user_agg.to_csv('data/instacart_user_pre_proc.csv',index=False)"
   ]
  },
  {
   "cell_type": "markdown",
   "metadata": {},
   "source": [
    "## sample df to csv"
   ]
  },
  {
   "cell_type": "code",
   "execution_count": null,
   "metadata": {},
   "outputs": [],
   "source": [
    "# Apply the sampling to each group 20%\n",
    "sample=0.10"
   ]
  },
  {
   "cell_type": "code",
   "execution_count": null,
   "metadata": {},
   "outputs": [],
   "source": [
    "if test_data==False:\n",
    "    \n",
    "    sample_data = sample_user_orders(data, fraction=0.2)\n",
    "\n",
    "    sample_data.to_csv('data/instacart_pre_proc_sample.csv',index=False)\n"
   ]
  },
  {
   "cell_type": "code",
   "execution_count": 19,
   "metadata": {},
   "outputs": [],
   "source": [
    "if test_data==False:\n",
    "    \n",
    "    users_df_sample=user_agg.sample(frac=0.5)\n",
    "    \n",
    "    users_df_sample.to_csv('data/instacart_user_pre_proc_sample.csv',index=False)\n"
   ]
  }
 ],
 "metadata": {
  "kernelspec": {
   "display_name": "base",
   "language": "python",
   "name": "python3"
  },
  "language_info": {
   "codemirror_mode": {
    "name": "ipython",
    "version": 3
   },
   "file_extension": ".py",
   "mimetype": "text/x-python",
   "name": "python",
   "nbconvert_exporter": "python",
   "pygments_lexer": "ipython3",
   "version": "3.12.4"
  }
 },
 "nbformat": 4,
 "nbformat_minor": 2
}
