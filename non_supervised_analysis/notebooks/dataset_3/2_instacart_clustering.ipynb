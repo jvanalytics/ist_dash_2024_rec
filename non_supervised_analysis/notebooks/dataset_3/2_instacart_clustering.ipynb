{
 "cells": [
  {
   "cell_type": "markdown",
   "metadata": {},
   "source": [
    "# Profiling and Analysis Questions\n",
    "\n",
    "- Do users purchase different products at different time of day?\n",
    "- What clusters of aisle purchase standout?\n",
    "- Do users who reorder have different behaviour? \n",
    "- does the behaviour change per number of order (eg.: min vs median, etc)\n",
    "- do users purchase differently depending on days or weeks since last purchase?\n",
    "- do users purchase differently on the weekends vs weekday?\n",
    "- What is the top product/aisle purchased first or last per order?\n",
    "- Reordered is per product. what products are most reordered by users?\n",
    "- how many orders per user_id? \n",
    "\n",
    "## Aggregations\n",
    "- days/weeks since last order\n",
    "- number of orders (better to consider order number instead of count of order_id due to incomplete customer history)\n",
    "- number of users who reordered\n",
    "- orders per time of day (numeric or discrete count)\n"
   ]
  },
  {
   "cell_type": "markdown",
   "metadata": {},
   "source": [
    "# File and libraries"
   ]
  },
  {
   "cell_type": "code",
   "execution_count": 45,
   "metadata": {},
   "outputs": [],
   "source": [
    "import pandas as pd\n",
    "import numpy as np\n",
    "\n",
    "\n",
    "filepath=r'data\\instacart_pre_proc.csv'\n",
    "\n",
    "file_tag = \"Instacart Market Basket\"\n"
   ]
  },
  {
   "cell_type": "markdown",
   "metadata": {},
   "source": [
    "## DSLabs"
   ]
  },
  {
   "cell_type": "code",
   "execution_count": 46,
   "metadata": {},
   "outputs": [],
   "source": [
    "%run \"scripts/dslabs_functions.py\""
   ]
  },
  {
   "cell_type": "markdown",
   "metadata": {},
   "source": [
    "# data functions"
   ]
  },
  {
   "cell_type": "code",
   "execution_count": 47,
   "metadata": {},
   "outputs": [
    {
     "name": "stdout",
     "output_type": "stream",
     "text": [
      "data_functions lodaded\n"
     ]
    }
   ],
   "source": [
    "%run \"scripts/data_functions.py\"\n"
   ]
  },
  {
   "cell_type": "markdown",
   "metadata": {},
   "source": [
    "# Load"
   ]
  },
  {
   "cell_type": "code",
   "execution_count": 48,
   "metadata": {},
   "outputs": [
    {
     "name": "stdout",
     "output_type": "stream",
     "text": [
      "<class 'pandas.core.frame.DataFrame'>\n",
      "Index: 32430 entries, 891580 to 2807757\n",
      "Data columns (total 12 columns):\n",
      " #   Column                   Non-Null Count  Dtype  \n",
      "---  ------                   --------------  -----  \n",
      " 0   order_id                 32430 non-null  int64  \n",
      " 1   product_id               32430 non-null  int64  \n",
      " 2   add_to_cart_order        32430 non-null  int64  \n",
      " 3   reordered                32430 non-null  int64  \n",
      " 4   user_id                  32430 non-null  int64  \n",
      " 5   order_number             32430 non-null  int64  \n",
      " 6   order_dow                32430 non-null  int64  \n",
      " 7   order_hour_of_day        32430 non-null  int64  \n",
      " 8   days_since_prior_order   30327 non-null  float64\n",
      " 9   order_time_of_day        32430 non-null  object \n",
      " 10  is_weekend               32430 non-null  int64  \n",
      " 11  weeks_since_prior_order  30327 non-null  float64\n",
      "dtypes: float64(2), int64(9), object(1)\n",
      "memory usage: 3.2+ MB\n"
     ]
    }
   ],
   "source": [
    "test_data=True\n",
    "# test_data=False\n",
    "\n",
    "if test_data==True:\n",
    "\n",
    "    data=pd.read_csv(filepath)\n",
    "\n",
    "    # 5% sample\n",
    "    data=data.sample(frac=0.01, replace=False)\n",
    "\n",
    "    # sampled data to use in heavy analysis scripts like sparsity\n",
    "    sampled_data=data.sample(frac=0.25, replace=False)\n",
    "\n",
    "\n",
    "else:\n",
    "    data=pd.read_csv(filepath)\n",
    "    \n",
    "    # sampled data to use in heavy analysis scripts like sparsity\n",
    "    sampled_data=data.sample(frac=0.01, replace=False)\n",
    "\n",
    "\n",
    "\n",
    "# data=enrich_instacart_df(data)\n",
    "\n",
    "\n",
    "\n",
    "data.info()"
   ]
  },
  {
   "cell_type": "markdown",
   "metadata": {},
   "source": [
    "## variable type definition"
   ]
  },
  {
   "cell_type": "code",
   "execution_count": 49,
   "metadata": {},
   "outputs": [
    {
     "name": "stdout",
     "output_type": "stream",
     "text": [
      "{'numeric': ['add_to_cart_order', 'order_number', 'order_dow', 'order_hour_of_day', 'days_since_prior_order', 'weeks_since_prior_order'], 'binary': ['reordered', 'is_weekend'], 'date': [], 'symbolic': ['order_time_of_day'], 'id': ['order_id', 'product_id', 'user_id']}\n"
     ]
    }
   ],
   "source": [
    "from pandas import Series, to_numeric, to_datetime\n",
    "\n",
    "\n",
    "id_cols=['order_id', 'product_id', 'user_id','aisle_id','department_id']\n",
    "# data=data.drop(columns=id_cols, axis=1)\n",
    "\n",
    "\n",
    "def get_variable_types(df: DataFrame) -> dict[str, list]:\n",
    "    variable_types: dict = {\"numeric\": [], \"binary\": [], \"date\": [], \"symbolic\": [], \"id\": []}\n",
    "\n",
    "    nr_values: Series = df.nunique(axis=0, dropna=True)\n",
    "    for c in df.columns:\n",
    "        if 2 == nr_values[c]:\n",
    "            variable_types[\"binary\"].append(c)\n",
    "            df[c].astype(\"bool\")\n",
    "        elif c in id_cols:\n",
    "            variable_types[\"id\"].append(c)\n",
    "        else:\n",
    "            try:\n",
    "                to_numeric(df[c], errors=\"raise\")\n",
    "                variable_types[\"numeric\"].append(c)\n",
    "            except ValueError:\n",
    "                try:\n",
    "                    df[c] = to_datetime(df[c], errors=\"raise\")\n",
    "                    variable_types[\"date\"].append(c)\n",
    "                except ValueError:\n",
    "                    variable_types[\"symbolic\"].append(c)\n",
    "\n",
    "    return variable_types\n",
    "\n",
    "\n",
    "variable_types: dict[str, list] = get_variable_types(data)\n",
    "print(variable_types)"
   ]
  },
  {
   "cell_type": "markdown",
   "metadata": {},
   "source": [
    "## drop nulls"
   ]
  },
  {
   "cell_type": "code",
   "execution_count": 50,
   "metadata": {},
   "outputs": [],
   "source": [
    "# drop any null values\n",
    "data=data.dropna()"
   ]
  },
  {
   "cell_type": "markdown",
   "metadata": {},
   "source": [
    "# K means clustering\n",
    "https://web.ist.utl.pt/rmch/dash/guides/Clustering%20in%20Python.html"
   ]
  },
  {
   "cell_type": "code",
   "execution_count": 51,
   "metadata": {},
   "outputs": [
    {
     "data": {
      "text/html": [
       "<div>\n",
       "<style scoped>\n",
       "    .dataframe tbody tr th:only-of-type {\n",
       "        vertical-align: middle;\n",
       "    }\n",
       "\n",
       "    .dataframe tbody tr th {\n",
       "        vertical-align: top;\n",
       "    }\n",
       "\n",
       "    .dataframe thead th {\n",
       "        text-align: right;\n",
       "    }\n",
       "</style>\n",
       "<table border=\"1\" class=\"dataframe\">\n",
       "  <thead>\n",
       "    <tr style=\"text-align: right;\">\n",
       "      <th></th>\n",
       "      <th>add_to_cart_order</th>\n",
       "      <th>order_number</th>\n",
       "      <th>order_dow</th>\n",
       "      <th>order_hour_of_day</th>\n",
       "      <th>days_since_prior_order</th>\n",
       "      <th>weeks_since_prior_order</th>\n",
       "    </tr>\n",
       "  </thead>\n",
       "  <tbody>\n",
       "    <tr>\n",
       "      <th>count</th>\n",
       "      <td>30327.000000</td>\n",
       "      <td>30327.000000</td>\n",
       "      <td>30327.000000</td>\n",
       "      <td>30327.000000</td>\n",
       "      <td>30327.000000</td>\n",
       "      <td>30327.000000</td>\n",
       "    </tr>\n",
       "    <tr>\n",
       "      <th>mean</th>\n",
       "      <td>8.386191</td>\n",
       "      <td>18.274508</td>\n",
       "      <td>2.724767</td>\n",
       "      <td>13.440400</td>\n",
       "      <td>11.170541</td>\n",
       "      <td>1.568932</td>\n",
       "    </tr>\n",
       "    <tr>\n",
       "      <th>std</th>\n",
       "      <td>7.217965</td>\n",
       "      <td>17.721837</td>\n",
       "      <td>2.085171</td>\n",
       "      <td>4.261176</td>\n",
       "      <td>8.807780</td>\n",
       "      <td>1.229537</td>\n",
       "    </tr>\n",
       "    <tr>\n",
       "      <th>min</th>\n",
       "      <td>1.000000</td>\n",
       "      <td>2.000000</td>\n",
       "      <td>0.000000</td>\n",
       "      <td>0.000000</td>\n",
       "      <td>0.000000</td>\n",
       "      <td>0.000000</td>\n",
       "    </tr>\n",
       "    <tr>\n",
       "      <th>25%</th>\n",
       "      <td>3.000000</td>\n",
       "      <td>5.000000</td>\n",
       "      <td>1.000000</td>\n",
       "      <td>10.000000</td>\n",
       "      <td>5.000000</td>\n",
       "      <td>1.000000</td>\n",
       "    </tr>\n",
       "    <tr>\n",
       "      <th>50%</th>\n",
       "      <td>6.000000</td>\n",
       "      <td>12.000000</td>\n",
       "      <td>3.000000</td>\n",
       "      <td>13.000000</td>\n",
       "      <td>8.000000</td>\n",
       "      <td>1.000000</td>\n",
       "    </tr>\n",
       "    <tr>\n",
       "      <th>75%</th>\n",
       "      <td>12.000000</td>\n",
       "      <td>25.000000</td>\n",
       "      <td>5.000000</td>\n",
       "      <td>16.000000</td>\n",
       "      <td>15.000000</td>\n",
       "      <td>2.000000</td>\n",
       "    </tr>\n",
       "    <tr>\n",
       "      <th>max</th>\n",
       "      <td>95.000000</td>\n",
       "      <td>99.000000</td>\n",
       "      <td>6.000000</td>\n",
       "      <td>23.000000</td>\n",
       "      <td>30.000000</td>\n",
       "      <td>4.000000</td>\n",
       "    </tr>\n",
       "  </tbody>\n",
       "</table>\n",
       "</div>"
      ],
      "text/plain": [
       "       add_to_cart_order  order_number     order_dow  order_hour_of_day  \\\n",
       "count       30327.000000  30327.000000  30327.000000       30327.000000   \n",
       "mean            8.386191     18.274508      2.724767          13.440400   \n",
       "std             7.217965     17.721837      2.085171           4.261176   \n",
       "min             1.000000      2.000000      0.000000           0.000000   \n",
       "25%             3.000000      5.000000      1.000000          10.000000   \n",
       "50%             6.000000     12.000000      3.000000          13.000000   \n",
       "75%            12.000000     25.000000      5.000000          16.000000   \n",
       "max            95.000000     99.000000      6.000000          23.000000   \n",
       "\n",
       "       days_since_prior_order  weeks_since_prior_order  \n",
       "count            30327.000000             30327.000000  \n",
       "mean                11.170541                 1.568932  \n",
       "std                  8.807780                 1.229537  \n",
       "min                  0.000000                 0.000000  \n",
       "25%                  5.000000                 1.000000  \n",
       "50%                  8.000000                 1.000000  \n",
       "75%                 15.000000                 2.000000  \n",
       "max                 30.000000                 4.000000  "
      ]
     },
     "execution_count": 51,
     "metadata": {},
     "output_type": "execute_result"
    }
   ],
   "source": [
    "numeric: list[str] = variable_types[\"numeric\"]\n",
    "id_cols: list[str] = variable_types[\"id\"]\n",
    "binary: list[str] = variable_types[\"binary\"]\n",
    "\n",
    "# select columns that are numeric from list \"numeric\"\n",
    "\n",
    "X = data[numeric]\n",
    "y = data['reordered']\n",
    "X.describe()\n"
   ]
  },
  {
   "cell_type": "code",
   "execution_count": 52,
   "metadata": {},
   "outputs": [],
   "source": [
    "from sklearn import cluster, mixture\n",
    "from sklearn.impute import SimpleImputer\n",
    "\n",
    "# Impute missing values with the mean of the column\n",
    "imputer = SimpleImputer(strategy='mean')\n",
    "X_imputed = imputer.fit_transform(X)\n",
    "\n",
    "kmeans_algo = cluster.KMeans(n_clusters=3, random_state=1)\n",
    "kmeans_model = kmeans_algo.fit(X_imputed)"
   ]
  },
  {
   "cell_type": "code",
   "execution_count": 53,
   "metadata": {},
   "outputs": [
    {
     "data": {
      "text/html": [
       "<div>\n",
       "<style scoped>\n",
       "    .dataframe tbody tr th:only-of-type {\n",
       "        vertical-align: middle;\n",
       "    }\n",
       "\n",
       "    .dataframe tbody tr th {\n",
       "        vertical-align: top;\n",
       "    }\n",
       "\n",
       "    .dataframe thead th {\n",
       "        text-align: right;\n",
       "    }\n",
       "</style>\n",
       "<table border=\"1\" class=\"dataframe\">\n",
       "  <thead>\n",
       "    <tr style=\"text-align: right;\">\n",
       "      <th></th>\n",
       "      <th>add_to_cart_order</th>\n",
       "      <th>order_number</th>\n",
       "      <th>order_dow</th>\n",
       "      <th>order_hour_of_day</th>\n",
       "      <th>days_since_prior_order</th>\n",
       "      <th>weeks_since_prior_order</th>\n",
       "    </tr>\n",
       "  </thead>\n",
       "  <tbody>\n",
       "    <tr>\n",
       "      <th>0</th>\n",
       "      <td>8.267939</td>\n",
       "      <td>12.622019</td>\n",
       "      <td>2.725176</td>\n",
       "      <td>13.490373</td>\n",
       "      <td>7.487406</td>\n",
       "      <td>1.076234</td>\n",
       "    </tr>\n",
       "    <tr>\n",
       "      <th>1</th>\n",
       "      <td>8.248506</td>\n",
       "      <td>48.837786</td>\n",
       "      <td>2.806327</td>\n",
       "      <td>13.179262</td>\n",
       "      <td>5.797012</td>\n",
       "      <td>0.821968</td>\n",
       "    </tr>\n",
       "    <tr>\n",
       "      <th>2</th>\n",
       "      <td>8.813912</td>\n",
       "      <td>7.505391</td>\n",
       "      <td>2.655147</td>\n",
       "      <td>13.527987</td>\n",
       "      <td>25.404519</td>\n",
       "      <td>3.496677</td>\n",
       "    </tr>\n",
       "  </tbody>\n",
       "</table>\n",
       "</div>"
      ],
      "text/plain": [
       "   add_to_cart_order  order_number  order_dow  order_hour_of_day  \\\n",
       "0           8.267939     12.622019   2.725176          13.490373   \n",
       "1           8.248506     48.837786   2.806327          13.179262   \n",
       "2           8.813912      7.505391   2.655147          13.527987   \n",
       "\n",
       "   days_since_prior_order  weeks_since_prior_order  \n",
       "0                7.487406                 1.076234  \n",
       "1                5.797012                 0.821968  \n",
       "2               25.404519                 3.496677  "
      ]
     },
     "execution_count": 53,
     "metadata": {},
     "output_type": "execute_result"
    }
   ],
   "source": [
    "# describe centroids\n",
    "centroids = kmeans_model.cluster_centers_\n",
    "pd.DataFrame(data = centroids, columns = X.columns)"
   ]
  },
  {
   "cell_type": "code",
   "execution_count": 54,
   "metadata": {},
   "outputs": [
    {
     "data": {
      "text/plain": [
       "array([0, 0, 2, ..., 2, 0, 0])"
      ]
     },
     "execution_count": 54,
     "metadata": {},
     "output_type": "execute_result"
    }
   ],
   "source": [
    "kmeans_model.labels_\n"
   ]
  },
  {
   "cell_type": "code",
   "execution_count": 55,
   "metadata": {},
   "outputs": [
    {
     "data": {
      "text/plain": [
       "891580     1\n",
       "613197     0\n",
       "685332     1\n",
       "58499      0\n",
       "2733383    0\n",
       "          ..\n",
       "2466178    0\n",
       "1476529    0\n",
       "926796     0\n",
       "2408940    1\n",
       "2807757    0\n",
       "Name: reordered, Length: 30327, dtype: int64"
      ]
     },
     "execution_count": 55,
     "metadata": {},
     "output_type": "execute_result"
    }
   ],
   "source": [
    "y #compare against ground truth\n"
   ]
  },
  {
   "cell_type": "markdown",
   "metadata": {},
   "source": []
  },
  {
   "cell_type": "code",
   "execution_count": 56,
   "metadata": {},
   "outputs": [],
   "source": [
    "from sklearn.metrics import pairwise_distances\n",
    "\n",
    "def mydistance(x1, x2):\n",
    "    res = 0.0001\n",
    "    for j, weight in enumerate([1,2,3,1]):\n",
    "        res += weight*abs(x1[j]-x2[j])\n",
    "    return res\n",
    "\n",
    "def sim_affinity(X):\n",
    "    return pairwise_distances(X, metric=mydistance)"
   ]
  },
  {
   "cell_type": "code",
   "execution_count": 57,
   "metadata": {},
   "outputs": [
    {
     "data": {
      "text/plain": [
       "array([0, 0, 0, ..., 0, 0, 0], dtype=int64)"
      ]
     },
     "execution_count": 57,
     "metadata": {},
     "output_type": "execute_result"
    }
   ],
   "source": [
    "hier_algo = cluster.AgglomerativeClustering(n_clusters=3, metric=sim_affinity, linkage='average')\n",
    "hier_model = hier_algo.fit(X)\n",
    "hier_model.labels_"
   ]
  },
  {
   "cell_type": "code",
   "execution_count": 58,
   "metadata": {},
   "outputs": [
    {
     "name": "stdout",
     "output_type": "stream",
     "text": [
      "Silhouette: 0.334848199376882\n",
      "Silhouette per instance:\n",
      " [0.43518857 0.18688657 0.15389771 0.47108309 0.497626  ] ...\n",
      "Sum of squared distances: 5700639.289983627\n"
     ]
    }
   ],
   "source": [
    "from sklearn import metrics\n",
    "y_pred = kmeans_model.labels_\n",
    "print(\"Silhouette:\",metrics.silhouette_score(X, y_pred))\n",
    "print(\"Silhouette per instance:\\n\",metrics.silhouette_samples(X, y_pred)[:5],\"...\")\n",
    "print(\"Sum of squared distances:\",kmeans_model.inertia_)"
   ]
  },
  {
   "cell_type": "code",
   "execution_count": 62,
   "metadata": {},
   "outputs": [
    {
     "name": "stdout",
     "output_type": "stream",
     "text": [
      "Purity: 0.6295710093316187\n",
      "Adjusted rand index: 0.011105327450333097\n"
     ]
    }
   ],
   "source": [
    "def purity_score(y_true, y_pred):\n",
    "    confusion_matrix = metrics.cluster.contingency_matrix(y_true, y_pred)\n",
    "    return np.sum(np.amax(confusion_matrix, axis=0)) / np.sum(confusion_matrix) \n",
    "\n",
    "print(\"Purity:\",purity_score(y, y_pred))\n",
    "print(\"Adjusted rand index:\",metrics.adjusted_rand_score(y, y_pred))"
   ]
  },
  {
   "cell_type": "code",
   "execution_count": null,
   "metadata": {},
   "outputs": [],
   "source": [
    "import matplotlib.pyplot as plt\n",
    "plt.figure(figsize=(20, 4))\n",
    "n_samples = 1500\n",
    "random_state = 170\n",
    "\n",
    "# Incorrect number of clusters\n",
    "X_blobs, y_blobs = data.make_blobs(n_samples=n_samples, random_state=random_state)\n",
    "y_pred_blobs = cluster.KMeans(n_clusters=2, random_state=random_state).fit_predict(X_blobs)\n",
    "plt.subplot(141)\n",
    "plt.scatter(X_blobs[:, 0], X_blobs[:, 1], c=y_pred_blobs)\n",
    "plt.title(\"Incorrect Number of Blobs\")\n",
    "\n",
    "# Anisotropicly distributed data\n",
    "transformation = [[0.60834549, -0.63667341], [-0.40887718, 0.85253229]]\n",
    "X_aniso, y_aniso = np.dot(X_blobs, transformation), y_blobs\n",
    "y_pred_aniso = cluster.KMeans(n_clusters=3, random_state=random_state).fit_predict(X_aniso)\n",
    "plt.subplot(142)\n",
    "plt.scatter(X_aniso[:, 0], X_aniso[:, 1], c=y_pred_aniso)\n",
    "plt.title(\"Anisotropicly Distributed Blobs\")\n",
    "\n",
    "# Different variance\n",
    "X_varied, y_varied = data.make_blobs(n_samples=n_samples,cluster_std=[1.0, 2.5, 0.5],random_state=random_state)\n",
    "y_pred_varied = cluster.KMeans(n_clusters=3, random_state=random_state).fit_predict(X_varied)\n",
    "plt.subplot(143)\n",
    "plt.scatter(X_varied[:, 0], X_varied[:, 1], c=y_pred_varied)\n",
    "plt.title(\"Unequal Variance\")\n",
    "\n",
    "# Unevenly sized blobs\n",
    "X_filtered = np.vstack((X[y == 0][:500], X[y == 1][:100], X[y == 2][:10]))\n",
    "y_pred_filtered = cluster.KMeans(n_clusters=3,random_state=random_state).fit_predict(X_filtered)\n",
    "plt.subplot(144)\n",
    "plt.scatter(X_filtered[:, 0], X_filtered[:, 1], c=y_pred_filtered)\n",
    "plt.title(\"Unevenly Sized Blobs\")\n",
    "plt.show()"
   ]
  }
 ],
 "metadata": {
  "kernelspec": {
   "display_name": "base",
   "language": "python",
   "name": "python3"
  },
  "language_info": {
   "codemirror_mode": {
    "name": "ipython",
    "version": 3
   },
   "file_extension": ".py",
   "mimetype": "text/x-python",
   "name": "python",
   "nbconvert_exporter": "python",
   "pygments_lexer": "ipython3",
   "version": "3.12.4"
  }
 },
 "nbformat": 4,
 "nbformat_minor": 2
}
