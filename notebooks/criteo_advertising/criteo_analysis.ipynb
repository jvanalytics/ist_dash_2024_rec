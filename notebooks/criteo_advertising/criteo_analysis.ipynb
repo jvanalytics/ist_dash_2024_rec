{
 "cells": [
  {
   "cell_type": "markdown",
   "metadata": {},
   "source": [
    "# Criteo"
   ]
  },
  {
   "cell_type": "code",
   "execution_count": 1,
   "metadata": {},
   "outputs": [],
   "source": [
    "import pandas as pd\n",
    "\n",
    "compressed_link='https://go.criteo.net/criteo-research-kaggle-display-advertising-challenge-dataset.tar.gz'\n",
    "\n",
    "filepath='train.txt'\n"
   ]
  },
  {
   "cell_type": "markdown",
   "metadata": {},
   "source": [
    "# Load and preview"
   ]
  },
  {
   "cell_type": "code",
   "execution_count": 2,
   "metadata": {},
   "outputs": [],
   "source": [
    "df=pd.read_csv(filepath, sep='\\t', header=None)"
   ]
  },
  {
   "cell_type": "code",
   "execution_count": 3,
   "metadata": {},
   "outputs": [
    {
     "data": {
      "text/plain": [
       "0            2\n",
       "1          648\n",
       "2         9364\n",
       "3        14745\n",
       "4          489\n",
       "5       476706\n",
       "6        11617\n",
       "7         4141\n",
       "8         1372\n",
       "9         7274\n",
       "10          12\n",
       "11         168\n",
       "12         406\n",
       "13        1375\n",
       "14        1460\n",
       "15         583\n",
       "16    10131226\n",
       "17     2202607\n",
       "18         305\n",
       "19          23\n",
       "20       12517\n",
       "21         633\n",
       "22           3\n",
       "23       93145\n",
       "24        5683\n",
       "25     8351592\n",
       "26        3194\n",
       "27          27\n",
       "28       14992\n",
       "29     5461305\n",
       "30          10\n",
       "31        5652\n",
       "32        2172\n",
       "33           3\n",
       "34     7046546\n",
       "35          17\n",
       "36          15\n",
       "37      286180\n",
       "38         104\n",
       "39      142571\n",
       "dtype: int64"
      ]
     },
     "execution_count": 3,
     "metadata": {},
     "output_type": "execute_result"
    }
   ],
   "source": [
    "df.nunique()"
   ]
  }
 ],
 "metadata": {
  "kernelspec": {
   "display_name": "base",
   "language": "python",
   "name": "python3"
  },
  "language_info": {
   "codemirror_mode": {
    "name": "ipython",
    "version": 3
   },
   "file_extension": ".py",
   "mimetype": "text/x-python",
   "name": "python",
   "nbconvert_exporter": "python",
   "pygments_lexer": "ipython3",
   "version": "3.12.3"
  }
 },
 "nbformat": 4,
 "nbformat_minor": 2
}
