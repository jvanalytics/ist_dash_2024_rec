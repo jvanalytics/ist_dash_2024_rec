{
 "cells": [
  {
   "cell_type": "markdown",
   "metadata": {},
   "source": [
    "# Criteo\n",
    "\n",
    "https://www.kaggle.com/competitions/criteo-display-ad-challenge/data"
   ]
  },
  {
   "cell_type": "code",
   "execution_count": 1,
   "metadata": {},
   "outputs": [],
   "source": [
    "import pandas as pd\n",
    "\n",
    "compressed_link='https://go.criteo.net/criteo-research-kaggle-display-advertising-challenge-dataset.tar.gz'\n",
    "\n",
    "filepath='test.txt'\n"
   ]
  },
  {
   "cell_type": "markdown",
   "metadata": {},
   "source": [
    "# Load and preview"
   ]
  },
  {
   "cell_type": "code",
   "execution_count": 2,
   "metadata": {},
   "outputs": [],
   "source": [
    "df=pd.read_csv(filepath, sep='\\t', header=None)"
   ]
  },
  {
   "cell_type": "code",
   "execution_count": null,
   "metadata": {},
   "outputs": [],
   "source": [
    "# Defining the column names\n",
    "column_names = ['Label'] + [f'I{i}' for i in range(1, 14)] + [f'C{i}' for i in range(1, 27)]\n",
    "\n",
    "# Assigning column names to the DataFrame\n",
    "df.columns = column_names"
   ]
  },
  {
   "cell_type": "code",
   "execution_count": 4,
   "metadata": {},
   "outputs": [
    {
     "data": {
      "text/plain": [
       "0         415\n",
       "1        6159\n",
       "2        5037\n",
       "3         215\n",
       "4      197664\n",
       "5        6422\n",
       "6        2550\n",
       "7         570\n",
       "8        4828\n",
       "9           9\n",
       "10        146\n",
       "11        267\n",
       "12        507\n",
       "13       1351\n",
       "14        554\n",
       "15    1654603\n",
       "16     496951\n",
       "17        280\n",
       "18         22\n",
       "19      11815\n",
       "20        596\n",
       "21          3\n",
       "22      55575\n",
       "23       4852\n",
       "24    1426968\n",
       "25       3129\n",
       "26         27\n",
       "27      12147\n",
       "28    1029667\n",
       "29         10\n",
       "30       4866\n",
       "31       2076\n",
       "32          3\n",
       "33    1254818\n",
       "34         17\n",
       "35         14\n",
       "36     107745\n",
       "37         89\n",
       "38      69135\n",
       "dtype: int64"
      ]
     },
     "execution_count": 4,
     "metadata": {},
     "output_type": "execute_result"
    }
   ],
   "source": [
    "df.nunique()"
   ]
  },
  {
   "cell_type": "markdown",
   "metadata": {},
   "source": [
    "# polar load"
   ]
  },
  {
   "cell_type": "code",
   "execution_count": 2,
   "metadata": {},
   "outputs": [],
   "source": [
    "import polars as pl\n",
    "\n",
    "column_names = ['Label'] + [f'I{i}' for i in range(1, 14)] + [f'C{i}' for i in range(1, 27)]\n"
   ]
  },
  {
   "cell_type": "code",
   "execution_count": 4,
   "metadata": {},
   "outputs": [],
   "source": [
    "df_polars = pl.read_csv(filepath, new_columns=column_names)\n"
   ]
  }
 ],
 "metadata": {
  "kernelspec": {
   "display_name": "base",
   "language": "python",
   "name": "python3"
  },
  "language_info": {
   "codemirror_mode": {
    "name": "ipython",
    "version": 3
   },
   "file_extension": ".py",
   "mimetype": "text/x-python",
   "name": "python",
   "nbconvert_exporter": "python",
   "pygments_lexer": "ipython3",
   "version": "3.12.3"
  }
 },
 "nbformat": 4,
 "nbformat_minor": 2
}
