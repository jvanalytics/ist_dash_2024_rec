{
 "cells": [
  {
   "cell_type": "markdown",
   "metadata": {},
   "source": [
    "# Library Import and files"
   ]
  },
  {
   "cell_type": "code",
   "execution_count": 1,
   "metadata": {},
   "outputs": [],
   "source": [
    "import pandas as pd\n",
    "\n",
    "\n",
    "from datasets import load_dataset\n",
    "\n",
    "\n",
    "# try:\n",
    "#     # Try loading the cuDF Pandas extension\n",
    "#     %load_ext cudf.pandas\n",
    "#     import cudf as pd\n",
    "#     import subprocess\n",
    "#     subprocess.run([\"nvidia-smi\"], check=True, stdout=subprocess.PIPE, stderr=subprocess.PIPE)\n",
    "#     print(\"cuDF is available and a compatible GPU environment is detected.\")\n",
    "    \n",
    "\n",
    "# except (ImportError, subprocess.CalledProcessError):\n",
    "#     # cuDF is not available, fall back to pandas\n",
    "#     import pandas as pd\n",
    "#     print(\"cuDF is not available. Falling back to pandas.\")\n",
    "\n",
    "\n",
    "\n",
    "\n"
   ]
  },
  {
   "cell_type": "code",
   "execution_count": 2,
   "metadata": {},
   "outputs": [
    {
     "data": {
      "application/vnd.jupyter.widget-view+json": {
       "model_id": "805ac610cd31499ca2bf933d4df2acd7",
       "version_major": 2,
       "version_minor": 0
      },
      "text/plain": [
       "Downloading builder script:   0%|          | 0.00/39.6k [00:00<?, ?B/s]"
      ]
     },
     "metadata": {},
     "output_type": "display_data"
    },
    {
     "data": {
      "application/vnd.jupyter.widget-view+json": {
       "model_id": "f79ebb742a8e4aa98f1cfbd8aeae1a99",
       "version_major": 2,
       "version_minor": 0
      },
      "text/plain": [
       "Downloading readme:   0%|          | 0.00/19.7k [00:00<?, ?B/s]"
      ]
     },
     "metadata": {},
     "output_type": "display_data"
    },
    {
     "data": {
      "application/vnd.jupyter.widget-view+json": {
       "model_id": "ff5ec0cb64d04d01804a6980cf59d614",
       "version_major": 2,
       "version_minor": 0
      },
      "text/plain": [
       "Downloading data:   0%|          | 0.00/213M [00:00<?, ?B/s]"
      ]
     },
     "metadata": {},
     "output_type": "display_data"
    },
    {
     "data": {
      "application/vnd.jupyter.widget-view+json": {
       "model_id": "9e1d342884ee4df49f4879a0b22a06b9",
       "version_major": 2,
       "version_minor": 0
      },
      "text/plain": [
       "Generating full split: 0 examples [00:00, ? examples/s]"
      ]
     },
     "metadata": {},
     "output_type": "display_data"
    },
    {
     "name": "stdout",
     "output_type": "stream",
     "text": [
      "  main_category                                              title  \\\n",
      "0    All Beauty  Howard LC0008 Leather Conditioner, 8-Ounce (4-...   \n",
      "1    All Beauty  Yes to Tomatoes Detoxifying Charcoal Cleanser ...   \n",
      "2    All Beauty   Eye Patch Black Adult with Tie Band (6 Per Pack)   \n",
      "3    All Beauty  Tattoo Eyebrow Stickers, Waterproof Eyebrow, 4...   \n",
      "4    All Beauty  Precision Plunger Bars for Cartridge Grips – 9...   \n",
      "\n",
      "   average_rating  rating_number  \\\n",
      "0             4.8             10   \n",
      "1             4.5              3   \n",
      "2             4.4             26   \n",
      "3             3.1            102   \n",
      "4             4.3              7   \n",
      "\n",
      "                                            features  \\\n",
      "0                                                 []   \n",
      "1                                                 []   \n",
      "2                                                 []   \n",
      "3                                                 []   \n",
      "4  [Material: 304 Stainless Steel; Brass tip, Len...   \n",
      "\n",
      "                                         description price  \\\n",
      "0                                                 []  None   \n",
      "1                                                 []  None   \n",
      "2                                                 []  None   \n",
      "3                                                 []  None   \n",
      "4  [The Precision Plunger Bars are designed to wo...  None   \n",
      "\n",
      "                                              images  \\\n",
      "0  {'hi_res': [None, 'https://m.media-amazon.com/...   \n",
      "1  {'hi_res': ['https://m.media-amazon.com/images...   \n",
      "2  {'hi_res': [None, None], 'large': ['https://m....   \n",
      "3  {'hi_res': ['https://m.media-amazon.com/images...   \n",
      "4  {'hi_res': [None], 'large': ['https://m.media-...   \n",
      "\n",
      "                                    videos                   store categories  \\\n",
      "0  {'title': [], 'url': [], 'user_id': []}         Howard Products         []   \n",
      "1  {'title': [], 'url': [], 'user_id': []}                  Yes To         []   \n",
      "2  {'title': [], 'url': [], 'user_id': []}  Levine Health Products         []   \n",
      "3  {'title': [], 'url': [], 'user_id': []}                Cherioll         []   \n",
      "4  {'title': [], 'url': [], 'user_id': []}               Precision         []   \n",
      "\n",
      "                                             details parent_asin  \\\n",
      "0  {\"Package Dimensions\": \"7.1 x 5.5 x 3 inches; ...  B01CUPMQZE   \n",
      "1  {\"Item Form\": \"Powder\", \"Skin Type\": \"Acne Pro...  B076WQZGPM   \n",
      "2         {\"Manufacturer\": \"Levine Health Products\"}  B000B658RI   \n",
      "3  {\"Brand\": \"Cherioll\", \"Item Form\": \"Powder\", \"...  B088FKY3VD   \n",
      "4                            {\"UPC\": \"644287689178\"}  B07NGFDN6G   \n",
      "\n",
      "  bought_together subtitle author  \n",
      "0            None     None   None  \n",
      "1            None     None   None  \n",
      "2            None     None   None  \n",
      "3            None     None   None  \n",
      "4            None     None   None  \n"
     ]
    }
   ],
   "source": [
    "ds = load_dataset(\"McAuley-Lab/Amazon-Reviews-2023\", \"raw_meta_All_Beauty\", split=\"full\", trust_remote_code=True)\n",
    "\n",
    "df = ds.to_pandas() \n",
    "print(df.head())"
   ]
  },
  {
   "cell_type": "code",
   "execution_count": null,
   "metadata": {},
   "outputs": [],
   "source": [
    "\n",
    "meta_file_path='meta_Automotive.jsonl'\n",
    "\n",
    "meta_df = pd.read_json(meta_file_path, lines=True)\n",
    "\n",
    "print(meta_df.head())\n",
    "print(meta_df.info())\n",
    "\n",
    "\n"
   ]
  },
  {
   "cell_type": "code",
   "execution_count": null,
   "metadata": {},
   "outputs": [],
   "source": [
    "review_file_path='Automotive.jsonl'\n",
    "\n",
    "review_df = pd.read_json(review_file_path)\n",
    "\n",
    "print(review_df.head())\n",
    "print(review_df.info())\n"
   ]
  },
  {
   "cell_type": "code",
   "execution_count": null,
   "metadata": {},
   "outputs": [],
   "source": []
  }
 ],
 "metadata": {
  "kernelspec": {
   "display_name": "Python 3 (ipykernel)",
   "language": "python",
   "name": "python3"
  },
  "language_info": {
   "codemirror_mode": {
    "name": "ipython",
    "version": 3
   },
   "file_extension": ".py",
   "mimetype": "text/x-python",
   "name": "python",
   "nbconvert_exporter": "python",
   "pygments_lexer": "ipython3",
   "version": "3.12.3"
  }
 },
 "nbformat": 4,
 "nbformat_minor": 2
}
