{
 "cells": [
  {
   "cell_type": "markdown",
   "metadata": {},
   "source": [
    "# File and libraries"
   ]
  },
  {
   "cell_type": "code",
   "execution_count": 12,
   "metadata": {},
   "outputs": [],
   "source": [
    "import pandas as pd\n",
    "import numpy as np\n",
    "from sklearn.model_selection import train_test_split\n",
    "\n",
    "filepath=r'dataset/df_msg_feat_eng_input'\n",
    "\n",
    "file_tag = \"df_msg_feat_eng_input\""
   ]
  },
  {
   "cell_type": "markdown",
   "metadata": {},
   "source": [
    "# DSLabs functions"
   ]
  },
  {
   "cell_type": "code",
   "execution_count": 13,
   "metadata": {},
   "outputs": [
    {
     "name": "stdout",
     "output_type": "stream",
     "text": [
      "dslabs lodaded\n"
     ]
    }
   ],
   "source": [
    "%run \"scripts/dslabs_functions.py\"\n"
   ]
  },
  {
   "cell_type": "markdown",
   "metadata": {},
   "source": [
    "# Data functions"
   ]
  },
  {
   "cell_type": "code",
   "execution_count": 14,
   "metadata": {},
   "outputs": [
    {
     "name": "stdout",
     "output_type": "stream",
     "text": [
      "data_functions lodaded\n"
     ]
    }
   ],
   "source": [
    "%run \"scripts/data_functions.py\"\n"
   ]
  },
  {
   "cell_type": "markdown",
   "metadata": {},
   "source": [
    "# Load"
   ]
  },
  {
   "cell_type": "code",
   "execution_count": 15,
   "metadata": {},
   "outputs": [
    {
     "name": "stdout",
     "output_type": "stream",
     "text": [
      "<class 'pandas.core.frame.DataFrame'>\n",
      "Index: 39618 entries, 68737 to 792285\n",
      "Data columns (total 42 columns):\n",
      " #   Column                                   Non-Null Count  Dtype  \n",
      "---  ------                                   --------------  -----  \n",
      " 0   platform                                 39618 non-null  float64\n",
      " 1   email_provider                           39618 non-null  float64\n",
      " 2   campaign_type                            39618 non-null  float64\n",
      " 3   channel_cmp                              39618 non-null  float64\n",
      " 4   topic                                    39618 non-null  float64\n",
      " 5   total_count                              39618 non-null  float64\n",
      " 6   subject_length                           39618 non-null  float64\n",
      " 7   day_of_year                              39618 non-null  float64\n",
      " 8   month                                    39618 non-null  float64\n",
      " 9   days_diff_opened_first_time_at_sent_at   39618 non-null  float64\n",
      " 10  days_diff_clicked_first_time_at_sent_at  39618 non-null  float64\n",
      " 11  days_diff_unsubscribed_at_sent_at        39618 non-null  float64\n",
      " 12  days_diff_complained_at_sent_at          39618 non-null  float64\n",
      " 13  days_diff_purchased_at_sent_at           39618 non-null  float64\n",
      " 14  days_diff_first_purchase_date_sent_at    39618 non-null  float64\n",
      " 15  hour_sin                                 39618 non-null  float64\n",
      " 16  hour_cos                                 39618 non-null  float64\n",
      " 17  min_sin                                  39618 non-null  float64\n",
      " 18  min_cos                                  39618 non-null  float64\n",
      " 19  day_of_month_sin                         39618 non-null  float64\n",
      " 20  day_of_month_cos                         39618 non-null  float64\n",
      " 21  day_of_week_nr_sin                       39618 non-null  float64\n",
      " 22  day_of_week_nr_cos                       39618 non-null  float64\n",
      " 23  week_of_month_sin                        39618 non-null  float64\n",
      " 24  week_of_month_cos                        39618 non-null  float64\n",
      " 25  channel_msg                              39618 non-null  float64\n",
      " 26  is_opened                                39618 non-null  float64\n",
      " 27  is_clicked                               39618 non-null  float64\n",
      " 28  is_hard_bounced                          39618 non-null  float64\n",
      " 29  is_soft_bounced                          39618 non-null  float64\n",
      " 30  is_complained                            39618 non-null  float64\n",
      " 31  is_purchased                             39618 non-null  float64\n",
      " 32  subject_with_personalization             39618 non-null  float64\n",
      " 33  subject_with_deadline                    39618 non-null  float64\n",
      " 34  subject_with_emoji                       39618 non-null  float64\n",
      " 35  subject_with_bonuses                     39618 non-null  float64\n",
      " 36  subject_with_discount                    39618 non-null  float64\n",
      " 37  subject_with_saleout                     39618 non-null  float64\n",
      " 38  is_weekend                               39618 non-null  float64\n",
      " 39  time_of_day                              39618 non-null  float64\n",
      " 40  days_diff_started_at_sent_at             39618 non-null  float64\n",
      " 41  is_unsubscribed                          39618 non-null  float64\n",
      "dtypes: float64(42)\n",
      "memory usage: 13.0 MB\n"
     ]
    }
   ],
   "source": [
    "\n",
    "# test_data=True\n",
    "test_data=False\n",
    "\n",
    "# use to evaluate strategies. otherwise False to just transform data \n",
    "evaluate=True\n",
    "# evaluate=False\n",
    "\n",
    "\n",
    "if test_data==True:\n",
    "\n",
    "    data=pd.read_csv(f\"{filepath}.csv\")\n",
    "    \n",
    "    test= pd.read_csv(test_filepath)\n",
    "    train= pd.read_csv(train_filepath)\n",
    "\n",
    "    # sample\n",
    "    sample=0.05\n",
    "    data = data.groupby('day_of_year').apply(lambda x: sample_per_day(x, sample)).reset_index(drop=True)\n",
    "    test = test.groupby('day_of_year').apply(lambda x: sample_per_day(x, sample)).reset_index(drop=True)\n",
    "    train = train.groupby('day_of_year').apply(lambda x: sample_per_day(x, sample)).reset_index(drop=True)\n",
    "    \n",
    "    \n",
    "else:\n",
    "    data=pd.read_csv(f\"{filepath}.csv\")  \n",
    "    test= pd.read_csv(test_filepath)\n",
    "    train= pd.read_csv(train_filepath)\n",
    "\n",
    "\n",
    "\n",
    " \n",
    "target='is_clicked'\n",
    "vars: list[str] = data.columns.to_list()\n",
    "labels: list = list(data[target].unique())\n",
    "\n",
    "\n",
    "# ensure sorting by day_of_year for correct splitting \n",
    "# \"When in the presence of temporal data, data partition shall use older data to train and newer to test, in order to not use future data to classify past data. In any other case, partition shall be random.\"\n",
    "data.sort_values(by='day_of_year', inplace=True)\n",
    "test.sort_values(by='day_of_year', inplace=True)\n",
    "train.sort_values(by='day_of_year', inplace=True)\n",
    "\n",
    "\n",
    "\n",
    "data.info()"
   ]
  },
  {
   "cell_type": "markdown",
   "metadata": {},
   "source": [
    "# Balancing Analysis"
   ]
  },
  {
   "cell_type": "code",
   "execution_count": 16,
   "metadata": {},
   "outputs": [
    {
     "name": "stdout",
     "output_type": "stream",
     "text": [
      "Minority class= 1.0 : 1495\n",
      "Majority class= 0.0 : 38123\n",
      "Proportion: 0.04 : 1\n"
     ]
    },
    {
     "data": {
      "image/png": "[encoded data removed]",
      "text/plain": [
       "<Figure size 640x480 with 1 Axes>"
      ]
     },
     "metadata": {},
     "output_type": "display_data"
    }
   ],
   "source": [
    "from pandas import read_csv, concat, DataFrame, Series\n",
    "from matplotlib.pyplot import figure, show\n",
    "from dslabs_functions import plot_bar_chart\n",
    "\n",
    "\n",
    "target_count: Series = data[target].value_counts()\n",
    "positive_class = target_count.idxmin()\n",
    "negative_class = target_count.idxmax()\n",
    "\n",
    "print(\"Minority class=\", positive_class, \":\", target_count[positive_class])\n",
    "print(\"Majority class=\", negative_class, \":\", target_count[negative_class])\n",
    "values: dict[str, list] = {\n",
    "    \"Original\": [target_count[positive_class], target_count[negative_class]]\n",
    "}\n",
    "\n",
    "print(f\"Original class distribution:\\n{data[target].value_counts(normalize=True) * 100}\\n\")\n",
    "\n",
    "\n",
    "figure()\n",
    "plot_bar_chart(\n",
    "    target_count.index.to_list(), target_count.to_list(), title=\"Class balance\"\n",
    ")\n",
    "show()"
   ]
  },
  {
   "cell_type": "markdown",
   "metadata": {},
   "source": [
    "# Balance 1 - Undersampling\n",
    "undersample a 60 mas se calhar podem fazer um pouco mais alto"
   ]
  },
  {
   "cell_type": "markdown",
   "metadata": {},
   "source": [
    "## Bal 1 strategy Application"
   ]
  },
  {
   "cell_type": "code",
   "execution_count": 17,
   "metadata": {},
   "outputs": [
    {
     "name": "stdout",
     "output_type": "stream",
     "text": [
      "Original class distribution:\n",
      "is_unsubscribed\n",
      "0.0    96.226463\n",
      "1.0     3.773537\n",
      "Name: proportion, dtype: float64\n",
      "\n",
      "Balanced class distribution:\n",
      "is_unsubscribed\n",
      "0.0    50.0\n",
      "1.0    50.0\n",
      "Name: proportion, dtype: float64\n",
      "\n"
     ]
    }
   ],
   "source": [
    "from pandas import DataFrame, Series\n",
    "from sklearn.preprocessing import StandardScaler\n",
    "\n",
    "\n",
    "\n",
    "def apply_strategy_1(df: DataFrame) -> DataFrame:\n",
    "\n",
    "    df_copy=df.copy()\n",
    "\n",
    "    # this script is available in data_functions originally from DSLabs site in Outlier chapter\n",
    "\n",
    "    # Ensure positive_class and negative_class are defined and match the target values\n",
    "    positive_class = 1  # Or whatever your positive class value is\n",
    "    negative_class = 0  # Or whatever your negative class value is\n",
    "\n",
    "    # Separate the majority and minority classes\n",
    "    df_majority = df_copy[df_copy[target] == negative_class]\n",
    "    df_minority = df_copy[df_copy[target] == positive_class]\n",
    "\n",
    "    # Check the class distribution\n",
    "    print(f\"Original class distribution:\\n{df_copy[target].value_counts(normalize=True) * 100}\\n\")\n",
    "\n",
    "    # Downsample the majority class to match the size of the minority class\n",
    "    df_majority_downsampled = df_majority.sample(n=len(df_minority), random_state=42)\n",
    "\n",
    "    # Combine the downsampled majority class with the minority class\n",
    "    df_balanced = pd.concat([df_majority_downsampled, df_minority])\n",
    "\n",
    "    # Shuffle the combined dataset\n",
    "    df_balanced = df_balanced.sample(frac=1, random_state=42).reset_index(drop=True)\n",
    "    df_balanced.sort_values(by='day_of_year', inplace=True)\n",
    "    \n",
    "\n",
    "    # Check the new class distribution to verify the balance\n",
    "    print(f\"Balanced class distribution:\\n{df_balanced[target].value_counts(normalize=True) * 100}\\n\")\n",
    "\n",
    "    \n",
    "    return df_balanced\n",
    "\n",
    "\n",
    "data_1=apply_strategy_1(data)\n",
    "\n",
    "\n"
   ]
  },
  {
   "cell_type": "markdown",
   "metadata": {},
   "source": [
    "## Bal 1 train/test split "
   ]
  },
  {
   "cell_type": "code",
   "execution_count": 18,
   "metadata": {},
   "outputs": [
    {
     "name": "stdout",
     "output_type": "stream",
     "text": [
      "Labels=[0.0, 1.0]\n"
     ]
    },
    {
     "data": {
      "image/png": "[encoded data removed]",
      "text/plain": [
       "<Figure size 600x400 with 1 Axes>"
      ]
     },
     "metadata": {},
     "output_type": "display_data"
    }
   ],
   "source": [
    "from pandas import concat\n",
    "from matplotlib.pyplot import figure, show\n",
    "from sklearn.model_selection import train_test_split\n",
    "from dslabs_functions import plot_multibar_chart\n",
    "\n",
    "\n",
    "# Call the function to split the data\n",
    "y_1, X_1, labels, values = define_target_and_prepare_data(data_1, target)\n",
    "\n",
    "\n",
    "train_1, test_1 = split_data_save_csv(pd.DataFrame(X_1, columns=data_1.columns), y_1, data_columns=data_1.columns, target_column=target)\n",
    "\n",
    "# Distribution check\n",
    "values[\"Train\"] = [\n",
    "    len(train_1[train_1[target] == 0]),\n",
    "    len(train_1[train_1[target] == 1]),\n",
    "]\n",
    "values[\"Test\"] = [\n",
    "    len(test_1[test_1[target] == 0]),\n",
    "    len(test_1[test_1[target] == 1]),\n",
    "]\n",
    "\n",
    "# Visualize the distribution\n",
    "figure(figsize=(6, 4))\n",
    "plot_multibar_chart(labels, values, title=\"Data distribution per dataset\")\n",
    "show()"
   ]
  },
  {
   "cell_type": "markdown",
   "metadata": {},
   "source": [
    "## Bal 1 evaluate"
   ]
  },
  {
   "cell_type": "code",
   "execution_count": 19,
   "metadata": {},
   "outputs": [
    {
     "data": {
      "image/png": "[encoded data removed]",
      "text/plain": [
       "<Figure size 640x480 with 1 Axes>"
      ]
     },
     "metadata": {},
     "output_type": "display_data"
    }
   ],
   "source": [
    "# evaluate_approach is in data_functions originally from DSLABS/ Data Prep / Methodology\n",
    "# removed Multinomial from run_NB function because dataset has negative values\n",
    "\n",
    "figure()\n",
    "eval_1: dict[str, list] = evaluate_approach(train_1, test_1, target='is_unsubscribed', metric=\"recall\")\n",
    "plot_multibar_chart(\n",
    "    [\"NB\", \"KNN\"], eval_1, title=f\"{file_tag}_1_evaluation\", percentage=True\n",
    ")\n",
    "savefig(f\"images/{file_tag}_1_evaluation.png\")\n",
    "show()"
   ]
  },
  {
   "cell_type": "markdown",
   "metadata": {},
   "source": [
    "# Bal 2 - SMOTE\n"
   ]
  },
  {
   "cell_type": "markdown",
   "metadata": {},
   "source": [
    "## Bal 2 strategy aplication"
   ]
  },
  {
   "cell_type": "code",
   "execution_count": 20,
   "metadata": {},
   "outputs": [
    {
     "name": "stdout",
     "output_type": "stream",
     "text": [
      "Minority class= 1.0 : 38123\n",
      "Majority class= 0.0 : 38123\n",
      "Proportion: 1.0 : 1\n",
      "Shape of the new DataFrame: (76246, 42)\n",
      "Class counts after SMOTE:\n",
      "is_unsubscribed\n",
      "0.0    38123\n",
      "1.0    38123\n",
      "Name: count, dtype: int64\n"
     ]
    }
   ],
   "source": [
    "from numpy import ndarray\n",
    "from pandas import Series\n",
    "from imblearn.over_sampling import SMOTE\n",
    "\n",
    "def apply_strategy_2(df):\n",
    "\n",
    "   # Copy the DataFrame\n",
    "    df_copy = df.copy()\n",
    "\n",
    "    # Define random state for reproducibility\n",
    "    RANDOM_STATE = 42\n",
    "\n",
    "    # Separate the features (X) and target (y)\n",
    "    y = df_copy.pop(target).values\n",
    "    X: ndarray = df_copy.values\n",
    "\n",
    "    # Initialize SMOTE\n",
    "    smote = SMOTE(sampling_strategy=\"minority\", random_state=RANDOM_STATE)\n",
    "\n",
    "    # Fit and resample\n",
    "    smote_X, smote_y = smote.fit_resample(X, y)\n",
    "\n",
    "    # Reconstruct the DataFrame from the SMOTE output\n",
    "    df_smote = concat([DataFrame(smote_X, columns=df_copy.columns), DataFrame(smote_y, columns=[target])], axis=1)\n",
    "\n",
    "\n",
    "    # Print class distribution and shape\n",
    "    smote_target_count: Series = Series(smote_y).value_counts()\n",
    "    print(\"Minority class=\", smote_target_count.index[1], \":\", smote_target_count[1])\n",
    "    print(\"Majority class=\", smote_target_count.index[0], \":\", smote_target_count[0])\n",
    "    print(\n",
    "        \"Proportion:\",\n",
    "        round(smote_target_count[1] / smote_target_count[0], 2),\n",
    "        \": 1\",\n",
    "    )\n",
    "    print(\"Shape of the new DataFrame:\", df_smote.shape)\n",
    "\n",
    "    print(\"Class counts after SMOTE:\")\n",
    "    print(df_smote[target].value_counts())\n",
    "\n",
    "    return df_smote\n",
    "\n",
    "data_2=data.copy()\n",
    "data_2=apply_strategy_2(data_2)\n"
   ]
  },
  {
   "cell_type": "markdown",
   "metadata": {},
   "source": [
    "## Bal 2 train/test split "
   ]
  },
  {
   "cell_type": "code",
   "execution_count": 21,
   "metadata": {},
   "outputs": [
    {
     "name": "stdout",
     "output_type": "stream",
     "text": [
      "Labels=[0.0, 1.0]\n"
     ]
    },
    {
     "data": {
      "text/plain": [
       "<Axes: title={'center': 'Data distribution per dataset'}>"
      ]
     },
     "execution_count": 21,
     "metadata": {},
     "output_type": "execute_result"
    },
    {
     "data": {
      "image/png": "[encoded data removed]",
      "text/plain": [
       "<Figure size 600x400 with 1 Axes>"
      ]
     },
     "metadata": {},
     "output_type": "display_data"
    }
   ],
   "source": [
    "from pandas import concat\n",
    "from matplotlib.pyplot import figure, show\n",
    "from sklearn.model_selection import train_test_split\n",
    "from dslabs_functions import plot_multibar_chart\n",
    "\n",
    "# train/test split from DSLABS Classification/Evaluation Chapter\n",
    "# created split_data_save_csv on data_functions\n",
    "\n",
    "# Call the function to split the data\n",
    "y_2, X_2, labels, class_counts = define_target_and_prepare_data(data_2, target=target)\n",
    "\n",
    "train_2, test_2 = split_data_save_csv(pd.DataFrame(X_2, columns=data_2.columns), y_2, data_columns=data_2.columns, target_column=target)\n",
    "\n",
    "\n",
    "values[\"Train\"] = [\n",
    "    len(train_2[train_2[target] == 0]),\n",
    "    len(train_2[train_2[target] == 1]),\n",
    "]\n",
    "values[\"Test\"] = [\n",
    "    len(test_2[test_2[target] == 0]),\n",
    "    len(test_2[test_2[target] == 1]),\n",
    "]\n",
    "\n",
    "figure(figsize=(6, 4))\n",
    "plot_multibar_chart(labels, values, title=\"Data distribution per dataset\")"
   ]
  },
  {
   "cell_type": "markdown",
   "metadata": {},
   "source": [
    "## Bal 2 evaluate"
   ]
  },
  {
   "cell_type": "code",
   "execution_count": 22,
   "metadata": {},
   "outputs": [
    {
     "ename": "ValueError",
     "evalue": "Only one class present in y_true. ROC AUC score is not defined in that case.",
     "output_type": "error",
     "traceback": [
      "\u001b[0;31m---------------------------------------------------------------------------\u001b[0m",
      "\u001b[0;31mValueError\u001b[0m                                Traceback (most recent call last)",
      "Cell \u001b[0;32mIn[22], line 2\u001b[0m\n\u001b[1;32m      1\u001b[0m figure()\n\u001b[0;32m----> 2\u001b[0m eval_2: \u001b[38;5;28mdict\u001b[39m[\u001b[38;5;28mstr\u001b[39m, \u001b[38;5;28mlist\u001b[39m] \u001b[38;5;241m=\u001b[39m evaluate_approach(train_2, test_2, target\u001b[38;5;241m=\u001b[39m\u001b[38;5;124m'\u001b[39m\u001b[38;5;124mis_unsubscribed\u001b[39m\u001b[38;5;124m'\u001b[39m, metric\u001b[38;5;241m=\u001b[39m\u001b[38;5;124m\"\u001b[39m\u001b[38;5;124mrecall\u001b[39m\u001b[38;5;124m\"\u001b[39m)\n\u001b[1;32m      3\u001b[0m plot_multibar_chart(\n\u001b[1;32m      4\u001b[0m     [\u001b[38;5;124m\"\u001b[39m\u001b[38;5;124mNB\u001b[39m\u001b[38;5;124m\"\u001b[39m, \u001b[38;5;124m\"\u001b[39m\u001b[38;5;124mKNN\u001b[39m\u001b[38;5;124m\"\u001b[39m], eval_2, title\u001b[38;5;241m=\u001b[39m\u001b[38;5;124mf\u001b[39m\u001b[38;5;124m\"\u001b[39m\u001b[38;5;132;01m{\u001b[39;00mfile_tag\u001b[38;5;132;01m}\u001b[39;00m\u001b[38;5;124m_2_evaluation\u001b[39m\u001b[38;5;124m\"\u001b[39m, percentage\u001b[38;5;241m=\u001b[39m\u001b[38;5;28;01mTrue\u001b[39;00m\n\u001b[1;32m      5\u001b[0m )\n\u001b[1;32m      6\u001b[0m savefig(\u001b[38;5;124mf\u001b[39m\u001b[38;5;124m\"\u001b[39m\u001b[38;5;124mimages/\u001b[39m\u001b[38;5;132;01m{\u001b[39;00mfile_tag\u001b[38;5;132;01m}\u001b[39;00m\u001b[38;5;124m_2_evaluation.png\u001b[39m\u001b[38;5;124m\"\u001b[39m)\n",
      "File \u001b[0;32m~/Private/IST PG - DS/ist_dash_2024_rec/notebooks/ecom_msg/scripts/data_functions.py:503\u001b[0m, in \u001b[0;36mevaluate_approach\u001b[0;34m(train, test, target, metric)\u001b[0m\n\u001b[1;32m    500\u001b[0m tstX: ndarray \u001b[38;5;241m=\u001b[39m test\u001b[38;5;241m.\u001b[39mvalues\n\u001b[1;32m    501\u001b[0m \u001b[38;5;28meval\u001b[39m: \u001b[38;5;28mdict\u001b[39m[\u001b[38;5;28mstr\u001b[39m, \u001b[38;5;28mlist\u001b[39m] \u001b[38;5;241m=\u001b[39m {}\n\u001b[0;32m--> 503\u001b[0m eval_NB: \u001b[38;5;28mdict\u001b[39m[\u001b[38;5;28mstr\u001b[39m, \u001b[38;5;28mfloat\u001b[39m] \u001b[38;5;241m=\u001b[39m run_NB(trnX, trnY, tstX, tstY, metric\u001b[38;5;241m=\u001b[39mmetric)\n\u001b[1;32m    504\u001b[0m eval_KNN: \u001b[38;5;28mdict\u001b[39m[\u001b[38;5;28mstr\u001b[39m, \u001b[38;5;28mfloat\u001b[39m] \u001b[38;5;241m=\u001b[39m run_KNN(trnX, trnY, tstX, tstY, metric\u001b[38;5;241m=\u001b[39mmetric)\n\u001b[1;32m    505\u001b[0m \u001b[38;5;28;01mif\u001b[39;00m eval_NB \u001b[38;5;241m!=\u001b[39m {} \u001b[38;5;129;01mand\u001b[39;00m eval_KNN \u001b[38;5;241m!=\u001b[39m {}:\n",
      "File \u001b[0;32m~/Private/IST PG - DS/ist_dash_2024_rec/notebooks/ecom_msg/scripts/dslabs_functions.py:762\u001b[0m, in \u001b[0;36mrun_NB\u001b[0;34m(trnX, trnY, tstX, tstY, metric)\u001b[0m\n\u001b[1;32m    760\u001b[0m     prd: ndarray \u001b[38;5;241m=\u001b[39m best_model\u001b[38;5;241m.\u001b[39mpredict(tstX)\n\u001b[1;32m    761\u001b[0m     \u001b[38;5;28;01mfor\u001b[39;00m key \u001b[38;5;129;01min\u001b[39;00m CLASS_EVAL_METRICS:\n\u001b[0;32m--> 762\u001b[0m         \u001b[38;5;28meval\u001b[39m[key] \u001b[38;5;241m=\u001b[39m CLASS_EVAL_METRICS[key](tstY, prd)\n\u001b[1;32m    763\u001b[0m \u001b[38;5;28;01mreturn\u001b[39;00m \u001b[38;5;28meval\u001b[39m\n",
      "File \u001b[0;32m/opt/anaconda3/lib/python3.12/site-packages/sklearn/utils/_param_validation.py:213\u001b[0m, in \u001b[0;36mvalidate_params.<locals>.decorator.<locals>.wrapper\u001b[0;34m(*args, **kwargs)\u001b[0m\n\u001b[1;32m    207\u001b[0m \u001b[38;5;28;01mtry\u001b[39;00m:\n\u001b[1;32m    208\u001b[0m     \u001b[38;5;28;01mwith\u001b[39;00m config_context(\n\u001b[1;32m    209\u001b[0m         skip_parameter_validation\u001b[38;5;241m=\u001b[39m(\n\u001b[1;32m    210\u001b[0m             prefer_skip_nested_validation \u001b[38;5;129;01mor\u001b[39;00m global_skip_validation\n\u001b[1;32m    211\u001b[0m         )\n\u001b[1;32m    212\u001b[0m     ):\n\u001b[0;32m--> 213\u001b[0m         \u001b[38;5;28;01mreturn\u001b[39;00m func(\u001b[38;5;241m*\u001b[39margs, \u001b[38;5;241m*\u001b[39m\u001b[38;5;241m*\u001b[39mkwargs)\n\u001b[1;32m    214\u001b[0m \u001b[38;5;28;01mexcept\u001b[39;00m InvalidParameterError \u001b[38;5;28;01mas\u001b[39;00m e:\n\u001b[1;32m    215\u001b[0m     \u001b[38;5;66;03m# When the function is just a wrapper around an estimator, we allow\u001b[39;00m\n\u001b[1;32m    216\u001b[0m     \u001b[38;5;66;03m# the function to delegate validation to the estimator, but we replace\u001b[39;00m\n\u001b[1;32m    217\u001b[0m     \u001b[38;5;66;03m# the name of the estimator by the name of the function in the error\u001b[39;00m\n\u001b[1;32m    218\u001b[0m     \u001b[38;5;66;03m# message to avoid confusion.\u001b[39;00m\n\u001b[1;32m    219\u001b[0m     msg \u001b[38;5;241m=\u001b[39m re\u001b[38;5;241m.\u001b[39msub(\n\u001b[1;32m    220\u001b[0m         \u001b[38;5;124mr\u001b[39m\u001b[38;5;124m\"\u001b[39m\u001b[38;5;124mparameter of \u001b[39m\u001b[38;5;124m\\\u001b[39m\u001b[38;5;124mw+ must be\u001b[39m\u001b[38;5;124m\"\u001b[39m,\n\u001b[1;32m    221\u001b[0m         \u001b[38;5;124mf\u001b[39m\u001b[38;5;124m\"\u001b[39m\u001b[38;5;124mparameter of \u001b[39m\u001b[38;5;132;01m{\u001b[39;00mfunc\u001b[38;5;241m.\u001b[39m\u001b[38;5;18m__qualname__\u001b[39m\u001b[38;5;132;01m}\u001b[39;00m\u001b[38;5;124m must be\u001b[39m\u001b[38;5;124m\"\u001b[39m,\n\u001b[1;32m    222\u001b[0m         \u001b[38;5;28mstr\u001b[39m(e),\n\u001b[1;32m    223\u001b[0m     )\n",
      "File \u001b[0;32m/opt/anaconda3/lib/python3.12/site-packages/sklearn/metrics/_ranking.py:640\u001b[0m, in \u001b[0;36mroc_auc_score\u001b[0;34m(y_true, y_score, average, sample_weight, max_fpr, multi_class, labels)\u001b[0m\n\u001b[1;32m    638\u001b[0m     labels \u001b[38;5;241m=\u001b[39m np\u001b[38;5;241m.\u001b[39munique(y_true)\n\u001b[1;32m    639\u001b[0m     y_true \u001b[38;5;241m=\u001b[39m label_binarize(y_true, classes\u001b[38;5;241m=\u001b[39mlabels)[:, \u001b[38;5;241m0\u001b[39m]\n\u001b[0;32m--> 640\u001b[0m     \u001b[38;5;28;01mreturn\u001b[39;00m _average_binary_score(\n\u001b[1;32m    641\u001b[0m         partial(_binary_roc_auc_score, max_fpr\u001b[38;5;241m=\u001b[39mmax_fpr),\n\u001b[1;32m    642\u001b[0m         y_true,\n\u001b[1;32m    643\u001b[0m         y_score,\n\u001b[1;32m    644\u001b[0m         average,\n\u001b[1;32m    645\u001b[0m         sample_weight\u001b[38;5;241m=\u001b[39msample_weight,\n\u001b[1;32m    646\u001b[0m     )\n\u001b[1;32m    647\u001b[0m \u001b[38;5;28;01melse\u001b[39;00m:  \u001b[38;5;66;03m# multilabel-indicator\u001b[39;00m\n\u001b[1;32m    648\u001b[0m     \u001b[38;5;28;01mreturn\u001b[39;00m _average_binary_score(\n\u001b[1;32m    649\u001b[0m         partial(_binary_roc_auc_score, max_fpr\u001b[38;5;241m=\u001b[39mmax_fpr),\n\u001b[1;32m    650\u001b[0m         y_true,\n\u001b[0;32m   (...)\u001b[0m\n\u001b[1;32m    653\u001b[0m         sample_weight\u001b[38;5;241m=\u001b[39msample_weight,\n\u001b[1;32m    654\u001b[0m     )\n",
      "File \u001b[0;32m/opt/anaconda3/lib/python3.12/site-packages/sklearn/metrics/_base.py:75\u001b[0m, in \u001b[0;36m_average_binary_score\u001b[0;34m(binary_metric, y_true, y_score, average, sample_weight)\u001b[0m\n\u001b[1;32m     72\u001b[0m     \u001b[38;5;28;01mraise\u001b[39;00m \u001b[38;5;167;01mValueError\u001b[39;00m(\u001b[38;5;124m\"\u001b[39m\u001b[38;5;132;01m{0}\u001b[39;00m\u001b[38;5;124m format is not supported\u001b[39m\u001b[38;5;124m\"\u001b[39m\u001b[38;5;241m.\u001b[39mformat(y_type))\n\u001b[1;32m     74\u001b[0m \u001b[38;5;28;01mif\u001b[39;00m y_type \u001b[38;5;241m==\u001b[39m \u001b[38;5;124m\"\u001b[39m\u001b[38;5;124mbinary\u001b[39m\u001b[38;5;124m\"\u001b[39m:\n\u001b[0;32m---> 75\u001b[0m     \u001b[38;5;28;01mreturn\u001b[39;00m binary_metric(y_true, y_score, sample_weight\u001b[38;5;241m=\u001b[39msample_weight)\n\u001b[1;32m     77\u001b[0m check_consistent_length(y_true, y_score, sample_weight)\n\u001b[1;32m     78\u001b[0m y_true \u001b[38;5;241m=\u001b[39m check_array(y_true)\n",
      "File \u001b[0;32m/opt/anaconda3/lib/python3.12/site-packages/sklearn/metrics/_ranking.py:382\u001b[0m, in \u001b[0;36m_binary_roc_auc_score\u001b[0;34m(y_true, y_score, sample_weight, max_fpr)\u001b[0m\n\u001b[1;32m    380\u001b[0m \u001b[38;5;250m\u001b[39m\u001b[38;5;124;03m\"\"\"Binary roc auc score.\"\"\"\u001b[39;00m\n\u001b[1;32m    381\u001b[0m \u001b[38;5;28;01mif\u001b[39;00m \u001b[38;5;28mlen\u001b[39m(np\u001b[38;5;241m.\u001b[39munique(y_true)) \u001b[38;5;241m!=\u001b[39m \u001b[38;5;241m2\u001b[39m:\n\u001b[0;32m--> 382\u001b[0m     \u001b[38;5;28;01mraise\u001b[39;00m \u001b[38;5;167;01mValueError\u001b[39;00m(\n\u001b[1;32m    383\u001b[0m         \u001b[38;5;124m\"\u001b[39m\u001b[38;5;124mOnly one class present in y_true. ROC AUC score \u001b[39m\u001b[38;5;124m\"\u001b[39m\n\u001b[1;32m    384\u001b[0m         \u001b[38;5;124m\"\u001b[39m\u001b[38;5;124mis not defined in that case.\u001b[39m\u001b[38;5;124m\"\u001b[39m\n\u001b[1;32m    385\u001b[0m     )\n\u001b[1;32m    387\u001b[0m fpr, tpr, _ \u001b[38;5;241m=\u001b[39m roc_curve(y_true, y_score, sample_weight\u001b[38;5;241m=\u001b[39msample_weight)\n\u001b[1;32m    388\u001b[0m \u001b[38;5;28;01mif\u001b[39;00m max_fpr \u001b[38;5;129;01mis\u001b[39;00m \u001b[38;5;28;01mNone\u001b[39;00m \u001b[38;5;129;01mor\u001b[39;00m max_fpr \u001b[38;5;241m==\u001b[39m \u001b[38;5;241m1\u001b[39m:\n",
      "\u001b[0;31mValueError\u001b[0m: Only one class present in y_true. ROC AUC score is not defined in that case."
     ]
    },
    {
     "data": {
      "text/plain": [
       "<Figure size 640x480 with 0 Axes>"
      ]
     },
     "metadata": {},
     "output_type": "display_data"
    }
   ],
   "source": [
    "\n",
    "figure()\n",
    "eval_2: dict[str, list] = evaluate_approach(train_2, test_2, target='is_unsubscribed', metric=\"recall\")\n",
    "plot_multibar_chart(\n",
    "    [\"NB\", \"KNN\"], eval_2, title=f\"{file_tag}_2_evaluation\", percentage=True\n",
    ")\n",
    "savefig(f\"images/{file_tag}_2_evaluation.png\")\n",
    "show()"
   ]
  },
  {
   "cell_type": "markdown",
   "metadata": {},
   "source": [
    "# Approach uplift comparison"
   ]
  },
  {
   "cell_type": "markdown",
   "metadata": {},
   "source": [
    "## uplift df"
   ]
  },
  {
   "cell_type": "code",
   "execution_count": null,
   "metadata": {},
   "outputs": [],
   "source": [
    "algorithms = ['Naive Bayes', 'KNN']\n",
    "\n",
    "# Create DataFrames for eval_1 and eval_2\n",
    "df_eval_1 = pd.DataFrame(eval_1, index=algorithms)\n",
    "df_eval_2 = pd.DataFrame(eval_2, index=algorithms)\n",
    "\n",
    "# Calculate uplift\n",
    "df_uplift = df_eval_2 - df_eval_1\n",
    "\n",
    "\n",
    "\n",
    "# Combine everything into one DataFrame (without misalignment issues)\n",
    "comparison_df = pd.concat([df_eval_1, df_eval_2, df_uplift], axis=1)\n",
    "comparison_df.columns = pd.MultiIndex.from_product([['Approach 1', 'Approach 2', 'Uplift'], eval_1.keys()])\n",
    "\n",
    "\n",
    "\n",
    "# Display the DataFrame\n",
    "comparison_df"
   ]
  },
  {
   "cell_type": "markdown",
   "metadata": {},
   "source": [
    "# Analysis\n",
    "\n",
    "- Uplift between outlier input approaches is specially significant when it comes to recall (55.7%  out1 to 37% out2). \n",
    "- Accuracy however is lower on out1 vs out2 treatment strategies\n",
    "- data processing time is almost equal\n",
    "- Considering out1 is the best between both strategies, if we compare between previous dataset and outlier treatment, we have\n",
    "    - an improvement in NB recall (0.35 to 0.55!)\n",
    "    - slight loss in NB accuracy: 0.63 to 0.59 \n",
    "    - slight improvement in NB's auc and f1 \n",
    "    - no significant improvements in KNN\n",
    "\n",
    "- Considering we seriously want to improve recall, then we will move forward with strategy outlier 1 (thresholding outliers)"
   ]
  },
  {
   "cell_type": "markdown",
   "metadata": {},
   "source": [
    "# save to csv"
   ]
  },
  {
   "cell_type": "code",
   "execution_count": null,
   "metadata": {},
   "outputs": [],
   "source": [
    "if test_data==False:\n",
    "    \n",
    "    \n",
    "    data_save=data.copy()\n",
    "\n",
    "    data_save=apply_strategy_1(data_save)\n",
    "        \n",
    "    data_save.to_csv(f\"dataset/df_msg_balance.csv\", index=False)\n",
    "\n",
    "    print(data_save.columns)\n",
    "\n"
   ]
  },
  {
   "cell_type": "markdown",
   "metadata": {},
   "source": [
    "## train test csv"
   ]
  },
  {
   "cell_type": "code",
   "execution_count": null,
   "metadata": {},
   "outputs": [],
   "source": [
    "if test_data==False:\n",
    "    \n",
    "\n",
    "    data_save_copy=data_save.copy()\n",
    "\n",
    "    \n",
    "    y, X, labels, class_counts = define_target_and_prepare_data(data_save_copy, target=target)\n",
    "\n",
    "    train, test = split_data_save_csv(pd.DataFrame(X, columns=data_save_copy.columns), y, data_columns=data_save_copy.columns, target_column=target)  \n",
    "    \n",
    "    train.to_csv(f\"dataset/df_msg_balance_train.csv\", index=False)\n",
    "    print(train.columns)\n",
    "    \n",
    "    test.to_csv(f\"dataset/df_msg_balance_train.csv\", index=False)\n",
    "    print(test.columns)"
   ]
  }
 ],
 "metadata": {
  "kernelspec": {
   "display_name": "base",
   "language": "python",
   "name": "python3"
  },
  "language_info": {
   "codemirror_mode": {
    "name": "ipython",
    "version": 3
   },
   "file_extension": ".py",
   "mimetype": "text/x-python",
   "name": "python",
   "nbconvert_exporter": "python",
   "pygments_lexer": "ipython3",
   "version": "3.12.4"
  }
 },
 "nbformat": 4,
 "nbformat_minor": 2
}
