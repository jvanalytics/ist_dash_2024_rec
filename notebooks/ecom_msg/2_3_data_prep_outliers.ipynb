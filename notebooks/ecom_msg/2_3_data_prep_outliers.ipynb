{
 "cells": [
  {
   "cell_type": "markdown",
   "metadata": {},
   "source": [
    "# File and libraries"
   ]
  },
  {
   "cell_type": "code",
   "execution_count": 20,
   "metadata": {},
   "outputs": [],
   "source": [
    "import pandas as pd\n",
    "import numpy as np\n",
    "from sklearn.model_selection import train_test_split\n",
    "\n",
    "filepath=r'dataset/df_msg_mv_input.csv'\n",
    "\n",
    "file_tag = \"df_msg_outlier_input\""
   ]
  },
  {
   "cell_type": "markdown",
   "metadata": {},
   "source": [
    "# DSLabs functions"
   ]
  },
  {
   "cell_type": "code",
   "execution_count": 21,
   "metadata": {},
   "outputs": [
    {
     "name": "stdout",
     "output_type": "stream",
     "text": [
      "dslabs lodaded\n"
     ]
    }
   ],
   "source": [
    "%run \"scripts/dslabs_functions.py\""
   ]
  },
  {
   "cell_type": "markdown",
   "metadata": {},
   "source": [
    "# Data functions"
   ]
  },
  {
   "cell_type": "code",
   "execution_count": 22,
   "metadata": {},
   "outputs": [
    {
     "name": "stdout",
     "output_type": "stream",
     "text": [
      "data_functions lodaded\n"
     ]
    }
   ],
   "source": [
    "%run \"scripts/data_functions.py\""
   ]
  },
  {
   "cell_type": "markdown",
   "metadata": {},
   "source": [
    "# Load"
   ]
  },
  {
   "cell_type": "code",
   "execution_count": 23,
   "metadata": {},
   "outputs": [
    {
     "name": "stdout",
     "output_type": "stream",
     "text": [
      "<class 'pandas.core.frame.DataFrame'>\n",
      "Index: 798944 entries, 0 to 798943\n",
      "Data columns (total 42 columns):\n",
      " #   Column                                   Non-Null Count   Dtype  \n",
      "---  ------                                   --------------   -----  \n",
      " 0   platform                                 798944 non-null  float64\n",
      " 1   email_provider                           798944 non-null  float64\n",
      " 2   campaign_type                            798944 non-null  float64\n",
      " 3   channel_cmp                              798944 non-null  float64\n",
      " 4   topic                                    798944 non-null  float64\n",
      " 5   total_count                              798944 non-null  float64\n",
      " 6   subject_length                           798944 non-null  float64\n",
      " 7   day_of_year                              798944 non-null  float64\n",
      " 8   month                                    798944 non-null  float64\n",
      " 9   days_diff_opened_first_time_at_sent_at   798944 non-null  float64\n",
      " 10  days_diff_clicked_first_time_at_sent_at  798944 non-null  float64\n",
      " 11  days_diff_unsubscribed_at_sent_at        798944 non-null  float64\n",
      " 12  days_diff_complained_at_sent_at          798944 non-null  float64\n",
      " 13  days_diff_purchased_at_sent_at           798944 non-null  float64\n",
      " 14  days_diff_first_purchase_date_sent_at    798944 non-null  float64\n",
      " 15  hour_sin                                 798944 non-null  float64\n",
      " 16  hour_cos                                 798944 non-null  float64\n",
      " 17  min_sin                                  798944 non-null  float64\n",
      " 18  min_cos                                  798944 non-null  float64\n",
      " 19  day_of_month_sin                         798944 non-null  float64\n",
      " 20  day_of_month_cos                         798944 non-null  float64\n",
      " 21  day_of_week_nr_sin                       798944 non-null  float64\n",
      " 22  day_of_week_nr_cos                       798944 non-null  float64\n",
      " 23  week_of_month_sin                        798944 non-null  float64\n",
      " 24  week_of_month_cos                        798944 non-null  float64\n",
      " 25  channel_msg                              798944 non-null  float64\n",
      " 26  is_opened                                798944 non-null  float64\n",
      " 27  is_clicked                               798944 non-null  float64\n",
      " 28  is_unsubscribed                          798944 non-null  float64\n",
      " 29  is_hard_bounced                          798944 non-null  float64\n",
      " 30  is_soft_bounced                          798944 non-null  float64\n",
      " 31  is_complained                            798944 non-null  float64\n",
      " 32  is_purchased                             798944 non-null  float64\n",
      " 33  subject_with_personalization             798944 non-null  float64\n",
      " 34  subject_with_deadline                    798944 non-null  float64\n",
      " 35  subject_with_emoji                       798944 non-null  float64\n",
      " 36  subject_with_bonuses                     798944 non-null  float64\n",
      " 37  subject_with_discount                    798944 non-null  float64\n",
      " 38  subject_with_saleout                     798944 non-null  float64\n",
      " 39  is_weekend                               798944 non-null  float64\n",
      " 40  time_of_day                              798944 non-null  float64\n",
      " 41  days_diff_started_at_sent_at             798944 non-null  float64\n",
      "dtypes: float64(42)\n",
      "memory usage: 262.1 MB\n"
     ]
    }
   ],
   "source": [
    "# test_data=True\n",
    "test_data=False\n",
    "if test_data==True:\n",
    "\n",
    "    data=pd.read_csv(filepath)\n",
    "\n",
    "    # 1% sample\n",
    "    data=data.sample(frac=0.01, replace=False)\n",
    "    \n",
    "else:\n",
    "    data=pd.read_csv(filepath)\n",
    "    # 50% sample\n",
    "    # data=data.sample(frac=0.5, replace=False)\n",
    "\n",
    "target='is_unsubscribed'\n",
    "\n",
    "# ensure sorting by day_of_year for correct splitting \n",
    "# \"When in the presence of temporal data, data partition shall use older data to train and newer to test, in order to not use future data to classify past data. In any other case, partition shall be random.\"\n",
    "data.sort_values(by='day_of_year', inplace=True)\n",
    "\n",
    "data.info()"
   ]
  },
  {
   "cell_type": "code",
   "execution_count": 24,
   "metadata": {},
   "outputs": [
    {
     "data": {
      "text/plain": [
       "798944"
      ]
     },
     "execution_count": 24,
     "metadata": {},
     "output_type": "execute_result"
    }
   ],
   "source": [
    "data.shape[0]"
   ]
  },
  {
   "cell_type": "markdown",
   "metadata": {},
   "source": [
    "# Out 1 - Outlier Truncation"
   ]
  },
  {
   "cell_type": "markdown",
   "metadata": {},
   "source": [
    "## Out 1 strategy aplication"
   ]
  },
  {
   "cell_type": "code",
   "execution_count": 25,
   "metadata": {},
   "outputs": [
    {
     "name": "stdout",
     "output_type": "stream",
     "text": [
      "Data after truncating outliers for days_diff_opened_first_time_at_sent_at: (798944, 42)\n",
      "Data after truncating outliers for days_diff_clicked_first_time_at_sent_at: (798944, 42)\n",
      "Data after truncating outliers for days_diff_unsubscribed_at_sent_at: (798944, 42)\n"
     ]
    },
    {
     "data": {
      "text/html": [
       "<div>\n",
       "<style scoped>\n",
       "    .dataframe tbody tr th:only-of-type {\n",
       "        vertical-align: middle;\n",
       "    }\n",
       "\n",
       "    .dataframe tbody tr th {\n",
       "        vertical-align: top;\n",
       "    }\n",
       "\n",
       "    .dataframe thead th {\n",
       "        text-align: right;\n",
       "    }\n",
       "</style>\n",
       "<table border=\"1\" class=\"dataframe\">\n",
       "  <thead>\n",
       "    <tr style=\"text-align: right;\">\n",
       "      <th></th>\n",
       "      <th>days_diff_opened_first_time_at_sent_at</th>\n",
       "      <th>days_diff_clicked_first_time_at_sent_at</th>\n",
       "      <th>days_diff_unsubscribed_at_sent_at</th>\n",
       "    </tr>\n",
       "  </thead>\n",
       "  <tbody>\n",
       "    <tr>\n",
       "      <th>count</th>\n",
       "      <td>798944.000000</td>\n",
       "      <td>798944.000000</td>\n",
       "      <td>798944.000000</td>\n",
       "    </tr>\n",
       "    <tr>\n",
       "      <th>mean</th>\n",
       "      <td>1.000545</td>\n",
       "      <td>1.143558</td>\n",
       "      <td>0.350197</td>\n",
       "    </tr>\n",
       "    <tr>\n",
       "      <th>std</th>\n",
       "      <td>0.563487</td>\n",
       "      <td>0.143057</td>\n",
       "      <td>0.080156</td>\n",
       "    </tr>\n",
       "    <tr>\n",
       "      <th>min</th>\n",
       "      <td>0.000000</td>\n",
       "      <td>0.000000</td>\n",
       "      <td>-1.000000</td>\n",
       "    </tr>\n",
       "    <tr>\n",
       "      <th>25%</th>\n",
       "      <td>1.090705</td>\n",
       "      <td>1.155946</td>\n",
       "      <td>0.362203</td>\n",
       "    </tr>\n",
       "    <tr>\n",
       "      <th>50%</th>\n",
       "      <td>1.090705</td>\n",
       "      <td>1.155946</td>\n",
       "      <td>0.362203</td>\n",
       "    </tr>\n",
       "    <tr>\n",
       "      <th>75%</th>\n",
       "      <td>1.090705</td>\n",
       "      <td>1.155946</td>\n",
       "      <td>0.362203</td>\n",
       "    </tr>\n",
       "    <tr>\n",
       "      <th>max</th>\n",
       "      <td>5.624888</td>\n",
       "      <td>2.395547</td>\n",
       "      <td>1.874859</td>\n",
       "    </tr>\n",
       "  </tbody>\n",
       "</table>\n",
       "</div>"
      ],
      "text/plain": [
       "       days_diff_opened_first_time_at_sent_at  \\\n",
       "count                           798944.000000   \n",
       "mean                                 1.000545   \n",
       "std                                  0.563487   \n",
       "min                                  0.000000   \n",
       "25%                                  1.090705   \n",
       "50%                                  1.090705   \n",
       "75%                                  1.090705   \n",
       "max                                  5.624888   \n",
       "\n",
       "       days_diff_clicked_first_time_at_sent_at  \\\n",
       "count                            798944.000000   \n",
       "mean                                  1.143558   \n",
       "std                                   0.143057   \n",
       "min                                   0.000000   \n",
       "25%                                   1.155946   \n",
       "50%                                   1.155946   \n",
       "75%                                   1.155946   \n",
       "max                                   2.395547   \n",
       "\n",
       "       days_diff_unsubscribed_at_sent_at  \n",
       "count                      798944.000000  \n",
       "mean                            0.350197  \n",
       "std                             0.080156  \n",
       "min                            -1.000000  \n",
       "25%                             0.362203  \n",
       "50%                             0.362203  \n",
       "75%                             0.362203  \n",
       "max                             1.874859  "
      ]
     },
     "execution_count": 25,
     "metadata": {},
     "output_type": "execute_result"
    }
   ],
   "source": [
    "# List of variables you want to apply the outlier strategy to\n",
    "variables = ['days_diff_opened_first_time_at_sent_at', 'days_diff_clicked_first_time_at_sent_at', \n",
    "             'days_diff_unsubscribed_at_sent_at']\n",
    "\n",
    "def apply_strategy_1(df, variables):\n",
    "    df_copy = df.copy()\n",
    "    \n",
    "    for var in variables:\n",
    "        summary5 = df[[var]].describe(include=\"all\")\n",
    "\n",
    "        # Determine outlier thresholds for the current variable\n",
    "        top, bottom = determine_outlier_thresholds_for_var(summary5[var])\n",
    "\n",
    "        # Apply the truncation strategy to the current variable\n",
    "        df_copy[var] = df_copy[var].apply(\n",
    "            lambda x: top if x > top else bottom if x < bottom else x\n",
    "        )\n",
    "\n",
    "        print(f\"Data after truncating outliers for {var}: {df_copy.shape}\")\n",
    "\n",
    "    return df_copy\n",
    "\n",
    "data_1 = apply_strategy_1(data, variables)\n",
    "\n",
    "data_1[variables].describe()"
   ]
  },
  {
   "cell_type": "markdown",
   "metadata": {},
   "source": [
    "## Out 1 Target Prep"
   ]
  },
  {
   "cell_type": "code",
   "execution_count": 26,
   "metadata": {},
   "outputs": [
    {
     "name": "stdout",
     "output_type": "stream",
     "text": [
      "Labels=[0.0, 1.0]\n"
     ]
    }
   ],
   "source": [
    "from numpy import array, ndarray\n",
    "\n",
    "\n",
    "y_1, X_1, labels, values = define_target_and_prepare_data(data_1, target)\n"
   ]
  },
  {
   "cell_type": "markdown",
   "metadata": {},
   "source": [
    "## Out 1 train/test split "
   ]
  },
  {
   "cell_type": "code",
   "execution_count": 27,
   "metadata": {},
   "outputs": [
    {
     "data": {
      "image/png": "[encoded data removed]",
      "text/plain": [
       "<Figure size 600x400 with 1 Axes>"
      ]
     },
     "metadata": {},
     "output_type": "display_data"
    }
   ],
   "source": [
    "from pandas import concat\n",
    "from matplotlib.pyplot import figure, show\n",
    "from sklearn.model_selection import train_test_split\n",
    "from dslabs_functions import plot_multibar_chart\n",
    "\n",
    "\n",
    "# Call the function to split the data\n",
    "train_1, test_1 = split_data_save_csv(pd.DataFrame(X_1, columns=data_1.columns), y_1, data_columns=data_1.columns, target_column=target)\n",
    "\n",
    "# Distribution check\n",
    "values[\"Train\"] = [\n",
    "    len(train_1[train_1[target] == 0]),\n",
    "    len(train_1[train_1[target] == 1]),\n",
    "]\n",
    "values[\"Test\"] = [\n",
    "    len(test_1[test_1[target] == 0]),\n",
    "    len(test_1[test_1[target] == 1]),\n",
    "]\n",
    "\n",
    "# Visualize the distribution\n",
    "figure(figsize=(6, 4))\n",
    "plot_multibar_chart(labels, values, title=\"Data distribution per dataset\")\n",
    "show()"
   ]
  },
  {
   "cell_type": "markdown",
   "metadata": {},
   "source": [
    "## Out 1 evaluate"
   ]
  },
  {
   "cell_type": "code",
   "execution_count": 28,
   "metadata": {},
   "outputs": [
    {
     "data": {
      "image/png": "[encoded data removed]",
      "text/plain": [
       "<Figure size 640x480 with 1 Axes>"
      ]
     },
     "metadata": {},
     "output_type": "display_data"
    }
   ],
   "source": [
    "# evaluate_approach is in data_functions originally from DSLABS/ Data Prep / Methodology\n",
    "# removed Multinomial from run_NB function because dataset has negative values\n",
    "\n",
    "figure()\n",
    "eval_1: dict[str, list] = evaluate_approach(train_1, test_1, target='is_unsubscribed', metric=\"recall\")\n",
    "plot_multibar_chart(\n",
    "    [\"NB\", \"KNN\"], eval_1, title=f\"{file_tag}_1_evaluation\", percentage=True\n",
    ")\n",
    "savefig(f\"images/{file_tag}_1_evaluation.png\")\n",
    "show()"
   ]
  },
  {
   "cell_type": "markdown",
   "metadata": {},
   "source": [
    "# Out 2 - drop outlier strategy\n"
   ]
  },
  {
   "cell_type": "markdown",
   "metadata": {},
   "source": [
    "## Out 2 strategy aplication"
   ]
  },
  {
   "cell_type": "code",
   "execution_count": 29,
   "metadata": {},
   "outputs": [
    {
     "name": "stdout",
     "output_type": "stream",
     "text": [
      "Data after removing outliers for days_diff_opened_first_time_at_sent_at: (793698, 42)\n",
      "Data after removing outliers for days_diff_clicked_first_time_at_sent_at: (792750, 42)\n",
      "Data after removing outliers for days_diff_unsubscribed_at_sent_at: (792359, 42)\n"
     ]
    },
    {
     "data": {
      "text/html": [
       "<div>\n",
       "<style scoped>\n",
       "    .dataframe tbody tr th:only-of-type {\n",
       "        vertical-align: middle;\n",
       "    }\n",
       "\n",
       "    .dataframe tbody tr th {\n",
       "        vertical-align: top;\n",
       "    }\n",
       "\n",
       "    .dataframe thead th {\n",
       "        text-align: right;\n",
       "    }\n",
       "</style>\n",
       "<table border=\"1\" class=\"dataframe\">\n",
       "  <thead>\n",
       "    <tr style=\"text-align: right;\">\n",
       "      <th></th>\n",
       "      <th>days_diff_opened_first_time_at_sent_at</th>\n",
       "      <th>days_diff_clicked_first_time_at_sent_at</th>\n",
       "      <th>days_diff_unsubscribed_at_sent_at</th>\n",
       "    </tr>\n",
       "  </thead>\n",
       "  <tbody>\n",
       "    <tr>\n",
       "      <th>count</th>\n",
       "      <td>792359.000000</td>\n",
       "      <td>792359.000000</td>\n",
       "      <td>792359.000000</td>\n",
       "    </tr>\n",
       "    <tr>\n",
       "      <th>mean</th>\n",
       "      <td>0.967942</td>\n",
       "      <td>1.141444</td>\n",
       "      <td>0.348958</td>\n",
       "    </tr>\n",
       "    <tr>\n",
       "      <th>std</th>\n",
       "      <td>0.412757</td>\n",
       "      <td>0.132602</td>\n",
       "      <td>0.068733</td>\n",
       "    </tr>\n",
       "    <tr>\n",
       "      <th>min</th>\n",
       "      <td>0.000000</td>\n",
       "      <td>0.000000</td>\n",
       "      <td>-1.000000</td>\n",
       "    </tr>\n",
       "    <tr>\n",
       "      <th>25%</th>\n",
       "      <td>1.090705</td>\n",
       "      <td>1.155946</td>\n",
       "      <td>0.362203</td>\n",
       "    </tr>\n",
       "    <tr>\n",
       "      <th>50%</th>\n",
       "      <td>1.090705</td>\n",
       "      <td>1.155946</td>\n",
       "      <td>0.362203</td>\n",
       "    </tr>\n",
       "    <tr>\n",
       "      <th>75%</th>\n",
       "      <td>1.090705</td>\n",
       "      <td>1.155946</td>\n",
       "      <td>0.362203</td>\n",
       "    </tr>\n",
       "    <tr>\n",
       "      <th>max</th>\n",
       "      <td>5.000000</td>\n",
       "      <td>2.000000</td>\n",
       "      <td>1.000000</td>\n",
       "    </tr>\n",
       "  </tbody>\n",
       "</table>\n",
       "</div>"
      ],
      "text/plain": [
       "       days_diff_opened_first_time_at_sent_at  \\\n",
       "count                           792359.000000   \n",
       "mean                                 0.967942   \n",
       "std                                  0.412757   \n",
       "min                                  0.000000   \n",
       "25%                                  1.090705   \n",
       "50%                                  1.090705   \n",
       "75%                                  1.090705   \n",
       "max                                  5.000000   \n",
       "\n",
       "       days_diff_clicked_first_time_at_sent_at  \\\n",
       "count                            792359.000000   \n",
       "mean                                  1.141444   \n",
       "std                                   0.132602   \n",
       "min                                   0.000000   \n",
       "25%                                   1.155946   \n",
       "50%                                   1.155946   \n",
       "75%                                   1.155946   \n",
       "max                                   2.000000   \n",
       "\n",
       "       days_diff_unsubscribed_at_sent_at  \n",
       "count                      792359.000000  \n",
       "mean                            0.348958  \n",
       "std                             0.068733  \n",
       "min                            -1.000000  \n",
       "25%                             0.362203  \n",
       "50%                             0.362203  \n",
       "75%                             0.362203  \n",
       "max                             1.000000  "
      ]
     },
     "execution_count": 29,
     "metadata": {},
     "output_type": "execute_result"
    }
   ],
   "source": [
    "from pandas import DataFrame, Series\n",
    "\n",
    "# List of variables you want to apply the outlier strategy to\n",
    "variables = ['days_diff_opened_first_time_at_sent_at', 'days_diff_clicked_first_time_at_sent_at', \n",
    "             'days_diff_unsubscribed_at_sent_at']\n",
    "\n",
    "def apply_strategy_2(df, variables):\n",
    "    df_copy = df.copy()\n",
    "    \n",
    "    for var in variables:\n",
    "        # Calculate the summary statistics for the current variable\n",
    "        summary5 = df[[var]].describe(include=\"all\")\n",
    "\n",
    "        # Determine outlier thresholds for the current variable\n",
    "        top, bottom = determine_outlier_thresholds_for_var(summary5[var])\n",
    "\n",
    "        # Identify outliers for the current variable\n",
    "        outliers: DataFrame = df_copy[(df_copy[var] > top) | (df_copy[var] < bottom)]\n",
    "\n",
    "        # Drop the outliers from the DataFrame\n",
    "        df_copy.drop(outliers.index, axis=0, inplace=True)\n",
    "\n",
    "        print(f\"Data after removing outliers for {var}: {df_copy.shape}\")\n",
    "\n",
    "    return df_copy\n",
    "\n",
    "data_2 = apply_strategy_2(data, variables)\n",
    "\n",
    "data_2[variables].describe()\n"
   ]
  },
  {
   "cell_type": "markdown",
   "metadata": {},
   "source": [
    "## Out 2 target prep"
   ]
  },
  {
   "cell_type": "code",
   "execution_count": 30,
   "metadata": {},
   "outputs": [
    {
     "name": "stdout",
     "output_type": "stream",
     "text": [
      "Labels=[0.0, 1.0]\n"
     ]
    }
   ],
   "source": [
    "y_2, X_2, labels, class_counts = define_target_and_prepare_data(data_2, target=target)\n"
   ]
  },
  {
   "cell_type": "markdown",
   "metadata": {},
   "source": [
    "## Out 2 train/test split "
   ]
  },
  {
   "cell_type": "code",
   "execution_count": 31,
   "metadata": {},
   "outputs": [
    {
     "data": {
      "text/plain": [
       "<Axes: title={'center': 'Data distribution per dataset'}>"
      ]
     },
     "execution_count": 31,
     "metadata": {},
     "output_type": "execute_result"
    },
    {
     "data": {
      "image/png": "[encoded data removed]",
      "text/plain": [
       "<Figure size 600x400 with 1 Axes>"
      ]
     },
     "metadata": {},
     "output_type": "display_data"
    }
   ],
   "source": [
    "from pandas import concat\n",
    "from matplotlib.pyplot import figure, show\n",
    "from sklearn.model_selection import train_test_split\n",
    "from dslabs_functions import plot_multibar_chart\n",
    "\n",
    "# train/test split from DSLABS Classification/Evaluation Chapter\n",
    "# created split_data_save_csv on data_functions\n",
    "\n",
    "# Call the function to split the data\n",
    "train_2, test_2 = split_data_save_csv(pd.DataFrame(X_2, columns=data_2.columns), y_2, data_columns=data_2.columns, target_column=target)\n",
    "\n",
    "\n",
    "values[\"Train\"] = [\n",
    "    len(train_2[train_2[target] == 0]),\n",
    "    len(train_2[train_2[target] == 1]),\n",
    "]\n",
    "values[\"Test\"] = [\n",
    "    len(test_2[test_2[target] == 0]),\n",
    "    len(test_2[test_2[target] == 1]),\n",
    "]\n",
    "\n",
    "figure(figsize=(6, 4))\n",
    "plot_multibar_chart(labels, values, title=\"Data distribution per dataset\")"
   ]
  },
  {
   "cell_type": "markdown",
   "metadata": {},
   "source": [
    "## Out 2 evaluate"
   ]
  },
  {
   "cell_type": "code",
   "execution_count": 32,
   "metadata": {},
   "outputs": [
    {
     "data": {
      "image/png": "[encoded data removed]",
      "text/plain": [
       "<Figure size 640x480 with 1 Axes>"
      ]
     },
     "metadata": {},
     "output_type": "display_data"
    }
   ],
   "source": [
    "\n",
    "figure()\n",
    "eval_2: dict[str, list] = evaluate_approach(train_2, test_2, target='is_unsubscribed', metric=\"recall\")\n",
    "plot_multibar_chart(\n",
    "    [\"NB\", \"KNN\"], eval_2, title=f\"{file_tag}_2_evaluation\", percentage=True\n",
    ")\n",
    "savefig(f\"images/{file_tag}_2_evaluation.png\")\n",
    "show()"
   ]
  },
  {
   "cell_type": "markdown",
   "metadata": {},
   "source": [
    "# Approach uplift comparison"
   ]
  },
  {
   "cell_type": "markdown",
   "metadata": {},
   "source": [
    "## uplift df"
   ]
  },
  {
   "cell_type": "code",
   "execution_count": 33,
   "metadata": {},
   "outputs": [
    {
     "data": {
      "text/html": [
       "<div>\n",
       "<style scoped>\n",
       "    .dataframe tbody tr th:only-of-type {\n",
       "        vertical-align: middle;\n",
       "    }\n",
       "\n",
       "    .dataframe tbody tr th {\n",
       "        vertical-align: top;\n",
       "    }\n",
       "\n",
       "    .dataframe thead tr th {\n",
       "        text-align: left;\n",
       "    }\n",
       "</style>\n",
       "<table border=\"1\" class=\"dataframe\">\n",
       "  <thead>\n",
       "    <tr>\n",
       "      <th></th>\n",
       "      <th colspan=\"5\" halign=\"left\">Approach 1</th>\n",
       "      <th colspan=\"5\" halign=\"left\">Approach 2</th>\n",
       "      <th colspan=\"5\" halign=\"left\">Uplift</th>\n",
       "    </tr>\n",
       "    <tr>\n",
       "      <th></th>\n",
       "      <th>accuracy</th>\n",
       "      <th>recall</th>\n",
       "      <th>precision</th>\n",
       "      <th>auc</th>\n",
       "      <th>f1</th>\n",
       "      <th>accuracy</th>\n",
       "      <th>recall</th>\n",
       "      <th>precision</th>\n",
       "      <th>auc</th>\n",
       "      <th>f1</th>\n",
       "      <th>accuracy</th>\n",
       "      <th>recall</th>\n",
       "      <th>precision</th>\n",
       "      <th>auc</th>\n",
       "      <th>f1</th>\n",
       "    </tr>\n",
       "  </thead>\n",
       "  <tbody>\n",
       "    <tr>\n",
       "      <th>Naive Bayes</th>\n",
       "      <td>0.997843</td>\n",
       "      <td>0.806222</td>\n",
       "      <td>1.000</td>\n",
       "      <td>0.903111</td>\n",
       "      <td>0.892716</td>\n",
       "      <td>0.998574</td>\n",
       "      <td>0.859044</td>\n",
       "      <td>1.000000</td>\n",
       "      <td>0.929522</td>\n",
       "      <td>0.924178</td>\n",
       "      <td>0.000731</td>\n",
       "      <td>0.052822</td>\n",
       "      <td>0.000000</td>\n",
       "      <td>0.026411</td>\n",
       "      <td>0.031462</td>\n",
       "    </tr>\n",
       "    <tr>\n",
       "      <th>KNN</th>\n",
       "      <td>0.993274</td>\n",
       "      <td>0.572714</td>\n",
       "      <td>0.764</td>\n",
       "      <td>0.785361</td>\n",
       "      <td>0.654670</td>\n",
       "      <td>0.994270</td>\n",
       "      <td>0.628274</td>\n",
       "      <td>0.763517</td>\n",
       "      <td>0.813143</td>\n",
       "      <td>0.689325</td>\n",
       "      <td>0.000996</td>\n",
       "      <td>0.055561</td>\n",
       "      <td>-0.000483</td>\n",
       "      <td>0.027782</td>\n",
       "      <td>0.034655</td>\n",
       "    </tr>\n",
       "  </tbody>\n",
       "</table>\n",
       "</div>"
      ],
      "text/plain": [
       "            Approach 1                                         Approach 2  \\\n",
       "              accuracy    recall precision       auc        f1   accuracy   \n",
       "Naive Bayes   0.997843  0.806222     1.000  0.903111  0.892716   0.998574   \n",
       "KNN           0.993274  0.572714     0.764  0.785361  0.654670   0.994270   \n",
       "\n",
       "                                                       Uplift            \\\n",
       "               recall precision       auc        f1  accuracy    recall   \n",
       "Naive Bayes  0.859044  1.000000  0.929522  0.924178  0.000731  0.052822   \n",
       "KNN          0.628274  0.763517  0.813143  0.689325  0.000996  0.055561   \n",
       "\n",
       "                                           \n",
       "            precision       auc        f1  \n",
       "Naive Bayes  0.000000  0.026411  0.031462  \n",
       "KNN         -0.000483  0.027782  0.034655  "
      ]
     },
     "execution_count": 33,
     "metadata": {},
     "output_type": "execute_result"
    }
   ],
   "source": [
    "algorithms = ['Naive Bayes', 'KNN']\n",
    "\n",
    "# Create DataFrames for eval_1 and eval_2\n",
    "df_eval_1 = pd.DataFrame(eval_1, index=algorithms)\n",
    "df_eval_2 = pd.DataFrame(eval_2, index=algorithms)\n",
    "\n",
    "# Calculate uplift\n",
    "df_uplift = df_eval_2 - df_eval_1\n",
    "\n",
    "# Combine everything into one DataFrame (without misalignment issues)\n",
    "comparison_df = pd.concat([df_eval_1, df_eval_2, df_uplift], axis=1)\n",
    "comparison_df.columns = pd.MultiIndex.from_product([['Approach 1', 'Approach 2', 'Uplift'], eval_1.keys()])\n",
    "\n",
    "# Display the DataFrame\n",
    "comparison_df"
   ]
  },
  {
   "cell_type": "markdown",
   "metadata": {},
   "source": [
    "# save to csv"
   ]
  },
  {
   "cell_type": "code",
   "execution_count": 34,
   "metadata": {},
   "outputs": [
    {
     "name": "stdout",
     "output_type": "stream",
     "text": [
      "Data after removing outliers for days_diff_opened_first_time_at_sent_at: (793698, 42)\n",
      "Data after removing outliers for days_diff_clicked_first_time_at_sent_at: (792750, 42)\n",
      "Data after removing outliers for days_diff_unsubscribed_at_sent_at: (792359, 42)\n"
     ]
    }
   ],
   "source": [
    "if test_data==False:\n",
    "    \n",
    "    # out1 strategy applied (online truncation)\n",
    "    data=apply_strategy_2(data, variables)\n",
    "    \n",
    "    data.to_csv(f\"dataset/df_msg_outlier_input.csv\", index=False)"
   ]
  }
 ],
 "metadata": {
  "kernelspec": {
   "display_name": "base",
   "language": "python",
   "name": "python3"
  },
  "language_info": {
   "codemirror_mode": {
    "name": "ipython",
    "version": 3
   },
   "file_extension": ".py",
   "mimetype": "text/x-python",
   "name": "python",
   "nbconvert_exporter": "python",
   "pygments_lexer": "ipython3",
   "version": "3.12.4"
  }
 },
 "nbformat": 4,
 "nbformat_minor": 2
}
