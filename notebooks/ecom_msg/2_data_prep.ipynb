{
 "cells": [
  {
   "cell_type": "markdown",
   "metadata": {},
   "source": [
    "# Files and imports"
   ]
  },
  {
   "cell_type": "code",
   "execution_count": 1,
   "metadata": {},
   "outputs": [],
   "source": [
    "from pandas import read_csv, DataFrame\n",
    "import pandas as pd\n",
    "\n",
    "filepath = r'dataset/df_msg_data_prof.csv'\n",
    "file_tag = \"ecom_msg\"\n",
    "\n",
    "\n",
    "data: DataFrame = read_csv(filepath, na_values=\"\")"
   ]
  },
  {
   "cell_type": "markdown",
   "metadata": {},
   "source": [
    "# Processing each task:"
   ]
  },
  {
   "cell_type": "code",
   "execution_count": null,
   "metadata": {},
   "outputs": [],
   "source": [
    "from numpy import ndarray\n",
    "from pandas import DataFrame, read_csv\n",
    "from matplotlib.pyplot import savefig, show, figure\n",
    "from dslabs_functions import plot_multibar_chart, CLASS_EVAL_METRICS, run_NB, run_KNN\n",
    "\n",
    "\n",
    "def evaluate_approach(\n",
    "    train: DataFrame, test: DataFrame, target: str = \"class\", metric: str = \"accuracy\"\n",
    ") -> dict[str, list]:\n",
    "    trnY = train.pop(target).values\n",
    "    trnX: ndarray = train.values\n",
    "    tstY = test.pop(target).values\n",
    "    tstX: ndarray = test.values\n",
    "    eval: dict[str, list] = {}\n",
    "\n",
    "    eval_NB: dict[str, float] = run_NB(trnX, trnY, tstX, tstY, metric=metric)\n",
    "    eval_KNN: dict[str, float] = run_KNN(trnX, trnY, tstX, tstY, metric=metric)\n",
    "    if eval_NB != {} and eval_KNN != {}:\n",
    "        for met in CLASS_EVAL_METRICS:\n",
    "            eval[met] = [eval_NB[met], eval_KNN[met]]\n",
    "    return eval\n",
    "\n",
    "\n",
    "target = \"stroke\"\n",
    "file_tag = \"stroke\"\n",
    "train: DataFrame = read_csv(\"data/stroke_train.csv\")\n",
    "test: DataFrame = read_csv(\"data/stroke_test.csv\")\n",
    "\n",
    "figure()\n",
    "eval: dict[str, list] = evaluate_approach(train, test, target=target, metric=\"recall\")\n",
    "plot_multibar_chart(\n",
    "    [\"NB\", \"KNN\"], eval, title=f\"{file_tag} evaluation\", percentage=True\n",
    ")\n",
    "#savefig(f\"./{file_tag}_eval.png\")\n",
    "show()"
   ]
  },
  {
   "cell_type": "markdown",
   "metadata": {},
   "source": [
    "# Variable Encoding"
   ]
  },
  {
   "cell_type": "markdown",
   "metadata": {},
   "source": [
    "## Ordinal Encoding\n"
   ]
  },
  {
   "cell_type": "code",
   "execution_count": null,
   "metadata": {},
   "outputs": [],
   "source": [
    "from pandas import read_csv, DataFrame\n",
    "from dslabs_functions import get_variable_types, encode_cyclic_variables, dummify\n",
    "\n",
    "data: DataFrame = read_csv(filepath, index_col=\"id\", na_values=\"\")\n",
    "vars: dict[str, list] = get_variable_types(data)\n",
    "\n",
    "true_false: dict[str, int] = {\"false\": 0, \"False\": 0, \"true\": 1, \"True\": 1}\n",
    "#message_type_values: dict[str, int] = {\"bulk\": 0, \"trigger\": 1}\n",
    "\n",
    "encoding: dict[str, dict[str, int]] = {\n",
    "#    \"message_type_values\": residence_type_values,\n",
    "    \"is_opened\": true_false,\n",
    "    \"is_clicked\": true_false,\n",
    "    \"is_unsubscribed\": true_false,\n",
    "    \"is_hard_bounced\": true_false,\n",
    "    \"is_soft_bounced\": true_false,\n",
    "    \"is_complained\": true_false,\n",
    "    \"is_purchased\": true_false,\n",
    "    \"subject_with_personalization\": true_false,\n",
    "    \"subject_with_deadline\": true_false,\n",
    "    \"subject_with_emoji\": true_false,\n",
    "    \"subject_with_bonuses\": true_false,\n",
    "    \"subject_with_discount\": true_false,\n",
    "    \"subject_with_saleout\": true_false,\n",
    "\n",
    "}\n",
    "df: DataFrame = data.replace(encoding, inplace=False)\n",
    "df.head()"
   ]
  },
  {
   "cell_type": "markdown",
   "metadata": {},
   "source": [
    "## Cyclic variables"
   ]
  },
  {
   "cell_type": "markdown",
   "metadata": {},
   "source": []
  }
 ],
 "metadata": {
  "kernelspec": {
   "display_name": "Python 3",
   "language": "python",
   "name": "python3"
  },
  "language_info": {
   "codemirror_mode": {
    "name": "ipython",
    "version": 3
   },
   "file_extension": ".py",
   "mimetype": "text/x-python",
   "name": "python",
   "nbconvert_exporter": "python",
   "pygments_lexer": "ipython3",
   "version": "3.12.4"
  }
 },
 "nbformat": 4,
 "nbformat_minor": 2
}
