{
 "cells": [
  {
   "cell_type": "markdown",
   "metadata": {},
   "source": [
    "# Files and imports"
   ]
  },
  {
   "cell_type": "code",
   "execution_count": 1,
   "metadata": {},
   "outputs": [],
   "source": [
    "from pandas import read_csv, DataFrame\n",
    "import pandas as pd\n",
    "\n",
    "filepath = r'dataset/df_msg_data_prof.csv'\n",
    "file_tag = \"ecom_msg\"\n",
    "\n",
    "\n",
    "data: DataFrame = read_csv(filepath, na_values=\"\")"
   ]
  },
  {
   "cell_type": "markdown",
   "metadata": {},
   "source": [
    "# Data prep and transformation"
   ]
  },
  {
   "cell_type": "markdown",
   "metadata": {},
   "source": [
    "## Remove columns"
   ]
  },
  {
   "cell_type": "code",
   "execution_count": null,
   "metadata": {},
   "outputs": [],
   "source": [
    "#drop id columns - are not relevant for the prediction of the class\n",
    "\n",
    "data = data.drop(columns=['message_id', 'id_msg', 'campaign_id','client_id'])"
   ]
  },
  {
   "cell_type": "code",
   "execution_count": null,
   "metadata": {},
   "outputs": [],
   "source": [
    "#drop MV columns - where MV values are around 90% or above. \n",
    "\n",
    "data = data.drop(columns=[\"category\", \"blocked_at\", \"complained_at\", \"soft_bounced_at\", \"purchased_at\", \"hard_bounced_at\",\n",
    "                          \"clicked_first_time_at\", \"clicked_last_time_at\", \"unsubscribed_at\", \"platform\"])"
   ]
  },
  {
   "cell_type": "markdown",
   "metadata": {},
   "source": [
    "## Split 'date' column"
   ]
  },
  {
   "cell_type": "code",
   "execution_count": 4,
   "metadata": {},
   "outputs": [
    {
     "data": {
      "text/html": [
       "<div>\n",
       "<style scoped>\n",
       "    .dataframe tbody tr th:only-of-type {\n",
       "        vertical-align: middle;\n",
       "    }\n",
       "\n",
       "    .dataframe tbody tr th {\n",
       "        vertical-align: top;\n",
       "    }\n",
       "\n",
       "    .dataframe thead th {\n",
       "        text-align: right;\n",
       "    }\n",
       "</style>\n",
       "<table border=\"1\" class=\"dataframe\">\n",
       "  <thead>\n",
       "    <tr style=\"text-align: right;\">\n",
       "      <th></th>\n",
       "      <th>id</th>\n",
       "      <th>message_id</th>\n",
       "      <th>campaign_id</th>\n",
       "      <th>message_type</th>\n",
       "      <th>client_id</th>\n",
       "      <th>channel</th>\n",
       "      <th>category</th>\n",
       "      <th>platform</th>\n",
       "      <th>email_provider</th>\n",
       "      <th>stream</th>\n",
       "      <th>...</th>\n",
       "      <th>purchased_at_month</th>\n",
       "      <th>purchased_at_day</th>\n",
       "      <th>week_of_month</th>\n",
       "      <th>is_weekend</th>\n",
       "      <th>day_of_week</th>\n",
       "      <th>day_of_month</th>\n",
       "      <th>hour</th>\n",
       "      <th>min</th>\n",
       "      <th>time_of_day</th>\n",
       "      <th>month</th>\n",
       "    </tr>\n",
       "  </thead>\n",
       "  <tbody>\n",
       "  </tbody>\n",
       "</table>\n",
       "<p>0 rows × 88 columns</p>\n",
       "</div>"
      ],
      "text/plain": [
       "Empty DataFrame\n",
       "Columns: [id, message_id, campaign_id, message_type, client_id, channel, category, platform, email_provider, stream, date, sent_at, is_opened, opened_first_time_at, opened_last_time_at, is_clicked, clicked_first_time_at, clicked_last_time_at, is_unsubscribed, unsubscribed_at, is_hard_bounced, hard_bounced_at, is_soft_bounced, soft_bounced_at, is_complained, complained_at, is_blocked, blocked_at, is_purchased, purchased_at, created_at, updated_at, date_year, date_quarter, date_month, date_day, sent_at_year, sent_at_quarter, sent_at_month, sent_at_day, opened_first_time_at_year, opened_first_time_at_quarter, opened_first_time_at_month, opened_first_time_at_day, opened_last_time_at_year, opened_last_time_at_quarter, opened_last_time_at_month, opened_last_time_at_day, clicked_first_time_at_year, clicked_first_time_at_quarter, clicked_first_time_at_month, clicked_first_time_at_day, clicked_last_time_at_year, clicked_last_time_at_quarter, clicked_last_time_at_month, clicked_last_time_at_day, unsubscribed_at_year, unsubscribed_at_quarter, unsubscribed_at_month, unsubscribed_at_day, hard_bounced_at_year, hard_bounced_at_quarter, hard_bounced_at_month, hard_bounced_at_day, soft_bounced_at_year, soft_bounced_at_quarter, soft_bounced_at_month, soft_bounced_at_day, complained_at_year, complained_at_quarter, complained_at_month, complained_at_day, blocked_at_year, blocked_at_quarter, blocked_at_month, blocked_at_day, purchased_at_year, purchased_at_quarter, purchased_at_month, purchased_at_day, week_of_month, is_weekend, day_of_week, day_of_month, hour, min, time_of_day, month]\n",
       "Index: []\n",
       "\n",
       "[0 rows x 88 columns]"
      ]
     },
     "execution_count": 4,
     "metadata": {},
     "output_type": "execute_result"
    }
   ],
   "source": [
    "import pandas as pd\n",
    "\n",
    "# Split the 'date'' column to have more information and detail on the:\n",
    "# - day_of_month\n",
    "# - day_ok_week \n",
    "# - is_weekend\n",
    "# - moment_of_day\n",
    "# - hour\n",
    "# - min\n",
    "#As the dataset only has data from sepecific month of 2021, we don't need to get the year, quarter.\n",
    "\n",
    "# Convert the 'date' column to datetime\n",
    "data['date'] = pd.to_datetime(data['date'], utc=True)\n",
    "\n",
    "# Create new columns based on the date column 'event_time'\n",
    "data['week_of_month'] = data['date'].apply(lambda x: (x.day - 1) // 7 + 1)\n",
    "data['is_weekend'] = data['date'].dt.weekday.apply(lambda x: \"weekend\" if x >= 5 else \"weekday\") \n",
    "data['day_of_week'] = data['date'].dt.day_name()  # Monday=0, Sunday=6\n",
    "data['day_of_month'] = data['date'].dt.day\n",
    "data['hour'] = data['date'].dt.hour\n",
    "data['min'] = data['date'].dt.minute\n",
    "\n",
    "# Create function to get time of the day\n",
    "def categorize_time_of_day(hour):\n",
    "    if 5 <= hour < 12:\n",
    "        return 'Morning'\n",
    "    elif 12 <= hour < 17:\n",
    "        return 'Afternoon'\n",
    "    elif 17 <= hour < 21:\n",
    "        return 'Evening'\n",
    "    else:\n",
    "        return 'Night'\n",
    "\n",
    "data['time_of_day'] = data['hour'].apply(categorize_time_of_day)\n",
    "\n",
    "# Extract the month from the data\n",
    "data['month'] = data['date'].dt.month_name()  # Get the full month name\n",
    "# Alternatively, to get the month number:\n",
    "# data['month'] = df['date'].data.month\n",
    "\n",
    "# Display the updated DataFrame\n",
    "data.head()\n"
   ]
  },
  {
   "cell_type": "markdown",
   "metadata": {},
   "source": [
    "# Processing each task:"
   ]
  },
  {
   "cell_type": "code",
   "execution_count": null,
   "metadata": {},
   "outputs": [],
   "source": [
    "from numpy import ndarray\n",
    "from pandas import DataFrame, read_csv\n",
    "from matplotlib.pyplot import savefig, show, figure\n",
    "from dslabs_functions import plot_multibar_chart, CLASS_EVAL_METRICS, run_NB, run_KNN\n",
    "\n",
    "\n",
    "def evaluate_approach(\n",
    "    train: DataFrame, test: DataFrame, target: str = \"class\", metric: str = \"accuracy\"\n",
    ") -> dict[str, list]:\n",
    "    trnY = train.pop(target).values\n",
    "    trnX: ndarray = train.values\n",
    "    tstY = test.pop(target).values\n",
    "    tstX: ndarray = test.values\n",
    "    eval: dict[str, list] = {}\n",
    "\n",
    "    eval_NB: dict[str, float] = run_NB(trnX, trnY, tstX, tstY, metric=metric)\n",
    "    eval_KNN: dict[str, float] = run_KNN(trnX, trnY, tstX, tstY, metric=metric)\n",
    "    if eval_NB != {} and eval_KNN != {}:\n",
    "        for met in CLASS_EVAL_METRICS:\n",
    "            eval[met] = [eval_NB[met], eval_KNN[met]]\n",
    "    return eval\n",
    "\n",
    "\n",
    "target = \"stroke\"\n",
    "file_tag = \"stroke\"\n",
    "train: DataFrame = read_csv(\"data/stroke_train.csv\")\n",
    "test: DataFrame = read_csv(\"data/stroke_test.csv\")\n",
    "\n",
    "figure()\n",
    "eval: dict[str, list] = evaluate_approach(train, test, target=target, metric=\"recall\")\n",
    "plot_multibar_chart(\n",
    "    [\"NB\", \"KNN\"], eval, title=f\"{file_tag} evaluation\", percentage=True\n",
    ")\n",
    "#savefig(f\"./{file_tag}_eval.png\")\n",
    "show()"
   ]
  },
  {
   "cell_type": "markdown",
   "metadata": {},
   "source": [
    "# Variable Encoding"
   ]
  },
  {
   "cell_type": "markdown",
   "metadata": {},
   "source": [
    "## Ordinal Encoding\n"
   ]
  },
  {
   "cell_type": "code",
   "execution_count": null,
   "metadata": {},
   "outputs": [],
   "source": [
    "from pandas import read_csv, DataFrame\n",
    "from dslabs_functions import get_variable_types, encode_cyclic_variables, dummify\n",
    "\n",
    "data: DataFrame = read_csv(filepath, index_col=\"id\", na_values=\"\")\n",
    "vars: dict[str, list] = get_variable_types(data)\n",
    "\n",
    "true_false: dict[str, int] = {\"false\": 0, \"False\": 0, \"true\": 1, \"True\": 1}\n",
    "#message_type_values: dict[str, int] = {\"bulk\": 0, \"trigger\": 1}\n",
    "\n",
    "encoding: dict[str, dict[str, int]] = {\n",
    "#    \"message_type_values\": residence_type_values,\n",
    "    \"is_opened\": true_false,\n",
    "    \"is_clicked\": true_false,\n",
    "    \"is_unsubscribed\": true_false,\n",
    "    \"is_hard_bounced\": true_false,\n",
    "    \"is_soft_bounced\": true_false,\n",
    "    \"is_complained\": true_false,\n",
    "    \"is_purchased\": true_false,\n",
    "    \"subject_with_personalization\": true_false,\n",
    "    \"subject_with_deadline\": true_false,\n",
    "    \"subject_with_emoji\": true_false,\n",
    "    \"subject_with_bonuses\": true_false,\n",
    "    \"subject_with_discount\": true_false,\n",
    "    \"subject_with_saleout\": true_false,\n",
    "\n",
    "}\n",
    "df: DataFrame = data.replace(encoding, inplace=False)\n",
    "df.head()"
   ]
  },
  {
   "cell_type": "markdown",
   "metadata": {},
   "source": [
    "## Cyclic variables"
   ]
  },
  {
   "cell_type": "markdown",
   "metadata": {},
   "source": []
  }
 ],
 "metadata": {
  "kernelspec": {
   "display_name": "Python 3",
   "language": "python",
   "name": "python3"
  },
  "language_info": {
   "codemirror_mode": {
    "name": "ipython",
    "version": 3
   },
   "file_extension": ".py",
   "mimetype": "text/x-python",
   "name": "python",
   "nbconvert_exporter": "python",
   "pygments_lexer": "ipython3",
   "version": "3.12.4"
  }
 },
 "nbformat": 4,
 "nbformat_minor": 2
}
