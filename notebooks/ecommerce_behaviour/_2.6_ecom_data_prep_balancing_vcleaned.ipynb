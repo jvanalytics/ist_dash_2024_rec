{
 "cells": [
  {
   "cell_type": "markdown",
   "metadata": {},
   "source": [
    "# File and libraries"
   ]
  },
  {
   "cell_type": "code",
   "execution_count": 9,
   "metadata": {},
   "outputs": [],
   "source": [
    "import pandas as pd\n",
    "import numpy as np\n",
    "from sklearn.model_selection import train_test_split\n",
    "\n",
    "\n",
    "filepath=r'dataset/df_ecom_2_2_mv_input'\n",
    "test_filepath= f\"{filepath}_test.csv\"\n",
    "train_filepath= f\"{filepath}_train.csv\"\n",
    "\n",
    "file_tag = \"df_merch_balancing_input\""
   ]
  },
  {
   "cell_type": "markdown",
   "metadata": {},
   "source": [
    "# DSLabs functions"
   ]
  },
  {
   "cell_type": "code",
   "execution_count": 5,
   "metadata": {},
   "outputs": [
    {
     "name": "stdout",
     "output_type": "stream",
     "text": [
      "dslabs_functions lodaded\n"
     ]
    }
   ],
   "source": [
    "%run \"dslabs_functions.py\"\n"
   ]
  },
  {
   "cell_type": "markdown",
   "metadata": {},
   "source": [
    "# Data functions"
   ]
  },
  {
   "cell_type": "code",
   "execution_count": 6,
   "metadata": {},
   "outputs": [
    {
     "name": "stdout",
     "output_type": "stream",
     "text": [
      "dslabs_functions lodaded\n",
      "data_functions loaded\n"
     ]
    }
   ],
   "source": [
    "%run \"data_functions.py\"\n"
   ]
  },
  {
   "cell_type": "markdown",
   "metadata": {},
   "source": [
    "# Load"
   ]
  },
  {
   "cell_type": "code",
   "execution_count": 10,
   "metadata": {},
   "outputs": [
    {
     "name": "stdout",
     "output_type": "stream",
     "text": [
      "<class 'pandas.core.frame.DataFrame'>\n",
      "Index: 258334 entries, 0 to 258333\n",
      "Data columns (total 18 columns):\n",
      " #   Column               Non-Null Count   Dtype  \n",
      "---  ------               --------------   -----  \n",
      " 0   category_code_lvl_1  258334 non-null  float64\n",
      " 1   category_code_lvl_2  258334 non-null  float64\n",
      " 2   price                258334 non-null  float64\n",
      " 3   is_purchase          258334 non-null  int64  \n",
      " 4   activity_in_session  258334 non-null  float64\n",
      " 5   week_of_month        258334 non-null  int64  \n",
      " 6   is_weekend           258334 non-null  int64  \n",
      " 7   day                  258334 non-null  int64  \n",
      " 8   brand_value          258334 non-null  float64\n",
      " 9   product_category     258334 non-null  int64  \n",
      " 10  time_of_day_sin      258334 non-null  float64\n",
      " 11  time_of_day_cos      258334 non-null  float64\n",
      " 12  day_of_week_sin      258334 non-null  float64\n",
      " 13  day_of_week_cos      258334 non-null  float64\n",
      " 14  hour_sin             258334 non-null  float64\n",
      " 15  hour_cos             258334 non-null  float64\n",
      " 16  min_sin              258334 non-null  float64\n",
      " 17  min_cos              258334 non-null  float64\n",
      "dtypes: float64(13), int64(5)\n",
      "memory usage: 37.4 MB\n"
     ]
    }
   ],
   "source": [
    "\n",
    "test_data=False\n",
    "# test_data=False\n",
    "\n",
    "# use to evaluate strategies. otherwise False to just transform data \n",
    "evaluate=True\n",
    "# evaluate=False\n",
    "\n",
    "\n",
    "if test_data==True:\n",
    "\n",
    "    df=pd.read_csv(f\"{filepath}.csv\")\n",
    "    \n",
    "    test= pd.read_csv(test_filepath)\n",
    "    train= pd.read_csv(train_filepath)\n",
    "\n",
    "    # sample\n",
    "    sample=0.05\n",
    "    df = df.groupby('day').apply(lambda x: sample_per_day(x, sample)).reset_index(drop=True)\n",
    "    test = test.groupby('day').apply(lambda x: sample_per_day(x, sample)).reset_index(drop=True)\n",
    "    train = train.groupby('day').apply(lambda x: sample_per_day(x, sample)).reset_index(drop=True)\n",
    "    \n",
    "    \n",
    "else:\n",
    "    df=pd.read_csv(f\"{filepath}.csv\")  \n",
    "    test= pd.read_csv(test_filepath)\n",
    "    train= pd.read_csv(train_filepath)\n",
    "\n",
    "\n",
    "\n",
    " \n",
    "target='is_purchase'\n",
    "vars: list[str] = df.columns.to_list()\n",
    "labels: list = list(df[target].unique())\n",
    "\n",
    "\n",
    "# ensure sorting by day_of_year for correct splitting \n",
    "# \"When in the presence of temporal data, data partition shall use older data to train and newer to test, in order to not use future data to classify past data. In any other case, partition shall be random.\"\n",
    "df.sort_values(by='day', inplace=True)\n",
    "test.sort_values(by='day', inplace=True)\n",
    "train.sort_values(by='day', inplace=True)\n",
    "\n",
    "\n",
    "\n",
    "df.info()"
   ]
  },
  {
   "cell_type": "code",
   "execution_count": null,
   "metadata": {},
   "outputs": [],
   "source": []
  },
  {
   "cell_type": "markdown",
   "metadata": {},
   "source": [
    "# Balancing Analysis"
   ]
  },
  {
   "cell_type": "code",
   "execution_count": 11,
   "metadata": {},
   "outputs": [
    {
     "name": "stdout",
     "output_type": "stream",
     "text": [
      "Minority class= 1 : 41454\n",
      "Majority class= 0 : 216880\n",
      "Original class distribution:\n",
      "is_purchase\n",
      "0    83.953332\n",
      "1    16.046668\n",
      "Name: proportion, dtype: float64\n",
      "\n"
     ]
    },
    {
     "data": {
      "image/png": "[encoded data removed]",
      "text/plain": [
       "<Figure size 640x480 with 1 Axes>"
      ]
     },
     "metadata": {},
     "output_type": "display_data"
    }
   ],
   "source": [
    "from pandas import read_csv, concat, DataFrame, Series\n",
    "from matplotlib.pyplot import figure, show\n",
    "from dslabs_functions import plot_bar_chart\n",
    "\n",
    "\n",
    "target_count: Series = df[target].value_counts()\n",
    "positive_class = target_count.idxmin()\n",
    "negative_class = target_count.idxmax()\n",
    "\n",
    "print(\"Minority class=\", positive_class, \":\", target_count[positive_class])\n",
    "print(\"Majority class=\", negative_class, \":\", target_count[negative_class])\n",
    "values: dict[str, list] = {\n",
    "    \"Original\": [target_count[positive_class], target_count[negative_class]]\n",
    "}\n",
    "\n",
    "print(f\"Original class distribution:\\n{df[target].value_counts(normalize=True) * 100}\\n\")\n",
    "\n",
    "\n",
    "figure()\n",
    "plot_bar_chart(\n",
    "    target_count.index.to_list(), target_count.to_list(), title=\"Class balance\"\n",
    ")\n",
    "show()"
   ]
  },
  {
   "cell_type": "code",
   "execution_count": null,
   "metadata": {},
   "outputs": [],
   "source": []
  },
  {
   "cell_type": "markdown",
   "metadata": {},
   "source": [
    "# Balance 1 - Undersampling"
   ]
  },
  {
   "cell_type": "markdown",
   "metadata": {},
   "source": [
    "## Bal 1 strategy Application"
   ]
  },
  {
   "cell_type": "code",
   "execution_count": 33,
   "metadata": {},
   "outputs": [
    {
     "name": "stdout",
     "output_type": "stream",
     "text": [
      "data_functions lodaded\n"
     ]
    }
   ],
   "source": [
    "\n",
    "def apply_balanced_downsampling(df: DataFrame,target='is_purchase') -> DataFrame:\n",
    "\n",
    "    df_copy=df.copy()\n",
    "\n",
    "\n",
    "    # Ensure positive_class and negative_class are defined and match the target values\n",
    "    positive_class = 1  # Or whatever your positive class value is\n",
    "    negative_class = 0  # Or whatever your negative class value is\n",
    "\n",
    "    # Separate the majority and minority classes\n",
    "    df_majority = df_copy[df_copy[target] == negative_class]\n",
    "    df_minority = df_copy[df_copy[target] == positive_class]\n",
    "\n",
    "    # Check the class distribution\n",
    "    print(f\"Original class distribution:\\n{df_copy[target].value_counts(normalize=True) * 100}\\n\")\n",
    "\n",
    "    # Downsample the majority class to match the size of the minority class\n",
    "    df_majority_downsampled = df_majority.sample(n=len(df_minority), random_state=42)\n",
    "\n",
    "    # Combine the downsampled majority class with the minority class\n",
    "    df_balanced = pd.concat([df_majority_downsampled, df_minority])\n",
    "\n",
    "    # sort  the combined dataset\n",
    "    df_balanced.sort_values(by='day', inplace=True)\n",
    "    \n",
    "\n",
    "    # Check the new class distribution to verify the balance\n",
    "    print(f\"Balanced class distribution:\\n{df_balanced[target].value_counts(normalize=True) * 100}\\n\")\n",
    "\n",
    "    \n",
    "    return df_balanced\n",
    "\n",
    "\n",
    "def apply_balanced_hybrid(df, target, minority_ratio=0.5):\n",
    "    # Create a copy of the dataframe\n",
    "    df_copy = df.copy()\n",
    "\n",
    "    # Define positive and negative classes\n",
    "    positive_class = 1  # Modify as per your positive class value\n",
    "    negative_class = 0  # Modify as per your negative class value\n",
    "\n",
    "    # Separate the majority and minority classes\n",
    "    df_majority = df_copy[df_copy[target] == negative_class]\n",
    "    df_minority = df_copy[df_copy[target] == positive_class]\n",
    "\n",
    "    # Check the current class distribution\n",
    "    print(f\"Original class distribution:\\n{df_copy[target].value_counts(normalize=True) * 100}\\n\")\n",
    "\n",
    "    # Sort by 'day_of_year' (or another time-related feature) to ensure the data is split based on time\n",
    "    df_majority.sort_values(by='day', inplace=True)\n",
    "    df_minority.sort_values(by='day', inplace=True)\n",
    "\n",
    "    # Determine the desired size for the final dataset\n",
    "    total_majority_samples = len(df_majority)\n",
    "    # total_minority_samples = len(df_minority)\n",
    "    \n",
    "    # Set the ratio for the majority and minority classes\n",
    "    desired_minority_ratio = minority_ratio\n",
    "    desired_majority_ratio = 1-minority_ratio\n",
    "\n",
    "\n",
    "    # Calculate the new majority size (XX% of the total number of majority samples)\n",
    "    downsampled_majority_size = int(desired_majority_ratio * total_majority_samples)\n",
    "\n",
    "    # Calculate the corresponding upsampled minority size (XX% of the downsampled majority size)\n",
    "    upsampled_minority_size = int(downsampled_majority_size * (desired_minority_ratio / desired_majority_ratio))\n",
    "    \n",
    "    # Downsample the majority class (keeping the older data based on 'day_of_year')\n",
    "    df_majority_downsampled = df_majority.head(downsampled_majority_size)\n",
    "\n",
    "    # Upsample the minority class to match the desired minority size for a XX/XX split\n",
    "    df_minority_upsampled = df_minority.sample(n=upsampled_minority_size, replace=True)\n",
    "\n",
    "    # Combine the downsampled majority and upsampled minority classes\n",
    "    df_balanced = pd.concat([df_majority_downsampled, df_minority_upsampled])\n",
    "\n",
    "    # Sort the dataset by 'day_of_year' again if needed\n",
    "    df_balanced.sort_values(by='day', inplace=True)\n",
    "\n",
    "    # Check the new class distribution\n",
    "    print(f\"Hybrid class distribution ({desired_majority_ratio*100}/{desired_minority_ratio*100}):\\n{df_balanced[target].value_counts(normalize=True) * 100}\\n\")\n",
    "\n",
    "    return df_balanced\n",
    "\n",
    "\n",
    "\n",
    "def apply_balanced_smote(df,target='is_purchase'):\n",
    "\n",
    "    from imblearn.over_sampling import SMOTE\n",
    "\n",
    "    # Create a copy of the dataframe\n",
    "    df_copy = df.copy()\n",
    "\n",
    "    print(f\"Original class distribution:\\n{df_copy[target].value_counts(normalize=True) * 100}\\n\")\n",
    "\n",
    "\n",
    "    # Separate the features (X) and the target (y)\n",
    "    X = df_copy.drop(columns=[target])\n",
    "    y = df_copy[target]\n",
    "\n",
    "    # Apply SMOTE to balance the data\n",
    "    smote = SMOTE(random_state=42)\n",
    "    X_res, y_res = smote.fit_resample(X, y)\n",
    "\n",
    "    # Recombine the features and target into a single dataframe\n",
    "    df_smote = pd.concat([pd.DataFrame(X_res, columns=X.columns), pd.DataFrame(y_res, columns=[target])], axis=1)\n",
    "\n",
    "    # Sort the dataset by 'day_of_year' again if needed\n",
    "    df_smote.sort_values(by='day', inplace=True)\n",
    "\n",
    "    print(f\"New class distribution:\\n{df_smote[target].value_counts(normalize=True) * 100}\\n\")\n",
    "\n",
    "\n",
    "    return df_smote\n",
    "\n",
    "print(\"data_functions lodaded\")\n",
    "\n",
    "\n"
   ]
  },
  {
   "cell_type": "code",
   "execution_count": 16,
   "metadata": {},
   "outputs": [
    {
     "name": "stdout",
     "output_type": "stream",
     "text": [
      "Original class distribution:\n",
      "is_purchase\n",
      "0    86.473708\n",
      "1    13.526292\n",
      "Name: proportion, dtype: float64\n",
      "\n",
      "Balanced class distribution:\n",
      "is_purchase\n",
      "1    50.0\n",
      "0    50.0\n",
      "Name: proportion, dtype: float64\n",
      "\n"
     ]
    }
   ],
   "source": [
    "from pandas import DataFrame, Series\n",
    "from sklearn.preprocessing import StandardScaler\n",
    "\n",
    "\n",
    "def apply_strategy_1(df: DataFrame) -> DataFrame:\n",
    "\n",
    "    df_copy=df.copy()\n",
    "\n",
    "    df_balanced=apply_balanced_downsampling(df_copy)\n",
    "    \n",
    "    return df_balanced\n",
    "\n",
    "\n",
    "train_1=apply_strategy_1(train)\n",
    "test_1=test.copy()\n"
   ]
  },
  {
   "cell_type": "code",
   "execution_count": 17,
   "metadata": {},
   "outputs": [
    {
     "data": {
      "image/png": "[encoded data removed]",
      "text/plain": [
       "<Figure size 640x480 with 1 Axes>"
      ]
     },
     "metadata": {},
     "output_type": "display_data"
    }
   ],
   "source": [
    "figure()\n",
    "plot_bar_chart(\n",
    "    target_count.index.to_list(), target_count.to_list(), title=\"Class balance\"\n",
    ")\n",
    "show()"
   ]
  },
  {
   "cell_type": "markdown",
   "metadata": {},
   "source": [
    "## Bal 1 train/test split "
   ]
  },
  {
   "cell_type": "code",
   "execution_count": 18,
   "metadata": {},
   "outputs": [
    {
     "data": {
      "image/png": "[encoded data removed]",
      "text/plain": [
       "<Figure size 600x400 with 1 Axes>"
      ]
     },
     "metadata": {},
     "output_type": "display_data"
    }
   ],
   "source": [
    "if evaluate==True:\n",
    "    from pandas import concat\n",
    "    from matplotlib.pyplot import figure, show\n",
    "    from dslabs_functions import plot_multibar_chart\n",
    "\n",
    "\n",
    "    # Distribution check\n",
    "\n",
    "\n",
    "    # Create a dictionary to store original class counts\n",
    "    values: dict[str, list[int]] = {\n",
    "        \"Original\": [\n",
    "            len(df[df[target] == 0]),  # Assuming 0 is the negative class\n",
    "            len(df[df[target] == 1]),  # Assuming 1 is the positive class\n",
    "        ]\n",
    "    }\n",
    "\n",
    "    values[\"Train\"] = [\n",
    "        len(train_1[train_1[target] == 0]),\n",
    "        len(train_1[train_1[target] == 1]),\n",
    "    ]\n",
    "    values[\"Test\"] = [\n",
    "        len(test_1[test_1[target] == 0]),\n",
    "        len(test_1[test_1[target] == 1]),\n",
    "    ]\n",
    "\n",
    "    # Visualize the distribution\n",
    "    figure(figsize=(6, 4))\n",
    "    plot_multibar_chart(labels, values, title=\"Data distribution per dataset\")\n",
    "    show()"
   ]
  },
  {
   "cell_type": "markdown",
   "metadata": {},
   "source": [
    "## Bal 1 evaluate"
   ]
  },
  {
   "cell_type": "code",
   "execution_count": 19,
   "metadata": {},
   "outputs": [
    {
     "data": {
      "image/png": "[encoded data removed]",
      "text/plain": [
       "<Figure size 640x480 with 1 Axes>"
      ]
     },
     "metadata": {},
     "output_type": "display_data"
    }
   ],
   "source": [
    "# evaluate_approach is in data_functions originally from DSLABS/ Data Prep / Methodology\n",
    "# removed Multinomial from run_NB function because dataset has negative values\n",
    "\n",
    "if evaluate==True:\n",
    "    figure()\n",
    "    eval_1: dict[str, list] = evaluate_approach(train_1, test_1, target='is_purchase', metric=\"precision\")\n",
    "    plot_multibar_chart(\n",
    "        [\"NB\", \"KNN\"], eval_1, title=f\"{file_tag}_approach_1_evaluation\", percentage=True\n",
    "    )\n",
    "    savefig(f\"images/{file_tag}_approach_1_evaluation.png\")\n",
    "    show()"
   ]
  },
  {
   "cell_type": "code",
   "execution_count": null,
   "metadata": {},
   "outputs": [],
   "source": []
  },
  {
   "cell_type": "markdown",
   "metadata": {},
   "source": [
    "# Bal 3 - SMOTE\n"
   ]
  },
  {
   "cell_type": "markdown",
   "metadata": {},
   "source": [
    "## Bal 2 strategy aplication"
   ]
  },
  {
   "cell_type": "code",
   "execution_count": 34,
   "metadata": {},
   "outputs": [
    {
     "name": "stdout",
     "output_type": "stream",
     "text": [
      "Original class distribution:\n",
      "is_purchase\n",
      "0    86.473708\n",
      "1    13.526292\n",
      "Name: proportion, dtype: float64\n",
      "\n",
      "New class distribution:\n",
      "is_purchase\n",
      "0    50.0\n",
      "1    50.0\n",
      "Name: proportion, dtype: float64\n",
      "\n"
     ]
    }
   ],
   "source": [
    "\n",
    "def apply_strategy_3(df):\n",
    "\n",
    "    # Create a copy of the dataframe\n",
    "    df_copy = df.copy()\n",
    "\n",
    "    df_smote=apply_balanced_smote(df_copy)\n",
    "\n",
    "\n",
    "    return df_smote\n",
    "\n",
    "\n",
    "train_3=apply_strategy_3(train)\n",
    "test_3=test.copy()\n"
   ]
  },
  {
   "cell_type": "code",
   "execution_count": 31,
   "metadata": {},
   "outputs": [
    {
     "name": "stdout",
     "output_type": "stream",
     "text": [
      "Class counts after SMOTE:\n",
      "is_purchase\n",
      "0    216880\n",
      "1    216880\n",
      "Name: count, dtype: int64\n"
     ]
    }
   ],
   "source": [
    "    print(\"Class counts after SMOTE:\")\n",
    "    print(df_2[target].value_counts())"
   ]
  },
  {
   "cell_type": "markdown",
   "metadata": {},
   "source": [
    "## Bal 3 train/test split "
   ]
  },
  {
   "cell_type": "code",
   "execution_count": 37,
   "metadata": {},
   "outputs": [
    {
     "data": {
      "image/png": "[encoded data removed]",
      "text/plain": [
       "<Figure size 600x400 with 1 Axes>"
      ]
     },
     "metadata": {},
     "output_type": "display_data"
    }
   ],
   "source": [
    "if evaluate==True:\n",
    "\n",
    "    from pandas import concat\n",
    "    from matplotlib.pyplot import figure, show\n",
    "    from dslabs_functions import plot_multibar_chart\n",
    "\n",
    "\n",
    "    # Distribution check\n",
    "\n",
    "\n",
    "    # Create a dictionary to store original class counts\n",
    "    values: dict[str, list[int]] = {\n",
    "        \"Original\": [\n",
    "            len(df[df[target] == 0]),  # Assuming 0 is the negative class\n",
    "            len(df[df[target] == 1]),  # Assuming 1 is the positive class\n",
    "        ]\n",
    "    }\n",
    "\n",
    "    values[\"Train\"] = [\n",
    "        len(train_3[train_3[target] == 0]),\n",
    "        len(train_3[train_3[target] == 1]),\n",
    "    ]\n",
    "    values[\"Test\"] = [\n",
    "        len(test_3[test_3[target] == 0]),\n",
    "        len(test_3[test_3[target] == 1]),\n",
    "    ]\n",
    "\n",
    "    # Visualize the distribution\n",
    "    figure(figsize=(6, 4))\n",
    "    plot_multibar_chart(labels, values, title=\"Data distribution per dataset\")\n",
    "    show()"
   ]
  },
  {
   "cell_type": "code",
   "execution_count": 39,
   "metadata": {},
   "outputs": [
    {
     "name": "stdout",
     "output_type": "stream",
     "text": [
      "Train set class distribution:\n",
      "is_purchase\n",
      "0    156373\n",
      "1    156373\n",
      "Name: count, dtype: int64\n",
      "Test set class distribution:\n",
      "is_purchase\n",
      "0    156373\n",
      "1    156373\n",
      "Name: count, dtype: int64\n"
     ]
    }
   ],
   "source": [
    "print(\"Train set class distribution:\")\n",
    "print(train_3[target].value_counts())\n",
    "\n",
    "print(\"Test set class distribution:\")\n",
    "print(train_3[target].value_counts())"
   ]
  },
  {
   "cell_type": "markdown",
   "metadata": {},
   "source": [
    "## Bal 3 evaluate"
   ]
  },
  {
   "cell_type": "code",
   "execution_count": 40,
   "metadata": {},
   "outputs": [
    {
     "data": {
      "image/png": "[encoded data removed]",
      "text/plain": [
       "<Figure size 640x480 with 1 Axes>"
      ]
     },
     "metadata": {},
     "output_type": "display_data"
    }
   ],
   "source": [
    "if evaluate == True:\n",
    "    figure()\n",
    "    eval_3: dict[str, list] = evaluate_approach(train_3, test_3, target='is_purchase', metric=\"precision\")\n",
    "    plot_multibar_chart(\n",
    "        [\"NB\", \"KNN\"], eval_3, title=f\"{file_tag}_approach_3_evaluation\", percentage=True\n",
    "    )\n",
    "    savefig(f\"images/{file_tag}_approach_3_evaluation.png\")\n",
    "    show()"
   ]
  },
  {
   "cell_type": "code",
   "execution_count": null,
   "metadata": {},
   "outputs": [],
   "source": []
  },
  {
   "cell_type": "markdown",
   "metadata": {},
   "source": [
    "# Bal 2 - Hybrid\n",
    "\n",
    "Reduce from negative class from 75 to 60% and then upsample the positives into 50/50\n"
   ]
  },
  {
   "cell_type": "markdown",
   "metadata": {},
   "source": [
    "## Bal 2 strategy aplication"
   ]
  },
  {
   "cell_type": "code",
   "execution_count": 25,
   "metadata": {},
   "outputs": [
    {
     "name": "stdout",
     "output_type": "stream",
     "text": [
      "Original class distribution:\n",
      "is_purchase\n",
      "0    86.473708\n",
      "1    13.526292\n",
      "Name: proportion, dtype: float64\n",
      "\n",
      "Hybrid class distribution (60.0/40.0):\n",
      "is_purchase\n",
      "0    60.000256\n",
      "1    39.999744\n",
      "Name: proportion, dtype: float64\n",
      "\n"
     ]
    }
   ],
   "source": [
    "def apply_strategy_2(df):\n",
    "    # Create a copy of the dataframe\n",
    "    df_copy = df.copy()\n",
    "\n",
    "    df_balanced=apply_balanced_hybrid(df_copy,target='is_purchase',minority_ratio=0.4)\n",
    "\n",
    "    return df_balanced\n",
    "\n",
    "\n",
    "train_2=apply_strategy_2(train)\n",
    "test_2=test.copy()"
   ]
  },
  {
   "cell_type": "code",
   "execution_count": 111,
   "metadata": {},
   "outputs": [
    {
     "name": "stdout",
     "output_type": "stream",
     "text": [
      "<class 'pandas.core.frame.DataFrame'>\n",
      "Index: 177828 entries, 0 to 177827\n",
      "Data columns (total 18 columns):\n",
      " #   Column               Non-Null Count   Dtype  \n",
      "---  ------               --------------   -----  \n",
      " 0   category_code_lvl_1  177828 non-null  float64\n",
      " 1   category_code_lvl_2  177828 non-null  float64\n",
      " 2   category_code_lvl_3  177828 non-null  float64\n",
      " 3   price                177828 non-null  float64\n",
      " 4   week_of_month        177828 non-null  int64  \n",
      " 5   is_weekend           177828 non-null  int64  \n",
      " 6   day                  177828 non-null  int64  \n",
      " 7   is_view              177828 non-null  int64  \n",
      " 8   is_cart              177828 non-null  int64  \n",
      " 9   is_purchase          177828 non-null  int64  \n",
      " 10  time_of_day_sin      177828 non-null  float64\n",
      " 11  time_of_day_cos      177828 non-null  float64\n",
      " 12  day_of_week_sin      177828 non-null  float64\n",
      " 13  day_of_week_cos      177828 non-null  float64\n",
      " 14  hour_sin             177828 non-null  float64\n",
      " 15  hour_cos             177828 non-null  float64\n",
      " 16  min_sin              177828 non-null  float64\n",
      " 17  min_cos              177828 non-null  float64\n",
      "dtypes: float64(12), int64(6)\n",
      "memory usage: 25.8 MB\n"
     ]
    }
   ],
   "source": [
    "df.info()"
   ]
  },
  {
   "cell_type": "code",
   "execution_count": 139,
   "metadata": {},
   "outputs": [
    {
     "name": "stdout",
     "output_type": "stream",
     "text": [
      "<class 'pandas.core.frame.DataFrame'>\n",
      "Index: 74686 entries, 0 to 122055\n",
      "Data columns (total 18 columns):\n",
      " #   Column               Non-Null Count  Dtype  \n",
      "---  ------               --------------  -----  \n",
      " 0   category_code_lvl_1  74686 non-null  float64\n",
      " 1   category_code_lvl_2  74686 non-null  float64\n",
      " 2   category_code_lvl_3  74686 non-null  float64\n",
      " 3   price                74686 non-null  float64\n",
      " 4   week_of_month        74686 non-null  float64\n",
      " 5   is_weekend           74686 non-null  float64\n",
      " 6   day                  74686 non-null  float64\n",
      " 7   is_view              74686 non-null  float64\n",
      " 8   is_cart              74686 non-null  float64\n",
      " 9   time_of_day_sin      74686 non-null  float64\n",
      " 10  time_of_day_cos      74686 non-null  float64\n",
      " 11  day_of_week_sin      74686 non-null  float64\n",
      " 12  day_of_week_cos      74686 non-null  float64\n",
      " 13  hour_sin             74686 non-null  float64\n",
      " 14  hour_cos             74686 non-null  float64\n",
      " 15  min_sin              74686 non-null  float64\n",
      " 16  min_cos              74686 non-null  float64\n",
      " 17  is_purchase          74686 non-null  int64  \n",
      "dtypes: float64(17), int64(1)\n",
      "memory usage: 10.8 MB\n"
     ]
    }
   ],
   "source": [
    "df_2.info()"
   ]
  },
  {
   "cell_type": "code",
   "execution_count": 108,
   "metadata": {},
   "outputs": [
    {
     "name": "stdout",
     "output_type": "stream",
     "text": [
      "<class 'pandas.core.frame.DataFrame'>\n",
      "Index: 53349 entries, 0 to 53348\n",
      "Data columns (total 18 columns):\n",
      " #   Column               Non-Null Count  Dtype  \n",
      "---  ------               --------------  -----  \n",
      " 0   category_code_lvl_1  53349 non-null  float64\n",
      " 1   category_code_lvl_2  53349 non-null  float64\n",
      " 2   category_code_lvl_3  53349 non-null  float64\n",
      " 3   price                53349 non-null  float64\n",
      " 4   week_of_month        53349 non-null  float64\n",
      " 5   is_weekend           53349 non-null  float64\n",
      " 6   day                  53349 non-null  float64\n",
      " 7   is_view              53349 non-null  float64\n",
      " 8   is_cart              53349 non-null  float64\n",
      " 9   time_of_day_sin      53349 non-null  float64\n",
      " 10  time_of_day_cos      53349 non-null  float64\n",
      " 11  day_of_week_sin      53349 non-null  float64\n",
      " 12  day_of_week_cos      53349 non-null  float64\n",
      " 13  hour_sin             53349 non-null  float64\n",
      " 14  hour_cos             53349 non-null  float64\n",
      " 15  min_sin              53349 non-null  float64\n",
      " 16  min_cos              53349 non-null  float64\n",
      " 17  is_purchase          53349 non-null  int64  \n",
      "dtypes: float64(17), int64(1)\n",
      "memory usage: 7.7 MB\n"
     ]
    }
   ],
   "source": [
    "test_2.info()"
   ]
  },
  {
   "cell_type": "code",
   "execution_count": null,
   "metadata": {},
   "outputs": [],
   "source": []
  },
  {
   "cell_type": "markdown",
   "metadata": {},
   "source": [
    "## Bal 2 train/test split "
   ]
  },
  {
   "cell_type": "code",
   "execution_count": 26,
   "metadata": {},
   "outputs": [
    {
     "data": {
      "image/png": "[encoded data removed]",
      "text/plain": [
       "<Figure size 600x400 with 1 Axes>"
      ]
     },
     "metadata": {},
     "output_type": "display_data"
    }
   ],
   "source": [
    "if evaluate==True:\n",
    "\n",
    "    from matplotlib.pyplot import figure, show\n",
    "    from dslabs_functions import plot_multibar_chart\n",
    "\n",
    "\n",
    "    # Distribution check\n",
    "\n",
    "\n",
    "    # Create a dictionary to store original class counts\n",
    "    values: dict[str, list[int]] = {\n",
    "        \"Original\": [\n",
    "            len(df[df[target] == 0]),  # Assuming 0 is the negative class\n",
    "            len(df[df[target] == 1]),  # Assuming 1 is the positive class\n",
    "        ]\n",
    "    }\n",
    "\n",
    "    values[\"Train\"] = [\n",
    "        len(train_2[train_2[target] == 0]),\n",
    "        len(train_2[train_2[target] == 1]),\n",
    "    ]\n",
    "    values[\"Test\"] = [\n",
    "        len(test_2[test_2[target] == 0]),\n",
    "        len(test_2[test_2[target] == 1]),\n",
    "    ]\n",
    "\n",
    "    # Visualize the distribution\n",
    "    figure(figsize=(6, 4))\n",
    "    plot_multibar_chart(labels, values, title=\"Data distribution per dataset\")\n",
    "    show()"
   ]
  },
  {
   "cell_type": "markdown",
   "metadata": {},
   "source": [
    "## Bal 2 evaluate"
   ]
  },
  {
   "cell_type": "code",
   "execution_count": 27,
   "metadata": {},
   "outputs": [
    {
     "data": {
      "image/png": "[encoded data removed]",
      "text/plain": [
       "<Figure size 640x480 with 1 Axes>"
      ]
     },
     "metadata": {},
     "output_type": "display_data"
    }
   ],
   "source": [
    "if evaluate == True:\n",
    "    figure()\n",
    "    eval_2: dict[str, list] = evaluate_approach(train_2, test_2, target='is_purchase', metric=\"precision\")\n",
    "    plot_multibar_chart(\n",
    "        [\"NB\", \"KNN\"], eval_2, title=f\"{file_tag}_approach_2_evaluation\", percentage=True\n",
    "    )\n",
    "    savefig(f\"images/{file_tag}_approach_2_evaluation.png\")\n",
    "    show()"
   ]
  },
  {
   "cell_type": "code",
   "execution_count": null,
   "metadata": {},
   "outputs": [],
   "source": []
  },
  {
   "cell_type": "markdown",
   "metadata": {},
   "source": [
    "# Approach uplift comparison"
   ]
  },
  {
   "cell_type": "markdown",
   "metadata": {},
   "source": [
    "## uplift df"
   ]
  },
  {
   "cell_type": "code",
   "execution_count": 44,
   "metadata": {},
   "outputs": [
    {
     "data": {
      "text/html": [
       "<div>\n",
       "<style scoped>\n",
       "    .dataframe tbody tr th:only-of-type {\n",
       "        vertical-align: middle;\n",
       "    }\n",
       "\n",
       "    .dataframe tbody tr th {\n",
       "        vertical-align: top;\n",
       "    }\n",
       "\n",
       "    .dataframe thead tr th {\n",
       "        text-align: left;\n",
       "    }\n",
       "</style>\n",
       "<table border=\"1\" class=\"dataframe\">\n",
       "  <thead>\n",
       "    <tr>\n",
       "      <th></th>\n",
       "      <th colspan=\"6\" halign=\"left\">Undersampling</th>\n",
       "      <th colspan=\"6\" halign=\"left\">Hybrid</th>\n",
       "      <th colspan=\"6\" halign=\"left\">SMOTE</th>\n",
       "    </tr>\n",
       "    <tr>\n",
       "      <th></th>\n",
       "      <th>accuracy</th>\n",
       "      <th>recall</th>\n",
       "      <th>precision</th>\n",
       "      <th>auc</th>\n",
       "      <th>f1</th>\n",
       "      <th>f2</th>\n",
       "      <th>accuracy</th>\n",
       "      <th>recall</th>\n",
       "      <th>precision</th>\n",
       "      <th>auc</th>\n",
       "      <th>f1</th>\n",
       "      <th>f2</th>\n",
       "      <th>accuracy</th>\n",
       "      <th>recall</th>\n",
       "      <th>precision</th>\n",
       "      <th>auc</th>\n",
       "      <th>f1</th>\n",
       "      <th>f2</th>\n",
       "    </tr>\n",
       "  </thead>\n",
       "  <tbody>\n",
       "    <tr>\n",
       "      <th>Naive Bayes</th>\n",
       "      <td>0.604031</td>\n",
       "      <td>0.332765</td>\n",
       "      <td>0.226164</td>\n",
       "      <td>0.506492</td>\n",
       "      <td>0.269299</td>\n",
       "      <td>0.304098</td>\n",
       "      <td>0.596173</td>\n",
       "      <td>0.341238</td>\n",
       "      <td>0.223891</td>\n",
       "      <td>0.504506</td>\n",
       "      <td>0.270381</td>\n",
       "      <td>0.308862</td>\n",
       "      <td>0.572612</td>\n",
       "      <td>0.398199</td>\n",
       "      <td>0.228129</td>\n",
       "      <td>0.509898</td>\n",
       "      <td>0.290074</td>\n",
       "      <td>0.346532</td>\n",
       "    </tr>\n",
       "    <tr>\n",
       "      <th>KNN</th>\n",
       "      <td>0.498871</td>\n",
       "      <td>0.617630</td>\n",
       "      <td>0.245028</td>\n",
       "      <td>0.541573</td>\n",
       "      <td>0.350861</td>\n",
       "      <td>0.473595</td>\n",
       "      <td>0.431762</td>\n",
       "      <td>0.709309</td>\n",
       "      <td>0.235646</td>\n",
       "      <td>0.531560</td>\n",
       "      <td>0.353765</td>\n",
       "      <td>0.505922</td>\n",
       "      <td>0.655295</td>\n",
       "      <td>0.295987</td>\n",
       "      <td>0.254284</td>\n",
       "      <td>0.526098</td>\n",
       "      <td>0.273555</td>\n",
       "      <td>0.286587</td>\n",
       "    </tr>\n",
       "  </tbody>\n",
       "</table>\n",
       "</div>"
      ],
      "text/plain": [
       "            Undersampling                                                    \\\n",
       "                 accuracy    recall precision       auc        f1        f2   \n",
       "Naive Bayes      0.604031  0.332765  0.226164  0.506492  0.269299  0.304098   \n",
       "KNN              0.498871  0.617630  0.245028  0.541573  0.350861  0.473595   \n",
       "\n",
       "               Hybrid                                                    \\\n",
       "             accuracy    recall precision       auc        f1        f2   \n",
       "Naive Bayes  0.596173  0.341238  0.223891  0.504506  0.270381  0.308862   \n",
       "KNN          0.431762  0.709309  0.235646  0.531560  0.353765  0.505922   \n",
       "\n",
       "                SMOTE                                                    \n",
       "             accuracy    recall precision       auc        f1        f2  \n",
       "Naive Bayes  0.572612  0.398199  0.228129  0.509898  0.290074  0.346532  \n",
       "KNN          0.655295  0.295987  0.254284  0.526098  0.273555  0.286587  "
      ]
     },
     "execution_count": 44,
     "metadata": {},
     "output_type": "execute_result"
    }
   ],
   "source": [
    "algorithms = ['Naive Bayes', 'KNN']\n",
    "\n",
    "# Create DataFrames for eval_1 and eval_2\n",
    "df_eval_1 = pd.DataFrame(eval_1, index=algorithms)\n",
    "df_eval_2 = pd.DataFrame(eval_2, index=algorithms)\n",
    "df_eval_3 = pd.DataFrame(eval_3, index=algorithms)\n",
    "\n",
    "# Calculate uplift\n",
    "# df_uplift = df_eval_2 - df_eval_1\n",
    "\n",
    "# Combine everything into one DataFrame (without misalignment issues)\n",
    "comparison_df = pd.concat([df_eval_1, df_eval_2, df_eval_3], axis=1)\n",
    "comparison_df.columns = pd.MultiIndex.from_product([['Undersampling', 'Hybrid', 'SMOTE'], eval_1.keys()])\n",
    "\n",
    "\n",
    "\n",
    "# Display the DataFrame\n",
    "comparison_df"
   ]
  },
  {
   "cell_type": "markdown",
   "metadata": {},
   "source": [
    "# Analysis\n",
    "\n",
    "- Big improvements in KNN\n",
    "\n",
    "Comparing with previous dataset:\n",
    "- Higer metrics for balancing, especially for KNN, so let's continue with balancing dataset\n",
    "\n",
    "\n",
    "Decision:\n",
    "- For the rest of the evaluations, use balancing dataset"
   ]
  },
  {
   "cell_type": "markdown",
   "metadata": {},
   "source": [
    "# save to csv"
   ]
  },
  {
   "cell_type": "code",
   "execution_count": 49,
   "metadata": {},
   "outputs": [
    {
     "name": "stdout",
     "output_type": "stream",
     "text": [
      "Index(['category_code_lvl_1', 'category_code_lvl_2', 'price', 'is_purchase',\n",
      "       'activity_in_session', 'week_of_month', 'is_weekend', 'day',\n",
      "       'brand_value', 'product_category', 'time_of_day_sin', 'time_of_day_cos',\n",
      "       'day_of_week_sin', 'day_of_week_cos', 'hour_sin', 'hour_cos', 'min_sin',\n",
      "       'min_cos'],\n",
      "      dtype='object')\n"
     ]
    }
   ],
   "source": [
    "if test_data==False:\n",
    "    \n",
    "    # do not balance original dataset      \n",
    "    data_save=df.copy()\n",
    "    \n",
    "            \n",
    "    data_save.to_csv(f\"dataset/df_ecom_2_6_bal_input.csv\", index=False)\n",
    "\n",
    "\n",
    "    print(data_save.columns)\n"
   ]
  },
  {
   "cell_type": "markdown",
   "metadata": {},
   "source": [
    "## train test csv"
   ]
  },
  {
   "cell_type": "code",
   "execution_count": 50,
   "metadata": {},
   "outputs": [
    {
     "name": "stdout",
     "output_type": "stream",
     "text": [
      "Original class distribution:\n",
      "is_purchase\n",
      "0    86.473708\n",
      "1    13.526292\n",
      "Name: proportion, dtype: float64\n",
      "\n",
      "New class distribution:\n",
      "is_purchase\n",
      "0    50.0\n",
      "1    50.0\n",
      "Name: proportion, dtype: float64\n",
      "\n",
      "Index(['category_code_lvl_1', 'category_code_lvl_2', 'price',\n",
      "       'activity_in_session', 'week_of_month', 'is_weekend', 'day',\n",
      "       'brand_value', 'product_category', 'time_of_day_sin', 'time_of_day_cos',\n",
      "       'day_of_week_sin', 'day_of_week_cos', 'hour_sin', 'hour_cos', 'min_sin',\n",
      "       'min_cos', 'is_purchase'],\n",
      "      dtype='object')\n",
      "Index(['category_code_lvl_1', 'category_code_lvl_2', 'price',\n",
      "       'activity_in_session', 'week_of_month', 'is_weekend', 'day',\n",
      "       'brand_value', 'product_category', 'time_of_day_sin', 'time_of_day_cos',\n",
      "       'day_of_week_sin', 'day_of_week_cos', 'hour_sin', 'hour_cos', 'min_sin',\n",
      "       'min_cos', 'is_purchase'],\n",
      "      dtype='object')\n"
     ]
    }
   ],
   "source": [
    "if test_data==False:\n",
    "\n",
    "    # train_save,test_save=simple_split_df(data_save,sort_by='day_of_year')\n",
    "    \n",
    "    train_save=apply_strategy_3(train)         \n",
    "    \n",
    "    train_save.to_csv(f\"dataset/df_ecom_2_6_bal_input_train.csv\", index=False)\n",
    "    print(train.columns)\n",
    "    \n",
    "    test.to_csv(f\"dataset/df_ecom_2_6_bal_input_test.csv\", index=False)\n",
    "    print(test.columns)"
   ]
  },
  {
   "cell_type": "code",
   "execution_count": null,
   "metadata": {},
   "outputs": [],
   "source": []
  }
 ],
 "metadata": {
  "kernelspec": {
   "display_name": "base",
   "language": "python",
   "name": "python3"
  },
  "language_info": {
   "codemirror_mode": {
    "name": "ipython",
    "version": 3
   },
   "file_extension": ".py",
   "mimetype": "text/x-python",
   "name": "python",
   "nbconvert_exporter": "python",
   "pygments_lexer": "ipython3",
   "version": "3.12.2"
  }
 },
 "nbformat": 4,
 "nbformat_minor": 2
}
