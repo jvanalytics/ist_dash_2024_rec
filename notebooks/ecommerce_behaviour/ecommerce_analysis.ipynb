{
 "cells": [
  {
   "cell_type": "code",
   "execution_count": 2,
   "metadata": {},
   "outputs": [],
   "source": [
    "import pandas as pd\n",
    "\n",
    "# https://www.kaggle.com/datasets/mkechinov/ecommerce-behavior-data-from-multi-category-store\n",
    "\n",
    "compressed_link=r'https://data.rees46.com/datasets/marketplace/2020-Apr.csv.gz'\n",
    "filepath=r'2020-Apr.csv'"
   ]
  },
  {
   "cell_type": "markdown",
   "metadata": {},
   "source": [
    "# Load and preview"
   ]
  },
  {
   "cell_type": "code",
   "execution_count": 3,
   "metadata": {},
   "outputs": [
    {
     "data": {
      "text/html": [
       "<div>\n",
       "<style scoped>\n",
       "    .dataframe tbody tr th:only-of-type {\n",
       "        vertical-align: middle;\n",
       "    }\n",
       "\n",
       "    .dataframe tbody tr th {\n",
       "        vertical-align: top;\n",
       "    }\n",
       "\n",
       "    .dataframe thead th {\n",
       "        text-align: right;\n",
       "    }\n",
       "</style>\n",
       "<table border=\"1\" class=\"dataframe\">\n",
       "  <thead>\n",
       "    <tr style=\"text-align: right;\">\n",
       "      <th></th>\n",
       "      <th>event_time</th>\n",
       "      <th>event_type</th>\n",
       "      <th>product_id</th>\n",
       "      <th>category_id</th>\n",
       "      <th>category_code</th>\n",
       "      <th>brand</th>\n",
       "      <th>price</th>\n",
       "      <th>user_id</th>\n",
       "      <th>user_session</th>\n",
       "    </tr>\n",
       "  </thead>\n",
       "  <tbody>\n",
       "    <tr>\n",
       "      <th>0</th>\n",
       "      <td>2020-04-01 00:00:00 UTC</td>\n",
       "      <td>view</td>\n",
       "      <td>1201465</td>\n",
       "      <td>2232732101407408685</td>\n",
       "      <td>apparel.shoes.slipons</td>\n",
       "      <td>samsung</td>\n",
       "      <td>230.38</td>\n",
       "      <td>568984877</td>\n",
       "      <td>e2456cef-2d4f-42b9-a53a-8893cb0c6851</td>\n",
       "    </tr>\n",
       "    <tr>\n",
       "      <th>1</th>\n",
       "      <td>2020-04-01 00:00:01 UTC</td>\n",
       "      <td>view</td>\n",
       "      <td>1307156</td>\n",
       "      <td>2053013554658804075</td>\n",
       "      <td>electronics.audio.headphone</td>\n",
       "      <td>apple</td>\n",
       "      <td>1352.67</td>\n",
       "      <td>514955500</td>\n",
       "      <td>38f43134-de83-4710-ae0a-326677d292c6</td>\n",
       "    </tr>\n",
       "    <tr>\n",
       "      <th>2</th>\n",
       "      <td>2020-04-01 00:00:01 UTC</td>\n",
       "      <td>view</td>\n",
       "      <td>1480477</td>\n",
       "      <td>2053013563835941749</td>\n",
       "      <td>appliances.kitchen.refrigerators</td>\n",
       "      <td>apple</td>\n",
       "      <td>1184.05</td>\n",
       "      <td>633645770</td>\n",
       "      <td>16aba270-b3c2-4b23-be0a-b7c80bc9da9e</td>\n",
       "    </tr>\n",
       "    <tr>\n",
       "      <th>3</th>\n",
       "      <td>2020-04-01 00:00:02 UTC</td>\n",
       "      <td>view</td>\n",
       "      <td>1307050</td>\n",
       "      <td>2053013554658804075</td>\n",
       "      <td>electronics.audio.headphone</td>\n",
       "      <td>apple</td>\n",
       "      <td>1724.34</td>\n",
       "      <td>564933778</td>\n",
       "      <td>05b443bd-e68a-4d72-b971-80bd31109cb8</td>\n",
       "    </tr>\n",
       "    <tr>\n",
       "      <th>4</th>\n",
       "      <td>2020-04-01 00:00:03 UTC</td>\n",
       "      <td>view</td>\n",
       "      <td>9500109</td>\n",
       "      <td>2232732104175649385</td>\n",
       "      <td>apparel.scarf</td>\n",
       "      <td>defender</td>\n",
       "      <td>25.05</td>\n",
       "      <td>530206135</td>\n",
       "      <td>e3c1fb4b-0a7e-457d-a0cf-5d1479e9aafc</td>\n",
       "    </tr>\n",
       "    <tr>\n",
       "      <th>...</th>\n",
       "      <td>...</td>\n",
       "      <td>...</td>\n",
       "      <td>...</td>\n",
       "      <td>...</td>\n",
       "      <td>...</td>\n",
       "      <td>...</td>\n",
       "      <td>...</td>\n",
       "      <td>...</td>\n",
       "      <td>...</td>\n",
       "    </tr>\n",
       "    <tr>\n",
       "      <th>66589263</th>\n",
       "      <td>2020-04-30 23:59:59 UTC</td>\n",
       "      <td>view</td>\n",
       "      <td>1003319</td>\n",
       "      <td>2232732093077520756</td>\n",
       "      <td>construction.tools.light</td>\n",
       "      <td>apple</td>\n",
       "      <td>900.90</td>\n",
       "      <td>648021639</td>\n",
       "      <td>b30b4657-011a-42bb-a57b-300b0030ef50</td>\n",
       "    </tr>\n",
       "    <tr>\n",
       "      <th>66589264</th>\n",
       "      <td>2020-04-30 23:59:59 UTC</td>\n",
       "      <td>view</td>\n",
       "      <td>1005141</td>\n",
       "      <td>2232732093077520756</td>\n",
       "      <td>construction.tools.light</td>\n",
       "      <td>apple</td>\n",
       "      <td>1599.78</td>\n",
       "      <td>649775363</td>\n",
       "      <td>a1f49d5b-714f-4e38-b66a-d1679d4d2a1c</td>\n",
       "    </tr>\n",
       "    <tr>\n",
       "      <th>66589265</th>\n",
       "      <td>2020-04-30 23:59:59 UTC</td>\n",
       "      <td>view</td>\n",
       "      <td>100205454</td>\n",
       "      <td>2232732085041234105</td>\n",
       "      <td>apparel.shirt</td>\n",
       "      <td>defacto</td>\n",
       "      <td>12.84</td>\n",
       "      <td>639250275</td>\n",
       "      <td>8b9ae17d-c0c1-4bad-aa20-9b541c8be405</td>\n",
       "    </tr>\n",
       "    <tr>\n",
       "      <th>66589266</th>\n",
       "      <td>2020-04-30 23:59:59 UTC</td>\n",
       "      <td>view</td>\n",
       "      <td>12200824</td>\n",
       "      <td>2053013553325015316</td>\n",
       "      <td>appliances.kitchen.toster</td>\n",
       "      <td>cube</td>\n",
       "      <td>1956.03</td>\n",
       "      <td>522762529</td>\n",
       "      <td>d272f36d-f20b-4540-ac35-9b779acc4dd7</td>\n",
       "    </tr>\n",
       "    <tr>\n",
       "      <th>66589267</th>\n",
       "      <td>2020-04-30 23:59:59 UTC</td>\n",
       "      <td>view</td>\n",
       "      <td>1004342</td>\n",
       "      <td>2232732093077520756</td>\n",
       "      <td>construction.tools.light</td>\n",
       "      <td>meizu</td>\n",
       "      <td>228.83</td>\n",
       "      <td>530264277</td>\n",
       "      <td>1fb383a0-01f9-4219-93e7-836e70e3bce1</td>\n",
       "    </tr>\n",
       "  </tbody>\n",
       "</table>\n",
       "<p>66589268 rows × 9 columns</p>\n",
       "</div>"
      ],
      "text/plain": [
       "                       event_time event_type  product_id          category_id  \\\n",
       "0         2020-04-01 00:00:00 UTC       view     1201465  2232732101407408685   \n",
       "1         2020-04-01 00:00:01 UTC       view     1307156  2053013554658804075   \n",
       "2         2020-04-01 00:00:01 UTC       view     1480477  2053013563835941749   \n",
       "3         2020-04-01 00:00:02 UTC       view     1307050  2053013554658804075   \n",
       "4         2020-04-01 00:00:03 UTC       view     9500109  2232732104175649385   \n",
       "...                           ...        ...         ...                  ...   \n",
       "66589263  2020-04-30 23:59:59 UTC       view     1003319  2232732093077520756   \n",
       "66589264  2020-04-30 23:59:59 UTC       view     1005141  2232732093077520756   \n",
       "66589265  2020-04-30 23:59:59 UTC       view   100205454  2232732085041234105   \n",
       "66589266  2020-04-30 23:59:59 UTC       view    12200824  2053013553325015316   \n",
       "66589267  2020-04-30 23:59:59 UTC       view     1004342  2232732093077520756   \n",
       "\n",
       "                             category_code     brand    price    user_id  \\\n",
       "0                    apparel.shoes.slipons   samsung   230.38  568984877   \n",
       "1              electronics.audio.headphone     apple  1352.67  514955500   \n",
       "2         appliances.kitchen.refrigerators     apple  1184.05  633645770   \n",
       "3              electronics.audio.headphone     apple  1724.34  564933778   \n",
       "4                            apparel.scarf  defender    25.05  530206135   \n",
       "...                                    ...       ...      ...        ...   \n",
       "66589263          construction.tools.light     apple   900.90  648021639   \n",
       "66589264          construction.tools.light     apple  1599.78  649775363   \n",
       "66589265                     apparel.shirt   defacto    12.84  639250275   \n",
       "66589266         appliances.kitchen.toster      cube  1956.03  522762529   \n",
       "66589267          construction.tools.light     meizu   228.83  530264277   \n",
       "\n",
       "                                  user_session  \n",
       "0         e2456cef-2d4f-42b9-a53a-8893cb0c6851  \n",
       "1         38f43134-de83-4710-ae0a-326677d292c6  \n",
       "2         16aba270-b3c2-4b23-be0a-b7c80bc9da9e  \n",
       "3         05b443bd-e68a-4d72-b971-80bd31109cb8  \n",
       "4         e3c1fb4b-0a7e-457d-a0cf-5d1479e9aafc  \n",
       "...                                        ...  \n",
       "66589263  b30b4657-011a-42bb-a57b-300b0030ef50  \n",
       "66589264  a1f49d5b-714f-4e38-b66a-d1679d4d2a1c  \n",
       "66589265  8b9ae17d-c0c1-4bad-aa20-9b541c8be405  \n",
       "66589266  d272f36d-f20b-4540-ac35-9b779acc4dd7  \n",
       "66589267  1fb383a0-01f9-4219-93e7-836e70e3bce1  \n",
       "\n",
       "[66589268 rows x 9 columns]"
      ]
     },
     "execution_count": 3,
     "metadata": {},
     "output_type": "execute_result"
    }
   ],
   "source": [
    "df=pd.read_csv(filepath)\n",
    "\n",
    "df.head()"
   ]
  },
  {
   "cell_type": "code",
   "execution_count": 4,
   "metadata": {},
   "outputs": [
    {
     "name": "stdout",
     "output_type": "stream",
     "text": [
      "Dataframe Shape: (66589268, 9)\n",
      "Data types: event_time        object\n",
      "event_type        object\n",
      "product_id         int64\n",
      "category_id        int64\n",
      "category_code     object\n",
      "brand             object\n",
      "price            float64\n",
      "user_id            int64\n",
      "user_session      object\n",
      "dtype: object\n"
     ]
    }
   ],
   "source": [
    "print(f\"Data types: {df.dtypes}\")  # Show the data types for each column"
   ]
  },
  {
   "cell_type": "code",
   "execution_count": 9,
   "metadata": {},
   "outputs": [
    {
     "name": "stdout",
     "output_type": "stream",
     "text": [
      "4509623\n",
      "11652261\n"
     ]
    }
   ],
   "source": [
    "print(df['user_id'].nunique())\n",
    "\n",
    "print(df['user_session'].nunique())"
   ]
  },
  {
   "cell_type": "code",
   "execution_count": 5,
   "metadata": {},
   "outputs": [
    {
     "name": "stdout",
     "output_type": "stream",
     "text": [
      "event_type\n",
      "view        62353909\n",
      "cart         3268600\n",
      "purchase      966759\n",
      "Name: count, dtype: int64\n"
     ]
    }
   ],
   "source": [
    "print(df['event_type'].value_counts())"
   ]
  },
  {
   "cell_type": "code",
   "execution_count": 13,
   "metadata": {},
   "outputs": [
    {
     "name": "stdout",
     "output_type": "stream",
     "text": [
      "category_code\n",
      "construction.tools.light            14325436\n",
      "electronics.audio.headphone          3204467\n",
      "appliances.personal.massager         2529495\n",
      "appliances.kitchen.refrigerators     2304830\n",
      "sport.bicycle                        2185567\n",
      "                                      ...   \n",
      "stationery.paper                         156\n",
      "country_yard.watering                    129\n",
      "apparel.belt                             127\n",
      "computers.components.sound_card           39\n",
      "apparel.hat                                5\n",
      "Name: count, Length: 141, dtype: int64\n"
     ]
    }
   ],
   "source": [
    "print(df['category_code'].value_counts())"
   ]
  },
  {
   "cell_type": "code",
   "execution_count": 11,
   "metadata": {},
   "outputs": [
    {
     "name": "stdout",
     "output_type": "stream",
     "text": [
      "brand\n",
      "samsung     8001862\n",
      "apple       3868150\n",
      "xiaomi      3258618\n",
      "huawei      1458298\n",
      "defacto     1002111\n",
      "             ...   \n",
      "olmeko            1\n",
      "carlsbro          1\n",
      "andrea            1\n",
      "reluse            1\n",
      "cavanova          1\n",
      "Name: count, Length: 4885, dtype: int64\n"
     ]
    }
   ],
   "source": [
    "print(df['brand'].value_counts())"
   ]
  },
  {
   "cell_type": "markdown",
   "metadata": {},
   "source": [
    "# To analyze further\n",
    "\n",
    "- analyze revenue of products to understand business contribute. is a cheaper product better than a pricier one? depends on transaction volume vs average revenue per user"
   ]
  },
  {
   "cell_type": "markdown",
   "metadata": {},
   "source": []
  }
 ],
 "metadata": {
  "kernelspec": {
   "display_name": "base",
   "language": "python",
   "name": "python3"
  },
  "language_info": {
   "codemirror_mode": {
    "name": "ipython",
    "version": 3
   },
   "file_extension": ".py",
   "mimetype": "text/x-python",
   "name": "python",
   "nbconvert_exporter": "python",
   "pygments_lexer": "ipython3",
   "version": "3.12.3"
  }
 },
 "nbformat": 4,
 "nbformat_minor": 2
}
