{
    "cells": [
        {
            "cell_type": "markdown",
            "metadata": {},
            "source": [
                "# File and libraries"
            ]
        },
        {
            "cell_type": "code",
            "execution_count": 1,
            "metadata": {},
            "outputs": [],
            "source": [
                "# File and libraries\n",
                "import pandas as pd\n",
                "import numpy as np\n",
                "\n",
                "\n",
                "filepath=r'dataset/df_ecom_2_5_feat_eng_input_v2'\n",
                "test_filepath= f\"{filepath}_test.csv\"\n",
                "train_filepath= f\"{filepath}_train.csv\"\n",
                "\n",
                "file_tag = \"df_ecom_eval_dt_input\""
            ]
        },
        {
            "cell_type": "markdown",
            "metadata": {},
            "source": [
                "# DSLabs functions"
            ]
        },
        {
            "cell_type": "code",
            "execution_count": 6,
            "metadata": {},
            "outputs": [
                {
                    "name": "stdout",
                    "output_type": "stream",
                    "text": [
                        "dslabs_functions lodaded\n"
                    ]
                }
            ],
            "source": [
                "%run \"dslabs_functions.py\"\n"
            ]
        },
        {
            "cell_type": "markdown",
            "metadata": {},
            "source": [
                "# Data functions"
            ]
        },
        {
            "cell_type": "code",
            "execution_count": 17,
            "metadata": {},
            "outputs": [
                {
                    "name": "stdout",
                    "output_type": "stream",
                    "text": [
                        "data_functions loaded\n"
                    ]
                }
            ],
            "source": [
                "%run \"data_functions.py\"\n"
            ]
        },
        {
            "cell_type": "markdown",
            "metadata": {},
            "source": [
                "# Load"
            ]
        },
        {
            "cell_type": "code",
            "execution_count": 21,
            "metadata": {},
            "outputs": [
                {
                    "name": "stdout",
                    "output_type": "stream",
                    "text": [
                        "<class 'pandas.core.frame.DataFrame'>\n",
                        "Index: 14512 entries, 0 to 14511\n",
                        "Data columns (total 16 columns):\n",
                        " #   Column               Non-Null Count  Dtype  \n",
                        "---  ------               --------------  -----  \n",
                        " 0   event_type           14512 non-null  float64\n",
                        " 1   category_code_lvl_1  14512 non-null  float64\n",
                        " 2   category_code_lvl_2  14512 non-null  float64\n",
                        " 3   category_code_lvl_3  14512 non-null  float64\n",
                        " 4   price                14512 non-null  float64\n",
                        " 5   week_of_month        14512 non-null  float64\n",
                        " 6   is_weekend           14512 non-null  float64\n",
                        " 7   day                  14512 non-null  float64\n",
                        " 8   time_of_day_cos      14512 non-null  float64\n",
                        " 9   day_of_week_sin      14512 non-null  float64\n",
                        " 10  day_of_week_cos      14512 non-null  float64\n",
                        " 11  hour_sin             14512 non-null  float64\n",
                        " 12  hour_cos             14512 non-null  float64\n",
                        " 13  min_sin              14512 non-null  float64\n",
                        " 14  min_cos              14512 non-null  float64\n",
                        " 15  conversion           14512 non-null  int64  \n",
                        "dtypes: float64(15), int64(1)\n",
                        "memory usage: 1.9 MB\n"
                    ]
                }
            ],
            "source": [
                "\n",
                "# test_data=True\n",
                "test_data=False\n",
                "\n",
                "# use to evaluate strategies. otherwise False to just transform data \n",
                "evaluate=True\n",
                "# evaluate=False\n",
                "\n",
                "\n",
                "if test_data==True:\n",
                "\n",
                "    df=pd.read_csv(f\"{filepath}.csv\")\n",
                "    \n",
                "    test= pd.read_csv(test_filepath)\n",
                "    train= pd.read_csv(train_filepath)\n",
                "\n",
                "    # sample\n",
                "    df=df.sample(frac=0.05, replace=False)\n",
                "    test=test.sample(frac=0.05, replace=False)\n",
                "    train=train.sample(frac=0.05, replace=False)\n",
                "    \n",
                "    \n",
                "else:\n",
                "    df=pd.read_csv(f\"{filepath}.csv\")  \n",
                "    test= pd.read_csv(test_filepath)\n",
                "    train= pd.read_csv(train_filepath)\n",
                "\n",
                "\n",
                "\n",
                " \n",
                "target='conversion'\n",
                "vars: list[str] = df.columns.to_list()\n",
                "labels: list = list(df[target].unique())\n",
                "\n",
                "\n",
                "# ensure sorting by day_of_year for correct splitting \n",
                "# \"When in the presence of temporal data, data partition shall use older data to train and newer to test, in order to not use future data to classify past data. In any other case, partition shall be random.\"\n",
                "df.sort_values(by='day', inplace=True)\n",
                "test.sort_values(by='day', inplace=True)\n",
                "train.sort_values(by='day', inplace=True)\n",
                "\n",
                "\n",
                "\n",
                "df.info()"
            ]
        },
        {
            "cell_type": "markdown",
            "metadata": {},
            "source": [
                "# Distribution Check"
            ]
        },
        {
            "cell_type": "code",
            "execution_count": 22,
            "metadata": {},
            "outputs": [
                {
                    "data": {
                        "image/png": "[encoded data removed]",
                        "text/plain": [
                            "<Figure size 600x400 with 1 Axes>"
                        ]
                    },
                    "metadata": {},
                    "output_type": "display_data"
                }
            ],
            "source": [
                "from pandas import concat\n",
                "from matplotlib.pyplot import figure, show\n",
                "from dslabs_functions import plot_multibar_chart\n",
                "\n",
                "\n",
                "# Distribution check\n",
                "\n",
                "\n",
                "# Create a dictionary to store original class counts\n",
                "values: dict[str, list[int]] = {\n",
                "    \"Balanced\": [\n",
                "        len(df[df[target] == 0]),  # Assuming 0 is the negative class\n",
                "        len(df[df[target] == 1]),  # Assuming 1 is the positive class\n",
                "    ]\n",
                "}\n",
                "\n",
                "values[\"Train\"] = [\n",
                "    len(train[train[target] == 0]),\n",
                "    len(train[train[target] == 1]),\n",
                "]\n",
                "values[\"Test\"] = [\n",
                "    len(test[test[target] == 0]),\n",
                "    len(test[test[target] == 1]),\n",
                "]\n",
                "\n",
                "# Visualize the distribution\n",
                "figure(figsize=(6, 4))\n",
                "plot_multibar_chart(labels, values, title=\"Data distribution per dataset\")\n",
                "show()"
            ]
        },
        {
            "cell_type": "markdown",
            "metadata": {},
            "source": [
                "## DT Evaluate for best model"
            ]
        },
        {
            "cell_type": "code",
            "execution_count": 28,
            "metadata": {},
            "outputs": [],
            "source": [
                "def trees_study(\n",
                "        trnX: ndarray, trnY: array, tstX: ndarray, tstY: array, d_max: int=10, lag:int=2, metric='accuracy'\n",
                "        ) -> tuple:\n",
                "    criteria: list[Literal['entropy', 'gini']] = ['entropy', 'gini']\n",
                "    depths: list[int] = [i for i in range(2, d_max+1, lag)]\n",
                "\n",
                "    best_model: DecisionTreeClassifier | None = None\n",
                "    best_params: dict = {'name': 'DT', 'metric': metric, 'params': ()}\n",
                "    best_performance: float = 0.0\n",
                "\n",
                "    values: dict = {}\n",
                "    for c in criteria:\n",
                "        y_tst_values: list[float] = []\n",
                "        for d in depths:\n",
                "            clf = DecisionTreeClassifier(max_depth=d, criterion=c, min_impurity_decrease=0)\n",
                "            clf.fit(trnX, trnY)\n",
                "            prdY: array = clf.predict(tstX)\n",
                "            eval: float = CLASS_EVAL_METRICS[metric](tstY, prdY)\n",
                "            y_tst_values.append(eval)\n",
                "            if eval - best_performance > DELTA_IMPROVE:\n",
                "                best_performance = eval\n",
                "                best_params['params'] = (c, d)\n",
                "                best_model = clf\n",
                "            # print(f'DT {c} and d={d}')\n",
                "        values[c] = y_tst_values\n",
                "    print(f'DT best with {best_params['params'][0]} and d={best_params['params'][1]}')\n",
                "    plot_multiline_chart(depths, values, title=f'DT Models ({metric})', xlabel='d', ylabel=metric, percentage=True)\n",
                "\n",
                "    return best_model, best_params"
            ]
        },
        {
            "cell_type": "code",
            "execution_count": 26,
            "metadata": {},
            "outputs": [],
            "source": [
                "\n",
                "def trees_study(\n",
                "        trnX: ndarray, trnY: array, tstX: ndarray, tstY: array, d_max: int=10, lag:int=2, metric='accuracy'\n",
                "        ) -> tuple:\n",
                "    criteria: list[Literal['entropy', 'gini']] = ['entropy', 'gini']\n",
                "    depths: list[int] = [i for i in range(2, d_max+1, lag)]\n",
                "\n",
                "    best_model: DecisionTreeClassifier | None = None\n",
                "    best_params: dict = {'name': 'DT', 'metric': metric, 'params': ()}\n",
                "    best_performance: float = 0.0\n",
                "\n",
                "    values: dict = {}\n",
                "    for c in criteria:\n",
                "        y_tst_values: list[float] = []\n",
                "        for d in depths:\n",
                "            clf = DecisionTreeClassifier(max_depth=d, criterion=c, min_impurity_decrease=0)\n",
                "            clf.fit(trnX, trnY)\n",
                "            prdY: array = clf.predict(tstX)\n",
                "            eval: float = CLASS_EVAL_METRICS[metric](tstY, prdY)\n",
                "            y_tst_values.append(eval)\n",
                "            if eval - best_performance > DELTA_IMPROVE:\n",
                "                best_performance = eval\n",
                "                best_params['params'] = (c, d)\n",
                "                best_model = clf\n",
                "            # print(f'DT {c} and d={d}')\n",
                "        values[c] = y_tst_values\n",
                "    print(f'DT best with {best_params['params'][0]} and d={best_params['params'][1]}')\n",
                "    plot_multiline_chart(depths, values, title=f'DT Models ({metric})', xlabel='d', ylabel=metric, percentage=True)\n",
                "\n",
                "    return best_model, best_params"
            ]
        },
        {
            "cell_type": "code",
            "execution_count": 31,
            "metadata": {},
            "outputs": [
                {
                    "ename": "TypeError",
                    "evalue": "argument of type 'method' is not iterable",
                    "output_type": "error",
                    "traceback": [
                        "\u001b[0;31m---------------------------------------------------------------------------\u001b[0m",
                        "\u001b[0;31mTypeError\u001b[0m                                 Traceback (most recent call last)",
                        "Cell \u001b[0;32mIn[31], line 3\u001b[0m\n\u001b[1;32m      1\u001b[0m \u001b[38;5;28;01mif\u001b[39;00m evaluate\u001b[38;5;241m==\u001b[39m\u001b[38;5;28;01mTrue\u001b[39;00m:\n\u001b[0;32m----> 3\u001b[0m     trnX, tstX, trnY, tstY, labels, \u001b[38;5;28mvars\u001b[39m \u001b[38;5;241m=\u001b[39m read_train_test_from_files(train, test, target)\n\u001b[1;32m      4\u001b[0m     \u001b[38;5;28mprint\u001b[39m(\u001b[38;5;124mf\u001b[39m\u001b[38;5;124m'\u001b[39m\u001b[38;5;124mTrain#=\u001b[39m\u001b[38;5;132;01m{\u001b[39;00m\u001b[38;5;28mlen\u001b[39m(trnX)\u001b[38;5;132;01m}\u001b[39;00m\u001b[38;5;124m Test#=\u001b[39m\u001b[38;5;132;01m{\u001b[39;00m\u001b[38;5;28mlen\u001b[39m(tstX)\u001b[38;5;132;01m}\u001b[39;00m\u001b[38;5;124m'\u001b[39m)\n\u001b[1;32m      5\u001b[0m     \u001b[38;5;28mprint\u001b[39m(\u001b[38;5;124mf\u001b[39m\u001b[38;5;124m'\u001b[39m\u001b[38;5;124mLabels=\u001b[39m\u001b[38;5;132;01m{\u001b[39;00mlabels\u001b[38;5;132;01m}\u001b[39;00m\u001b[38;5;124m'\u001b[39m)\n",
                        "File \u001b[0;32m~/Documents/Mercedes-benz.io/TRAINING/post graduation course IST - Data science/projeto curso/ist_dash_2024_rec/notebooks/ecommerce_behaviour/dslabs_functions.py:838\u001b[0m, in \u001b[0;36mread_train_test_from_files\u001b[0;34m(train_fn, test_fn, target)\u001b[0m\n\u001b[1;32m    835\u001b[0m \u001b[38;5;28;01mdef\u001b[39;00m \u001b[38;5;21mread_train_test_from_files\u001b[39m(\n\u001b[1;32m    836\u001b[0m     train_fn: \u001b[38;5;28mstr\u001b[39m, test_fn: \u001b[38;5;28mstr\u001b[39m, target: \u001b[38;5;28mstr\u001b[39m \u001b[38;5;241m=\u001b[39m \u001b[38;5;124m\"\u001b[39m\u001b[38;5;124mclass\u001b[39m\u001b[38;5;124m\"\u001b[39m\n\u001b[1;32m    837\u001b[0m ) \u001b[38;5;241m-\u001b[39m\u001b[38;5;241m>\u001b[39m \u001b[38;5;28mtuple\u001b[39m[ndarray, ndarray, array, array, \u001b[38;5;28mlist\u001b[39m, \u001b[38;5;28mlist\u001b[39m]:\n\u001b[0;32m--> 838\u001b[0m     train: DataFrame \u001b[38;5;241m=\u001b[39m read_csv(train_fn, index_col\u001b[38;5;241m=\u001b[39m\u001b[38;5;28;01mNone\u001b[39;00m)\n\u001b[1;32m    839\u001b[0m     labels: \u001b[38;5;28mlist\u001b[39m \u001b[38;5;241m=\u001b[39m \u001b[38;5;28mlist\u001b[39m(train[target]\u001b[38;5;241m.\u001b[39munique())\n\u001b[1;32m    840\u001b[0m     labels\u001b[38;5;241m.\u001b[39msort()\n",
                        "File \u001b[0;32m/opt/anaconda3/lib/python3.12/site-packages/pandas/io/parsers/readers.py:1026\u001b[0m, in \u001b[0;36mread_csv\u001b[0;34m(filepath_or_buffer, sep, delimiter, header, names, index_col, usecols, dtype, engine, converters, true_values, false_values, skipinitialspace, skiprows, skipfooter, nrows, na_values, keep_default_na, na_filter, verbose, skip_blank_lines, parse_dates, infer_datetime_format, keep_date_col, date_parser, date_format, dayfirst, cache_dates, iterator, chunksize, compression, thousands, decimal, lineterminator, quotechar, quoting, doublequote, escapechar, comment, encoding, encoding_errors, dialect, on_bad_lines, delim_whitespace, low_memory, memory_map, float_precision, storage_options, dtype_backend)\u001b[0m\n\u001b[1;32m   1013\u001b[0m kwds_defaults \u001b[38;5;241m=\u001b[39m _refine_defaults_read(\n\u001b[1;32m   1014\u001b[0m     dialect,\n\u001b[1;32m   1015\u001b[0m     delimiter,\n\u001b[0;32m   (...)\u001b[0m\n\u001b[1;32m   1022\u001b[0m     dtype_backend\u001b[38;5;241m=\u001b[39mdtype_backend,\n\u001b[1;32m   1023\u001b[0m )\n\u001b[1;32m   1024\u001b[0m kwds\u001b[38;5;241m.\u001b[39mupdate(kwds_defaults)\n\u001b[0;32m-> 1026\u001b[0m \u001b[38;5;28;01mreturn\u001b[39;00m _read(filepath_or_buffer, kwds)\n",
                        "File \u001b[0;32m/opt/anaconda3/lib/python3.12/site-packages/pandas/io/parsers/readers.py:620\u001b[0m, in \u001b[0;36m_read\u001b[0;34m(filepath_or_buffer, kwds)\u001b[0m\n\u001b[1;32m    617\u001b[0m _validate_names(kwds\u001b[38;5;241m.\u001b[39mget(\u001b[38;5;124m\"\u001b[39m\u001b[38;5;124mnames\u001b[39m\u001b[38;5;124m\"\u001b[39m, \u001b[38;5;28;01mNone\u001b[39;00m))\n\u001b[1;32m    619\u001b[0m \u001b[38;5;66;03m# Create the parser.\u001b[39;00m\n\u001b[0;32m--> 620\u001b[0m parser \u001b[38;5;241m=\u001b[39m TextFileReader(filepath_or_buffer, \u001b[38;5;241m*\u001b[39m\u001b[38;5;241m*\u001b[39mkwds)\n\u001b[1;32m    622\u001b[0m \u001b[38;5;28;01mif\u001b[39;00m chunksize \u001b[38;5;129;01mor\u001b[39;00m iterator:\n\u001b[1;32m    623\u001b[0m     \u001b[38;5;28;01mreturn\u001b[39;00m parser\n",
                        "File \u001b[0;32m/opt/anaconda3/lib/python3.12/site-packages/pandas/io/parsers/readers.py:1620\u001b[0m, in \u001b[0;36mTextFileReader.__init__\u001b[0;34m(self, f, engine, **kwds)\u001b[0m\n\u001b[1;32m   1617\u001b[0m     \u001b[38;5;28mself\u001b[39m\u001b[38;5;241m.\u001b[39moptions[\u001b[38;5;124m\"\u001b[39m\u001b[38;5;124mhas_index_names\u001b[39m\u001b[38;5;124m\"\u001b[39m] \u001b[38;5;241m=\u001b[39m kwds[\u001b[38;5;124m\"\u001b[39m\u001b[38;5;124mhas_index_names\u001b[39m\u001b[38;5;124m\"\u001b[39m]\n\u001b[1;32m   1619\u001b[0m \u001b[38;5;28mself\u001b[39m\u001b[38;5;241m.\u001b[39mhandles: IOHandles \u001b[38;5;241m|\u001b[39m \u001b[38;5;28;01mNone\u001b[39;00m \u001b[38;5;241m=\u001b[39m \u001b[38;5;28;01mNone\u001b[39;00m\n\u001b[0;32m-> 1620\u001b[0m \u001b[38;5;28mself\u001b[39m\u001b[38;5;241m.\u001b[39m_engine \u001b[38;5;241m=\u001b[39m \u001b[38;5;28mself\u001b[39m\u001b[38;5;241m.\u001b[39m_make_engine(f, \u001b[38;5;28mself\u001b[39m\u001b[38;5;241m.\u001b[39mengine)\n",
                        "File \u001b[0;32m/opt/anaconda3/lib/python3.12/site-packages/pandas/io/parsers/readers.py:1880\u001b[0m, in \u001b[0;36mTextFileReader._make_engine\u001b[0;34m(self, f, engine)\u001b[0m\n\u001b[1;32m   1878\u001b[0m     \u001b[38;5;28;01mif\u001b[39;00m \u001b[38;5;124m\"\u001b[39m\u001b[38;5;124mb\u001b[39m\u001b[38;5;124m\"\u001b[39m \u001b[38;5;129;01mnot\u001b[39;00m \u001b[38;5;129;01min\u001b[39;00m mode:\n\u001b[1;32m   1879\u001b[0m         mode \u001b[38;5;241m+\u001b[39m\u001b[38;5;241m=\u001b[39m \u001b[38;5;124m\"\u001b[39m\u001b[38;5;124mb\u001b[39m\u001b[38;5;124m\"\u001b[39m\n\u001b[0;32m-> 1880\u001b[0m \u001b[38;5;28mself\u001b[39m\u001b[38;5;241m.\u001b[39mhandles \u001b[38;5;241m=\u001b[39m get_handle(\n\u001b[1;32m   1881\u001b[0m     f,\n\u001b[1;32m   1882\u001b[0m     mode,\n\u001b[1;32m   1883\u001b[0m     encoding\u001b[38;5;241m=\u001b[39m\u001b[38;5;28mself\u001b[39m\u001b[38;5;241m.\u001b[39moptions\u001b[38;5;241m.\u001b[39mget(\u001b[38;5;124m\"\u001b[39m\u001b[38;5;124mencoding\u001b[39m\u001b[38;5;124m\"\u001b[39m, \u001b[38;5;28;01mNone\u001b[39;00m),\n\u001b[1;32m   1884\u001b[0m     compression\u001b[38;5;241m=\u001b[39m\u001b[38;5;28mself\u001b[39m\u001b[38;5;241m.\u001b[39moptions\u001b[38;5;241m.\u001b[39mget(\u001b[38;5;124m\"\u001b[39m\u001b[38;5;124mcompression\u001b[39m\u001b[38;5;124m\"\u001b[39m, \u001b[38;5;28;01mNone\u001b[39;00m),\n\u001b[1;32m   1885\u001b[0m     memory_map\u001b[38;5;241m=\u001b[39m\u001b[38;5;28mself\u001b[39m\u001b[38;5;241m.\u001b[39moptions\u001b[38;5;241m.\u001b[39mget(\u001b[38;5;124m\"\u001b[39m\u001b[38;5;124mmemory_map\u001b[39m\u001b[38;5;124m\"\u001b[39m, \u001b[38;5;28;01mFalse\u001b[39;00m),\n\u001b[1;32m   1886\u001b[0m     is_text\u001b[38;5;241m=\u001b[39mis_text,\n\u001b[1;32m   1887\u001b[0m     errors\u001b[38;5;241m=\u001b[39m\u001b[38;5;28mself\u001b[39m\u001b[38;5;241m.\u001b[39moptions\u001b[38;5;241m.\u001b[39mget(\u001b[38;5;124m\"\u001b[39m\u001b[38;5;124mencoding_errors\u001b[39m\u001b[38;5;124m\"\u001b[39m, \u001b[38;5;124m\"\u001b[39m\u001b[38;5;124mstrict\u001b[39m\u001b[38;5;124m\"\u001b[39m),\n\u001b[1;32m   1888\u001b[0m     storage_options\u001b[38;5;241m=\u001b[39m\u001b[38;5;28mself\u001b[39m\u001b[38;5;241m.\u001b[39moptions\u001b[38;5;241m.\u001b[39mget(\u001b[38;5;124m\"\u001b[39m\u001b[38;5;124mstorage_options\u001b[39m\u001b[38;5;124m\"\u001b[39m, \u001b[38;5;28;01mNone\u001b[39;00m),\n\u001b[1;32m   1889\u001b[0m )\n\u001b[1;32m   1890\u001b[0m \u001b[38;5;28;01massert\u001b[39;00m \u001b[38;5;28mself\u001b[39m\u001b[38;5;241m.\u001b[39mhandles \u001b[38;5;129;01mis\u001b[39;00m \u001b[38;5;129;01mnot\u001b[39;00m \u001b[38;5;28;01mNone\u001b[39;00m\n\u001b[1;32m   1891\u001b[0m f \u001b[38;5;241m=\u001b[39m \u001b[38;5;28mself\u001b[39m\u001b[38;5;241m.\u001b[39mhandles\u001b[38;5;241m.\u001b[39mhandle\n",
                        "File \u001b[0;32m/opt/anaconda3/lib/python3.12/site-packages/pandas/io/common.py:719\u001b[0m, in \u001b[0;36mget_handle\u001b[0;34m(path_or_buf, mode, encoding, compression, memory_map, is_text, errors, storage_options)\u001b[0m\n\u001b[1;32m    716\u001b[0m errors \u001b[38;5;241m=\u001b[39m errors \u001b[38;5;129;01mor\u001b[39;00m \u001b[38;5;124m\"\u001b[39m\u001b[38;5;124mstrict\u001b[39m\u001b[38;5;124m\"\u001b[39m\n\u001b[1;32m    718\u001b[0m \u001b[38;5;66;03m# read_csv does not know whether the buffer is opened in binary/text mode\u001b[39;00m\n\u001b[0;32m--> 719\u001b[0m \u001b[38;5;28;01mif\u001b[39;00m _is_binary_mode(path_or_buf, mode) \u001b[38;5;129;01mand\u001b[39;00m \u001b[38;5;124m\"\u001b[39m\u001b[38;5;124mb\u001b[39m\u001b[38;5;124m\"\u001b[39m \u001b[38;5;129;01mnot\u001b[39;00m \u001b[38;5;129;01min\u001b[39;00m mode:\n\u001b[1;32m    720\u001b[0m     mode \u001b[38;5;241m+\u001b[39m\u001b[38;5;241m=\u001b[39m \u001b[38;5;124m\"\u001b[39m\u001b[38;5;124mb\u001b[39m\u001b[38;5;124m\"\u001b[39m\n\u001b[1;32m    722\u001b[0m \u001b[38;5;66;03m# validate encoding and errors\u001b[39;00m\n",
                        "File \u001b[0;32m/opt/anaconda3/lib/python3.12/site-packages/pandas/io/common.py:1181\u001b[0m, in \u001b[0;36m_is_binary_mode\u001b[0;34m(handle, mode)\u001b[0m\n\u001b[1;32m   1178\u001b[0m \u001b[38;5;28;01mif\u001b[39;00m \u001b[38;5;28missubclass\u001b[39m(\u001b[38;5;28mtype\u001b[39m(handle), text_classes):\n\u001b[1;32m   1179\u001b[0m     \u001b[38;5;28;01mreturn\u001b[39;00m \u001b[38;5;28;01mFalse\u001b[39;00m\n\u001b[0;32m-> 1181\u001b[0m \u001b[38;5;28;01mreturn\u001b[39;00m \u001b[38;5;28misinstance\u001b[39m(handle, _get_binary_io_classes()) \u001b[38;5;129;01mor\u001b[39;00m \u001b[38;5;124m\"\u001b[39m\u001b[38;5;124mb\u001b[39m\u001b[38;5;124m\"\u001b[39m \u001b[38;5;129;01min\u001b[39;00m \u001b[38;5;28mgetattr\u001b[39m(\n\u001b[1;32m   1182\u001b[0m     handle, \u001b[38;5;124m\"\u001b[39m\u001b[38;5;124mmode\u001b[39m\u001b[38;5;124m\"\u001b[39m, mode\n\u001b[1;32m   1183\u001b[0m )\n",
                        "\u001b[0;31mTypeError\u001b[0m: argument of type 'method' is not iterable"
                    ]
                }
            ],
            "source": [
                "if evaluate==True:\n",
                "\n",
                "    trnX, tstX, trnY, tstY, labels, vars = read_train_test_from_files(train, test, target)\n",
                "    print(f'Train#={len(trnX)} Test#={len(tstX)}')\n",
                "    print(f'Labels={labels}')\n",
                "\n",
                "    figure()"
            ]
        },
        {
            "cell_type": "markdown",
            "metadata": {},
            "source": []
        },
        {
            "cell_type": "code",
            "execution_count": null,
            "metadata": {},
            "outputs": [],
            "source": []
        },
        {
            "cell_type": "code",
            "execution_count": null,
            "metadata": {},
            "outputs": [],
            "source": []
        },
        {
            "cell_type": "markdown",
            "metadata": {},
            "source": []
        },
        {
            "cell_type": "code",
            "execution_count": null,
            "metadata": {},
            "outputs": [],
            "source": []
        },
        {
            "cell_type": "markdown",
            "metadata": {},
            "source": []
        },
        {
            "cell_type": "code",
            "execution_count": null,
            "metadata": {},
            "outputs": [],
            "source": []
        },
        {
            "cell_type": "markdown",
            "metadata": {},
            "source": []
        },
        {
            "cell_type": "code",
            "execution_count": null,
            "metadata": {},
            "outputs": [],
            "source": []
        }
    ],
    "metadata": {
        "kernelspec": {
            "display_name": "base",
            "language": "python",
            "name": "python3"
        },
        "language_info": {
            "codemirror_mode": {
                "name": "ipython",
                "version": 3
            },
            "file_extension": ".py",
            "mimetype": "text/x-python",
            "name": "python",
            "nbconvert_exporter": "python",
            "pygments_lexer": "ipython3",
            "version": "3.12.2"
        }
    },
    "nbformat": 4,
    "nbformat_minor": 2
}
