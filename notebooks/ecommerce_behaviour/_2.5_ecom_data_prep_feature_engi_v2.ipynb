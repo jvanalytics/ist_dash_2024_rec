{
 "cells": [
  {
   "cell_type": "code",
   "execution_count": null,
   "metadata": {},
   "outputs": [],
   "source": []
  },
  {
   "cell_type": "markdown",
   "metadata": {},
   "source": [
    "# File and libraries"
   ]
  },
  {
   "cell_type": "code",
   "execution_count": 58,
   "metadata": {},
   "outputs": [],
   "source": [
    "import pandas as pd\n",
    "import numpy as np\n",
    "\n",
    "\n",
    "filepath=r'dataset/df_ecom_2_5_bal_input_v2'\n",
    "\n",
    "\n",
    "file_tag = \"df_ecom_feat_eng_input\""
   ]
  },
  {
   "cell_type": "markdown",
   "metadata": {},
   "source": [
    "# DSLabs functions"
   ]
  },
  {
   "cell_type": "code",
   "execution_count": 2,
   "metadata": {},
   "outputs": [
    {
     "name": "stdout",
     "output_type": "stream",
     "text": [
      "dslabs_functions lodaded\n"
     ]
    }
   ],
   "source": [
    "%run \"dslabs_functions.py\"\n"
   ]
  },
  {
   "cell_type": "markdown",
   "metadata": {},
   "source": [
    "# Data functions"
   ]
  },
  {
   "cell_type": "code",
   "execution_count": 3,
   "metadata": {},
   "outputs": [
    {
     "name": "stdout",
     "output_type": "stream",
     "text": [
      "dslabs_functions lodaded\n",
      "data_functions loaded\n"
     ]
    }
   ],
   "source": [
    "%run \"data_functions.py\"\n"
   ]
  },
  {
   "cell_type": "markdown",
   "metadata": {},
   "source": [
    "# Load"
   ]
  },
  {
   "cell_type": "code",
   "execution_count": 59,
   "metadata": {},
   "outputs": [
    {
     "name": "stdout",
     "output_type": "stream",
     "text": [
      "<class 'pandas.core.frame.DataFrame'>\n",
      "Index: 14512 entries, 0 to 14511\n",
      "Data columns (total 17 columns):\n",
      " #   Column               Non-Null Count  Dtype  \n",
      "---  ------               --------------  -----  \n",
      " 0   event_type           14512 non-null  float64\n",
      " 1   category_code_lvl_1  14512 non-null  float64\n",
      " 2   category_code_lvl_2  14512 non-null  float64\n",
      " 3   category_code_lvl_3  14512 non-null  float64\n",
      " 4   price                14512 non-null  float64\n",
      " 5   week_of_month        14512 non-null  float64\n",
      " 6   is_weekend           14512 non-null  float64\n",
      " 7   day                  14512 non-null  float64\n",
      " 8   time_of_day_sin      14512 non-null  float64\n",
      " 9   time_of_day_cos      14512 non-null  float64\n",
      " 10  day_of_week_sin      14512 non-null  float64\n",
      " 11  day_of_week_cos      14512 non-null  float64\n",
      " 12  hour_sin             14512 non-null  float64\n",
      " 13  hour_cos             14512 non-null  float64\n",
      " 14  min_sin              14512 non-null  float64\n",
      " 15  min_cos              14512 non-null  float64\n",
      " 16  conversion           14512 non-null  int64  \n",
      "dtypes: float64(16), int64(1)\n",
      "memory usage: 2.0 MB\n"
     ]
    }
   ],
   "source": [
    "# test_data=True\n",
    "test_data=False\n",
    "\n",
    "# use to evaluate strategies. otherwise False to just transform data \n",
    "evaluate=True\n",
    "#evaluate=False\n",
    "\n",
    "\n",
    "if test_data==True:\n",
    "\n",
    "    df=pd.read_csv(f\"{filepath}.csv\")\n",
    "    \n",
    "    test= pd.read_csv(f\"{filepath}_test.csv\")\n",
    "    train= pd.read_csv(f\"{filepath}_train.csv\")\n",
    "\n",
    "    # sample\n",
    "    df=df.sample(frac=0.05, replace=False)\n",
    "    test=test.sample(frac=0.05, replace=False)\n",
    "    train=train.sample(frac=0.05, replace=False)\n",
    "    \n",
    "    # create sample df version of test/train for variance studies\n",
    "    test_sample= test\n",
    "    train_sample= train\n",
    "    \n",
    "else:\n",
    "    df=pd.read_csv(f\"{filepath}.csv\")\n",
    "\n",
    "    \n",
    "    test= pd.read_csv(f\"{filepath}_test.csv\")\n",
    "    train= pd.read_csv(f\"{filepath}_train.csv\")\n",
    "\n",
    "    # create sample for variance studies\n",
    "    test_sample= test.sample(frac=0.05, replace=False)\n",
    "    train_sample= train.sample(frac=0.5, replace=False)\n",
    "\n",
    "\n",
    " \n",
    "target='conversion'\n",
    "vars: list[str] = df.columns.to_list()\n",
    "\n",
    "\n",
    "# ensure sorting by day_of_year for correct splitting \n",
    "# \"When in the presence of temporal data, data partition shall use older data to train and newer to test, in order to not use future data to classify past data. In any other case, partition shall be random.\"\n",
    "df.sort_values(by='day', inplace=True)\n",
    "test.sort_values(by='day', inplace=True)\n",
    "train.sort_values(by='day', inplace=True)\n",
    "\n",
    "\n",
    "\n",
    "df.info()"
   ]
  },
  {
   "cell_type": "code",
   "execution_count": 10,
   "metadata": {},
   "outputs": [
    {
     "name": "stdout",
     "output_type": "stream",
     "text": [
      "<class 'pandas.core.frame.DataFrame'>\n",
      "Index: 10158 entries, 0 to 10157\n",
      "Data columns (total 17 columns):\n",
      " #   Column               Non-Null Count  Dtype  \n",
      "---  ------               --------------  -----  \n",
      " 0   event_type           10158 non-null  float64\n",
      " 1   category_code_lvl_1  10158 non-null  float64\n",
      " 2   category_code_lvl_2  10158 non-null  float64\n",
      " 3   category_code_lvl_3  10158 non-null  float64\n",
      " 4   price                10158 non-null  float64\n",
      " 5   week_of_month        10158 non-null  float64\n",
      " 6   is_weekend           10158 non-null  float64\n",
      " 7   day                  10158 non-null  float64\n",
      " 8   time_of_day_sin      10158 non-null  float64\n",
      " 9   time_of_day_cos      10158 non-null  float64\n",
      " 10  day_of_week_sin      10158 non-null  float64\n",
      " 11  day_of_week_cos      10158 non-null  float64\n",
      " 12  hour_sin             10158 non-null  float64\n",
      " 13  hour_cos             10158 non-null  float64\n",
      " 14  min_sin              10158 non-null  float64\n",
      " 15  min_cos              10158 non-null  float64\n",
      " 16  conversion           10158 non-null  int64  \n",
      "dtypes: float64(16), int64(1)\n",
      "memory usage: 1.4 MB\n"
     ]
    }
   ],
   "source": [
    "train.info()"
   ]
  },
  {
   "cell_type": "code",
   "execution_count": 107,
   "metadata": {},
   "outputs": [
    {
     "name": "stdout",
     "output_type": "stream",
     "text": [
      "<class 'pandas.core.frame.DataFrame'>\n",
      "Index: 124479 entries, 0 to 124478\n",
      "Data columns (total 18 columns):\n",
      " #   Column               Non-Null Count   Dtype  \n",
      "---  ------               --------------   -----  \n",
      " 0   category_code_lvl_1  124479 non-null  float64\n",
      " 1   category_code_lvl_2  124479 non-null  float64\n",
      " 2   category_code_lvl_3  124479 non-null  float64\n",
      " 3   price                124479 non-null  float64\n",
      " 4   week_of_month        124479 non-null  float64\n",
      " 5   is_weekend           124479 non-null  float64\n",
      " 6   day                  124479 non-null  float64\n",
      " 7   is_view              124479 non-null  float64\n",
      " 8   is_cart              124479 non-null  float64\n",
      " 9   time_of_day_sin      124479 non-null  float64\n",
      " 10  time_of_day_cos      124479 non-null  float64\n",
      " 11  day_of_week_sin      124479 non-null  float64\n",
      " 12  day_of_week_cos      124479 non-null  float64\n",
      " 13  hour_sin             124479 non-null  float64\n",
      " 14  hour_cos             124479 non-null  float64\n",
      " 15  min_sin              124479 non-null  float64\n",
      " 16  min_cos              124479 non-null  float64\n",
      " 17  is_purchase          124479 non-null  int64  \n",
      "dtypes: float64(17), int64(1)\n",
      "memory usage: 18.0 MB\n"
     ]
    }
   ],
   "source": [
    "train.info()"
   ]
  },
  {
   "cell_type": "markdown",
   "metadata": {},
   "source": [
    "# Feat 1 - Dropping Low Variance Variables"
   ]
  },
  {
   "cell_type": "markdown",
   "metadata": {},
   "source": [
    "## Feat 1 - Study Low Variance Variables and Threshold\n",
    "\n",
    "using sampled dataframe due to heavy processing"
   ]
  },
  {
   "cell_type": "code",
   "execution_count": 60,
   "metadata": {},
   "outputs": [],
   "source": [
    "\n",
    "def study_variance_for_feature_selection(\n",
    "    train: DataFrame,\n",
    "    test: DataFrame,\n",
    "    target: str = \"class\",\n",
    "    max_threshold: float = 0.3,\n",
    "    lag: float = 0.03,\n",
    "    metric: str = \"accuracy\",\n",
    "    file_tag: str = \"\",\n",
    "    min_features_to_keep: int = 10  # Minimum features safeguard\n",
    ") -> dict:\n",
    "    # Generate the range of variance thresholds to test\n",
    "    options: list[float] = [\n",
    "        round(i * lag, 3) for i in range(1, ceil(max_threshold / lag + lag))\n",
    "    ]\n",
    "    \n",
    "    results: dict[str, list] = {\"NB\": [], \"KNN\": []}\n",
    "    summary5: DataFrame = train.describe()\n",
    "    \n",
    "    for thresh in options:\n",
    "        print(f\"Testing threshold: {thresh}\")\n",
    "        \n",
    "        # Calculate variance and select variables to drop\n",
    "        variances = summary5.loc[\"std\"] ** 2\n",
    "        vars2drop: Index[str] = summary5.columns[variances < thresh]\n",
    "\n",
    "        # Ensure we don't drop the target column\n",
    "        if target in vars2drop:\n",
    "            vars2drop = vars2drop.drop(target)\n",
    "\n",
    "        # Safeguard: Ensure we don't drop too many features\n",
    "        remaining_features = train.drop(vars2drop, axis=1).shape[1]\n",
    "        if remaining_features < min_features_to_keep:\n",
    "            print(f\"Threshold too strict at {thresh}, adjusting to retain at least {min_features_to_keep} features.\")\n",
    "            # Adjust threshold dynamically\n",
    "            vars2drop = summary5.columns[variances < thresh / 2]\n",
    "            remaining_features = train.drop(vars2drop, axis=1).shape[1]\n",
    "            if remaining_features < min_features_to_keep:\n",
    "                print(f\"Still too strict, keeping all variables for this threshold.\")\n",
    "                vars2drop = Index([])  # Don't drop any variables\n",
    "\n",
    "        print(f\"Dropping variables: {list(vars2drop)}\")\n",
    "        print(f\"Remaining features after drop: {remaining_features}\")\n",
    "\n",
    "        # Drop the low variance variables from train and test sets\n",
    "        train_copy: DataFrame = train.drop(vars2drop, axis=1, inplace=False)\n",
    "        test_copy: DataFrame = test.drop(vars2drop, axis=1, inplace=False)\n",
    "\n",
    "\n",
    "        # Evaluate the approach using the current feature set\n",
    "        eval: dict[str, list] | None = evaluate_approach(\n",
    "            train_copy, test_copy, target=target, metric=metric\n",
    "        )\n",
    "\n",
    "        # Check if evaluation returned results\n",
    "        if eval:\n",
    "            print(f\"Evaluation results at threshold {thresh}: {eval}\")\n",
    "            if metric in eval:\n",
    "                print(f\"Evaluation for {metric}: {eval[metric]}\")\n",
    "                results[\"NB\"].append(eval[metric][0])\n",
    "                results[\"KNN\"].append(eval[metric][1])\n",
    "            else:\n",
    "                print(f\"Metric '{metric}' not found in evaluation results at threshold {thresh}.\")\n",
    "                results[\"NB\"].append(None)\n",
    "                results[\"KNN\"].append(None)\n",
    "        else:\n",
    "            print(f\"Evaluation failed or returned empty at threshold {thresh}.\")\n",
    "            results[\"NB\"].append(None)\n",
    "            results[\"KNN\"].append(None)\n",
    "            \n",
    "\n",
    "\n",
    "\n",
    "    # Plotting the results of the variance study\n",
    "    plot_multiline_chart(\n",
    "        options,\n",
    "        results,\n",
    "        title=f\"{file_tag} variance study ({metric})\",\n",
    "        xlabel=\"Variance threshold\",\n",
    "        ylabel=metric,\n",
    "        percentage=True,\n",
    "    )\n",
    "    savefig(f\"images/{file_tag}_fs_low_var_{metric}_study.png\")\n",
    "    return results"
   ]
  },
  {
   "cell_type": "markdown",
   "metadata": {},
   "source": [
    "### recall"
   ]
  },
  {
   "cell_type": "code",
   "execution_count": 61,
   "metadata": {},
   "outputs": [
    {
     "name": "stdout",
     "output_type": "stream",
     "text": [
      "Testing threshold: 0.005\n",
      "Dropping variables: ['time_of_day_sin']\n",
      "Remaining features after drop: 16\n",
      "Evaluation results at threshold 0.005: {'accuracy': [1.0, 0.9908256880733946], 'recall': [1.0, 1.0], 'precision': [1.0, 0.9819819819819819], 'auc': [1.0, 0.9908256880733946], 'f1': [1.0, 0.990909090909091]}\n",
      "Evaluation for recall: [1.0, 1.0]\n",
      "Testing threshold: 0.01\n",
      "Dropping variables: ['time_of_day_sin']\n",
      "Remaining features after drop: 16\n",
      "Evaluation results at threshold 0.01: {'accuracy': [1.0, 0.9908256880733946], 'recall': [1.0, 1.0], 'precision': [1.0, 0.9819819819819819], 'auc': [1.0, 0.9908256880733946], 'f1': [1.0, 0.990909090909091]}\n",
      "Evaluation for recall: [1.0, 1.0]\n",
      "Testing threshold: 0.015\n",
      "Dropping variables: ['time_of_day_sin']\n",
      "Remaining features after drop: 16\n",
      "Evaluation results at threshold 0.015: {'accuracy': [1.0, 0.9908256880733946], 'recall': [1.0, 1.0], 'precision': [1.0, 0.9819819819819819], 'auc': [1.0, 0.9908256880733946], 'f1': [1.0, 0.990909090909091]}\n",
      "Evaluation for recall: [1.0, 1.0]\n",
      "Testing threshold: 0.02\n",
      "Dropping variables: ['time_of_day_sin']\n",
      "Remaining features after drop: 16\n",
      "Evaluation results at threshold 0.02: {'accuracy': [1.0, 0.9908256880733946], 'recall': [1.0, 1.0], 'precision': [1.0, 0.9819819819819819], 'auc': [1.0, 0.9908256880733946], 'f1': [1.0, 0.990909090909091]}\n",
      "Evaluation for recall: [1.0, 1.0]\n",
      "Testing threshold: 0.025\n",
      "Dropping variables: ['time_of_day_sin']\n",
      "Remaining features after drop: 16\n",
      "Evaluation results at threshold 0.025: {'accuracy': [1.0, 0.9908256880733946], 'recall': [1.0, 1.0], 'precision': [1.0, 0.9819819819819819], 'auc': [1.0, 0.9908256880733946], 'f1': [1.0, 0.990909090909091]}\n",
      "Evaluation for recall: [1.0, 1.0]\n",
      "Testing threshold: 0.03\n",
      "Dropping variables: ['time_of_day_sin']\n",
      "Remaining features after drop: 16\n",
      "Evaluation results at threshold 0.03: {'accuracy': [1.0, 0.9908256880733946], 'recall': [1.0, 1.0], 'precision': [1.0, 0.9819819819819819], 'auc': [1.0, 0.9908256880733946], 'f1': [1.0, 0.990909090909091]}\n",
      "Evaluation for recall: [1.0, 1.0]\n"
     ]
    },
    {
     "data": {
      "image/png": "[encoded data removed]",
      "text/plain": [
       "<Figure size 800x400 with 1 Axes>"
      ]
     },
     "metadata": {},
     "output_type": "display_data"
    }
   ],
   "source": [
    "# modified study_variance_for_feature_selection() in dslabs functions to keep minimum variables and print metrics (due to error)\n",
    "if evaluate==True:\n",
    "\n",
    "    eval_metric = \"recall\"\n",
    "    figure(figsize=(2 * HEIGHT, HEIGHT))\n",
    "    study_variance_for_feature_selection(\n",
    "        train_sample,\n",
    "        test_sample,\n",
    "        target=target,\n",
    "        max_threshold=0.03,\n",
    "        lag=0.005,\n",
    "        metric=eval_metric,\n",
    "        file_tag=file_tag,\n",
    "        min_features_to_keep = 10  # Minimum features safeguard\n",
    "\n",
    "    )\n",
    "    show()"
   ]
  },
  {
   "cell_type": "markdown",
   "metadata": {},
   "source": [
    "### accuracy study"
   ]
  },
  {
   "cell_type": "code",
   "execution_count": 62,
   "metadata": {},
   "outputs": [
    {
     "name": "stdout",
     "output_type": "stream",
     "text": [
      "Testing threshold: 0.01\n",
      "Dropping variables: ['time_of_day_sin']\n",
      "Remaining features after drop: 16\n",
      "Evaluation results at threshold 0.01: {'accuracy': [1.0, 0.9908256880733946], 'recall': [1.0, 1.0], 'precision': [1.0, 0.9819819819819819], 'auc': [1.0, 0.9908256880733946], 'f1': [1.0, 0.990909090909091]}\n",
      "Evaluation for accuracy: [1.0, 0.9908256880733946]\n",
      "Testing threshold: 0.02\n",
      "Dropping variables: ['time_of_day_sin']\n",
      "Remaining features after drop: 16\n",
      "Evaluation results at threshold 0.02: {'accuracy': [1.0, 0.9908256880733946], 'recall': [1.0, 1.0], 'precision': [1.0, 0.9819819819819819], 'auc': [1.0, 0.9908256880733946], 'f1': [1.0, 0.990909090909091]}\n",
      "Evaluation for accuracy: [1.0, 0.9908256880733946]\n",
      "Testing threshold: 0.03\n",
      "Dropping variables: ['time_of_day_sin']\n",
      "Remaining features after drop: 16\n",
      "Evaluation results at threshold 0.03: {'accuracy': [1.0, 0.9908256880733946], 'recall': [1.0, 1.0], 'precision': [1.0, 0.9819819819819819], 'auc': [1.0, 0.9908256880733946], 'f1': [1.0, 0.990909090909091]}\n",
      "Evaluation for accuracy: [1.0, 0.9908256880733946]\n",
      "Testing threshold: 0.04\n",
      "Dropping variables: ['time_of_day_sin']\n",
      "Remaining features after drop: 16\n",
      "Evaluation results at threshold 0.04: {'accuracy': [1.0, 0.9908256880733946], 'recall': [1.0, 1.0], 'precision': [1.0, 0.9819819819819819], 'auc': [1.0, 0.9908256880733946], 'f1': [1.0, 0.990909090909091]}\n",
      "Evaluation for accuracy: [1.0, 0.9908256880733946]\n",
      "Testing threshold: 0.05\n",
      "Dropping variables: ['time_of_day_sin']\n",
      "Remaining features after drop: 16\n",
      "Evaluation results at threshold 0.05: {'accuracy': [1.0, 0.9908256880733946], 'recall': [1.0, 1.0], 'precision': [1.0, 0.9819819819819819], 'auc': [1.0, 0.9908256880733946], 'f1': [1.0, 0.990909090909091]}\n",
      "Evaluation for accuracy: [1.0, 0.9908256880733946]\n",
      "Testing threshold: 0.06\n",
      "Dropping variables: ['time_of_day_sin']\n",
      "Remaining features after drop: 16\n",
      "Evaluation results at threshold 0.06: {'accuracy': [1.0, 0.9908256880733946], 'recall': [1.0, 1.0], 'precision': [1.0, 0.9819819819819819], 'auc': [1.0, 0.9908256880733946], 'f1': [1.0, 0.990909090909091]}\n",
      "Evaluation for accuracy: [1.0, 0.9908256880733946]\n",
      "Testing threshold: 0.07\n",
      "Dropping variables: ['time_of_day_sin']\n",
      "Remaining features after drop: 16\n",
      "Evaluation results at threshold 0.07: {'accuracy': [1.0, 0.9908256880733946], 'recall': [1.0, 1.0], 'precision': [1.0, 0.9819819819819819], 'auc': [1.0, 0.9908256880733946], 'f1': [1.0, 0.990909090909091]}\n",
      "Evaluation for accuracy: [1.0, 0.9908256880733946]\n",
      "Testing threshold: 0.08\n",
      "Dropping variables: ['time_of_day_sin']\n",
      "Remaining features after drop: 16\n",
      "Evaluation results at threshold 0.08: {'accuracy': [1.0, 0.9908256880733946], 'recall': [1.0, 1.0], 'precision': [1.0, 0.9819819819819819], 'auc': [1.0, 0.9908256880733946], 'f1': [1.0, 0.990909090909091]}\n",
      "Evaluation for accuracy: [1.0, 0.9908256880733946]\n",
      "Testing threshold: 0.09\n",
      "Dropping variables: ['time_of_day_sin']\n",
      "Remaining features after drop: 16\n",
      "Evaluation results at threshold 0.09: {'accuracy': [1.0, 0.9908256880733946], 'recall': [1.0, 1.0], 'precision': [1.0, 0.9819819819819819], 'auc': [1.0, 0.9908256880733946], 'f1': [1.0, 0.990909090909091]}\n",
      "Evaluation for accuracy: [1.0, 0.9908256880733946]\n",
      "Testing threshold: 0.1\n",
      "Dropping variables: ['time_of_day_sin']\n",
      "Remaining features after drop: 16\n",
      "Evaluation results at threshold 0.1: {'accuracy': [1.0, 0.9908256880733946], 'recall': [1.0, 1.0], 'precision': [1.0, 0.9819819819819819], 'auc': [1.0, 0.9908256880733946], 'f1': [1.0, 0.990909090909091]}\n",
      "Evaluation for accuracy: [1.0, 0.9908256880733946]\n",
      "Testing threshold: 0.11\n",
      "Dropping variables: ['time_of_day_sin']\n",
      "Remaining features after drop: 16\n",
      "Evaluation results at threshold 0.11: {'accuracy': [1.0, 0.9908256880733946], 'recall': [1.0, 1.0], 'precision': [1.0, 0.9819819819819819], 'auc': [1.0, 0.9908256880733946], 'f1': [1.0, 0.990909090909091]}\n",
      "Evaluation for accuracy: [1.0, 0.9908256880733946]\n",
      "Testing threshold: 0.12\n",
      "Dropping variables: ['time_of_day_sin']\n",
      "Remaining features after drop: 16\n",
      "Evaluation results at threshold 0.12: {'accuracy': [1.0, 0.9908256880733946], 'recall': [1.0, 1.0], 'precision': [1.0, 0.9819819819819819], 'auc': [1.0, 0.9908256880733946], 'f1': [1.0, 0.990909090909091]}\n",
      "Evaluation for accuracy: [1.0, 0.9908256880733946]\n",
      "Testing threshold: 0.13\n",
      "Dropping variables: ['time_of_day_sin']\n",
      "Remaining features after drop: 16\n",
      "Evaluation results at threshold 0.13: {'accuracy': [1.0, 0.9908256880733946], 'recall': [1.0, 1.0], 'precision': [1.0, 0.9819819819819819], 'auc': [1.0, 0.9908256880733946], 'f1': [1.0, 0.990909090909091]}\n",
      "Evaluation for accuracy: [1.0, 0.9908256880733946]\n",
      "Testing threshold: 0.14\n",
      "Dropping variables: ['time_of_day_sin']\n",
      "Remaining features after drop: 16\n",
      "Evaluation results at threshold 0.14: {'accuracy': [1.0, 0.9908256880733946], 'recall': [1.0, 1.0], 'precision': [1.0, 0.9819819819819819], 'auc': [1.0, 0.9908256880733946], 'f1': [1.0, 0.990909090909091]}\n",
      "Evaluation for accuracy: [1.0, 0.9908256880733946]\n",
      "Testing threshold: 0.15\n",
      "Dropping variables: ['time_of_day_sin']\n",
      "Remaining features after drop: 16\n",
      "Evaluation results at threshold 0.15: {'accuracy': [1.0, 0.9908256880733946], 'recall': [1.0, 1.0], 'precision': [1.0, 0.9819819819819819], 'auc': [1.0, 0.9908256880733946], 'f1': [1.0, 0.990909090909091]}\n",
      "Evaluation for accuracy: [1.0, 0.9908256880733946]\n",
      "Testing threshold: 0.16\n",
      "Dropping variables: ['time_of_day_sin']\n",
      "Remaining features after drop: 16\n",
      "Evaluation results at threshold 0.16: {'accuracy': [1.0, 0.9908256880733946], 'recall': [1.0, 1.0], 'precision': [1.0, 0.9819819819819819], 'auc': [1.0, 0.9908256880733946], 'f1': [1.0, 0.990909090909091]}\n",
      "Evaluation for accuracy: [1.0, 0.9908256880733946]\n",
      "Testing threshold: 0.17\n",
      "Dropping variables: ['time_of_day_sin']\n",
      "Remaining features after drop: 16\n",
      "Evaluation results at threshold 0.17: {'accuracy': [1.0, 0.9908256880733946], 'recall': [1.0, 1.0], 'precision': [1.0, 0.9819819819819819], 'auc': [1.0, 0.9908256880733946], 'f1': [1.0, 0.990909090909091]}\n",
      "Evaluation for accuracy: [1.0, 0.9908256880733946]\n",
      "Testing threshold: 0.18\n",
      "Dropping variables: ['time_of_day_sin']\n",
      "Remaining features after drop: 16\n",
      "Evaluation results at threshold 0.18: {'accuracy': [1.0, 0.9908256880733946], 'recall': [1.0, 1.0], 'precision': [1.0, 0.9819819819819819], 'auc': [1.0, 0.9908256880733946], 'f1': [1.0, 0.990909090909091]}\n",
      "Evaluation for accuracy: [1.0, 0.9908256880733946]\n",
      "Testing threshold: 0.19\n",
      "Dropping variables: ['time_of_day_sin']\n",
      "Remaining features after drop: 16\n",
      "Evaluation results at threshold 0.19: {'accuracy': [1.0, 0.9908256880733946], 'recall': [1.0, 1.0], 'precision': [1.0, 0.9819819819819819], 'auc': [1.0, 0.9908256880733946], 'f1': [1.0, 0.990909090909091]}\n",
      "Evaluation for accuracy: [1.0, 0.9908256880733946]\n",
      "Testing threshold: 0.2\n",
      "Dropping variables: ['time_of_day_sin']\n",
      "Remaining features after drop: 16\n",
      "Evaluation results at threshold 0.2: {'accuracy': [1.0, 0.9908256880733946], 'recall': [1.0, 1.0], 'precision': [1.0, 0.9819819819819819], 'auc': [1.0, 0.9908256880733946], 'f1': [1.0, 0.990909090909091]}\n",
      "Evaluation for accuracy: [1.0, 0.9908256880733946]\n"
     ]
    },
    {
     "data": {
      "image/png": "[encoded data removed]",
      "text/plain": [
       "<Figure size 800x400 with 1 Axes>"
      ]
     },
     "metadata": {},
     "output_type": "display_data"
    }
   ],
   "source": [
    "if evaluate==True:\n",
    "\n",
    "    eval_metric = \"accuracy\"\n",
    "    figure(figsize=(2 * HEIGHT, HEIGHT))\n",
    "    study_variance_for_feature_selection(\n",
    "        train_sample,\n",
    "        test_sample,\n",
    "        target=target,\n",
    "        max_threshold=0.2,\n",
    "        lag=0.01,\n",
    "        metric=eval_metric,\n",
    "        file_tag=file_tag,\n",
    "        min_features_to_keep = 10  # Minimum features safeguard\n",
    "\n",
    "    )\n",
    "    show()"
   ]
  },
  {
   "cell_type": "markdown",
   "metadata": {},
   "source": [
    "## Feat 1 strategy Application"
   ]
  },
  {
   "cell_type": "code",
   "execution_count": null,
   "metadata": {},
   "outputs": [],
   "source": []
  },
  {
   "cell_type": "markdown",
   "metadata": {},
   "source": [
    "## Feat 1 strategy Application"
   ]
  },
  {
   "cell_type": "code",
   "execution_count": 63,
   "metadata": {},
   "outputs": [
    {
     "name": "stdout",
     "output_type": "stream",
     "text": [
      "Variance threshold: 0.03, Remaining features: 16\n",
      "Variables to drop: ['time_of_day_sin']\n",
      "columns to drop: ['time_of_day_sin']\n",
      "Remaining columns: Index(['event_type', 'category_code_lvl_1', 'category_code_lvl_2',\n",
      "       'category_code_lvl_3', 'price', 'week_of_month', 'is_weekend', 'day',\n",
      "       'time_of_day_cos', 'day_of_week_sin', 'day_of_week_cos', 'hour_sin',\n",
      "       'hour_cos', 'min_sin', 'min_cos', 'conversion'],\n",
      "      dtype='object')\n"
     ]
    },
    {
     "data": {
      "text/html": [
       "<div>\n",
       "<style scoped>\n",
       "    .dataframe tbody tr th:only-of-type {\n",
       "        vertical-align: middle;\n",
       "    }\n",
       "\n",
       "    .dataframe tbody tr th {\n",
       "        vertical-align: top;\n",
       "    }\n",
       "\n",
       "    .dataframe thead th {\n",
       "        text-align: right;\n",
       "    }\n",
       "</style>\n",
       "<table border=\"1\" class=\"dataframe\">\n",
       "  <thead>\n",
       "    <tr style=\"text-align: right;\">\n",
       "      <th></th>\n",
       "      <th>event_type</th>\n",
       "      <th>category_code_lvl_1</th>\n",
       "      <th>category_code_lvl_2</th>\n",
       "      <th>category_code_lvl_3</th>\n",
       "      <th>price</th>\n",
       "      <th>week_of_month</th>\n",
       "      <th>is_weekend</th>\n",
       "      <th>day</th>\n",
       "      <th>time_of_day_cos</th>\n",
       "      <th>day_of_week_sin</th>\n",
       "      <th>day_of_week_cos</th>\n",
       "      <th>hour_sin</th>\n",
       "      <th>hour_cos</th>\n",
       "      <th>min_sin</th>\n",
       "      <th>min_cos</th>\n",
       "      <th>conversion</th>\n",
       "    </tr>\n",
       "  </thead>\n",
       "  <tbody>\n",
       "    <tr>\n",
       "      <th>count</th>\n",
       "      <td>14512.000000</td>\n",
       "      <td>14512.000000</td>\n",
       "      <td>14512.000000</td>\n",
       "      <td>14512.000000</td>\n",
       "      <td>14512.000000</td>\n",
       "      <td>14512.000000</td>\n",
       "      <td>14512.000000</td>\n",
       "      <td>14512.000000</td>\n",
       "      <td>14512.000000</td>\n",
       "      <td>14512.000000</td>\n",
       "      <td>14512.000000</td>\n",
       "      <td>14512.000000</td>\n",
       "      <td>14512.000000</td>\n",
       "      <td>14512.000000</td>\n",
       "      <td>14512.000000</td>\n",
       "      <td>14512.000000</td>\n",
       "    </tr>\n",
       "    <tr>\n",
       "      <th>mean</th>\n",
       "      <td>1.539462</td>\n",
       "      <td>0.143314</td>\n",
       "      <td>0.124076</td>\n",
       "      <td>0.115890</td>\n",
       "      <td>0.000182</td>\n",
       "      <td>-0.002414</td>\n",
       "      <td>0.020221</td>\n",
       "      <td>-0.015050</td>\n",
       "      <td>0.055160</td>\n",
       "      <td>-0.012105</td>\n",
       "      <td>-0.028976</td>\n",
       "      <td>0.099369</td>\n",
       "      <td>-0.069749</td>\n",
       "      <td>0.012757</td>\n",
       "      <td>0.001001</td>\n",
       "      <td>0.500000</td>\n",
       "    </tr>\n",
       "    <tr>\n",
       "      <th>std</th>\n",
       "      <td>1.761225</td>\n",
       "      <td>1.041309</td>\n",
       "      <td>1.022124</td>\n",
       "      <td>1.016511</td>\n",
       "      <td>0.968147</td>\n",
       "      <td>1.015880</td>\n",
       "      <td>1.010484</td>\n",
       "      <td>1.016010</td>\n",
       "      <td>0.987372</td>\n",
       "      <td>1.010204</td>\n",
       "      <td>1.011843</td>\n",
       "      <td>0.989492</td>\n",
       "      <td>0.975163</td>\n",
       "      <td>0.993220</td>\n",
       "      <td>1.006583</td>\n",
       "      <td>0.500017</td>\n",
       "    </tr>\n",
       "    <tr>\n",
       "      <th>min</th>\n",
       "      <td>-0.313392</td>\n",
       "      <td>-1.254962</td>\n",
       "      <td>-1.524222</td>\n",
       "      <td>-1.796606</td>\n",
       "      <td>-0.935681</td>\n",
       "      <td>-1.559001</td>\n",
       "      <td>-0.602010</td>\n",
       "      <td>-1.917360</td>\n",
       "      <td>-1.220425</td>\n",
       "      <td>-1.474230</td>\n",
       "      <td>-1.593781</td>\n",
       "      <td>-1.334503</td>\n",
       "      <td>-1.200070</td>\n",
       "      <td>-1.418465</td>\n",
       "      <td>-1.426252</td>\n",
       "      <td>0.000000</td>\n",
       "    </tr>\n",
       "    <tr>\n",
       "      <th>25%</th>\n",
       "      <td>-0.313392</td>\n",
       "      <td>-0.813563</td>\n",
       "      <td>-0.838341</td>\n",
       "      <td>-0.615633</td>\n",
       "      <td>-0.710305</td>\n",
       "      <td>-0.735420</td>\n",
       "      <td>-0.602010</td>\n",
       "      <td>-0.841817</td>\n",
       "      <td>-1.220425</td>\n",
       "      <td>-1.474230</td>\n",
       "      <td>-1.066318</td>\n",
       "      <td>-0.978530</td>\n",
       "      <td>-0.843266</td>\n",
       "      <td>-0.959641</td>\n",
       "      <td>-1.003598</td>\n",
       "      <td>0.000000</td>\n",
       "    </tr>\n",
       "    <tr>\n",
       "      <th>50%</th>\n",
       "      <td>3.192751</td>\n",
       "      <td>-0.151464</td>\n",
       "      <td>0.213344</td>\n",
       "      <td>0.356933</td>\n",
       "      <td>-0.321344</td>\n",
       "      <td>0.088162</td>\n",
       "      <td>-0.602010</td>\n",
       "      <td>-0.005283</td>\n",
       "      <td>0.819387</td>\n",
       "      <td>-0.162310</td>\n",
       "      <td>0.374836</td>\n",
       "      <td>0.177379</td>\n",
       "      <td>-0.111404</td>\n",
       "      <td>0.006456</td>\n",
       "      <td>0.088844</td>\n",
       "      <td>0.500000</td>\n",
       "    </tr>\n",
       "    <tr>\n",
       "      <th>75%</th>\n",
       "      <td>3.215657</td>\n",
       "      <td>1.393432</td>\n",
       "      <td>1.219302</td>\n",
       "      <td>1.167405</td>\n",
       "      <td>0.324036</td>\n",
       "      <td>0.911744</td>\n",
       "      <td>1.661102</td>\n",
       "      <td>0.831250</td>\n",
       "      <td>0.819387</td>\n",
       "      <td>0.798016</td>\n",
       "      <td>1.095413</td>\n",
       "      <td>1.085307</td>\n",
       "      <td>0.781435</td>\n",
       "      <td>1.026699</td>\n",
       "      <td>1.008572</td>\n",
       "      <td>1.000000</td>\n",
       "    </tr>\n",
       "    <tr>\n",
       "      <th>max</th>\n",
       "      <td>3.215657</td>\n",
       "      <td>1.393432</td>\n",
       "      <td>1.265028</td>\n",
       "      <td>1.306343</td>\n",
       "      <td>2.690135</td>\n",
       "      <td>1.735326</td>\n",
       "      <td>1.661102</td>\n",
       "      <td>1.548278</td>\n",
       "      <td>0.819387</td>\n",
       "      <td>1.149611</td>\n",
       "      <td>1.095413</td>\n",
       "      <td>1.326622</td>\n",
       "      <td>2.011654</td>\n",
       "      <td>1.431376</td>\n",
       "      <td>1.380676</td>\n",
       "      <td>1.000000</td>\n",
       "    </tr>\n",
       "  </tbody>\n",
       "</table>\n",
       "</div>"
      ],
      "text/plain": [
       "         event_type  category_code_lvl_1  category_code_lvl_2  \\\n",
       "count  14512.000000         14512.000000         14512.000000   \n",
       "mean       1.539462             0.143314             0.124076   \n",
       "std        1.761225             1.041309             1.022124   \n",
       "min       -0.313392            -1.254962            -1.524222   \n",
       "25%       -0.313392            -0.813563            -0.838341   \n",
       "50%        3.192751            -0.151464             0.213344   \n",
       "75%        3.215657             1.393432             1.219302   \n",
       "max        3.215657             1.393432             1.265028   \n",
       "\n",
       "       category_code_lvl_3         price  week_of_month    is_weekend  \\\n",
       "count         14512.000000  14512.000000   14512.000000  14512.000000   \n",
       "mean              0.115890      0.000182      -0.002414      0.020221   \n",
       "std               1.016511      0.968147       1.015880      1.010484   \n",
       "min              -1.796606     -0.935681      -1.559001     -0.602010   \n",
       "25%              -0.615633     -0.710305      -0.735420     -0.602010   \n",
       "50%               0.356933     -0.321344       0.088162     -0.602010   \n",
       "75%               1.167405      0.324036       0.911744      1.661102   \n",
       "max               1.306343      2.690135       1.735326      1.661102   \n",
       "\n",
       "                day  time_of_day_cos  day_of_week_sin  day_of_week_cos  \\\n",
       "count  14512.000000     14512.000000     14512.000000     14512.000000   \n",
       "mean      -0.015050         0.055160        -0.012105        -0.028976   \n",
       "std        1.016010         0.987372         1.010204         1.011843   \n",
       "min       -1.917360        -1.220425        -1.474230        -1.593781   \n",
       "25%       -0.841817        -1.220425        -1.474230        -1.066318   \n",
       "50%       -0.005283         0.819387        -0.162310         0.374836   \n",
       "75%        0.831250         0.819387         0.798016         1.095413   \n",
       "max        1.548278         0.819387         1.149611         1.095413   \n",
       "\n",
       "           hour_sin      hour_cos       min_sin       min_cos    conversion  \n",
       "count  14512.000000  14512.000000  14512.000000  14512.000000  14512.000000  \n",
       "mean       0.099369     -0.069749      0.012757      0.001001      0.500000  \n",
       "std        0.989492      0.975163      0.993220      1.006583      0.500017  \n",
       "min       -1.334503     -1.200070     -1.418465     -1.426252      0.000000  \n",
       "25%       -0.978530     -0.843266     -0.959641     -1.003598      0.000000  \n",
       "50%        0.177379     -0.111404      0.006456      0.088844      0.500000  \n",
       "75%        1.085307      0.781435      1.026699      1.008572      1.000000  \n",
       "max        1.326622      2.011654      1.431376      1.380676      1.000000  "
      ]
     },
     "execution_count": 63,
     "metadata": {},
     "output_type": "execute_result"
    }
   ],
   "source": [
    "from pandas import DataFrame, Index\n",
    "\n",
    "def apply_strategy_1(df: DataFrame) -> DataFrame:\n",
    "\n",
    "    # this script is available in data_functions originally from DSLabs site in Feature Selection chapter\n",
    "\n",
    "    df_copy=df.copy()\n",
    "    \n",
    "    vars2drop: list[str] = select_low_variance_variables(df_copy, max_threshold=0.03, min_features_to_keep=10, target=target)\n",
    "    \n",
    "    print(\"columns to drop:\", vars2drop)\n",
    "\n",
    "    df_vars_drop = df_copy.drop(columns=vars2drop, errors='ignore')\n",
    "    \n",
    "    print(\"Remaining columns:\", df_vars_drop.columns)\n",
    "\n",
    "    return df_vars_drop\n",
    "\n",
    "\n",
    "df_1=apply_strategy_1(df)\n",
    "\n",
    "df_1.describe()\n"
   ]
  },
  {
   "cell_type": "code",
   "execution_count": null,
   "metadata": {},
   "outputs": [],
   "source": []
  },
  {
   "cell_type": "markdown",
   "metadata": {},
   "source": [
    "## Feat 1 train/test split "
   ]
  },
  {
   "cell_type": "code",
   "execution_count": 64,
   "metadata": {},
   "outputs": [
    {
     "name": "stdout",
     "output_type": "stream",
     "text": [
      "Labels=[0, 1]\n"
     ]
    },
    {
     "data": {
      "image/png": "[encoded data removed]",
      "text/plain": [
       "<Figure size 600x400 with 1 Axes>"
      ]
     },
     "metadata": {},
     "output_type": "display_data"
    }
   ],
   "source": [
    "if evaluate==True:\n",
    "\n",
    "    from pandas import concat\n",
    "    from matplotlib.pyplot import figure, show\n",
    "    from sklearn.model_selection import train_test_split\n",
    "    from dslabs_functions import plot_multibar_chart\n",
    "\n",
    "\n",
    "    # Call the function to split the data\n",
    "    from numpy import array, ndarray\n",
    "\n",
    "\n",
    "    y_1, X_1, labels, values = define_target_and_prepare_data(df_1, target)\n",
    "\n",
    "\n",
    "\n",
    "    train_1, test_1 = split_data_save_csv(pd.DataFrame(X_1, columns=df_1.columns), y_1, data_columns=df_1.columns, target_column=target)\n",
    "\n",
    "    # Distribution check\n",
    "    values[\"Train\"] = [\n",
    "        len(train_1[train_1[target] == 0]),\n",
    "        len(train_1[train_1[target] == 1]),\n",
    "    ]\n",
    "    values[\"Test\"] = [\n",
    "        len(test_1[test_1[target] == 0]),\n",
    "        len(test_1[test_1[target] == 1]),\n",
    "    ]\n",
    "\n",
    "    # Visualize the distribution\n",
    "    figure(figsize=(6, 4))\n",
    "    plot_multibar_chart(labels, values, title=\"Data distribution per dataset\")\n",
    "    show()"
   ]
  },
  {
   "cell_type": "code",
   "execution_count": null,
   "metadata": {},
   "outputs": [],
   "source": []
  },
  {
   "cell_type": "markdown",
   "metadata": {},
   "source": [
    "## Feat 1 evaluate"
   ]
  },
  {
   "cell_type": "code",
   "execution_count": 65,
   "metadata": {},
   "outputs": [
    {
     "data": {
      "image/png": "[encoded data removed]",
      "text/plain": [
       "<Figure size 640x480 with 1 Axes>"
      ]
     },
     "metadata": {},
     "output_type": "display_data"
    }
   ],
   "source": [
    "if evaluate==True:\n",
    "\n",
    "    # evaluate_approach is in data_functions originally from DSLABS/ Data Prep / Methodology\n",
    "    # removed Multinomial from run_NB function because dataset has negative values\n",
    "\n",
    "    figure()\n",
    "    eval_1: dict[str, list] = evaluate_approach(train_1, test_1, target='conversion', metric=\"recall\")\n",
    "    plot_multibar_chart(\n",
    "        [\"NB\", \"KNN\"], eval_1, title=f\"{file_tag}_approach_1_evaluation\", percentage=True\n",
    "    )\n",
    "    savefig(f\"images/{file_tag}_approach_1_evaluation.png\")\n",
    "    show()"
   ]
  },
  {
   "cell_type": "markdown",
   "metadata": {},
   "source": [
    "# Feat 2 - Dropping Redundant Variables\n"
   ]
  },
  {
   "cell_type": "code",
   "execution_count": 66,
   "metadata": {},
   "outputs": [],
   "source": [
    "\n",
    "\n",
    "def study_redundancy_for_feature_selection(\n",
    "    train: DataFrame,\n",
    "    test: DataFrame,\n",
    "    target: str = \"class\",\n",
    "    min_threshold: float = 0.1,\n",
    "    lag: float = 0.03,\n",
    "    metric: str = \"accuracy\",\n",
    "    file_tag: str = \"\",\n",
    ") -> dict:\n",
    "    # Generate the range of redundancy thresholds to test\n",
    "    options: list[float] = [\n",
    "        round(min_threshold + i * lag, 3)\n",
    "        for i in range(ceil((1 - min_threshold) / lag) + 1)\n",
    "    ]\n",
    "\n",
    "    # Ensure 'target' column is present and drop it for correlation calculation\n",
    "    df: DataFrame = train.drop(target, axis=1, inplace=False)\n",
    "    print(f\"Columns in the train dataset: {df.columns.tolist()}\")  # Debugging step\n",
    "\n",
    "    # Calculate the correlation matrix\n",
    "    corr_matrix: DataFrame = abs(df.corr())\n",
    "    variables: Index[str] = corr_matrix.columns\n",
    "    print(f\"Variables considered for correlation: {variables.tolist()}\")  # Debugging step\n",
    "\n",
    "    results: dict[str, list] = {\"NB\": [], \"KNN\": []}\n",
    "    \n",
    "    for thresh in options:\n",
    "        vars2drop: list = []\n",
    "        \n",
    "        # Loop through the variables to identify correlated features\n",
    "        for v1 in variables:\n",
    "            # Get features correlated with the current variable\n",
    "            vars_corr: Series = (corr_matrix[v1]).loc[corr_matrix[v1] >= thresh]\n",
    "            \n",
    "            # Check if the current variable is in the correlation list before trying to drop it\n",
    "            if v1 in vars_corr:\n",
    "                vars_corr.drop(v1, inplace=True)\n",
    "            \n",
    "            # If other variables are highly correlated with v1, consider them for removal\n",
    "            if len(vars_corr) > 1:\n",
    "                lst_corr = list(vars_corr.index)\n",
    "                for v2 in lst_corr:\n",
    "                    if v2 not in vars2drop:\n",
    "                        vars2drop.append(v2)\n",
    "\n",
    "        print(f\"Variables to drop at threshold {thresh}: {vars2drop}\")  # Debugging step\n",
    "        \n",
    "        # Drop the selected redundant variables from train and test datasets\n",
    "        train_copy: DataFrame = train.drop(vars2drop, axis=1, inplace=False)\n",
    "        test_copy: DataFrame = test.drop(vars2drop, axis=1, inplace=False)\n",
    "\n",
    "        # Evaluate the approach using the current feature set\n",
    "        eval: dict | None = evaluate_approach(train_copy, test_copy, target=target, metric=metric)\n",
    "\n",
    "        # Check if evaluation returned results\n",
    "        if eval:\n",
    "            print(f\"Evaluation results at threshold {thresh}: {eval}\")\n",
    "            if metric in eval:\n",
    "                print(f\"Evaluation for {metric}: {eval[metric]}\")\n",
    "                results[\"NB\"].append(eval[metric][0])\n",
    "                results[\"KNN\"].append(eval[metric][1])\n",
    "            else:\n",
    "                print(f\"Metric '{metric}' not found in evaluation results at threshold {thresh}.\")\n",
    "                results[\"NB\"].append(None)\n",
    "                results[\"KNN\"].append(None)\n",
    "        else:\n",
    "            print(f\"Evaluation failed or returned empty at threshold {thresh}.\")\n",
    "            results[\"NB\"].append(None)\n",
    "            results[\"KNN\"].append(None)\n",
    "\n",
    "    # Optional: Save or plot the results after evaluation\n",
    "    plot_multiline_chart(\n",
    "        options,\n",
    "        results,\n",
    "        title=f\"{file_tag} redundancy study ({metric})\",\n",
    "        xlabel=\"correlation threshold\",\n",
    "        ylabel=metric,\n",
    "        percentage=True,\n",
    "    )\n",
    "    savefig(f\"images/{file_tag}_fs_redundancy_{metric}_study.png\")\n",
    "    return results"
   ]
  },
  {
   "cell_type": "code",
   "execution_count": 211,
   "metadata": {},
   "outputs": [
    {
     "data": {
      "text/plain": [
       "Index(['category_code_lvl_1', 'category_code_lvl_2', 'category_code_lvl_3',\n",
       "       'price', 'week_of_month', 'is_weekend', 'day', 'is_view', 'is_cart',\n",
       "       'time_of_day_sin', 'time_of_day_cos', 'day_of_week_sin',\n",
       "       'day_of_week_cos', 'hour_sin', 'hour_cos', 'min_sin', 'min_cos',\n",
       "       'is_purchase'],\n",
       "      dtype='object')"
      ]
     },
     "execution_count": 211,
     "metadata": {},
     "output_type": "execute_result"
    }
   ],
   "source": [
    "test.columns"
   ]
  },
  {
   "cell_type": "code",
   "execution_count": 67,
   "metadata": {},
   "outputs": [
    {
     "name": "stdout",
     "output_type": "stream",
     "text": [
      "Columns in the train dataset: ['event_type', 'category_code_lvl_1', 'category_code_lvl_2', 'category_code_lvl_3', 'price', 'week_of_month', 'is_weekend', 'day', 'time_of_day_sin', 'time_of_day_cos', 'day_of_week_sin', 'day_of_week_cos', 'hour_sin', 'hour_cos', 'min_sin', 'min_cos']\n",
      "Variables considered for correlation: ['event_type', 'category_code_lvl_1', 'category_code_lvl_2', 'category_code_lvl_3', 'price', 'week_of_month', 'is_weekend', 'day', 'time_of_day_sin', 'time_of_day_cos', 'day_of_week_sin', 'day_of_week_cos', 'hour_sin', 'hour_cos', 'min_sin', 'min_cos']\n",
      "Variables to drop at threshold 0.001: ['category_code_lvl_1', 'category_code_lvl_2', 'category_code_lvl_3', 'price', 'week_of_month', 'is_weekend', 'day', 'time_of_day_cos', 'day_of_week_sin', 'day_of_week_cos', 'hour_sin', 'hour_cos', 'min_sin', 'min_cos', 'event_type']\n",
      "Evaluation failed or returned empty at threshold 0.001.\n",
      "Variables to drop at threshold 0.201: ['category_code_lvl_2', 'category_code_lvl_3', 'category_code_lvl_1', 'day_of_week_sin', 'day_of_week_cos', 'hour_sin', 'hour_cos', 'is_weekend']\n",
      "Evaluation results at threshold 0.201: {'accuracy': [1.0, 0.9908256880733946], 'recall': [1.0, 1.0], 'precision': [1.0, 0.9819819819819819], 'auc': [1.0, 0.9908256880733946], 'f1': [1.0, 0.990909090909091]}\n",
      "Evaluation for recall: [1.0, 1.0]\n",
      "Variables to drop at threshold 0.401: ['category_code_lvl_2', 'category_code_lvl_3', 'category_code_lvl_1', 'day_of_week_sin', 'day_of_week_cos', 'is_weekend']\n",
      "Evaluation results at threshold 0.401: {'accuracy': [1.0, 0.9908256880733946], 'recall': [1.0, 1.0], 'precision': [1.0, 0.9819819819819819], 'auc': [1.0, 0.9908256880733946], 'f1': [1.0, 0.990909090909091]}\n",
      "Evaluation for recall: [1.0, 1.0]\n",
      "Variables to drop at threshold 0.601: ['category_code_lvl_2', 'category_code_lvl_3', 'category_code_lvl_1', 'day_of_week_sin', 'day_of_week_cos', 'is_weekend']\n",
      "Evaluation results at threshold 0.601: {'accuracy': [1.0, 0.9908256880733946], 'recall': [1.0, 1.0], 'precision': [1.0, 0.9819819819819819], 'auc': [1.0, 0.9908256880733946], 'f1': [1.0, 0.990909090909091]}\n",
      "Evaluation for recall: [1.0, 1.0]\n",
      "Variables to drop at threshold 0.801: ['category_code_lvl_2', 'category_code_lvl_3', 'category_code_lvl_1']\n",
      "Evaluation results at threshold 0.801: {'accuracy': [1.0, 0.9908256880733946], 'recall': [1.0, 1.0], 'precision': [1.0, 0.9819819819819819], 'auc': [1.0, 0.9908256880733946], 'f1': [1.0, 0.990909090909091]}\n",
      "Evaluation for recall: [1.0, 1.0]\n",
      "Variables to drop at threshold 1.001: []\n",
      "Evaluation results at threshold 1.001: {'accuracy': [1.0, 0.9908256880733946], 'recall': [1.0, 1.0], 'precision': [1.0, 0.9819819819819819], 'auc': [1.0, 0.9908256880733946], 'f1': [1.0, 0.990909090909091]}\n",
      "Evaluation for recall: [1.0, 1.0]\n"
     ]
    },
    {
     "ename": "TypeError",
     "evalue": "'<' not supported between instances of 'NoneType' and 'int'",
     "output_type": "error",
     "traceback": [
      "\u001b[0;31m---------------------------------------------------------------------------\u001b[0m",
      "\u001b[0;31mTypeError\u001b[0m                                 Traceback (most recent call last)",
      "Cell \u001b[0;32mIn[67], line 8\u001b[0m\n\u001b[1;32m      6\u001b[0m eval_metric \u001b[38;5;241m=\u001b[39m \u001b[38;5;124m\"\u001b[39m\u001b[38;5;124mrecall\u001b[39m\u001b[38;5;124m\"\u001b[39m\n\u001b[1;32m      7\u001b[0m figure(figsize\u001b[38;5;241m=\u001b[39m(\u001b[38;5;241m2\u001b[39m \u001b[38;5;241m*\u001b[39m HEIGHT, HEIGHT))\n\u001b[0;32m----> 8\u001b[0m study_redundancy_for_feature_selection(\n\u001b[1;32m      9\u001b[0m     train_sample,\n\u001b[1;32m     10\u001b[0m     test_sample,\n\u001b[1;32m     11\u001b[0m     target\u001b[38;5;241m=\u001b[39mtarget,\n\u001b[1;32m     12\u001b[0m     min_threshold \u001b[38;5;241m=\u001b[39m \u001b[38;5;241m0.001\u001b[39m,\n\u001b[1;32m     13\u001b[0m     lag \u001b[38;5;241m=\u001b[39m \u001b[38;5;241m0.2\u001b[39m,\n\u001b[1;32m     14\u001b[0m     metric\u001b[38;5;241m=\u001b[39meval_metric,\n\u001b[1;32m     15\u001b[0m     file_tag\u001b[38;5;241m=\u001b[39mfile_tag,\n\u001b[1;32m     16\u001b[0m )\n\u001b[1;32m     17\u001b[0m show()\n",
      "Cell \u001b[0;32mIn[66], line 72\u001b[0m, in \u001b[0;36mstudy_redundancy_for_feature_selection\u001b[0;34m(train, test, target, min_threshold, lag, metric, file_tag)\u001b[0m\n\u001b[1;32m     69\u001b[0m         results[\u001b[38;5;124m\"\u001b[39m\u001b[38;5;124mKNN\u001b[39m\u001b[38;5;124m\"\u001b[39m]\u001b[38;5;241m.\u001b[39mappend(\u001b[38;5;28;01mNone\u001b[39;00m)\n\u001b[1;32m     71\u001b[0m \u001b[38;5;66;03m# Optional: Save or plot the results after evaluation\u001b[39;00m\n\u001b[0;32m---> 72\u001b[0m plot_multiline_chart(\n\u001b[1;32m     73\u001b[0m     options,\n\u001b[1;32m     74\u001b[0m     results,\n\u001b[1;32m     75\u001b[0m     title\u001b[38;5;241m=\u001b[39m\u001b[38;5;124mf\u001b[39m\u001b[38;5;124m\"\u001b[39m\u001b[38;5;132;01m{\u001b[39;00mfile_tag\u001b[38;5;132;01m}\u001b[39;00m\u001b[38;5;124m redundancy study (\u001b[39m\u001b[38;5;132;01m{\u001b[39;00mmetric\u001b[38;5;132;01m}\u001b[39;00m\u001b[38;5;124m)\u001b[39m\u001b[38;5;124m\"\u001b[39m,\n\u001b[1;32m     76\u001b[0m     xlabel\u001b[38;5;241m=\u001b[39m\u001b[38;5;124m\"\u001b[39m\u001b[38;5;124mcorrelation threshold\u001b[39m\u001b[38;5;124m\"\u001b[39m,\n\u001b[1;32m     77\u001b[0m     ylabel\u001b[38;5;241m=\u001b[39mmetric,\n\u001b[1;32m     78\u001b[0m     percentage\u001b[38;5;241m=\u001b[39m\u001b[38;5;28;01mTrue\u001b[39;00m,\n\u001b[1;32m     79\u001b[0m )\n\u001b[1;32m     80\u001b[0m savefig(\u001b[38;5;124mf\u001b[39m\u001b[38;5;124m\"\u001b[39m\u001b[38;5;124mimages/\u001b[39m\u001b[38;5;132;01m{\u001b[39;00mfile_tag\u001b[38;5;132;01m}\u001b[39;00m\u001b[38;5;124m_fs_redundancy_\u001b[39m\u001b[38;5;132;01m{\u001b[39;00mmetric\u001b[38;5;132;01m}\u001b[39;00m\u001b[38;5;124m_study.png\u001b[39m\u001b[38;5;124m\"\u001b[39m)\n\u001b[1;32m     81\u001b[0m \u001b[38;5;28;01mreturn\u001b[39;00m results\n",
      "File \u001b[0;32m~/Documents/Mercedes-benz.io/TRAINING/post graduation course IST - Data science/projeto curso/ist_dash_2024_rec/notebooks/ecommerce_behaviour/dslabs_functions.py:211\u001b[0m, in \u001b[0;36mplot_multiline_chart\u001b[0;34m(xvalues, yvalues, ax, title, xlabel, ylabel, percentage)\u001b[0m\n\u001b[1;32m    209\u001b[0m     ax\u001b[38;5;241m.\u001b[39mplot(xvalues, y)\n\u001b[1;32m    210\u001b[0m     legend\u001b[38;5;241m.\u001b[39mappend(name)\n\u001b[0;32m--> 211\u001b[0m     \u001b[38;5;28;01mif\u001b[39;00m \u001b[38;5;28many\u001b[39m(v \u001b[38;5;241m<\u001b[39m \u001b[38;5;241m0\u001b[39m \u001b[38;5;28;01mfor\u001b[39;00m v \u001b[38;5;129;01min\u001b[39;00m y) \u001b[38;5;129;01mand\u001b[39;00m percentage:\n\u001b[1;32m    212\u001b[0m         ax\u001b[38;5;241m.\u001b[39mset_ylim(\u001b[38;5;241m-\u001b[39m\u001b[38;5;241m1.0\u001b[39m, \u001b[38;5;241m1.0\u001b[39m)\n\u001b[1;32m    213\u001b[0m ax\u001b[38;5;241m.\u001b[39mlegend(legend, fontsize\u001b[38;5;241m=\u001b[39m\u001b[38;5;124m\"\u001b[39m\u001b[38;5;124mxx-small\u001b[39m\u001b[38;5;124m\"\u001b[39m)\n",
      "File \u001b[0;32m~/Documents/Mercedes-benz.io/TRAINING/post graduation course IST - Data science/projeto curso/ist_dash_2024_rec/notebooks/ecommerce_behaviour/dslabs_functions.py:211\u001b[0m, in \u001b[0;36m<genexpr>\u001b[0;34m(.0)\u001b[0m\n\u001b[1;32m    209\u001b[0m     ax\u001b[38;5;241m.\u001b[39mplot(xvalues, y)\n\u001b[1;32m    210\u001b[0m     legend\u001b[38;5;241m.\u001b[39mappend(name)\n\u001b[0;32m--> 211\u001b[0m     \u001b[38;5;28;01mif\u001b[39;00m \u001b[38;5;28many\u001b[39m(v \u001b[38;5;241m<\u001b[39m \u001b[38;5;241m0\u001b[39m \u001b[38;5;28;01mfor\u001b[39;00m v \u001b[38;5;129;01min\u001b[39;00m y) \u001b[38;5;129;01mand\u001b[39;00m percentage:\n\u001b[1;32m    212\u001b[0m         ax\u001b[38;5;241m.\u001b[39mset_ylim(\u001b[38;5;241m-\u001b[39m\u001b[38;5;241m1.0\u001b[39m, \u001b[38;5;241m1.0\u001b[39m)\n\u001b[1;32m    213\u001b[0m ax\u001b[38;5;241m.\u001b[39mlegend(legend, fontsize\u001b[38;5;241m=\u001b[39m\u001b[38;5;124m\"\u001b[39m\u001b[38;5;124mxx-small\u001b[39m\u001b[38;5;124m\"\u001b[39m)\n",
      "\u001b[0;31mTypeError\u001b[0m: '<' not supported between instances of 'NoneType' and 'int'"
     ]
    },
    {
     "data": {
      "image/png": "[encoded data removed]",
      "text/plain": [
       "<Figure size 800x400 with 1 Axes>"
      ]
     },
     "metadata": {},
     "output_type": "display_data"
    }
   ],
   "source": [
    "if evaluate==True:\n",
    "\n",
    "    # modified study_variance_for_feature_selection() in dslabs functions to keep minimum variables and print metrics (due to error)\n",
    "\n",
    "\n",
    "    eval_metric = \"recall\"\n",
    "    figure(figsize=(2 * HEIGHT, HEIGHT))\n",
    "    study_redundancy_for_feature_selection(\n",
    "        train_sample,\n",
    "        test_sample,\n",
    "        target=target,\n",
    "        min_threshold = 0.001,\n",
    "        lag = 0.2,\n",
    "        metric=eval_metric,\n",
    "        file_tag=file_tag,\n",
    "    )\n",
    "    show()"
   ]
  },
  {
   "cell_type": "code",
   "execution_count": 22,
   "metadata": {},
   "outputs": [
    {
     "name": "stdout",
     "output_type": "stream",
     "text": [
      "Columns in the train dataset: ['event_type', 'category_code_lvl_1', 'category_code_lvl_2', 'category_code_lvl_3', 'price', 'week_of_month', 'is_weekend', 'day', 'time_of_day_sin', 'time_of_day_cos', 'day_of_week_sin', 'day_of_week_cos', 'hour_sin', 'hour_cos', 'min_sin', 'min_cos']\n",
      "Variables considered for correlation: ['event_type', 'category_code_lvl_1', 'category_code_lvl_2', 'category_code_lvl_3', 'price', 'week_of_month', 'is_weekend', 'day', 'time_of_day_sin', 'time_of_day_cos', 'day_of_week_sin', 'day_of_week_cos', 'hour_sin', 'hour_cos', 'min_sin', 'min_cos']\n",
      "Variables to drop at threshold 0.05: ['category_code_lvl_1', 'category_code_lvl_2', 'category_code_lvl_3', 'day', 'day_of_week_cos', 'hour_sin', 'hour_cos', 'event_type', 'price', 'week_of_month', 'is_weekend', 'day_of_week_sin', 'time_of_day_cos']\n",
      "Evaluation results at threshold 0.05: {'accuracy': [0.5045871559633027, 0.5458715596330275], 'recall': [0.41509433962264153, 0.4811320754716981], 'precision': [0.4888888888888889, 0.5368421052631579], 'auc': [0.5021900269541779, 0.5441374663072777], 'f1': [0.4489795918367347, 0.5074626865671642]}\n",
      "Evaluation for accuracy: [0.5045871559633027, 0.5458715596330275]\n",
      "Variables to drop at threshold 0.25: ['category_code_lvl_2', 'category_code_lvl_3', 'category_code_lvl_1', 'day_of_week_sin', 'day_of_week_cos', 'hour_sin', 'hour_cos', 'is_weekend']\n",
      "Evaluation results at threshold 0.25: {'accuracy': [1.0, 0.9678899082568807], 'recall': [1.0, 1.0], 'precision': [1.0, 0.9380530973451328], 'auc': [1.0, 0.96875], 'f1': [1.0, 0.9680365296803652]}\n",
      "Evaluation for accuracy: [1.0, 0.9678899082568807]\n",
      "Variables to drop at threshold 0.45: ['category_code_lvl_2', 'category_code_lvl_3', 'category_code_lvl_1', 'day_of_week_sin', 'day_of_week_cos', 'is_weekend']\n",
      "Evaluation results at threshold 0.45: {'accuracy': [1.0, 0.9678899082568807], 'recall': [1.0, 1.0], 'precision': [1.0, 0.9380530973451328], 'auc': [1.0, 0.96875], 'f1': [1.0, 0.9680365296803652]}\n",
      "Evaluation for accuracy: [1.0, 0.9678899082568807]\n",
      "Variables to drop at threshold 0.65: ['category_code_lvl_2', 'category_code_lvl_3', 'category_code_lvl_1', 'day_of_week_sin', 'day_of_week_cos']\n",
      "Evaluation results at threshold 0.65: {'accuracy': [1.0, 0.9678899082568807], 'recall': [1.0, 1.0], 'precision': [1.0, 0.9380530973451328], 'auc': [1.0, 0.96875], 'f1': [1.0, 0.9680365296803652]}\n",
      "Evaluation for accuracy: [1.0, 0.9678899082568807]\n",
      "Variables to drop at threshold 0.85: ['category_code_lvl_2', 'category_code_lvl_3', 'category_code_lvl_1']\n",
      "Evaluation results at threshold 0.85: {'accuracy': [1.0, 0.9678899082568807], 'recall': [1.0, 1.0], 'precision': [1.0, 0.9380530973451328], 'auc': [1.0, 0.96875], 'f1': [1.0, 0.9680365296803652]}\n",
      "Evaluation for accuracy: [1.0, 0.9678899082568807]\n",
      "Variables to drop at threshold 1.05: []\n",
      "Evaluation results at threshold 1.05: {'accuracy': [1.0, 0.9678899082568807], 'recall': [1.0, 1.0], 'precision': [1.0, 0.9380530973451328], 'auc': [1.0, 0.96875], 'f1': [1.0, 0.9680365296803652]}\n",
      "Evaluation for accuracy: [1.0, 0.9678899082568807]\n"
     ]
    },
    {
     "data": {
      "image/png": "[encoded data removed]",
      "text/plain": [
       "<Figure size 800x400 with 1 Axes>"
      ]
     },
     "metadata": {},
     "output_type": "display_data"
    }
   ],
   "source": [
    "if evaluate==True:\n",
    "\n",
    "    # modified study_variance_for_feature_selection() in dslabs functions to keep minimum variables and print metrics (due to error)\n",
    "\n",
    "\n",
    "    eval_metric = \"accuracy\"\n",
    "    figure(figsize=(2 * HEIGHT, HEIGHT))\n",
    "    study_redundancy_for_feature_selection(\n",
    "        train_sample,\n",
    "        test_sample,\n",
    "        target=target,\n",
    "        min_threshold = 0.05,\n",
    "        lag = 0.2,\n",
    "        metric=eval_metric,\n",
    "        file_tag=file_tag,\n",
    "    )\n",
    "    show()"
   ]
  },
  {
   "cell_type": "markdown",
   "metadata": {},
   "source": [
    "## Feat 2 - Study redundant variables and threshold"
   ]
  },
  {
   "cell_type": "markdown",
   "metadata": {},
   "source": [
    "## Feat 2 strategy aplication"
   ]
  },
  {
   "cell_type": "code",
   "execution_count": 68,
   "metadata": {},
   "outputs": [],
   "source": [
    "from pandas import DataFrame, Series\n",
    "\n",
    "def select_redundant_variables(data: DataFrame, min_threshold: float = 1.5, target: str = \"class\") -> list:\n",
    "    # Verifica se a coluna target existe no DataFrame\n",
    "    if target not in data.columns:\n",
    "        raise KeyError(f\"Target column '{target}' not found in DataFrame.\")\n",
    "    \n",
    "    # Remover espaços em branco dos nomes das colunas\n",
    "    data.columns = data.columns.str.strip()\n",
    "\n",
    "    # Copiar o DataFrame e remover a coluna target\n",
    "    df: DataFrame = data.drop(target, axis=1, inplace=False)\n",
    "\n",
    "    # Calcular a matriz de correlação absoluta\n",
    "    corr_matrix: DataFrame = abs(df.corr())\n",
    "    \n",
    "    # Lista de variáveis a remover\n",
    "    vars2drop: list = []\n",
    "\n",
    "    # Obter as colunas do DataFrame\n",
    "    variables: Index[str] = corr_matrix.columns\n",
    "\n",
    "    # Iterar sobre as variáveis\n",
    "    for v1 in variables:\n",
    "        vars_corr: Series = corr_matrix[v1].loc[corr_matrix[v1] >= min_threshold]\n",
    "\n",
    "        # Remover a autocorrelação (com a própria variável)\n",
    "        vars_corr = vars_corr.drop(v1, errors='ignore')\n",
    "\n",
    "        # Verificar se há mais de uma correlação forte\n",
    "        if len(vars_corr) > 1:\n",
    "            lst_corr = list(vars_corr.index)\n",
    "\n",
    "            # Adicionar variáveis correlacionadas à lista de remoção, se ainda não estiverem\n",
    "            for v2 in lst_corr:\n",
    "                if v2 not in vars2drop:\n",
    "                    vars2drop.append(v2)\n",
    "\n",
    "    return vars2drop\n"
   ]
  },
  {
   "cell_type": "code",
   "execution_count": 69,
   "metadata": {},
   "outputs": [
    {
     "name": "stdout",
     "output_type": "stream",
     "text": [
      "columns to drop: ['category_code_lvl_2', 'category_code_lvl_3', 'category_code_lvl_1']\n",
      "Remaining columns: Index(['event_type', 'price', 'week_of_month', 'is_weekend', 'day',\n",
      "       'time_of_day_sin', 'time_of_day_cos', 'day_of_week_sin',\n",
      "       'day_of_week_cos', 'hour_sin', 'hour_cos', 'min_sin', 'min_cos',\n",
      "       'conversion'],\n",
      "      dtype='object')\n"
     ]
    }
   ],
   "source": [
    "def apply_strategy_2(df):\n",
    "    df_copy = df.copy()\n",
    "\n",
    "    # Garantir que a coluna 'is_purchase' não será removida\n",
    "    vars2drop = select_redundant_variables(df_copy, min_threshold=0.9, target=target)\n",
    "    print(\"columns to drop:\", vars2drop)\n",
    "\n",
    "    # Remover variáveis redundantes, mas garantir que 'is_purchase' não é removida\n",
    "    df_vars_drop = df_copy.drop(columns=[col for col in vars2drop if col != 'is_purchase'], errors='ignore')\n",
    "    \n",
    "    print(\"Remaining columns:\", df_vars_drop.columns)\n",
    "\n",
    "    return df_vars_drop\n",
    "\n",
    "df_2=df.copy()\n",
    "\n",
    "df_2=apply_strategy_2(df_2)"
   ]
  },
  {
   "cell_type": "code",
   "execution_count": 53,
   "metadata": {},
   "outputs": [
    {
     "name": "stdout",
     "output_type": "stream",
     "text": [
      "Index(['event_type', 'price', 'week_of_month', 'is_weekend', 'day',\n",
      "       'time_of_day_sin', 'time_of_day_cos', 'day_of_week_sin',\n",
      "       'day_of_week_cos', 'hour_sin', 'hour_cos', 'min_sin', 'min_cos',\n",
      "       'conversion'],\n",
      "      dtype='object')\n"
     ]
    }
   ],
   "source": [
    "print(df_2.columns)\n"
   ]
  },
  {
   "cell_type": "markdown",
   "metadata": {},
   "source": [
    "## Feat 2 train/test split "
   ]
  },
  {
   "cell_type": "code",
   "execution_count": 70,
   "metadata": {},
   "outputs": [
    {
     "name": "stdout",
     "output_type": "stream",
     "text": [
      "Labels=[0, 1]\n"
     ]
    },
    {
     "data": {
      "image/png": "[encoded data removed]",
      "text/plain": [
       "<Figure size 600x400 with 1 Axes>"
      ]
     },
     "metadata": {},
     "output_type": "display_data"
    }
   ],
   "source": [
    "if evaluate==True:\n",
    "\n",
    "    from pandas import concat\n",
    "    from matplotlib.pyplot import figure, show\n",
    "    from sklearn.model_selection import train_test_split\n",
    "    from dslabs_functions import plot_multibar_chart\n",
    "\n",
    "\n",
    "    # Call the function to split the data\n",
    "    from numpy import array, ndarray\n",
    "\n",
    "\n",
    "    y_2, X_2, labels, values = define_target_and_prepare_data(df_2, target)\n",
    "\n",
    "\n",
    "\n",
    "    train_2, test_2 = split_data_save_csv(pd.DataFrame(X_2, columns=df_2.columns), y_2, data_columns=df_2.columns, target_column=target)\n",
    "\n",
    "    # Distribution check\n",
    "    values[\"Train\"] = [\n",
    "        len(train_2[train_2[target] == 0]),\n",
    "        len(train_2[train_2[target] == 1]),\n",
    "    ]\n",
    "    values[\"Test\"] = [\n",
    "        len(test_2[test_2[target] == 0]),\n",
    "        len(test_2[test_2[target] == 1]),\n",
    "    ]\n",
    "\n",
    "    # Visualize the distribution\n",
    "    figure(figsize=(6, 4))\n",
    "    plot_multibar_chart(labels, values, title=\"Data distribution per dataset\")\n",
    "    show()"
   ]
  },
  {
   "cell_type": "markdown",
   "metadata": {},
   "source": [
    "## Feat 2 evaluate"
   ]
  },
  {
   "cell_type": "code",
   "execution_count": 71,
   "metadata": {},
   "outputs": [
    {
     "data": {
      "image/png": "[encoded data removed]",
      "text/plain": [
       "<Figure size 640x480 with 1 Axes>"
      ]
     },
     "metadata": {},
     "output_type": "display_data"
    }
   ],
   "source": [
    "if evaluate == True:\n",
    "    figure()\n",
    "    eval_2: dict[str, list] = evaluate_approach(train_2, test_2, target='conversion', metric=\"recall\")\n",
    "    plot_multibar_chart(\n",
    "        [\"NB\", \"KNN\"], eval_2, title=f\"{file_tag}_approach_2_evaluation\", percentage=True\n",
    "    )\n",
    "    savefig(f\"images/{file_tag}_approach_2_evaluation.png\")\n",
    "    show()"
   ]
  },
  {
   "cell_type": "markdown",
   "metadata": {},
   "source": [
    "# Approach uplift comparison"
   ]
  },
  {
   "cell_type": "markdown",
   "metadata": {},
   "source": [
    "## uplift df"
   ]
  },
  {
   "cell_type": "code",
   "execution_count": 72,
   "metadata": {},
   "outputs": [
    {
     "data": {
      "text/html": [
       "<div>\n",
       "<style scoped>\n",
       "    .dataframe tbody tr th:only-of-type {\n",
       "        vertical-align: middle;\n",
       "    }\n",
       "\n",
       "    .dataframe tbody tr th {\n",
       "        vertical-align: top;\n",
       "    }\n",
       "\n",
       "    .dataframe thead tr th {\n",
       "        text-align: left;\n",
       "    }\n",
       "</style>\n",
       "<table border=\"1\" class=\"dataframe\">\n",
       "  <thead>\n",
       "    <tr>\n",
       "      <th></th>\n",
       "      <th colspan=\"5\" halign=\"left\">Approach 1</th>\n",
       "      <th colspan=\"5\" halign=\"left\">Approach 2</th>\n",
       "      <th colspan=\"5\" halign=\"left\">Uplift</th>\n",
       "    </tr>\n",
       "    <tr>\n",
       "      <th></th>\n",
       "      <th>accuracy</th>\n",
       "      <th>recall</th>\n",
       "      <th>precision</th>\n",
       "      <th>auc</th>\n",
       "      <th>f1</th>\n",
       "      <th>accuracy</th>\n",
       "      <th>recall</th>\n",
       "      <th>precision</th>\n",
       "      <th>auc</th>\n",
       "      <th>f1</th>\n",
       "      <th>accuracy</th>\n",
       "      <th>recall</th>\n",
       "      <th>precision</th>\n",
       "      <th>auc</th>\n",
       "      <th>f1</th>\n",
       "    </tr>\n",
       "  </thead>\n",
       "  <tbody>\n",
       "    <tr>\n",
       "      <th>Naive Bayes</th>\n",
       "      <td>1.000000</td>\n",
       "      <td>1.0</td>\n",
       "      <td>1.000000</td>\n",
       "      <td>1.000000</td>\n",
       "      <td>1.000000</td>\n",
       "      <td>1.000000</td>\n",
       "      <td>1.0</td>\n",
       "      <td>1.000000</td>\n",
       "      <td>1.000000</td>\n",
       "      <td>1.000000</td>\n",
       "      <td>0.0</td>\n",
       "      <td>0.0</td>\n",
       "      <td>0.0</td>\n",
       "      <td>0.0</td>\n",
       "      <td>0.0</td>\n",
       "    </tr>\n",
       "    <tr>\n",
       "      <th>KNN</th>\n",
       "      <td>0.974506</td>\n",
       "      <td>1.0</td>\n",
       "      <td>0.952746</td>\n",
       "      <td>0.973771</td>\n",
       "      <td>0.975801</td>\n",
       "      <td>0.974506</td>\n",
       "      <td>1.0</td>\n",
       "      <td>0.952746</td>\n",
       "      <td>0.973771</td>\n",
       "      <td>0.975801</td>\n",
       "      <td>0.0</td>\n",
       "      <td>0.0</td>\n",
       "      <td>0.0</td>\n",
       "      <td>0.0</td>\n",
       "      <td>0.0</td>\n",
       "    </tr>\n",
       "  </tbody>\n",
       "</table>\n",
       "</div>"
      ],
      "text/plain": [
       "            Approach 1                                      Approach 2         \\\n",
       "              accuracy recall precision       auc        f1   accuracy recall   \n",
       "Naive Bayes   1.000000    1.0  1.000000  1.000000  1.000000   1.000000    1.0   \n",
       "KNN           0.974506    1.0  0.952746  0.973771  0.975801   0.974506    1.0   \n",
       "\n",
       "                                            Uplift                             \n",
       "            precision       auc        f1 accuracy recall precision  auc   f1  \n",
       "Naive Bayes  1.000000  1.000000  1.000000      0.0    0.0       0.0  0.0  0.0  \n",
       "KNN          0.952746  0.973771  0.975801      0.0    0.0       0.0  0.0  0.0  "
      ]
     },
     "metadata": {},
     "output_type": "display_data"
    }
   ],
   "source": [
    "if evaluate == True:\n",
    "    \n",
    "    algorithms = ['Naive Bayes', 'KNN']\n",
    "\n",
    "    # Create DataFrames for eval_1 and eval_2\n",
    "    df_eval_1 = pd.DataFrame(eval_1, index=algorithms)\n",
    "    df_eval_2 = pd.DataFrame(eval_2, index=algorithms)\n",
    "\n",
    "    # Calculate uplift\n",
    "    df_uplift = df_eval_2 - df_eval_1\n",
    "\n",
    "\n",
    "\n",
    "    # Combine everything into one DataFrame (without misalignment issues)\n",
    "    comparison_df = pd.concat([df_eval_1, df_eval_2, df_uplift], axis=1)\n",
    "    comparison_df.columns = pd.MultiIndex.from_product([['Approach 1', 'Approach 2', 'Uplift'], eval_1.keys()])\n",
    "\n",
    "\n",
    "\n",
    "    # Display the DataFrame\n",
    "    display(comparison_df)"
   ]
  },
  {
   "cell_type": "markdown",
   "metadata": {},
   "source": [
    "# Analysis\n",
    "\n",
    "- NB (better on approach 2): \n",
    "    - Scale1 accuracy 0.33, recall 0.87, auc 0.51\n",
    "    - scale2 accuracy 0.43 recall 0.82, auc 0.56\n",
    "- KNN: no significant uplifts between approaches\n",
    "- overall scale 2 vs outliers treatment\n",
    "    - very significant improved recall\n",
    "    - significant accuracy loss\n"
   ]
  },
  {
   "cell_type": "markdown",
   "metadata": {},
   "source": [
    "# save to csv"
   ]
  },
  {
   "cell_type": "code",
   "execution_count": 74,
   "metadata": {},
   "outputs": [
    {
     "name": "stdout",
     "output_type": "stream",
     "text": [
      "Variance threshold: 0.03, Remaining features: 16\n",
      "Variables to drop: ['time_of_day_sin']\n",
      "columns to drop: ['time_of_day_sin']\n",
      "Remaining columns: Index(['event_type', 'category_code_lvl_1', 'category_code_lvl_2',\n",
      "       'category_code_lvl_3', 'price', 'week_of_month', 'is_weekend', 'day',\n",
      "       'time_of_day_cos', 'day_of_week_sin', 'day_of_week_cos', 'hour_sin',\n",
      "       'hour_cos', 'min_sin', 'min_cos', 'conversion'],\n",
      "      dtype='object')\n",
      "Index(['event_type', 'category_code_lvl_1', 'category_code_lvl_2',\n",
      "       'category_code_lvl_3', 'price', 'week_of_month', 'is_weekend', 'day',\n",
      "       'time_of_day_cos', 'day_of_week_sin', 'day_of_week_cos', 'hour_sin',\n",
      "       'hour_cos', 'min_sin', 'min_cos', 'conversion'],\n",
      "      dtype='object')\n"
     ]
    }
   ],
   "source": [
    "if test_data==False:\n",
    "    \n",
    "    \n",
    "    data_save=df.copy()\n",
    "\n",
    "    data_save=apply_strategy_1(data_save)\n",
    "        \n",
    "    data_save.to_csv(f\"dataset/df_ecom_2_5_feat_eng_input_v2.csv\", index=False)\n",
    "\n",
    "\n",
    "    print(data_save.columns)\n",
    "\n"
   ]
  },
  {
   "cell_type": "markdown",
   "metadata": {},
   "source": [
    "## train test csv"
   ]
  },
  {
   "cell_type": "code",
   "execution_count": 75,
   "metadata": {},
   "outputs": [
    {
     "name": "stdout",
     "output_type": "stream",
     "text": [
      "Labels=[0, 1]\n",
      "Index(['event_type', 'category_code_lvl_1', 'category_code_lvl_2',\n",
      "       'category_code_lvl_3', 'price', 'week_of_month', 'is_weekend', 'day',\n",
      "       'time_of_day_cos', 'day_of_week_sin', 'day_of_week_cos', 'hour_sin',\n",
      "       'hour_cos', 'min_sin', 'min_cos', 'conversion'],\n",
      "      dtype='object')\n",
      "Index(['event_type', 'category_code_lvl_1', 'category_code_lvl_2',\n",
      "       'category_code_lvl_3', 'price', 'week_of_month', 'is_weekend', 'day',\n",
      "       'time_of_day_cos', 'day_of_week_sin', 'day_of_week_cos', 'hour_sin',\n",
      "       'hour_cos', 'min_sin', 'min_cos', 'conversion'],\n",
      "      dtype='object')\n"
     ]
    }
   ],
   "source": [
    "if test_data==False:\n",
    "    \n",
    "\n",
    "    data_save_copy=data_save.copy()\n",
    "\n",
    "    \n",
    "    y, X, labels, class_counts = define_target_and_prepare_data(data_save_copy, target=target)\n",
    "\n",
    "    train, test = split_data_save_csv(pd.DataFrame(X, columns=data_save_copy.columns), y, data_columns=data_save_copy.columns, target_column=target)  \n",
    "    \n",
    "    train.to_csv(f\"dataset/df_ecom_2_5_feat_eng_input_v2_train.csv\", index=False)\n",
    "    print(train.columns)\n",
    "    \n",
    "    test.to_csv(f\"dataset/df_ecom_2_5_feat_eng_input_v2_test.csv\", index=False)\n",
    "    print(test.columns)"
   ]
  }
 ],
 "metadata": {
  "kernelspec": {
   "display_name": "base",
   "language": "python",
   "name": "python3"
  },
  "language_info": {
   "codemirror_mode": {
    "name": "ipython",
    "version": 3
   },
   "file_extension": ".py",
   "mimetype": "text/x-python",
   "name": "python",
   "nbconvert_exporter": "python",
   "pygments_lexer": "ipython3",
   "version": "3.12.2"
  }
 },
 "nbformat": 4,
 "nbformat_minor": 2
}
