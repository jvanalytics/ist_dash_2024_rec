{
 "cells": [
  {
   "cell_type": "code",
   "execution_count": null,
   "metadata": {},
   "outputs": [],
   "source": []
  },
  {
   "cell_type": "markdown",
   "metadata": {},
   "source": [
    "# File and libraries"
   ]
  },
  {
   "cell_type": "code",
   "execution_count": 8,
   "metadata": {},
   "outputs": [],
   "source": [
    "import pandas as pd\n",
    "import numpy as np\n",
    "\n",
    "\n",
    "#filepath=r'dataset/df_ecom_2_2_mv_input'\n",
    "filepath=r'dataset/df_ecom_2_3_outliers_input'\n",
    "\n",
    "file_tag = \"df_ecom_feat_eng_input\""
   ]
  },
  {
   "cell_type": "markdown",
   "metadata": {},
   "source": [
    "# DSLabs functions"
   ]
  },
  {
   "cell_type": "code",
   "execution_count": 5,
   "metadata": {},
   "outputs": [
    {
     "name": "stdout",
     "output_type": "stream",
     "text": [
      "dslabs_functions lodaded\n"
     ]
    }
   ],
   "source": [
    "%run \"dslabs_functions.py\"\n"
   ]
  },
  {
   "cell_type": "markdown",
   "metadata": {},
   "source": [
    "# Data functions"
   ]
  },
  {
   "cell_type": "code",
   "execution_count": 6,
   "metadata": {},
   "outputs": [
    {
     "name": "stdout",
     "output_type": "stream",
     "text": [
      "data_functions loaded\n"
     ]
    }
   ],
   "source": [
    "%run \"data_functions.py\"\n"
   ]
  },
  {
   "cell_type": "markdown",
   "metadata": {},
   "source": [
    "# Load"
   ]
  },
  {
   "cell_type": "code",
   "execution_count": 10,
   "metadata": {},
   "outputs": [
    {
     "name": "stdout",
     "output_type": "stream",
     "text": [
      "<class 'pandas.core.frame.DataFrame'>\n",
      "Index: 188630 entries, 0 to 188629\n",
      "Data columns (total 18 columns):\n",
      " #   Column               Non-Null Count   Dtype  \n",
      "---  ------               --------------   -----  \n",
      " 0   category_code_lvl_1  188630 non-null  float64\n",
      " 1   category_code_lvl_2  188630 non-null  float64\n",
      " 2   price                188630 non-null  float64\n",
      " 3   is_purchase          188630 non-null  int64  \n",
      " 4   activity_in_session  188630 non-null  float64\n",
      " 5   week_of_month        188630 non-null  int64  \n",
      " 6   is_weekend           188630 non-null  int64  \n",
      " 7   day                  188630 non-null  int64  \n",
      " 8   brand_value          188630 non-null  float64\n",
      " 9   product_category     188630 non-null  int64  \n",
      " 10  time_of_day_sin      188630 non-null  float64\n",
      " 11  time_of_day_cos      188630 non-null  float64\n",
      " 12  day_of_week_sin      188630 non-null  float64\n",
      " 13  day_of_week_cos      188630 non-null  float64\n",
      " 14  hour_sin             188630 non-null  float64\n",
      " 15  hour_cos             188630 non-null  float64\n",
      " 16  min_sin              188630 non-null  float64\n",
      " 17  min_cos              188630 non-null  float64\n",
      "dtypes: float64(13), int64(5)\n",
      "memory usage: 27.3 MB\n"
     ]
    }
   ],
   "source": [
    "# test_data=True\n",
    "test_data=False\n",
    "\n",
    "# use to evaluate strategies. otherwise False to just transform data \n",
    "evaluate=True\n",
    "# evaluate=False\n",
    "\n",
    "\n",
    "if test_data==True:\n",
    "\n",
    "    df=pd.read_csv(f\"{filepath}.csv\")\n",
    "    \n",
    "    test= pd.read_csv(f\"{filepath}_test.csv\")\n",
    "    train= pd.read_csv(f\"{filepath}_train.csv\")\n",
    "\n",
    "    sample=0.005\n",
    "    df = df.groupby('day_of_year').apply(lambda x: sample_per_day(x, sample)).reset_index(drop=True)\n",
    "    test = test.groupby('day_of_year').apply(lambda x: sample_per_day(x, sample)).reset_index(drop=True)\n",
    "    train = train.groupby('day_of_year').apply(lambda x: sample_per_day(x, sample)).reset_index(drop=True)\n",
    "    \n",
    "    # create sample df version of test/train for variance studies\n",
    "    test_sample= test\n",
    "    train_sample= train\n",
    "    \n",
    "else:\n",
    "    df=pd.read_csv(f\"{filepath}.csv\")\n",
    "\n",
    "    \n",
    "    test= pd.read_csv(f\"{filepath}_test.csv\")\n",
    "    train= pd.read_csv(f\"{filepath}_train.csv\")\n",
    "\n",
    "    # create sample for variance studies\n",
    "    sample=0.2\n",
    "    test_sample = test.groupby('day').apply(lambda x: sample_per_day(x, sample)).reset_index(drop=True)\n",
    "    train_sample = train.groupby('day').apply(lambda x: sample_per_day(x, sample)).reset_index(drop=True)\n",
    "\n",
    "\n",
    " \n",
    "target='is_purchase'\n",
    "eval_metric_1='precision'\n",
    "eval_metric_2='f2'\n",
    "vars: list[str] = df.columns.to_list()\n",
    "\n",
    "\n",
    "# ensure sorting by day_of_year for correct splitting \n",
    "# \"When in the presence of temporal data, data partition shall use older data to train and newer to test, in order to not use future data to classify past data. In any other case, partition shall be random.\"\n",
    "df.sort_values(by='day', inplace=True)\n",
    "test.sort_values(by='day', inplace=True)\n",
    "train.sort_values(by='day', inplace=True)\n",
    "\n",
    "\n",
    "\n",
    "df.info()"
   ]
  },
  {
   "cell_type": "code",
   "execution_count": 11,
   "metadata": {},
   "outputs": [
    {
     "name": "stdout",
     "output_type": "stream",
     "text": [
      "Train shape: (132041, 18)\n",
      "Test shape: (56589, 18)\n"
     ]
    }
   ],
   "source": [
    "print(f\"Train shape: {train.shape}\")\n",
    "print(f\"Test shape: {test.shape}\")"
   ]
  },
  {
   "cell_type": "code",
   "execution_count": 12,
   "metadata": {},
   "outputs": [
    {
     "name": "stdout",
     "output_type": "stream",
     "text": [
      "<class 'pandas.core.frame.DataFrame'>\n",
      "Index: 132041 entries, 0 to 132040\n",
      "Data columns (total 18 columns):\n",
      " #   Column               Non-Null Count   Dtype  \n",
      "---  ------               --------------   -----  \n",
      " 0   category_code_lvl_1  132041 non-null  float64\n",
      " 1   category_code_lvl_2  132041 non-null  float64\n",
      " 2   price                132041 non-null  float64\n",
      " 3   activity_in_session  132041 non-null  float64\n",
      " 4   week_of_month        132041 non-null  float64\n",
      " 5   is_weekend           132041 non-null  float64\n",
      " 6   day                  132041 non-null  float64\n",
      " 7   brand_value          132041 non-null  float64\n",
      " 8   product_category     132041 non-null  float64\n",
      " 9   time_of_day_sin      132041 non-null  float64\n",
      " 10  time_of_day_cos      132041 non-null  float64\n",
      " 11  day_of_week_sin      132041 non-null  float64\n",
      " 12  day_of_week_cos      132041 non-null  float64\n",
      " 13  hour_sin             132041 non-null  float64\n",
      " 14  hour_cos             132041 non-null  float64\n",
      " 15  min_sin              132041 non-null  float64\n",
      " 16  min_cos              132041 non-null  float64\n",
      " 17  is_purchase          132041 non-null  int64  \n",
      "dtypes: float64(17), int64(1)\n",
      "memory usage: 19.1 MB\n"
     ]
    }
   ],
   "source": [
    "train.info()"
   ]
  },
  {
   "cell_type": "markdown",
   "metadata": {},
   "source": [
    "# Feat 1 - Dropping Low Variance Variables"
   ]
  },
  {
   "cell_type": "markdown",
   "metadata": {},
   "source": [
    "## Feat 1 - Study Low Variance Variables and Threshold\n",
    "\n",
    "using sampled dataframe due to heavy processing"
   ]
  },
  {
   "cell_type": "code",
   "execution_count": 33,
   "metadata": {},
   "outputs": [],
   "source": [
    "max_thresh=0.5\n",
    "lag_variance=0.05"
   ]
  },
  {
   "cell_type": "markdown",
   "metadata": {},
   "source": [
    "### eval_metric_1 - precision"
   ]
  },
  {
   "cell_type": "code",
   "execution_count": 34,
   "metadata": {},
   "outputs": [
    {
     "name": "stdout",
     "output_type": "stream",
     "text": [
      "Testing threshold: 0.05\n",
      "Dropping variables: []\n",
      "Remaining features after drop: 18\n",
      "Evaluation results at threshold 0.05: {'accuracy': [0.5162145444905893, 0.7725545639303703], 'recall': [0.4637397099176793, 0.009408075264602116], 'precision': [0.22362948960302456, 0.3380281690140845], 'auc': [0.4976124969848492, 0.5020232254032343], 'f1': [0.3017472261191175, 0.018306636155606407], 'f2': [0.38176068155415, 0.01167883211678832]}\n",
      "Evaluation for precision: [0.22362948960302456, 0.3380281690140845]\n",
      "Testing threshold: 0.1\n",
      "Dropping variables: []\n",
      "Remaining features after drop: 18\n",
      "Evaluation results at threshold 0.1: {'accuracy': [0.5162145444905893, 0.7725545639303703], 'recall': [0.4637397099176793, 0.009408075264602116], 'precision': [0.22362948960302456, 0.3380281690140845], 'auc': [0.4976124969848492, 0.5020232254032343], 'f1': [0.3017472261191175, 0.018306636155606407], 'f2': [0.38176068155415, 0.01167883211678832]}\n",
      "Evaluation for precision: [0.22362948960302456, 0.3380281690140845]\n",
      "Testing threshold: 0.15\n",
      "Dropping variables: []\n",
      "Remaining features after drop: 18\n",
      "Evaluation results at threshold 0.15: {'accuracy': [0.5162145444905893, 0.7725545639303703], 'recall': [0.4637397099176793, 0.009408075264602116], 'precision': [0.22362948960302456, 0.3380281690140845], 'auc': [0.4976124969848492, 0.5020232254032343], 'f1': [0.3017472261191175, 0.018306636155606407], 'f2': [0.38176068155415, 0.01167883211678832]}\n",
      "Evaluation for precision: [0.22362948960302456, 0.3380281690140845]\n",
      "Testing threshold: 0.2\n",
      "Dropping variables: []\n",
      "Remaining features after drop: 18\n",
      "Evaluation results at threshold 0.2: {'accuracy': [0.5162145444905893, 0.7725545639303703], 'recall': [0.4637397099176793, 0.009408075264602116], 'precision': [0.22362948960302456, 0.3380281690140845], 'auc': [0.4976124969848492, 0.5020232254032343], 'f1': [0.3017472261191175, 0.018306636155606407], 'f2': [0.38176068155415, 0.01167883211678832]}\n",
      "Evaluation for precision: [0.22362948960302456, 0.3380281690140845]\n",
      "Testing threshold: 0.25\n",
      "Dropping variables: ['week_of_month']\n",
      "Remaining features after drop: 17\n",
      "Evaluation results at threshold 0.25: {'accuracy': [0.5060528408588849, 0.7725545639303703], 'recall': [0.4923559388475108, 0.009408075264602116], 'precision': [0.22626553774094757, 0.3380281690140845], 'auc': [0.5011973625334976, 0.5020232254032343], 'f1': [0.3100469019995063, 0.018306636155606407], 'f2': [0.39860361789907967, 0.01167883211678832]}\n",
      "Evaluation for precision: [0.22626553774094757, 0.3380281690140845]\n",
      "Testing threshold: 0.3\n",
      "Dropping variables: ['week_of_month', 'is_weekend']\n",
      "Remaining features after drop: 16\n",
      "Evaluation results at threshold 0.3: {'accuracy': [0.49067774145091453, 0.7725545639303703], 'recall': [0.5229321834574676, 0.009408075264602116], 'precision': [0.22683217139942186, 0.3380281690140845], 'auc': [0.5021117682060325, 0.5020232254032343], 'f1': [0.3164136622390892, 0.018306636155606407], 'f2': [0.41467205470935653, 0.01167883211678832]}\n",
      "Evaluation for precision: [0.22683217139942186, 0.3380281690140845]\n",
      "Testing threshold: 0.35\n",
      "Dropping variables: ['week_of_month', 'is_weekend', 'day_of_week_sin', 'hour_cos']\n",
      "Remaining features after drop: 14\n",
      "Evaluation results at threshold 0.35: {'accuracy': [0.4981002032340726, 0.7455155960060087], 'recall': [0.4950999607996864, 0.10780086240689926], 'precision': [0.223342175066313, 0.31285551763367464], 'auc': [0.49703663337725595, 0.5194491421320374], 'f1': [0.3078235437484767, 0.16034985422740525], 'f2': [0.3981966076045148, 0.12406388162049986]}\n",
      "Evaluation for precision: [0.223342175066313, 0.31285551763367464]\n",
      "Testing threshold: 0.4\n",
      "Dropping variables: ['week_of_month', 'is_weekend', 'day_of_week_sin', 'hour_cos']\n",
      "Remaining features after drop: 14\n",
      "Evaluation results at threshold 0.4: {'accuracy': [0.4981002032340726, 0.7455155960060087], 'recall': [0.4950999607996864, 0.10780086240689926], 'precision': [0.223342175066313, 0.31285551763367464], 'auc': [0.49703663337725595, 0.5194491421320374], 'f1': [0.3078235437484767, 0.16034985422740525], 'f2': [0.3981966076045148, 0.12406388162049986]}\n",
      "Evaluation for precision: [0.223342175066313, 0.31285551763367464]\n",
      "Testing threshold: 0.45\n",
      "Dropping variables: ['week_of_month', 'is_weekend', 'time_of_day_cos', 'day_of_week_sin', 'hour_cos']\n",
      "Remaining features after drop: 13\n",
      "Evaluation results at threshold 0.45: {'accuracy': [0.4962445877882831, 0.7448970575240789], 'recall': [0.4954919639357115, 0.10780086240689926], 'precision': [0.2226135963367383, 0.31038374717832956], 'auc': [0.495977786667833, 0.5190498722255806], 'f1': [0.30720622189816504, 0.16002327611288913], 'f2': [0.3979347689207908, 0.12398557258791704]}\n",
      "Evaluation for precision: [0.2226135963367383, 0.31038374717832956]\n",
      "Testing threshold: 0.5\n",
      "Dropping variables: ['week_of_month', 'is_weekend', 'time_of_day_cos', 'day_of_week_sin', 'day_of_week_cos', 'hour_cos', 'min_cos']\n",
      "Remaining features after drop: 11\n",
      "Evaluation results at threshold 0.5: {'accuracy': [0.4931518953786339, 0.7662808164707962], 'recall': [0.5096040768326147, 0.032536260290082324], 'precision': [0.2247191011235955, 0.3192307692307692], 'auc': [0.49898410549365163, 0.5061723053674916], 'f1': [0.31190019193857965, 0.059053717538242616], 'f2': [0.4065294890237038, 0.039659785932721715]}\n",
      "Evaluation for precision: [0.2247191011235955, 0.3192307692307692]\n"
     ]
    },
    {
     "data": {
      "image/png": "[encoded data removed]",
      "text/plain": [
       "<Figure size 800x400 with 1 Axes>"
      ]
     },
     "metadata": {},
     "output_type": "display_data"
    }
   ],
   "source": [
    "# modified study_variance_for_feature_selection() in dslabs functions to keep minimum variables and print metrics (due to error)\n",
    "if evaluate==True:\n",
    "\n",
    "    eval_metric = eval_metric_1\n",
    "    figure(figsize=(2 * HEIGHT, HEIGHT))\n",
    "    study_variance_for_feature_selection(\n",
    "        train_sample,\n",
    "        test_sample,\n",
    "        target=target,\n",
    "        max_threshold=max_thresh,\n",
    "        lag=lag_variance,\n",
    "        metric=eval_metric,\n",
    "        file_tag=file_tag,\n",
    "        min_features_to_keep = 10  # Minimum features safeguard\n",
    "\n",
    "    )\n",
    "    show()"
   ]
  },
  {
   "cell_type": "markdown",
   "metadata": {},
   "source": [
    "### eval_metric_2 - f2"
   ]
  },
  {
   "cell_type": "code",
   "execution_count": 35,
   "metadata": {},
   "outputs": [
    {
     "name": "stdout",
     "output_type": "stream",
     "text": [
      "Testing threshold: 0.05\n",
      "Dropping variables: []\n",
      "Remaining features after drop: 18\n",
      "Evaluation results at threshold 0.05: {'accuracy': [0.5162145444905893, 0.6806574180436511], 'recall': [0.4637397099176793, 0.24656997255978047], 'precision': [0.22362948960302456, 0.27100387763894873], 'auc': [0.4976124969848492, 0.5267757460334836], 'f1': [0.3017472261191175, 0.2582101806239737], 'f2': [0.38176068155415, 0.25109780439121754]}\n",
      "Evaluation for f2: [0.38176068155415, 0.25109780439121754]\n",
      "Testing threshold: 0.1\n",
      "Dropping variables: []\n",
      "Remaining features after drop: 18\n",
      "Evaluation results at threshold 0.1: {'accuracy': [0.5162145444905893, 0.6806574180436511], 'recall': [0.4637397099176793, 0.24656997255978047], 'precision': [0.22362948960302456, 0.27100387763894873], 'auc': [0.4976124969848492, 0.5267757460334836], 'f1': [0.3017472261191175, 0.2582101806239737], 'f2': [0.38176068155415, 0.25109780439121754]}\n",
      "Evaluation for f2: [0.38176068155415, 0.25109780439121754]\n",
      "Testing threshold: 0.15\n",
      "Dropping variables: []\n",
      "Remaining features after drop: 18\n",
      "Evaluation results at threshold 0.15: {'accuracy': [0.5162145444905893, 0.6806574180436511], 'recall': [0.4637397099176793, 0.24656997255978047], 'precision': [0.22362948960302456, 0.27100387763894873], 'auc': [0.4976124969848492, 0.5267757460334836], 'f1': [0.3017472261191175, 0.2582101806239737], 'f2': [0.38176068155415, 0.25109780439121754]}\n",
      "Evaluation for f2: [0.38176068155415, 0.25109780439121754]\n",
      "Testing threshold: 0.2\n",
      "Dropping variables: []\n",
      "Remaining features after drop: 18\n",
      "Evaluation results at threshold 0.2: {'accuracy': [0.5162145444905893, 0.6806574180436511], 'recall': [0.4637397099176793, 0.24656997255978047], 'precision': [0.22362948960302456, 0.27100387763894873], 'auc': [0.4976124969848492, 0.5267757460334836], 'f1': [0.3017472261191175, 0.2582101806239737], 'f2': [0.38176068155415, 0.25109780439121754]}\n",
      "Evaluation for f2: [0.38176068155415, 0.25109780439121754]\n",
      "Testing threshold: 0.25\n",
      "Dropping variables: ['week_of_month']\n",
      "Remaining features after drop: 17\n",
      "Evaluation results at threshold 0.25: {'accuracy': [0.5060528408588849, 0.6806574180436511], 'recall': [0.4923559388475108, 0.24656997255978047], 'precision': [0.22626553774094757, 0.27100387763894873], 'auc': [0.5011973625334976, 0.5267757460334836], 'f1': [0.3100469019995063, 0.2582101806239737], 'f2': [0.39860361789907967, 0.25109780439121754]}\n",
      "Evaluation for f2: [0.39860361789907967, 0.25109780439121754]\n",
      "Testing threshold: 0.3\n",
      "Dropping variables: ['week_of_month', 'is_weekend']\n",
      "Remaining features after drop: 16\n",
      "Evaluation results at threshold 0.3: {'accuracy': [0.49067774145091453, 0.680127242201997], 'recall': [0.5229321834574676, 0.24656997255978047], 'precision': [0.22683217139942186, 0.27030511388053285], 'auc': [0.5021117682060325, 0.5264335146850921], 'f1': [0.3164136622390892, 0.25789257892578926], 'f2': [0.41467205470935653, 0.2509775756124811]}\n",
      "Evaluation for f2: [0.41467205470935653, 0.2509775756124811]\n",
      "Testing threshold: 0.35\n",
      "Dropping variables: ['week_of_month', 'is_weekend', 'day_of_week_sin', 'hour_cos']\n",
      "Remaining features after drop: 14\n",
      "Evaluation results at threshold 0.35: {'accuracy': [0.4981002032340726, 0.6820712202880622], 'recall': [0.4950999607996864, 0.2461779694237554], 'precision': [0.223342175066313, 0.27268779852366476], 'auc': [0.49703663337725595, 0.5275493999525804], 'f1': [0.3078235437484767, 0.2587556654305727], 'f2': [0.3981966076045148, 0.25105940673222993]}\n",
      "Evaluation for f2: [0.3981966076045148, 0.25105940673222993]\n",
      "Testing threshold: 0.4\n",
      "Dropping variables: ['week_of_month', 'is_weekend', 'day_of_week_sin', 'hour_cos']\n",
      "Remaining features after drop: 14\n",
      "Evaluation results at threshold 0.4: {'accuracy': [0.4981002032340726, 0.6820712202880622], 'recall': [0.4950999607996864, 0.2461779694237554], 'precision': [0.223342175066313, 0.27268779852366476], 'auc': [0.49703663337725595, 0.5275493999525804], 'f1': [0.3078235437484767, 0.2587556654305727], 'f2': [0.3981966076045148, 0.25105940673222993]}\n",
      "Evaluation for f2: [0.3981966076045148, 0.25105940673222993]\n",
      "Testing threshold: 0.45\n",
      "Dropping variables: ['week_of_month', 'is_weekend', 'time_of_day_cos', 'day_of_week_sin', 'hour_cos']\n",
      "Remaining features after drop: 13\n",
      "Evaluation results at threshold 0.45: {'accuracy': [0.4962445877882831, 0.6799505169214456], 'recall': [0.4954919639357115, 0.2457859662877303], 'precision': [0.2226135963367383, 0.2696774193548387], 'auc': [0.495977786667833, 0.5260415115490671], 'f1': [0.30720622189816504, 0.2571780147662018], 'f2': [0.3979347689207908, 0.25021949078138717]}\n",
      "Evaluation for f2: [0.3979347689207908, 0.25021949078138717]\n",
      "Testing threshold: 0.5\n",
      "Dropping variables: ['week_of_month', 'is_weekend', 'time_of_day_cos', 'day_of_week_sin', 'day_of_week_cos', 'hour_cos', 'min_cos']\n",
      "Remaining features after drop: 11\n",
      "Evaluation results at threshold 0.5: {'accuracy': [0.4931518953786339, 0.677829813554829], 'recall': [0.5096040768326147, 0.24460995687965503], 'precision': [0.2247191011235955, 0.26632522407170295], 'auc': [0.49898410549365163, 0.5242556971256592], 'f1': [0.31190019193857965, 0.255006129955047], 'f2': [0.4065294890237038, 0.24866501952658007]}\n",
      "Evaluation for f2: [0.4065294890237038, 0.24866501952658007]\n"
     ]
    },
    {
     "data": {
      "image/png": "[encoded data removed]",
      "text/plain": [
       "<Figure size 800x400 with 1 Axes>"
      ]
     },
     "metadata": {},
     "output_type": "display_data"
    }
   ],
   "source": [
    "# modified study_variance_for_feature_selection() in dslabs functions to keep minimum variables and print metrics (due to error)\n",
    "if evaluate==True:\n",
    "\n",
    "    eval_metric = eval_metric_2\n",
    "    figure(figsize=(2 * HEIGHT, HEIGHT))\n",
    "    study_variance_for_feature_selection(\n",
    "        train_sample,\n",
    "        test_sample,\n",
    "        target=target,\n",
    "        max_threshold=max_thresh,\n",
    "        lag=lag_variance,\n",
    "        metric=eval_metric,\n",
    "        file_tag=file_tag,\n",
    "        min_features_to_keep = 10  # Minimum features safeguard\n",
    "\n",
    "    )\n",
    "    show()"
   ]
  },
  {
   "cell_type": "markdown",
   "metadata": {},
   "source": [
    "## Feat 1 strategy Application"
   ]
  },
  {
   "cell_type": "markdown",
   "metadata": {},
   "source": [
    "## Feat 1 strategy Application"
   ]
  },
  {
   "cell_type": "code",
   "execution_count": 40,
   "metadata": {},
   "outputs": [],
   "source": [
    "from pandas import DataFrame, Index\n",
    "\n",
    "def select_low_variance_variables(\n",
    "    data: DataFrame, \n",
    "    max_threshold: float, \n",
    "    target: str = \"is_purchase\",\n",
    "    min_features_to_keep: int = 10,  \n",
    "    exclude: list[str] = [\"day_of_year\"]\n",
    ") -> list:\n",
    "    # Exclui as colunas que não devem ser consideradas\n",
    "    data_filtered = data.drop(columns=exclude, errors='ignore')\n",
    "    \n",
    "    summary5: DataFrame = data_filtered.describe()\n",
    "\n",
    "    # Calcula a variância\n",
    "    variances = summary5.loc[\"std\"] ** 2\n",
    "\n",
    "    # Identifica as variáveis a serem removidas\n",
    "    vars2drop: Index[str] = summary5.columns[variances < max_threshold]\n",
    "\n",
    "    # Garante que a coluna alvo não seja removida\n",
    "    if target in vars2drop:\n",
    "        vars2drop = vars2drop.drop(target)\n",
    "\n",
    "    # Garantia de que um número mínimo de recursos seja retido\n",
    "    remaining_features = data_filtered.drop(vars2drop, axis=1).shape[1]\n",
    "    if remaining_features < min_features_to_keep:\n",
    "        print(f\"Threshold too strict, keeping at least {min_features_to_keep} features.\")\n",
    "        vars2drop = summary5.columns[variances < max_threshold]\n",
    "        remaining_features = data_filtered.drop(vars2drop, axis=1).shape[1]\n",
    "\n",
    "        # Se ainda estiver muito poucos recursos, não remover nada\n",
    "        if remaining_features < min_features_to_keep:\n",
    "            print(f\"Warning: Dropping too many features even with adjusted threshold.\")\n",
    "            vars2drop = Index([])  # Não remover nenhuma variável\n",
    "\n",
    "    print(f\"Variance threshold: {max_threshold}, Remaining features: {remaining_features}\")\n",
    "    print(f\"Variables to drop: {list(vars2drop)}\")\n",
    "\n",
    "    return list(vars2drop.values)\n",
    "\n",
    "def apply_remove_low_variance_variables(\n",
    "    data: DataFrame,\n",
    "    max_threshold=0.5,\n",
    "    min_features_to_keep=10,\n",
    "    target='is_purchase'\n",
    ") -> DataFrame:\n",
    "    \n",
    "    # Chama a função para selecionar variáveis de baixa variância\n",
    "    vars2drop: list[str] = select_low_variance_variables(\n",
    "        data, \n",
    "        max_threshold=max_threshold, \n",
    "        min_features_to_keep=min_features_to_keep, \n",
    "        target=target\n",
    "    )\n",
    "    \n",
    "    print(\"Columns to drop:\", vars2drop)\n",
    "\n",
    "    # Remove as colunas de baixa variância do DataFrame\n",
    "    df_vars_drop = data.drop(columns=vars2drop, errors='ignore')\n",
    "    \n",
    "    print(\"Remaining columns:\", df_vars_drop.columns)\n",
    "\n",
    "    return df_vars_drop\n",
    "\n"
   ]
  },
  {
   "cell_type": "code",
   "execution_count": 49,
   "metadata": {},
   "outputs": [
    {
     "name": "stdout",
     "output_type": "stream",
     "text": [
      "Variance threshold: 0.3, Remaining features: 17\n",
      "Variables to drop: ['is_weekend']\n",
      "Columns to drop: ['is_weekend']\n",
      "Remaining columns: Index(['category_code_lvl_1', 'category_code_lvl_2', 'price', 'is_purchase',\n",
      "       'activity_in_session', 'week_of_month', 'day', 'brand_value',\n",
      "       'product_category', 'time_of_day_sin', 'time_of_day_cos',\n",
      "       'day_of_week_sin', 'day_of_week_cos', 'hour_sin', 'hour_cos', 'min_sin',\n",
      "       'min_cos'],\n",
      "      dtype='object')\n",
      "       category_code_lvl_1  category_code_lvl_2          price    is_purchase  \\\n",
      "count        188630.000000        188630.000000  188630.000000  188630.000000   \n",
      "mean              0.456391             5.543090     322.325152       0.157202   \n",
      "std               0.825113             5.271548     270.257377       0.363992   \n",
      "min               0.000000             0.000000       0.870000       0.000000   \n",
      "25%               0.000000             3.000000     128.670000       0.000000   \n",
      "50%               0.000000             3.000000     229.710000       0.000000   \n",
      "75%               1.000000             7.000000     437.330000       0.000000   \n",
      "max               3.000000            21.000000    1092.950000       1.000000   \n",
      "\n",
      "       activity_in_session  week_of_month            day    brand_value  \\\n",
      "count        188630.000000  188630.000000  188630.000000  188630.000000   \n",
      "mean              3.863373       2.956985      16.974532     357.947466   \n",
      "std               3.133767       0.634044       4.687287     241.774830   \n",
      "min               0.000000       2.000000       8.000000       2.900000   \n",
      "25%               2.000000       3.000000      15.000000     173.500000   \n",
      "50%               3.000000       3.000000      16.000000     282.500000   \n",
      "75%               5.000000       3.000000      19.000000     455.000000   \n",
      "max              15.000000       4.000000      28.000000     862.600000   \n",
      "\n",
      "       product_category  time_of_day_sin  time_of_day_cos  day_of_week_sin  \\\n",
      "count     188630.000000    188630.000000    188630.000000    188630.000000   \n",
      "mean        3694.480157        -0.103183        -0.236627        -0.199846   \n",
      "std         3086.662027         0.717194         0.646884         0.675361   \n",
      "min            0.000000        -0.975000        -0.781000        -0.993000   \n",
      "25%         2056.000000        -0.975000        -0.781000        -0.775000   \n",
      "50%         2278.000000         0.000000        -0.781000        -0.081000   \n",
      "75%         4354.000000         0.624000         0.221000         0.000000   \n",
      "max        13195.000000         0.624000         1.000000         0.999000   \n",
      "\n",
      "       day_of_week_cos       hour_sin       hour_cos        min_sin  \\\n",
      "count    188630.000000  188630.000000  188630.000000  188630.000000   \n",
      "mean         -0.036275       0.150310      -0.332525      -0.001430   \n",
      "std           0.709142       0.738384       0.567132       0.710018   \n",
      "min          -0.997000      -1.000000      -1.000000      -1.000000   \n",
      "25%          -0.632000      -0.707000      -0.866000      -0.743000   \n",
      "50%          -0.041000       0.500000      -0.500000       0.000000   \n",
      "75%           0.693000       0.866000       0.000000       0.743000   \n",
      "max           1.000000       1.000000       0.866000       1.000000   \n",
      "\n",
      "             min_cos  \n",
      "count  188630.000000  \n",
      "mean       -0.007951  \n",
      "std         0.704282  \n",
      "min        -1.000000  \n",
      "25%        -0.743000  \n",
      "50%         0.000000  \n",
      "75%         0.669000  \n",
      "max         1.000000  \n"
     ]
    }
   ],
   "source": [
    "\n",
    "def apply_strategy_1(data: DataFrame) -> DataFrame:\n",
    "    # Defina o target aqui ou passe-o como parâmetro\n",
    "    target = 'is_purchase'\n",
    "    # Aplicando a estratégia de remoção de variáveis de baixa variância\n",
    "    df_copy = apply_remove_low_variance_variables(data, max_threshold=0.3, target=target, min_features_to_keep=10)\n",
    "    \n",
    "    return df_copy\n",
    "\n",
    "# Exemplo de uso\n",
    "# Supondo que 'df' esteja definido anteriormente\n",
    "df_1 = apply_strategy_1(df)\n",
    "print(df_1.describe())"
   ]
  },
  {
   "cell_type": "markdown",
   "metadata": {},
   "source": [
    "## Feat 1 train/test split "
   ]
  },
  {
   "cell_type": "code",
   "execution_count": 50,
   "metadata": {},
   "outputs": [
    {
     "name": "stdout",
     "output_type": "stream",
     "text": [
      "Labels=[0, 1]\n"
     ]
    },
    {
     "data": {
      "image/png": "[encoded data removed]",
      "text/plain": [
       "<Figure size 600x400 with 1 Axes>"
      ]
     },
     "metadata": {},
     "output_type": "display_data"
    }
   ],
   "source": [
    "if evaluate==True:\n",
    "\n",
    "    from pandas import concat\n",
    "    from matplotlib.pyplot import figure, show\n",
    "    from sklearn.model_selection import train_test_split\n",
    "    from dslabs_functions import plot_multibar_chart\n",
    "\n",
    "\n",
    "    # Call the function to split the data\n",
    "    from numpy import array, ndarray\n",
    "\n",
    "\n",
    "    y_1, X_1, labels, values = define_target_and_prepare_data(df_1, target)\n",
    "\n",
    "\n",
    "\n",
    "    train_1, test_1 = split_data_save_csv(pd.DataFrame(X_1, columns=df_1.columns), y_1, data_columns=df_1.columns, target_column=target)\n",
    "\n",
    "    # Distribution check\n",
    "    values[\"Train\"] = [\n",
    "        len(train_1[train_1[target] == 0]),\n",
    "        len(train_1[train_1[target] == 1]),\n",
    "    ]\n",
    "    values[\"Test\"] = [\n",
    "        len(test_1[test_1[target] == 0]),\n",
    "        len(test_1[test_1[target] == 1]),\n",
    "    ]\n",
    "\n",
    "    # Visualize the distribution\n",
    "    figure(figsize=(6, 4))\n",
    "    plot_multibar_chart(labels, values, title=\"Data distribution per dataset\")\n",
    "    show()"
   ]
  },
  {
   "cell_type": "code",
   "execution_count": null,
   "metadata": {},
   "outputs": [],
   "source": []
  },
  {
   "cell_type": "markdown",
   "metadata": {},
   "source": [
    "## Feat 1 evaluate"
   ]
  },
  {
   "cell_type": "markdown",
   "metadata": {},
   "source": [
    "### optimize for metric 1 - precision"
   ]
  },
  {
   "cell_type": "code",
   "execution_count": 51,
   "metadata": {},
   "outputs": [
    {
     "data": {
      "image/png": "[encoded data removed]",
      "text/plain": [
       "<Figure size 640x480 with 1 Axes>"
      ]
     },
     "metadata": {},
     "output_type": "display_data"
    }
   ],
   "source": [
    "if evaluate==True:\n",
    "\n",
    "    # evaluate_approach is in data_functions originally from DSLABS/ Data Prep / Methodology\n",
    "    # removed Multinomial from run_NB function because dataset has negative values\n",
    "\n",
    "    figure()\n",
    "    eval_1: dict[str, list] = evaluate_approach(train_1, test_1, target='is_purchase', metric=eval_metric_1)\n",
    "    plot_multibar_chart(\n",
    "        [\"NB\", \"KNN\"], eval_1, title=f\"{file_tag}_approach_1_evaluation ({eval_metric_1})\", percentage=True\n",
    "    )\n",
    "    savefig(f\"images/{file_tag}_approach_1_evaluation_{eval_metric_1}.png\")\n",
    "    show()"
   ]
  },
  {
   "cell_type": "markdown",
   "metadata": {},
   "source": [
    "### optimize for metric 2 - f2\n"
   ]
  },
  {
   "cell_type": "code",
   "execution_count": 52,
   "metadata": {},
   "outputs": [
    {
     "name": "stdout",
     "output_type": "stream",
     "text": [
      "Variance threshold: 0.3, Remaining features: 17\n",
      "Variables to drop: ['is_weekend']\n",
      "Columns to drop: ['is_weekend']\n",
      "Remaining columns: Index(['category_code_lvl_1', 'category_code_lvl_2', 'price', 'is_purchase',\n",
      "       'activity_in_session', 'week_of_month', 'day', 'brand_value',\n",
      "       'product_category', 'time_of_day_sin', 'time_of_day_cos',\n",
      "       'day_of_week_sin', 'day_of_week_cos', 'hour_sin', 'hour_cos', 'min_sin',\n",
      "       'min_cos'],\n",
      "      dtype='object')\n",
      "       category_code_lvl_1  category_code_lvl_2          price    is_purchase  \\\n",
      "count        188630.000000        188630.000000  188630.000000  188630.000000   \n",
      "mean              0.456391             5.543090     322.325152       0.157202   \n",
      "std               0.825113             5.271548     270.257377       0.363992   \n",
      "min               0.000000             0.000000       0.870000       0.000000   \n",
      "25%               0.000000             3.000000     128.670000       0.000000   \n",
      "50%               0.000000             3.000000     229.710000       0.000000   \n",
      "75%               1.000000             7.000000     437.330000       0.000000   \n",
      "max               3.000000            21.000000    1092.950000       1.000000   \n",
      "\n",
      "       activity_in_session  week_of_month            day    brand_value  \\\n",
      "count        188630.000000  188630.000000  188630.000000  188630.000000   \n",
      "mean              3.863373       2.956985      16.974532     357.947466   \n",
      "std               3.133767       0.634044       4.687287     241.774830   \n",
      "min               0.000000       2.000000       8.000000       2.900000   \n",
      "25%               2.000000       3.000000      15.000000     173.500000   \n",
      "50%               3.000000       3.000000      16.000000     282.500000   \n",
      "75%               5.000000       3.000000      19.000000     455.000000   \n",
      "max              15.000000       4.000000      28.000000     862.600000   \n",
      "\n",
      "       product_category  time_of_day_sin  time_of_day_cos  day_of_week_sin  \\\n",
      "count     188630.000000    188630.000000    188630.000000    188630.000000   \n",
      "mean        3694.480157        -0.103183        -0.236627        -0.199846   \n",
      "std         3086.662027         0.717194         0.646884         0.675361   \n",
      "min            0.000000        -0.975000        -0.781000        -0.993000   \n",
      "25%         2056.000000        -0.975000        -0.781000        -0.775000   \n",
      "50%         2278.000000         0.000000        -0.781000        -0.081000   \n",
      "75%         4354.000000         0.624000         0.221000         0.000000   \n",
      "max        13195.000000         0.624000         1.000000         0.999000   \n",
      "\n",
      "       day_of_week_cos       hour_sin       hour_cos        min_sin  \\\n",
      "count    188630.000000  188630.000000  188630.000000  188630.000000   \n",
      "mean         -0.036275       0.150310      -0.332525      -0.001430   \n",
      "std           0.709142       0.738384       0.567132       0.710018   \n",
      "min          -0.997000      -1.000000      -1.000000      -1.000000   \n",
      "25%          -0.632000      -0.707000      -0.866000      -0.743000   \n",
      "50%          -0.041000       0.500000      -0.500000       0.000000   \n",
      "75%           0.693000       0.866000       0.000000       0.743000   \n",
      "max           1.000000       1.000000       0.866000       1.000000   \n",
      "\n",
      "             min_cos  \n",
      "count  188630.000000  \n",
      "mean       -0.007951  \n",
      "std         0.704282  \n",
      "min        -1.000000  \n",
      "25%        -0.743000  \n",
      "50%         0.000000  \n",
      "75%         0.669000  \n",
      "max         1.000000  \n"
     ]
    }
   ],
   "source": [
    "\n",
    "def apply_strategy_1(data: DataFrame) -> DataFrame:\n",
    "    # Defina o target aqui ou passe-o como parâmetro\n",
    "    target = 'is_purchase'\n",
    "    # Aplicando a estratégia de remoção de variáveis de baixa variância\n",
    "    df_copy = apply_remove_low_variance_variables(data, max_threshold=0.3, target=target, min_features_to_keep=10)\n",
    "    \n",
    "    return df_copy\n",
    "\n",
    "# Exemplo de uso\n",
    "# Supondo que 'df' esteja definido anteriormente\n",
    "df_1 = apply_strategy_1(df)\n",
    "print(df_1.describe())"
   ]
  },
  {
   "cell_type": "code",
   "execution_count": 53,
   "metadata": {},
   "outputs": [
    {
     "name": "stdout",
     "output_type": "stream",
     "text": [
      "Labels=[0, 1]\n"
     ]
    },
    {
     "data": {
      "image/png": "[encoded data removed]",
      "text/plain": [
       "<Figure size 600x400 with 1 Axes>"
      ]
     },
     "metadata": {},
     "output_type": "display_data"
    }
   ],
   "source": [
    "if evaluate==True:\n",
    "\n",
    "    from pandas import concat\n",
    "    from matplotlib.pyplot import figure, show\n",
    "    from sklearn.model_selection import train_test_split\n",
    "    from dslabs_functions import plot_multibar_chart\n",
    "\n",
    "\n",
    "    # Call the function to split the data\n",
    "    from numpy import array, ndarray\n",
    "\n",
    "\n",
    "    y_1, X_1, labels, values = define_target_and_prepare_data(df_1, target)\n",
    "\n",
    "\n",
    "\n",
    "    train_1, test_1 = split_data_save_csv(pd.DataFrame(X_1, columns=df_1.columns), y_1, data_columns=df_1.columns, target_column=target)\n",
    "\n",
    "    # Distribution check\n",
    "    values[\"Train\"] = [\n",
    "        len(train_1[train_1[target] == 0]),\n",
    "        len(train_1[train_1[target] == 1]),\n",
    "    ]\n",
    "    values[\"Test\"] = [\n",
    "        len(test_1[test_1[target] == 0]),\n",
    "        len(test_1[test_1[target] == 1]),\n",
    "    ]\n",
    "\n",
    "    # Visualize the distribution\n",
    "    figure(figsize=(6, 4))\n",
    "    plot_multibar_chart(labels, values, title=\"Data distribution per dataset\")\n",
    "    show()"
   ]
  },
  {
   "cell_type": "code",
   "execution_count": 54,
   "metadata": {},
   "outputs": [
    {
     "data": {
      "image/png": "[encoded data removed]",
      "text/plain": [
       "<Figure size 640x480 with 1 Axes>"
      ]
     },
     "metadata": {},
     "output_type": "display_data"
    }
   ],
   "source": [
    "if evaluate==True:\n",
    "\n",
    "    # evaluate_approach is in data_functions originally from DSLABS/ Data Prep / Methodology\n",
    "    # removed Multinomial from run_NB function because dataset has negative values\n",
    "\n",
    "    figure()\n",
    "    eval_1: dict[str, list] = evaluate_approach(train_1, test_1, target='is_purchase', metric=eval_metric_2)\n",
    "    plot_multibar_chart(\n",
    "        [\"NB\", \"KNN\"], eval_1, title=f\"{file_tag}_approach_1_evaluation_({eval_metric_2})\", percentage=True\n",
    "    )\n",
    "    savefig(f\"images/{file_tag}_approach_1_evaluation_{eval_metric_2}.png\")\n",
    "    show()"
   ]
  },
  {
   "cell_type": "markdown",
   "metadata": {},
   "source": [
    "# Feat 2 - Dropping Redundant Variables\n"
   ]
  },
  {
   "cell_type": "code",
   "execution_count": 211,
   "metadata": {},
   "outputs": [
    {
     "data": {
      "text/plain": [
       "Index(['category_code_lvl_1', 'category_code_lvl_2', 'price',\n",
       "       'activity_in_session', 'week_of_month', 'is_weekend', 'day',\n",
       "       'brand_value', 'product_category', 'time_of_day_sin', 'time_of_day_cos',\n",
       "       'day_of_week_sin', 'day_of_week_cos', 'hour_sin', 'hour_cos', 'min_sin',\n",
       "       'min_cos', 'is_purchase'],\n",
       "      dtype='object')"
      ]
     },
     "execution_count": 55,
     "metadata": {},
     "output_type": "execute_result"
    }
   ],
   "source": [
    "test.columns"
   ]
  },
  {
   "cell_type": "code",
   "execution_count": 58,
   "metadata": {},
   "outputs": [],
   "source": [
    "\n",
    "def select_redundant_variables(\n",
    "    data: DataFrame, \n",
    "    min_threshold: float = 0.90, \n",
    "    target: str = \"class\", \n",
    "    exclude: list[str] = [\"day_of_year\"]  # Columns to exclude from redundancy check\n",
    ") -> list:\n",
    "    # Exclude the columns that should not be considered (like 'day_of_month')\n",
    "    data_filtered = data.drop(columns=[target] + exclude, errors='ignore')\n",
    "\n",
    "    # Calculate the correlation matrix\n",
    "    corr_matrix: DataFrame = abs(data_filtered.corr())\n",
    "    variables: Index[str] = corr_matrix.columns\n",
    "    vars2drop: list = []\n",
    "\n",
    "    # Iterate over the variables and check correlations\n",
    "    for v1 in variables:\n",
    "        vars_corr: Series = (corr_matrix[v1]).loc[corr_matrix[v1] >= min_threshold]\n",
    "        vars_corr.drop(v1, inplace=True)  # Remove self-correlation\n",
    "        if len(vars_corr) > 1:  # Check if more than one correlated variable\n",
    "            lst_corr = list(vars_corr.index)\n",
    "            for v2 in lst_corr:\n",
    "                if v2 not in vars2drop:\n",
    "                    vars2drop.append(v2)\n",
    "\n",
    "    return vars2drop\n",
    "\n",
    "\n",
    "def study_redundancy_for_feature_selection(\n",
    "    train: DataFrame,\n",
    "    test: DataFrame,\n",
    "    target: str = \"class\",\n",
    "    min_threshold: float = 0.90,\n",
    "    lag: float = 0.05,\n",
    "    metric: str = \"accuracy\",\n",
    "    file_tag: str = \"\",\n",
    ") -> dict:\n",
    "    # Generate the range of redundancy thresholds to test\n",
    "    options: list[float] = [\n",
    "        round(min_threshold + i * lag, 3)\n",
    "        for i in range(ceil((1 - min_threshold) / lag) + 1)\n",
    "    ]\n",
    "\n",
    "    # Ensure 'target' column is present and drop it for correlation calculation\n",
    "    df: DataFrame = train.drop(target, axis=1, inplace=False)\n",
    "    print(f\"Columns in the train dataset: {df.columns.tolist()}\")  # Debugging step\n",
    "\n",
    "    # Calculate the correlation matrix\n",
    "    corr_matrix: DataFrame = abs(df.corr())\n",
    "    variables: Index[str] = corr_matrix.columns\n",
    "    print(f\"Variables considered for correlation: {variables.tolist()}\")  # Debugging step\n",
    "\n",
    "    results: dict[str, list] = {\"NB\": [], \"KNN\": []}\n",
    "    \n",
    "    for thresh in options:\n",
    "        vars2drop: list = []\n",
    "        \n",
    "        # Loop through the variables to identify correlated features\n",
    "        for v1 in variables:\n",
    "            # Get features correlated with the current variable\n",
    "            vars_corr: Series = (corr_matrix[v1]).loc[corr_matrix[v1] >= thresh]\n",
    "            \n",
    "            # Check if the current variable is in the correlation list before trying to drop it\n",
    "            if v1 in vars_corr:\n",
    "                vars_corr.drop(v1, inplace=True)\n",
    "            \n",
    "            # If other variables are highly correlated with v1, consider them for removal\n",
    "            if len(vars_corr) > 1:\n",
    "                lst_corr = list(vars_corr.index)\n",
    "                for v2 in lst_corr:\n",
    "                    if v2 not in vars2drop:\n",
    "                        vars2drop.append(v2)\n",
    "\n",
    "        print(f\"Variables to drop at threshold {thresh}: {vars2drop}\")  # Debugging step\n",
    "        \n",
    "        # Drop the selected redundant variables from train and test datasets\n",
    "        train_copy: DataFrame = train.drop(vars2drop, axis=1, inplace=False)\n",
    "        test_copy: DataFrame = test.drop(vars2drop, axis=1, inplace=False)\n",
    "\n",
    "        # Evaluate the approach using the current feature set\n",
    "        eval: dict | None = evaluate_approach(train_copy, test_copy, target=target, metric=metric)\n",
    "\n",
    "        # Check if evaluation returned results\n",
    "        if eval:\n",
    "            print(f\"Evaluation results at threshold {thresh}: {eval}\")\n",
    "            if metric in eval:\n",
    "                print(f\"Evaluation for {metric}: {eval[metric]}\")\n",
    "                results[\"NB\"].append(eval[metric][0])\n",
    "                results[\"KNN\"].append(eval[metric][1])\n",
    "            else:\n",
    "                print(f\"Metric '{metric}' not found in evaluation results at threshold {thresh}.\")\n",
    "                results[\"NB\"].append(None)\n",
    "                results[\"KNN\"].append(None)\n",
    "        else:\n",
    "            print(f\"Evaluation failed or returned empty at threshold {thresh}.\")\n",
    "            results[\"NB\"].append(None)\n",
    "            results[\"KNN\"].append(None)\n",
    "\n",
    "    # Optional: Save or plot the results after evaluation\n",
    "    plot_multiline_chart(\n",
    "        options,\n",
    "        results,\n",
    "        title=f\"{file_tag} redundancy study ({metric})\",\n",
    "        xlabel=\"correlation threshold\",\n",
    "        ylabel=metric,\n",
    "        percentage=True,\n",
    "    )\n",
    "    savefig(f\"images/{file_tag}_fs_redundancy_{metric}_study.png\")\n",
    "    return results\n"
   ]
  },
  {
   "cell_type": "code",
   "execution_count": 68,
   "metadata": {},
   "outputs": [],
   "source": [
    "min_thresh=0.7\n",
    "lag_redundacy=0.05"
   ]
  },
  {
   "cell_type": "code",
   "execution_count": 69,
   "metadata": {},
   "outputs": [
    {
     "name": "stdout",
     "output_type": "stream",
     "text": [
      "Initial number of features: 18\n",
      "Redundancy threshold: 0.7\n"
     ]
    }
   ],
   "source": [
    "# At the start of the for loop in study_redundancy_for_feature_selection\n",
    "print(f\"Initial number of features: {df.shape[1]}\")\n",
    "print(f\"Redundancy threshold: {min_thresh}\")"
   ]
  },
  {
   "cell_type": "markdown",
   "metadata": {},
   "source": [
    "### precision study"
   ]
  },
  {
   "cell_type": "code",
   "execution_count": 61,
   "metadata": {},
   "outputs": [
    {
     "name": "stdout",
     "output_type": "stream",
     "text": [
      "Columns in the train dataset: ['category_code_lvl_1', 'category_code_lvl_2', 'price', 'activity_in_session', 'week_of_month', 'is_weekend', 'day', 'brand_value', 'product_category', 'time_of_day_sin', 'time_of_day_cos', 'day_of_week_sin', 'day_of_week_cos', 'hour_sin', 'hour_cos', 'min_sin', 'min_cos']\n",
      "Variables considered for correlation: ['category_code_lvl_1', 'category_code_lvl_2', 'price', 'activity_in_session', 'week_of_month', 'is_weekend', 'day', 'brand_value', 'product_category', 'time_of_day_sin', 'time_of_day_cos', 'day_of_week_sin', 'day_of_week_cos', 'hour_sin', 'hour_cos', 'min_sin', 'min_cos']\n",
      "Variables to drop at threshold 0.7: ['category_code_lvl_2', 'product_category', 'category_code_lvl_1']\n",
      "Evaluation results at threshold 0.7: {'accuracy': [0.516921445612795, 0.7734381903331271], 'recall': [0.4625637005096041, 0.009408075264602116], 'precision': [0.22365428354814254, 0.39344262295081966], 'auc': [0.49765191641952944, 0.5025936109838868], 'f1': [0.30152037817810146, 0.018376722817764167], 'f2': [0.38113695090439276, 0.011690209449585971]}\n",
      "Evaluation for precision: [0.22365428354814254, 0.39344262295081966]\n",
      "Variables to drop at threshold 0.75: ['category_code_lvl_2', 'product_category', 'category_code_lvl_1']\n",
      "Evaluation results at threshold 0.75: {'accuracy': [0.516921445612795, 0.7734381903331271], 'recall': [0.4625637005096041, 0.009408075264602116], 'precision': [0.22365428354814254, 0.39344262295081966], 'auc': [0.49765191641952944, 0.5025936109838868], 'f1': [0.30152037817810146, 0.018376722817764167], 'f2': [0.38113695090439276, 0.011690209449585971]}\n",
      "Evaluation for precision: [0.22365428354814254, 0.39344262295081966]\n",
      "Variables to drop at threshold 0.8: ['category_code_lvl_2', 'product_category', 'category_code_lvl_1']\n",
      "Evaluation results at threshold 0.8: {'accuracy': [0.516921445612795, 0.7734381903331271], 'recall': [0.4625637005096041, 0.009408075264602116], 'precision': [0.22365428354814254, 0.39344262295081966], 'auc': [0.49765191641952944, 0.5025936109838868], 'f1': [0.30152037817810146, 0.018376722817764167], 'f2': [0.38113695090439276, 0.011690209449585971]}\n",
      "Evaluation for precision: [0.22365428354814254, 0.39344262295081966]\n",
      "Variables to drop at threshold 0.85: ['category_code_lvl_2', 'product_category', 'category_code_lvl_1']\n",
      "Evaluation results at threshold 0.85: {'accuracy': [0.516921445612795, 0.7734381903331271], 'recall': [0.4625637005096041, 0.009408075264602116], 'precision': [0.22365428354814254, 0.39344262295081966], 'auc': [0.49765191641952944, 0.5025936109838868], 'f1': [0.30152037817810146, 0.018376722817764167], 'f2': [0.38113695090439276, 0.011690209449585971]}\n",
      "Evaluation for precision: [0.22365428354814254, 0.39344262295081966]\n",
      "Variables to drop at threshold 0.9: ['category_code_lvl_2', 'product_category', 'category_code_lvl_1']\n",
      "Evaluation results at threshold 0.9: {'accuracy': [0.516921445612795, 0.7734381903331271], 'recall': [0.4625637005096041, 0.009408075264602116], 'precision': [0.22365428354814254, 0.39344262295081966], 'auc': [0.49765191641952944, 0.5025936109838868], 'f1': [0.30152037817810146, 0.018376722817764167], 'f2': [0.38113695090439276, 0.011690209449585971]}\n",
      "Evaluation for precision: [0.22365428354814254, 0.39344262295081966]\n",
      "Variables to drop at threshold 0.95: ['category_code_lvl_2', 'product_category', 'category_code_lvl_1']\n",
      "Evaluation results at threshold 0.95: {'accuracy': [0.516921445612795, 0.7734381903331271], 'recall': [0.4625637005096041, 0.009408075264602116], 'precision': [0.22365428354814254, 0.39344262295081966], 'auc': [0.49765191641952944, 0.5025936109838868], 'f1': [0.30152037817810146, 0.018376722817764167], 'f2': [0.38113695090439276, 0.011690209449585971]}\n",
      "Evaluation for precision: [0.22365428354814254, 0.39344262295081966]\n",
      "Variables to drop at threshold 1.0: []\n",
      "Evaluation results at threshold 1.0: {'accuracy': [0.5162145444905893, 0.7725545639303703], 'recall': [0.4637397099176793, 0.009408075264602116], 'precision': [0.22362948960302456, 0.3380281690140845], 'auc': [0.4976124969848492, 0.5020232254032343], 'f1': [0.3017472261191175, 0.018306636155606407], 'f2': [0.38176068155415, 0.01167883211678832]}\n",
      "Evaluation for precision: [0.22362948960302456, 0.3380281690140845]\n",
      "Variables to drop at threshold 1.05: []\n",
      "Evaluation results at threshold 1.05: {'accuracy': [0.5162145444905893, 0.7725545639303703], 'recall': [0.4637397099176793, 0.009408075264602116], 'precision': [0.22362948960302456, 0.3380281690140845], 'auc': [0.4976124969848492, 0.5020232254032343], 'f1': [0.3017472261191175, 0.018306636155606407], 'f2': [0.38176068155415, 0.01167883211678832]}\n",
      "Evaluation for precision: [0.22362948960302456, 0.3380281690140845]\n"
     ]
    },
    {
     "data": {
      "image/png": "[encoded data removed]",
      "text/plain": [
       "<Figure size 800x400 with 1 Axes>"
      ]
     },
     "metadata": {},
     "output_type": "display_data"
    }
   ],
   "source": [
    "if evaluate==True:\n",
    "\n",
    "    # modified study_variance_for_feature_selection() in dslabs functions to keep minimum variables and print metrics (due to error)\n",
    "\n",
    "\n",
    "    eval_metric = eval_metric_1\n",
    "    figure(figsize=(2 * HEIGHT, HEIGHT))\n",
    "    study_redundancy_for_feature_selection(\n",
    "        train_sample,\n",
    "        test_sample,\n",
    "        target=target,\n",
    "        min_threshold = min_thresh,\n",
    "        lag = lag_redundacy,\n",
    "        metric=eval_metric,\n",
    "        file_tag=file_tag,\n",
    "    )\n",
    "    show()"
   ]
  },
  {
   "cell_type": "markdown",
   "metadata": {},
   "source": [
    "### f2 study"
   ]
  },
  {
   "cell_type": "code",
   "execution_count": 70,
   "metadata": {},
   "outputs": [
    {
     "name": "stdout",
     "output_type": "stream",
     "text": [
      "Columns in the train dataset: ['category_code_lvl_1', 'category_code_lvl_2', 'price', 'activity_in_session', 'week_of_month', 'is_weekend', 'day', 'brand_value', 'product_category', 'time_of_day_sin', 'time_of_day_cos', 'day_of_week_sin', 'day_of_week_cos', 'hour_sin', 'hour_cos', 'min_sin', 'min_cos']\n",
      "Variables considered for correlation: ['category_code_lvl_1', 'category_code_lvl_2', 'price', 'activity_in_session', 'week_of_month', 'is_weekend', 'day', 'brand_value', 'product_category', 'time_of_day_sin', 'time_of_day_cos', 'day_of_week_sin', 'day_of_week_cos', 'hour_sin', 'hour_cos', 'min_sin', 'min_cos']\n",
      "Variables to drop at threshold 0.7: ['category_code_lvl_2', 'product_category', 'category_code_lvl_1']\n",
      "Evaluation results at threshold 0.7: {'accuracy': [0.516921445612795, 0.6555624282053548], 'recall': [0.4625637005096041, 0.27832222657781264], 'precision': [0.22365428354814254, 0.25659559089266354], 'auc': [0.49765191641952944, 0.5218327993486828], 'f1': [0.30152037817810146, 0.2670176758179767], 'f2': [0.38113695090439276, 0.27368745663402977]}\n",
      "Evaluation for f2: [0.38113695090439276, 0.27368745663402977]\n",
      "Variables to drop at threshold 0.75: ['category_code_lvl_2', 'product_category', 'category_code_lvl_1']\n",
      "Evaluation results at threshold 0.75: {'accuracy': [0.516921445612795, 0.6555624282053548], 'recall': [0.4625637005096041, 0.27832222657781264], 'precision': [0.22365428354814254, 0.25659559089266354], 'auc': [0.49765191641952944, 0.5218327993486828], 'f1': [0.30152037817810146, 0.2670176758179767], 'f2': [0.38113695090439276, 0.27368745663402977]}\n",
      "Evaluation for f2: [0.38113695090439276, 0.27368745663402977]\n",
      "Variables to drop at threshold 0.8: ['category_code_lvl_2', 'product_category', 'category_code_lvl_1']\n",
      "Evaluation results at threshold 0.8: {'accuracy': [0.516921445612795, 0.6555624282053548], 'recall': [0.4625637005096041, 0.27832222657781264], 'precision': [0.22365428354814254, 0.25659559089266354], 'auc': [0.49765191641952944, 0.5218327993486828], 'f1': [0.30152037817810146, 0.2670176758179767], 'f2': [0.38113695090439276, 0.27368745663402977]}\n",
      "Evaluation for f2: [0.38113695090439276, 0.27368745663402977]\n",
      "Variables to drop at threshold 0.85: ['category_code_lvl_2', 'product_category', 'category_code_lvl_1']\n",
      "Evaluation results at threshold 0.85: {'accuracy': [0.516921445612795, 0.6555624282053548], 'recall': [0.4625637005096041, 0.27832222657781264], 'precision': [0.22365428354814254, 0.25659559089266354], 'auc': [0.49765191641952944, 0.5218327993486828], 'f1': [0.30152037817810146, 0.2670176758179767], 'f2': [0.38113695090439276, 0.27368745663402977]}\n",
      "Evaluation for f2: [0.38113695090439276, 0.27368745663402977]\n",
      "Variables to drop at threshold 0.9: ['category_code_lvl_2', 'product_category', 'category_code_lvl_1']\n",
      "Evaluation results at threshold 0.9: {'accuracy': [0.516921445612795, 0.6555624282053548], 'recall': [0.4625637005096041, 0.27832222657781264], 'precision': [0.22365428354814254, 0.25659559089266354], 'auc': [0.49765191641952944, 0.5218327993486828], 'f1': [0.30152037817810146, 0.2670176758179767], 'f2': [0.38113695090439276, 0.27368745663402977]}\n",
      "Evaluation for f2: [0.38113695090439276, 0.27368745663402977]\n",
      "Variables to drop at threshold 0.95: ['category_code_lvl_2', 'product_category', 'category_code_lvl_1']\n",
      "Evaluation results at threshold 0.95: {'accuracy': [0.516921445612795, 0.6555624282053548], 'recall': [0.4625637005096041, 0.27832222657781264], 'precision': [0.22365428354814254, 0.25659559089266354], 'auc': [0.49765191641952944, 0.5218327993486828], 'f1': [0.30152037817810146, 0.2670176758179767], 'f2': [0.38113695090439276, 0.27368745663402977]}\n",
      "Evaluation for f2: [0.38113695090439276, 0.27368745663402977]\n",
      "Variables to drop at threshold 1.0: []\n",
      "Evaluation results at threshold 1.0: {'accuracy': [0.5162145444905893, 0.6806574180436511], 'recall': [0.4637397099176793, 0.24656997255978047], 'precision': [0.22362948960302456, 0.27100387763894873], 'auc': [0.4976124969848492, 0.5267757460334836], 'f1': [0.3017472261191175, 0.2582101806239737], 'f2': [0.38176068155415, 0.25109780439121754]}\n",
      "Evaluation for f2: [0.38176068155415, 0.25109780439121754]\n",
      "Variables to drop at threshold 1.05: []\n",
      "Evaluation results at threshold 1.05: {'accuracy': [0.5162145444905893, 0.6806574180436511], 'recall': [0.4637397099176793, 0.24656997255978047], 'precision': [0.22362948960302456, 0.27100387763894873], 'auc': [0.4976124969848492, 0.5267757460334836], 'f1': [0.3017472261191175, 0.2582101806239737], 'f2': [0.38176068155415, 0.25109780439121754]}\n",
      "Evaluation for f2: [0.38176068155415, 0.25109780439121754]\n"
     ]
    },
    {
     "data": {
      "image/png": "[encoded data removed]",
      "text/plain": [
       "<Figure size 800x400 with 1 Axes>"
      ]
     },
     "metadata": {},
     "output_type": "display_data"
    }
   ],
   "source": [
    "if evaluate==True:\n",
    "\n",
    "    # modified study_variance_for_feature_selection() in dslabs functions to keep minimum variables and print metrics (due to error)\n",
    "\n",
    "\n",
    "    eval_metric = eval_metric_2\n",
    "    figure(figsize=(2 * HEIGHT, HEIGHT))\n",
    "    study_redundancy_for_feature_selection(\n",
    "        train_sample,\n",
    "        test_sample,\n",
    "        target=target,\n",
    "        min_threshold = min_thresh,\n",
    "        lag = lag_redundacy,\n",
    "        metric=eval_metric,\n",
    "        file_tag=file_tag,\n",
    "    )\n",
    "    show()"
   ]
  },
  {
   "cell_type": "code",
   "execution_count": null,
   "metadata": {},
   "outputs": [],
   "source": []
  },
  {
   "cell_type": "markdown",
   "metadata": {},
   "source": [
    "## Feat 2 - Study redundant variables and threshold"
   ]
  },
  {
   "cell_type": "markdown",
   "metadata": {},
   "source": [
    "## Feat 2 strategy aplication"
   ]
  },
  {
   "cell_type": "code",
   "execution_count": 71,
   "metadata": {},
   "outputs": [],
   "source": [
    "\n",
    "def select_redundant_variables(\n",
    "    data: DataFrame, \n",
    "    min_threshold: float = 1, \n",
    "    target: str = \"is_purchase\", \n",
    "    exclude: list[str] = [\"day_of_year\"]  # Columns to exclude from redundancy check\n",
    ") -> list:\n",
    "    # Exclude the columns that should not be considered (like 'day_of_month')\n",
    "    data_filtered = data.drop(columns=[target] + exclude, errors='ignore')\n",
    "\n",
    "    # Calculate the correlation matrix\n",
    "    corr_matrix: DataFrame = abs(data_filtered.corr())\n",
    "    variables: Index[str] = corr_matrix.columns\n",
    "    vars2drop: list = []\n",
    "\n",
    "    # Iterate over the variables and check correlations\n",
    "    for v1 in variables:\n",
    "        vars_corr: Series = (corr_matrix[v1]).loc[corr_matrix[v1] >= min_threshold]\n",
    "        vars_corr.drop(v1, inplace=True)  # Remove self-correlation\n",
    "        if len(vars_corr) > 1:  # Check if more than one correlated variable\n",
    "            lst_corr = list(vars_corr.index)\n",
    "            for v2 in lst_corr:\n",
    "                if v2 not in vars2drop:\n",
    "                    vars2drop.append(v2)\n",
    "\n",
    "    return vars2drop"
   ]
  },
  {
   "cell_type": "code",
   "execution_count": 72,
   "metadata": {},
   "outputs": [],
   "source": [
    "from pandas import DataFrame, Series, Index\n",
    "\n",
    "def select_redundant_variables(\n",
    "    data: DataFrame, \n",
    "    min_threshold: float = 1, \n",
    "    target: str = \"is_purchase\", \n",
    "    exclude: list[str] = [\"day_of_year\"]\n",
    ") -> list:\n",
    "    print(\"Iniciando a função select_redundant_variables...\")\n",
    "    # Criar uma cópia do DataFrame e remover as colunas que não devem ser consideradas\n",
    "    data_filtered = data.drop(columns=[target] + exclude, errors='ignore')\n",
    "\n",
    "    # Calcular a matriz de correlação\n",
    "    corr_matrix: DataFrame = abs(data_filtered.corr())\n",
    "    variables: Index[str] = corr_matrix.columns\n",
    "    vars2drop: list = []\n",
    "\n",
    "    # Iterar sobre as variáveis e verificar correlações\n",
    "    for v1 in variables:\n",
    "        vars_corr: Series = (corr_matrix[v1]).loc[corr_matrix[v1] >= min_threshold]\n",
    "        vars_corr.drop(v1, inplace=True)  # Remover auto-correlação\n",
    "        if len(vars_corr) > 1:  # Verificar se mais de uma variável correlacionada\n",
    "            lst_corr = list(vars_corr.index)\n",
    "            for v2 in lst_corr:\n",
    "                if v2 not in vars2drop:\n",
    "                    vars2drop.append(v2)\n",
    "\n",
    "    print(\"Saindo da função select_redundant_variables com vars2drop:\", vars2drop)\n",
    "    return vars2drop\n",
    "\n",
    "def apply_remove_redundant_variables(df: DataFrame, min_threshold=0.8, exclude=['day_of_year'], target='is_purchase') -> DataFrame:\n",
    "    df_copy = df.copy()\n",
    "\n",
    "    # Verifique se as colunas alvo estão corretas\n",
    "    print(f\"Excluindo as seguintes colunas: {exclude + [target]}\")  # Debugging step\n",
    "\n",
    "    # Chame a função para obter as colunas a serem removidas\n",
    "    vars2drop = select_redundant_variables(df_copy, min_threshold=min_threshold, exclude=exclude, target=target)\n",
    "    \n",
    "    # Imprimindo informações detalhadas\n",
    "    print(f\"Variance threshold: {min_threshold}, Variables to drop: {vars2drop}\")\n",
    "    \n",
    "    # Verifique se as colunas a serem removidas estão realmente presentes\n",
    "    missing_vars = [var for var in vars2drop if var not in df_copy.columns]\n",
    "    if missing_vars:\n",
    "        print(f\"As seguintes colunas não estão presentes no DataFrame: {missing_vars}\")\n",
    "\n",
    "    # Remover as colunas do DataFrame, mas manter a coluna target\n",
    "    df_vars_drop = df_copy.drop(columns=vars2drop, errors='ignore')\n",
    "    print(\"Columns to drop:\", vars2drop)\n",
    "    print(\"Remaining columns:\", df_vars_drop.columns)\n",
    "\n",
    "    return df_vars_drop\n"
   ]
  },
  {
   "cell_type": "code",
   "execution_count": 74,
   "metadata": {},
   "outputs": [
    {
     "name": "stdout",
     "output_type": "stream",
     "text": [
      "Applying strategy 2 with target 'is_purchase'...\n",
      "Excluindo as seguintes colunas: ['day_of_year', 'is_purchase']\n",
      "Iniciando a função select_redundant_variables...\n",
      "Saindo da função select_redundant_variables com vars2drop: ['category_code_lvl_2', 'product_category', 'category_code_lvl_1']\n",
      "Variance threshold: 0.7, Variables to drop: ['category_code_lvl_2', 'product_category', 'category_code_lvl_1']\n",
      "Columns to drop: ['category_code_lvl_2', 'product_category', 'category_code_lvl_1']\n",
      "Remaining columns: Index(['price', 'is_purchase', 'activity_in_session', 'week_of_month',\n",
      "       'is_weekend', 'day', 'brand_value', 'time_of_day_sin',\n",
      "       'time_of_day_cos', 'day_of_week_sin', 'day_of_week_cos', 'hour_sin',\n",
      "       'hour_cos', 'min_sin', 'min_cos'],\n",
      "      dtype='object')\n",
      "Final DataFrame after applying strategy 2:\n",
      "         price  is_purchase  activity_in_session  week_of_month  is_weekend  \\\n",
      "0       261.55            0                  3.0              2           0   \n",
      "3655    915.08            1                  4.0              2           0   \n",
      "3654      2.63            0                  2.0              2           0   \n",
      "3653    980.21            1                  4.0              2           0   \n",
      "3652    194.89            1                  4.0              2           0   \n",
      "...        ...          ...                  ...            ...         ...   \n",
      "185188  472.85            0                  2.0              4           0   \n",
      "185187  106.55            0                  8.0              4           0   \n",
      "185186  916.37            0                  2.0              4           0   \n",
      "185164   92.64            0                  8.0              4           0   \n",
      "188629   28.29            0                  2.0              4           0   \n",
      "\n",
      "        day  brand_value  time_of_day_sin  time_of_day_cos  day_of_week_sin  \\\n",
      "0         8        455.0            0.624           -0.781           -0.775   \n",
      "3655      8        779.2           -0.975            0.221           -0.775   \n",
      "3654      8         16.9            0.624           -0.781           -0.775   \n",
      "3653      8        779.2            0.624           -0.781           -0.775   \n",
      "3652      8        282.5           -0.975            0.221           -0.775   \n",
      "...     ...          ...              ...              ...              ...   \n",
      "185188   28        779.2            0.624           -0.781           -0.081   \n",
      "185187   28        213.0           -0.975            0.221           -0.081   \n",
      "185186   28        779.2            0.000            1.000           -0.081   \n",
      "185164   28        168.7            0.624           -0.781           -0.081   \n",
      "188629   28         43.7            0.624           -0.781           -0.081   \n",
      "\n",
      "        day_of_week_cos  hour_sin  hour_cos  min_sin  min_cos  \n",
      "0                -0.632     0.259    -0.966    0.669   -0.743  \n",
      "3655             -0.632    -0.966    -0.259    0.866    0.500  \n",
      "3654             -0.632     0.966    -0.259    0.105    0.995  \n",
      "3653             -0.632     0.966    -0.259    0.208    0.978  \n",
      "3652             -0.632    -0.707    -0.707    0.914    0.407  \n",
      "...                 ...       ...       ...      ...      ...  \n",
      "185188           -0.997     0.966    -0.259    0.105    0.995  \n",
      "185187           -0.997    -0.866    -0.500   -0.105    0.995  \n",
      "185186           -0.997     0.707     0.707   -0.914    0.407  \n",
      "185164           -0.997     0.500    -0.866   -0.407   -0.914  \n",
      "188629           -0.997     0.866    -0.500    0.407   -0.914  \n",
      "\n",
      "[188630 rows x 15 columns]\n",
      "         price  is_purchase  activity_in_session  week_of_month  is_weekend  \\\n",
      "0       261.55            0                  3.0              2           0   \n",
      "3655    915.08            1                  4.0              2           0   \n",
      "3654      2.63            0                  2.0              2           0   \n",
      "3653    980.21            1                  4.0              2           0   \n",
      "3652    194.89            1                  4.0              2           0   \n",
      "...        ...          ...                  ...            ...         ...   \n",
      "185188  472.85            0                  2.0              4           0   \n",
      "185187  106.55            0                  8.0              4           0   \n",
      "185186  916.37            0                  2.0              4           0   \n",
      "185164   92.64            0                  8.0              4           0   \n",
      "188629   28.29            0                  2.0              4           0   \n",
      "\n",
      "        day  brand_value  time_of_day_sin  time_of_day_cos  day_of_week_sin  \\\n",
      "0         8        455.0            0.624           -0.781           -0.775   \n",
      "3655      8        779.2           -0.975            0.221           -0.775   \n",
      "3654      8         16.9            0.624           -0.781           -0.775   \n",
      "3653      8        779.2            0.624           -0.781           -0.775   \n",
      "3652      8        282.5           -0.975            0.221           -0.775   \n",
      "...     ...          ...              ...              ...              ...   \n",
      "185188   28        779.2            0.624           -0.781           -0.081   \n",
      "185187   28        213.0           -0.975            0.221           -0.081   \n",
      "185186   28        779.2            0.000            1.000           -0.081   \n",
      "185164   28        168.7            0.624           -0.781           -0.081   \n",
      "188629   28         43.7            0.624           -0.781           -0.081   \n",
      "\n",
      "        day_of_week_cos  hour_sin  hour_cos  min_sin  min_cos  \n",
      "0                -0.632     0.259    -0.966    0.669   -0.743  \n",
      "3655             -0.632    -0.966    -0.259    0.866    0.500  \n",
      "3654             -0.632     0.966    -0.259    0.105    0.995  \n",
      "3653             -0.632     0.966    -0.259    0.208    0.978  \n",
      "3652             -0.632    -0.707    -0.707    0.914    0.407  \n",
      "...                 ...       ...       ...      ...      ...  \n",
      "185188           -0.997     0.966    -0.259    0.105    0.995  \n",
      "185187           -0.997    -0.866    -0.500   -0.105    0.995  \n",
      "185186           -0.997     0.707     0.707   -0.914    0.407  \n",
      "185164           -0.997     0.500    -0.866   -0.407   -0.914  \n",
      "188629           -0.997     0.866    -0.500    0.407   -0.914  \n",
      "\n",
      "[188630 rows x 15 columns]\n"
     ]
    }
   ],
   "source": [
    "\n",
    "def apply_strategy_2(df: DataFrame, target='is_purchase'):\n",
    "    print(f\"Applying strategy 2 with target '{target}'...\")\n",
    "    df_copy = apply_remove_redundant_variables(df, min_threshold=0.7, exclude=['day_of_year'], target=target)\n",
    "    print(\"Final DataFrame after applying strategy 2:\")\n",
    "    print(df_copy)\n",
    "    return df_copy\n",
    "\n",
    "# Chamada da função com o seu DataFrame df\n",
    "result_df = apply_strategy_2(df, target='is_purchase')\n",
    "print(result_df)"
   ]
  },
  {
   "cell_type": "code",
   "execution_count": 75,
   "metadata": {},
   "outputs": [
    {
     "name": "stdout",
     "output_type": "stream",
     "text": [
      "Excluindo as seguintes colunas: ['day_of_year', 'is_purchase']\n",
      "Iniciando a função select_redundant_variables...\n",
      "Saindo da função select_redundant_variables com vars2drop: ['category_code_lvl_2', 'product_category', 'category_code_lvl_1']\n",
      "Variance threshold: 0.7, Variables to drop: ['category_code_lvl_2', 'product_category', 'category_code_lvl_1']\n",
      "Columns to drop: ['category_code_lvl_2', 'product_category', 'category_code_lvl_1']\n",
      "Remaining columns: Index(['price', 'is_purchase', 'activity_in_session', 'week_of_month',\n",
      "       'is_weekend', 'day', 'brand_value', 'time_of_day_sin',\n",
      "       'time_of_day_cos', 'day_of_week_sin', 'day_of_week_cos', 'hour_sin',\n",
      "       'hour_cos', 'min_sin', 'min_cos'],\n",
      "      dtype='object')\n"
     ]
    }
   ],
   "source": [
    "from pandas import DataFrame, Series\n",
    "from sklearn.preprocessing import MinMaxScaler\n",
    "\n",
    "def apply_strategy_2(df):\n",
    "\n",
    "\n",
    "    df_copy = apply_remove_redundant_variables(df, min_threshold=0.7, exclude=['day_of_year'], target=target)\n",
    "\n",
    "\n",
    "    return df_copy\n",
    "\n",
    "\n",
    "df_2=df.copy()\n",
    "\n",
    "df_2=apply_strategy_2(df_2)"
   ]
  },
  {
   "cell_type": "code",
   "execution_count": 112,
   "metadata": {},
   "outputs": [
    {
     "data": {
      "text/html": [
       "<div>\n",
       "<style scoped>\n",
       "    .dataframe tbody tr th:only-of-type {\n",
       "        vertical-align: middle;\n",
       "    }\n",
       "\n",
       "    .dataframe tbody tr th {\n",
       "        vertical-align: top;\n",
       "    }\n",
       "\n",
       "    .dataframe thead th {\n",
       "        text-align: right;\n",
       "    }\n",
       "</style>\n",
       "<table border=\"1\" class=\"dataframe\">\n",
       "  <thead>\n",
       "    <tr style=\"text-align: right;\">\n",
       "      <th></th>\n",
       "      <th>price</th>\n",
       "      <th>is_purchase</th>\n",
       "      <th>activity_in_session</th>\n",
       "      <th>week_of_month</th>\n",
       "      <th>is_weekend</th>\n",
       "      <th>day</th>\n",
       "      <th>brand_value</th>\n",
       "      <th>time_of_day_sin</th>\n",
       "      <th>time_of_day_cos</th>\n",
       "      <th>day_of_week_sin</th>\n",
       "      <th>day_of_week_cos</th>\n",
       "      <th>hour_sin</th>\n",
       "      <th>hour_cos</th>\n",
       "      <th>min_sin</th>\n",
       "      <th>min_cos</th>\n",
       "    </tr>\n",
       "  </thead>\n",
       "  <tbody>\n",
       "    <tr>\n",
       "      <th>0</th>\n",
       "      <td>949.47</td>\n",
       "      <td>0</td>\n",
       "      <td>3.0</td>\n",
       "      <td>1</td>\n",
       "      <td>0</td>\n",
       "      <td>1</td>\n",
       "      <td>779.2</td>\n",
       "      <td>0.624</td>\n",
       "      <td>-0.781</td>\n",
       "      <td>-0.775</td>\n",
       "      <td>-0.632</td>\n",
       "      <td>0.966</td>\n",
       "      <td>0.259</td>\n",
       "      <td>-0.105</td>\n",
       "      <td>0.995</td>\n",
       "    </tr>\n",
       "    <tr>\n",
       "      <th>1408</th>\n",
       "      <td>170.14</td>\n",
       "      <td>0</td>\n",
       "      <td>25.0</td>\n",
       "      <td>1</td>\n",
       "      <td>0</td>\n",
       "      <td>1</td>\n",
       "      <td>282.5</td>\n",
       "      <td>-0.975</td>\n",
       "      <td>0.221</td>\n",
       "      <td>-0.775</td>\n",
       "      <td>-0.632</td>\n",
       "      <td>-0.966</td>\n",
       "      <td>-0.259</td>\n",
       "      <td>-0.208</td>\n",
       "      <td>-0.978</td>\n",
       "    </tr>\n",
       "    <tr>\n",
       "      <th>1407</th>\n",
       "      <td>44.53</td>\n",
       "      <td>1</td>\n",
       "      <td>0.0</td>\n",
       "      <td>1</td>\n",
       "      <td>0</td>\n",
       "      <td>1</td>\n",
       "      <td>51.1</td>\n",
       "      <td>-0.975</td>\n",
       "      <td>0.221</td>\n",
       "      <td>-0.775</td>\n",
       "      <td>-0.632</td>\n",
       "      <td>0.000</td>\n",
       "      <td>-1.000</td>\n",
       "      <td>-0.669</td>\n",
       "      <td>0.743</td>\n",
       "    </tr>\n",
       "    <tr>\n",
       "      <th>1406</th>\n",
       "      <td>211.32</td>\n",
       "      <td>0</td>\n",
       "      <td>1.0</td>\n",
       "      <td>1</td>\n",
       "      <td>0</td>\n",
       "      <td>1</td>\n",
       "      <td>173.5</td>\n",
       "      <td>-0.975</td>\n",
       "      <td>0.221</td>\n",
       "      <td>-0.775</td>\n",
       "      <td>-0.632</td>\n",
       "      <td>-0.866</td>\n",
       "      <td>-0.500</td>\n",
       "      <td>0.105</td>\n",
       "      <td>-0.995</td>\n",
       "    </tr>\n",
       "    <tr>\n",
       "      <th>1405</th>\n",
       "      <td>453.16</td>\n",
       "      <td>1</td>\n",
       "      <td>3.0</td>\n",
       "      <td>1</td>\n",
       "      <td>0</td>\n",
       "      <td>1</td>\n",
       "      <td>779.2</td>\n",
       "      <td>-0.624</td>\n",
       "      <td>-0.781</td>\n",
       "      <td>-0.775</td>\n",
       "      <td>-0.632</td>\n",
       "      <td>-0.707</td>\n",
       "      <td>0.707</td>\n",
       "      <td>0.407</td>\n",
       "      <td>-0.914</td>\n",
       "    </tr>\n",
       "  </tbody>\n",
       "</table>\n",
       "</div>"
      ],
      "text/plain": [
       "       price  is_purchase  activity_in_session  week_of_month  is_weekend  \\\n",
       "0     949.47            0                  3.0              1           0   \n",
       "1408  170.14            0                 25.0              1           0   \n",
       "1407   44.53            1                  0.0              1           0   \n",
       "1406  211.32            0                  1.0              1           0   \n",
       "1405  453.16            1                  3.0              1           0   \n",
       "\n",
       "      day  brand_value  time_of_day_sin  time_of_day_cos  day_of_week_sin  \\\n",
       "0       1        779.2            0.624           -0.781           -0.775   \n",
       "1408    1        282.5           -0.975            0.221           -0.775   \n",
       "1407    1         51.1           -0.975            0.221           -0.775   \n",
       "1406    1        173.5           -0.975            0.221           -0.775   \n",
       "1405    1        779.2           -0.624           -0.781           -0.775   \n",
       "\n",
       "      day_of_week_cos  hour_sin  hour_cos  min_sin  min_cos  \n",
       "0              -0.632     0.966     0.259   -0.105    0.995  \n",
       "1408           -0.632    -0.966    -0.259   -0.208   -0.978  \n",
       "1407           -0.632     0.000    -1.000   -0.669    0.743  \n",
       "1406           -0.632    -0.866    -0.500    0.105   -0.995  \n",
       "1405           -0.632    -0.707     0.707    0.407   -0.914  "
      ]
     },
     "execution_count": 112,
     "metadata": {},
     "output_type": "execute_result"
    }
   ],
   "source": [
    "df_2.head()"
   ]
  },
  {
   "cell_type": "markdown",
   "metadata": {},
   "source": [
    "## Feat 2 train/test split "
   ]
  },
  {
   "cell_type": "code",
   "execution_count": 76,
   "metadata": {},
   "outputs": [
    {
     "name": "stdout",
     "output_type": "stream",
     "text": [
      "Labels=[0, 1]\n"
     ]
    },
    {
     "data": {
      "image/png": "[encoded data removed]",
      "text/plain": [
       "<Figure size 600x400 with 1 Axes>"
      ]
     },
     "metadata": {},
     "output_type": "display_data"
    }
   ],
   "source": [
    "if evaluate==True:\n",
    "\n",
    "    from pandas import concat\n",
    "    from matplotlib.pyplot import figure, show\n",
    "    from sklearn.model_selection import train_test_split\n",
    "    from dslabs_functions import plot_multibar_chart\n",
    "\n",
    "\n",
    "    # Call the function to split the data\n",
    "    from numpy import array, ndarray\n",
    "\n",
    "\n",
    "    y_2, X_2, labels, values = define_target_and_prepare_data(df_2, target)\n",
    "\n",
    "\n",
    "\n",
    "    train_2, test_2 = split_data_save_csv(pd.DataFrame(X_2, columns=df_2.columns), y_2, data_columns=df_2.columns, target_column=target)\n",
    "\n",
    "    # Distribution check\n",
    "    values[\"Train\"] = [\n",
    "        len(train_2[train_2[target] == 0]),\n",
    "        len(train_2[train_2[target] == 1]),\n",
    "    ]\n",
    "    values[\"Test\"] = [\n",
    "        len(test_2[test_2[target] == 0]),\n",
    "        len(test_2[test_2[target] == 1]),\n",
    "    ]\n",
    "\n",
    "    # Visualize the distribution\n",
    "    figure(figsize=(6, 4))\n",
    "    plot_multibar_chart(labels, values, title=\"Data distribution per dataset\")\n",
    "    show()"
   ]
  },
  {
   "cell_type": "markdown",
   "metadata": {},
   "source": [
    "## Feat 2 evaluate"
   ]
  },
  {
   "cell_type": "markdown",
   "metadata": {},
   "source": [
    "### eval metric - precision"
   ]
  },
  {
   "cell_type": "code",
   "execution_count": 77,
   "metadata": {},
   "outputs": [
    {
     "data": {
      "image/png": "[encoded data removed]",
      "text/plain": [
       "<Figure size 640x480 with 1 Axes>"
      ]
     },
     "metadata": {},
     "output_type": "display_data"
    }
   ],
   "source": [
    "if evaluate == True:\n",
    "    figure()\n",
    "    eval_2: dict[str, list] = evaluate_approach(train_2, test_2, target='is_purchase', metric=eval_metric_1)\n",
    "    plot_multibar_chart(\n",
    "        [\"NB\", \"KNN\"], eval_2, title=f\"{file_tag}_approach_2_evaluation ({eval_metric_1})\", percentage=True\n",
    "    )\n",
    "    savefig(f\"images/{file_tag}_approach_2_evaluation_{eval_metric_1}.png\")\n",
    "    show()"
   ]
  },
  {
   "cell_type": "markdown",
   "metadata": {},
   "source": [
    "### eval metric - f2"
   ]
  },
  {
   "cell_type": "code",
   "execution_count": 83,
   "metadata": {},
   "outputs": [
    {
     "name": "stdout",
     "output_type": "stream",
     "text": [
      "Excluindo as seguintes colunas: ['day_of_year', 'is_purchase']\n",
      "Iniciando a função select_redundant_variables...\n",
      "Saindo da função select_redundant_variables com vars2drop: ['category_code_lvl_2', 'product_category', 'category_code_lvl_1']\n",
      "Variance threshold: 0.9, Variables to drop: ['category_code_lvl_2', 'product_category', 'category_code_lvl_1']\n",
      "Columns to drop: ['category_code_lvl_2', 'product_category', 'category_code_lvl_1']\n",
      "Remaining columns: Index(['price', 'is_purchase', 'activity_in_session', 'week_of_month',\n",
      "       'is_weekend', 'day', 'brand_value', 'time_of_day_sin',\n",
      "       'time_of_day_cos', 'day_of_week_sin', 'day_of_week_cos', 'hour_sin',\n",
      "       'hour_cos', 'min_sin', 'min_cos'],\n",
      "      dtype='object')\n"
     ]
    }
   ],
   "source": [
    "from pandas import DataFrame, Series\n",
    "from sklearn.preprocessing import MinMaxScaler\n",
    "\n",
    "def apply_strategy_2(df):\n",
    "\n",
    "\n",
    "    df_copy = apply_remove_redundant_variables(df, min_threshold=0.9, exclude=['day_of_year'], target=target)\n",
    "\n",
    "\n",
    "    return df_copy\n",
    "\n",
    "\n",
    "df_2=df.copy()\n",
    "\n",
    "df_2=apply_strategy_2(df_2)"
   ]
  },
  {
   "cell_type": "code",
   "execution_count": 84,
   "metadata": {},
   "outputs": [
    {
     "name": "stdout",
     "output_type": "stream",
     "text": [
      "Labels=[0, 1]\n"
     ]
    },
    {
     "data": {
      "image/png": "[encoded data removed]",
      "text/plain": [
       "<Figure size 600x400 with 1 Axes>"
      ]
     },
     "metadata": {},
     "output_type": "display_data"
    }
   ],
   "source": [
    "if evaluate==True:\n",
    "\n",
    "    from pandas import concat\n",
    "    from matplotlib.pyplot import figure, show\n",
    "    from sklearn.model_selection import train_test_split\n",
    "    from dslabs_functions import plot_multibar_chart\n",
    "\n",
    "\n",
    "    # Call the function to split the data\n",
    "    from numpy import array, ndarray\n",
    "\n",
    "\n",
    "    y_2, X_2, labels, values = define_target_and_prepare_data(df_2, target)\n",
    "\n",
    "\n",
    "\n",
    "    train_2, test_2 = split_data_save_csv(pd.DataFrame(X_2, columns=df_2.columns), y_2, data_columns=df_2.columns, target_column=target)\n",
    "\n",
    "    # Distribution check\n",
    "    values[\"Train\"] = [\n",
    "        len(train_2[train_2[target] == 0]),\n",
    "        len(train_2[train_2[target] == 1]),\n",
    "    ]\n",
    "    values[\"Test\"] = [\n",
    "        len(test_2[test_2[target] == 0]),\n",
    "        len(test_2[test_2[target] == 1]),\n",
    "    ]\n",
    "\n",
    "    # Visualize the distribution\n",
    "    figure(figsize=(6, 4))\n",
    "    plot_multibar_chart(labels, values, title=\"Data distribution per dataset\")\n",
    "    show()"
   ]
  },
  {
   "cell_type": "code",
   "execution_count": 85,
   "metadata": {},
   "outputs": [
    {
     "data": {
      "image/png": "[encoded data removed]",
      "text/plain": [
       "<Figure size 640x480 with 1 Axes>"
      ]
     },
     "metadata": {},
     "output_type": "display_data"
    }
   ],
   "source": [
    "if evaluate == True:\n",
    "    figure()\n",
    "    eval_2: dict[str, list] = evaluate_approach(train_2, test_2, target='is_purchase', metric=eval_metric_2)\n",
    "    plot_multibar_chart(\n",
    "        [\"NB\", \"KNN\"], eval_2, title=f\"{file_tag}_approach_2_evaluation ({eval_metric_2})\", percentage=True\n",
    "    )\n",
    "    savefig(f\"images/{file_tag}_approach_2_evaluation_{eval_metric_2}.png\")\n",
    "    show()"
   ]
  },
  {
   "cell_type": "code",
   "execution_count": 78,
   "metadata": {},
   "outputs": [
    {
     "data": {
      "text/html": [
       "<div>\n",
       "<style scoped>\n",
       "    .dataframe tbody tr th:only-of-type {\n",
       "        vertical-align: middle;\n",
       "    }\n",
       "\n",
       "    .dataframe tbody tr th {\n",
       "        vertical-align: top;\n",
       "    }\n",
       "\n",
       "    .dataframe thead th {\n",
       "        text-align: right;\n",
       "    }\n",
       "</style>\n",
       "<table border=\"1\" class=\"dataframe\">\n",
       "  <thead>\n",
       "    <tr style=\"text-align: right;\">\n",
       "      <th></th>\n",
       "      <th>price</th>\n",
       "      <th>activity_in_session</th>\n",
       "      <th>week_of_month</th>\n",
       "      <th>is_weekend</th>\n",
       "      <th>day</th>\n",
       "      <th>brand_value</th>\n",
       "      <th>time_of_day_sin</th>\n",
       "      <th>time_of_day_cos</th>\n",
       "      <th>day_of_week_sin</th>\n",
       "      <th>day_of_week_cos</th>\n",
       "      <th>hour_sin</th>\n",
       "      <th>hour_cos</th>\n",
       "      <th>min_sin</th>\n",
       "      <th>min_cos</th>\n",
       "    </tr>\n",
       "  </thead>\n",
       "  <tbody>\n",
       "    <tr>\n",
       "      <th>0</th>\n",
       "      <td>261.55</td>\n",
       "      <td>3.0</td>\n",
       "      <td>2.0</td>\n",
       "      <td>0.0</td>\n",
       "      <td>8.0</td>\n",
       "      <td>455.0</td>\n",
       "      <td>0.624</td>\n",
       "      <td>-0.781</td>\n",
       "      <td>-0.775</td>\n",
       "      <td>-0.632</td>\n",
       "      <td>0.259</td>\n",
       "      <td>-0.966</td>\n",
       "      <td>0.669</td>\n",
       "      <td>-0.743</td>\n",
       "    </tr>\n",
       "    <tr>\n",
       "      <th>1</th>\n",
       "      <td>915.08</td>\n",
       "      <td>4.0</td>\n",
       "      <td>2.0</td>\n",
       "      <td>0.0</td>\n",
       "      <td>8.0</td>\n",
       "      <td>779.2</td>\n",
       "      <td>-0.975</td>\n",
       "      <td>0.221</td>\n",
       "      <td>-0.775</td>\n",
       "      <td>-0.632</td>\n",
       "      <td>-0.966</td>\n",
       "      <td>-0.259</td>\n",
       "      <td>0.866</td>\n",
       "      <td>0.500</td>\n",
       "    </tr>\n",
       "    <tr>\n",
       "      <th>2</th>\n",
       "      <td>2.63</td>\n",
       "      <td>2.0</td>\n",
       "      <td>2.0</td>\n",
       "      <td>0.0</td>\n",
       "      <td>8.0</td>\n",
       "      <td>16.9</td>\n",
       "      <td>0.624</td>\n",
       "      <td>-0.781</td>\n",
       "      <td>-0.775</td>\n",
       "      <td>-0.632</td>\n",
       "      <td>0.966</td>\n",
       "      <td>-0.259</td>\n",
       "      <td>0.105</td>\n",
       "      <td>0.995</td>\n",
       "    </tr>\n",
       "    <tr>\n",
       "      <th>3</th>\n",
       "      <td>980.21</td>\n",
       "      <td>4.0</td>\n",
       "      <td>2.0</td>\n",
       "      <td>0.0</td>\n",
       "      <td>8.0</td>\n",
       "      <td>779.2</td>\n",
       "      <td>0.624</td>\n",
       "      <td>-0.781</td>\n",
       "      <td>-0.775</td>\n",
       "      <td>-0.632</td>\n",
       "      <td>0.966</td>\n",
       "      <td>-0.259</td>\n",
       "      <td>0.208</td>\n",
       "      <td>0.978</td>\n",
       "    </tr>\n",
       "    <tr>\n",
       "      <th>4</th>\n",
       "      <td>194.89</td>\n",
       "      <td>4.0</td>\n",
       "      <td>2.0</td>\n",
       "      <td>0.0</td>\n",
       "      <td>8.0</td>\n",
       "      <td>282.5</td>\n",
       "      <td>-0.975</td>\n",
       "      <td>0.221</td>\n",
       "      <td>-0.775</td>\n",
       "      <td>-0.632</td>\n",
       "      <td>-0.707</td>\n",
       "      <td>-0.707</td>\n",
       "      <td>0.914</td>\n",
       "      <td>0.407</td>\n",
       "    </tr>\n",
       "  </tbody>\n",
       "</table>\n",
       "</div>"
      ],
      "text/plain": [
       "    price  activity_in_session  week_of_month  is_weekend  day  brand_value  \\\n",
       "0  261.55                  3.0            2.0         0.0  8.0        455.0   \n",
       "1  915.08                  4.0            2.0         0.0  8.0        779.2   \n",
       "2    2.63                  2.0            2.0         0.0  8.0         16.9   \n",
       "3  980.21                  4.0            2.0         0.0  8.0        779.2   \n",
       "4  194.89                  4.0            2.0         0.0  8.0        282.5   \n",
       "\n",
       "   time_of_day_sin  time_of_day_cos  day_of_week_sin  day_of_week_cos  \\\n",
       "0            0.624           -0.781           -0.775           -0.632   \n",
       "1           -0.975            0.221           -0.775           -0.632   \n",
       "2            0.624           -0.781           -0.775           -0.632   \n",
       "3            0.624           -0.781           -0.775           -0.632   \n",
       "4           -0.975            0.221           -0.775           -0.632   \n",
       "\n",
       "   hour_sin  hour_cos  min_sin  min_cos  \n",
       "0     0.259    -0.966    0.669   -0.743  \n",
       "1    -0.966    -0.259    0.866    0.500  \n",
       "2     0.966    -0.259    0.105    0.995  \n",
       "3     0.966    -0.259    0.208    0.978  \n",
       "4    -0.707    -0.707    0.914    0.407  "
      ]
     },
     "execution_count": 78,
     "metadata": {},
     "output_type": "execute_result"
    }
   ],
   "source": [
    "train_2.head()"
   ]
  },
  {
   "cell_type": "markdown",
   "metadata": {},
   "source": [
    "# Approach uplift comparison"
   ]
  },
  {
   "cell_type": "markdown",
   "metadata": {},
   "source": [
    "## uplift df"
   ]
  },
  {
   "cell_type": "code",
   "execution_count": 87,
   "metadata": {},
   "outputs": [
    {
     "data": {
      "text/html": [
       "<div>\n",
       "<style scoped>\n",
       "    .dataframe tbody tr th:only-of-type {\n",
       "        vertical-align: middle;\n",
       "    }\n",
       "\n",
       "    .dataframe tbody tr th {\n",
       "        vertical-align: top;\n",
       "    }\n",
       "\n",
       "    .dataframe thead tr th {\n",
       "        text-align: left;\n",
       "    }\n",
       "</style>\n",
       "<table border=\"1\" class=\"dataframe\">\n",
       "  <thead>\n",
       "    <tr>\n",
       "      <th></th>\n",
       "      <th colspan=\"6\" halign=\"left\">Approach 1</th>\n",
       "      <th colspan=\"6\" halign=\"left\">Approach 2</th>\n",
       "      <th colspan=\"6\" halign=\"left\">Uplift</th>\n",
       "    </tr>\n",
       "    <tr>\n",
       "      <th></th>\n",
       "      <th>accuracy</th>\n",
       "      <th>recall</th>\n",
       "      <th>precision</th>\n",
       "      <th>auc</th>\n",
       "      <th>f1</th>\n",
       "      <th>f2</th>\n",
       "      <th>accuracy</th>\n",
       "      <th>recall</th>\n",
       "      <th>precision</th>\n",
       "      <th>auc</th>\n",
       "      <th>f1</th>\n",
       "      <th>f2</th>\n",
       "      <th>accuracy</th>\n",
       "      <th>recall</th>\n",
       "      <th>precision</th>\n",
       "      <th>auc</th>\n",
       "      <th>f1</th>\n",
       "      <th>f2</th>\n",
       "    </tr>\n",
       "  </thead>\n",
       "  <tbody>\n",
       "    <tr>\n",
       "      <th>Naive Bayes</th>\n",
       "      <td>0.523777</td>\n",
       "      <td>0.458619</td>\n",
       "      <td>0.227334</td>\n",
       "      <td>0.500752</td>\n",
       "      <td>0.303985</td>\n",
       "      <td>0.381079</td>\n",
       "      <td>0.515418</td>\n",
       "      <td>0.464698</td>\n",
       "      <td>0.224883</td>\n",
       "      <td>0.497495</td>\n",
       "      <td>0.303090</td>\n",
       "      <td>0.38301</td>\n",
       "      <td>-0.008359</td>\n",
       "      <td>0.006079</td>\n",
       "      <td>-0.002451</td>\n",
       "      <td>-0.003257</td>\n",
       "      <td>-0.000895</td>\n",
       "      <td>0.001931</td>\n",
       "    </tr>\n",
       "    <tr>\n",
       "      <th>KNN</th>\n",
       "      <td>0.675909</td>\n",
       "      <td>0.256001</td>\n",
       "      <td>0.271982</td>\n",
       "      <td>0.527525</td>\n",
       "      <td>0.263749</td>\n",
       "      <td>0.259045</td>\n",
       "      <td>0.659952</td>\n",
       "      <td>0.273847</td>\n",
       "      <td>0.261478</td>\n",
       "      <td>0.523513</td>\n",
       "      <td>0.267519</td>\n",
       "      <td>0.27128</td>\n",
       "      <td>-0.015957</td>\n",
       "      <td>0.017846</td>\n",
       "      <td>-0.010504</td>\n",
       "      <td>-0.004012</td>\n",
       "      <td>0.003770</td>\n",
       "      <td>0.012235</td>\n",
       "    </tr>\n",
       "  </tbody>\n",
       "</table>\n",
       "</div>"
      ],
      "text/plain": [
       "            Approach 1                                                    \\\n",
       "              accuracy    recall precision       auc        f1        f2   \n",
       "Naive Bayes   0.523777  0.458619  0.227334  0.500752  0.303985  0.381079   \n",
       "KNN           0.675909  0.256001  0.271982  0.527525  0.263749  0.259045   \n",
       "\n",
       "            Approach 2                                                   \\\n",
       "              accuracy    recall precision       auc        f1       f2   \n",
       "Naive Bayes   0.515418  0.464698  0.224883  0.497495  0.303090  0.38301   \n",
       "KNN           0.659952  0.273847  0.261478  0.523513  0.267519  0.27128   \n",
       "\n",
       "               Uplift                                                    \n",
       "             accuracy    recall precision       auc        f1        f2  \n",
       "Naive Bayes -0.008359  0.006079 -0.002451 -0.003257 -0.000895  0.001931  \n",
       "KNN         -0.015957  0.017846 -0.010504 -0.004012  0.003770  0.012235  "
      ]
     },
     "metadata": {},
     "output_type": "display_data"
    }
   ],
   "source": [
    "if evaluate == True:\n",
    "    \n",
    "    algorithms = ['Naive Bayes', 'KNN']\n",
    "\n",
    "    # Create DataFrames for eval_1 and eval_2\n",
    "    df_eval_1 = pd.DataFrame(eval_1, index=algorithms)\n",
    "    df_eval_2 = pd.DataFrame(eval_2, index=algorithms)\n",
    "\n",
    "    # Calculate uplift\n",
    "    df_uplift = df_eval_2 - df_eval_1\n",
    "\n",
    "\n",
    "\n",
    "    # Combine everything into one DataFrame (without misalignment issues)\n",
    "    comparison_df = pd.concat([df_eval_1, df_eval_2, df_uplift], axis=1)\n",
    "    comparison_df.columns = pd.MultiIndex.from_product([['Approach 1', 'Approach 2', 'Uplift'], eval_1.keys()])\n",
    "\n",
    "\n",
    "\n",
    "    # Display the DataFrame\n",
    "    display(comparison_df)"
   ]
  },
  {
   "cell_type": "markdown",
   "metadata": {},
   "source": [
    "# Analysis\n",
    "\n",
    "- No improvement (actuall loss)\n",
    "\n",
    "Comparing with previous dataset:\n",
    "- For now lets go with outliers values dataset, because the metrics decreaseed a lot in the scalling treatment\n",
    "\n",
    "\n",
    "Decision:\n",
    "- In balancing, use outliers/missing values dataset"
   ]
  },
  {
   "cell_type": "markdown",
   "metadata": {},
   "source": [
    "# save to csv"
   ]
  },
  {
   "cell_type": "code",
   "execution_count": 88,
   "metadata": {},
   "outputs": [
    {
     "name": "stdout",
     "output_type": "stream",
     "text": [
      "Excluindo as seguintes colunas: ['day_of_year', 'is_purchase']\n",
      "Iniciando a função select_redundant_variables...\n",
      "Saindo da função select_redundant_variables com vars2drop: ['category_code_lvl_2', 'product_category', 'category_code_lvl_1']\n",
      "Variance threshold: 0.9, Variables to drop: ['category_code_lvl_2', 'product_category', 'category_code_lvl_1']\n",
      "Columns to drop: ['category_code_lvl_2', 'product_category', 'category_code_lvl_1']\n",
      "Remaining columns: Index(['price', 'is_purchase', 'activity_in_session', 'week_of_month',\n",
      "       'is_weekend', 'day', 'brand_value', 'time_of_day_sin',\n",
      "       'time_of_day_cos', 'day_of_week_sin', 'day_of_week_cos', 'hour_sin',\n",
      "       'hour_cos', 'min_sin', 'min_cos'],\n",
      "      dtype='object')\n",
      "Index(['price', 'is_purchase', 'activity_in_session', 'week_of_month',\n",
      "       'is_weekend', 'day', 'brand_value', 'time_of_day_sin',\n",
      "       'time_of_day_cos', 'day_of_week_sin', 'day_of_week_cos', 'hour_sin',\n",
      "       'hour_cos', 'min_sin', 'min_cos'],\n",
      "      dtype='object')\n"
     ]
    }
   ],
   "source": [
    "if test_data==False:\n",
    "    \n",
    "    \n",
    "    data_save=df.copy()\n",
    "\n",
    "    data_save=apply_strategy_2(data_save)\n",
    "        \n",
    "    data_save.to_csv(f\"dataset/df_ecom_2_5_feat_eng_input.csv\", index=False)\n",
    "\n",
    "\n",
    "    print(data_save.columns)\n",
    "\n"
   ]
  },
  {
   "cell_type": "markdown",
   "metadata": {},
   "source": [
    "## train test csv"
   ]
  },
  {
   "cell_type": "code",
   "execution_count": 89,
   "metadata": {},
   "outputs": [
    {
     "name": "stdout",
     "output_type": "stream",
     "text": [
      "Labels=[0, 1]\n",
      "Index(['price', 'activity_in_session', 'week_of_month', 'is_weekend', 'day',\n",
      "       'brand_value', 'time_of_day_sin', 'time_of_day_cos', 'day_of_week_sin',\n",
      "       'day_of_week_cos', 'hour_sin', 'hour_cos', 'min_sin', 'min_cos',\n",
      "       'is_purchase'],\n",
      "      dtype='object')\n",
      "Index(['price', 'activity_in_session', 'week_of_month', 'is_weekend', 'day',\n",
      "       'brand_value', 'time_of_day_sin', 'time_of_day_cos', 'day_of_week_sin',\n",
      "       'day_of_week_cos', 'hour_sin', 'hour_cos', 'min_sin', 'min_cos',\n",
      "       'is_purchase'],\n",
      "      dtype='object')\n"
     ]
    }
   ],
   "source": [
    "if test_data==False:\n",
    "    \n",
    "\n",
    "    data_save_copy=data_save.copy()\n",
    "\n",
    "    \n",
    "    y, X, labels, class_counts = define_target_and_prepare_data(data_save_copy, target=target)\n",
    "\n",
    "    train, test = split_data_save_csv(pd.DataFrame(X, columns=data_save_copy.columns), y, data_columns=data_save_copy.columns, target_column=target)  \n",
    "    \n",
    "    train.to_csv(f\"dataset/df_ecom_2_5_feat_eng_input_train.csv\", index=False)\n",
    "    print(train.columns)\n",
    "    \n",
    "    test.to_csv(f\"dataset/df_ecom_2_5_feat_eng_input_test.csv\", index=False)\n",
    "    print(test.columns)"
   ]
  },
  {
   "cell_type": "code",
   "execution_count": null,
   "metadata": {},
   "outputs": [],
   "source": []
  }
 ],
 "metadata": {
  "kernelspec": {
   "display_name": "base",
   "language": "python",
   "name": "python3"
  },
  "language_info": {
   "codemirror_mode": {
    "name": "ipython",
    "version": 3
   },
   "file_extension": ".py",
   "mimetype": "text/x-python",
   "name": "python",
   "nbconvert_exporter": "python",
   "pygments_lexer": "ipython3",
   "version": "3.12.2"
  }
 },
 "nbformat": 4,
 "nbformat_minor": 2
}
