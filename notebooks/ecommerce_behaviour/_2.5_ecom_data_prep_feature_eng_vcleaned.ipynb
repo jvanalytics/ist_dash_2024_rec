{
 "cells": [
  {
   "cell_type": "code",
   "execution_count": null,
   "metadata": {},
   "outputs": [],
   "source": []
  },
  {
   "cell_type": "markdown",
   "metadata": {},
   "source": [
    "# File and libraries"
   ]
  },
  {
   "cell_type": "code",
   "execution_count": 1,
   "metadata": {},
   "outputs": [],
   "source": [
    "import pandas as pd\n",
    "import numpy as np\n",
    "\n",
    "\n",
    "filepath=r'dataset/df_ecom_2_2_mv_input'\n",
    "\n",
    "\n",
    "file_tag = \"df_ecom_feat_eng_input\""
   ]
  },
  {
   "cell_type": "markdown",
   "metadata": {},
   "source": [
    "# DSLabs functions"
   ]
  },
  {
   "cell_type": "code",
   "execution_count": 2,
   "metadata": {},
   "outputs": [
    {
     "name": "stdout",
     "output_type": "stream",
     "text": [
      "dslabs_functions lodaded\n"
     ]
    }
   ],
   "source": [
    "%run \"dslabs_functions.py\"\n"
   ]
  },
  {
   "cell_type": "markdown",
   "metadata": {},
   "source": [
    "# Data functions"
   ]
  },
  {
   "cell_type": "code",
   "execution_count": 3,
   "metadata": {},
   "outputs": [
    {
     "name": "stdout",
     "output_type": "stream",
     "text": [
      "dslabs_functions lodaded\n",
      "data_functions loaded\n"
     ]
    }
   ],
   "source": [
    "%run \"data_functions.py\"\n"
   ]
  },
  {
   "cell_type": "markdown",
   "metadata": {},
   "source": [
    "# Load"
   ]
  },
  {
   "cell_type": "code",
   "execution_count": 44,
   "metadata": {},
   "outputs": [
    {
     "name": "stdout",
     "output_type": "stream",
     "text": [
      "<class 'pandas.core.frame.DataFrame'>\n",
      "Index: 258334 entries, 0 to 258333\n",
      "Data columns (total 18 columns):\n",
      " #   Column               Non-Null Count   Dtype  \n",
      "---  ------               --------------   -----  \n",
      " 0   category_code_lvl_1  258334 non-null  float64\n",
      " 1   category_code_lvl_2  258334 non-null  float64\n",
      " 2   price                258334 non-null  float64\n",
      " 3   is_purchase          258334 non-null  int64  \n",
      " 4   activity_in_session  258334 non-null  float64\n",
      " 5   week_of_month        258334 non-null  int64  \n",
      " 6   is_weekend           258334 non-null  int64  \n",
      " 7   day                  258334 non-null  int64  \n",
      " 8   brand_value          258334 non-null  float64\n",
      " 9   product_category     258334 non-null  int64  \n",
      " 10  time_of_day_sin      258334 non-null  float64\n",
      " 11  time_of_day_cos      258334 non-null  float64\n",
      " 12  day_of_week_sin      258334 non-null  float64\n",
      " 13  day_of_week_cos      258334 non-null  float64\n",
      " 14  hour_sin             258334 non-null  float64\n",
      " 15  hour_cos             258334 non-null  float64\n",
      " 16  min_sin              258334 non-null  float64\n",
      " 17  min_cos              258334 non-null  float64\n",
      "dtypes: float64(13), int64(5)\n",
      "memory usage: 37.4 MB\n"
     ]
    }
   ],
   "source": [
    "# test_data=True\n",
    "test_data=False\n",
    "\n",
    "# use to evaluate strategies. otherwise False to just transform data \n",
    "evaluate=True\n",
    "# evaluate=False\n",
    "\n",
    "\n",
    "if test_data==True:\n",
    "\n",
    "    df=pd.read_csv(f\"{filepath}.csv\")\n",
    "    \n",
    "    test= pd.read_csv(f\"{filepath}_test.csv\")\n",
    "    train= pd.read_csv(f\"{filepath}_train.csv\")\n",
    "\n",
    "    sample=0.005\n",
    "    df = df.groupby('day_of_year').apply(lambda x: sample_per_day(x, sample)).reset_index(drop=True)\n",
    "    test = test.groupby('day_of_year').apply(lambda x: sample_per_day(x, sample)).reset_index(drop=True)\n",
    "    train = train.groupby('day_of_year').apply(lambda x: sample_per_day(x, sample)).reset_index(drop=True)\n",
    "    \n",
    "    # create sample df version of test/train for variance studies\n",
    "    test_sample= test\n",
    "    train_sample= train\n",
    "    \n",
    "else:\n",
    "    df=pd.read_csv(f\"{filepath}.csv\")\n",
    "\n",
    "    \n",
    "    test= pd.read_csv(f\"{filepath}_test.csv\")\n",
    "    train= pd.read_csv(f\"{filepath}_train.csv\")\n",
    "\n",
    "    # create sample for variance studies\n",
    "    sample=0.2\n",
    "    test_sample = test.groupby('day').apply(lambda x: sample_per_day(x, sample)).reset_index(drop=True)\n",
    "    train_sample = train.groupby('day').apply(lambda x: sample_per_day(x, sample)).reset_index(drop=True)\n",
    "\n",
    "\n",
    " \n",
    "target='is_purchase'\n",
    "vars: list[str] = df.columns.to_list()\n",
    "\n",
    "\n",
    "# ensure sorting by day_of_year for correct splitting \n",
    "# \"When in the presence of temporal data, data partition shall use older data to train and newer to test, in order to not use future data to classify past data. In any other case, partition shall be random.\"\n",
    "df.sort_values(by='day', inplace=True)\n",
    "test.sort_values(by='day', inplace=True)\n",
    "train.sort_values(by='day', inplace=True)\n",
    "\n",
    "\n",
    "\n",
    "df.info()"
   ]
  },
  {
   "cell_type": "code",
   "execution_count": 45,
   "metadata": {},
   "outputs": [
    {
     "name": "stdout",
     "output_type": "stream",
     "text": [
      "Train shape: (180833, 18)\n",
      "Test shape: (77501, 18)\n"
     ]
    }
   ],
   "source": [
    "print(f\"Train shape: {train.shape}\")\n",
    "print(f\"Test shape: {test.shape}\")"
   ]
  },
  {
   "cell_type": "code",
   "execution_count": 107,
   "metadata": {},
   "outputs": [
    {
     "name": "stdout",
     "output_type": "stream",
     "text": [
      "<class 'pandas.core.frame.DataFrame'>\n",
      "Index: 124479 entries, 0 to 124478\n",
      "Data columns (total 18 columns):\n",
      " #   Column               Non-Null Count   Dtype  \n",
      "---  ------               --------------   -----  \n",
      " 0   category_code_lvl_1  124479 non-null  float64\n",
      " 1   category_code_lvl_2  124479 non-null  float64\n",
      " 2   category_code_lvl_3  124479 non-null  float64\n",
      " 3   price                124479 non-null  float64\n",
      " 4   week_of_month        124479 non-null  float64\n",
      " 5   is_weekend           124479 non-null  float64\n",
      " 6   day                  124479 non-null  float64\n",
      " 7   is_view              124479 non-null  float64\n",
      " 8   is_cart              124479 non-null  float64\n",
      " 9   time_of_day_sin      124479 non-null  float64\n",
      " 10  time_of_day_cos      124479 non-null  float64\n",
      " 11  day_of_week_sin      124479 non-null  float64\n",
      " 12  day_of_week_cos      124479 non-null  float64\n",
      " 13  hour_sin             124479 non-null  float64\n",
      " 14  hour_cos             124479 non-null  float64\n",
      " 15  min_sin              124479 non-null  float64\n",
      " 16  min_cos              124479 non-null  float64\n",
      " 17  is_purchase          124479 non-null  int64  \n",
      "dtypes: float64(17), int64(1)\n",
      "memory usage: 18.0 MB\n"
     ]
    }
   ],
   "source": [
    "train.info()"
   ]
  },
  {
   "cell_type": "markdown",
   "metadata": {},
   "source": [
    "# Feat 1 - Dropping Low Variance Variables"
   ]
  },
  {
   "cell_type": "markdown",
   "metadata": {},
   "source": [
    "## Feat 1 - Study Low Variance Variables and Threshold\n",
    "\n",
    "using sampled dataframe due to heavy processing"
   ]
  },
  {
   "cell_type": "code",
   "execution_count": 46,
   "metadata": {},
   "outputs": [],
   "source": [
    "max_thresh=0.40\n",
    "lag_variance=0.05"
   ]
  },
  {
   "cell_type": "markdown",
   "metadata": {},
   "source": [
    "### recall"
   ]
  },
  {
   "cell_type": "code",
   "execution_count": 34,
   "metadata": {},
   "outputs": [
    {
     "name": "stdout",
     "output_type": "stream",
     "text": [
      "Testing threshold: 0.05\n",
      "Dropping variables: []\n",
      "Remaining features after drop: 18\n",
      "Evaluation results at threshold 0.05: {'accuracy': [0.6129281981807625, 0.7039545835752532], 'recall': [0.3382266588373459, 0.20317087492660013], 'precision': [0.2351980400163332, 0.2695753798208025], 'auc': [0.5142559503364076, 0.5240740691292777], 'f1': [0.2774566473988439, 0.23170935878118198], 'f2': [0.3109815354713314, 0.21369896856278178]}\n",
      "Evaluation for recall: [0.3382266588373459, 0.20317087492660013]\n",
      "Testing threshold: 0.1\n",
      "Dropping variables: []\n",
      "Remaining features after drop: 18\n",
      "Evaluation results at threshold 0.1: {'accuracy': [0.6129281981807625, 0.7039545835752532], 'recall': [0.3382266588373459, 0.20317087492660013], 'precision': [0.2351980400163332, 0.2695753798208025], 'auc': [0.5142559503364076, 0.5240740691292777], 'f1': [0.2774566473988439, 0.23170935878118198], 'f2': [0.3109815354713314, 0.21369896856278178]}\n",
      "Evaluation for recall: [0.3382266588373459, 0.20317087492660013]\n",
      "Testing threshold: 0.15\n",
      "Dropping variables: []\n",
      "Remaining features after drop: 18\n",
      "Evaluation results at threshold 0.15: {'accuracy': [0.6129281981807625, 0.7039545835752532], 'recall': [0.3382266588373459, 0.20317087492660013], 'precision': [0.2351980400163332, 0.2695753798208025], 'auc': [0.5142559503364076, 0.5240740691292777], 'f1': [0.2774566473988439, 0.23170935878118198], 'f2': [0.3109815354713314, 0.21369896856278178]}\n",
      "Evaluation for recall: [0.3382266588373459, 0.20317087492660013]\n",
      "Testing threshold: 0.2\n",
      "Dropping variables: []\n",
      "Remaining features after drop: 18\n",
      "Evaluation results at threshold 0.2: {'accuracy': [0.6129281981807625, 0.7039545835752532], 'recall': [0.3382266588373459, 0.20317087492660013], 'precision': [0.2351980400163332, 0.2695753798208025], 'auc': [0.5142559503364076, 0.5240740691292777], 'f1': [0.2774566473988439, 0.23170935878118198], 'f2': [0.3109815354713314, 0.21369896856278178]}\n",
      "Evaluation for recall: [0.3382266588373459, 0.20317087492660013]\n",
      "Testing threshold: 0.25\n",
      "Dropping variables: ['is_weekend']\n",
      "Remaining features after drop: 17\n",
      "Evaluation results at threshold 0.25: {'accuracy': [0.5820269660021934, 0.7036320237404039], 'recall': [0.38021139166177337, 0.20317087492660013], 'precision': [0.22867737948084055, 0.2690513219284603], 'auc': [0.5095352121599482, 0.5238673721470537], 'f1': [0.2855882677252178, 0.23151555704248913], 'f2': [0.335718359516773, 0.21363299580143244]}\n",
      "Evaluation for recall: [0.38021139166177337, 0.20317087492660013]\n",
      "Testing threshold: 0.3\n",
      "Dropping variables: ['is_weekend']\n",
      "Remaining features after drop: 17\n",
      "Evaluation results at threshold 0.3: {'accuracy': [0.5820269660021934, 0.7036320237404039], 'recall': [0.38021139166177337, 0.20317087492660013], 'precision': [0.22867737948084055, 0.2690513219284603], 'auc': [0.5095352121599482, 0.5238673721470537], 'f1': [0.2855882677252178, 0.23151555704248913], 'f2': [0.335718359516773, 0.21363299580143244]}\n",
      "Evaluation for recall: [0.38021139166177337, 0.20317087492660013]\n",
      "Testing threshold: 0.35\n",
      "Dropping variables: ['is_weekend']\n",
      "Remaining features after drop: 17\n",
      "Evaluation results at threshold 0.35: {'accuracy': [0.5820269660021934, 0.7036320237404039], 'recall': [0.38021139166177337, 0.20317087492660013], 'precision': [0.22867737948084055, 0.2690513219284603], 'auc': [0.5095352121599482, 0.5238673721470537], 'f1': [0.2855882677252178, 0.23151555704248913], 'f2': [0.335718359516773, 0.21363299580143244]}\n",
      "Evaluation for recall: [0.38021139166177337, 0.20317087492660013]\n",
      "Testing threshold: 0.4\n",
      "Dropping variables: ['is_weekend', 'day_of_week_sin', 'hour_cos']\n",
      "Remaining features after drop: 15\n",
      "Evaluation results at threshold 0.4: {'accuracy': [0.6737629830333527, 0.7042771434101026], 'recall': [0.1967116852613036, 0.2014092777451556], 'precision': [0.22400534938147776, 0.2690196078431373], 'auc': [0.5024071034822434, 0.5236480038994484], 'f1': [0.2094731905580741, 0.23035594358629952], 'f2': [0.2016250376166115, 0.21206875231853592]}\n",
      "Evaluation for recall: [0.1967116852613036, 0.2014092777451556]\n"
     ]
    },
    {
     "data": {
      "image/png": "[encoded data removed]",
      "text/plain": [
       "<Figure size 800x400 with 1 Axes>"
      ]
     },
     "metadata": {},
     "output_type": "display_data"
    }
   ],
   "source": [
    "# modified study_variance_for_feature_selection() in dslabs functions to keep minimum variables and print metrics (due to error)\n",
    "if evaluate==True:\n",
    "\n",
    "    eval_metric = \"recall\"\n",
    "    figure(figsize=(2 * HEIGHT, HEIGHT))\n",
    "    study_variance_for_feature_selection(\n",
    "        train_sample,\n",
    "        test_sample,\n",
    "        target=target,\n",
    "        max_threshold=max_thresh,\n",
    "        lag=lag_variance,\n",
    "        metric=eval_metric,\n",
    "        file_tag=file_tag,\n",
    "        min_features_to_keep = 10  # Minimum features safeguard\n",
    "\n",
    "    )\n",
    "    show()"
   ]
  },
  {
   "cell_type": "code",
   "execution_count": null,
   "metadata": {},
   "outputs": [],
   "source": []
  },
  {
   "cell_type": "markdown",
   "metadata": {},
   "source": [
    "### accuracy study"
   ]
  },
  {
   "cell_type": "code",
   "execution_count": 35,
   "metadata": {},
   "outputs": [
    {
     "name": "stdout",
     "output_type": "stream",
     "text": [
      "Testing threshold: 0.05\n",
      "Dropping variables: []\n",
      "Remaining features after drop: 18\n",
      "Evaluation results at threshold 0.05: {'accuracy': [0.7802722405006128, 0.7801432165666731], 'recall': [0.0, 0.005578391074574281], 'precision': [0.0, 0.475], 'auc': [0.5, 0.5019210682119462], 'f1': [0.0, 0.011027278003482298], 'f2': [0.0, 0.006952576112412178]}\n",
      "Evaluation for accuracy: [0.7802722405006128, 0.7801432165666731]\n",
      "Testing threshold: 0.1\n",
      "Dropping variables: []\n",
      "Remaining features after drop: 18\n",
      "Evaluation results at threshold 0.1: {'accuracy': [0.7802722405006128, 0.7801432165666731], 'recall': [0.0, 0.005578391074574281], 'precision': [0.0, 0.475], 'auc': [0.5, 0.5019210682119462], 'f1': [0.0, 0.011027278003482298], 'f2': [0.0, 0.006952576112412178]}\n",
      "Evaluation for accuracy: [0.7802722405006128, 0.7801432165666731]\n",
      "Testing threshold: 0.15\n",
      "Dropping variables: []\n",
      "Remaining features after drop: 18\n",
      "Evaluation results at threshold 0.15: {'accuracy': [0.7802722405006128, 0.7801432165666731], 'recall': [0.0, 0.005578391074574281], 'precision': [0.0, 0.475], 'auc': [0.5, 0.5019210682119462], 'f1': [0.0, 0.011027278003482298], 'f2': [0.0, 0.006952576112412178]}\n",
      "Evaluation for accuracy: [0.7802722405006128, 0.7801432165666731]\n",
      "Testing threshold: 0.2\n",
      "Dropping variables: []\n",
      "Remaining features after drop: 18\n",
      "Evaluation results at threshold 0.2: {'accuracy': [0.7802722405006128, 0.7801432165666731], 'recall': [0.0, 0.005578391074574281], 'precision': [0.0, 0.475], 'auc': [0.5, 0.5019210682119462], 'f1': [0.0, 0.011027278003482298], 'f2': [0.0, 0.006952576112412178]}\n",
      "Evaluation for accuracy: [0.7802722405006128, 0.7801432165666731]\n",
      "Testing threshold: 0.25\n",
      "Dropping variables: ['is_weekend']\n",
      "Remaining features after drop: 17\n",
      "Evaluation results at threshold 0.25: {'accuracy': [0.7802722405006128, 0.7800787045997033], 'recall': [0.0, 0.005578391074574281], 'precision': [0.0, 0.4634146341463415], 'auc': [0.5, 0.5018797288155012], 'f1': [0.0, 0.011024078909196402], 'f2': [0.0, 0.006952067325283571]}\n",
      "Evaluation for accuracy: [0.7802722405006128, 0.7800787045997033]\n",
      "Testing threshold: 0.3\n",
      "Dropping variables: ['is_weekend']\n",
      "Remaining features after drop: 17\n",
      "Evaluation results at threshold 0.3: {'accuracy': [0.7802722405006128, 0.7800787045997033], 'recall': [0.0, 0.005578391074574281], 'precision': [0.0, 0.4634146341463415], 'auc': [0.5, 0.5018797288155012], 'f1': [0.0, 0.011024078909196402], 'f2': [0.0, 0.006952067325283571]}\n",
      "Evaluation for accuracy: [0.7802722405006128, 0.7800787045997033]\n",
      "Testing threshold: 0.35\n",
      "Dropping variables: ['is_weekend']\n",
      "Remaining features after drop: 17\n",
      "Evaluation results at threshold 0.35: {'accuracy': [0.7802722405006128, 0.7800787045997033], 'recall': [0.0, 0.005578391074574281], 'precision': [0.0, 0.4634146341463415], 'auc': [0.5, 0.5018797288155012], 'f1': [0.0, 0.011024078909196402], 'f2': [0.0, 0.006952067325283571]}\n",
      "Evaluation for accuracy: [0.7802722405006128, 0.7800787045997033]\n",
      "Testing threshold: 0.4\n",
      "Dropping variables: ['is_weekend', 'day_of_week_sin', 'hour_cos']\n",
      "Remaining features after drop: 15\n",
      "Evaluation results at threshold 0.4: {'accuracy': [0.7802722405006128, 0.7799496806657635], 'recall': [0.0, 0.0049911920140927775], 'precision': [0.0, 0.4358974358974359], 'auc': [0.5, 0.5015861292852606], 'f1': [0.0, 0.009869375907111757], 'f2': [0.0, 0.006221181292541901]}\n",
      "Evaluation for accuracy: [0.7802722405006128, 0.7799496806657635]\n"
     ]
    },
    {
     "data": {
      "image/png": "[encoded data removed]",
      "text/plain": [
       "<Figure size 800x400 with 1 Axes>"
      ]
     },
     "metadata": {},
     "output_type": "display_data"
    }
   ],
   "source": [
    "if evaluate==True:\n",
    "\n",
    "    eval_metric = \"accuracy\"\n",
    "    figure(figsize=(2 * HEIGHT, HEIGHT))\n",
    "    study_variance_for_feature_selection(\n",
    "        train_sample,\n",
    "        test_sample,\n",
    "        target=target,\n",
    "        max_threshold=max_thresh,\n",
    "        lag=lag_variance,\n",
    "        metric=eval_metric,\n",
    "        file_tag=file_tag,\n",
    "        min_features_to_keep = 10  # Minimum features safeguard\n",
    "\n",
    "    )\n",
    "    show()"
   ]
  },
  {
   "cell_type": "code",
   "execution_count": null,
   "metadata": {},
   "outputs": [],
   "source": []
  },
  {
   "cell_type": "markdown",
   "metadata": {},
   "source": [
    "### precision"
   ]
  },
  {
   "cell_type": "code",
   "execution_count": 36,
   "metadata": {},
   "outputs": [
    {
     "name": "stdout",
     "output_type": "stream",
     "text": [
      "Testing threshold: 0.05\n",
      "Dropping variables: []\n",
      "Remaining features after drop: 18\n",
      "Evaluation results at threshold 0.05: {'accuracy': [0.6129281981807625, 0.7801432165666731], 'recall': [0.3382266588373459, 0.005578391074574281], 'precision': [0.2351980400163332, 0.475], 'auc': [0.5142559503364076, 0.5019210682119462], 'f1': [0.2774566473988439, 0.011027278003482298], 'f2': [0.3109815354713314, 0.006952576112412178]}\n",
      "Evaluation for precision: [0.2351980400163332, 0.475]\n",
      "Testing threshold: 0.1\n",
      "Dropping variables: []\n",
      "Remaining features after drop: 18\n",
      "Evaluation results at threshold 0.1: {'accuracy': [0.6129281981807625, 0.7801432165666731], 'recall': [0.3382266588373459, 0.005578391074574281], 'precision': [0.2351980400163332, 0.475], 'auc': [0.5142559503364076, 0.5019210682119462], 'f1': [0.2774566473988439, 0.011027278003482298], 'f2': [0.3109815354713314, 0.006952576112412178]}\n",
      "Evaluation for precision: [0.2351980400163332, 0.475]\n",
      "Testing threshold: 0.15\n",
      "Dropping variables: []\n",
      "Remaining features after drop: 18\n",
      "Evaluation results at threshold 0.15: {'accuracy': [0.6129281981807625, 0.7801432165666731], 'recall': [0.3382266588373459, 0.005578391074574281], 'precision': [0.2351980400163332, 0.475], 'auc': [0.5142559503364076, 0.5019210682119462], 'f1': [0.2774566473988439, 0.011027278003482298], 'f2': [0.3109815354713314, 0.006952576112412178]}\n",
      "Evaluation for precision: [0.2351980400163332, 0.475]\n",
      "Testing threshold: 0.2\n",
      "Dropping variables: []\n",
      "Remaining features after drop: 18\n",
      "Evaluation results at threshold 0.2: {'accuracy': [0.6129281981807625, 0.7801432165666731], 'recall': [0.3382266588373459, 0.005578391074574281], 'precision': [0.2351980400163332, 0.475], 'auc': [0.5142559503364076, 0.5019210682119462], 'f1': [0.2774566473988439, 0.011027278003482298], 'f2': [0.3109815354713314, 0.006952576112412178]}\n",
      "Evaluation for precision: [0.2351980400163332, 0.475]\n",
      "Testing threshold: 0.25\n",
      "Dropping variables: ['is_weekend']\n",
      "Remaining features after drop: 17\n",
      "Evaluation results at threshold 0.25: {'accuracy': [0.5820269660021934, 0.7800787045997033], 'recall': [0.38021139166177337, 0.005578391074574281], 'precision': [0.22867737948084055, 0.4634146341463415], 'auc': [0.5095352121599482, 0.5018797288155012], 'f1': [0.2855882677252178, 0.011024078909196402], 'f2': [0.335718359516773, 0.006952067325283571]}\n",
      "Evaluation for precision: [0.22867737948084055, 0.4634146341463415]\n",
      "Testing threshold: 0.3\n",
      "Dropping variables: ['is_weekend']\n",
      "Remaining features after drop: 17\n",
      "Evaluation results at threshold 0.3: {'accuracy': [0.5820269660021934, 0.7800787045997033], 'recall': [0.38021139166177337, 0.005578391074574281], 'precision': [0.22867737948084055, 0.4634146341463415], 'auc': [0.5095352121599482, 0.5018797288155012], 'f1': [0.2855882677252178, 0.011024078909196402], 'f2': [0.335718359516773, 0.006952067325283571]}\n",
      "Evaluation for precision: [0.22867737948084055, 0.4634146341463415]\n",
      "Testing threshold: 0.35\n",
      "Dropping variables: ['is_weekend']\n",
      "Remaining features after drop: 17\n",
      "Evaluation results at threshold 0.35: {'accuracy': [0.5820269660021934, 0.7800787045997033], 'recall': [0.38021139166177337, 0.005578391074574281], 'precision': [0.22867737948084055, 0.4634146341463415], 'auc': [0.5095352121599482, 0.5018797288155012], 'f1': [0.2855882677252178, 0.011024078909196402], 'f2': [0.335718359516773, 0.006952067325283571]}\n",
      "Evaluation for precision: [0.22867737948084055, 0.4634146341463415]\n",
      "Testing threshold: 0.4\n",
      "Dropping variables: ['is_weekend', 'day_of_week_sin', 'hour_cos']\n",
      "Remaining features after drop: 15\n",
      "Evaluation results at threshold 0.4: {'accuracy': [0.6737629830333527, 0.7799496806657635], 'recall': [0.1967116852613036, 0.0049911920140927775], 'precision': [0.22400534938147776, 0.4358974358974359], 'auc': [0.5024071034822434, 0.5015861292852606], 'f1': [0.2094731905580741, 0.009869375907111757], 'f2': [0.2016250376166115, 0.006221181292541901]}\n",
      "Evaluation for precision: [0.22400534938147776, 0.4358974358974359]\n"
     ]
    },
    {
     "data": {
      "image/png": "[encoded data removed]",
      "text/plain": [
       "<Figure size 800x400 with 1 Axes>"
      ]
     },
     "metadata": {},
     "output_type": "display_data"
    }
   ],
   "source": [
    "# modified study_variance_for_feature_selection() in dslabs functions to keep minimum variables and print metrics (due to error)\n",
    "if evaluate==True:\n",
    "\n",
    "    eval_metric = \"precision\"\n",
    "    figure(figsize=(2 * HEIGHT, HEIGHT))\n",
    "    study_variance_for_feature_selection(\n",
    "        train_sample,\n",
    "        test_sample,\n",
    "        target=target,\n",
    "        max_threshold=max_thresh,\n",
    "        lag=lag_variance,\n",
    "        metric=eval_metric,\n",
    "        file_tag=file_tag,\n",
    "        min_features_to_keep = 10  # Minimum features safeguard\n",
    "\n",
    "    )\n",
    "    show()"
   ]
  },
  {
   "cell_type": "markdown",
   "metadata": {},
   "source": [
    "## Feat 1 strategy Application"
   ]
  },
  {
   "cell_type": "markdown",
   "metadata": {},
   "source": [
    "## Feat 1 strategy Application"
   ]
  },
  {
   "cell_type": "code",
   "execution_count": 47,
   "metadata": {},
   "outputs": [],
   "source": [
    "from pandas import DataFrame, Index\n",
    "\n",
    "def select_low_variance_variables(\n",
    "    data: DataFrame, \n",
    "    max_threshold: float, \n",
    "    target: str = \"is_purchase\",\n",
    "    min_features_to_keep: int = 10,  \n",
    "    exclude: list[str] = [\"day_of_year\"]\n",
    ") -> list:\n",
    "    # Exclui as colunas que não devem ser consideradas\n",
    "    data_filtered = data.drop(columns=exclude, errors='ignore')\n",
    "    \n",
    "    summary5: DataFrame = data_filtered.describe()\n",
    "\n",
    "    # Calcula a variância\n",
    "    variances = summary5.loc[\"std\"] ** 2\n",
    "\n",
    "    # Identifica as variáveis a serem removidas\n",
    "    vars2drop: Index[str] = summary5.columns[variances < max_threshold]\n",
    "\n",
    "    # Garante que a coluna alvo não seja removida\n",
    "    if target in vars2drop:\n",
    "        vars2drop = vars2drop.drop(target)\n",
    "\n",
    "    # Garantia de que um número mínimo de recursos seja retido\n",
    "    remaining_features = data_filtered.drop(vars2drop, axis=1).shape[1]\n",
    "    if remaining_features < min_features_to_keep:\n",
    "        print(f\"Threshold too strict, keeping at least {min_features_to_keep} features.\")\n",
    "        vars2drop = summary5.columns[variances < max_threshold]\n",
    "        remaining_features = data_filtered.drop(vars2drop, axis=1).shape[1]\n",
    "\n",
    "        # Se ainda estiver muito poucos recursos, não remover nada\n",
    "        if remaining_features < min_features_to_keep:\n",
    "            print(f\"Warning: Dropping too many features even with adjusted threshold.\")\n",
    "            vars2drop = Index([])  # Não remover nenhuma variável\n",
    "\n",
    "    print(f\"Variance threshold: {max_threshold}, Remaining features: {remaining_features}\")\n",
    "    print(f\"Variables to drop: {list(vars2drop)}\")\n",
    "\n",
    "    return list(vars2drop.values)\n",
    "\n",
    "def apply_remove_low_variance_variables(\n",
    "    data: DataFrame,\n",
    "    max_threshold=0.5,\n",
    "    min_features_to_keep=10,\n",
    "    target='is_purchase'\n",
    ") -> DataFrame:\n",
    "    \n",
    "    # Chama a função para selecionar variáveis de baixa variância\n",
    "    vars2drop: list[str] = select_low_variance_variables(\n",
    "        data, \n",
    "        max_threshold=max_threshold, \n",
    "        min_features_to_keep=min_features_to_keep, \n",
    "        target=target\n",
    "    )\n",
    "    \n",
    "    print(\"Columns to drop:\", vars2drop)\n",
    "\n",
    "    # Remove as colunas de baixa variância do DataFrame\n",
    "    df_vars_drop = data.drop(columns=vars2drop, errors='ignore')\n",
    "    \n",
    "    print(\"Remaining columns:\", df_vars_drop.columns)\n",
    "\n",
    "    return df_vars_drop\n",
    "\n"
   ]
  },
  {
   "cell_type": "code",
   "execution_count": 48,
   "metadata": {},
   "outputs": [
    {
     "name": "stdout",
     "output_type": "stream",
     "text": [
      "Variance threshold: 0.3, Remaining features: 17\n",
      "Variables to drop: ['is_weekend']\n",
      "Columns to drop: ['is_weekend']\n",
      "Remaining columns: Index(['category_code_lvl_1', 'category_code_lvl_2', 'price', 'is_purchase',\n",
      "       'activity_in_session', 'week_of_month', 'day', 'brand_value',\n",
      "       'product_category', 'time_of_day_sin', 'time_of_day_cos',\n",
      "       'day_of_week_sin', 'day_of_week_cos', 'hour_sin', 'hour_cos', 'min_sin',\n",
      "       'min_cos'],\n",
      "      dtype='object')\n",
      "       category_code_lvl_1  category_code_lvl_2          price    is_purchase  \\\n",
      "count        258334.000000        258334.000000  258334.000000  258334.000000   \n",
      "mean              0.905413             8.178649     363.217366       0.160467   \n",
      "std               2.072174            11.911162     364.942992       0.367039   \n",
      "min               0.000000             0.000000       0.870000       0.000000   \n",
      "25%               0.000000             3.000000     127.150000       0.000000   \n",
      "50%               0.000000             3.000000     226.250000       0.000000   \n",
      "75%               1.000000             9.000000     468.480000       0.000000   \n",
      "max              12.000000            60.000000    2574.070000       1.000000   \n",
      "\n",
      "       activity_in_session  week_of_month            day    brand_value  \\\n",
      "count        258334.000000  258334.000000  258334.000000  258334.000000   \n",
      "mean              4.665898       2.961070      16.924582     360.277562   \n",
      "std               5.645847       0.904256       6.175074     252.779017   \n",
      "min               0.000000       1.000000       1.000000       2.900000   \n",
      "25%               2.000000       2.000000      14.000000     173.500000   \n",
      "50%               3.000000       3.000000      16.000000     282.500000   \n",
      "75%               6.000000       3.000000      20.000000     545.500000   \n",
      "max             209.000000       5.000000      30.000000    2213.700000   \n",
      "\n",
      "       product_category  time_of_day_sin  time_of_day_cos  day_of_week_sin  \\\n",
      "count     258334.000000    258334.000000    258334.000000    258334.000000   \n",
      "mean        4463.262970        -0.108246        -0.209155        -0.230177   \n",
      "std         4366.651125         0.710078         0.663176         0.678293   \n",
      "min            0.000000        -0.975000        -0.781000        -0.993000   \n",
      "25%         2116.000000        -0.975000        -0.781000        -0.775000   \n",
      "50%         2332.000000         0.000000        -0.781000        -0.081000   \n",
      "75%         5716.000000         0.624000         0.221000         0.000000   \n",
      "max        19213.000000         0.624000         1.000000         0.999000   \n",
      "\n",
      "       day_of_week_cos       hour_sin       hour_cos        min_sin  \\\n",
      "count    258334.000000  258334.000000  258334.000000  258334.000000   \n",
      "mean         -0.057752       0.137497      -0.303065      -0.001844   \n",
      "std           0.695597       0.734479       0.591443       0.709713   \n",
      "min          -0.997000      -1.000000      -1.000000      -1.000000   \n",
      "25%          -0.632000      -0.707000      -0.866000      -0.743000   \n",
      "50%          -0.041000       0.259000      -0.500000       0.000000   \n",
      "75%           0.693000       0.866000       0.259000       0.743000   \n",
      "max           1.000000       1.000000       1.000000       1.000000   \n",
      "\n",
      "             min_cos  \n",
      "count  258334.000000  \n",
      "mean       -0.007153  \n",
      "std         0.704595  \n",
      "min        -1.000000  \n",
      "25%        -0.743000  \n",
      "50%         0.000000  \n",
      "75%         0.669000  \n",
      "max         1.000000  \n"
     ]
    }
   ],
   "source": [
    "\n",
    "def apply_strategy_1(data: DataFrame) -> DataFrame:\n",
    "    # Defina o target aqui ou passe-o como parâmetro\n",
    "    target = 'is_purchase'\n",
    "    # Aplicando a estratégia de remoção de variáveis de baixa variância\n",
    "    df_copy = apply_remove_low_variance_variables(data, max_threshold=0.3, target=target, min_features_to_keep=10)\n",
    "    \n",
    "    return df_copy\n",
    "\n",
    "# Exemplo de uso\n",
    "# Supondo que 'df' esteja definido anteriormente\n",
    "df_1 = apply_strategy_1(df)\n",
    "print(df_1.describe())"
   ]
  },
  {
   "cell_type": "markdown",
   "metadata": {},
   "source": [
    "## Feat 1 train/test split "
   ]
  },
  {
   "cell_type": "code",
   "execution_count": 49,
   "metadata": {},
   "outputs": [
    {
     "name": "stdout",
     "output_type": "stream",
     "text": [
      "Labels=[0, 1]\n"
     ]
    },
    {
     "data": {
      "image/png": "[encoded data removed]",
      "text/plain": [
       "<Figure size 600x400 with 1 Axes>"
      ]
     },
     "metadata": {},
     "output_type": "display_data"
    }
   ],
   "source": [
    "if evaluate==True:\n",
    "\n",
    "    from pandas import concat\n",
    "    from matplotlib.pyplot import figure, show\n",
    "    from sklearn.model_selection import train_test_split\n",
    "    from dslabs_functions import plot_multibar_chart\n",
    "\n",
    "\n",
    "    # Call the function to split the data\n",
    "    from numpy import array, ndarray\n",
    "\n",
    "\n",
    "    y_1, X_1, labels, values = define_target_and_prepare_data(df_1, target)\n",
    "\n",
    "\n",
    "\n",
    "    train_1, test_1 = split_data_save_csv(pd.DataFrame(X_1, columns=df_1.columns), y_1, data_columns=df_1.columns, target_column=target)\n",
    "\n",
    "    # Distribution check\n",
    "    values[\"Train\"] = [\n",
    "        len(train_1[train_1[target] == 0]),\n",
    "        len(train_1[train_1[target] == 1]),\n",
    "    ]\n",
    "    values[\"Test\"] = [\n",
    "        len(test_1[test_1[target] == 0]),\n",
    "        len(test_1[test_1[target] == 1]),\n",
    "    ]\n",
    "\n",
    "    # Visualize the distribution\n",
    "    figure(figsize=(6, 4))\n",
    "    plot_multibar_chart(labels, values, title=\"Data distribution per dataset\")\n",
    "    show()"
   ]
  },
  {
   "cell_type": "code",
   "execution_count": null,
   "metadata": {},
   "outputs": [],
   "source": []
  },
  {
   "cell_type": "markdown",
   "metadata": {},
   "source": [
    "## Feat 1 evaluate"
   ]
  },
  {
   "cell_type": "code",
   "execution_count": 50,
   "metadata": {},
   "outputs": [
    {
     "data": {
      "image/png": "[encoded data removed]",
      "text/plain": [
       "<Figure size 640x480 with 1 Axes>"
      ]
     },
     "metadata": {},
     "output_type": "display_data"
    }
   ],
   "source": [
    "if evaluate==True:\n",
    "\n",
    "    # evaluate_approach is in data_functions originally from DSLABS/ Data Prep / Methodology\n",
    "    # removed Multinomial from run_NB function because dataset has negative values\n",
    "\n",
    "    figure()\n",
    "    eval_1: dict[str, list] = evaluate_approach(train_1, test_1, target='is_purchase', metric=\"precision\")\n",
    "    plot_multibar_chart(\n",
    "        [\"NB\", \"KNN\"], eval_1, title=f\"{file_tag}_approach_1_evaluation\", percentage=True\n",
    "    )\n",
    "    savefig(f\"images/{file_tag}_approach_1_evaluation.png\")\n",
    "    show()"
   ]
  },
  {
   "cell_type": "markdown",
   "metadata": {},
   "source": [
    "# Feat 2 - Dropping Redundant Variables\n"
   ]
  },
  {
   "cell_type": "code",
   "execution_count": 211,
   "metadata": {},
   "outputs": [
    {
     "data": {
      "text/plain": [
       "Index(['category_code_lvl_1', 'category_code_lvl_2', 'category_code_lvl_3',\n",
       "       'price', 'week_of_month', 'is_weekend', 'day', 'is_view', 'is_cart',\n",
       "       'time_of_day_sin', 'time_of_day_cos', 'day_of_week_sin',\n",
       "       'day_of_week_cos', 'hour_sin', 'hour_cos', 'min_sin', 'min_cos',\n",
       "       'is_purchase'],\n",
       "      dtype='object')"
      ]
     },
     "execution_count": 211,
     "metadata": {},
     "output_type": "execute_result"
    }
   ],
   "source": [
    "test.columns"
   ]
  },
  {
   "cell_type": "code",
   "execution_count": 55,
   "metadata": {},
   "outputs": [],
   "source": [
    "\n",
    "def select_redundant_variables(\n",
    "    data: DataFrame, \n",
    "    min_threshold: float = 0.90, \n",
    "    target: str = \"class\", \n",
    "    exclude: list[str] = [\"day_of_year\"]  # Columns to exclude from redundancy check\n",
    ") -> list:\n",
    "    # Exclude the columns that should not be considered (like 'day_of_month')\n",
    "    data_filtered = data.drop(columns=[target] + exclude, errors='ignore')\n",
    "\n",
    "    # Calculate the correlation matrix\n",
    "    corr_matrix: DataFrame = abs(data_filtered.corr())\n",
    "    variables: Index[str] = corr_matrix.columns\n",
    "    vars2drop: list = []\n",
    "\n",
    "    # Iterate over the variables and check correlations\n",
    "    for v1 in variables:\n",
    "        vars_corr: Series = (corr_matrix[v1]).loc[corr_matrix[v1] >= min_threshold]\n",
    "        vars_corr.drop(v1, inplace=True)  # Remove self-correlation\n",
    "        if len(vars_corr) > 1:  # Check if more than one correlated variable\n",
    "            lst_corr = list(vars_corr.index)\n",
    "            for v2 in lst_corr:\n",
    "                if v2 not in vars2drop:\n",
    "                    vars2drop.append(v2)\n",
    "\n",
    "    return vars2drop\n",
    "\n",
    "\n",
    "def study_redundancy_for_feature_selection(\n",
    "    train: DataFrame,\n",
    "    test: DataFrame,\n",
    "    target: str = \"class\",\n",
    "    min_threshold: float = 0.90,\n",
    "    lag: float = 0.05,\n",
    "    metric: str = \"accuracy\",\n",
    "    file_tag: str = \"\",\n",
    ") -> dict:\n",
    "    # Generate the range of redundancy thresholds to test\n",
    "    options: list[float] = [\n",
    "        round(min_threshold + i * lag, 3)\n",
    "        for i in range(ceil((1 - min_threshold) / lag) + 1)\n",
    "    ]\n",
    "\n",
    "    # Ensure 'target' column is present and drop it for correlation calculation\n",
    "    df: DataFrame = train.drop(target, axis=1, inplace=False)\n",
    "    print(f\"Columns in the train dataset: {df.columns.tolist()}\")  # Debugging step\n",
    "\n",
    "    # Calculate the correlation matrix\n",
    "    corr_matrix: DataFrame = abs(df.corr())\n",
    "    variables: Index[str] = corr_matrix.columns\n",
    "    print(f\"Variables considered for correlation: {variables.tolist()}\")  # Debugging step\n",
    "\n",
    "    results: dict[str, list] = {\"NB\": [], \"KNN\": []}\n",
    "    \n",
    "    for thresh in options:\n",
    "        vars2drop: list = []\n",
    "        \n",
    "        # Loop through the variables to identify correlated features\n",
    "        for v1 in variables:\n",
    "            # Get features correlated with the current variable\n",
    "            vars_corr: Series = (corr_matrix[v1]).loc[corr_matrix[v1] >= thresh]\n",
    "            \n",
    "            # Check if the current variable is in the correlation list before trying to drop it\n",
    "            if v1 in vars_corr:\n",
    "                vars_corr.drop(v1, inplace=True)\n",
    "            \n",
    "            # If other variables are highly correlated with v1, consider them for removal\n",
    "            if len(vars_corr) > 1:\n",
    "                lst_corr = list(vars_corr.index)\n",
    "                for v2 in lst_corr:\n",
    "                    if v2 not in vars2drop:\n",
    "                        vars2drop.append(v2)\n",
    "\n",
    "        print(f\"Variables to drop at threshold {thresh}: {vars2drop}\")  # Debugging step\n",
    "        \n",
    "        # Drop the selected redundant variables from train and test datasets\n",
    "        train_copy: DataFrame = train.drop(vars2drop, axis=1, inplace=False)\n",
    "        test_copy: DataFrame = test.drop(vars2drop, axis=1, inplace=False)\n",
    "\n",
    "        # Evaluate the approach using the current feature set\n",
    "        eval: dict | None = evaluate_approach(train_copy, test_copy, target=target, metric=metric)\n",
    "\n",
    "        # Check if evaluation returned results\n",
    "        if eval:\n",
    "            print(f\"Evaluation results at threshold {thresh}: {eval}\")\n",
    "            if metric in eval:\n",
    "                print(f\"Evaluation for {metric}: {eval[metric]}\")\n",
    "                results[\"NB\"].append(eval[metric][0])\n",
    "                results[\"KNN\"].append(eval[metric][1])\n",
    "            else:\n",
    "                print(f\"Metric '{metric}' not found in evaluation results at threshold {thresh}.\")\n",
    "                results[\"NB\"].append(None)\n",
    "                results[\"KNN\"].append(None)\n",
    "        else:\n",
    "            print(f\"Evaluation failed or returned empty at threshold {thresh}.\")\n",
    "            results[\"NB\"].append(None)\n",
    "            results[\"KNN\"].append(None)\n",
    "\n",
    "    # Optional: Save or plot the results after evaluation\n",
    "    plot_multiline_chart(\n",
    "        options,\n",
    "        results,\n",
    "        title=f\"{file_tag} redundancy study ({metric})\",\n",
    "        xlabel=\"correlation threshold\",\n",
    "        ylabel=metric,\n",
    "        percentage=True,\n",
    "    )\n",
    "    savefig(f\"images/{file_tag}_fs_redundancy_{metric}_study.png\")\n",
    "    return results\n"
   ]
  },
  {
   "cell_type": "code",
   "execution_count": 70,
   "metadata": {},
   "outputs": [],
   "source": [
    "min_thresh=0.7\n",
    "lag_redundacy=0.05"
   ]
  },
  {
   "cell_type": "code",
   "execution_count": 67,
   "metadata": {},
   "outputs": [
    {
     "name": "stdout",
     "output_type": "stream",
     "text": [
      "Initial number of features: 18\n",
      "Redundancy threshold: 0.8\n"
     ]
    }
   ],
   "source": [
    "# At the start of the for loop in study_redundancy_for_feature_selection\n",
    "print(f\"Initial number of features: {df.shape[1]}\")\n",
    "print(f\"Redundancy threshold: {min_thresh}\")"
   ]
  },
  {
   "cell_type": "markdown",
   "metadata": {},
   "source": [
    "### recall"
   ]
  },
  {
   "cell_type": "code",
   "execution_count": 68,
   "metadata": {},
   "outputs": [
    {
     "name": "stdout",
     "output_type": "stream",
     "text": [
      "Columns in the train dataset: ['category_code_lvl_1', 'category_code_lvl_2', 'price', 'activity_in_session', 'week_of_month', 'is_weekend', 'day', 'brand_value', 'product_category', 'time_of_day_sin', 'time_of_day_cos', 'day_of_week_sin', 'day_of_week_cos', 'hour_sin', 'hour_cos', 'min_sin', 'min_cos']\n",
      "Variables considered for correlation: ['category_code_lvl_1', 'category_code_lvl_2', 'price', 'activity_in_session', 'week_of_month', 'is_weekend', 'day', 'brand_value', 'product_category', 'time_of_day_sin', 'time_of_day_cos', 'day_of_week_sin', 'day_of_week_cos', 'hour_sin', 'hour_cos', 'min_sin', 'min_cos']\n",
      "Variables to drop at threshold 0.8: ['category_code_lvl_2', 'product_category', 'category_code_lvl_1']\n",
      "Evaluation results at threshold 0.8: {'accuracy': [0.6153151409586478, 0.6680859299400038], 'recall': [0.30339379754242246, 0.24692802808660036], 'precision': [0.2245074691491665, 0.24714494875549048], 'auc': [0.5034721201566288, 0.517074872273872], 'f1': [0.2580564887395794, 0.24703644080199033], 'f2': [0.28347274615931334, 0.24697138175220928]}\n",
      "Evaluation for recall: [0.30339379754242246, 0.24692802808660036]\n",
      "Variables to drop at threshold 0.85: ['category_code_lvl_2', 'product_category', 'category_code_lvl_1']\n",
      "Evaluation results at threshold 0.85: {'accuracy': [0.6153151409586478, 0.6680859299400038], 'recall': [0.30339379754242246, 0.24692802808660036], 'precision': [0.2245074691491665, 0.24714494875549048], 'auc': [0.5034721201566288, 0.517074872273872], 'f1': [0.2580564887395794, 0.24703644080199033], 'f2': [0.28347274615931334, 0.24697138175220928]}\n",
      "Evaluation for recall: [0.30339379754242246, 0.24692802808660036]\n",
      "Variables to drop at threshold 0.9: ['category_code_lvl_2', 'product_category', 'category_code_lvl_1']\n",
      "Evaluation results at threshold 0.9: {'accuracy': [0.6153151409586478, 0.6680859299400038], 'recall': [0.30339379754242246, 0.24692802808660036], 'precision': [0.2245074691491665, 0.24714494875549048], 'auc': [0.5034721201566288, 0.517074872273872], 'f1': [0.2580564887395794, 0.24703644080199033], 'f2': [0.28347274615931334, 0.24697138175220928]}\n",
      "Evaluation for recall: [0.30339379754242246, 0.24692802808660036]\n",
      "Variables to drop at threshold 0.95: []\n",
      "Evaluation results at threshold 0.95: {'accuracy': [0.6064124895168054, 0.6882781756015741], 'recall': [0.31919251023990636, 0.22586307782328846], 'precision': [0.22425488180883865, 0.2609871534820825], 'auc': [0.5034264297454601, 0.5224738711139119], 'f1': [0.2634311239888929, 0.24215809284818068], 'f2': [0.2942763122403841, 0.23211064341551413]}\n",
      "Evaluation for recall: [0.31919251023990636, 0.22586307782328846]\n",
      "Variables to drop at threshold 1.0: []\n",
      "Evaluation results at threshold 1.0: {'accuracy': [0.6064124895168054, 0.6882781756015741], 'recall': [0.31919251023990636, 0.22586307782328846], 'precision': [0.22425488180883865, 0.2609871534820825], 'auc': [0.5034264297454601, 0.5224738711139119], 'f1': [0.2634311239888929, 0.24215809284818068], 'f2': [0.2942763122403841, 0.23211064341551413]}\n",
      "Evaluation for recall: [0.31919251023990636, 0.22586307782328846]\n"
     ]
    },
    {
     "data": {
      "image/png": "[encoded data removed]",
      "text/plain": [
       "<Figure size 800x400 with 1 Axes>"
      ]
     },
     "metadata": {},
     "output_type": "display_data"
    }
   ],
   "source": [
    "if evaluate==True:\n",
    "\n",
    "    # modified study_variance_for_feature_selection() in dslabs functions to keep minimum variables and print metrics (due to error)\n",
    "\n",
    "\n",
    "    eval_metric = \"recall\"\n",
    "    figure(figsize=(2 * HEIGHT, HEIGHT))\n",
    "    study_redundancy_for_feature_selection(\n",
    "        train_sample,\n",
    "        test_sample,\n",
    "        target=target,\n",
    "        min_threshold = min_thresh,\n",
    "        lag = lag_redundacy,\n",
    "        metric=eval_metric,\n",
    "        file_tag=file_tag,\n",
    "    )\n",
    "    show()"
   ]
  },
  {
   "cell_type": "markdown",
   "metadata": {},
   "source": [
    "### accuracy"
   ]
  },
  {
   "cell_type": "code",
   "execution_count": 71,
   "metadata": {},
   "outputs": [
    {
     "name": "stdout",
     "output_type": "stream",
     "text": [
      "Columns in the train dataset: ['category_code_lvl_1', 'category_code_lvl_2', 'price', 'activity_in_session', 'week_of_month', 'is_weekend', 'day', 'brand_value', 'product_category', 'time_of_day_sin', 'time_of_day_cos', 'day_of_week_sin', 'day_of_week_cos', 'hour_sin', 'hour_cos', 'min_sin', 'min_cos']\n",
      "Variables considered for correlation: ['category_code_lvl_1', 'category_code_lvl_2', 'price', 'activity_in_session', 'week_of_month', 'is_weekend', 'day', 'brand_value', 'product_category', 'time_of_day_sin', 'time_of_day_cos', 'day_of_week_sin', 'day_of_week_cos', 'hour_sin', 'hour_cos', 'min_sin', 'min_cos']\n",
      "Variables to drop at threshold 0.7: ['category_code_lvl_2', 'product_category', 'category_code_lvl_1']\n",
      "Evaluation results at threshold 0.7: {'accuracy': [0.7794980968969744, 0.7784013934584866], 'recall': [0.0, 0.004681100058513751], 'precision': [0.0, 0.32653061224489793], 'auc': [0.5, 0.5009749951173973], 'f1': [0.0, 0.009229881742140178], 'f2': [0.0, 0.0058304788280737554]}\n",
      "Evaluation for accuracy: [0.7794980968969744, 0.7784013934584866]\n",
      "Variables to drop at threshold 0.75: ['category_code_lvl_2', 'product_category', 'category_code_lvl_1']\n",
      "Evaluation results at threshold 0.75: {'accuracy': [0.7794980968969744, 0.7784013934584866], 'recall': [0.0, 0.004681100058513751], 'precision': [0.0, 0.32653061224489793], 'auc': [0.5, 0.5009749951173973], 'f1': [0.0, 0.009229881742140178], 'f2': [0.0, 0.0058304788280737554]}\n",
      "Evaluation for accuracy: [0.7794980968969744, 0.7784013934584866]\n",
      "Variables to drop at threshold 0.8: ['category_code_lvl_2', 'product_category', 'category_code_lvl_1']\n",
      "Evaluation results at threshold 0.8: {'accuracy': [0.7794980968969744, 0.7784013934584866], 'recall': [0.0, 0.004681100058513751], 'precision': [0.0, 0.32653061224489793], 'auc': [0.5, 0.5009749951173973], 'f1': [0.0, 0.009229881742140178], 'f2': [0.0, 0.0058304788280737554]}\n",
      "Evaluation for accuracy: [0.7794980968969744, 0.7784013934584866]\n",
      "Variables to drop at threshold 0.85: ['category_code_lvl_2', 'product_category', 'category_code_lvl_1']\n",
      "Evaluation results at threshold 0.85: {'accuracy': [0.7794980968969744, 0.7784013934584866], 'recall': [0.0, 0.004681100058513751], 'precision': [0.0, 0.32653061224489793], 'auc': [0.5, 0.5009749951173973], 'f1': [0.0, 0.009229881742140178], 'f2': [0.0, 0.0058304788280737554]}\n",
      "Evaluation for accuracy: [0.7794980968969744, 0.7784013934584866]\n",
      "Variables to drop at threshold 0.9: ['category_code_lvl_2', 'product_category', 'category_code_lvl_1']\n",
      "Evaluation results at threshold 0.9: {'accuracy': [0.7794980968969744, 0.7784013934584866], 'recall': [0.0, 0.004681100058513751], 'precision': [0.0, 0.32653061224489793], 'auc': [0.5, 0.5009749951173973], 'f1': [0.0, 0.009229881742140178], 'f2': [0.0, 0.0058304788280737554]}\n",
      "Evaluation for accuracy: [0.7794980968969744, 0.7784013934584866]\n",
      "Variables to drop at threshold 0.95: []\n",
      "Evaluation results at threshold 0.95: {'accuracy': [0.7794980968969744, 0.7789174891942455], 'recall': [0.0, 0.0052662375658279695], 'precision': [0.0, 0.4], 'auc': [0.5, 0.5015158465823015], 'f1': [0.0, 0.010395610742131101], 'f2': [0.0, 0.006561201428883867]}\n",
      "Evaluation for accuracy: [0.7794980968969744, 0.7789174891942455]\n",
      "Variables to drop at threshold 1.0: []\n",
      "Evaluation results at threshold 1.0: {'accuracy': [0.7794980968969744, 0.7789174891942455], 'recall': [0.0, 0.0052662375658279695], 'precision': [0.0, 0.4], 'auc': [0.5, 0.5015158465823015], 'f1': [0.0, 0.010395610742131101], 'f2': [0.0, 0.006561201428883867]}\n",
      "Evaluation for accuracy: [0.7794980968969744, 0.7789174891942455]\n",
      "Variables to drop at threshold 1.05: []\n",
      "Evaluation results at threshold 1.05: {'accuracy': [0.7794980968969744, 0.7789174891942455], 'recall': [0.0, 0.0052662375658279695], 'precision': [0.0, 0.4], 'auc': [0.5, 0.5015158465823015], 'f1': [0.0, 0.010395610742131101], 'f2': [0.0, 0.006561201428883867]}\n",
      "Evaluation for accuracy: [0.7794980968969744, 0.7789174891942455]\n"
     ]
    },
    {
     "data": {
      "image/png": "[encoded data removed]",
      "text/plain": [
       "<Figure size 800x400 with 1 Axes>"
      ]
     },
     "metadata": {},
     "output_type": "display_data"
    }
   ],
   "source": [
    "if evaluate==True:\n",
    "\n",
    "    # modified study_variance_for_feature_selection() in dslabs functions to keep minimum variables and print metrics (due to error)\n",
    "\n",
    "\n",
    "    eval_metric = \"accuracy\"\n",
    "    figure(figsize=(2 * HEIGHT, HEIGHT))\n",
    "    study_redundancy_for_feature_selection(\n",
    "        train_sample,\n",
    "        test_sample,\n",
    "        target=target,\n",
    "        min_threshold = min_thresh,\n",
    "        lag = lag_redundacy,\n",
    "        metric=eval_metric,\n",
    "        file_tag=file_tag,\n",
    "    )\n",
    "    show()"
   ]
  },
  {
   "cell_type": "markdown",
   "metadata": {},
   "source": [
    "### precision"
   ]
  },
  {
   "cell_type": "code",
   "execution_count": 72,
   "metadata": {},
   "outputs": [
    {
     "name": "stdout",
     "output_type": "stream",
     "text": [
      "Columns in the train dataset: ['category_code_lvl_1', 'category_code_lvl_2', 'price', 'activity_in_session', 'week_of_month', 'is_weekend', 'day', 'brand_value', 'product_category', 'time_of_day_sin', 'time_of_day_cos', 'day_of_week_sin', 'day_of_week_cos', 'hour_sin', 'hour_cos', 'min_sin', 'min_cos']\n",
      "Variables considered for correlation: ['category_code_lvl_1', 'category_code_lvl_2', 'price', 'activity_in_session', 'week_of_month', 'is_weekend', 'day', 'brand_value', 'product_category', 'time_of_day_sin', 'time_of_day_cos', 'day_of_week_sin', 'day_of_week_cos', 'hour_sin', 'hour_cos', 'min_sin', 'min_cos']\n",
      "Variables to drop at threshold 0.7: ['category_code_lvl_2', 'product_category', 'category_code_lvl_1']\n",
      "Evaluation results at threshold 0.7: {'accuracy': [0.6153151409586478, 0.7784013934584866], 'recall': [0.30339379754242246, 0.004681100058513751], 'precision': [0.2245074691491665, 0.32653061224489793], 'auc': [0.5034721201566288, 0.5009749951173973], 'f1': [0.2580564887395794, 0.009229881742140178], 'f2': [0.28347274615931334, 0.0058304788280737554]}\n",
      "Evaluation for precision: [0.2245074691491665, 0.32653061224489793]\n",
      "Variables to drop at threshold 0.75: ['category_code_lvl_2', 'product_category', 'category_code_lvl_1']\n",
      "Evaluation results at threshold 0.75: {'accuracy': [0.6153151409586478, 0.7784013934584866], 'recall': [0.30339379754242246, 0.004681100058513751], 'precision': [0.2245074691491665, 0.32653061224489793], 'auc': [0.5034721201566288, 0.5009749951173973], 'f1': [0.2580564887395794, 0.009229881742140178], 'f2': [0.28347274615931334, 0.0058304788280737554]}\n",
      "Evaluation for precision: [0.2245074691491665, 0.32653061224489793]\n",
      "Variables to drop at threshold 0.8: ['category_code_lvl_2', 'product_category', 'category_code_lvl_1']\n",
      "Evaluation results at threshold 0.8: {'accuracy': [0.6153151409586478, 0.7784013934584866], 'recall': [0.30339379754242246, 0.004681100058513751], 'precision': [0.2245074691491665, 0.32653061224489793], 'auc': [0.5034721201566288, 0.5009749951173973], 'f1': [0.2580564887395794, 0.009229881742140178], 'f2': [0.28347274615931334, 0.0058304788280737554]}\n",
      "Evaluation for precision: [0.2245074691491665, 0.32653061224489793]\n",
      "Variables to drop at threshold 0.85: ['category_code_lvl_2', 'product_category', 'category_code_lvl_1']\n",
      "Evaluation results at threshold 0.85: {'accuracy': [0.6153151409586478, 0.7784013934584866], 'recall': [0.30339379754242246, 0.004681100058513751], 'precision': [0.2245074691491665, 0.32653061224489793], 'auc': [0.5034721201566288, 0.5009749951173973], 'f1': [0.2580564887395794, 0.009229881742140178], 'f2': [0.28347274615931334, 0.0058304788280737554]}\n",
      "Evaluation for precision: [0.2245074691491665, 0.32653061224489793]\n",
      "Variables to drop at threshold 0.9: ['category_code_lvl_2', 'product_category', 'category_code_lvl_1']\n",
      "Evaluation results at threshold 0.9: {'accuracy': [0.6153151409586478, 0.7784013934584866], 'recall': [0.30339379754242246, 0.004681100058513751], 'precision': [0.2245074691491665, 0.32653061224489793], 'auc': [0.5034721201566288, 0.5009749951173973], 'f1': [0.2580564887395794, 0.009229881742140178], 'f2': [0.28347274615931334, 0.0058304788280737554]}\n",
      "Evaluation for precision: [0.2245074691491665, 0.32653061224489793]\n",
      "Variables to drop at threshold 0.95: []\n",
      "Evaluation results at threshold 0.95: {'accuracy': [0.6064124895168054, 0.7789174891942455], 'recall': [0.31919251023990636, 0.0052662375658279695], 'precision': [0.22425488180883865, 0.4], 'auc': [0.5034264297454601, 0.5015158465823015], 'f1': [0.2634311239888929, 0.010395610742131101], 'f2': [0.2942763122403841, 0.006561201428883867]}\n",
      "Evaluation for precision: [0.22425488180883865, 0.4]\n",
      "Variables to drop at threshold 1.0: []\n",
      "Evaluation results at threshold 1.0: {'accuracy': [0.6064124895168054, 0.7789174891942455], 'recall': [0.31919251023990636, 0.0052662375658279695], 'precision': [0.22425488180883865, 0.4], 'auc': [0.5034264297454601, 0.5015158465823015], 'f1': [0.2634311239888929, 0.010395610742131101], 'f2': [0.2942763122403841, 0.006561201428883867]}\n",
      "Evaluation for precision: [0.22425488180883865, 0.4]\n",
      "Variables to drop at threshold 1.05: []\n",
      "Evaluation results at threshold 1.05: {'accuracy': [0.6064124895168054, 0.7789174891942455], 'recall': [0.31919251023990636, 0.0052662375658279695], 'precision': [0.22425488180883865, 0.4], 'auc': [0.5034264297454601, 0.5015158465823015], 'f1': [0.2634311239888929, 0.010395610742131101], 'f2': [0.2942763122403841, 0.006561201428883867]}\n",
      "Evaluation for precision: [0.22425488180883865, 0.4]\n"
     ]
    },
    {
     "data": {
      "image/png": "[encoded data removed]",
      "text/plain": [
       "<Figure size 800x400 with 1 Axes>"
      ]
     },
     "metadata": {},
     "output_type": "display_data"
    }
   ],
   "source": [
    "if evaluate==True:\n",
    "\n",
    "    # modified study_variance_for_feature_selection() in dslabs functions to keep minimum variables and print metrics (due to error)\n",
    "\n",
    "\n",
    "    eval_metric = \"precision\"\n",
    "    figure(figsize=(2 * HEIGHT, HEIGHT))\n",
    "    study_redundancy_for_feature_selection(\n",
    "        train_sample,\n",
    "        test_sample,\n",
    "        target=target,\n",
    "        min_threshold = min_thresh,\n",
    "        lag = lag_redundacy,\n",
    "        metric=eval_metric,\n",
    "        file_tag=file_tag,\n",
    "    )\n",
    "    show()"
   ]
  },
  {
   "cell_type": "code",
   "execution_count": null,
   "metadata": {},
   "outputs": [],
   "source": []
  },
  {
   "cell_type": "markdown",
   "metadata": {},
   "source": [
    "## Feat 2 - Study redundant variables and threshold"
   ]
  },
  {
   "cell_type": "markdown",
   "metadata": {},
   "source": [
    "## Feat 2 strategy aplication"
   ]
  },
  {
   "cell_type": "code",
   "execution_count": null,
   "metadata": {},
   "outputs": [],
   "source": []
  },
  {
   "cell_type": "code",
   "execution_count": 98,
   "metadata": {},
   "outputs": [],
   "source": [
    "\n",
    "def select_redundant_variables(\n",
    "    data: DataFrame, \n",
    "    min_threshold: float = 1, \n",
    "    target: str = \"is_purchase\", \n",
    "    exclude: list[str] = [\"day_of_year\"]  # Columns to exclude from redundancy check\n",
    ") -> list:\n",
    "    # Exclude the columns that should not be considered (like 'day_of_month')\n",
    "    data_filtered = data.drop(columns=[target] + exclude, errors='ignore')\n",
    "\n",
    "    # Calculate the correlation matrix\n",
    "    corr_matrix: DataFrame = abs(data_filtered.corr())\n",
    "    variables: Index[str] = corr_matrix.columns\n",
    "    vars2drop: list = []\n",
    "\n",
    "    # Iterate over the variables and check correlations\n",
    "    for v1 in variables:\n",
    "        vars_corr: Series = (corr_matrix[v1]).loc[corr_matrix[v1] >= min_threshold]\n",
    "        vars_corr.drop(v1, inplace=True)  # Remove self-correlation\n",
    "        if len(vars_corr) > 1:  # Check if more than one correlated variable\n",
    "            lst_corr = list(vars_corr.index)\n",
    "            for v2 in lst_corr:\n",
    "                if v2 not in vars2drop:\n",
    "                    vars2drop.append(v2)\n",
    "\n",
    "    return vars2drop"
   ]
  },
  {
   "cell_type": "code",
   "execution_count": 110,
   "metadata": {},
   "outputs": [],
   "source": [
    "from pandas import DataFrame, Series, Index\n",
    "\n",
    "def select_redundant_variables(\n",
    "    data: DataFrame, \n",
    "    min_threshold: float = 1, \n",
    "    target: str = \"is_purchase\", \n",
    "    exclude: list[str] = [\"day_of_year\"]\n",
    ") -> list:\n",
    "    print(\"Iniciando a função select_redundant_variables...\")\n",
    "    # Criar uma cópia do DataFrame e remover as colunas que não devem ser consideradas\n",
    "    data_filtered = data.drop(columns=[target] + exclude, errors='ignore')\n",
    "\n",
    "    # Calcular a matriz de correlação\n",
    "    corr_matrix: DataFrame = abs(data_filtered.corr())\n",
    "    variables: Index[str] = corr_matrix.columns\n",
    "    vars2drop: list = []\n",
    "\n",
    "    # Iterar sobre as variáveis e verificar correlações\n",
    "    for v1 in variables:\n",
    "        vars_corr: Series = (corr_matrix[v1]).loc[corr_matrix[v1] >= min_threshold]\n",
    "        vars_corr.drop(v1, inplace=True)  # Remover auto-correlação\n",
    "        if len(vars_corr) > 1:  # Verificar se mais de uma variável correlacionada\n",
    "            lst_corr = list(vars_corr.index)\n",
    "            for v2 in lst_corr:\n",
    "                if v2 not in vars2drop:\n",
    "                    vars2drop.append(v2)\n",
    "\n",
    "    print(\"Saindo da função select_redundant_variables com vars2drop:\", vars2drop)\n",
    "    return vars2drop\n",
    "\n",
    "def apply_remove_redundant_variables(df: DataFrame, min_threshold=0.8, exclude=['day_of_year'], target='is_purchase') -> DataFrame:\n",
    "    df_copy = df.copy()\n",
    "\n",
    "    # Verifique se as colunas alvo estão corretas\n",
    "    print(f\"Excluindo as seguintes colunas: {exclude + [target]}\")  # Debugging step\n",
    "\n",
    "    # Chame a função para obter as colunas a serem removidas\n",
    "    vars2drop = select_redundant_variables(df_copy, min_threshold=min_threshold, exclude=exclude, target=target)\n",
    "    \n",
    "    # Imprimindo informações detalhadas\n",
    "    print(f\"Variance threshold: {min_threshold}, Variables to drop: {vars2drop}\")\n",
    "    \n",
    "    # Verifique se as colunas a serem removidas estão realmente presentes\n",
    "    missing_vars = [var for var in vars2drop if var not in df_copy.columns]\n",
    "    if missing_vars:\n",
    "        print(f\"As seguintes colunas não estão presentes no DataFrame: {missing_vars}\")\n",
    "\n",
    "    # Remover as colunas do DataFrame, mas manter a coluna target\n",
    "    df_vars_drop = df_copy.drop(columns=vars2drop, errors='ignore')\n",
    "    print(\"Columns to drop:\", vars2drop)\n",
    "    print(\"Remaining columns:\", df_vars_drop.columns)\n",
    "\n",
    "    return df_vars_drop\n"
   ]
  },
  {
   "cell_type": "code",
   "execution_count": 107,
   "metadata": {},
   "outputs": [
    {
     "name": "stdout",
     "output_type": "stream",
     "text": [
      "Applying strategy 2 with target 'is_purchase'...\n",
      "Excluindo as seguintes colunas: ['day_of_year', 'is_purchase']\n",
      "Iniciando a função select_redundant_variables...\n",
      "Saindo da função select_redundant_variables com vars2drop: ['category_code_lvl_2', 'product_category', 'category_code_lvl_1']\n",
      "Variance threshold: 0.8, Variables to drop: ['category_code_lvl_2', 'product_category', 'category_code_lvl_1']\n",
      "Columns to drop: ['category_code_lvl_2', 'product_category', 'category_code_lvl_1']\n",
      "Remaining columns: Index(['price', 'is_purchase', 'activity_in_session', 'week_of_month',\n",
      "       'is_weekend', 'day', 'brand_value', 'time_of_day_sin',\n",
      "       'time_of_day_cos', 'day_of_week_sin', 'day_of_week_cos', 'hour_sin',\n",
      "       'hour_cos', 'min_sin', 'min_cos'],\n",
      "      dtype='object')\n",
      "Final DataFrame after applying strategy 2:\n",
      "          price  is_purchase  activity_in_session  week_of_month  is_weekend  \\\n",
      "0        949.47            0                  3.0              1           0   \n",
      "1408     170.14            0                 25.0              1           0   \n",
      "1407      44.53            1                  0.0              1           0   \n",
      "1406     211.32            0                  1.0              1           0   \n",
      "1405     453.16            1                  3.0              1           0   \n",
      "...         ...          ...                  ...            ...         ...   \n",
      "253642  1428.30            0                  2.0              5           1   \n",
      "253641    99.82            0                  1.0              5           1   \n",
      "253640   124.30            1                  3.0              5           1   \n",
      "253651   127.42            0                  4.0              5           1   \n",
      "258333    66.90            0                  2.0              5           1   \n",
      "\n",
      "        day  brand_value  time_of_day_sin  time_of_day_cos  day_of_week_sin  \\\n",
      "0         1        779.2            0.624           -0.781           -0.775   \n",
      "1408      1        282.5           -0.975            0.221           -0.775   \n",
      "1407      1         51.1           -0.975            0.221           -0.775   \n",
      "1406      1        173.5           -0.975            0.221           -0.775   \n",
      "1405      1        779.2           -0.624           -0.781           -0.775   \n",
      "...     ...          ...              ...              ...              ...   \n",
      "253642   30        779.2           -0.624           -0.781           -0.993   \n",
      "253641   30        348.4            0.624           -0.781           -0.993   \n",
      "253640   30        282.5            0.624           -0.781           -0.993   \n",
      "253651   30        141.8            0.624           -0.781           -0.993   \n",
      "258333   30        282.5            0.624           -0.781           -0.993   \n",
      "\n",
      "        day_of_week_cos  hour_sin  hour_cos  min_sin  min_cos  \n",
      "0                -0.632     0.966     0.259   -0.105    0.995  \n",
      "1408             -0.632    -0.966    -0.259   -0.208   -0.978  \n",
      "1407             -0.632     0.000    -1.000   -0.669    0.743  \n",
      "1406             -0.632    -0.866    -0.500    0.105   -0.995  \n",
      "1405             -0.632    -0.707     0.707    0.407   -0.914  \n",
      "...                 ...       ...       ...      ...      ...  \n",
      "253642            0.121    -0.707     0.707    0.951    0.309  \n",
      "253641            0.121     0.966     0.259   -0.500    0.866  \n",
      "253640            0.121     0.500    -0.866   -0.588   -0.809  \n",
      "253651            0.121     0.259    -0.966   -0.500   -0.866  \n",
      "258333            0.121     0.866    -0.500    0.309   -0.951  \n",
      "\n",
      "[258334 rows x 15 columns]\n",
      "          price  is_purchase  activity_in_session  week_of_month  is_weekend  \\\n",
      "0        949.47            0                  3.0              1           0   \n",
      "1408     170.14            0                 25.0              1           0   \n",
      "1407      44.53            1                  0.0              1           0   \n",
      "1406     211.32            0                  1.0              1           0   \n",
      "1405     453.16            1                  3.0              1           0   \n",
      "...         ...          ...                  ...            ...         ...   \n",
      "253642  1428.30            0                  2.0              5           1   \n",
      "253641    99.82            0                  1.0              5           1   \n",
      "253640   124.30            1                  3.0              5           1   \n",
      "253651   127.42            0                  4.0              5           1   \n",
      "258333    66.90            0                  2.0              5           1   \n",
      "\n",
      "        day  brand_value  time_of_day_sin  time_of_day_cos  day_of_week_sin  \\\n",
      "0         1        779.2            0.624           -0.781           -0.775   \n",
      "1408      1        282.5           -0.975            0.221           -0.775   \n",
      "1407      1         51.1           -0.975            0.221           -0.775   \n",
      "1406      1        173.5           -0.975            0.221           -0.775   \n",
      "1405      1        779.2           -0.624           -0.781           -0.775   \n",
      "...     ...          ...              ...              ...              ...   \n",
      "253642   30        779.2           -0.624           -0.781           -0.993   \n",
      "253641   30        348.4            0.624           -0.781           -0.993   \n",
      "253640   30        282.5            0.624           -0.781           -0.993   \n",
      "253651   30        141.8            0.624           -0.781           -0.993   \n",
      "258333   30        282.5            0.624           -0.781           -0.993   \n",
      "\n",
      "        day_of_week_cos  hour_sin  hour_cos  min_sin  min_cos  \n",
      "0                -0.632     0.966     0.259   -0.105    0.995  \n",
      "1408             -0.632    -0.966    -0.259   -0.208   -0.978  \n",
      "1407             -0.632     0.000    -1.000   -0.669    0.743  \n",
      "1406             -0.632    -0.866    -0.500    0.105   -0.995  \n",
      "1405             -0.632    -0.707     0.707    0.407   -0.914  \n",
      "...                 ...       ...       ...      ...      ...  \n",
      "253642            0.121    -0.707     0.707    0.951    0.309  \n",
      "253641            0.121     0.966     0.259   -0.500    0.866  \n",
      "253640            0.121     0.500    -0.866   -0.588   -0.809  \n",
      "253651            0.121     0.259    -0.966   -0.500   -0.866  \n",
      "258333            0.121     0.866    -0.500    0.309   -0.951  \n",
      "\n",
      "[258334 rows x 15 columns]\n"
     ]
    }
   ],
   "source": [
    "\n",
    "def apply_strategy_2(df: DataFrame, target='is_purchase'):\n",
    "    print(f\"Applying strategy 2 with target '{target}'...\")\n",
    "    df_copy = apply_remove_redundant_variables(df, min_threshold=0.8, exclude=['day_of_year'], target=target)\n",
    "    print(\"Final DataFrame after applying strategy 2:\")\n",
    "    print(df_copy)\n",
    "    return df_copy\n",
    "\n",
    "# Chamada da função com o seu DataFrame df\n",
    "result_df = apply_strategy_2(df, target='is_purchase')\n",
    "print(result_df)"
   ]
  },
  {
   "cell_type": "code",
   "execution_count": 111,
   "metadata": {},
   "outputs": [
    {
     "name": "stdout",
     "output_type": "stream",
     "text": [
      "Excluindo as seguintes colunas: ['day_of_year', 'is_purchase']\n",
      "Iniciando a função select_redundant_variables...\n",
      "Saindo da função select_redundant_variables com vars2drop: ['category_code_lvl_2', 'product_category', 'category_code_lvl_1']\n",
      "Variance threshold: 0.7, Variables to drop: ['category_code_lvl_2', 'product_category', 'category_code_lvl_1']\n",
      "Columns to drop: ['category_code_lvl_2', 'product_category', 'category_code_lvl_1']\n",
      "Remaining columns: Index(['price', 'is_purchase', 'activity_in_session', 'week_of_month',\n",
      "       'is_weekend', 'day', 'brand_value', 'time_of_day_sin',\n",
      "       'time_of_day_cos', 'day_of_week_sin', 'day_of_week_cos', 'hour_sin',\n",
      "       'hour_cos', 'min_sin', 'min_cos'],\n",
      "      dtype='object')\n"
     ]
    }
   ],
   "source": [
    "from pandas import DataFrame, Series\n",
    "from sklearn.preprocessing import MinMaxScaler\n",
    "\n",
    "def apply_strategy_2(df):\n",
    "\n",
    "\n",
    "    df_copy = apply_remove_redundant_variables(df, min_threshold=0.7, exclude=['day_of_year'], target=target)\n",
    "\n",
    "\n",
    "    return df_copy\n",
    "\n",
    "\n",
    "df_2=df.copy()\n",
    "\n",
    "df_2=apply_strategy_2(df_2)"
   ]
  },
  {
   "cell_type": "code",
   "execution_count": 112,
   "metadata": {},
   "outputs": [
    {
     "data": {
      "text/html": [
       "<div>\n",
       "<style scoped>\n",
       "    .dataframe tbody tr th:only-of-type {\n",
       "        vertical-align: middle;\n",
       "    }\n",
       "\n",
       "    .dataframe tbody tr th {\n",
       "        vertical-align: top;\n",
       "    }\n",
       "\n",
       "    .dataframe thead th {\n",
       "        text-align: right;\n",
       "    }\n",
       "</style>\n",
       "<table border=\"1\" class=\"dataframe\">\n",
       "  <thead>\n",
       "    <tr style=\"text-align: right;\">\n",
       "      <th></th>\n",
       "      <th>price</th>\n",
       "      <th>is_purchase</th>\n",
       "      <th>activity_in_session</th>\n",
       "      <th>week_of_month</th>\n",
       "      <th>is_weekend</th>\n",
       "      <th>day</th>\n",
       "      <th>brand_value</th>\n",
       "      <th>time_of_day_sin</th>\n",
       "      <th>time_of_day_cos</th>\n",
       "      <th>day_of_week_sin</th>\n",
       "      <th>day_of_week_cos</th>\n",
       "      <th>hour_sin</th>\n",
       "      <th>hour_cos</th>\n",
       "      <th>min_sin</th>\n",
       "      <th>min_cos</th>\n",
       "    </tr>\n",
       "  </thead>\n",
       "  <tbody>\n",
       "    <tr>\n",
       "      <th>0</th>\n",
       "      <td>949.47</td>\n",
       "      <td>0</td>\n",
       "      <td>3.0</td>\n",
       "      <td>1</td>\n",
       "      <td>0</td>\n",
       "      <td>1</td>\n",
       "      <td>779.2</td>\n",
       "      <td>0.624</td>\n",
       "      <td>-0.781</td>\n",
       "      <td>-0.775</td>\n",
       "      <td>-0.632</td>\n",
       "      <td>0.966</td>\n",
       "      <td>0.259</td>\n",
       "      <td>-0.105</td>\n",
       "      <td>0.995</td>\n",
       "    </tr>\n",
       "    <tr>\n",
       "      <th>1408</th>\n",
       "      <td>170.14</td>\n",
       "      <td>0</td>\n",
       "      <td>25.0</td>\n",
       "      <td>1</td>\n",
       "      <td>0</td>\n",
       "      <td>1</td>\n",
       "      <td>282.5</td>\n",
       "      <td>-0.975</td>\n",
       "      <td>0.221</td>\n",
       "      <td>-0.775</td>\n",
       "      <td>-0.632</td>\n",
       "      <td>-0.966</td>\n",
       "      <td>-0.259</td>\n",
       "      <td>-0.208</td>\n",
       "      <td>-0.978</td>\n",
       "    </tr>\n",
       "    <tr>\n",
       "      <th>1407</th>\n",
       "      <td>44.53</td>\n",
       "      <td>1</td>\n",
       "      <td>0.0</td>\n",
       "      <td>1</td>\n",
       "      <td>0</td>\n",
       "      <td>1</td>\n",
       "      <td>51.1</td>\n",
       "      <td>-0.975</td>\n",
       "      <td>0.221</td>\n",
       "      <td>-0.775</td>\n",
       "      <td>-0.632</td>\n",
       "      <td>0.000</td>\n",
       "      <td>-1.000</td>\n",
       "      <td>-0.669</td>\n",
       "      <td>0.743</td>\n",
       "    </tr>\n",
       "    <tr>\n",
       "      <th>1406</th>\n",
       "      <td>211.32</td>\n",
       "      <td>0</td>\n",
       "      <td>1.0</td>\n",
       "      <td>1</td>\n",
       "      <td>0</td>\n",
       "      <td>1</td>\n",
       "      <td>173.5</td>\n",
       "      <td>-0.975</td>\n",
       "      <td>0.221</td>\n",
       "      <td>-0.775</td>\n",
       "      <td>-0.632</td>\n",
       "      <td>-0.866</td>\n",
       "      <td>-0.500</td>\n",
       "      <td>0.105</td>\n",
       "      <td>-0.995</td>\n",
       "    </tr>\n",
       "    <tr>\n",
       "      <th>1405</th>\n",
       "      <td>453.16</td>\n",
       "      <td>1</td>\n",
       "      <td>3.0</td>\n",
       "      <td>1</td>\n",
       "      <td>0</td>\n",
       "      <td>1</td>\n",
       "      <td>779.2</td>\n",
       "      <td>-0.624</td>\n",
       "      <td>-0.781</td>\n",
       "      <td>-0.775</td>\n",
       "      <td>-0.632</td>\n",
       "      <td>-0.707</td>\n",
       "      <td>0.707</td>\n",
       "      <td>0.407</td>\n",
       "      <td>-0.914</td>\n",
       "    </tr>\n",
       "  </tbody>\n",
       "</table>\n",
       "</div>"
      ],
      "text/plain": [
       "       price  is_purchase  activity_in_session  week_of_month  is_weekend  \\\n",
       "0     949.47            0                  3.0              1           0   \n",
       "1408  170.14            0                 25.0              1           0   \n",
       "1407   44.53            1                  0.0              1           0   \n",
       "1406  211.32            0                  1.0              1           0   \n",
       "1405  453.16            1                  3.0              1           0   \n",
       "\n",
       "      day  brand_value  time_of_day_sin  time_of_day_cos  day_of_week_sin  \\\n",
       "0       1        779.2            0.624           -0.781           -0.775   \n",
       "1408    1        282.5           -0.975            0.221           -0.775   \n",
       "1407    1         51.1           -0.975            0.221           -0.775   \n",
       "1406    1        173.5           -0.975            0.221           -0.775   \n",
       "1405    1        779.2           -0.624           -0.781           -0.775   \n",
       "\n",
       "      day_of_week_cos  hour_sin  hour_cos  min_sin  min_cos  \n",
       "0              -0.632     0.966     0.259   -0.105    0.995  \n",
       "1408           -0.632    -0.966    -0.259   -0.208   -0.978  \n",
       "1407           -0.632     0.000    -1.000   -0.669    0.743  \n",
       "1406           -0.632    -0.866    -0.500    0.105   -0.995  \n",
       "1405           -0.632    -0.707     0.707    0.407   -0.914  "
      ]
     },
     "execution_count": 112,
     "metadata": {},
     "output_type": "execute_result"
    }
   ],
   "source": [
    "df_2.head()"
   ]
  },
  {
   "cell_type": "markdown",
   "metadata": {},
   "source": [
    "## Feat 2 train/test split "
   ]
  },
  {
   "cell_type": "code",
   "execution_count": 113,
   "metadata": {},
   "outputs": [
    {
     "name": "stdout",
     "output_type": "stream",
     "text": [
      "Labels=[0, 1]\n"
     ]
    },
    {
     "data": {
      "image/png": "[encoded data removed]",
      "text/plain": [
       "<Figure size 600x400 with 1 Axes>"
      ]
     },
     "metadata": {},
     "output_type": "display_data"
    }
   ],
   "source": [
    "if evaluate==True:\n",
    "\n",
    "    from pandas import concat\n",
    "    from matplotlib.pyplot import figure, show\n",
    "    from sklearn.model_selection import train_test_split\n",
    "    from dslabs_functions import plot_multibar_chart\n",
    "\n",
    "\n",
    "    # Call the function to split the data\n",
    "    from numpy import array, ndarray\n",
    "\n",
    "\n",
    "    y_2, X_2, labels, values = define_target_and_prepare_data(df_2, target)\n",
    "\n",
    "\n",
    "\n",
    "    train_2, test_2 = split_data_save_csv(pd.DataFrame(X_2, columns=df_2.columns), y_2, data_columns=df_2.columns, target_column=target)\n",
    "\n",
    "    # Distribution check\n",
    "    values[\"Train\"] = [\n",
    "        len(train_2[train_2[target] == 0]),\n",
    "        len(train_2[train_2[target] == 1]),\n",
    "    ]\n",
    "    values[\"Test\"] = [\n",
    "        len(test_2[test_2[target] == 0]),\n",
    "        len(test_2[test_2[target] == 1]),\n",
    "    ]\n",
    "\n",
    "    # Visualize the distribution\n",
    "    figure(figsize=(6, 4))\n",
    "    plot_multibar_chart(labels, values, title=\"Data distribution per dataset\")\n",
    "    show()"
   ]
  },
  {
   "cell_type": "markdown",
   "metadata": {},
   "source": [
    "## Feat 2 evaluate"
   ]
  },
  {
   "cell_type": "code",
   "execution_count": 114,
   "metadata": {},
   "outputs": [
    {
     "data": {
      "image/png": "[encoded data removed]",
      "text/plain": [
       "<Figure size 640x480 with 1 Axes>"
      ]
     },
     "metadata": {},
     "output_type": "display_data"
    }
   ],
   "source": [
    "if evaluate == True:\n",
    "    figure()\n",
    "    eval_2: dict[str, list] = evaluate_approach(train_2, test_2, target='is_purchase', metric=\"precision\")\n",
    "    plot_multibar_chart(\n",
    "        [\"NB\", \"KNN\"], eval_2, title=f\"{file_tag}_approach_2_evaluation\", percentage=True\n",
    "    )\n",
    "    savefig(f\"images/{file_tag}_approach_2_evaluation.png\")\n",
    "    show()"
   ]
  },
  {
   "cell_type": "markdown",
   "metadata": {},
   "source": [
    "# Approach uplift comparison"
   ]
  },
  {
   "cell_type": "markdown",
   "metadata": {},
   "source": [
    "## uplift df"
   ]
  },
  {
   "cell_type": "code",
   "execution_count": 115,
   "metadata": {},
   "outputs": [
    {
     "data": {
      "text/html": [
       "<div>\n",
       "<style scoped>\n",
       "    .dataframe tbody tr th:only-of-type {\n",
       "        vertical-align: middle;\n",
       "    }\n",
       "\n",
       "    .dataframe tbody tr th {\n",
       "        vertical-align: top;\n",
       "    }\n",
       "\n",
       "    .dataframe thead tr th {\n",
       "        text-align: left;\n",
       "    }\n",
       "</style>\n",
       "<table border=\"1\" class=\"dataframe\">\n",
       "  <thead>\n",
       "    <tr>\n",
       "      <th></th>\n",
       "      <th colspan=\"6\" halign=\"left\">Approach 1</th>\n",
       "      <th colspan=\"6\" halign=\"left\">Approach 2</th>\n",
       "      <th colspan=\"6\" halign=\"left\">Uplift</th>\n",
       "    </tr>\n",
       "    <tr>\n",
       "      <th></th>\n",
       "      <th>accuracy</th>\n",
       "      <th>recall</th>\n",
       "      <th>precision</th>\n",
       "      <th>auc</th>\n",
       "      <th>f1</th>\n",
       "      <th>f2</th>\n",
       "      <th>accuracy</th>\n",
       "      <th>recall</th>\n",
       "      <th>precision</th>\n",
       "      <th>auc</th>\n",
       "      <th>f1</th>\n",
       "      <th>f2</th>\n",
       "      <th>accuracy</th>\n",
       "      <th>recall</th>\n",
       "      <th>precision</th>\n",
       "      <th>auc</th>\n",
       "      <th>f1</th>\n",
       "      <th>f2</th>\n",
       "    </tr>\n",
       "  </thead>\n",
       "  <tbody>\n",
       "    <tr>\n",
       "      <th>Naive Bayes</th>\n",
       "      <td>0.562548</td>\n",
       "      <td>0.399953</td>\n",
       "      <td>0.223600</td>\n",
       "      <td>0.504175</td>\n",
       "      <td>0.286838</td>\n",
       "      <td>0.345460</td>\n",
       "      <td>0.597708</td>\n",
       "      <td>0.327800</td>\n",
       "      <td>0.220808</td>\n",
       "      <td>0.500809</td>\n",
       "      <td>0.263871</td>\n",
       "      <td>0.298840</td>\n",
       "      <td>0.035161</td>\n",
       "      <td>-0.072153</td>\n",
       "      <td>-0.002791</td>\n",
       "      <td>-0.003366</td>\n",
       "      <td>-0.022967</td>\n",
       "      <td>-0.046621</td>\n",
       "    </tr>\n",
       "    <tr>\n",
       "      <th>KNN</th>\n",
       "      <td>0.779035</td>\n",
       "      <td>0.009620</td>\n",
       "      <td>0.403941</td>\n",
       "      <td>0.502809</td>\n",
       "      <td>0.018793</td>\n",
       "      <td>0.011954</td>\n",
       "      <td>0.779074</td>\n",
       "      <td>0.009151</td>\n",
       "      <td>0.403101</td>\n",
       "      <td>0.502665</td>\n",
       "      <td>0.017896</td>\n",
       "      <td>0.011374</td>\n",
       "      <td>0.000039</td>\n",
       "      <td>-0.000469</td>\n",
       "      <td>-0.000840</td>\n",
       "      <td>-0.000144</td>\n",
       "      <td>-0.000897</td>\n",
       "      <td>-0.000580</td>\n",
       "    </tr>\n",
       "  </tbody>\n",
       "</table>\n",
       "</div>"
      ],
      "text/plain": [
       "            Approach 1                                                    \\\n",
       "              accuracy    recall precision       auc        f1        f2   \n",
       "Naive Bayes   0.562548  0.399953  0.223600  0.504175  0.286838  0.345460   \n",
       "KNN           0.779035  0.009620  0.403941  0.502809  0.018793  0.011954   \n",
       "\n",
       "            Approach 2                                                    \\\n",
       "              accuracy    recall precision       auc        f1        f2   \n",
       "Naive Bayes   0.597708  0.327800  0.220808  0.500809  0.263871  0.298840   \n",
       "KNN           0.779074  0.009151  0.403101  0.502665  0.017896  0.011374   \n",
       "\n",
       "               Uplift                                                    \n",
       "             accuracy    recall precision       auc        f1        f2  \n",
       "Naive Bayes  0.035161 -0.072153 -0.002791 -0.003366 -0.022967 -0.046621  \n",
       "KNN          0.000039 -0.000469 -0.000840 -0.000144 -0.000897 -0.000580  "
      ]
     },
     "metadata": {},
     "output_type": "display_data"
    }
   ],
   "source": [
    "if evaluate == True:\n",
    "    \n",
    "    algorithms = ['Naive Bayes', 'KNN']\n",
    "\n",
    "    # Create DataFrames for eval_1 and eval_2\n",
    "    df_eval_1 = pd.DataFrame(eval_1, index=algorithms)\n",
    "    df_eval_2 = pd.DataFrame(eval_2, index=algorithms)\n",
    "\n",
    "    # Calculate uplift\n",
    "    df_uplift = df_eval_2 - df_eval_1\n",
    "\n",
    "\n",
    "\n",
    "    # Combine everything into one DataFrame (without misalignment issues)\n",
    "    comparison_df = pd.concat([df_eval_1, df_eval_2, df_uplift], axis=1)\n",
    "    comparison_df.columns = pd.MultiIndex.from_product([['Approach 1', 'Approach 2', 'Uplift'], eval_1.keys()])\n",
    "\n",
    "\n",
    "\n",
    "    # Display the DataFrame\n",
    "    display(comparison_df)"
   ]
  },
  {
   "cell_type": "markdown",
   "metadata": {},
   "source": [
    "# Analysis\n",
    "\n",
    "- No improvement (actuall loss)\n",
    "\n",
    "Comparing with previous dataset:\n",
    "- For now lets go with missing values dataset, becasue the metrics decreaseed a lot in the scalling treatment\n",
    "\n",
    "\n",
    "Decision:\n",
    "- In balancing, use missing values dataset"
   ]
  },
  {
   "cell_type": "markdown",
   "metadata": {},
   "source": [
    "# save to csv"
   ]
  },
  {
   "cell_type": "code",
   "execution_count": 117,
   "metadata": {},
   "outputs": [
    {
     "name": "stdout",
     "output_type": "stream",
     "text": [
      "Variance threshold: 0.3, Remaining features: 17\n",
      "Variables to drop: ['is_weekend']\n",
      "Columns to drop: ['is_weekend']\n",
      "Remaining columns: Index(['category_code_lvl_1', 'category_code_lvl_2', 'price', 'is_purchase',\n",
      "       'activity_in_session', 'week_of_month', 'day', 'brand_value',\n",
      "       'product_category', 'time_of_day_sin', 'time_of_day_cos',\n",
      "       'day_of_week_sin', 'day_of_week_cos', 'hour_sin', 'hour_cos', 'min_sin',\n",
      "       'min_cos'],\n",
      "      dtype='object')\n",
      "Index(['category_code_lvl_1', 'category_code_lvl_2', 'price', 'is_purchase',\n",
      "       'activity_in_session', 'week_of_month', 'day', 'brand_value',\n",
      "       'product_category', 'time_of_day_sin', 'time_of_day_cos',\n",
      "       'day_of_week_sin', 'day_of_week_cos', 'hour_sin', 'hour_cos', 'min_sin',\n",
      "       'min_cos'],\n",
      "      dtype='object')\n"
     ]
    }
   ],
   "source": [
    "if test_data==False:\n",
    "    \n",
    "    \n",
    "    data_save=df.copy()\n",
    "\n",
    "    data_save=apply_strategy_1(data_save)\n",
    "        \n",
    "    data_save.to_csv(f\"dataset/df_ecom_2_5_feat_eng_input.csv\", index=False)\n",
    "\n",
    "\n",
    "    print(data_save.columns)\n",
    "\n"
   ]
  },
  {
   "cell_type": "markdown",
   "metadata": {},
   "source": [
    "## train test csv"
   ]
  },
  {
   "cell_type": "code",
   "execution_count": 118,
   "metadata": {},
   "outputs": [
    {
     "name": "stdout",
     "output_type": "stream",
     "text": [
      "Labels=[0, 1]\n",
      "Index(['category_code_lvl_1', 'category_code_lvl_2', 'price',\n",
      "       'activity_in_session', 'week_of_month', 'day', 'brand_value',\n",
      "       'product_category', 'time_of_day_sin', 'time_of_day_cos',\n",
      "       'day_of_week_sin', 'day_of_week_cos', 'hour_sin', 'hour_cos', 'min_sin',\n",
      "       'min_cos', 'is_purchase'],\n",
      "      dtype='object')\n",
      "Index(['category_code_lvl_1', 'category_code_lvl_2', 'price',\n",
      "       'activity_in_session', 'week_of_month', 'day', 'brand_value',\n",
      "       'product_category', 'time_of_day_sin', 'time_of_day_cos',\n",
      "       'day_of_week_sin', 'day_of_week_cos', 'hour_sin', 'hour_cos', 'min_sin',\n",
      "       'min_cos', 'is_purchase'],\n",
      "      dtype='object')\n"
     ]
    }
   ],
   "source": [
    "if test_data==False:\n",
    "    \n",
    "\n",
    "    data_save_copy=data_save.copy()\n",
    "\n",
    "    \n",
    "    y, X, labels, class_counts = define_target_and_prepare_data(data_save_copy, target=target)\n",
    "\n",
    "    train, test = split_data_save_csv(pd.DataFrame(X, columns=data_save_copy.columns), y, data_columns=data_save_copy.columns, target_column=target)  \n",
    "    \n",
    "    train.to_csv(f\"dataset/df_ecom_2_5_feat_eng_input_train.csv\", index=False)\n",
    "    print(train.columns)\n",
    "    \n",
    "    test.to_csv(f\"dataset/df_ecom_2_5_feat_eng_input_test.csv\", index=False)\n",
    "    print(test.columns)"
   ]
  },
  {
   "cell_type": "code",
   "execution_count": null,
   "metadata": {},
   "outputs": [],
   "source": []
  }
 ],
 "metadata": {
  "kernelspec": {
   "display_name": "base",
   "language": "python",
   "name": "python3"
  },
  "language_info": {
   "codemirror_mode": {
    "name": "ipython",
    "version": 3
   },
   "file_extension": ".py",
   "mimetype": "text/x-python",
   "name": "python",
   "nbconvert_exporter": "python",
   "pygments_lexer": "ipython3",
   "version": "3.12.2"
  }
 },
 "nbformat": 4,
 "nbformat_minor": 2
}
