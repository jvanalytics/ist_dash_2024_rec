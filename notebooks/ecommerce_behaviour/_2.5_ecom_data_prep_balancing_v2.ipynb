{
 "cells": [
  {
   "cell_type": "markdown",
   "metadata": {},
   "source": [
    "# File and libraries"
   ]
  },
  {
   "cell_type": "code",
   "execution_count": 30,
   "metadata": {},
   "outputs": [],
   "source": [
    "import pandas as pd\n",
    "import numpy as np\n",
    "from sklearn.model_selection import train_test_split\n",
    "\n",
    "\n",
    "#filepath=r'dataset/df_ecom_2_3_outliers_input_v2'\n",
    "\n",
    "filepath=r'dataset/df_ecom_2_4_scaler_input_v2'\n",
    "\n",
    "file_tag = \"df_ecom_balancing_input\""
   ]
  },
  {
   "cell_type": "markdown",
   "metadata": {},
   "source": [
    "# DSLabs functions"
   ]
  },
  {
   "cell_type": "code",
   "execution_count": 12,
   "metadata": {},
   "outputs": [
    {
     "name": "stdout",
     "output_type": "stream",
     "text": [
      "dslabs_functions lodaded\n"
     ]
    }
   ],
   "source": [
    "%run \"dslabs_functions.py\"\n"
   ]
  },
  {
   "cell_type": "markdown",
   "metadata": {},
   "source": [
    "# Data functions"
   ]
  },
  {
   "cell_type": "code",
   "execution_count": 11,
   "metadata": {},
   "outputs": [
    {
     "name": "stdout",
     "output_type": "stream",
     "text": [
      "data_functions loaded\n"
     ]
    }
   ],
   "source": [
    "%run \"data_functions.py\"\n"
   ]
  },
  {
   "cell_type": "markdown",
   "metadata": {},
   "source": [
    "# Load"
   ]
  },
  {
   "cell_type": "code",
   "execution_count": 31,
   "metadata": {},
   "outputs": [
    {
     "name": "stdout",
     "output_type": "stream",
     "text": [
      "<class 'pandas.core.frame.DataFrame'>\n",
      "Index: 177828 entries, 0 to 177827\n",
      "Data columns (total 17 columns):\n",
      " #   Column               Non-Null Count   Dtype  \n",
      "---  ------               --------------   -----  \n",
      " 0   event_type           177828 non-null  float64\n",
      " 1   category_code_lvl_1  177828 non-null  float64\n",
      " 2   category_code_lvl_2  177828 non-null  float64\n",
      " 3   category_code_lvl_3  177828 non-null  float64\n",
      " 4   price                177828 non-null  float64\n",
      " 5   week_of_month        177828 non-null  float64\n",
      " 6   is_weekend           177828 non-null  float64\n",
      " 7   day                  177828 non-null  float64\n",
      " 8   time_of_day_sin      177828 non-null  float64\n",
      " 9   time_of_day_cos      177828 non-null  float64\n",
      " 10  day_of_week_sin      177828 non-null  float64\n",
      " 11  day_of_week_cos      177828 non-null  float64\n",
      " 12  hour_sin             177828 non-null  float64\n",
      " 13  hour_cos             177828 non-null  float64\n",
      " 14  min_sin              177828 non-null  float64\n",
      " 15  min_cos              177828 non-null  float64\n",
      " 16  conversion           177828 non-null  int64  \n",
      "dtypes: float64(16), int64(1)\n",
      "memory usage: 24.4 MB\n"
     ]
    }
   ],
   "source": [
    "test_data=False\n",
    "# test_data=False\n",
    "\n",
    "# use to evaluate strategies. otherwise False to just transform data \n",
    "evaluate=True\n",
    "# evaluate=False\n",
    "\n",
    "\n",
    "if test_data==True:\n",
    "\n",
    "    df=pd.read_csv(f\"{filepath}.csv\")\n",
    "    \n",
    "    test= pd.read_csv(f\"{filepath}_test.csv\")\n",
    "    train= pd.read_csv(f\"{filepath}_train.csv\")\n",
    "\n",
    "    # sample\n",
    "    df=df.sample(frac=0.05, replace=False)\n",
    "    test=test.sample(frac=0.05, replace=False)\n",
    "    train=train.sample(frac=0.05, replace=False)\n",
    "    \n",
    "    # create sample df version of test/train for variance studies\n",
    "    test_sample= test\n",
    "    train_sample= train\n",
    "    \n",
    "else:\n",
    "    df=pd.read_csv(f\"{filepath}.csv\")\n",
    "\n",
    "    \n",
    "    test= pd.read_csv(f\"{filepath}_test.csv\")\n",
    "    train= pd.read_csv(f\"{filepath}_train.csv\")\n",
    "\n",
    "    # create sample for variance studies\n",
    "    test_sample= test.sample(frac=0.05, replace=False)\n",
    "    train_sample= train.sample(frac=0.5, replace=False)\n",
    "\n",
    "\n",
    "\n",
    " \n",
    "target='conversion'\n",
    "vars: list[str] = df.columns.to_list()\n",
    "\n",
    "\n",
    "# ensure sorting by day_of_year for correct splitting \n",
    "# \"When in the presence of temporal data, data partition shall use older data to train and newer to test, in order to not use future data to classify past data. In any other case, partition shall be random.\"\n",
    "df.sort_values(by='day', inplace=True)\n",
    "test.sort_values(by='day', inplace=True)\n",
    "train.sort_values(by='day', inplace=True)\n",
    "\n",
    "\n",
    "\n",
    "df.info()"
   ]
  },
  {
   "cell_type": "code",
   "execution_count": null,
   "metadata": {},
   "outputs": [],
   "source": []
  },
  {
   "cell_type": "markdown",
   "metadata": {},
   "source": [
    "# Balancing Analysis"
   ]
  },
  {
   "cell_type": "code",
   "execution_count": 32,
   "metadata": {},
   "outputs": [
    {
     "name": "stdout",
     "output_type": "stream",
     "text": [
      "Minority class= 1 : 7256\n",
      "Majority class= 0 : 170572\n",
      "Proportion: 0.04 : 1\n"
     ]
    },
    {
     "data": {
      "image/png": "[encoded data removed]",
      "text/plain": [
       "<Figure size 640x480 with 1 Axes>"
      ]
     },
     "metadata": {},
     "output_type": "display_data"
    }
   ],
   "source": [
    "from pandas import read_csv, concat, DataFrame, Series\n",
    "from matplotlib.pyplot import figure, show\n",
    "from dslabs_functions import plot_bar_chart\n",
    "\n",
    "\n",
    "target_count: Series = df[target].value_counts()\n",
    "positive_class = target_count.idxmin()\n",
    "negative_class = target_count.idxmax()\n",
    "\n",
    "print(\"Minority class=\", positive_class, \":\", target_count[positive_class])\n",
    "print(\"Majority class=\", negative_class, \":\", target_count[negative_class])\n",
    "print(\n",
    "    \"Proportion:\",\n",
    "    round(target_count[positive_class] / target_count[negative_class], 2),\n",
    "    \": 1\",\n",
    ")\n",
    "values: dict[str, list] = {\n",
    "    \"Original\": [target_count[positive_class], target_count[negative_class]]\n",
    "}\n",
    "\n",
    "figure()\n",
    "plot_bar_chart(\n",
    "    target_count.index.to_list(), target_count.to_list(), title=\"Class balance\"\n",
    ")\n",
    "show()"
   ]
  },
  {
   "cell_type": "code",
   "execution_count": null,
   "metadata": {},
   "outputs": [],
   "source": []
  },
  {
   "cell_type": "markdown",
   "metadata": {},
   "source": [
    "# Balance 1 - Undersampling"
   ]
  },
  {
   "cell_type": "markdown",
   "metadata": {},
   "source": [
    "## Bal 1 strategy Application"
   ]
  },
  {
   "cell_type": "code",
   "execution_count": 33,
   "metadata": {},
   "outputs": [
    {
     "name": "stdout",
     "output_type": "stream",
     "text": [
      "Original class distribution:\n",
      "conversion\n",
      "0    96.023426\n",
      "1     3.976574\n",
      "Name: proportion, dtype: float64\n",
      "\n",
      "Balanced class distribution:\n",
      "conversion\n",
      "0    50.0\n",
      "1    50.0\n",
      "Name: proportion, dtype: float64\n",
      "\n"
     ]
    }
   ],
   "source": [
    "from pandas import DataFrame, Series\n",
    "from sklearn.preprocessing import StandardScaler\n",
    "\n",
    "\n",
    "\n",
    "def apply_strategy_1(df: DataFrame) -> DataFrame:\n",
    "\n",
    "    df_copy=df.copy()\n",
    "\n",
    "    # this script is available in data_functions originally from DSLabs site in Outlier chapter\n",
    "\n",
    "    # Ensure positive_class and negative_class are defined and match the target values\n",
    "    positive_class = 1  # Or whatever your positive class value is\n",
    "    negative_class = 0  # Or whatever your negative class value is\n",
    "\n",
    "    # Separate the majority and minority classes\n",
    "    df_majority = df_copy[df_copy[target] == negative_class]\n",
    "    df_minority = df_copy[df_copy[target] == positive_class]\n",
    "\n",
    "    # Check the class distribution\n",
    "    print(f\"Original class distribution:\\n{df_copy[target].value_counts(normalize=True) * 100}\\n\")\n",
    "\n",
    "    # Downsample the majority class to match the size of the minority class\n",
    "    df_majority_downsampled = df_majority.sample(n=len(df_minority), random_state=42)\n",
    "\n",
    "    # Combine the downsampled majority class with the minority class\n",
    "    df_balanced = pd.concat([df_majority_downsampled, df_minority])\n",
    "\n",
    "    # sort  the combined dataset\n",
    "    df_balanced.sort_values(by='day', inplace=True)\n",
    "    \n",
    "\n",
    "    # Check the new class distribution to verify the balance\n",
    "    print(f\"Balanced class distribution:\\n{df_balanced[target].value_counts(normalize=True) * 100}\\n\")\n",
    "\n",
    "    \n",
    "    return df_balanced\n",
    "\n",
    "\n",
    "df_1=apply_strategy_1(train)\n",
    "test_1=test.copy()\n"
   ]
  },
  {
   "cell_type": "code",
   "execution_count": 34,
   "metadata": {},
   "outputs": [
    {
     "name": "stdout",
     "output_type": "stream",
     "text": [
      "Minority class= 0 : 4950\n",
      "Majority class= 0 : 4950\n",
      "Proportion: 1.0 : 1\n"
     ]
    },
    {
     "data": {
      "image/png": "[encoded data removed]",
      "text/plain": [
       "<Figure size 640x480 with 1 Axes>"
      ]
     },
     "metadata": {},
     "output_type": "display_data"
    }
   ],
   "source": [
    "from pandas import read_csv, concat, DataFrame, Series\n",
    "from matplotlib.pyplot import figure, show\n",
    "from dslabs_functions import plot_bar_chart\n",
    "\n",
    "\n",
    "target_count: Series = df_1[target].value_counts()\n",
    "positive_class = target_count.idxmin()\n",
    "negative_class = target_count.idxmax()\n",
    "\n",
    "print(\"Minority class=\", positive_class, \":\", target_count[positive_class])\n",
    "print(\"Majority class=\", negative_class, \":\", target_count[negative_class])\n",
    "print(\n",
    "    \"Proportion:\",\n",
    "    round(target_count[positive_class] / target_count[negative_class], 2),\n",
    "    \": 1\",\n",
    ")\n",
    "values: dict[str, list] = {\n",
    "    \"Original\": [target_count[positive_class], target_count[negative_class]]\n",
    "}\n",
    "\n",
    "figure()\n",
    "plot_bar_chart(\n",
    "    target_count.index.to_list(), target_count.to_list(), title=\"Class balance\"\n",
    ")\n",
    "show()"
   ]
  },
  {
   "cell_type": "markdown",
   "metadata": {},
   "source": [
    "## Bal 1 train/test split "
   ]
  },
  {
   "cell_type": "code",
   "execution_count": 35,
   "metadata": {},
   "outputs": [
    {
     "data": {
      "image/png": "[encoded data removed]",
      "text/plain": [
       "<Figure size 600x400 with 1 Axes>"
      ]
     },
     "metadata": {},
     "output_type": "display_data"
    }
   ],
   "source": [
    "from pandas import concat\n",
    "from matplotlib.pyplot import figure, show\n",
    "from dslabs_functions import plot_multibar_chart\n",
    "\n",
    "\n",
    "# Distribution check\n",
    "\n",
    "\n",
    "# Create a dictionary to store original class counts\n",
    "values: dict[str, list[int]] = {\n",
    "    \"Original\": [\n",
    "        len(df[df[target] == 0]),  # Assuming 0 is the negative class\n",
    "        len(df[df[target] == 1]),  # Assuming 1 is the positive class\n",
    "    ]\n",
    "}\n",
    "values[\"Train\"] = [\n",
    "    len(df_1[df_1[target] == 0]),\n",
    "    len(df_1[df_1[target] == 1]),\n",
    "]\n",
    "values[\"Test\"] = [\n",
    "    len(test_1[test_1[target] == 0]),\n",
    "    len(test_1[test_1[target] == 1]),\n",
    "]\n",
    "labels = ['0', '1']\n",
    "\n",
    "# Visualize the distribution\n",
    "figure(figsize=(6, 4))\n",
    "plot_multibar_chart(labels, values, title=\"Data distribution per dataset\")\n",
    "show()"
   ]
  },
  {
   "cell_type": "markdown",
   "metadata": {},
   "source": [
    "## Bal 1 evaluate"
   ]
  },
  {
   "cell_type": "code",
   "execution_count": 36,
   "metadata": {},
   "outputs": [
    {
     "data": {
      "image/png": "[encoded data removed]",
      "text/plain": [
       "<Figure size 640x480 with 1 Axes>"
      ]
     },
     "metadata": {},
     "output_type": "display_data"
    }
   ],
   "source": [
    "# evaluate_approach is in data_functions originally from DSLABS/ Data Prep / Methodology\n",
    "# removed Multinomial from run_NB function because dataset has negative values\n",
    "\n",
    "figure()\n",
    "eval_1: dict[str, list] = evaluate_approach(df_1, test_1, target='conversion', metric=\"recall\")\n",
    "plot_multibar_chart(\n",
    "    [\"NB\", \"KNN\"], eval_1, title=f\"{file_tag}_approach_1_evaluation\", percentage=True\n",
    ")\n",
    "savefig(f\"images/{file_tag}_approach_1_evaluation.png\")\n",
    "show()"
   ]
  },
  {
   "cell_type": "code",
   "execution_count": null,
   "metadata": {},
   "outputs": [],
   "source": []
  },
  {
   "cell_type": "markdown",
   "metadata": {},
   "source": [
    "# Bal 2 - SMOTE\n"
   ]
  },
  {
   "cell_type": "markdown",
   "metadata": {},
   "source": [
    "## Bal 2 strategy aplication"
   ]
  },
  {
   "cell_type": "code",
   "execution_count": 21,
   "metadata": {},
   "outputs": [
    {
     "name": "stdout",
     "output_type": "stream",
     "text": [
      "Minority class= 1 : 170572\n",
      "Majority class= 0 : 170572\n",
      "Proportion: 1.0 : 1\n",
      "Shape of the new DataFrame: (341144, 17)\n",
      "Class counts after SMOTE:\n",
      "conversion\n",
      "0    170572\n",
      "1    170572\n",
      "Name: count, dtype: int64\n"
     ]
    }
   ],
   "source": [
    "from numpy import ndarray\n",
    "from pandas import Series\n",
    "from imblearn.over_sampling import SMOTE\n",
    "\n",
    "def apply_strategy_2(df):\n",
    "\n",
    "   # Copy the DataFrame\n",
    "    df_copy = df.copy()\n",
    "\n",
    "    # Define random state for reproducibility\n",
    "    RANDOM_STATE = 42\n",
    "\n",
    "    # Separate the features (X) and target (y)\n",
    "    y = df_copy.pop(target).values\n",
    "    X: ndarray = df_copy.values\n",
    "\n",
    "    # Initialize SMOTE\n",
    "    smote = SMOTE(sampling_strategy=\"minority\", random_state=RANDOM_STATE)\n",
    "\n",
    "    # Fit and resample\n",
    "    smote_X, smote_y = smote.fit_resample(X, y)\n",
    "\n",
    "    # Reconstruct the DataFrame from the SMOTE output\n",
    "    df_smote = concat([DataFrame(smote_X, columns=df_copy.columns), DataFrame(smote_y, columns=[target])], axis=1)\n",
    "\n",
    "\n",
    "    # Print class distribution and shape\n",
    "    smote_target_count: Series = Series(smote_y).value_counts()\n",
    "    print(\"Minority class=\", smote_target_count.index[1], \":\", smote_target_count[1])\n",
    "    print(\"Majority class=\", smote_target_count.index[0], \":\", smote_target_count[0])\n",
    "    print(\n",
    "        \"Proportion:\",\n",
    "        round(smote_target_count[1] / smote_target_count[0], 2),\n",
    "        \": 1\",\n",
    "    )\n",
    "    print(\"Shape of the new DataFrame:\", df_smote.shape)\n",
    "\n",
    "    print(\"Class counts after SMOTE:\")\n",
    "    print(df_smote[target].value_counts())\n",
    "\n",
    "    return df_smote\n",
    "\n",
    "df_2=apply_strategy_2(df)\n"
   ]
  },
  {
   "cell_type": "code",
   "execution_count": 86,
   "metadata": {},
   "outputs": [
    {
     "data": {
      "text/html": [
       "<div>\n",
       "<style scoped>\n",
       "    .dataframe tbody tr th:only-of-type {\n",
       "        vertical-align: middle;\n",
       "    }\n",
       "\n",
       "    .dataframe tbody tr th {\n",
       "        vertical-align: top;\n",
       "    }\n",
       "\n",
       "    .dataframe thead th {\n",
       "        text-align: right;\n",
       "    }\n",
       "</style>\n",
       "<table border=\"1\" class=\"dataframe\">\n",
       "  <thead>\n",
       "    <tr style=\"text-align: right;\">\n",
       "      <th></th>\n",
       "      <th>category_code_lvl_1</th>\n",
       "      <th>category_code_lvl_2</th>\n",
       "      <th>category_code_lvl_3</th>\n",
       "      <th>price</th>\n",
       "      <th>week_of_month</th>\n",
       "      <th>is_weekend</th>\n",
       "      <th>day</th>\n",
       "      <th>is_view</th>\n",
       "      <th>is_cart</th>\n",
       "      <th>time_of_day_sin</th>\n",
       "      <th>time_of_day_cos</th>\n",
       "      <th>day_of_week_sin</th>\n",
       "      <th>day_of_week_cos</th>\n",
       "      <th>hour_sin</th>\n",
       "      <th>hour_cos</th>\n",
       "      <th>min_sin</th>\n",
       "      <th>min_cos</th>\n",
       "      <th>is_purchase</th>\n",
       "    </tr>\n",
       "  </thead>\n",
       "  <tbody>\n",
       "    <tr>\n",
       "      <th>0</th>\n",
       "      <td>6.0</td>\n",
       "      <td>42.0</td>\n",
       "      <td>102.0</td>\n",
       "      <td>128.450000</td>\n",
       "      <td>0.0</td>\n",
       "      <td>0.0</td>\n",
       "      <td>0.0</td>\n",
       "      <td>1.0</td>\n",
       "      <td>0.0</td>\n",
       "      <td>0.0</td>\n",
       "      <td>1.0</td>\n",
       "      <td>1.0</td>\n",
       "      <td>0.0</td>\n",
       "      <td>0.817</td>\n",
       "      <td>-0.577</td>\n",
       "      <td>-0.000</td>\n",
       "      <td>1.000</td>\n",
       "      <td>0</td>\n",
       "    </tr>\n",
       "    <tr>\n",
       "      <th>1</th>\n",
       "      <td>11.0</td>\n",
       "      <td>57.0</td>\n",
       "      <td>125.0</td>\n",
       "      <td>993.422936</td>\n",
       "      <td>0.0</td>\n",
       "      <td>0.0</td>\n",
       "      <td>0.0</td>\n",
       "      <td>1.0</td>\n",
       "      <td>0.0</td>\n",
       "      <td>-0.0</td>\n",
       "      <td>1.0</td>\n",
       "      <td>1.0</td>\n",
       "      <td>0.0</td>\n",
       "      <td>-0.888</td>\n",
       "      <td>0.460</td>\n",
       "      <td>-1.000</td>\n",
       "      <td>-0.027</td>\n",
       "      <td>0</td>\n",
       "    </tr>\n",
       "    <tr>\n",
       "      <th>2</th>\n",
       "      <td>3.0</td>\n",
       "      <td>20.0</td>\n",
       "      <td>62.0</td>\n",
       "      <td>0.790000</td>\n",
       "      <td>0.0</td>\n",
       "      <td>0.0</td>\n",
       "      <td>0.0</td>\n",
       "      <td>1.0</td>\n",
       "      <td>0.0</td>\n",
       "      <td>-0.0</td>\n",
       "      <td>1.0</td>\n",
       "      <td>1.0</td>\n",
       "      <td>0.0</td>\n",
       "      <td>0.979</td>\n",
       "      <td>0.203</td>\n",
       "      <td>-0.921</td>\n",
       "      <td>0.389</td>\n",
       "      <td>0</td>\n",
       "    </tr>\n",
       "    <tr>\n",
       "      <th>3</th>\n",
       "      <td>5.0</td>\n",
       "      <td>27.0</td>\n",
       "      <td>76.0</td>\n",
       "      <td>7.390000</td>\n",
       "      <td>0.0</td>\n",
       "      <td>0.0</td>\n",
       "      <td>0.0</td>\n",
       "      <td>1.0</td>\n",
       "      <td>0.0</td>\n",
       "      <td>0.0</td>\n",
       "      <td>1.0</td>\n",
       "      <td>1.0</td>\n",
       "      <td>0.0</td>\n",
       "      <td>0.998</td>\n",
       "      <td>-0.068</td>\n",
       "      <td>0.848</td>\n",
       "      <td>-0.530</td>\n",
       "      <td>0</td>\n",
       "    </tr>\n",
       "    <tr>\n",
       "      <th>4</th>\n",
       "      <td>0.0</td>\n",
       "      <td>0.0</td>\n",
       "      <td>2.0</td>\n",
       "      <td>427.040000</td>\n",
       "      <td>0.0</td>\n",
       "      <td>0.0</td>\n",
       "      <td>0.0</td>\n",
       "      <td>1.0</td>\n",
       "      <td>0.0</td>\n",
       "      <td>0.0</td>\n",
       "      <td>1.0</td>\n",
       "      <td>1.0</td>\n",
       "      <td>0.0</td>\n",
       "      <td>0.942</td>\n",
       "      <td>-0.335</td>\n",
       "      <td>0.848</td>\n",
       "      <td>-0.530</td>\n",
       "      <td>0</td>\n",
       "    </tr>\n",
       "  </tbody>\n",
       "</table>\n",
       "</div>"
      ],
      "text/plain": [
       "   category_code_lvl_1  category_code_lvl_2  category_code_lvl_3       price  \\\n",
       "0                  6.0                 42.0                102.0  128.450000   \n",
       "1                 11.0                 57.0                125.0  993.422936   \n",
       "2                  3.0                 20.0                 62.0    0.790000   \n",
       "3                  5.0                 27.0                 76.0    7.390000   \n",
       "4                  0.0                  0.0                  2.0  427.040000   \n",
       "\n",
       "   week_of_month  is_weekend  day  is_view  is_cart  time_of_day_sin  \\\n",
       "0            0.0         0.0  0.0      1.0      0.0              0.0   \n",
       "1            0.0         0.0  0.0      1.0      0.0             -0.0   \n",
       "2            0.0         0.0  0.0      1.0      0.0             -0.0   \n",
       "3            0.0         0.0  0.0      1.0      0.0              0.0   \n",
       "4            0.0         0.0  0.0      1.0      0.0              0.0   \n",
       "\n",
       "   time_of_day_cos  day_of_week_sin  day_of_week_cos  hour_sin  hour_cos  \\\n",
       "0              1.0              1.0              0.0     0.817    -0.577   \n",
       "1              1.0              1.0              0.0    -0.888     0.460   \n",
       "2              1.0              1.0              0.0     0.979     0.203   \n",
       "3              1.0              1.0              0.0     0.998    -0.068   \n",
       "4              1.0              1.0              0.0     0.942    -0.335   \n",
       "\n",
       "   min_sin  min_cos  is_purchase  \n",
       "0   -0.000    1.000            0  \n",
       "1   -1.000   -0.027            0  \n",
       "2   -0.921    0.389            0  \n",
       "3    0.848   -0.530            0  \n",
       "4    0.848   -0.530            0  "
      ]
     },
     "execution_count": 86,
     "metadata": {},
     "output_type": "execute_result"
    }
   ],
   "source": [
    "df_2.head()"
   ]
  },
  {
   "cell_type": "code",
   "execution_count": 57,
   "metadata": {},
   "outputs": [
    {
     "name": "stdout",
     "output_type": "stream",
     "text": [
      "<class 'pandas.core.frame.DataFrame'>\n",
      "RangeIndex: 341144 entries, 0 to 341143\n",
      "Data columns (total 18 columns):\n",
      " #   Column               Non-Null Count   Dtype  \n",
      "---  ------               --------------   -----  \n",
      " 0   category_code_lvl_1  341144 non-null  float64\n",
      " 1   category_code_lvl_2  341144 non-null  float64\n",
      " 2   category_code_lvl_3  341144 non-null  float64\n",
      " 3   price                341144 non-null  float64\n",
      " 4   week_of_month        341144 non-null  float64\n",
      " 5   is_weekend           341144 non-null  float64\n",
      " 6   day                  341144 non-null  float64\n",
      " 7   is_view              341144 non-null  float64\n",
      " 8   is_cart              341144 non-null  float64\n",
      " 9   time_of_day_sin      341144 non-null  float64\n",
      " 10  time_of_day_cos      341144 non-null  float64\n",
      " 11  day_of_week_sin      341144 non-null  float64\n",
      " 12  day_of_week_cos      341144 non-null  float64\n",
      " 13  hour_sin             341144 non-null  float64\n",
      " 14  hour_cos             341144 non-null  float64\n",
      " 15  min_sin              341144 non-null  float64\n",
      " 16  min_cos              341144 non-null  float64\n",
      " 17  is_purchase          341144 non-null  int64  \n",
      "dtypes: float64(17), int64(1)\n",
      "memory usage: 46.8 MB\n"
     ]
    }
   ],
   "source": [
    "df_2.info()"
   ]
  },
  {
   "cell_type": "code",
   "execution_count": 87,
   "metadata": {},
   "outputs": [
    {
     "name": "stdout",
     "output_type": "stream",
     "text": [
      "Class counts after SMOTE:\n",
      "is_purchase\n",
      "0    170572\n",
      "1    170572\n",
      "Name: count, dtype: int64\n"
     ]
    }
   ],
   "source": [
    "    print(\"Class counts after SMOTE:\")\n",
    "    print(df_2[target].value_counts())"
   ]
  },
  {
   "cell_type": "markdown",
   "metadata": {},
   "source": [
    "## Bal 2 train/test split "
   ]
  },
  {
   "cell_type": "code",
   "execution_count": 92,
   "metadata": {},
   "outputs": [
    {
     "ename": "KeyError",
     "evalue": "'is_purchase'",
     "output_type": "error",
     "traceback": [
      "\u001b[0;31m---------------------------------------------------------------------------\u001b[0m",
      "\u001b[0;31mKeyError\u001b[0m                                  Traceback (most recent call last)",
      "File \u001b[0;32m/opt/anaconda3/lib/python3.12/site-packages/pandas/core/indexes/base.py:3805\u001b[0m, in \u001b[0;36mIndex.get_loc\u001b[0;34m(self, key)\u001b[0m\n\u001b[1;32m   3804\u001b[0m \u001b[38;5;28;01mtry\u001b[39;00m:\n\u001b[0;32m-> 3805\u001b[0m     \u001b[38;5;28;01mreturn\u001b[39;00m \u001b[38;5;28mself\u001b[39m\u001b[38;5;241m.\u001b[39m_engine\u001b[38;5;241m.\u001b[39mget_loc(casted_key)\n\u001b[1;32m   3806\u001b[0m \u001b[38;5;28;01mexcept\u001b[39;00m \u001b[38;5;167;01mKeyError\u001b[39;00m \u001b[38;5;28;01mas\u001b[39;00m err:\n",
      "File \u001b[0;32mindex.pyx:167\u001b[0m, in \u001b[0;36mpandas._libs.index.IndexEngine.get_loc\u001b[0;34m()\u001b[0m\n",
      "File \u001b[0;32mindex.pyx:196\u001b[0m, in \u001b[0;36mpandas._libs.index.IndexEngine.get_loc\u001b[0;34m()\u001b[0m\n",
      "File \u001b[0;32mpandas/_libs/hashtable_class_helper.pxi:7081\u001b[0m, in \u001b[0;36mpandas._libs.hashtable.PyObjectHashTable.get_item\u001b[0;34m()\u001b[0m\n",
      "File \u001b[0;32mpandas/_libs/hashtable_class_helper.pxi:7089\u001b[0m, in \u001b[0;36mpandas._libs.hashtable.PyObjectHashTable.get_item\u001b[0;34m()\u001b[0m\n",
      "\u001b[0;31mKeyError\u001b[0m: 'is_purchase'",
      "\nThe above exception was the direct cause of the following exception:\n",
      "\u001b[0;31mKeyError\u001b[0m                                  Traceback (most recent call last)",
      "Cell \u001b[0;32mIn[92], line 18\u001b[0m\n\u001b[1;32m      6\u001b[0m \u001b[38;5;66;03m# Distribution check\u001b[39;00m\n\u001b[1;32m      7\u001b[0m \n\u001b[1;32m      8\u001b[0m \n\u001b[1;32m      9\u001b[0m \u001b[38;5;66;03m# Create a dictionary to store original class counts\u001b[39;00m\n\u001b[1;32m     10\u001b[0m values: \u001b[38;5;28mdict\u001b[39m[\u001b[38;5;28mstr\u001b[39m, \u001b[38;5;28mlist\u001b[39m[\u001b[38;5;28mint\u001b[39m]] \u001b[38;5;241m=\u001b[39m {\n\u001b[1;32m     11\u001b[0m     \u001b[38;5;124m\"\u001b[39m\u001b[38;5;124mOriginal\u001b[39m\u001b[38;5;124m\"\u001b[39m: [\n\u001b[1;32m     12\u001b[0m         \u001b[38;5;28mlen\u001b[39m(df[df[target] \u001b[38;5;241m==\u001b[39m \u001b[38;5;241m0\u001b[39m]),  \u001b[38;5;66;03m# Assuming 0 is the negative class\u001b[39;00m\n\u001b[1;32m     13\u001b[0m         \u001b[38;5;28mlen\u001b[39m(df[df[target] \u001b[38;5;241m==\u001b[39m \u001b[38;5;241m1\u001b[39m]),  \u001b[38;5;66;03m# Assuming 1 is the positive class\u001b[39;00m\n\u001b[1;32m     14\u001b[0m     ]\n\u001b[1;32m     15\u001b[0m }\n\u001b[1;32m     17\u001b[0m values[\u001b[38;5;124m\"\u001b[39m\u001b[38;5;124mTrain\u001b[39m\u001b[38;5;124m\"\u001b[39m] \u001b[38;5;241m=\u001b[39m [\n\u001b[0;32m---> 18\u001b[0m     \u001b[38;5;28mlen\u001b[39m(df_2[df_2[target] \u001b[38;5;241m==\u001b[39m \u001b[38;5;241m0\u001b[39m]),\n\u001b[1;32m     19\u001b[0m     \u001b[38;5;28mlen\u001b[39m(df_2[df_2[target] \u001b[38;5;241m==\u001b[39m \u001b[38;5;241m1\u001b[39m]),\n\u001b[1;32m     20\u001b[0m ]\n\u001b[1;32m     21\u001b[0m values[\u001b[38;5;124m\"\u001b[39m\u001b[38;5;124mTest\u001b[39m\u001b[38;5;124m\"\u001b[39m] \u001b[38;5;241m=\u001b[39m [\n\u001b[1;32m     22\u001b[0m     \u001b[38;5;28mlen\u001b[39m(test_2[test_2[target] \u001b[38;5;241m==\u001b[39m \u001b[38;5;241m0\u001b[39m]),\n\u001b[1;32m     23\u001b[0m     \u001b[38;5;28mlen\u001b[39m(test_2[test_2[target] \u001b[38;5;241m==\u001b[39m \u001b[38;5;241m1\u001b[39m]),\n\u001b[1;32m     24\u001b[0m ]\n\u001b[1;32m     26\u001b[0m \u001b[38;5;66;03m# Visualize the distribution\u001b[39;00m\n",
      "File \u001b[0;32m/opt/anaconda3/lib/python3.12/site-packages/pandas/core/frame.py:4102\u001b[0m, in \u001b[0;36mDataFrame.__getitem__\u001b[0;34m(self, key)\u001b[0m\n\u001b[1;32m   4100\u001b[0m \u001b[38;5;28;01mif\u001b[39;00m \u001b[38;5;28mself\u001b[39m\u001b[38;5;241m.\u001b[39mcolumns\u001b[38;5;241m.\u001b[39mnlevels \u001b[38;5;241m>\u001b[39m \u001b[38;5;241m1\u001b[39m:\n\u001b[1;32m   4101\u001b[0m     \u001b[38;5;28;01mreturn\u001b[39;00m \u001b[38;5;28mself\u001b[39m\u001b[38;5;241m.\u001b[39m_getitem_multilevel(key)\n\u001b[0;32m-> 4102\u001b[0m indexer \u001b[38;5;241m=\u001b[39m \u001b[38;5;28mself\u001b[39m\u001b[38;5;241m.\u001b[39mcolumns\u001b[38;5;241m.\u001b[39mget_loc(key)\n\u001b[1;32m   4103\u001b[0m \u001b[38;5;28;01mif\u001b[39;00m is_integer(indexer):\n\u001b[1;32m   4104\u001b[0m     indexer \u001b[38;5;241m=\u001b[39m [indexer]\n",
      "File \u001b[0;32m/opt/anaconda3/lib/python3.12/site-packages/pandas/core/indexes/base.py:3812\u001b[0m, in \u001b[0;36mIndex.get_loc\u001b[0;34m(self, key)\u001b[0m\n\u001b[1;32m   3807\u001b[0m     \u001b[38;5;28;01mif\u001b[39;00m \u001b[38;5;28misinstance\u001b[39m(casted_key, \u001b[38;5;28mslice\u001b[39m) \u001b[38;5;129;01mor\u001b[39;00m (\n\u001b[1;32m   3808\u001b[0m         \u001b[38;5;28misinstance\u001b[39m(casted_key, abc\u001b[38;5;241m.\u001b[39mIterable)\n\u001b[1;32m   3809\u001b[0m         \u001b[38;5;129;01mand\u001b[39;00m \u001b[38;5;28many\u001b[39m(\u001b[38;5;28misinstance\u001b[39m(x, \u001b[38;5;28mslice\u001b[39m) \u001b[38;5;28;01mfor\u001b[39;00m x \u001b[38;5;129;01min\u001b[39;00m casted_key)\n\u001b[1;32m   3810\u001b[0m     ):\n\u001b[1;32m   3811\u001b[0m         \u001b[38;5;28;01mraise\u001b[39;00m InvalidIndexError(key)\n\u001b[0;32m-> 3812\u001b[0m     \u001b[38;5;28;01mraise\u001b[39;00m \u001b[38;5;167;01mKeyError\u001b[39;00m(key) \u001b[38;5;28;01mfrom\u001b[39;00m \u001b[38;5;21;01merr\u001b[39;00m\n\u001b[1;32m   3813\u001b[0m \u001b[38;5;28;01mexcept\u001b[39;00m \u001b[38;5;167;01mTypeError\u001b[39;00m:\n\u001b[1;32m   3814\u001b[0m     \u001b[38;5;66;03m# If we have a listlike key, _check_indexing_error will raise\u001b[39;00m\n\u001b[1;32m   3815\u001b[0m     \u001b[38;5;66;03m#  InvalidIndexError. Otherwise we fall through and re-raise\u001b[39;00m\n\u001b[1;32m   3816\u001b[0m     \u001b[38;5;66;03m#  the TypeError.\u001b[39;00m\n\u001b[1;32m   3817\u001b[0m     \u001b[38;5;28mself\u001b[39m\u001b[38;5;241m.\u001b[39m_check_indexing_error(key)\n",
      "\u001b[0;31mKeyError\u001b[0m: 'is_purchase'"
     ]
    }
   ],
   "source": [
    "from pandas import concat\n",
    "from matplotlib.pyplot import figure, show\n",
    "from dslabs_functions import plot_multibar_chart\n",
    "\n",
    "\n",
    "# Distribution check\n",
    "\n",
    "\n",
    "# Create a dictionary to store original class counts\n",
    "values: dict[str, list[int]] = {\n",
    "    \"Original\": [\n",
    "        len(df[df[target] == 0]),  # Assuming 0 is the negative class\n",
    "        len(df[df[target] == 1]),  # Assuming 1 is the positive class\n",
    "    ]\n",
    "}\n",
    "\n",
    "values[\"Train\"] = [\n",
    "    len(df_2[df_2[target] == 0]),\n",
    "    len(df_2[df_2[target] == 1]),\n",
    "]\n",
    "values[\"Test\"] = [\n",
    "    len(test_2[test_2[target] == 0]),\n",
    "    len(test_2[test_2[target] == 1]),\n",
    "]\n",
    "\n",
    "# Visualize the distribution\n",
    "figure(figsize=(6, 4))\n",
    "plot_multibar_chart(labels, values, title=\"Data distribution per dataset\")\n",
    "show()"
   ]
  },
  {
   "cell_type": "code",
   "execution_count": 64,
   "metadata": {},
   "outputs": [
    {
     "name": "stdout",
     "output_type": "stream",
     "text": [
      "Train set class distribution:\n",
      "is_purchase\n",
      "0    170572\n",
      "1     68228\n",
      "Name: count, dtype: int64\n",
      "Test set class distribution:\n",
      "is_purchase\n",
      "1    102344\n",
      "Name: count, dtype: int64\n"
     ]
    }
   ],
   "source": [
    "print(\"Train set class distribution:\")\n",
    "print(train_2[target].value_counts())\n",
    "\n",
    "print(\"Test set class distribution:\")\n",
    "print(test_2[target].value_counts())"
   ]
  },
  {
   "cell_type": "markdown",
   "metadata": {},
   "source": [
    "## Bal 2 evaluate"
   ]
  },
  {
   "cell_type": "code",
   "execution_count": 25,
   "metadata": {},
   "outputs": [
    {
     "ename": "ValueError",
     "evalue": "Only one class present in y_true. ROC AUC score is not defined in that case.",
     "output_type": "error",
     "traceback": [
      "\u001b[0;31m---------------------------------------------------------------------------\u001b[0m",
      "\u001b[0;31mValueError\u001b[0m                                Traceback (most recent call last)",
      "Cell \u001b[0;32mIn[25], line 2\u001b[0m\n\u001b[1;32m      1\u001b[0m figure()\n\u001b[0;32m----> 2\u001b[0m eval_2: \u001b[38;5;28mdict\u001b[39m[\u001b[38;5;28mstr\u001b[39m, \u001b[38;5;28mlist\u001b[39m] \u001b[38;5;241m=\u001b[39m evaluate_approach(train_2, test_2, target\u001b[38;5;241m=\u001b[39m\u001b[38;5;124m'\u001b[39m\u001b[38;5;124mis_purchase\u001b[39m\u001b[38;5;124m'\u001b[39m, metric\u001b[38;5;241m=\u001b[39m\u001b[38;5;124m\"\u001b[39m\u001b[38;5;124mrecall\u001b[39m\u001b[38;5;124m\"\u001b[39m)\n\u001b[1;32m      3\u001b[0m plot_multibar_chart(\n\u001b[1;32m      4\u001b[0m     [\u001b[38;5;124m\"\u001b[39m\u001b[38;5;124mNB\u001b[39m\u001b[38;5;124m\"\u001b[39m, \u001b[38;5;124m\"\u001b[39m\u001b[38;5;124mKNN\u001b[39m\u001b[38;5;124m\"\u001b[39m], eval_2, title\u001b[38;5;241m=\u001b[39m\u001b[38;5;124mf\u001b[39m\u001b[38;5;124m\"\u001b[39m\u001b[38;5;132;01m{\u001b[39;00mfile_tag\u001b[38;5;132;01m}\u001b[39;00m\u001b[38;5;124m_approach_2_evaluation\u001b[39m\u001b[38;5;124m\"\u001b[39m, percentage\u001b[38;5;241m=\u001b[39m\u001b[38;5;28;01mTrue\u001b[39;00m\n\u001b[1;32m      5\u001b[0m )\n\u001b[1;32m      6\u001b[0m \u001b[38;5;66;03m#savefig(f\"images/{file_tag}_approach_2_evaluation.png\")\u001b[39;00m\n",
      "File \u001b[0;32m~/Documents/Mercedes-benz.io/TRAINING/post graduation course IST - Data science/projeto curso/ist_dash_2024_rec/notebooks/ecommerce_behaviour/data_functions.py:503\u001b[0m, in \u001b[0;36mevaluate_approach\u001b[0;34m(train, test, target, metric)\u001b[0m\n\u001b[1;32m    500\u001b[0m tstX: ndarray \u001b[38;5;241m=\u001b[39m test\u001b[38;5;241m.\u001b[39mvalues\n\u001b[1;32m    501\u001b[0m \u001b[38;5;28meval\u001b[39m: \u001b[38;5;28mdict\u001b[39m[\u001b[38;5;28mstr\u001b[39m, \u001b[38;5;28mlist\u001b[39m] \u001b[38;5;241m=\u001b[39m {}\n\u001b[0;32m--> 503\u001b[0m eval_NB: \u001b[38;5;28mdict\u001b[39m[\u001b[38;5;28mstr\u001b[39m, \u001b[38;5;28mfloat\u001b[39m] \u001b[38;5;241m=\u001b[39m run_NB(trnX, trnY, tstX, tstY, metric\u001b[38;5;241m=\u001b[39mmetric)\n\u001b[1;32m    504\u001b[0m eval_KNN: \u001b[38;5;28mdict\u001b[39m[\u001b[38;5;28mstr\u001b[39m, \u001b[38;5;28mfloat\u001b[39m] \u001b[38;5;241m=\u001b[39m run_KNN(trnX, trnY, tstX, tstY, metric\u001b[38;5;241m=\u001b[39mmetric)\n\u001b[1;32m    505\u001b[0m \u001b[38;5;28;01mif\u001b[39;00m eval_NB \u001b[38;5;241m!=\u001b[39m {} \u001b[38;5;129;01mand\u001b[39;00m eval_KNN \u001b[38;5;241m!=\u001b[39m {}:\n",
      "File \u001b[0;32m~/Documents/Mercedes-benz.io/TRAINING/post graduation course IST - Data science/projeto curso/ist_dash_2024_rec/notebooks/ecommerce_behaviour/dslabs_functions.py:669\u001b[0m, in \u001b[0;36mrun_NB\u001b[0;34m(trnX, trnY, tstX, tstY, metric)\u001b[0m\n\u001b[1;32m    667\u001b[0m     prd: ndarray \u001b[38;5;241m=\u001b[39m best_model\u001b[38;5;241m.\u001b[39mpredict(tstX)\n\u001b[1;32m    668\u001b[0m     \u001b[38;5;28;01mfor\u001b[39;00m key \u001b[38;5;129;01min\u001b[39;00m CLASS_EVAL_METRICS:\n\u001b[0;32m--> 669\u001b[0m         \u001b[38;5;28meval\u001b[39m[key] \u001b[38;5;241m=\u001b[39m CLASS_EVAL_METRICS[key](tstY, prd)\n\u001b[1;32m    670\u001b[0m \u001b[38;5;28;01mreturn\u001b[39;00m \u001b[38;5;28meval\u001b[39m\n",
      "File \u001b[0;32m/opt/anaconda3/lib/python3.12/site-packages/sklearn/utils/_param_validation.py:213\u001b[0m, in \u001b[0;36mvalidate_params.<locals>.decorator.<locals>.wrapper\u001b[0;34m(*args, **kwargs)\u001b[0m\n\u001b[1;32m    207\u001b[0m \u001b[38;5;28;01mtry\u001b[39;00m:\n\u001b[1;32m    208\u001b[0m     \u001b[38;5;28;01mwith\u001b[39;00m config_context(\n\u001b[1;32m    209\u001b[0m         skip_parameter_validation\u001b[38;5;241m=\u001b[39m(\n\u001b[1;32m    210\u001b[0m             prefer_skip_nested_validation \u001b[38;5;129;01mor\u001b[39;00m global_skip_validation\n\u001b[1;32m    211\u001b[0m         )\n\u001b[1;32m    212\u001b[0m     ):\n\u001b[0;32m--> 213\u001b[0m         \u001b[38;5;28;01mreturn\u001b[39;00m func(\u001b[38;5;241m*\u001b[39margs, \u001b[38;5;241m*\u001b[39m\u001b[38;5;241m*\u001b[39mkwargs)\n\u001b[1;32m    214\u001b[0m \u001b[38;5;28;01mexcept\u001b[39;00m InvalidParameterError \u001b[38;5;28;01mas\u001b[39;00m e:\n\u001b[1;32m    215\u001b[0m     \u001b[38;5;66;03m# When the function is just a wrapper around an estimator, we allow\u001b[39;00m\n\u001b[1;32m    216\u001b[0m     \u001b[38;5;66;03m# the function to delegate validation to the estimator, but we replace\u001b[39;00m\n\u001b[1;32m    217\u001b[0m     \u001b[38;5;66;03m# the name of the estimator by the name of the function in the error\u001b[39;00m\n\u001b[1;32m    218\u001b[0m     \u001b[38;5;66;03m# message to avoid confusion.\u001b[39;00m\n\u001b[1;32m    219\u001b[0m     msg \u001b[38;5;241m=\u001b[39m re\u001b[38;5;241m.\u001b[39msub(\n\u001b[1;32m    220\u001b[0m         \u001b[38;5;124mr\u001b[39m\u001b[38;5;124m\"\u001b[39m\u001b[38;5;124mparameter of \u001b[39m\u001b[38;5;124m\\\u001b[39m\u001b[38;5;124mw+ must be\u001b[39m\u001b[38;5;124m\"\u001b[39m,\n\u001b[1;32m    221\u001b[0m         \u001b[38;5;124mf\u001b[39m\u001b[38;5;124m\"\u001b[39m\u001b[38;5;124mparameter of \u001b[39m\u001b[38;5;132;01m{\u001b[39;00mfunc\u001b[38;5;241m.\u001b[39m\u001b[38;5;18m__qualname__\u001b[39m\u001b[38;5;132;01m}\u001b[39;00m\u001b[38;5;124m must be\u001b[39m\u001b[38;5;124m\"\u001b[39m,\n\u001b[1;32m    222\u001b[0m         \u001b[38;5;28mstr\u001b[39m(e),\n\u001b[1;32m    223\u001b[0m     )\n",
      "File \u001b[0;32m/opt/anaconda3/lib/python3.12/site-packages/sklearn/metrics/_ranking.py:640\u001b[0m, in \u001b[0;36mroc_auc_score\u001b[0;34m(y_true, y_score, average, sample_weight, max_fpr, multi_class, labels)\u001b[0m\n\u001b[1;32m    638\u001b[0m     labels \u001b[38;5;241m=\u001b[39m np\u001b[38;5;241m.\u001b[39munique(y_true)\n\u001b[1;32m    639\u001b[0m     y_true \u001b[38;5;241m=\u001b[39m label_binarize(y_true, classes\u001b[38;5;241m=\u001b[39mlabels)[:, \u001b[38;5;241m0\u001b[39m]\n\u001b[0;32m--> 640\u001b[0m     \u001b[38;5;28;01mreturn\u001b[39;00m _average_binary_score(\n\u001b[1;32m    641\u001b[0m         partial(_binary_roc_auc_score, max_fpr\u001b[38;5;241m=\u001b[39mmax_fpr),\n\u001b[1;32m    642\u001b[0m         y_true,\n\u001b[1;32m    643\u001b[0m         y_score,\n\u001b[1;32m    644\u001b[0m         average,\n\u001b[1;32m    645\u001b[0m         sample_weight\u001b[38;5;241m=\u001b[39msample_weight,\n\u001b[1;32m    646\u001b[0m     )\n\u001b[1;32m    647\u001b[0m \u001b[38;5;28;01melse\u001b[39;00m:  \u001b[38;5;66;03m# multilabel-indicator\u001b[39;00m\n\u001b[1;32m    648\u001b[0m     \u001b[38;5;28;01mreturn\u001b[39;00m _average_binary_score(\n\u001b[1;32m    649\u001b[0m         partial(_binary_roc_auc_score, max_fpr\u001b[38;5;241m=\u001b[39mmax_fpr),\n\u001b[1;32m    650\u001b[0m         y_true,\n\u001b[0;32m   (...)\u001b[0m\n\u001b[1;32m    653\u001b[0m         sample_weight\u001b[38;5;241m=\u001b[39msample_weight,\n\u001b[1;32m    654\u001b[0m     )\n",
      "File \u001b[0;32m/opt/anaconda3/lib/python3.12/site-packages/sklearn/metrics/_base.py:75\u001b[0m, in \u001b[0;36m_average_binary_score\u001b[0;34m(binary_metric, y_true, y_score, average, sample_weight)\u001b[0m\n\u001b[1;32m     72\u001b[0m     \u001b[38;5;28;01mraise\u001b[39;00m \u001b[38;5;167;01mValueError\u001b[39;00m(\u001b[38;5;124m\"\u001b[39m\u001b[38;5;132;01m{0}\u001b[39;00m\u001b[38;5;124m format is not supported\u001b[39m\u001b[38;5;124m\"\u001b[39m\u001b[38;5;241m.\u001b[39mformat(y_type))\n\u001b[1;32m     74\u001b[0m \u001b[38;5;28;01mif\u001b[39;00m y_type \u001b[38;5;241m==\u001b[39m \u001b[38;5;124m\"\u001b[39m\u001b[38;5;124mbinary\u001b[39m\u001b[38;5;124m\"\u001b[39m:\n\u001b[0;32m---> 75\u001b[0m     \u001b[38;5;28;01mreturn\u001b[39;00m binary_metric(y_true, y_score, sample_weight\u001b[38;5;241m=\u001b[39msample_weight)\n\u001b[1;32m     77\u001b[0m check_consistent_length(y_true, y_score, sample_weight)\n\u001b[1;32m     78\u001b[0m y_true \u001b[38;5;241m=\u001b[39m check_array(y_true)\n",
      "File \u001b[0;32m/opt/anaconda3/lib/python3.12/site-packages/sklearn/metrics/_ranking.py:382\u001b[0m, in \u001b[0;36m_binary_roc_auc_score\u001b[0;34m(y_true, y_score, sample_weight, max_fpr)\u001b[0m\n\u001b[1;32m    380\u001b[0m \u001b[38;5;250m\u001b[39m\u001b[38;5;124;03m\"\"\"Binary roc auc score.\"\"\"\u001b[39;00m\n\u001b[1;32m    381\u001b[0m \u001b[38;5;28;01mif\u001b[39;00m \u001b[38;5;28mlen\u001b[39m(np\u001b[38;5;241m.\u001b[39munique(y_true)) \u001b[38;5;241m!=\u001b[39m \u001b[38;5;241m2\u001b[39m:\n\u001b[0;32m--> 382\u001b[0m     \u001b[38;5;28;01mraise\u001b[39;00m \u001b[38;5;167;01mValueError\u001b[39;00m(\n\u001b[1;32m    383\u001b[0m         \u001b[38;5;124m\"\u001b[39m\u001b[38;5;124mOnly one class present in y_true. ROC AUC score \u001b[39m\u001b[38;5;124m\"\u001b[39m\n\u001b[1;32m    384\u001b[0m         \u001b[38;5;124m\"\u001b[39m\u001b[38;5;124mis not defined in that case.\u001b[39m\u001b[38;5;124m\"\u001b[39m\n\u001b[1;32m    385\u001b[0m     )\n\u001b[1;32m    387\u001b[0m fpr, tpr, _ \u001b[38;5;241m=\u001b[39m roc_curve(y_true, y_score, sample_weight\u001b[38;5;241m=\u001b[39msample_weight)\n\u001b[1;32m    388\u001b[0m \u001b[38;5;28;01mif\u001b[39;00m max_fpr \u001b[38;5;129;01mis\u001b[39;00m \u001b[38;5;28;01mNone\u001b[39;00m \u001b[38;5;129;01mor\u001b[39;00m max_fpr \u001b[38;5;241m==\u001b[39m \u001b[38;5;241m1\u001b[39m:\n",
      "\u001b[0;31mValueError\u001b[0m: Only one class present in y_true. ROC AUC score is not defined in that case."
     ]
    },
    {
     "data": {
      "text/plain": [
       "<Figure size 640x480 with 0 Axes>"
      ]
     },
     "metadata": {},
     "output_type": "display_data"
    }
   ],
   "source": [
    "\n",
    "figure()\n",
    "eval_2: dict[str, list] = evaluate_approach(train_2, test_2, target='is_purchase', metric=\"recall\")\n",
    "plot_multibar_chart(\n",
    "    [\"NB\", \"KNN\"], eval_2, title=f\"{file_tag}_approach_2_evaluation\", percentage=True\n",
    ")\n",
    "#savefig(f\"images/{file_tag}_approach_2_evaluation.png\")\n",
    "show()"
   ]
  },
  {
   "cell_type": "code",
   "execution_count": 27,
   "metadata": {},
   "outputs": [
    {
     "ename": "KeyError",
     "evalue": "'is_purchase'",
     "output_type": "error",
     "traceback": [
      "\u001b[0;31m---------------------------------------------------------------------------\u001b[0m",
      "\u001b[0;31mKeyError\u001b[0m                                  Traceback (most recent call last)",
      "File \u001b[0;32m/opt/anaconda3/lib/python3.12/site-packages/pandas/core/indexes/base.py:3805\u001b[0m, in \u001b[0;36mIndex.get_loc\u001b[0;34m(self, key)\u001b[0m\n\u001b[1;32m   3804\u001b[0m \u001b[38;5;28;01mtry\u001b[39;00m:\n\u001b[0;32m-> 3805\u001b[0m     \u001b[38;5;28;01mreturn\u001b[39;00m \u001b[38;5;28mself\u001b[39m\u001b[38;5;241m.\u001b[39m_engine\u001b[38;5;241m.\u001b[39mget_loc(casted_key)\n\u001b[1;32m   3806\u001b[0m \u001b[38;5;28;01mexcept\u001b[39;00m \u001b[38;5;167;01mKeyError\u001b[39;00m \u001b[38;5;28;01mas\u001b[39;00m err:\n",
      "File \u001b[0;32mindex.pyx:167\u001b[0m, in \u001b[0;36mpandas._libs.index.IndexEngine.get_loc\u001b[0;34m()\u001b[0m\n",
      "File \u001b[0;32mindex.pyx:196\u001b[0m, in \u001b[0;36mpandas._libs.index.IndexEngine.get_loc\u001b[0;34m()\u001b[0m\n",
      "File \u001b[0;32mpandas/_libs/hashtable_class_helper.pxi:7081\u001b[0m, in \u001b[0;36mpandas._libs.hashtable.PyObjectHashTable.get_item\u001b[0;34m()\u001b[0m\n",
      "File \u001b[0;32mpandas/_libs/hashtable_class_helper.pxi:7089\u001b[0m, in \u001b[0;36mpandas._libs.hashtable.PyObjectHashTable.get_item\u001b[0;34m()\u001b[0m\n",
      "\u001b[0;31mKeyError\u001b[0m: 'is_purchase'",
      "\nThe above exception was the direct cause of the following exception:\n",
      "\u001b[0;31mKeyError\u001b[0m                                  Traceback (most recent call last)",
      "Cell \u001b[0;32mIn[27], line 1\u001b[0m\n\u001b[0;32m----> 1\u001b[0m \u001b[38;5;28mprint\u001b[39m(df_2[target]\u001b[38;5;241m.\u001b[39mvalue_counts())\n",
      "File \u001b[0;32m/opt/anaconda3/lib/python3.12/site-packages/pandas/core/frame.py:4102\u001b[0m, in \u001b[0;36mDataFrame.__getitem__\u001b[0;34m(self, key)\u001b[0m\n\u001b[1;32m   4100\u001b[0m \u001b[38;5;28;01mif\u001b[39;00m \u001b[38;5;28mself\u001b[39m\u001b[38;5;241m.\u001b[39mcolumns\u001b[38;5;241m.\u001b[39mnlevels \u001b[38;5;241m>\u001b[39m \u001b[38;5;241m1\u001b[39m:\n\u001b[1;32m   4101\u001b[0m     \u001b[38;5;28;01mreturn\u001b[39;00m \u001b[38;5;28mself\u001b[39m\u001b[38;5;241m.\u001b[39m_getitem_multilevel(key)\n\u001b[0;32m-> 4102\u001b[0m indexer \u001b[38;5;241m=\u001b[39m \u001b[38;5;28mself\u001b[39m\u001b[38;5;241m.\u001b[39mcolumns\u001b[38;5;241m.\u001b[39mget_loc(key)\n\u001b[1;32m   4103\u001b[0m \u001b[38;5;28;01mif\u001b[39;00m is_integer(indexer):\n\u001b[1;32m   4104\u001b[0m     indexer \u001b[38;5;241m=\u001b[39m [indexer]\n",
      "File \u001b[0;32m/opt/anaconda3/lib/python3.12/site-packages/pandas/core/indexes/base.py:3812\u001b[0m, in \u001b[0;36mIndex.get_loc\u001b[0;34m(self, key)\u001b[0m\n\u001b[1;32m   3807\u001b[0m     \u001b[38;5;28;01mif\u001b[39;00m \u001b[38;5;28misinstance\u001b[39m(casted_key, \u001b[38;5;28mslice\u001b[39m) \u001b[38;5;129;01mor\u001b[39;00m (\n\u001b[1;32m   3808\u001b[0m         \u001b[38;5;28misinstance\u001b[39m(casted_key, abc\u001b[38;5;241m.\u001b[39mIterable)\n\u001b[1;32m   3809\u001b[0m         \u001b[38;5;129;01mand\u001b[39;00m \u001b[38;5;28many\u001b[39m(\u001b[38;5;28misinstance\u001b[39m(x, \u001b[38;5;28mslice\u001b[39m) \u001b[38;5;28;01mfor\u001b[39;00m x \u001b[38;5;129;01min\u001b[39;00m casted_key)\n\u001b[1;32m   3810\u001b[0m     ):\n\u001b[1;32m   3811\u001b[0m         \u001b[38;5;28;01mraise\u001b[39;00m InvalidIndexError(key)\n\u001b[0;32m-> 3812\u001b[0m     \u001b[38;5;28;01mraise\u001b[39;00m \u001b[38;5;167;01mKeyError\u001b[39;00m(key) \u001b[38;5;28;01mfrom\u001b[39;00m \u001b[38;5;21;01merr\u001b[39;00m\n\u001b[1;32m   3813\u001b[0m \u001b[38;5;28;01mexcept\u001b[39;00m \u001b[38;5;167;01mTypeError\u001b[39;00m:\n\u001b[1;32m   3814\u001b[0m     \u001b[38;5;66;03m# If we have a listlike key, _check_indexing_error will raise\u001b[39;00m\n\u001b[1;32m   3815\u001b[0m     \u001b[38;5;66;03m#  InvalidIndexError. Otherwise we fall through and re-raise\u001b[39;00m\n\u001b[1;32m   3816\u001b[0m     \u001b[38;5;66;03m#  the TypeError.\u001b[39;00m\n\u001b[1;32m   3817\u001b[0m     \u001b[38;5;28mself\u001b[39m\u001b[38;5;241m.\u001b[39m_check_indexing_error(key)\n",
      "\u001b[0;31mKeyError\u001b[0m: 'is_purchase'"
     ]
    }
   ],
   "source": [
    "print(df_2[target].value_counts())\n"
   ]
  },
  {
   "cell_type": "code",
   "execution_count": 29,
   "metadata": {},
   "outputs": [
    {
     "name": "stdout",
     "output_type": "stream",
     "text": [
      "Index(['category_code_lvl_1', 'category_code_lvl_2', 'category_code_lvl_3',\n",
      "       'price', 'week_of_month', 'is_weekend', 'day', 'is_view', 'is_cart',\n",
      "       'time_of_day_sin', 'time_of_day_cos', 'day_of_week_sin',\n",
      "       'day_of_week_cos', 'hour_sin', 'hour_cos', 'min_sin', 'min_cos'],\n",
      "      dtype='object')\n"
     ]
    }
   ],
   "source": [
    "print(df_2.columns)\n"
   ]
  },
  {
   "cell_type": "code",
   "execution_count": 30,
   "metadata": {},
   "outputs": [
    {
     "ename": "NameError",
     "evalue": "name 'teste_2' is not defined",
     "output_type": "error",
     "traceback": [
      "\u001b[0;31m---------------------------------------------------------------------------\u001b[0m",
      "\u001b[0;31mNameError\u001b[0m                                 Traceback (most recent call last)",
      "Cell \u001b[0;32mIn[30], line 1\u001b[0m\n\u001b[0;32m----> 1\u001b[0m \u001b[38;5;28mprint\u001b[39m(teste_2\u001b[38;5;241m.\u001b[39mcolumns)\n",
      "\u001b[0;31mNameError\u001b[0m: name 'teste_2' is not defined"
     ]
    }
   ],
   "source": [
    "print(teste_2.columns)"
   ]
  },
  {
   "cell_type": "code",
   "execution_count": 28,
   "metadata": {},
   "outputs": [
    {
     "ename": "KeyError",
     "evalue": "'is_purchase'",
     "output_type": "error",
     "traceback": [
      "\u001b[0;31m---------------------------------------------------------------------------\u001b[0m",
      "\u001b[0;31mKeyError\u001b[0m                                  Traceback (most recent call last)",
      "File \u001b[0;32m/opt/anaconda3/lib/python3.12/site-packages/pandas/core/indexes/base.py:3805\u001b[0m, in \u001b[0;36mIndex.get_loc\u001b[0;34m(self, key)\u001b[0m\n\u001b[1;32m   3804\u001b[0m \u001b[38;5;28;01mtry\u001b[39;00m:\n\u001b[0;32m-> 3805\u001b[0m     \u001b[38;5;28;01mreturn\u001b[39;00m \u001b[38;5;28mself\u001b[39m\u001b[38;5;241m.\u001b[39m_engine\u001b[38;5;241m.\u001b[39mget_loc(casted_key)\n\u001b[1;32m   3806\u001b[0m \u001b[38;5;28;01mexcept\u001b[39;00m \u001b[38;5;167;01mKeyError\u001b[39;00m \u001b[38;5;28;01mas\u001b[39;00m err:\n",
      "File \u001b[0;32mindex.pyx:167\u001b[0m, in \u001b[0;36mpandas._libs.index.IndexEngine.get_loc\u001b[0;34m()\u001b[0m\n",
      "File \u001b[0;32mindex.pyx:196\u001b[0m, in \u001b[0;36mpandas._libs.index.IndexEngine.get_loc\u001b[0;34m()\u001b[0m\n",
      "File \u001b[0;32mpandas/_libs/hashtable_class_helper.pxi:7081\u001b[0m, in \u001b[0;36mpandas._libs.hashtable.PyObjectHashTable.get_item\u001b[0;34m()\u001b[0m\n",
      "File \u001b[0;32mpandas/_libs/hashtable_class_helper.pxi:7089\u001b[0m, in \u001b[0;36mpandas._libs.hashtable.PyObjectHashTable.get_item\u001b[0;34m()\u001b[0m\n",
      "\u001b[0;31mKeyError\u001b[0m: 'is_purchase'",
      "\nThe above exception was the direct cause of the following exception:\n",
      "\u001b[0;31mKeyError\u001b[0m                                  Traceback (most recent call last)",
      "Cell \u001b[0;32mIn[28], line 1\u001b[0m\n\u001b[0;32m----> 1\u001b[0m \u001b[38;5;28mprint\u001b[39m(test_2[target]\u001b[38;5;241m.\u001b[39mvalue_counts())\n\u001b[1;32m      3\u001b[0m \u001b[38;5;28mprint\u001b[39m(df_2\u001b[38;5;241m.\u001b[39mcolumns)\n",
      "File \u001b[0;32m/opt/anaconda3/lib/python3.12/site-packages/pandas/core/frame.py:4102\u001b[0m, in \u001b[0;36mDataFrame.__getitem__\u001b[0;34m(self, key)\u001b[0m\n\u001b[1;32m   4100\u001b[0m \u001b[38;5;28;01mif\u001b[39;00m \u001b[38;5;28mself\u001b[39m\u001b[38;5;241m.\u001b[39mcolumns\u001b[38;5;241m.\u001b[39mnlevels \u001b[38;5;241m>\u001b[39m \u001b[38;5;241m1\u001b[39m:\n\u001b[1;32m   4101\u001b[0m     \u001b[38;5;28;01mreturn\u001b[39;00m \u001b[38;5;28mself\u001b[39m\u001b[38;5;241m.\u001b[39m_getitem_multilevel(key)\n\u001b[0;32m-> 4102\u001b[0m indexer \u001b[38;5;241m=\u001b[39m \u001b[38;5;28mself\u001b[39m\u001b[38;5;241m.\u001b[39mcolumns\u001b[38;5;241m.\u001b[39mget_loc(key)\n\u001b[1;32m   4103\u001b[0m \u001b[38;5;28;01mif\u001b[39;00m is_integer(indexer):\n\u001b[1;32m   4104\u001b[0m     indexer \u001b[38;5;241m=\u001b[39m [indexer]\n",
      "File \u001b[0;32m/opt/anaconda3/lib/python3.12/site-packages/pandas/core/indexes/base.py:3812\u001b[0m, in \u001b[0;36mIndex.get_loc\u001b[0;34m(self, key)\u001b[0m\n\u001b[1;32m   3807\u001b[0m     \u001b[38;5;28;01mif\u001b[39;00m \u001b[38;5;28misinstance\u001b[39m(casted_key, \u001b[38;5;28mslice\u001b[39m) \u001b[38;5;129;01mor\u001b[39;00m (\n\u001b[1;32m   3808\u001b[0m         \u001b[38;5;28misinstance\u001b[39m(casted_key, abc\u001b[38;5;241m.\u001b[39mIterable)\n\u001b[1;32m   3809\u001b[0m         \u001b[38;5;129;01mand\u001b[39;00m \u001b[38;5;28many\u001b[39m(\u001b[38;5;28misinstance\u001b[39m(x, \u001b[38;5;28mslice\u001b[39m) \u001b[38;5;28;01mfor\u001b[39;00m x \u001b[38;5;129;01min\u001b[39;00m casted_key)\n\u001b[1;32m   3810\u001b[0m     ):\n\u001b[1;32m   3811\u001b[0m         \u001b[38;5;28;01mraise\u001b[39;00m InvalidIndexError(key)\n\u001b[0;32m-> 3812\u001b[0m     \u001b[38;5;28;01mraise\u001b[39;00m \u001b[38;5;167;01mKeyError\u001b[39;00m(key) \u001b[38;5;28;01mfrom\u001b[39;00m \u001b[38;5;21;01merr\u001b[39;00m\n\u001b[1;32m   3813\u001b[0m \u001b[38;5;28;01mexcept\u001b[39;00m \u001b[38;5;167;01mTypeError\u001b[39;00m:\n\u001b[1;32m   3814\u001b[0m     \u001b[38;5;66;03m# If we have a listlike key, _check_indexing_error will raise\u001b[39;00m\n\u001b[1;32m   3815\u001b[0m     \u001b[38;5;66;03m#  InvalidIndexError. Otherwise we fall through and re-raise\u001b[39;00m\n\u001b[1;32m   3816\u001b[0m     \u001b[38;5;66;03m#  the TypeError.\u001b[39;00m\n\u001b[1;32m   3817\u001b[0m     \u001b[38;5;28mself\u001b[39m\u001b[38;5;241m.\u001b[39m_check_indexing_error(key)\n",
      "\u001b[0;31mKeyError\u001b[0m: 'is_purchase'"
     ]
    }
   ],
   "source": [
    "print(test_2[target].value_counts())\n",
    "\n",
    "print(df_2.columns)\n"
   ]
  },
  {
   "cell_type": "code",
   "execution_count": null,
   "metadata": {},
   "outputs": [],
   "source": []
  },
  {
   "cell_type": "code",
   "execution_count": null,
   "metadata": {},
   "outputs": [],
   "source": []
  },
  {
   "cell_type": "markdown",
   "metadata": {},
   "source": [
    "# Bal 2 - Hybrid\n",
    "\n",
    "Reduce from negative class from 75 to 60% and then upsample the positives into 50/50\n"
   ]
  },
  {
   "cell_type": "markdown",
   "metadata": {},
   "source": [
    "## Bal 2 strategy aplication"
   ]
  },
  {
   "cell_type": "code",
   "execution_count": 48,
   "metadata": {},
   "outputs": [
    {
     "name": "stdout",
     "output_type": "stream",
     "text": [
      "Original class distribution:\n",
      "conversion\n",
      "0    96.023426\n",
      "1     3.976574\n",
      "Name: proportion, dtype: float64\n",
      "\n",
      "Hybrid class distribution:\n",
      "conversion\n",
      "0    50.0\n",
      "1    50.0\n",
      "Name: proportion, dtype: float64\n",
      "\n"
     ]
    }
   ],
   "source": [
    "from numpy import ndarray\n",
    "from pandas import Series\n",
    "from imblearn.over_sampling import SMOTE\n",
    "\n",
    "def apply_strategy_2(df):\n",
    "\n",
    "     # Create a copy of the dataframe\n",
    "    df_copy = df.copy()\n",
    "\n",
    "    # Define positive and negative classes\n",
    "    positive_class = 1  # Modify as per your positive class value\n",
    "    negative_class = 0  # Modify as per your negative class value\n",
    "\n",
    "    # Separate the majority and minority classes\n",
    "    df_majority = df_copy[df_copy[target] == negative_class]\n",
    "    df_minority = df_copy[df_copy[target] == positive_class]\n",
    "\n",
    "    # Check the current class distribution\n",
    "    print(f\"Original class distribution:\\n{df_copy[target].value_counts(normalize=True) * 100}\\n\")\n",
    "\n",
    "    # Sort by 'day_of_year' (or another time-related feature) to ensure the data is split based on time\n",
    "    df_majority.sort_values(by='day', inplace=True)\n",
    "    df_minority.sort_values(by='day', inplace=True)\n",
    "\n",
    "    # Determine the number of majority samples for a the desired split\n",
    "    total_samples = len(df_copy)\n",
    "    desired_majority_size = int(0.7 * total_samples)\n",
    "\n",
    "    # Keep the older data for majority class (downsampling based on time, not randomly)\n",
    "    df_majority_downsampled = df_majority.head(desired_majority_size)\n",
    "\n",
    "    # Upsample the minority class to match the new majority size for a 50/50 split\n",
    "    upsample_size = len(df_majority_downsampled)\n",
    "    df_minority_upsampled = df_minority.sample(n=upsample_size, replace=True)\n",
    "\n",
    "    # Combine the downsampled majority and upsampled minority classes\n",
    "    df_balanced = pd.concat([df_majority_downsampled, df_minority_upsampled])\n",
    "\n",
    "    # Sort the dataset by 'day_of_year' again if needed\n",
    "    df_balanced.sort_values(by='day', inplace=True)\n",
    "\n",
    "    # Check the new class distribution\n",
    "    print(f\"Hybrid class distribution:\\n{df_balanced[target].value_counts(normalize=True) * 100}\\n\")\n",
    "\n",
    "    return df_balanced\n",
    "\n",
    "\n",
    "df_2=apply_strategy_2(train)\n",
    "test_2=test.copy()\n"
   ]
  },
  {
   "cell_type": "code",
   "execution_count": 42,
   "metadata": {},
   "outputs": [
    {
     "name": "stdout",
     "output_type": "stream",
     "text": [
      "<class 'pandas.core.frame.DataFrame'>\n",
      "Index: 177828 entries, 0 to 177827\n",
      "Data columns (total 17 columns):\n",
      " #   Column               Non-Null Count   Dtype  \n",
      "---  ------               --------------   -----  \n",
      " 0   event_type           177828 non-null  float64\n",
      " 1   category_code_lvl_1  177828 non-null  float64\n",
      " 2   category_code_lvl_2  177828 non-null  float64\n",
      " 3   category_code_lvl_3  177828 non-null  float64\n",
      " 4   price                177828 non-null  float64\n",
      " 5   week_of_month        177828 non-null  float64\n",
      " 6   is_weekend           177828 non-null  float64\n",
      " 7   day                  177828 non-null  float64\n",
      " 8   time_of_day_sin      177828 non-null  float64\n",
      " 9   time_of_day_cos      177828 non-null  float64\n",
      " 10  day_of_week_sin      177828 non-null  float64\n",
      " 11  day_of_week_cos      177828 non-null  float64\n",
      " 12  hour_sin             177828 non-null  float64\n",
      " 13  hour_cos             177828 non-null  float64\n",
      " 14  min_sin              177828 non-null  float64\n",
      " 15  min_cos              177828 non-null  float64\n",
      " 16  conversion           177828 non-null  int64  \n",
      "dtypes: float64(16), int64(1)\n",
      "memory usage: 24.4 MB\n"
     ]
    }
   ],
   "source": [
    "df.info()"
   ]
  },
  {
   "cell_type": "code",
   "execution_count": 38,
   "metadata": {},
   "outputs": [
    {
     "name": "stdout",
     "output_type": "stream",
     "text": [
      "<class 'pandas.core.frame.DataFrame'>\n",
      "Index: 24894 entries, 0 to 122389\n",
      "Data columns (total 17 columns):\n",
      " #   Column               Non-Null Count  Dtype  \n",
      "---  ------               --------------  -----  \n",
      " 0   event_type           24894 non-null  float64\n",
      " 1   category_code_lvl_1  24894 non-null  float64\n",
      " 2   category_code_lvl_2  24894 non-null  float64\n",
      " 3   category_code_lvl_3  24894 non-null  float64\n",
      " 4   price                24894 non-null  float64\n",
      " 5   week_of_month        24894 non-null  float64\n",
      " 6   is_weekend           24894 non-null  float64\n",
      " 7   day                  24894 non-null  float64\n",
      " 8   time_of_day_sin      24894 non-null  float64\n",
      " 9   time_of_day_cos      24894 non-null  float64\n",
      " 10  day_of_week_sin      24894 non-null  float64\n",
      " 11  day_of_week_cos      24894 non-null  float64\n",
      " 12  hour_sin             24894 non-null  float64\n",
      " 13  hour_cos             24894 non-null  float64\n",
      " 14  min_sin              24894 non-null  float64\n",
      " 15  min_cos              24894 non-null  float64\n",
      " 16  conversion           24894 non-null  int64  \n",
      "dtypes: float64(16), int64(1)\n",
      "memory usage: 3.4 MB\n"
     ]
    }
   ],
   "source": [
    "df_2.info()"
   ]
  },
  {
   "cell_type": "code",
   "execution_count": 24,
   "metadata": {},
   "outputs": [
    {
     "name": "stdout",
     "output_type": "stream",
     "text": [
      "<class 'pandas.core.frame.DataFrame'>\n",
      "Index: 53349 entries, 0 to 53348\n",
      "Data columns (total 17 columns):\n",
      " #   Column               Non-Null Count  Dtype  \n",
      "---  ------               --------------  -----  \n",
      " 0   event_type           53349 non-null  float64\n",
      " 1   category_code_lvl_1  53349 non-null  float64\n",
      " 2   category_code_lvl_2  53349 non-null  float64\n",
      " 3   category_code_lvl_3  53349 non-null  float64\n",
      " 4   price                53349 non-null  float64\n",
      " 5   week_of_month        53349 non-null  float64\n",
      " 6   is_weekend           53349 non-null  float64\n",
      " 7   day                  53349 non-null  float64\n",
      " 8   time_of_day_sin      53349 non-null  float64\n",
      " 9   time_of_day_cos      53349 non-null  float64\n",
      " 10  day_of_week_sin      53349 non-null  float64\n",
      " 11  day_of_week_cos      53349 non-null  float64\n",
      " 12  hour_sin             53349 non-null  float64\n",
      " 13  hour_cos             53349 non-null  float64\n",
      " 14  min_sin              53349 non-null  float64\n",
      " 15  min_cos              53349 non-null  float64\n",
      " 16  conversion           53349 non-null  int64  \n",
      "dtypes: float64(16), int64(1)\n",
      "memory usage: 7.3 MB\n"
     ]
    }
   ],
   "source": [
    "test_2.info()"
   ]
  },
  {
   "cell_type": "code",
   "execution_count": null,
   "metadata": {},
   "outputs": [],
   "source": []
  },
  {
   "cell_type": "markdown",
   "metadata": {},
   "source": [
    "## Bal 2 train/test split "
   ]
  },
  {
   "cell_type": "code",
   "execution_count": 49,
   "metadata": {},
   "outputs": [
    {
     "data": {
      "image/png": "[encoded data removed]",
      "text/plain": [
       "<Figure size 600x400 with 1 Axes>"
      ]
     },
     "metadata": {},
     "output_type": "display_data"
    }
   ],
   "source": [
    "from pandas import concat\n",
    "from matplotlib.pyplot import figure, show\n",
    "from dslabs_functions import plot_multibar_chart\n",
    "\n",
    "\n",
    "# Distribution check\n",
    "\n",
    "\n",
    "# Create a dictionary to store original class counts\n",
    "values: dict[str, list[int]] = {\n",
    "    \"Original\": [\n",
    "        len(df[df[target] == 0]),  # Assuming 0 is the negative class\n",
    "        len(df[df[target] == 1]),  # Assuming 1 is the positive class\n",
    "    ]\n",
    "}\n",
    "\n",
    "values[\"Train\"] = [\n",
    "    len(df_2[df_2[target] == 0]),\n",
    "    len(df_2[df_2[target] == 1]),\n",
    "]\n",
    "values[\"Test\"] = [\n",
    "    len(test_2[test_2[target] == 0]),\n",
    "    len(test_2[test_2[target] == 1]),\n",
    "]\n",
    "\n",
    "# Visualize the distribution\n",
    "figure(figsize=(6, 4))\n",
    "plot_multibar_chart(labels, values, title=\"Data distribution per dataset\")\n",
    "show()"
   ]
  },
  {
   "cell_type": "markdown",
   "metadata": {},
   "source": [
    "## Bal 2 evaluate"
   ]
  },
  {
   "cell_type": "code",
   "execution_count": 50,
   "metadata": {},
   "outputs": [
    {
     "data": {
      "image/png": "[encoded data removed]",
      "text/plain": [
       "<Figure size 640x480 with 1 Axes>"
      ]
     },
     "metadata": {},
     "output_type": "display_data"
    }
   ],
   "source": [
    "\n",
    "figure()\n",
    "eval_2: dict[str, list] = evaluate_approach(df_2, test_2, target='conversion', metric=\"recall\")\n",
    "plot_multibar_chart(\n",
    "    [\"NB\", \"KNN\"], eval_2, title=f\"{file_tag}_approach_2_evaluation\", percentage=True\n",
    ")\n",
    "savefig(f\"images/{file_tag}_approach_2_evaluation.png\")\n",
    "show()"
   ]
  },
  {
   "cell_type": "code",
   "execution_count": null,
   "metadata": {},
   "outputs": [],
   "source": []
  },
  {
   "cell_type": "markdown",
   "metadata": {},
   "source": [
    "# Approach uplift comparison"
   ]
  },
  {
   "cell_type": "markdown",
   "metadata": {},
   "source": [
    "## uplift df"
   ]
  },
  {
   "cell_type": "code",
   "execution_count": 51,
   "metadata": {},
   "outputs": [
    {
     "data": {
      "text/html": [
       "<div>\n",
       "<style scoped>\n",
       "    .dataframe tbody tr th:only-of-type {\n",
       "        vertical-align: middle;\n",
       "    }\n",
       "\n",
       "    .dataframe tbody tr th {\n",
       "        vertical-align: top;\n",
       "    }\n",
       "\n",
       "    .dataframe thead tr th {\n",
       "        text-align: left;\n",
       "    }\n",
       "</style>\n",
       "<table border=\"1\" class=\"dataframe\">\n",
       "  <thead>\n",
       "    <tr>\n",
       "      <th></th>\n",
       "      <th colspan=\"5\" halign=\"left\">Approach 1</th>\n",
       "      <th colspan=\"5\" halign=\"left\">Approach 2</th>\n",
       "      <th colspan=\"5\" halign=\"left\">Uplift</th>\n",
       "    </tr>\n",
       "    <tr>\n",
       "      <th></th>\n",
       "      <th>accuracy</th>\n",
       "      <th>recall</th>\n",
       "      <th>precision</th>\n",
       "      <th>auc</th>\n",
       "      <th>f1</th>\n",
       "      <th>accuracy</th>\n",
       "      <th>recall</th>\n",
       "      <th>precision</th>\n",
       "      <th>auc</th>\n",
       "      <th>f1</th>\n",
       "      <th>accuracy</th>\n",
       "      <th>recall</th>\n",
       "      <th>precision</th>\n",
       "      <th>auc</th>\n",
       "      <th>f1</th>\n",
       "    </tr>\n",
       "  </thead>\n",
       "  <tbody>\n",
       "    <tr>\n",
       "      <th>Naive Bayes</th>\n",
       "      <td>1.000000</td>\n",
       "      <td>1.000000</td>\n",
       "      <td>1.000000</td>\n",
       "      <td>1.000000</td>\n",
       "      <td>1.000000</td>\n",
       "      <td>1.000000</td>\n",
       "      <td>1.0</td>\n",
       "      <td>1.000000</td>\n",
       "      <td>1.000000</td>\n",
       "      <td>1.000000</td>\n",
       "      <td>0.000000</td>\n",
       "      <td>0.000000</td>\n",
       "      <td>0.000000</td>\n",
       "      <td>0.000000</td>\n",
       "      <td>0.000000</td>\n",
       "    </tr>\n",
       "    <tr>\n",
       "      <th>KNN</th>\n",
       "      <td>0.955126</td>\n",
       "      <td>0.999566</td>\n",
       "      <td>0.490634</td>\n",
       "      <td>0.976342</td>\n",
       "      <td>0.658195</td>\n",
       "      <td>0.955144</td>\n",
       "      <td>1.0</td>\n",
       "      <td>0.490743</td>\n",
       "      <td>0.976559</td>\n",
       "      <td>0.658387</td>\n",
       "      <td>0.000019</td>\n",
       "      <td>0.000434</td>\n",
       "      <td>0.000108</td>\n",
       "      <td>0.000217</td>\n",
       "      <td>0.000192</td>\n",
       "    </tr>\n",
       "  </tbody>\n",
       "</table>\n",
       "</div>"
      ],
      "text/plain": [
       "            Approach 1                                         Approach 2  \\\n",
       "              accuracy    recall precision       auc        f1   accuracy   \n",
       "Naive Bayes   1.000000  1.000000  1.000000  1.000000  1.000000   1.000000   \n",
       "KNN           0.955126  0.999566  0.490634  0.976342  0.658195   0.955144   \n",
       "\n",
       "                                                    Uplift            \\\n",
       "            recall precision       auc        f1  accuracy    recall   \n",
       "Naive Bayes    1.0  1.000000  1.000000  1.000000  0.000000  0.000000   \n",
       "KNN            1.0  0.490743  0.976559  0.658387  0.000019  0.000434   \n",
       "\n",
       "                                           \n",
       "            precision       auc        f1  \n",
       "Naive Bayes  0.000000  0.000000  0.000000  \n",
       "KNN          0.000108  0.000217  0.000192  "
      ]
     },
     "execution_count": 51,
     "metadata": {},
     "output_type": "execute_result"
    }
   ],
   "source": [
    "algorithms = ['Naive Bayes', 'KNN']\n",
    "\n",
    "# Create DataFrames for eval_1 and eval_2\n",
    "df_eval_1 = pd.DataFrame(eval_1, index=algorithms)\n",
    "df_eval_2 = pd.DataFrame(eval_2, index=algorithms)\n",
    "\n",
    "# Calculate uplift\n",
    "df_uplift = df_eval_2 - df_eval_1\n",
    "\n",
    "\n",
    "\n",
    "# Combine everything into one DataFrame (without misalignment issues)\n",
    "comparison_df = pd.concat([df_eval_1, df_eval_2, df_uplift], axis=1)\n",
    "comparison_df.columns = pd.MultiIndex.from_product([['Approach 1', 'Approach 2', 'Uplift'], eval_1.keys()])\n",
    "\n",
    "\n",
    "\n",
    "# Display the DataFrame\n",
    "comparison_df"
   ]
  },
  {
   "cell_type": "markdown",
   "metadata": {},
   "source": [
    "# Analysis\n",
    "\n",
    "- Uplift between outlier input approaches is specially significant when it comes to recall (55.7%  out1 to 37% out2). \n",
    "- Accuracy however is lower on out1 vs out2 treatment strategies\n",
    "- data processing time is almost equal\n",
    "- Considering out1 is the best between both strategies, if we compare between previous dataset and outlier treatment, we have\n",
    "    - an improvement in NB recall (0.35 to 0.55!)\n",
    "    - slight loss in NB accuracy: 0.63 to 0.59 \n",
    "    - slight improvement in NB's auc and f1 \n",
    "    - no significant improvements in KNN\n",
    "\n",
    "- Considering we seriously want to improve recall, then we will move forward with strategy outlier 1 (thresholding outliers)"
   ]
  },
  {
   "cell_type": "markdown",
   "metadata": {},
   "source": [
    "# save to csv"
   ]
  },
  {
   "cell_type": "code",
   "execution_count": 55,
   "metadata": {},
   "outputs": [
    {
     "name": "stdout",
     "output_type": "stream",
     "text": [
      "Original class distribution:\n",
      "conversion\n",
      "0    95.919653\n",
      "1     4.080347\n",
      "Name: proportion, dtype: float64\n",
      "\n",
      "Balanced class distribution:\n",
      "conversion\n",
      "0    50.0\n",
      "1    50.0\n",
      "Name: proportion, dtype: float64\n",
      "\n",
      "Index(['event_type', 'category_code_lvl_1', 'category_code_lvl_2',\n",
      "       'category_code_lvl_3', 'price', 'week_of_month', 'is_weekend', 'day',\n",
      "       'time_of_day_sin', 'time_of_day_cos', 'day_of_week_sin',\n",
      "       'day_of_week_cos', 'hour_sin', 'hour_cos', 'min_sin', 'min_cos',\n",
      "       'conversion'],\n",
      "      dtype='object')\n"
     ]
    }
   ],
   "source": [
    "if test_data==False:\n",
    "    \n",
    "    \n",
    "    data_save=df.copy()\n",
    "\n",
    "    data_save=apply_strategy_1(data_save)\n",
    "        \n",
    "    data_save.to_csv(f\"dataset/df_ecom_2_5_bal_input_v2.csv\", index=False)\n",
    "\n",
    "\n",
    "    print(data_save.columns)\n",
    "\n"
   ]
  },
  {
   "cell_type": "markdown",
   "metadata": {},
   "source": [
    "## train test csv"
   ]
  },
  {
   "cell_type": "code",
   "execution_count": 56,
   "metadata": {},
   "outputs": [
    {
     "name": "stdout",
     "output_type": "stream",
     "text": [
      "Labels=[0, 1]\n",
      "Index(['event_type', 'category_code_lvl_1', 'category_code_lvl_2',\n",
      "       'category_code_lvl_3', 'price', 'week_of_month', 'is_weekend', 'day',\n",
      "       'time_of_day_sin', 'time_of_day_cos', 'day_of_week_sin',\n",
      "       'day_of_week_cos', 'hour_sin', 'hour_cos', 'min_sin', 'min_cos',\n",
      "       'conversion'],\n",
      "      dtype='object')\n",
      "Index(['event_type', 'category_code_lvl_1', 'category_code_lvl_2',\n",
      "       'category_code_lvl_3', 'price', 'week_of_month', 'is_weekend', 'day',\n",
      "       'time_of_day_sin', 'time_of_day_cos', 'day_of_week_sin',\n",
      "       'day_of_week_cos', 'hour_sin', 'hour_cos', 'min_sin', 'min_cos',\n",
      "       'conversion'],\n",
      "      dtype='object')\n"
     ]
    }
   ],
   "source": [
    "if test_data==False:\n",
    "    \n",
    "\n",
    "    data_save_copy=data_save.copy()\n",
    "\n",
    "    \n",
    "    y, X, labels, class_counts = define_target_and_prepare_data(data_save_copy, target=target)\n",
    "\n",
    "    train, test = split_data_save_csv(pd.DataFrame(X, columns=data_save_copy.columns), y, data_columns=data_save_copy.columns, target_column=target)  \n",
    "    \n",
    "    train.to_csv(f\"dataset/df_ecom_2_5_bal_input_v2_train.csv\", index=False)\n",
    "    print(train.columns)\n",
    "    \n",
    "    test.to_csv(f\"dataset/df_ecom_2_5_bal_input_v2_test.csv\", index=False)\n",
    "    print(test.columns)"
   ]
  },
  {
   "cell_type": "code",
   "execution_count": null,
   "metadata": {},
   "outputs": [],
   "source": []
  }
 ],
 "metadata": {
  "kernelspec": {
   "display_name": "base",
   "language": "python",
   "name": "python3"
  },
  "language_info": {
   "codemirror_mode": {
    "name": "ipython",
    "version": 3
   },
   "file_extension": ".py",
   "mimetype": "text/x-python",
   "name": "python",
   "nbconvert_exporter": "python",
   "pygments_lexer": "ipython3",
   "version": "3.12.2"
  }
 },
 "nbformat": 4,
 "nbformat_minor": 2
}
