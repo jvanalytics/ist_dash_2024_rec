{
 "cells": [
  {
   "cell_type": "code",
   "execution_count": null,
   "metadata": {},
   "outputs": [],
   "source": []
  },
  {
   "cell_type": "markdown",
   "metadata": {},
   "source": [
    "# File and libraries"
   ]
  },
  {
   "cell_type": "code",
   "execution_count": 37,
   "metadata": {},
   "outputs": [],
   "source": [
    "import pandas as pd\n",
    "import numpy as np\n",
    "from sklearn.model_selection import train_test_split\n",
    "\n",
    "\n",
    "filepath=r'dataset/df_ecom_2_3_outlier_input_v2_dummyfication.csv'\n",
    "\n",
    "\n",
    "file_tag = \"df_ecom_scaling_input\""
   ]
  },
  {
   "cell_type": "markdown",
   "metadata": {},
   "source": [
    "# DSLabs functions"
   ]
  },
  {
   "cell_type": "code",
   "execution_count": 38,
   "metadata": {},
   "outputs": [
    {
     "name": "stdout",
     "output_type": "stream",
     "text": [
      "data_functions lodaded\n"
     ]
    }
   ],
   "source": [
    "%run \"dslabs_functions.py\"\n"
   ]
  },
  {
   "cell_type": "markdown",
   "metadata": {},
   "source": [
    "# Data functions"
   ]
  },
  {
   "cell_type": "code",
   "execution_count": 39,
   "metadata": {},
   "outputs": [
    {
     "name": "stdout",
     "output_type": "stream",
     "text": [
      "data_functions lodaded\n"
     ]
    }
   ],
   "source": [
    "%run \"data_functions.py\"\n"
   ]
  },
  {
   "cell_type": "markdown",
   "metadata": {},
   "source": [
    "# Load"
   ]
  },
  {
   "cell_type": "code",
   "execution_count": 40,
   "metadata": {},
   "outputs": [
    {
     "name": "stdout",
     "output_type": "stream",
     "text": [
      "<class 'pandas.core.frame.DataFrame'>\n",
      "Index: 177828 entries, 0 to 177827\n",
      "Data columns (total 18 columns):\n",
      " #   Column               Non-Null Count   Dtype  \n",
      "---  ------               --------------   -----  \n",
      " 0   category_code_lvl_1  177828 non-null  float64\n",
      " 1   category_code_lvl_2  177828 non-null  float64\n",
      " 2   category_code_lvl_3  177828 non-null  float64\n",
      " 3   price                177828 non-null  float64\n",
      " 4   week_of_month        177828 non-null  int64  \n",
      " 5   is_weekend           177828 non-null  int64  \n",
      " 6   day                  177828 non-null  int64  \n",
      " 7   is_view              177828 non-null  int64  \n",
      " 8   is_cart              177828 non-null  int64  \n",
      " 9   is_purchase          177828 non-null  int64  \n",
      " 10  time_of_day_sin      177828 non-null  float64\n",
      " 11  time_of_day_cos      177828 non-null  float64\n",
      " 12  day_of_week_sin      177828 non-null  float64\n",
      " 13  day_of_week_cos      177828 non-null  float64\n",
      " 14  hour_sin             177828 non-null  float64\n",
      " 15  hour_cos             177828 non-null  float64\n",
      " 16  min_sin              177828 non-null  float64\n",
      " 17  min_cos              177828 non-null  float64\n",
      "dtypes: float64(12), int64(6)\n",
      "memory usage: 25.8 MB\n"
     ]
    }
   ],
   "source": [
    "# test_data=True\n",
    "test_data=False\n",
    "\n",
    "# use to evaluate strategies. otherwise False to just transform data \n",
    "evaluate=True\n",
    "# evaluate=False\n",
    "\n",
    "\n",
    "if test_data==True:\n",
    "\n",
    "    df=pd.read_csv(filepath)\n",
    "\n",
    "    # 1% sample\n",
    "    df=df.sample(frac=0.01, replace=False)\n",
    "    \n",
    "\n",
    "else:\n",
    "    df=pd.read_csv(filepath)\n",
    "    # 50% sample\n",
    "    # data=data.sample(frac=0.5, replace=False)\n",
    "\n",
    " \n",
    "target='is_purchase'\n",
    "vars: list[str] = df.columns.to_list()\n",
    "\n",
    "\n",
    "# ensure sorting by day_of_year for correct splitting \n",
    "# \"When in the presence of temporal data, data partition shall use older data to train and newer to test, in order to not use future data to classify past data. In any other case, partition shall be random.\"\n",
    "df.sort_values(by='day', inplace=True)\n",
    "\n",
    "\n",
    "df\n",
    "df.info()"
   ]
  },
  {
   "cell_type": "code",
   "execution_count": 41,
   "metadata": {},
   "outputs": [
    {
     "data": {
      "text/html": [
       "<div>\n",
       "<style scoped>\n",
       "    .dataframe tbody tr th:only-of-type {\n",
       "        vertical-align: middle;\n",
       "    }\n",
       "\n",
       "    .dataframe tbody tr th {\n",
       "        vertical-align: top;\n",
       "    }\n",
       "\n",
       "    .dataframe thead th {\n",
       "        text-align: right;\n",
       "    }\n",
       "</style>\n",
       "<table border=\"1\" class=\"dataframe\">\n",
       "  <thead>\n",
       "    <tr style=\"text-align: right;\">\n",
       "      <th></th>\n",
       "      <th>category_code_lvl_1</th>\n",
       "      <th>category_code_lvl_2</th>\n",
       "      <th>category_code_lvl_3</th>\n",
       "      <th>price</th>\n",
       "      <th>week_of_month</th>\n",
       "      <th>is_weekend</th>\n",
       "      <th>day</th>\n",
       "      <th>is_view</th>\n",
       "      <th>is_cart</th>\n",
       "      <th>is_purchase</th>\n",
       "      <th>time_of_day_sin</th>\n",
       "      <th>time_of_day_cos</th>\n",
       "      <th>day_of_week_sin</th>\n",
       "      <th>day_of_week_cos</th>\n",
       "      <th>hour_sin</th>\n",
       "      <th>hour_cos</th>\n",
       "      <th>min_sin</th>\n",
       "      <th>min_cos</th>\n",
       "    </tr>\n",
       "  </thead>\n",
       "  <tbody>\n",
       "    <tr>\n",
       "      <th>0</th>\n",
       "      <td>6.0</td>\n",
       "      <td>42.0</td>\n",
       "      <td>102.0</td>\n",
       "      <td>128.450000</td>\n",
       "      <td>0</td>\n",
       "      <td>0</td>\n",
       "      <td>0</td>\n",
       "      <td>1</td>\n",
       "      <td>0</td>\n",
       "      <td>0</td>\n",
       "      <td>0.0</td>\n",
       "      <td>1.0</td>\n",
       "      <td>1.0</td>\n",
       "      <td>0.0</td>\n",
       "      <td>0.817</td>\n",
       "      <td>-0.577</td>\n",
       "      <td>-0.000</td>\n",
       "      <td>1.000</td>\n",
       "    </tr>\n",
       "    <tr>\n",
       "      <th>2836</th>\n",
       "      <td>11.0</td>\n",
       "      <td>57.0</td>\n",
       "      <td>125.0</td>\n",
       "      <td>993.422936</td>\n",
       "      <td>0</td>\n",
       "      <td>0</td>\n",
       "      <td>0</td>\n",
       "      <td>1</td>\n",
       "      <td>0</td>\n",
       "      <td>0</td>\n",
       "      <td>-0.0</td>\n",
       "      <td>1.0</td>\n",
       "      <td>1.0</td>\n",
       "      <td>0.0</td>\n",
       "      <td>-0.888</td>\n",
       "      <td>0.460</td>\n",
       "      <td>-1.000</td>\n",
       "      <td>-0.027</td>\n",
       "    </tr>\n",
       "    <tr>\n",
       "      <th>2837</th>\n",
       "      <td>3.0</td>\n",
       "      <td>20.0</td>\n",
       "      <td>62.0</td>\n",
       "      <td>0.790000</td>\n",
       "      <td>0</td>\n",
       "      <td>0</td>\n",
       "      <td>0</td>\n",
       "      <td>1</td>\n",
       "      <td>0</td>\n",
       "      <td>0</td>\n",
       "      <td>-0.0</td>\n",
       "      <td>1.0</td>\n",
       "      <td>1.0</td>\n",
       "      <td>0.0</td>\n",
       "      <td>0.979</td>\n",
       "      <td>0.203</td>\n",
       "      <td>-0.921</td>\n",
       "      <td>0.389</td>\n",
       "    </tr>\n",
       "    <tr>\n",
       "      <th>2838</th>\n",
       "      <td>5.0</td>\n",
       "      <td>27.0</td>\n",
       "      <td>76.0</td>\n",
       "      <td>7.390000</td>\n",
       "      <td>0</td>\n",
       "      <td>0</td>\n",
       "      <td>0</td>\n",
       "      <td>1</td>\n",
       "      <td>0</td>\n",
       "      <td>0</td>\n",
       "      <td>0.0</td>\n",
       "      <td>1.0</td>\n",
       "      <td>1.0</td>\n",
       "      <td>0.0</td>\n",
       "      <td>0.998</td>\n",
       "      <td>-0.068</td>\n",
       "      <td>0.848</td>\n",
       "      <td>-0.530</td>\n",
       "    </tr>\n",
       "    <tr>\n",
       "      <th>2839</th>\n",
       "      <td>0.0</td>\n",
       "      <td>0.0</td>\n",
       "      <td>2.0</td>\n",
       "      <td>427.040000</td>\n",
       "      <td>0</td>\n",
       "      <td>0</td>\n",
       "      <td>0</td>\n",
       "      <td>1</td>\n",
       "      <td>0</td>\n",
       "      <td>0</td>\n",
       "      <td>0.0</td>\n",
       "      <td>1.0</td>\n",
       "      <td>1.0</td>\n",
       "      <td>0.0</td>\n",
       "      <td>0.942</td>\n",
       "      <td>-0.335</td>\n",
       "      <td>0.848</td>\n",
       "      <td>-0.530</td>\n",
       "    </tr>\n",
       "  </tbody>\n",
       "</table>\n",
       "</div>"
      ],
      "text/plain": [
       "      category_code_lvl_1  category_code_lvl_2  category_code_lvl_3  \\\n",
       "0                     6.0                 42.0                102.0   \n",
       "2836                 11.0                 57.0                125.0   \n",
       "2837                  3.0                 20.0                 62.0   \n",
       "2838                  5.0                 27.0                 76.0   \n",
       "2839                  0.0                  0.0                  2.0   \n",
       "\n",
       "           price  week_of_month  is_weekend  day  is_view  is_cart  \\\n",
       "0     128.450000              0           0    0        1        0   \n",
       "2836  993.422936              0           0    0        1        0   \n",
       "2837    0.790000              0           0    0        1        0   \n",
       "2838    7.390000              0           0    0        1        0   \n",
       "2839  427.040000              0           0    0        1        0   \n",
       "\n",
       "      is_purchase  time_of_day_sin  time_of_day_cos  day_of_week_sin  \\\n",
       "0               0              0.0              1.0              1.0   \n",
       "2836            0             -0.0              1.0              1.0   \n",
       "2837            0             -0.0              1.0              1.0   \n",
       "2838            0              0.0              1.0              1.0   \n",
       "2839            0              0.0              1.0              1.0   \n",
       "\n",
       "      day_of_week_cos  hour_sin  hour_cos  min_sin  min_cos  \n",
       "0                 0.0     0.817    -0.577   -0.000    1.000  \n",
       "2836              0.0    -0.888     0.460   -1.000   -0.027  \n",
       "2837              0.0     0.979     0.203   -0.921    0.389  \n",
       "2838              0.0     0.998    -0.068    0.848   -0.530  \n",
       "2839              0.0     0.942    -0.335    0.848   -0.530  "
      ]
     },
     "execution_count": 41,
     "metadata": {},
     "output_type": "execute_result"
    }
   ],
   "source": [
    "df.head()"
   ]
  },
  {
   "cell_type": "markdown",
   "metadata": {},
   "source": [
    "# Scale 1 - Standard Scaler"
   ]
  },
  {
   "cell_type": "code",
   "execution_count": null,
   "metadata": {},
   "outputs": [],
   "source": []
  },
  {
   "cell_type": "markdown",
   "metadata": {},
   "source": [
    "## Scale 1 strategy Application"
   ]
  },
  {
   "cell_type": "code",
   "execution_count": 42,
   "metadata": {},
   "outputs": [
    {
     "data": {
      "text/plain": [
       "Index(['category_code_lvl_1', 'category_code_lvl_2', 'category_code_lvl_3',\n",
       "       'price', 'week_of_month', 'is_weekend', 'day', 'is_view', 'is_cart',\n",
       "       'time_of_day_sin', 'time_of_day_cos', 'day_of_week_sin',\n",
       "       'day_of_week_cos', 'hour_sin', 'hour_cos', 'min_sin', 'min_cos',\n",
       "       'is_purchase'],\n",
       "      dtype='object')"
      ]
     },
     "execution_count": 42,
     "metadata": {},
     "output_type": "execute_result"
    }
   ],
   "source": [
    "from pandas import DataFrame, Series\n",
    "from sklearn.preprocessing import StandardScaler\n",
    "\n",
    "\n",
    "\n",
    "def apply_strategy_1(df: DataFrame) -> DataFrame:\n",
    "\n",
    "    df_copy=df.copy()\n",
    "    \n",
    "    # this script is available in data_functions originally from DSLabs site in Outlier chapter\n",
    "    \n",
    "    # Separate the target column from the features\n",
    "    target_data: Series = df_copy.pop(target)  # Remove the target from the dataframe for scaling\n",
    "    \n",
    "    # Apply scaling to only the feature columns\n",
    "    transf: StandardScaler = StandardScaler(with_mean=True, with_std=True, copy=True).fit(df_copy)\n",
    "    df_zscore = DataFrame(transf.transform(df_copy), index=df_copy.index, columns=df_copy.columns)\n",
    "    \n",
    "    # Add the target column back to the scaled dataframe\n",
    "    df_zscore[target] = target_data\n",
    "\n",
    "    return df_zscore\n",
    "\n",
    "df_1=apply_strategy_1(df)\n",
    "\n",
    "\n",
    "\n",
    "df_1.columns\n"
   ]
  },
  {
   "cell_type": "code",
   "execution_count": 43,
   "metadata": {},
   "outputs": [
    {
     "name": "stdout",
     "output_type": "stream",
     "text": [
      "<class 'pandas.core.frame.DataFrame'>\n",
      "Index: 177828 entries, 0 to 177827\n",
      "Data columns (total 18 columns):\n",
      " #   Column               Non-Null Count   Dtype  \n",
      "---  ------               --------------   -----  \n",
      " 0   category_code_lvl_1  177828 non-null  float64\n",
      " 1   category_code_lvl_2  177828 non-null  float64\n",
      " 2   category_code_lvl_3  177828 non-null  float64\n",
      " 3   price                177828 non-null  float64\n",
      " 4   week_of_month        177828 non-null  float64\n",
      " 5   is_weekend           177828 non-null  float64\n",
      " 6   day                  177828 non-null  float64\n",
      " 7   is_view              177828 non-null  float64\n",
      " 8   is_cart              177828 non-null  float64\n",
      " 9   time_of_day_sin      177828 non-null  float64\n",
      " 10  time_of_day_cos      177828 non-null  float64\n",
      " 11  day_of_week_sin      177828 non-null  float64\n",
      " 12  day_of_week_cos      177828 non-null  float64\n",
      " 13  hour_sin             177828 non-null  float64\n",
      " 14  hour_cos             177828 non-null  float64\n",
      " 15  min_sin              177828 non-null  float64\n",
      " 16  min_cos              177828 non-null  float64\n",
      " 17  is_purchase          177828 non-null  int64  \n",
      "dtypes: float64(17), int64(1)\n",
      "memory usage: 25.8 MB\n"
     ]
    }
   ],
   "source": [
    "df_1.info()\n"
   ]
  },
  {
   "cell_type": "markdown",
   "metadata": {},
   "source": [
    "## Scale 1 Target Prep"
   ]
  },
  {
   "cell_type": "code",
   "execution_count": 44,
   "metadata": {},
   "outputs": [
    {
     "data": {
      "text/plain": [
       "Index(['category_code_lvl_1', 'category_code_lvl_2', 'category_code_lvl_3',\n",
       "       'price', 'week_of_month', 'is_weekend', 'day', 'is_view', 'is_cart',\n",
       "       'time_of_day_sin', 'time_of_day_cos', 'day_of_week_sin',\n",
       "       'day_of_week_cos', 'hour_sin', 'hour_cos', 'min_sin', 'min_cos',\n",
       "       'is_purchase'],\n",
       "      dtype='object')"
      ]
     },
     "execution_count": 44,
     "metadata": {},
     "output_type": "execute_result"
    }
   ],
   "source": [
    "df_1.columns"
   ]
  },
  {
   "cell_type": "code",
   "execution_count": null,
   "metadata": {},
   "outputs": [],
   "source": []
  },
  {
   "cell_type": "markdown",
   "metadata": {},
   "source": [
    "## Scale 1 train/test split "
   ]
  },
  {
   "cell_type": "code",
   "execution_count": 45,
   "metadata": {},
   "outputs": [
    {
     "name": "stdout",
     "output_type": "stream",
     "text": [
      "Labels=[0, 1]\n"
     ]
    },
    {
     "data": {
      "image/png": "[encoded data removed]",
      "text/plain": [
       "<Figure size 600x400 with 1 Axes>"
      ]
     },
     "metadata": {},
     "output_type": "display_data"
    }
   ],
   "source": [
    "if evaluate ==True:\n",
    "    \n",
    "    from pandas import concat\n",
    "    from matplotlib.pyplot import figure, show\n",
    "    from sklearn.model_selection import train_test_split\n",
    "    from dslabs_functions import plot_multibar_chart\n",
    "\n",
    "\n",
    "    # Call the function to split the data\n",
    "    y_1, X_1, labels, values = define_target_and_prepare_data(df_1, target)\n",
    "\n",
    "    train_1, test_1 = split_data_save_csv(pd.DataFrame(X_1, columns=df_1.columns), y_1, data_columns=df_1.columns, target_column=target)\n",
    "\n",
    "\n",
    "    # Distribution check\n",
    "    values[\"Train\"] = [\n",
    "        len(train_1[train_1[target] == 0]),\n",
    "        len(train_1[train_1[target] == 1]),\n",
    "    ]\n",
    "    values[\"Test\"] = [\n",
    "        len(test_1[test_1[target] == 0]),\n",
    "        len(test_1[test_1[target] == 1]),\n",
    "    ]\n",
    "\n",
    "    # Visualize the distribution\n",
    "    figure(figsize=(6, 4))\n",
    "    plot_multibar_chart(labels, values, title=\"Data distribution per dataset\")\n",
    "    show()"
   ]
  },
  {
   "cell_type": "code",
   "execution_count": 46,
   "metadata": {},
   "outputs": [
    {
     "name": "stdout",
     "output_type": "stream",
     "text": [
      "Train set - Min day: -1.917359674970286, Max day: 0.7117451258167682\n",
      "Test set - Min day: 0.7117451258167682, Max day: 1.54827847152174\n"
     ]
    }
   ],
   "source": [
    "# Verificar o intervalo de dias no conjunto de treino\n",
    "min_day_train = train_1['day'].min()\n",
    "max_day_train = train_1['day'].max()\n",
    "\n",
    "# Verificar o intervalo de dias no conjunto de teste\n",
    "min_day_test = test_1['day'].min()\n",
    "max_day_test = test_1['day'].max()\n",
    "\n",
    "# Exibir os resultados\n",
    "print(f\"Train set - Min day: {min_day_train}, Max day: {max_day_train}\")\n",
    "print(f\"Test set - Min day: {min_day_test}, Max day: {max_day_test}\")"
   ]
  },
  {
   "cell_type": "markdown",
   "metadata": {},
   "source": [
    "## Scale 1 evaluate"
   ]
  },
  {
   "cell_type": "code",
   "execution_count": 47,
   "metadata": {},
   "outputs": [
    {
     "data": {
      "image/png": "[encoded data removed]",
      "text/plain": [
       "<Figure size 640x480 with 1 Axes>"
      ]
     },
     "metadata": {},
     "output_type": "display_data"
    }
   ],
   "source": [
    "# evaluate_approach is in data_functions originally from DSLABS/ Data Prep / Methodology\n",
    "# removed Multinomial from run_NB function because dataset has negative values\n",
    "if evaluate == True:\n",
    "    \n",
    "    figure()\n",
    "    eval_1: dict[str, list] = evaluate_approach(train_1, test_1, target='is_purchase', metric=\"recall\")\n",
    "    plot_multibar_chart(\n",
    "        [\"NB\", \"KNN\"], eval_1, title=f\"{file_tag}_approach_1_evaluation\", percentage=True\n",
    "    )\n",
    "    savefig(f\"images/{file_tag}_approach_1_evaluation.png\")\n",
    "    show()"
   ]
  },
  {
   "cell_type": "code",
   "execution_count": null,
   "metadata": {},
   "outputs": [],
   "source": []
  },
  {
   "cell_type": "markdown",
   "metadata": {},
   "source": [
    "# Scale 2 - MinMax Scaler\n"
   ]
  },
  {
   "cell_type": "markdown",
   "metadata": {},
   "source": [
    "## Scale 2 strategy aplication"
   ]
  },
  {
   "cell_type": "code",
   "execution_count": 48,
   "metadata": {},
   "outputs": [
    {
     "data": {
      "text/plain": [
       "Index(['category_code_lvl_1', 'category_code_lvl_2', 'category_code_lvl_3',\n",
       "       'price', 'week_of_month', 'is_weekend', 'day', 'is_view', 'is_cart',\n",
       "       'time_of_day_sin', 'time_of_day_cos', 'day_of_week_sin',\n",
       "       'day_of_week_cos', 'hour_sin', 'hour_cos', 'min_sin', 'min_cos',\n",
       "       'is_purchase'],\n",
       "      dtype='object')"
      ]
     },
     "execution_count": 48,
     "metadata": {},
     "output_type": "execute_result"
    }
   ],
   "source": [
    "from pandas import DataFrame, Series\n",
    "from sklearn.preprocessing import MinMaxScaler\n",
    "\n",
    "\n",
    "\n",
    "def apply_strategy_2(df):\n",
    "\n",
    "    df_copy=df.copy()\n",
    "    \n",
    "    # this script is available in data_functions originally from DSLabs site in Outlier chapter\n",
    "    \n",
    "    # Separate the target column from the features\n",
    "    target_data: Series = df_copy.pop(target)  # Remove the target from the dataframe for scaling\n",
    "    \n",
    "    # Apply MinMax scaling to the feature columns only\n",
    "    transf: MinMaxScaler = MinMaxScaler(feature_range=(0, 1), copy=True).fit(df_copy)\n",
    "    df_minmax = DataFrame(transf.transform(df_copy), index=df_copy.index, columns=df_copy.columns)\n",
    "    \n",
    "    # Add the target column back to the scaled dataframe\n",
    "    df_minmax[target] = target_data  # Add the unscaled target column back\n",
    "\n",
    "    return df_minmax\n",
    "\n",
    "df_2=apply_strategy_2(df)\n",
    "df_2.columns"
   ]
  },
  {
   "cell_type": "markdown",
   "metadata": {},
   "source": [
    "## Scale 2 train/test split "
   ]
  },
  {
   "cell_type": "code",
   "execution_count": 49,
   "metadata": {},
   "outputs": [
    {
     "name": "stdout",
     "output_type": "stream",
     "text": [
      "Labels=[0, 1]\n"
     ]
    },
    {
     "data": {
      "image/png": "[encoded data removed]",
      "text/plain": [
       "<Figure size 600x400 with 1 Axes>"
      ]
     },
     "metadata": {},
     "output_type": "display_data"
    }
   ],
   "source": [
    "if evaluate==True:\n",
    "\n",
    "    from pandas import concat\n",
    "    from matplotlib.pyplot import figure, show\n",
    "    from sklearn.model_selection import train_test_split\n",
    "    from dslabs_functions import plot_multibar_chart\n",
    "\n",
    "    # train/test split from DSLABS Classification/Evaluation Chapter\n",
    "    # created split_data_save_csv on data_functions\n",
    "\n",
    "    # Call the functions to split the data\n",
    "\n",
    "    y_2, X_2, labels, class_counts = define_target_and_prepare_data(df_2, target=target)\n",
    "\n",
    "    train_2, test_2 = split_data_save_csv(pd.DataFrame(X_2, columns=df_2.columns), y_2, data_columns=df_2.columns, target_column=target)\n",
    "\n",
    "\n",
    "    values[\"Train\"] = [\n",
    "        len(train_2[train_2[target] == 0]),\n",
    "        len(train_2[train_2[target] == 1]),\n",
    "    ]\n",
    "    values[\"Test\"] = [\n",
    "        len(test_2[test_2[target] == 0]),\n",
    "        len(test_2[test_2[target] == 1]),\n",
    "    ]\n",
    "\n",
    "    figure(figsize=(6, 4))\n",
    "    plot_multibar_chart(labels, values, title=\"Data distribution per dataset\")"
   ]
  },
  {
   "cell_type": "markdown",
   "metadata": {},
   "source": [
    "## Scale 2 evaluate"
   ]
  },
  {
   "cell_type": "code",
   "execution_count": 50,
   "metadata": {},
   "outputs": [
    {
     "data": {
      "image/png": "[encoded data removed]",
      "text/plain": [
       "<Figure size 640x480 with 1 Axes>"
      ]
     },
     "metadata": {},
     "output_type": "display_data"
    }
   ],
   "source": [
    "if evaluate == True:\n",
    "    figure()\n",
    "    eval_2: dict[str, list] = evaluate_approach(train_2, test_2, target='is_purchase', metric=\"recall\")\n",
    "    plot_multibar_chart(\n",
    "        [\"NB\", \"KNN\"], eval_2, title=f\"{file_tag}_approach_2_evaluation\", percentage=True\n",
    "    )\n",
    "    savefig(f\"images/{file_tag}_approach_2_evaluation.png\")\n",
    "    show()"
   ]
  },
  {
   "cell_type": "code",
   "execution_count": 51,
   "metadata": {},
   "outputs": [
    {
     "data": {
      "image/png": "[encoded data removed]",
      "text/plain": [
       "<Figure size 2000x1000 with 3 Axes>"
      ]
     },
     "metadata": {},
     "output_type": "display_data"
    }
   ],
   "source": [
    "if evaluate == True:\n",
    "\n",
    "    from matplotlib.pyplot import subplots, show\n",
    "\n",
    "    fig, axs = subplots(1, 3, figsize=(20, 10), squeeze=False)\n",
    "    axs[0, 1].set_title(\"Original data\")\n",
    "    df.boxplot(ax=axs[0, 0])\n",
    "\n",
    "    axs[0, 0].set_title(\"Z-score normalization\")\n",
    "    df_1.boxplot(ax=axs[0, 1])\n",
    "\n",
    "    axs[0, 2].set_title(\"MinMax normalization\")\n",
    "    df_2.boxplot(ax=axs[0, 2])\n",
    "    show()"
   ]
  },
  {
   "cell_type": "code",
   "execution_count": null,
   "metadata": {},
   "outputs": [],
   "source": []
  },
  {
   "cell_type": "markdown",
   "metadata": {},
   "source": [
    "# Approach uplift comparison"
   ]
  },
  {
   "cell_type": "markdown",
   "metadata": {},
   "source": [
    "## uplift df"
   ]
  },
  {
   "cell_type": "code",
   "execution_count": 52,
   "metadata": {},
   "outputs": [
    {
     "data": {
      "text/html": [
       "<div>\n",
       "<style scoped>\n",
       "    .dataframe tbody tr th:only-of-type {\n",
       "        vertical-align: middle;\n",
       "    }\n",
       "\n",
       "    .dataframe tbody tr th {\n",
       "        vertical-align: top;\n",
       "    }\n",
       "\n",
       "    .dataframe thead tr th {\n",
       "        text-align: left;\n",
       "    }\n",
       "</style>\n",
       "<table border=\"1\" class=\"dataframe\">\n",
       "  <thead>\n",
       "    <tr>\n",
       "      <th></th>\n",
       "      <th colspan=\"5\" halign=\"left\">Approach 1</th>\n",
       "      <th colspan=\"5\" halign=\"left\">Approach 2</th>\n",
       "      <th colspan=\"5\" halign=\"left\">Uplift</th>\n",
       "    </tr>\n",
       "    <tr>\n",
       "      <th></th>\n",
       "      <th>accuracy</th>\n",
       "      <th>recall</th>\n",
       "      <th>precision</th>\n",
       "      <th>auc</th>\n",
       "      <th>f1</th>\n",
       "      <th>accuracy</th>\n",
       "      <th>recall</th>\n",
       "      <th>precision</th>\n",
       "      <th>auc</th>\n",
       "      <th>f1</th>\n",
       "      <th>accuracy</th>\n",
       "      <th>recall</th>\n",
       "      <th>precision</th>\n",
       "      <th>auc</th>\n",
       "      <th>f1</th>\n",
       "    </tr>\n",
       "  </thead>\n",
       "  <tbody>\n",
       "    <tr>\n",
       "      <th>Naive Bayes</th>\n",
       "      <td>1.0</td>\n",
       "      <td>1.0</td>\n",
       "      <td>1.0</td>\n",
       "      <td>1.0</td>\n",
       "      <td>1.0</td>\n",
       "      <td>1.0</td>\n",
       "      <td>1.0</td>\n",
       "      <td>1.0</td>\n",
       "      <td>1.0</td>\n",
       "      <td>1.0</td>\n",
       "      <td>0.0</td>\n",
       "      <td>0.0</td>\n",
       "      <td>0.0</td>\n",
       "      <td>0.0</td>\n",
       "      <td>0.0</td>\n",
       "    </tr>\n",
       "    <tr>\n",
       "      <th>KNN</th>\n",
       "      <td>1.0</td>\n",
       "      <td>1.0</td>\n",
       "      <td>1.0</td>\n",
       "      <td>1.0</td>\n",
       "      <td>1.0</td>\n",
       "      <td>1.0</td>\n",
       "      <td>1.0</td>\n",
       "      <td>1.0</td>\n",
       "      <td>1.0</td>\n",
       "      <td>1.0</td>\n",
       "      <td>0.0</td>\n",
       "      <td>0.0</td>\n",
       "      <td>0.0</td>\n",
       "      <td>0.0</td>\n",
       "      <td>0.0</td>\n",
       "    </tr>\n",
       "  </tbody>\n",
       "</table>\n",
       "</div>"
      ],
      "text/plain": [
       "            Approach 1                            Approach 2                   \\\n",
       "              accuracy recall precision  auc   f1   accuracy recall precision   \n",
       "Naive Bayes        1.0    1.0       1.0  1.0  1.0        1.0    1.0       1.0   \n",
       "KNN                1.0    1.0       1.0  1.0  1.0        1.0    1.0       1.0   \n",
       "\n",
       "                        Uplift                             \n",
       "             auc   f1 accuracy recall precision  auc   f1  \n",
       "Naive Bayes  1.0  1.0      0.0    0.0       0.0  0.0  0.0  \n",
       "KNN          1.0  1.0      0.0    0.0       0.0  0.0  0.0  "
      ]
     },
     "metadata": {},
     "output_type": "display_data"
    }
   ],
   "source": [
    "if evaluate ==True:\n",
    "\n",
    "    algorithms = ['Naive Bayes', 'KNN']\n",
    "\n",
    "    # Create DataFrames for eval_1 and eval_2\n",
    "    df_eval_1 = pd.DataFrame(eval_1, index=algorithms)\n",
    "    df_eval_2 = pd.DataFrame(eval_2, index=algorithms)\n",
    "\n",
    "    # Calculate uplift\n",
    "    df_uplift = df_eval_2 - df_eval_1\n",
    "\n",
    "\n",
    "\n",
    "    # Combine everything into one DataFrame (without misalignment issues)\n",
    "    comparison_df = pd.concat([df_eval_1, df_eval_2, df_uplift], axis=1)\n",
    "    comparison_df.columns = pd.MultiIndex.from_product([['Approach 1', 'Approach 2', 'Uplift'], eval_1.keys()])\n",
    "\n",
    "\n",
    "\n",
    "    # Display the DataFrame\n",
    "    display(comparison_df)"
   ]
  },
  {
   "cell_type": "markdown",
   "metadata": {},
   "source": [
    "# Analysis\n",
    "\n",
    "Scalling treatment:\n",
    "- In Scalling treatment, we got the t2o approaches getting 100% in all evaluation metrics\n",
    "     - Something is wrong with the datset or with our procedure steps\n",
    "\n",
    "Comparing with previous dataset:\n",
    "- It's way better. For now lets save the approach 2 has the best. In balancing lets use the method for the outliers dataset\n",
    "\n",
    "\n",
    "Decision:\n",
    "- In balancing, use outliers dataset\n"
   ]
  },
  {
   "cell_type": "markdown",
   "metadata": {},
   "source": []
  },
  {
   "cell_type": "markdown",
   "metadata": {},
   "source": [
    "# save to csv"
   ]
  },
  {
   "cell_type": "code",
   "execution_count": 53,
   "metadata": {},
   "outputs": [
    {
     "name": "stdout",
     "output_type": "stream",
     "text": [
      "Index(['category_code_lvl_1', 'category_code_lvl_2', 'category_code_lvl_3',\n",
      "       'price', 'week_of_month', 'is_weekend', 'day', 'is_view', 'is_cart',\n",
      "       'time_of_day_sin', 'time_of_day_cos', 'day_of_week_sin',\n",
      "       'day_of_week_cos', 'hour_sin', 'hour_cos', 'min_sin', 'min_cos',\n",
      "       'is_purchase'],\n",
      "      dtype='object')\n"
     ]
    }
   ],
   "source": [
    "if test_data==False:\n",
    "    \n",
    "\n",
    "    data_save=df.copy()\n",
    "\n",
    "    # apply winning strategy\n",
    "    data_save=apply_strategy_2(data_save)\n",
    "        \n",
    "    data_save.to_csv(f\"dataset/df_ecom_2_4_scaler_input_v2_dummyfication.csv\", index=False)\n",
    "    \n",
    "\n",
    "    print(data_save.columns)"
   ]
  },
  {
   "cell_type": "markdown",
   "metadata": {},
   "source": [
    "## train test csv"
   ]
  },
  {
   "cell_type": "code",
   "execution_count": 54,
   "metadata": {},
   "outputs": [
    {
     "name": "stdout",
     "output_type": "stream",
     "text": [
      "Labels=[0, 1]\n",
      "Index(['category_code_lvl_1', 'category_code_lvl_2', 'category_code_lvl_3',\n",
      "       'price', 'week_of_month', 'is_weekend', 'day', 'is_view', 'is_cart',\n",
      "       'time_of_day_sin', 'time_of_day_cos', 'day_of_week_sin',\n",
      "       'day_of_week_cos', 'hour_sin', 'hour_cos', 'min_sin', 'min_cos',\n",
      "       'is_purchase'],\n",
      "      dtype='object')\n",
      "Index(['category_code_lvl_1', 'category_code_lvl_2', 'category_code_lvl_3',\n",
      "       'price', 'week_of_month', 'is_weekend', 'day', 'is_view', 'is_cart',\n",
      "       'time_of_day_sin', 'time_of_day_cos', 'day_of_week_sin',\n",
      "       'day_of_week_cos', 'hour_sin', 'hour_cos', 'min_sin', 'min_cos',\n",
      "       'is_purchase'],\n",
      "      dtype='object')\n"
     ]
    }
   ],
   "source": [
    "if test_data==False:\n",
    "    \n",
    "\n",
    "    data_save_copy=data_save.copy()\n",
    "\n",
    "    \n",
    "    y, X, labels, class_counts = define_target_and_prepare_data(data_save_copy, target=target)\n",
    "\n",
    "    train, test = split_data_save_csv(pd.DataFrame(X, columns=data_save_copy.columns), y, data_columns=data_save_copy.columns, target_column=target)  \n",
    "    \n",
    "    train.to_csv(f\"dataset/df_ecom_2_4_scaler_input_v2_dummyfication_train.csv\", index=False)\n",
    "    print(train.columns)\n",
    "    \n",
    "    test.to_csv(f\"dataset/df_ecom_2_4_scaler_input_v2_dummyfication_test.csv\", index=False)\n",
    "    print(test.columns)"
   ]
  },
  {
   "cell_type": "code",
   "execution_count": null,
   "metadata": {},
   "outputs": [],
   "source": []
  }
 ],
 "metadata": {
  "kernelspec": {
   "display_name": "base",
   "language": "python",
   "name": "python3"
  },
  "language_info": {
   "codemirror_mode": {
    "name": "ipython",
    "version": 3
   },
   "file_extension": ".py",
   "mimetype": "text/x-python",
   "name": "python",
   "nbconvert_exporter": "python",
   "pygments_lexer": "ipython3",
   "version": "3.12.2"
  }
 },
 "nbformat": 4,
 "nbformat_minor": 2
}
