{
 "cells": [
  {
   "cell_type": "markdown",
   "metadata": {},
   "source": [
    "# File and libraries"
   ]
  },
  {
   "cell_type": "code",
   "execution_count": 86,
   "metadata": {},
   "outputs": [],
   "source": [
    "import pandas as pd\n",
    "import numpy as np\n",
    "from sklearn.model_selection import train_test_split\n",
    "\n",
    "\n",
    "filepath = r'dataset/df_ecom_data_prep_encoded_v2.csv'\n",
    "\n",
    "\n",
    "file_tag = \"df_ecom_encoded\""
   ]
  },
  {
   "cell_type": "code",
   "execution_count": null,
   "metadata": {},
   "outputs": [],
   "source": []
  },
  {
   "cell_type": "markdown",
   "metadata": {},
   "source": [
    "# DSLabs functions"
   ]
  },
  {
   "cell_type": "code",
   "execution_count": 80,
   "metadata": {},
   "outputs": [
    {
     "name": "stdout",
     "output_type": "stream",
     "text": [
      "dslabs_functions lodaded\n",
      "data_functions loaded\n"
     ]
    }
   ],
   "source": [
    "%run \"dslabs_functions.py\" #run notebook with functions made py the professor and that are going to be use in the project\n",
    "\n",
    "%run \"data_functions.py\" #run notebook with additional functions made by the group and needed for the project\n"
   ]
  },
  {
   "cell_type": "code",
   "execution_count": null,
   "metadata": {},
   "outputs": [],
   "source": []
  },
  {
   "cell_type": "markdown",
   "metadata": {},
   "source": [
    "# Load"
   ]
  },
  {
   "cell_type": "code",
   "execution_count": 87,
   "metadata": {},
   "outputs": [
    {
     "name": "stdout",
     "output_type": "stream",
     "text": [
      "<class 'pandas.core.frame.DataFrame'>\n",
      "Index: 197632 entries, 86742 to 109086\n",
      "Data columns (total 16 columns):\n",
      " #   Column               Non-Null Count   Dtype  \n",
      "---  ------               --------------   -----  \n",
      " 0   category_code_lvl_1  177829 non-null  float64\n",
      " 1   category_code_lvl_2  177828 non-null  float64\n",
      " 2   category_code_lvl_3  177829 non-null  float64\n",
      " 3   price                197632 non-null  float64\n",
      " 4   conversion           197632 non-null  int64  \n",
      " 5   week_of_month        197632 non-null  int64  \n",
      " 6   is_weekend           197632 non-null  int64  \n",
      " 7   day                  197632 non-null  int64  \n",
      " 8   time_of_day_sin      197632 non-null  float64\n",
      " 9   time_of_day_cos      197632 non-null  float64\n",
      " 10  day_of_week_sin      197632 non-null  float64\n",
      " 11  day_of_week_cos      197632 non-null  float64\n",
      " 12  hour_sin             197632 non-null  float64\n",
      " 13  hour_cos             197632 non-null  float64\n",
      " 14  min_sin              197632 non-null  float64\n",
      " 15  min_cos              197632 non-null  float64\n",
      "dtypes: float64(12), int64(4)\n",
      "memory usage: 25.6 MB\n"
     ]
    }
   ],
   "source": [
    "# test_data=True\n",
    "test_data=False\n",
    "\n",
    "if test_data==True:\n",
    "\n",
    "    df=pd.read_csv(filepath)\n",
    "\n",
    "    # 1% sample\n",
    "    data=data.sample(frac=0.01, replace=False)\n",
    "    \n",
    "\n",
    "else:\n",
    "    df=pd.read_csv(filepath)\n",
    "    # 50% sample\n",
    "    # data=data.sample(frac=0.5, replace=False)\n",
    "\n",
    " \n",
    "target='conversion'\n",
    "\n",
    "# ensure sorting by day_of_year for correct splitting \n",
    "# \"When in the presence of temporal data, data partition shall use older data to train and newer to test, in order to not use future data to classify past data. In any other case, partition shall be random.\"\n",
    "df.sort_values(by='day', inplace=True)\n",
    "\n",
    "df.info()"
   ]
  },
  {
   "cell_type": "code",
   "execution_count": 88,
   "metadata": {},
   "outputs": [
    {
     "data": {
      "text/html": [
       "<div>\n",
       "<style scoped>\n",
       "    .dataframe tbody tr th:only-of-type {\n",
       "        vertical-align: middle;\n",
       "    }\n",
       "\n",
       "    .dataframe tbody tr th {\n",
       "        vertical-align: top;\n",
       "    }\n",
       "\n",
       "    .dataframe thead th {\n",
       "        text-align: right;\n",
       "    }\n",
       "</style>\n",
       "<table border=\"1\" class=\"dataframe\">\n",
       "  <thead>\n",
       "    <tr style=\"text-align: right;\">\n",
       "      <th></th>\n",
       "      <th>category_code_lvl_1</th>\n",
       "      <th>category_code_lvl_2</th>\n",
       "      <th>category_code_lvl_3</th>\n",
       "      <th>price</th>\n",
       "      <th>conversion</th>\n",
       "      <th>week_of_month</th>\n",
       "      <th>is_weekend</th>\n",
       "      <th>day</th>\n",
       "      <th>time_of_day_sin</th>\n",
       "      <th>time_of_day_cos</th>\n",
       "      <th>day_of_week_sin</th>\n",
       "      <th>day_of_week_cos</th>\n",
       "      <th>hour_sin</th>\n",
       "      <th>hour_cos</th>\n",
       "      <th>min_sin</th>\n",
       "      <th>min_cos</th>\n",
       "    </tr>\n",
       "  </thead>\n",
       "  <tbody>\n",
       "    <tr>\n",
       "      <th>86742</th>\n",
       "      <td>7.0</td>\n",
       "      <td>45.0</td>\n",
       "      <td>105.0</td>\n",
       "      <td>128.45</td>\n",
       "      <td>0</td>\n",
       "      <td>0</td>\n",
       "      <td>0</td>\n",
       "      <td>0</td>\n",
       "      <td>0.0</td>\n",
       "      <td>1.0</td>\n",
       "      <td>1.0</td>\n",
       "      <td>0.0</td>\n",
       "      <td>0.817</td>\n",
       "      <td>-0.577</td>\n",
       "      <td>-0.000</td>\n",
       "      <td>1.000</td>\n",
       "    </tr>\n",
       "    <tr>\n",
       "      <th>196614</th>\n",
       "      <td>0.0</td>\n",
       "      <td>0.0</td>\n",
       "      <td>2.0</td>\n",
       "      <td>360.34</td>\n",
       "      <td>0</td>\n",
       "      <td>0</td>\n",
       "      <td>0</td>\n",
       "      <td>0</td>\n",
       "      <td>0.0</td>\n",
       "      <td>-1.0</td>\n",
       "      <td>1.0</td>\n",
       "      <td>0.0</td>\n",
       "      <td>-0.817</td>\n",
       "      <td>-0.577</td>\n",
       "      <td>-0.991</td>\n",
       "      <td>-0.133</td>\n",
       "    </tr>\n",
       "    <tr>\n",
       "      <th>88560</th>\n",
       "      <td>NaN</td>\n",
       "      <td>NaN</td>\n",
       "      <td>NaN</td>\n",
       "      <td>437.57</td>\n",
       "      <td>0</td>\n",
       "      <td>0</td>\n",
       "      <td>0</td>\n",
       "      <td>0</td>\n",
       "      <td>0.0</td>\n",
       "      <td>1.0</td>\n",
       "      <td>1.0</td>\n",
       "      <td>0.0</td>\n",
       "      <td>0.817</td>\n",
       "      <td>-0.577</td>\n",
       "      <td>-0.818</td>\n",
       "      <td>0.575</td>\n",
       "    </tr>\n",
       "    <tr>\n",
       "      <th>22469</th>\n",
       "      <td>12.0</td>\n",
       "      <td>60.0</td>\n",
       "      <td>128.0</td>\n",
       "      <td>1338.13</td>\n",
       "      <td>0</td>\n",
       "      <td>0</td>\n",
       "      <td>0</td>\n",
       "      <td>0</td>\n",
       "      <td>-0.0</td>\n",
       "      <td>1.0</td>\n",
       "      <td>1.0</td>\n",
       "      <td>0.0</td>\n",
       "      <td>-0.888</td>\n",
       "      <td>0.460</td>\n",
       "      <td>-1.000</td>\n",
       "      <td>-0.027</td>\n",
       "    </tr>\n",
       "    <tr>\n",
       "      <th>65266</th>\n",
       "      <td>3.0</td>\n",
       "      <td>20.0</td>\n",
       "      <td>62.0</td>\n",
       "      <td>0.79</td>\n",
       "      <td>0</td>\n",
       "      <td>0</td>\n",
       "      <td>0</td>\n",
       "      <td>0</td>\n",
       "      <td>-0.0</td>\n",
       "      <td>1.0</td>\n",
       "      <td>1.0</td>\n",
       "      <td>0.0</td>\n",
       "      <td>0.979</td>\n",
       "      <td>0.203</td>\n",
       "      <td>-0.921</td>\n",
       "      <td>0.389</td>\n",
       "    </tr>\n",
       "  </tbody>\n",
       "</table>\n",
       "</div>"
      ],
      "text/plain": [
       "        category_code_lvl_1  category_code_lvl_2  category_code_lvl_3  \\\n",
       "86742                   7.0                 45.0                105.0   \n",
       "196614                  0.0                  0.0                  2.0   \n",
       "88560                   NaN                  NaN                  NaN   \n",
       "22469                  12.0                 60.0                128.0   \n",
       "65266                   3.0                 20.0                 62.0   \n",
       "\n",
       "          price  conversion  week_of_month  is_weekend  day  time_of_day_sin  \\\n",
       "86742    128.45           0              0           0    0              0.0   \n",
       "196614   360.34           0              0           0    0              0.0   \n",
       "88560    437.57           0              0           0    0              0.0   \n",
       "22469   1338.13           0              0           0    0             -0.0   \n",
       "65266      0.79           0              0           0    0             -0.0   \n",
       "\n",
       "        time_of_day_cos  day_of_week_sin  day_of_week_cos  hour_sin  hour_cos  \\\n",
       "86742               1.0              1.0              0.0     0.817    -0.577   \n",
       "196614             -1.0              1.0              0.0    -0.817    -0.577   \n",
       "88560               1.0              1.0              0.0     0.817    -0.577   \n",
       "22469               1.0              1.0              0.0    -0.888     0.460   \n",
       "65266               1.0              1.0              0.0     0.979     0.203   \n",
       "\n",
       "        min_sin  min_cos  \n",
       "86742    -0.000    1.000  \n",
       "196614   -0.991   -0.133  \n",
       "88560    -0.818    0.575  \n",
       "22469    -1.000   -0.027  \n",
       "65266    -0.921    0.389  "
      ]
     },
     "execution_count": 88,
     "metadata": {},
     "output_type": "execute_result"
    }
   ],
   "source": [
    "df.head()"
   ]
  },
  {
   "cell_type": "code",
   "execution_count": 34,
   "metadata": {},
   "outputs": [
    {
     "name": "stdout",
     "output_type": "stream",
     "text": [
      "[11.  7.  5.  3.  2.  0. nan  1.  6.  8. 12.  4.  9. 10.]\n"
     ]
    }
   ],
   "source": [
    "distinct_values = df.loc[df['is_purchase'] == 1, 'category_code_lvl_1'].unique()\n",
    "print(distinct_values)\n",
    "\n"
   ]
  },
  {
   "cell_type": "code",
   "execution_count": 7,
   "metadata": {},
   "outputs": [
    {
     "name": "stdout",
     "output_type": "stream",
     "text": [
      "category_code_lvl_1\n",
      "0.0      702\n",
      "1.0      192\n",
      "2.0     1482\n",
      "3.0      356\n",
      "4.0       37\n",
      "5.0      633\n",
      "6.0      160\n",
      "7.0      389\n",
      "8.0       40\n",
      "9.0        2\n",
      "10.0       2\n",
      "11.0    3202\n",
      "12.0      59\n",
      "dtype: int64\n"
     ]
    }
   ],
   "source": [
    "num_records_per_category = df.loc[df['is_purchase'] == 1].groupby('category_code_lvl_1').size()\n",
    "print(num_records_per_category)"
   ]
  },
  {
   "cell_type": "code",
   "execution_count": 8,
   "metadata": {},
   "outputs": [
    {
     "name": "stdout",
     "output_type": "stream",
     "text": [
      "[16. 57.  0. 42. 20. 50. 15. 41. 17. 58. 24. 59. 38. 52.  9. 46. nan 36.\n",
      " 18. 19.  6.  2. 55. 27.  1. 48. 45. 21. 32.  4. 54. 10. 14. 11. 53. 39.\n",
      " 22.  7. 34. 40.  8.  5. 13. 37. 60. 44. 35. 49. 33. 26. 61. 43. 25. 23.\n",
      " 47. 56.]\n"
     ]
    }
   ],
   "source": [
    "distinct_values = df.loc[df['is_purchase'] == 1, 'category_code_lvl_2'].unique()\n",
    "print(distinct_values)"
   ]
  },
  {
   "cell_type": "code",
   "execution_count": 12,
   "metadata": {},
   "outputs": [
    {
     "name": "stdout",
     "output_type": "stream",
     "text": [
      "[ 54. 125.   2. 102.  61. 104.  53. 128.  87.   3.  55.  34.  47. 121.\n",
      "  70. 132.  90. 106.  52.  20. 100.  nan  15.  85.  68.  30.  51.  63.\n",
      "  10.   6. 119.  96.  37.  76.  93.   7.  95.   8. 109.  99.  58.  82.\n",
      "  44.  41.  12.   9. 112.  39.  38.  28.   0. 116. 124.  64.  48.  57.\n",
      "  24. 126. 107.  80.   5. 131.  69.  60.  22.  91.  19.   4.  94.  45.\n",
      "  65.  92.  43.  83.  79.  31. 110. 123.  27.  23.  42.  13.  67.  36.\n",
      "  97.  86. 133.  98.  46.  89. 105.  81.  75.  40. 134. 127.  32.  66.\n",
      " 101.  74.  56.  71.  62. 111. 129.  59.  29. 103. 120.]\n"
     ]
    }
   ],
   "source": [
    "distinct_values = df.loc[df['is_purchase'] == 1, 'category_code_lvl_3'].unique()\n",
    "print(distinct_values)"
   ]
  },
  {
   "cell_type": "code",
   "execution_count": 13,
   "metadata": {},
   "outputs": [
    {
     "name": "stdout",
     "output_type": "stream",
     "text": [
      "[0.866 0.    1.    0.5  ]\n"
     ]
    }
   ],
   "source": [
    "distinct_values = df.loc[df['is_purchase'] == 1, 'day_of_week_sin'].unique()\n",
    "print(distinct_values)"
   ]
  },
  {
   "cell_type": "markdown",
   "metadata": {},
   "source": [
    "# Missing Values Analysis"
   ]
  },
  {
   "cell_type": "code",
   "execution_count": 89,
   "metadata": {},
   "outputs": [
    {
     "data": {
      "image/png": "[encoded data removed]",
      "text/plain": [
       "<Figure size 2500x1000 with 1 Axes>"
      ]
     },
     "metadata": {},
     "output_type": "display_data"
    }
   ],
   "source": [
    "from matplotlib.pyplot import figure, savefig, show\n",
    "from dslabs_functions import plot_bar_chart\n",
    "\n",
    "mv: dict[str, int] = {}\n",
    "total_rows = len(df)\n",
    "\n",
    "for var in df.columns:\n",
    "    nr: int = df[var].isna().sum()\n",
    "    if nr > 0:\n",
    "        percentage = (nr / total_rows) * 100\n",
    "        mv[var] = (nr, percentage)\n",
    "\n",
    "sorted_mv = dict(sorted(mv.items(), key=lambda item: item[1][0], reverse=True))\n",
    "\n",
    "variables = list(sorted_mv.keys())\n",
    "missing_values = [val[0] for val in sorted_mv.values()]\n",
    "percentages = [val[1] for val in sorted_mv.values()]\n",
    "\n",
    "figure(figsize=(25, 10)) #(largura,altura) \n",
    "\n",
    "plot_bar_chart(\n",
    "    variables,\n",
    "    missing_values,\n",
    "    title=f\"{file_tag} : Nr of missing values per variable\",\n",
    "    xlabel=\"variables\",\n",
    "    ylabel=\"nr missing values\",\n",
    ")\n",
    "for i, (var, perc) in enumerate(zip(variables, percentages)):\n",
    "    text(i, missing_values[i] + max(missing_values) * 0.08, f\"{perc:.1f}%\", ha=\"center\", va=\"center_baseline\")\n",
    "\n",
    "#savefig(f\"./{file_tag}_mv.png\")\n",
    "show()"
   ]
  },
  {
   "cell_type": "markdown",
   "metadata": {},
   "source": [
    "# MV 1 - Most Frequent Srategy"
   ]
  },
  {
   "cell_type": "markdown",
   "metadata": {},
   "source": [
    "## MV1 strategy aplication"
   ]
  },
  {
   "cell_type": "code",
   "execution_count": 90,
   "metadata": {},
   "outputs": [
    {
     "data": {
      "text/html": [
       "<div>\n",
       "<style scoped>\n",
       "    .dataframe tbody tr th:only-of-type {\n",
       "        vertical-align: middle;\n",
       "    }\n",
       "\n",
       "    .dataframe tbody tr th {\n",
       "        vertical-align: top;\n",
       "    }\n",
       "\n",
       "    .dataframe thead th {\n",
       "        text-align: right;\n",
       "    }\n",
       "</style>\n",
       "<table border=\"1\" class=\"dataframe\">\n",
       "  <thead>\n",
       "    <tr style=\"text-align: right;\">\n",
       "      <th></th>\n",
       "      <th>category_code_lvl_1</th>\n",
       "      <th>category_code_lvl_2</th>\n",
       "      <th>category_code_lvl_3</th>\n",
       "      <th>price</th>\n",
       "      <th>week_of_month</th>\n",
       "      <th>day</th>\n",
       "      <th>time_of_day_sin</th>\n",
       "      <th>day_of_week_sin</th>\n",
       "      <th>day_of_week_cos</th>\n",
       "      <th>hour_sin</th>\n",
       "      <th>hour_cos</th>\n",
       "      <th>min_sin</th>\n",
       "      <th>min_cos</th>\n",
       "      <th>conversion</th>\n",
       "      <th>is_weekend</th>\n",
       "      <th>time_of_day_cos</th>\n",
       "    </tr>\n",
       "  </thead>\n",
       "  <tbody>\n",
       "    <tr>\n",
       "      <th>count</th>\n",
       "      <td>197632.000000</td>\n",
       "      <td>197632.000000</td>\n",
       "      <td>197632.000000</td>\n",
       "      <td>197632.000000</td>\n",
       "      <td>197632.000000</td>\n",
       "      <td>197632.000000</td>\n",
       "      <td>197632.0</td>\n",
       "      <td>197632.000000</td>\n",
       "      <td>197632.000000</td>\n",
       "      <td>197632.000000</td>\n",
       "      <td>197632.000000</td>\n",
       "      <td>197632.000000</td>\n",
       "      <td>197632.000000</td>\n",
       "      <td>197632.000000</td>\n",
       "      <td>197632.000000</td>\n",
       "      <td>197632.000000</td>\n",
       "    </tr>\n",
       "    <tr>\n",
       "      <th>mean</th>\n",
       "      <td>5.686283</td>\n",
       "      <td>33.334244</td>\n",
       "      <td>77.585911</td>\n",
       "      <td>271.550282</td>\n",
       "      <td>1.900639</td>\n",
       "      <td>16.103612</td>\n",
       "      <td>0.0</td>\n",
       "      <td>0.561417</td>\n",
       "      <td>0.242129</td>\n",
       "      <td>0.003430</td>\n",
       "      <td>-0.262836</td>\n",
       "      <td>-0.003557</td>\n",
       "      <td>0.016947</td>\n",
       "      <td>0.039685</td>\n",
       "      <td>0.266389</td>\n",
       "      <td>0.198166</td>\n",
       "    </tr>\n",
       "    <tr>\n",
       "      <th>std</th>\n",
       "      <td>4.298049</td>\n",
       "      <td>20.745075</td>\n",
       "      <td>40.964041</td>\n",
       "      <td>353.770417</td>\n",
       "      <td>1.213250</td>\n",
       "      <td>8.359449</td>\n",
       "      <td>0.0</td>\n",
       "      <td>0.381172</td>\n",
       "      <td>0.693449</td>\n",
       "      <td>0.750548</td>\n",
       "      <td>0.606384</td>\n",
       "      <td>0.701852</td>\n",
       "      <td>0.712112</td>\n",
       "      <td>0.195218</td>\n",
       "      <td>0.442071</td>\n",
       "      <td>0.980171</td>\n",
       "    </tr>\n",
       "    <tr>\n",
       "      <th>min</th>\n",
       "      <td>0.000000</td>\n",
       "      <td>0.000000</td>\n",
       "      <td>0.000000</td>\n",
       "      <td>0.000000</td>\n",
       "      <td>0.000000</td>\n",
       "      <td>0.000000</td>\n",
       "      <td>0.0</td>\n",
       "      <td>0.000000</td>\n",
       "      <td>-0.866000</td>\n",
       "      <td>-0.998000</td>\n",
       "      <td>-0.991000</td>\n",
       "      <td>-1.000000</td>\n",
       "      <td>-0.999000</td>\n",
       "      <td>0.000000</td>\n",
       "      <td>0.000000</td>\n",
       "      <td>-1.000000</td>\n",
       "    </tr>\n",
       "    <tr>\n",
       "      <th>25%</th>\n",
       "      <td>2.000000</td>\n",
       "      <td>15.000000</td>\n",
       "      <td>51.000000</td>\n",
       "      <td>51.460000</td>\n",
       "      <td>1.000000</td>\n",
       "      <td>10.000000</td>\n",
       "      <td>0.0</td>\n",
       "      <td>-0.000000</td>\n",
       "      <td>-0.500000</td>\n",
       "      <td>-0.817000</td>\n",
       "      <td>-0.776000</td>\n",
       "      <td>-0.716000</td>\n",
       "      <td>-0.698000</td>\n",
       "      <td>0.000000</td>\n",
       "      <td>0.000000</td>\n",
       "      <td>-1.000000</td>\n",
       "    </tr>\n",
       "    <tr>\n",
       "      <th>50%</th>\n",
       "      <td>5.000000</td>\n",
       "      <td>33.334244</td>\n",
       "      <td>77.585911</td>\n",
       "      <td>148.780000</td>\n",
       "      <td>2.000000</td>\n",
       "      <td>17.000000</td>\n",
       "      <td>0.0</td>\n",
       "      <td>0.500000</td>\n",
       "      <td>0.500000</td>\n",
       "      <td>0.000000</td>\n",
       "      <td>-0.335000</td>\n",
       "      <td>0.000000</td>\n",
       "      <td>0.080000</td>\n",
       "      <td>0.000000</td>\n",
       "      <td>0.000000</td>\n",
       "      <td>1.000000</td>\n",
       "    </tr>\n",
       "    <tr>\n",
       "      <th>75%</th>\n",
       "      <td>12.000000</td>\n",
       "      <td>60.000000</td>\n",
       "      <td>126.000000</td>\n",
       "      <td>339.520000</td>\n",
       "      <td>3.000000</td>\n",
       "      <td>23.000000</td>\n",
       "      <td>0.0</td>\n",
       "      <td>0.866000</td>\n",
       "      <td>1.000000</td>\n",
       "      <td>0.817000</td>\n",
       "      <td>0.203000</td>\n",
       "      <td>0.678000</td>\n",
       "      <td>0.735000</td>\n",
       "      <td>0.000000</td>\n",
       "      <td>1.000000</td>\n",
       "      <td>1.000000</td>\n",
       "    </tr>\n",
       "    <tr>\n",
       "      <th>max</th>\n",
       "      <td>12.000000</td>\n",
       "      <td>61.000000</td>\n",
       "      <td>134.000000</td>\n",
       "      <td>2574.070000</td>\n",
       "      <td>4.000000</td>\n",
       "      <td>29.000000</td>\n",
       "      <td>0.0</td>\n",
       "      <td>1.000000</td>\n",
       "      <td>1.000000</td>\n",
       "      <td>0.998000</td>\n",
       "      <td>1.000000</td>\n",
       "      <td>1.000000</td>\n",
       "      <td>1.000000</td>\n",
       "      <td>1.000000</td>\n",
       "      <td>1.000000</td>\n",
       "      <td>1.000000</td>\n",
       "    </tr>\n",
       "  </tbody>\n",
       "</table>\n",
       "</div>"
      ],
      "text/plain": [
       "       category_code_lvl_1  category_code_lvl_2  category_code_lvl_3  \\\n",
       "count        197632.000000        197632.000000        197632.000000   \n",
       "mean              5.686283            33.334244            77.585911   \n",
       "std               4.298049            20.745075            40.964041   \n",
       "min               0.000000             0.000000             0.000000   \n",
       "25%               2.000000            15.000000            51.000000   \n",
       "50%               5.000000            33.334244            77.585911   \n",
       "75%              12.000000            60.000000           126.000000   \n",
       "max              12.000000            61.000000           134.000000   \n",
       "\n",
       "               price  week_of_month            day  time_of_day_sin  \\\n",
       "count  197632.000000  197632.000000  197632.000000         197632.0   \n",
       "mean      271.550282       1.900639      16.103612              0.0   \n",
       "std       353.770417       1.213250       8.359449              0.0   \n",
       "min         0.000000       0.000000       0.000000              0.0   \n",
       "25%        51.460000       1.000000      10.000000              0.0   \n",
       "50%       148.780000       2.000000      17.000000              0.0   \n",
       "75%       339.520000       3.000000      23.000000              0.0   \n",
       "max      2574.070000       4.000000      29.000000              0.0   \n",
       "\n",
       "       day_of_week_sin  day_of_week_cos       hour_sin       hour_cos  \\\n",
       "count    197632.000000    197632.000000  197632.000000  197632.000000   \n",
       "mean          0.561417         0.242129       0.003430      -0.262836   \n",
       "std           0.381172         0.693449       0.750548       0.606384   \n",
       "min           0.000000        -0.866000      -0.998000      -0.991000   \n",
       "25%          -0.000000        -0.500000      -0.817000      -0.776000   \n",
       "50%           0.500000         0.500000       0.000000      -0.335000   \n",
       "75%           0.866000         1.000000       0.817000       0.203000   \n",
       "max           1.000000         1.000000       0.998000       1.000000   \n",
       "\n",
       "             min_sin        min_cos     conversion     is_weekend  \\\n",
       "count  197632.000000  197632.000000  197632.000000  197632.000000   \n",
       "mean       -0.003557       0.016947       0.039685       0.266389   \n",
       "std         0.701852       0.712112       0.195218       0.442071   \n",
       "min        -1.000000      -0.999000       0.000000       0.000000   \n",
       "25%        -0.716000      -0.698000       0.000000       0.000000   \n",
       "50%         0.000000       0.080000       0.000000       0.000000   \n",
       "75%         0.678000       0.735000       0.000000       1.000000   \n",
       "max         1.000000       1.000000       1.000000       1.000000   \n",
       "\n",
       "       time_of_day_cos  \n",
       "count    197632.000000  \n",
       "mean          0.198166  \n",
       "std           0.980171  \n",
       "min          -1.000000  \n",
       "25%          -1.000000  \n",
       "50%           1.000000  \n",
       "75%           1.000000  \n",
       "max           1.000000  "
      ]
     },
     "execution_count": 90,
     "metadata": {},
     "output_type": "execute_result"
    }
   ],
   "source": [
    "from numpy import ndarray\n",
    "from pandas import concat\n",
    "from sklearn.impute import SimpleImputer, KNNImputer\n",
    "from dslabs_functions import get_variable_types, mvi_by_filling\n",
    "\n",
    "# this script is available in data_functions originally from DSLabs site in Missing Values chapter\n",
    "\n",
    "def apply_strategy_1(df):\n",
    "\n",
    "    df_copy=df.copy()\n",
    "    df_copy = mvi_by_filling(df_copy, strategy=\"frequent\")\n",
    "\n",
    "    return df_copy\n",
    "\n",
    "df_1=apply_strategy_1(df)\n",
    "df_1.describe()"
   ]
  },
  {
   "cell_type": "code",
   "execution_count": 91,
   "metadata": {},
   "outputs": [
    {
     "name": "stdout",
     "output_type": "stream",
     "text": [
      "Colunas do DataFrame de df_1: Index(['category_code_lvl_1', 'category_code_lvl_2', 'category_code_lvl_3',\n",
      "       'price', 'week_of_month', 'day', 'time_of_day_sin', 'day_of_week_sin',\n",
      "       'day_of_week_cos', 'hour_sin', 'hour_cos', 'min_sin', 'min_cos',\n",
      "       'conversion', 'is_weekend', 'time_of_day_cos'],\n",
      "      dtype='object')\n"
     ]
    }
   ],
   "source": [
    "print(\"Colunas do DataFrame de df_1:\", df_1.columns)"
   ]
  },
  {
   "cell_type": "markdown",
   "metadata": {},
   "source": [
    "## MV1 target class"
   ]
  },
  {
   "cell_type": "code",
   "execution_count": 38,
   "metadata": {},
   "outputs": [
    {
     "name": "stdout",
     "output_type": "stream",
     "text": [
      "Colunas do DataFrame de df_1: Index(['category_code_lvl_1', 'category_code_lvl_2', 'category_code_lvl_3',\n",
      "       'price', 'week_of_month', 'day', 'time_of_day_sin', 'day_of_week_sin',\n",
      "       'day_of_week_cos', 'hour_sin', 'hour_cos', 'min_sin', 'min_cos',\n",
      "       'is_weekend', 'is_view', 'is_cart', 'time_of_day_cos'],\n",
      "      dtype='object')\n"
     ]
    }
   ],
   "source": [
    "\n",
    "print(\"Colunas do DataFrame de df_1:\", df_1.columns)"
   ]
  },
  {
   "cell_type": "code",
   "execution_count": 93,
   "metadata": {},
   "outputs": [],
   "source": [
    "\n",
    "def define_target_and_prepare_data(df: pd.DataFrame, target: str) -> Tuple[np.ndarray, pd.Series, List[int], Dict[str, List[int]]]:\n",
    "    \"\"\"\n",
    "    Defines the target variable and prepares the feature set and target labels.\n",
    "\n",
    "    Parameters:\n",
    "    df (pd.DataFrame): The DataFrame containing the data.\n",
    "    target (str): The name of the target variable.\n",
    "\n",
    "    Returns:\n",
    "    Tuple[np.ndarray, pd.Series, List[int], Dict[str, List[int]]]: A tuple containing:\n",
    "        - y (pd.Series): The target variable.\n",
    "        - X (np.ndarray): The feature set.\n",
    "        - labels (List[int]): Sorted list of unique labels.\n",
    "        - values (Dict[str, List[int]]): Counts of original classes.\n",
    "    \n",
    "    Raises:\n",
    "    KeyError: If the target variable is not found in the DataFrame.\n",
    "    \"\"\"\n",
    "    \n",
    "    # Check if the target exists in the DataFrame\n",
    "    if target not in df.columns:\n",
    "        raise KeyError(f\"The target column '{target}' does not exist in the DataFrame. Available columns are: {df.columns.tolist()}\")\n",
    "\n",
    "    # Extract labels and sort them\n",
    "    labels: list = list(df[target].unique())\n",
    "    labels.sort()\n",
    "    print(f\"Labels={labels}\")\n",
    "\n",
    "    # Create a dictionary to store original class counts\n",
    "    values: dict[str, list[int]] = {\n",
    "        \"Original\": [\n",
    "            len(df[df[target] == 0]),  # Assuming 0 is the negative class\n",
    "            len(df[df[target] == 1]),  # Assuming 1 is the positive class\n",
    "        ]\n",
    "    }\n",
    "\n",
    "    y: pd.Series = df.pop(target)  # Keep y as a Series\n",
    "    X: np.ndarray = df.values  # Extract the features as ndarray\n",
    "\n",
    "    return y, X, labels, values\n",
    "\n",
    "\n",
    "def split_data_save_csv(X: pd.DataFrame, y: pd.Series, data_columns: List[str], target_column: str, file_tag=None, train_size=0.7, save=False, save_path=\"data/\"):\n",
    "    \"\"\"\n",
    "    Splits data into training and test sets, then returns the corresponding DataFrames.\n",
    "    Optionally saves the DataFrames as CSV files.\n",
    "    \n",
    "    Parameters:\n",
    "    X (pd.DataFrame): The feature set.\n",
    "    y (pd.Series): The target labels.\n",
    "    data_columns (list): The column names of X.\n",
    "    target_column (str): The name of the target column.\n",
    "    file_tag (str, optional): Tag to use in the filename if saving CSVs.\n",
    "    train_size (float, optional): Proportion of data to use for training (default is 0.7).\n",
    "    save (bool, optional): Whether to save the train/test DataFrames as CSV files (default is False).\n",
    "    save_path (str, optional): Path to save the CSV files (default is \"data/\").    \n",
    "    Returns:\n",
    "    train (pd.DataFrame): The training DataFrame (features + target).\n",
    "    test (pd.DataFrame): The testing DataFrame (features + target).\n",
    "    \"\"\"\n",
    "    # Calculate the split index based on train_size\n",
    "    split_index = int(len(X) * train_size)\n",
    "\n",
    "    # Split the DataFrame into train and test sets\n",
    "    train_X = X.iloc[:split_index]\n",
    "    test_X = X.iloc[split_index:]\n",
    "\n",
    "    # Separate the target variable\n",
    "    train_y = y.iloc[:split_index]\n",
    "    test_y = y.iloc[split_index:]\n",
    "\n",
    "    # Create train and test DataFrames including the target\n",
    "    train = pd.concat([train_X.reset_index(drop=True), train_y.reset_index(drop=True)], axis=1)\n",
    "    test = pd.concat([test_X.reset_index(drop=True), test_y.reset_index(drop=True)], axis=1)\n",
    "\n",
    "    # Optionally save to CSV\n",
    "    if save and file_tag:\n",
    "        train.to_csv(f\"{save_path}{file_tag}_train.csv\", index=False)\n",
    "        test.to_csv(f\"{save_path}{file_tag}_test.csv\", index=False)\n",
    "\n",
    "    return train, test"
   ]
  },
  {
   "cell_type": "markdown",
   "metadata": {},
   "source": [
    "## MV1 train/test split "
   ]
  },
  {
   "cell_type": "code",
   "execution_count": 94,
   "metadata": {},
   "outputs": [
    {
     "name": "stdout",
     "output_type": "stream",
     "text": [
      "Labels=[0.0, 1.0]\n"
     ]
    },
    {
     "data": {
      "image/png": "[encoded data removed]",
      "text/plain": [
       "<Figure size 600x400 with 1 Axes>"
      ]
     },
     "metadata": {},
     "output_type": "display_data"
    }
   ],
   "source": [
    "from pandas import concat\n",
    "from matplotlib.pyplot import figure, show\n",
    "from sklearn.model_selection import train_test_split\n",
    "from dslabs_functions import plot_multibar_chart\n",
    "\n",
    "from numpy import array, ndarray\n",
    "\n",
    "y_1, X_1, labels, values = define_target_and_prepare_data(df_1, target)\n",
    "\n",
    "# Call the function to split the data\n",
    "train_1, test_1 = split_data_save_csv(pd.DataFrame(X_1, columns=df_1.columns), y_1, data_columns=df_1.columns, target_column=target)\n",
    "\n",
    "# Distribution check\n",
    "values[\"Train\"] = [\n",
    "    len(train_1[train_1[target] == 0]),\n",
    "    len(train_1[train_1[target] == 1]),\n",
    "]\n",
    "values[\"Test\"] = [\n",
    "    len(test_1[test_1[target] == 0]),\n",
    "    len(test_1[test_1[target] == 1]),\n",
    "]\n",
    "\n",
    "# Visualize the distribution\n",
    "figure(figsize=(6, 4))\n",
    "plot_multibar_chart(labels, values, title=\"Data distribution per dataset\")\n",
    "show()"
   ]
  },
  {
   "cell_type": "code",
   "execution_count": 59,
   "metadata": {},
   "outputs": [
    {
     "name": "stdout",
     "output_type": "stream",
     "text": [
      "Colunas do DataFrame de treino: Index(['category_code_lvl_1', 'category_code_lvl_2', 'category_code_lvl_3',\n",
      "       'price', 'week_of_month', 'day', 'time_of_day_sin', 'day_of_week_sin',\n",
      "       'day_of_week_cos', 'hour_sin', 'hour_cos', 'min_sin', 'min_cos',\n",
      "       'is_weekend', 'time_of_day_cos', 'conversion'],\n",
      "      dtype='object')\n",
      "Colunas do DataFrame de teste: Index(['category_code_lvl_1', 'category_code_lvl_2', 'category_code_lvl_3',\n",
      "       'price', 'week_of_month', 'day', 'time_of_day_sin', 'day_of_week_sin',\n",
      "       'day_of_week_cos', 'hour_sin', 'hour_cos', 'min_sin', 'min_cos',\n",
      "       'is_weekend', 'time_of_day_cos', 'conversion'],\n",
      "      dtype='object')\n"
     ]
    }
   ],
   "source": [
    "print(\"Colunas do DataFrame de treino:\", train_1.columns)\n",
    "print(\"Colunas do DataFrame de teste:\", test_1.columns)"
   ]
  },
  {
   "cell_type": "code",
   "execution_count": 14,
   "metadata": {},
   "outputs": [
    {
     "name": "stdout",
     "output_type": "stream",
     "text": [
      "Train set - Min day: 0.0, Max day: 22.0\n",
      "Test set - Min day: 22.0, Max day: 29.0\n"
     ]
    }
   ],
   "source": [
    "# Verificar o intervalo de dias no conjunto de treino\n",
    "min_day_train = train_1['day'].min()\n",
    "max_day_train = train_1['day'].max()\n",
    "\n",
    "# Verificar o intervalo de dias no conjunto de teste\n",
    "min_day_test = test_1['day'].min()\n",
    "max_day_test = test_1['day'].max()\n",
    "\n",
    "# Exibir os resultados\n",
    "print(f\"Train set - Min day: {min_day_train}, Max day: {max_day_train}\")\n",
    "print(f\"Test set - Min day: {min_day_test}, Max day: {max_day_test}\")\n"
   ]
  },
  {
   "cell_type": "code",
   "execution_count": 25,
   "metadata": {},
   "outputs": [
    {
     "name": "stdout",
     "output_type": "stream",
     "text": [
      "Colunas do DataFrame de treino: Index(['category_code_lvl_1', 'category_code_lvl_2', 'category_code_lvl_3',\n",
      "       'price', 'week_of_month', 'day', 'time_of_day_sin', 'day_of_week_sin',\n",
      "       'day_of_week_cos', 'hour_sin', 'hour_cos', 'min_sin', 'min_cos',\n",
      "       'is_weekend', 'is_view', 'is_cart', 'time_of_day_cos', 'is_purchase'],\n",
      "      dtype='object')\n",
      "Colunas do DataFrame de teste: Index(['category_code_lvl_1', 'category_code_lvl_2', 'category_code_lvl_3',\n",
      "       'price', 'week_of_month', 'day', 'time_of_day_sin', 'day_of_week_sin',\n",
      "       'day_of_week_cos', 'hour_sin', 'hour_cos', 'min_sin', 'min_cos',\n",
      "       'is_weekend', 'is_view', 'is_cart', 'time_of_day_cos', 'is_purchase'],\n",
      "      dtype='object')\n"
     ]
    }
   ],
   "source": [
    "print(\"Colunas do DataFrame de treino:\", train_1.columns)\n",
    "print(\"Colunas do DataFrame de teste:\", test_1.columns)"
   ]
  },
  {
   "cell_type": "markdown",
   "metadata": {},
   "source": [
    "## MV1 evaluate"
   ]
  },
  {
   "cell_type": "code",
   "execution_count": 14,
   "metadata": {},
   "outputs": [
    {
     "name": "stdout",
     "output_type": "stream",
     "text": [
      "Colunas do DataFrame de treino: Index(['category_code_lvl_1', 'category_code_lvl_2', 'category_code_lvl_3',\n",
      "       'price', 'week_of_month', 'day', 'time_of_day_sin', 'day_of_week_sin',\n",
      "       'day_of_week_cos', 'hour_sin', 'hour_cos', 'min_sin', 'min_cos',\n",
      "       'is_weekend', 'is_view', 'is_cart', 'time_of_day_cos', 'is_purchase'],\n",
      "      dtype='object')\n",
      "Colunas do DataFrame de teste: Index(['category_code_lvl_1', 'category_code_lvl_2', 'category_code_lvl_3',\n",
      "       'price', 'week_of_month', 'day', 'time_of_day_sin', 'day_of_week_sin',\n",
      "       'day_of_week_cos', 'hour_sin', 'hour_cos', 'min_sin', 'min_cos',\n",
      "       'is_weekend', 'is_view', 'is_cart', 'time_of_day_cos', 'is_purchase'],\n",
      "      dtype='object')\n"
     ]
    }
   ],
   "source": [
    "print(\"Colunas do DataFrame de treino:\", train.columns)\n",
    "print(\"Colunas do DataFrame de teste:\", test.columns)"
   ]
  },
  {
   "cell_type": "code",
   "execution_count": null,
   "metadata": {},
   "outputs": [],
   "source": [
    "def run_NB(trnX, trnY, tstX, tstY, metric: str = \"accuracy\") -> dict[str, float]:\n",
    "    estimators: dict[str, GaussianNB | BernoulliNB] = {\n",
    "        \"GaussianNB\": GaussianNB(),\n",
    "        #we are not goin to use this one, because we have negative values in cyclical variables. And this method can't work with negative values\n",
    "        \n",
    "        #\"MultinomialNB\": MultinomialNB(),\n",
    "        \"BernoulliNB\": BernoulliNB(),\n",
    "    }\n",
    "    best_model: GaussianNB | BernoulliNB = None  # type: ignore\n",
    "    best_performance: float = 0.0\n",
    "    eval: dict[str, float] = {}\n",
    "\n",
    "    for clf in estimators:\n",
    "        estimators[clf].fit(trnX, trnY)\n",
    "        prdY: ndarray = estimators[clf].predict(tstX)\n",
    "        performance: float = CLASS_EVAL_METRICS[metric](tstY, prdY)\n",
    "        if performance - best_performance > DELTA_IMPROVE:\n",
    "            best_performance = performance\n",
    "            best_model = estimators[clf]\n",
    "    if best_model is not None:\n",
    "        prd: ndarray = best_model.predict(tstX)\n",
    "        for key in CLASS_EVAL_METRICS:\n",
    "            eval[key] = CLASS_EVAL_METRICS[key](tstY, prd)\n",
    "    return eval"
   ]
  },
  {
   "cell_type": "code",
   "execution_count": 95,
   "metadata": {},
   "outputs": [],
   "source": [
    "def run_NB(trnX, trnY, tstX, tstY, metric: str = \"accuracy\") -> dict[str, float]:\n",
    "    estimators: dict[str, GaussianNB | BernoulliNB] = {\n",
    "        \"GaussianNB\": GaussianNB(),\n",
    "        \"BernoulliNB\": BernoulliNB(),\n",
    "    }\n",
    "    best_model: GaussianNB | BernoulliNB = None  # type: ignore\n",
    "    best_performance: float = 0.0\n",
    "    eval: dict[str, float] = {}\n",
    "\n",
    "    # Treinar e avaliar cada modelo\n",
    "    for clf in estimators:\n",
    "        estimators[clf].fit(trnX, trnY)\n",
    "        prdY: ndarray = estimators[clf].predict(tstX)\n",
    "        performance: float = CLASS_EVAL_METRICS[metric](tstY, prdY)\n",
    "\n",
    "        # Verificar se o modelo atual tem a melhor performance\n",
    "        if performance - best_performance > DELTA_IMPROVE or best_model is None:\n",
    "            best_performance = performance\n",
    "            best_model = estimators[clf]\n",
    "\n",
    "    # Verificar se há um best_model válido\n",
    "    if best_model is not None:\n",
    "        prd: ndarray = best_model.predict(tstX)\n",
    "        for key in CLASS_EVAL_METRICS:\n",
    "            eval[key] = CLASS_EVAL_METRICS[key](tstY, prd)\n",
    "    else:\n",
    "        print(\"Nenhum modelo Naive Bayes adequado foi encontrado.\")\n",
    "\n",
    "    return eval"
   ]
  },
  {
   "cell_type": "code",
   "execution_count": 96,
   "metadata": {},
   "outputs": [],
   "source": [
    "\n",
    "\n",
    "from numpy import ndarray\n",
    "from pandas import DataFrame, read_csv\n",
    "from matplotlib.pyplot import savefig, show, figure\n",
    "from dslabs_functions import plot_multibar_chart, CLASS_EVAL_METRICS, run_NB, run_KNN\n",
    "\n",
    "\n",
    "def evaluate_approach(\n",
    "    train: DataFrame, test: DataFrame, target: str = \"conversion\", metric: str = \"accuracy\"\n",
    ") -> dict[str, list]:\n",
    "    trnY = train.pop(target).values\n",
    "    trnX: ndarray = train.values\n",
    "    tstY = test.pop(target).values\n",
    "    tstX: ndarray = test.values\n",
    "    eval: dict[str, list] = {}\n",
    "\n",
    "    eval_NB: dict[str, float] = run_NB(trnX, trnY, tstX, tstY, metric=metric)\n",
    "    eval_KNN: dict[str, float] = run_KNN(trnX, trnY, tstX, tstY, metric=metric)\n",
    "    if eval_NB != {} and eval_KNN != {}:\n",
    "        for met in CLASS_EVAL_METRICS:\n",
    "            eval[met] = [eval_NB[met], eval_KNN[met]]\n",
    "    return eval"
   ]
  },
  {
   "cell_type": "code",
   "execution_count": 97,
   "metadata": {},
   "outputs": [],
   "source": [
    "def evaluate_approach(\n",
    "    train: DataFrame, test: DataFrame, target: str = \"conversion\", metric: str = \"accuracy\"\n",
    ") -> dict[str, list]:\n",
    "    trnY = train.pop(target).values\n",
    "    trnX: ndarray = train.values\n",
    "    tstY = test.pop(target).values\n",
    "    tstX: ndarray = test.values\n",
    "    eval: dict[str, list] = {}\n",
    "\n",
    "    eval_NB: dict[str, float] = run_NB(trnX, trnY, tstX, tstY, metric=metric)\n",
    "    print(\"Naive Bayes Evaluation Results:\", eval_NB)\n",
    "    \n",
    "    eval_KNN: dict[str, float] = run_KNN(trnX, trnY, tstX, tstY, metric=metric)\n",
    "    print(\"KNN Evaluation Results:\", eval_KNN)\n",
    "    \n",
    "    # Check if both evaluations returned results\n",
    "    if not eval_NB or not eval_KNN:\n",
    "        print(\"One of the evaluation methods returned empty results.\")\n",
    "        return {}\n",
    "\n",
    "    for met in CLASS_EVAL_METRICS:\n",
    "        eval[met] = [eval_NB[met], eval_KNN[met]]\n",
    "\n",
    "    return eval"
   ]
  },
  {
   "cell_type": "code",
   "execution_count": 68,
   "metadata": {},
   "outputs": [
    {
     "ename": "KeyError",
     "evalue": "'conversion'",
     "output_type": "error",
     "traceback": [
      "\u001b[0;31m---------------------------------------------------------------------------\u001b[0m",
      "\u001b[0;31mKeyError\u001b[0m                                  Traceback (most recent call last)",
      "File \u001b[0;32m/opt/anaconda3/lib/python3.12/site-packages/pandas/core/indexes/base.py:3805\u001b[0m, in \u001b[0;36mIndex.get_loc\u001b[0;34m(self, key)\u001b[0m\n\u001b[1;32m   3804\u001b[0m \u001b[38;5;28;01mtry\u001b[39;00m:\n\u001b[0;32m-> 3805\u001b[0m     \u001b[38;5;28;01mreturn\u001b[39;00m \u001b[38;5;28mself\u001b[39m\u001b[38;5;241m.\u001b[39m_engine\u001b[38;5;241m.\u001b[39mget_loc(casted_key)\n\u001b[1;32m   3806\u001b[0m \u001b[38;5;28;01mexcept\u001b[39;00m \u001b[38;5;167;01mKeyError\u001b[39;00m \u001b[38;5;28;01mas\u001b[39;00m err:\n",
      "File \u001b[0;32mindex.pyx:167\u001b[0m, in \u001b[0;36mpandas._libs.index.IndexEngine.get_loc\u001b[0;34m()\u001b[0m\n",
      "File \u001b[0;32mindex.pyx:196\u001b[0m, in \u001b[0;36mpandas._libs.index.IndexEngine.get_loc\u001b[0;34m()\u001b[0m\n",
      "File \u001b[0;32mpandas/_libs/hashtable_class_helper.pxi:7081\u001b[0m, in \u001b[0;36mpandas._libs.hashtable.PyObjectHashTable.get_item\u001b[0;34m()\u001b[0m\n",
      "File \u001b[0;32mpandas/_libs/hashtable_class_helper.pxi:7089\u001b[0m, in \u001b[0;36mpandas._libs.hashtable.PyObjectHashTable.get_item\u001b[0;34m()\u001b[0m\n",
      "\u001b[0;31mKeyError\u001b[0m: 'conversion'",
      "\nThe above exception was the direct cause of the following exception:\n",
      "\u001b[0;31mKeyError\u001b[0m                                  Traceback (most recent call last)",
      "Cell \u001b[0;32mIn[68], line 1\u001b[0m\n\u001b[0;32m----> 1\u001b[0m \u001b[38;5;28mprint\u001b[39m(train_1[\u001b[38;5;124m'\u001b[39m\u001b[38;5;124mconversion\u001b[39m\u001b[38;5;124m'\u001b[39m]\u001b[38;5;241m.\u001b[39mvalue_counts())\n\u001b[1;32m      2\u001b[0m \u001b[38;5;28mprint\u001b[39m(test_1[\u001b[38;5;124m'\u001b[39m\u001b[38;5;124mconversion\u001b[39m\u001b[38;5;124m'\u001b[39m]\u001b[38;5;241m.\u001b[39mvalue_counts())\n",
      "File \u001b[0;32m/opt/anaconda3/lib/python3.12/site-packages/pandas/core/frame.py:4102\u001b[0m, in \u001b[0;36mDataFrame.__getitem__\u001b[0;34m(self, key)\u001b[0m\n\u001b[1;32m   4100\u001b[0m \u001b[38;5;28;01mif\u001b[39;00m \u001b[38;5;28mself\u001b[39m\u001b[38;5;241m.\u001b[39mcolumns\u001b[38;5;241m.\u001b[39mnlevels \u001b[38;5;241m>\u001b[39m \u001b[38;5;241m1\u001b[39m:\n\u001b[1;32m   4101\u001b[0m     \u001b[38;5;28;01mreturn\u001b[39;00m \u001b[38;5;28mself\u001b[39m\u001b[38;5;241m.\u001b[39m_getitem_multilevel(key)\n\u001b[0;32m-> 4102\u001b[0m indexer \u001b[38;5;241m=\u001b[39m \u001b[38;5;28mself\u001b[39m\u001b[38;5;241m.\u001b[39mcolumns\u001b[38;5;241m.\u001b[39mget_loc(key)\n\u001b[1;32m   4103\u001b[0m \u001b[38;5;28;01mif\u001b[39;00m is_integer(indexer):\n\u001b[1;32m   4104\u001b[0m     indexer \u001b[38;5;241m=\u001b[39m [indexer]\n",
      "File \u001b[0;32m/opt/anaconda3/lib/python3.12/site-packages/pandas/core/indexes/base.py:3812\u001b[0m, in \u001b[0;36mIndex.get_loc\u001b[0;34m(self, key)\u001b[0m\n\u001b[1;32m   3807\u001b[0m     \u001b[38;5;28;01mif\u001b[39;00m \u001b[38;5;28misinstance\u001b[39m(casted_key, \u001b[38;5;28mslice\u001b[39m) \u001b[38;5;129;01mor\u001b[39;00m (\n\u001b[1;32m   3808\u001b[0m         \u001b[38;5;28misinstance\u001b[39m(casted_key, abc\u001b[38;5;241m.\u001b[39mIterable)\n\u001b[1;32m   3809\u001b[0m         \u001b[38;5;129;01mand\u001b[39;00m \u001b[38;5;28many\u001b[39m(\u001b[38;5;28misinstance\u001b[39m(x, \u001b[38;5;28mslice\u001b[39m) \u001b[38;5;28;01mfor\u001b[39;00m x \u001b[38;5;129;01min\u001b[39;00m casted_key)\n\u001b[1;32m   3810\u001b[0m     ):\n\u001b[1;32m   3811\u001b[0m         \u001b[38;5;28;01mraise\u001b[39;00m InvalidIndexError(key)\n\u001b[0;32m-> 3812\u001b[0m     \u001b[38;5;28;01mraise\u001b[39;00m \u001b[38;5;167;01mKeyError\u001b[39;00m(key) \u001b[38;5;28;01mfrom\u001b[39;00m \u001b[38;5;21;01merr\u001b[39;00m\n\u001b[1;32m   3813\u001b[0m \u001b[38;5;28;01mexcept\u001b[39;00m \u001b[38;5;167;01mTypeError\u001b[39;00m:\n\u001b[1;32m   3814\u001b[0m     \u001b[38;5;66;03m# If we have a listlike key, _check_indexing_error will raise\u001b[39;00m\n\u001b[1;32m   3815\u001b[0m     \u001b[38;5;66;03m#  InvalidIndexError. Otherwise we fall through and re-raise\u001b[39;00m\n\u001b[1;32m   3816\u001b[0m     \u001b[38;5;66;03m#  the TypeError.\u001b[39;00m\n\u001b[1;32m   3817\u001b[0m     \u001b[38;5;28mself\u001b[39m\u001b[38;5;241m.\u001b[39m_check_indexing_error(key)\n",
      "\u001b[0;31mKeyError\u001b[0m: 'conversion'"
     ]
    }
   ],
   "source": [
    "print(train_1['conversion'].value_counts())\n",
    "print(test_1['conversion'].value_counts())"
   ]
  },
  {
   "cell_type": "code",
   "execution_count": 48,
   "metadata": {},
   "outputs": [
    {
     "data": {
      "text/plain": [
       "Index(['category_code_lvl_1', 'category_code_lvl_2', 'category_code_lvl_3',\n",
       "       'price', 'week_of_month', 'day', 'time_of_day_sin', 'day_of_week_sin',\n",
       "       'day_of_week_cos', 'hour_sin', 'hour_cos', 'min_sin', 'min_cos',\n",
       "       'is_weekend', 'time_of_day_cos', 'conversion'],\n",
       "      dtype='object')"
      ]
     },
     "execution_count": 48,
     "metadata": {},
     "output_type": "execute_result"
    }
   ],
   "source": [
    "train_1.columns"
   ]
  },
  {
   "cell_type": "code",
   "execution_count": 49,
   "metadata": {},
   "outputs": [
    {
     "data": {
      "text/plain": [
       "Index(['category_code_lvl_1', 'category_code_lvl_2', 'category_code_lvl_3',\n",
       "       'price', 'week_of_month', 'day', 'time_of_day_sin', 'day_of_week_sin',\n",
       "       'day_of_week_cos', 'hour_sin', 'hour_cos', 'min_sin', 'min_cos',\n",
       "       'is_weekend', 'time_of_day_cos', 'conversion'],\n",
       "      dtype='object')"
      ]
     },
     "execution_count": 49,
     "metadata": {},
     "output_type": "execute_result"
    }
   ],
   "source": [
    "test_1.columns"
   ]
  },
  {
   "cell_type": "code",
   "execution_count": 98,
   "metadata": {},
   "outputs": [
    {
     "name": "stdout",
     "output_type": "stream",
     "text": [
      "Naive Bayes Evaluation Results: {'accuracy': 0.9580873671782763, 'recall': 0.0, 'precision': 0.0, 'auc': 0.5, 'f1': 0.0}\n",
      "KNN Evaluation Results: {'accuracy': 0.9578512396694215, 'recall': 0.0008048289738430583, 'precision': 0.1111111111111111, 'auc': 0.5002615818137415, 'f1': 0.0015980823012385138}\n"
     ]
    },
    {
     "data": {
      "image/png": "[encoded data removed]",
      "text/plain": [
       "<Figure size 640x480 with 1 Axes>"
      ]
     },
     "metadata": {},
     "output_type": "display_data"
    }
   ],
   "source": [
    "# evaluate_approach is in data_functions originally from DSLABS/ Data Prep / Methodology\n",
    "# removed Multinomial from run_NB function because dataset has negative values\n",
    "\n",
    "figure()\n",
    "eval_1: dict[str, list] = evaluate_approach(train_1, test_1, target='conversion', metric=\"accuracy\")\n",
    "plot_multibar_chart(\n",
    "    [\"NB\", \"KNN\"], eval_1, title=f\"{file_tag}_mv1_evaluation\", percentage=True\n",
    ")\n",
    "savefig(f\"images/{file_tag}_mv1_evaluation.png\")\n",
    "show()\n"
   ]
  },
  {
   "cell_type": "code",
   "execution_count": 51,
   "metadata": {},
   "outputs": [
    {
     "ename": "KeyError",
     "evalue": "'conversion'",
     "output_type": "error",
     "traceback": [
      "\u001b[0;31m---------------------------------------------------------------------------\u001b[0m",
      "\u001b[0;31mKeyError\u001b[0m                                  Traceback (most recent call last)",
      "File \u001b[0;32m/opt/anaconda3/lib/python3.12/site-packages/pandas/core/indexes/base.py:3805\u001b[0m, in \u001b[0;36mIndex.get_loc\u001b[0;34m(self, key)\u001b[0m\n\u001b[1;32m   3804\u001b[0m \u001b[38;5;28;01mtry\u001b[39;00m:\n\u001b[0;32m-> 3805\u001b[0m     \u001b[38;5;28;01mreturn\u001b[39;00m \u001b[38;5;28mself\u001b[39m\u001b[38;5;241m.\u001b[39m_engine\u001b[38;5;241m.\u001b[39mget_loc(casted_key)\n\u001b[1;32m   3806\u001b[0m \u001b[38;5;28;01mexcept\u001b[39;00m \u001b[38;5;167;01mKeyError\u001b[39;00m \u001b[38;5;28;01mas\u001b[39;00m err:\n",
      "File \u001b[0;32mindex.pyx:167\u001b[0m, in \u001b[0;36mpandas._libs.index.IndexEngine.get_loc\u001b[0;34m()\u001b[0m\n",
      "File \u001b[0;32mindex.pyx:196\u001b[0m, in \u001b[0;36mpandas._libs.index.IndexEngine.get_loc\u001b[0;34m()\u001b[0m\n",
      "File \u001b[0;32mpandas/_libs/hashtable_class_helper.pxi:7081\u001b[0m, in \u001b[0;36mpandas._libs.hashtable.PyObjectHashTable.get_item\u001b[0;34m()\u001b[0m\n",
      "File \u001b[0;32mpandas/_libs/hashtable_class_helper.pxi:7089\u001b[0m, in \u001b[0;36mpandas._libs.hashtable.PyObjectHashTable.get_item\u001b[0;34m()\u001b[0m\n",
      "\u001b[0;31mKeyError\u001b[0m: 'conversion'",
      "\nThe above exception was the direct cause of the following exception:\n",
      "\u001b[0;31mKeyError\u001b[0m                                  Traceback (most recent call last)",
      "Cell \u001b[0;32mIn[51], line 1\u001b[0m\n\u001b[0;32m----> 1\u001b[0m \u001b[38;5;28mprint\u001b[39m(train_1[\u001b[38;5;124m'\u001b[39m\u001b[38;5;124mconversion\u001b[39m\u001b[38;5;124m'\u001b[39m]\u001b[38;5;241m.\u001b[39mvalue_counts())\n\u001b[1;32m      2\u001b[0m \u001b[38;5;28mprint\u001b[39m(test_1[\u001b[38;5;124m'\u001b[39m\u001b[38;5;124mconversion\u001b[39m\u001b[38;5;124m'\u001b[39m]\u001b[38;5;241m.\u001b[39mvalue_counts())\n",
      "File \u001b[0;32m/opt/anaconda3/lib/python3.12/site-packages/pandas/core/frame.py:4102\u001b[0m, in \u001b[0;36mDataFrame.__getitem__\u001b[0;34m(self, key)\u001b[0m\n\u001b[1;32m   4100\u001b[0m \u001b[38;5;28;01mif\u001b[39;00m \u001b[38;5;28mself\u001b[39m\u001b[38;5;241m.\u001b[39mcolumns\u001b[38;5;241m.\u001b[39mnlevels \u001b[38;5;241m>\u001b[39m \u001b[38;5;241m1\u001b[39m:\n\u001b[1;32m   4101\u001b[0m     \u001b[38;5;28;01mreturn\u001b[39;00m \u001b[38;5;28mself\u001b[39m\u001b[38;5;241m.\u001b[39m_getitem_multilevel(key)\n\u001b[0;32m-> 4102\u001b[0m indexer \u001b[38;5;241m=\u001b[39m \u001b[38;5;28mself\u001b[39m\u001b[38;5;241m.\u001b[39mcolumns\u001b[38;5;241m.\u001b[39mget_loc(key)\n\u001b[1;32m   4103\u001b[0m \u001b[38;5;28;01mif\u001b[39;00m is_integer(indexer):\n\u001b[1;32m   4104\u001b[0m     indexer \u001b[38;5;241m=\u001b[39m [indexer]\n",
      "File \u001b[0;32m/opt/anaconda3/lib/python3.12/site-packages/pandas/core/indexes/base.py:3812\u001b[0m, in \u001b[0;36mIndex.get_loc\u001b[0;34m(self, key)\u001b[0m\n\u001b[1;32m   3807\u001b[0m     \u001b[38;5;28;01mif\u001b[39;00m \u001b[38;5;28misinstance\u001b[39m(casted_key, \u001b[38;5;28mslice\u001b[39m) \u001b[38;5;129;01mor\u001b[39;00m (\n\u001b[1;32m   3808\u001b[0m         \u001b[38;5;28misinstance\u001b[39m(casted_key, abc\u001b[38;5;241m.\u001b[39mIterable)\n\u001b[1;32m   3809\u001b[0m         \u001b[38;5;129;01mand\u001b[39;00m \u001b[38;5;28many\u001b[39m(\u001b[38;5;28misinstance\u001b[39m(x, \u001b[38;5;28mslice\u001b[39m) \u001b[38;5;28;01mfor\u001b[39;00m x \u001b[38;5;129;01min\u001b[39;00m casted_key)\n\u001b[1;32m   3810\u001b[0m     ):\n\u001b[1;32m   3811\u001b[0m         \u001b[38;5;28;01mraise\u001b[39;00m InvalidIndexError(key)\n\u001b[0;32m-> 3812\u001b[0m     \u001b[38;5;28;01mraise\u001b[39;00m \u001b[38;5;167;01mKeyError\u001b[39;00m(key) \u001b[38;5;28;01mfrom\u001b[39;00m \u001b[38;5;21;01merr\u001b[39;00m\n\u001b[1;32m   3813\u001b[0m \u001b[38;5;28;01mexcept\u001b[39;00m \u001b[38;5;167;01mTypeError\u001b[39;00m:\n\u001b[1;32m   3814\u001b[0m     \u001b[38;5;66;03m# If we have a listlike key, _check_indexing_error will raise\u001b[39;00m\n\u001b[1;32m   3815\u001b[0m     \u001b[38;5;66;03m#  InvalidIndexError. Otherwise we fall through and re-raise\u001b[39;00m\n\u001b[1;32m   3816\u001b[0m     \u001b[38;5;66;03m#  the TypeError.\u001b[39;00m\n\u001b[1;32m   3817\u001b[0m     \u001b[38;5;28mself\u001b[39m\u001b[38;5;241m.\u001b[39m_check_indexing_error(key)\n",
      "\u001b[0;31mKeyError\u001b[0m: 'conversion'"
     ]
    }
   ],
   "source": []
  },
  {
   "cell_type": "code",
   "execution_count": 34,
   "metadata": {},
   "outputs": [
    {
     "ename": "SyntaxError",
     "evalue": "'return' outside function (2487143775.py, line 3)",
     "output_type": "error",
     "traceback": [
      "\u001b[0;36m  Cell \u001b[0;32mIn[34], line 3\u001b[0;36m\u001b[0m\n\u001b[0;31m    return {}\u001b[0m\n\u001b[0m    ^\u001b[0m\n\u001b[0;31mSyntaxError\u001b[0m\u001b[0;31m:\u001b[0m 'return' outside function\n"
     ]
    }
   ],
   "source": [
    "if not eval:  # Se eval estiver vazio\n",
    "    print(\"Evaluation results are empty.\")\n",
    "    return {}\n"
   ]
  },
  {
   "cell_type": "markdown",
   "metadata": {},
   "source": [
    "# MV2 - drop null strategy\n",
    "\n",
    "2. Remove remaining null values records"
   ]
  },
  {
   "cell_type": "markdown",
   "metadata": {},
   "source": [
    "## MV2 strategy aplication"
   ]
  },
  {
   "cell_type": "code",
   "execution_count": 19,
   "metadata": {},
   "outputs": [
    {
     "name": "stdout",
     "output_type": "stream",
     "text": [
      "Dimensões antes da remoção: (197632, 16)\n"
     ]
    },
    {
     "data": {
      "text/html": [
       "<div>\n",
       "<style scoped>\n",
       "    .dataframe tbody tr th:only-of-type {\n",
       "        vertical-align: middle;\n",
       "    }\n",
       "\n",
       "    .dataframe tbody tr th {\n",
       "        vertical-align: top;\n",
       "    }\n",
       "\n",
       "    .dataframe thead th {\n",
       "        text-align: right;\n",
       "    }\n",
       "</style>\n",
       "<table border=\"1\" class=\"dataframe\">\n",
       "  <thead>\n",
       "    <tr style=\"text-align: right;\">\n",
       "      <th></th>\n",
       "      <th>event_type</th>\n",
       "      <th>category_code_lvl_1</th>\n",
       "      <th>category_code_lvl_2</th>\n",
       "      <th>category_code_lvl_3</th>\n",
       "      <th>price</th>\n",
       "      <th>week_of_month</th>\n",
       "      <th>day</th>\n",
       "      <th>time_of_day_sin</th>\n",
       "      <th>day_of_week_sin</th>\n",
       "      <th>day_of_week_cos</th>\n",
       "      <th>hour_sin</th>\n",
       "      <th>hour_cos</th>\n",
       "      <th>min_sin</th>\n",
       "      <th>min_cos</th>\n",
       "      <th>is_weekend</th>\n",
       "      <th>time_of_day_cos</th>\n",
       "    </tr>\n",
       "  </thead>\n",
       "  <tbody>\n",
       "    <tr>\n",
       "      <th>0</th>\n",
       "      <td>0.0</td>\n",
       "      <td>7.000000</td>\n",
       "      <td>45.000000</td>\n",
       "      <td>105.000000</td>\n",
       "      <td>128.45</td>\n",
       "      <td>0.0</td>\n",
       "      <td>0.0</td>\n",
       "      <td>0.0</td>\n",
       "      <td>1.0</td>\n",
       "      <td>0.0</td>\n",
       "      <td>0.817</td>\n",
       "      <td>-0.577</td>\n",
       "      <td>-0.000</td>\n",
       "      <td>1.000</td>\n",
       "      <td>0.0</td>\n",
       "      <td>1.0</td>\n",
       "    </tr>\n",
       "    <tr>\n",
       "      <th>1</th>\n",
       "      <td>0.0</td>\n",
       "      <td>0.000000</td>\n",
       "      <td>0.000000</td>\n",
       "      <td>2.000000</td>\n",
       "      <td>360.34</td>\n",
       "      <td>0.0</td>\n",
       "      <td>0.0</td>\n",
       "      <td>0.0</td>\n",
       "      <td>1.0</td>\n",
       "      <td>0.0</td>\n",
       "      <td>-0.817</td>\n",
       "      <td>-0.577</td>\n",
       "      <td>-0.991</td>\n",
       "      <td>-0.133</td>\n",
       "      <td>0.0</td>\n",
       "      <td>-1.0</td>\n",
       "    </tr>\n",
       "    <tr>\n",
       "      <th>2</th>\n",
       "      <td>1.0</td>\n",
       "      <td>5.686283</td>\n",
       "      <td>33.334244</td>\n",
       "      <td>77.585911</td>\n",
       "      <td>437.57</td>\n",
       "      <td>0.0</td>\n",
       "      <td>0.0</td>\n",
       "      <td>0.0</td>\n",
       "      <td>1.0</td>\n",
       "      <td>0.0</td>\n",
       "      <td>0.817</td>\n",
       "      <td>-0.577</td>\n",
       "      <td>-0.818</td>\n",
       "      <td>0.575</td>\n",
       "      <td>0.0</td>\n",
       "      <td>1.0</td>\n",
       "    </tr>\n",
       "    <tr>\n",
       "      <th>3</th>\n",
       "      <td>0.0</td>\n",
       "      <td>12.000000</td>\n",
       "      <td>60.000000</td>\n",
       "      <td>128.000000</td>\n",
       "      <td>1338.13</td>\n",
       "      <td>0.0</td>\n",
       "      <td>0.0</td>\n",
       "      <td>-0.0</td>\n",
       "      <td>1.0</td>\n",
       "      <td>0.0</td>\n",
       "      <td>-0.888</td>\n",
       "      <td>0.460</td>\n",
       "      <td>-1.000</td>\n",
       "      <td>-0.027</td>\n",
       "      <td>0.0</td>\n",
       "      <td>1.0</td>\n",
       "    </tr>\n",
       "    <tr>\n",
       "      <th>4</th>\n",
       "      <td>0.0</td>\n",
       "      <td>3.000000</td>\n",
       "      <td>20.000000</td>\n",
       "      <td>62.000000</td>\n",
       "      <td>0.79</td>\n",
       "      <td>0.0</td>\n",
       "      <td>0.0</td>\n",
       "      <td>-0.0</td>\n",
       "      <td>1.0</td>\n",
       "      <td>0.0</td>\n",
       "      <td>0.979</td>\n",
       "      <td>0.203</td>\n",
       "      <td>-0.921</td>\n",
       "      <td>0.389</td>\n",
       "      <td>0.0</td>\n",
       "      <td>1.0</td>\n",
       "    </tr>\n",
       "  </tbody>\n",
       "</table>\n",
       "</div>"
      ],
      "text/plain": [
       "   event_type  category_code_lvl_1  category_code_lvl_2  category_code_lvl_3  \\\n",
       "0         0.0             7.000000            45.000000           105.000000   \n",
       "1         0.0             0.000000             0.000000             2.000000   \n",
       "2         1.0             5.686283            33.334244            77.585911   \n",
       "3         0.0            12.000000            60.000000           128.000000   \n",
       "4         0.0             3.000000            20.000000            62.000000   \n",
       "\n",
       "     price  week_of_month  day  time_of_day_sin  day_of_week_sin  \\\n",
       "0   128.45            0.0  0.0              0.0              1.0   \n",
       "1   360.34            0.0  0.0              0.0              1.0   \n",
       "2   437.57            0.0  0.0              0.0              1.0   \n",
       "3  1338.13            0.0  0.0             -0.0              1.0   \n",
       "4     0.79            0.0  0.0             -0.0              1.0   \n",
       "\n",
       "   day_of_week_cos  hour_sin  hour_cos  min_sin  min_cos  is_weekend  \\\n",
       "0              0.0     0.817    -0.577   -0.000    1.000         0.0   \n",
       "1              0.0    -0.817    -0.577   -0.991   -0.133         0.0   \n",
       "2              0.0     0.817    -0.577   -0.818    0.575         0.0   \n",
       "3              0.0    -0.888     0.460   -1.000   -0.027         0.0   \n",
       "4              0.0     0.979     0.203   -0.921    0.389         0.0   \n",
       "\n",
       "   time_of_day_cos  \n",
       "0              1.0  \n",
       "1             -1.0  \n",
       "2              1.0  \n",
       "3              1.0  \n",
       "4              1.0  "
      ]
     },
     "execution_count": 19,
     "metadata": {},
     "output_type": "execute_result"
    }
   ],
   "source": [
    "print(\"Dimensões antes da remoção:\", df_1.shape)\n",
    "df_1.head()\n"
   ]
  },
  {
   "cell_type": "code",
   "execution_count": 20,
   "metadata": {},
   "outputs": [],
   "source": [
    "# drop all rows with null values\n",
    "\n",
    "def apply_strategy_2(df):\n",
    "\n",
    "    df_copy=df.copy()\n",
    "\n",
    "    df_copy = df_copy.dropna(axis=0, how=\"any\")\n",
    "\n",
    "    return df_copy\n",
    "\n",
    "df_2=apply_strategy_2(df)\n",
    "\n"
   ]
  },
  {
   "cell_type": "code",
   "execution_count": 21,
   "metadata": {},
   "outputs": [
    {
     "name": "stdout",
     "output_type": "stream",
     "text": [
      "Dimensões após a remoção: (177828, 17)\n"
     ]
    },
    {
     "data": {
      "text/html": [
       "<div>\n",
       "<style scoped>\n",
       "    .dataframe tbody tr th:only-of-type {\n",
       "        vertical-align: middle;\n",
       "    }\n",
       "\n",
       "    .dataframe tbody tr th {\n",
       "        vertical-align: top;\n",
       "    }\n",
       "\n",
       "    .dataframe thead th {\n",
       "        text-align: right;\n",
       "    }\n",
       "</style>\n",
       "<table border=\"1\" class=\"dataframe\">\n",
       "  <thead>\n",
       "    <tr style=\"text-align: right;\">\n",
       "      <th></th>\n",
       "      <th>event_type</th>\n",
       "      <th>category_code_lvl_1</th>\n",
       "      <th>category_code_lvl_2</th>\n",
       "      <th>category_code_lvl_3</th>\n",
       "      <th>price</th>\n",
       "      <th>conversion</th>\n",
       "      <th>week_of_month</th>\n",
       "      <th>is_weekend</th>\n",
       "      <th>day</th>\n",
       "      <th>time_of_day_sin</th>\n",
       "      <th>time_of_day_cos</th>\n",
       "      <th>day_of_week_sin</th>\n",
       "      <th>day_of_week_cos</th>\n",
       "      <th>hour_sin</th>\n",
       "      <th>hour_cos</th>\n",
       "      <th>min_sin</th>\n",
       "      <th>min_cos</th>\n",
       "    </tr>\n",
       "  </thead>\n",
       "  <tbody>\n",
       "    <tr>\n",
       "      <th>86742</th>\n",
       "      <td>0</td>\n",
       "      <td>7.0</td>\n",
       "      <td>45.0</td>\n",
       "      <td>105.0</td>\n",
       "      <td>128.45</td>\n",
       "      <td>0</td>\n",
       "      <td>0</td>\n",
       "      <td>0</td>\n",
       "      <td>0</td>\n",
       "      <td>0.0</td>\n",
       "      <td>1.0</td>\n",
       "      <td>1.0</td>\n",
       "      <td>0.0</td>\n",
       "      <td>0.817</td>\n",
       "      <td>-0.577</td>\n",
       "      <td>-0.000</td>\n",
       "      <td>1.000</td>\n",
       "    </tr>\n",
       "    <tr>\n",
       "      <th>196614</th>\n",
       "      <td>0</td>\n",
       "      <td>0.0</td>\n",
       "      <td>0.0</td>\n",
       "      <td>2.0</td>\n",
       "      <td>360.34</td>\n",
       "      <td>0</td>\n",
       "      <td>0</td>\n",
       "      <td>0</td>\n",
       "      <td>0</td>\n",
       "      <td>0.0</td>\n",
       "      <td>-1.0</td>\n",
       "      <td>1.0</td>\n",
       "      <td>0.0</td>\n",
       "      <td>-0.817</td>\n",
       "      <td>-0.577</td>\n",
       "      <td>-0.991</td>\n",
       "      <td>-0.133</td>\n",
       "    </tr>\n",
       "    <tr>\n",
       "      <th>22469</th>\n",
       "      <td>0</td>\n",
       "      <td>12.0</td>\n",
       "      <td>60.0</td>\n",
       "      <td>128.0</td>\n",
       "      <td>1338.13</td>\n",
       "      <td>0</td>\n",
       "      <td>0</td>\n",
       "      <td>0</td>\n",
       "      <td>0</td>\n",
       "      <td>-0.0</td>\n",
       "      <td>1.0</td>\n",
       "      <td>1.0</td>\n",
       "      <td>0.0</td>\n",
       "      <td>-0.888</td>\n",
       "      <td>0.460</td>\n",
       "      <td>-1.000</td>\n",
       "      <td>-0.027</td>\n",
       "    </tr>\n",
       "    <tr>\n",
       "      <th>65266</th>\n",
       "      <td>0</td>\n",
       "      <td>3.0</td>\n",
       "      <td>20.0</td>\n",
       "      <td>62.0</td>\n",
       "      <td>0.79</td>\n",
       "      <td>0</td>\n",
       "      <td>0</td>\n",
       "      <td>0</td>\n",
       "      <td>0</td>\n",
       "      <td>-0.0</td>\n",
       "      <td>1.0</td>\n",
       "      <td>1.0</td>\n",
       "      <td>0.0</td>\n",
       "      <td>0.979</td>\n",
       "      <td>0.203</td>\n",
       "      <td>-0.921</td>\n",
       "      <td>0.389</td>\n",
       "    </tr>\n",
       "    <tr>\n",
       "      <th>111177</th>\n",
       "      <td>0</td>\n",
       "      <td>5.0</td>\n",
       "      <td>27.0</td>\n",
       "      <td>76.0</td>\n",
       "      <td>7.39</td>\n",
       "      <td>0</td>\n",
       "      <td>0</td>\n",
       "      <td>0</td>\n",
       "      <td>0</td>\n",
       "      <td>0.0</td>\n",
       "      <td>1.0</td>\n",
       "      <td>1.0</td>\n",
       "      <td>0.0</td>\n",
       "      <td>0.998</td>\n",
       "      <td>-0.068</td>\n",
       "      <td>0.848</td>\n",
       "      <td>-0.530</td>\n",
       "    </tr>\n",
       "  </tbody>\n",
       "</table>\n",
       "</div>"
      ],
      "text/plain": [
       "        event_type  category_code_lvl_1  category_code_lvl_2  \\\n",
       "86742            0                  7.0                 45.0   \n",
       "196614           0                  0.0                  0.0   \n",
       "22469            0                 12.0                 60.0   \n",
       "65266            0                  3.0                 20.0   \n",
       "111177           0                  5.0                 27.0   \n",
       "\n",
       "        category_code_lvl_3    price  conversion  week_of_month  is_weekend  \\\n",
       "86742                 105.0   128.45           0              0           0   \n",
       "196614                  2.0   360.34           0              0           0   \n",
       "22469                 128.0  1338.13           0              0           0   \n",
       "65266                  62.0     0.79           0              0           0   \n",
       "111177                 76.0     7.39           0              0           0   \n",
       "\n",
       "        day  time_of_day_sin  time_of_day_cos  day_of_week_sin  \\\n",
       "86742     0              0.0              1.0              1.0   \n",
       "196614    0              0.0             -1.0              1.0   \n",
       "22469     0             -0.0              1.0              1.0   \n",
       "65266     0             -0.0              1.0              1.0   \n",
       "111177    0              0.0              1.0              1.0   \n",
       "\n",
       "        day_of_week_cos  hour_sin  hour_cos  min_sin  min_cos  \n",
       "86742               0.0     0.817    -0.577   -0.000    1.000  \n",
       "196614              0.0    -0.817    -0.577   -0.991   -0.133  \n",
       "22469               0.0    -0.888     0.460   -1.000   -0.027  \n",
       "65266               0.0     0.979     0.203   -0.921    0.389  \n",
       "111177              0.0     0.998    -0.068    0.848   -0.530  "
      ]
     },
     "execution_count": 21,
     "metadata": {},
     "output_type": "execute_result"
    }
   ],
   "source": [
    "print(\"Dimensões após a remoção:\", df_2.shape)\n",
    "df_2.head()"
   ]
  },
  {
   "cell_type": "code",
   "execution_count": 22,
   "metadata": {},
   "outputs": [
    {
     "data": {
      "image/png": "[encoded data removed]",
      "text/plain": [
       "<Figure size 2500x1000 with 1 Axes>"
      ]
     },
     "metadata": {},
     "output_type": "display_data"
    }
   ],
   "source": [
    "from matplotlib.pyplot import figure, savefig, show\n",
    "from dslabs_functions import plot_bar_chart\n",
    "\n",
    "mv: dict[str, int] = {}\n",
    "total_rows = len(df)\n",
    "\n",
    "for var in df_1.columns:\n",
    "    nr: int = df_1[var].isna().sum()\n",
    "    if nr > 0:\n",
    "        percentage = (nr / total_rows) * 100\n",
    "        mv[var] = (nr, percentage)\n",
    "\n",
    "sorted_mv = dict(sorted(mv.items(), key=lambda item: item[1][0], reverse=True))\n",
    "\n",
    "variables = list(sorted_mv.keys())\n",
    "missing_values = [val[0] for val in sorted_mv.values()]\n",
    "percentages = [val[1] for val in sorted_mv.values()]\n",
    "\n",
    "figure(figsize=(25, 10)) #(largura,altura) \n",
    "\n",
    "plot_bar_chart(\n",
    "    variables,\n",
    "    missing_values,\n",
    "    title=f\"{file_tag} : Nr of missing values per variable\",\n",
    "    xlabel=\"variables\",\n",
    "    ylabel=\"nr missing values\",\n",
    ")\n",
    "for i, (var, perc) in enumerate(zip(variables, percentages)):\n",
    "    text(i, missing_values[i] + max(missing_values) * 0.08, f\"{perc:.1f}%\", ha=\"center\", va=\"center_baseline\")\n",
    "\n",
    "#savefig(f\"./{file_tag}_mv.png\")\n",
    "show()"
   ]
  },
  {
   "cell_type": "markdown",
   "metadata": {},
   "source": [
    "## MV2 target class"
   ]
  },
  {
   "cell_type": "code",
   "execution_count": 23,
   "metadata": {},
   "outputs": [
    {
     "name": "stdout",
     "output_type": "stream",
     "text": [
      "Labels=[0, 1]\n"
     ]
    }
   ],
   "source": [
    "y_2, X_2, labels, class_counts = define_target_and_prepare_data(df_2, target=target)"
   ]
  },
  {
   "cell_type": "code",
   "execution_count": null,
   "metadata": {},
   "outputs": [],
   "source": []
  },
  {
   "cell_type": "markdown",
   "metadata": {},
   "source": [
    "## MV2 train/test split "
   ]
  },
  {
   "cell_type": "code",
   "execution_count": 24,
   "metadata": {},
   "outputs": [
    {
     "data": {
      "text/plain": [
       "<Axes: title={'center': 'Data distribution per dataset'}>"
      ]
     },
     "execution_count": 24,
     "metadata": {},
     "output_type": "execute_result"
    },
    {
     "data": {
      "image/png": "[encoded data removed]",
      "text/plain": [
       "<Figure size 600x400 with 1 Axes>"
      ]
     },
     "metadata": {},
     "output_type": "display_data"
    }
   ],
   "source": [
    "from pandas import concat\n",
    "from matplotlib.pyplot import figure, show\n",
    "from sklearn.model_selection import train_test_split\n",
    "from dslabs_functions import plot_multibar_chart\n",
    "\n",
    "# train/test split from DSLABS Classification/Evaluation Chapter\n",
    "# created split_data_save_csv on data_functions\n",
    "\n",
    "# Call the function to split the data\n",
    "train_2, test_2 = split_data_save_csv(pd.DataFrame(X_2, columns=df_2.columns), y_2, data_columns=df_2.columns, target_column=target)\n",
    "\n",
    "\n",
    "values[\"Train\"] = [\n",
    "    len(train_2[train_2[target] == 0]),\n",
    "    len(train_2[train_2[target] == 1]),\n",
    "]\n",
    "values[\"Test\"] = [\n",
    "    len(test_2[test_2[target] == 0]),\n",
    "    len(test_2[test_2[target] == 1]),\n",
    "]\n",
    "\n",
    "figure(figsize=(6, 4))\n",
    "plot_multibar_chart(labels, values, title=\"Data distribution per dataset\")"
   ]
  },
  {
   "cell_type": "code",
   "execution_count": 25,
   "metadata": {},
   "outputs": [
    {
     "name": "stdout",
     "output_type": "stream",
     "text": [
      "Train set - Min day: 0.0, Max day: 22.0\n",
      "Test set - Min day: 22.0, Max day: 29.0\n"
     ]
    }
   ],
   "source": [
    "# Verificar o intervalo de dias no conjunto de treino\n",
    "min_day_train = train_2['day'].min()\n",
    "max_day_train = train_2['day'].max()\n",
    "\n",
    "# Verificar o intervalo de dias no conjunto de teste\n",
    "min_day_test = test_2['day'].min()\n",
    "max_day_test = test_2['day'].max()\n",
    "\n",
    "# Exibir os resultados\n",
    "print(f\"Train set - Min day: {min_day_train}, Max day: {max_day_train}\")\n",
    "print(f\"Test set - Min day: {min_day_test}, Max day: {max_day_test}\")"
   ]
  },
  {
   "cell_type": "markdown",
   "metadata": {},
   "source": [
    "## MV2 evaluate"
   ]
  },
  {
   "cell_type": "code",
   "execution_count": 26,
   "metadata": {},
   "outputs": [
    {
     "data": {
      "image/png": "[encoded data removed]",
      "text/plain": [
       "<Figure size 640x480 with 1 Axes>"
      ]
     },
     "metadata": {},
     "output_type": "display_data"
    }
   ],
   "source": [
    "\n",
    "figure()\n",
    "eval_2: dict[str, list] = evaluate_approach(train_2, test_2, target='conversion', metric=\"recall\")\n",
    "plot_multibar_chart(\n",
    "    [\"NB\", \"KNN\"], eval_2, title=f\"{file_tag}_approach_2_evaluation\", percentage=True\n",
    ")\n",
    "savefig(f\"images/{file_tag}_approach_2_evaluation.png\")\n",
    "show()"
   ]
  },
  {
   "cell_type": "markdown",
   "metadata": {},
   "source": [
    "## uplift df"
   ]
  },
  {
   "cell_type": "code",
   "execution_count": 27,
   "metadata": {},
   "outputs": [
    {
     "data": {
      "text/html": [
       "<div>\n",
       "<style scoped>\n",
       "    .dataframe tbody tr th:only-of-type {\n",
       "        vertical-align: middle;\n",
       "    }\n",
       "\n",
       "    .dataframe tbody tr th {\n",
       "        vertical-align: top;\n",
       "    }\n",
       "\n",
       "    .dataframe thead tr th {\n",
       "        text-align: left;\n",
       "    }\n",
       "</style>\n",
       "<table border=\"1\" class=\"dataframe\">\n",
       "  <thead>\n",
       "    <tr>\n",
       "      <th></th>\n",
       "      <th colspan=\"5\" halign=\"left\">Approach 1</th>\n",
       "      <th colspan=\"5\" halign=\"left\">Approach 2</th>\n",
       "      <th colspan=\"5\" halign=\"left\">Uplift</th>\n",
       "    </tr>\n",
       "    <tr>\n",
       "      <th></th>\n",
       "      <th>accuracy</th>\n",
       "      <th>recall</th>\n",
       "      <th>precision</th>\n",
       "      <th>auc</th>\n",
       "      <th>f1</th>\n",
       "      <th>accuracy</th>\n",
       "      <th>recall</th>\n",
       "      <th>precision</th>\n",
       "      <th>auc</th>\n",
       "      <th>f1</th>\n",
       "      <th>accuracy</th>\n",
       "      <th>recall</th>\n",
       "      <th>precision</th>\n",
       "      <th>auc</th>\n",
       "      <th>f1</th>\n",
       "    </tr>\n",
       "  </thead>\n",
       "  <tbody>\n",
       "    <tr>\n",
       "      <th>Naive Bayes</th>\n",
       "      <td>1.000000</td>\n",
       "      <td>1.000000</td>\n",
       "      <td>1.000000</td>\n",
       "      <td>1.000000</td>\n",
       "      <td>1.000000</td>\n",
       "      <td>1.000000</td>\n",
       "      <td>1.00000</td>\n",
       "      <td>1.000000</td>\n",
       "      <td>1.000000</td>\n",
       "      <td>1.000000</td>\n",
       "      <td>0.000000</td>\n",
       "      <td>0.000000</td>\n",
       "      <td>0.000000</td>\n",
       "      <td>0.000000</td>\n",
       "      <td>0.000000</td>\n",
       "    </tr>\n",
       "    <tr>\n",
       "      <th>KNN</th>\n",
       "      <td>0.954782</td>\n",
       "      <td>0.208853</td>\n",
       "      <td>0.420583</td>\n",
       "      <td>0.598133</td>\n",
       "      <td>0.279107</td>\n",
       "      <td>0.951827</td>\n",
       "      <td>0.19124</td>\n",
       "      <td>0.384817</td>\n",
       "      <td>0.588714</td>\n",
       "      <td>0.255504</td>\n",
       "      <td>-0.002955</td>\n",
       "      <td>-0.017613</td>\n",
       "      <td>-0.035767</td>\n",
       "      <td>-0.009419</td>\n",
       "      <td>-0.023603</td>\n",
       "    </tr>\n",
       "  </tbody>\n",
       "</table>\n",
       "</div>"
      ],
      "text/plain": [
       "            Approach 1                                         Approach 2  \\\n",
       "              accuracy    recall precision       auc        f1   accuracy   \n",
       "Naive Bayes   1.000000  1.000000  1.000000  1.000000  1.000000   1.000000   \n",
       "KNN           0.954782  0.208853  0.420583  0.598133  0.279107   0.951827   \n",
       "\n",
       "                                                      Uplift            \\\n",
       "              recall precision       auc        f1  accuracy    recall   \n",
       "Naive Bayes  1.00000  1.000000  1.000000  1.000000  0.000000  0.000000   \n",
       "KNN          0.19124  0.384817  0.588714  0.255504 -0.002955 -0.017613   \n",
       "\n",
       "                                           \n",
       "            precision       auc        f1  \n",
       "Naive Bayes  0.000000  0.000000  0.000000  \n",
       "KNN         -0.035767 -0.009419 -0.023603  "
      ]
     },
     "execution_count": 27,
     "metadata": {},
     "output_type": "execute_result"
    }
   ],
   "source": [
    "algorithms = ['Naive Bayes', 'KNN']\n",
    "\n",
    "# Create DataFrames for eval_1 and eval_2\n",
    "df_eval_1 = pd.DataFrame(eval_1, index=algorithms)\n",
    "df_eval_2 = pd.DataFrame(eval_2, index=algorithms)\n",
    "\n",
    "# Calculate uplift\n",
    "df_uplift = df_eval_2 - df_eval_1\n",
    "\n",
    "\n",
    "\n",
    "# Combine everything into one DataFrame (without misalignment issues)\n",
    "comparison_df = pd.concat([df_eval_1, df_eval_2, df_uplift], axis=1)\n",
    "comparison_df.columns = pd.MultiIndex.from_product([['Approach 1', 'Approach 2', 'Uplift'], eval_1.keys()])\n",
    "\n",
    "\n",
    "\n",
    "# Display the DataFrame\n",
    "comparison_df"
   ]
  },
  {
   "cell_type": "code",
   "execution_count": null,
   "metadata": {},
   "outputs": [],
   "source": []
  },
  {
   "cell_type": "markdown",
   "metadata": {},
   "source": [
    "## t test"
   ]
  },
  {
   "cell_type": "code",
   "execution_count": 28,
   "metadata": {},
   "outputs": [
    {
     "data": {
      "text/html": [
       "<div>\n",
       "<style scoped>\n",
       "    .dataframe tbody tr th:only-of-type {\n",
       "        vertical-align: middle;\n",
       "    }\n",
       "\n",
       "    .dataframe tbody tr th {\n",
       "        vertical-align: top;\n",
       "    }\n",
       "\n",
       "    .dataframe thead tr th {\n",
       "        text-align: left;\n",
       "    }\n",
       "</style>\n",
       "<table border=\"1\" class=\"dataframe\">\n",
       "  <thead>\n",
       "    <tr>\n",
       "      <th></th>\n",
       "      <th colspan=\"2\" halign=\"left\">t_test</th>\n",
       "    </tr>\n",
       "    <tr>\n",
       "      <th></th>\n",
       "      <th>t_stat</th>\n",
       "      <th>p_value</th>\n",
       "    </tr>\n",
       "  </thead>\n",
       "  <tbody>\n",
       "    <tr>\n",
       "      <th>accuracy</th>\n",
       "      <td>1.0</td>\n",
       "      <td>0.5</td>\n",
       "    </tr>\n",
       "    <tr>\n",
       "      <th>recall</th>\n",
       "      <td>1.0</td>\n",
       "      <td>0.5</td>\n",
       "    </tr>\n",
       "    <tr>\n",
       "      <th>precision</th>\n",
       "      <td>1.0</td>\n",
       "      <td>0.5</td>\n",
       "    </tr>\n",
       "    <tr>\n",
       "      <th>auc</th>\n",
       "      <td>1.0</td>\n",
       "      <td>0.5</td>\n",
       "    </tr>\n",
       "    <tr>\n",
       "      <th>f1</th>\n",
       "      <td>1.0</td>\n",
       "      <td>0.5</td>\n",
       "    </tr>\n",
       "  </tbody>\n",
       "</table>\n",
       "</div>"
      ],
      "text/plain": [
       "          t_test        \n",
       "          t_stat p_value\n",
       "accuracy     1.0     0.5\n",
       "recall       1.0     0.5\n",
       "precision    1.0     0.5\n",
       "auc          1.0     0.5\n",
       "f1           1.0     0.5"
      ]
     },
     "execution_count": 28,
     "metadata": {},
     "output_type": "execute_result"
    }
   ],
   "source": [
    "\n",
    "from scipy.stats import ttest_rel\n",
    "\n",
    "\n",
    "# Perform paired t-tests for each metric\n",
    "t_test_results = {'t_stat': [], 'p_value': []}\n",
    "for metric in eval_1.keys():\n",
    "    t_stat, p_value = ttest_rel(df_eval_1[metric], df_eval_2[metric])\n",
    "    t_test_results['t_stat'].append(t_stat)\n",
    "    t_test_results['p_value'].append(p_value)\n",
    "\n",
    "# Create DataFrame for t-test results\n",
    "df_ttest = pd.DataFrame(t_test_results, index=eval_1.keys())\n",
    "\n",
    "# Convert t-test results to a DataFrame with MultiIndex and concatenate it\n",
    "df_ttest_multi = pd.DataFrame({\n",
    "    ('t_test', 't_stat'): df_ttest['t_stat'],\n",
    "    ('t_test', 'p_value'): df_ttest['p_value']\n",
    "})\n",
    "\n",
    "df_ttest_multi"
   ]
  },
  {
   "cell_type": "markdown",
   "metadata": {},
   "source": [
    "# Analysis\n",
    "\n",
    "- we will move forward with approach 1 because it has better precision and recall\n",
    "- Datset choosen:\n",
    "    - Df_1 : Approach - Replace missing values with most frequent values"
   ]
  },
  {
   "cell_type": "markdown",
   "metadata": {},
   "source": [
    "# save to csv"
   ]
  },
  {
   "cell_type": "code",
   "execution_count": 29,
   "metadata": {},
   "outputs": [],
   "source": [
    "if test_data==False:\n",
    "    \n",
    "    df=apply_strategy_1(df)\n",
    "    \n",
    "    df.to_csv(f\"dataset/df_ecom_2_2_mv_input_v2.csv\", index=False)\n",
    "    "
   ]
  },
  {
   "cell_type": "code",
   "execution_count": null,
   "metadata": {},
   "outputs": [],
   "source": []
  }
 ],
 "metadata": {
  "kernelspec": {
   "display_name": "base",
   "language": "python",
   "name": "python3"
  },
  "language_info": {
   "codemirror_mode": {
    "name": "ipython",
    "version": 3
   },
   "file_extension": ".py",
   "mimetype": "text/x-python",
   "name": "python",
   "nbconvert_exporter": "python",
   "pygments_lexer": "ipython3",
   "version": "3.12.2"
  }
 },
 "nbformat": 4,
 "nbformat_minor": 2
}
