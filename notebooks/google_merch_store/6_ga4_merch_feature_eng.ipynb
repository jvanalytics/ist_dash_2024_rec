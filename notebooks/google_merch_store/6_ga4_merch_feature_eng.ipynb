{
 "cells": [
  {
   "cell_type": "markdown",
   "metadata": {},
   "source": [
    "# File and libraries"
   ]
  },
  {
   "cell_type": "code",
   "execution_count": 7,
   "metadata": {},
   "outputs": [],
   "source": [
    "import pandas as pd\n",
    "import numpy as np\n",
    "\n",
    "\n",
    "filepath=r'data/df_merch_5_scaler_input'\n",
    "\n",
    "\n",
    "file_tag = \"df_merch_feat_eng_input\""
   ]
  },
  {
   "cell_type": "markdown",
   "metadata": {},
   "source": [
    "# DSLabs functions"
   ]
  },
  {
   "cell_type": "code",
   "execution_count": 8,
   "metadata": {},
   "outputs": [],
   "source": [
    "%run \"scripts/dslabs_functions.py\"\n"
   ]
  },
  {
   "cell_type": "markdown",
   "metadata": {},
   "source": [
    "# Data functions"
   ]
  },
  {
   "cell_type": "code",
   "execution_count": 9,
   "metadata": {},
   "outputs": [
    {
     "name": "stdout",
     "output_type": "stream",
     "text": [
      "data_functions lodaded\n"
     ]
    }
   ],
   "source": [
    "%run \"scripts/data_functions.py\"\n"
   ]
  },
  {
   "cell_type": "markdown",
   "metadata": {},
   "source": [
    "# Load"
   ]
  },
  {
   "cell_type": "code",
   "execution_count": 10,
   "metadata": {},
   "outputs": [
    {
     "name": "stdout",
     "output_type": "stream",
     "text": [
      "<class 'pandas.core.frame.DataFrame'>\n",
      "Index: 364427 entries, 0 to 364426\n",
      "Data columns (total 42 columns):\n",
      " #   Column                           Non-Null Count   Dtype  \n",
      "---  ------                           --------------   -----  \n",
      " 0   event_name                       364427 non-null  float64\n",
      " 1   device_category                  364427 non-null  float64\n",
      " 2   device_mobile_brand_name         364427 non-null  float64\n",
      " 3   device_mobile_model_name         364427 non-null  float64\n",
      " 4   device_operating_system          364427 non-null  float64\n",
      " 5   device_operating_system_version  364427 non-null  float64\n",
      " 6   device_language                  364427 non-null  float64\n",
      " 7   device_web_info_browser          364427 non-null  float64\n",
      " 8   device_web_info_browser_version  364427 non-null  float64\n",
      " 9   geo_region                       364427 non-null  float64\n",
      " 10  geo_city                         364427 non-null  float64\n",
      " 11  traffic_source_medium            364427 non-null  float64\n",
      " 12  traffic_source_source            364427 non-null  float64\n",
      " 13  engagement_time_msec             364427 non-null  float64\n",
      " 14  month                            364427 non-null  float64\n",
      " 15  day_of_year                      364427 non-null  float64\n",
      " 16  week_number                      364427 non-null  float64\n",
      " 17  page_path_level_1                364427 non-null  float64\n",
      " 18  page_path_level_2                364427 non-null  float64\n",
      " 19  page_path_level_3                364427 non-null  float64\n",
      " 20  path_length                      364427 non-null  float64\n",
      " 21  time_of_day_sin                  364427 non-null  float64\n",
      " 22  time_of_day_cos                  364427 non-null  float64\n",
      " 23  local_hour_sin                   364427 non-null  float64\n",
      " 24  local_hour_cos                   364427 non-null  float64\n",
      " 25  local_minute_sin                 364427 non-null  float64\n",
      " 26  local_minute_cos                 364427 non-null  float64\n",
      " 27  hour_minute_fraction_sin         364427 non-null  float64\n",
      " 28  hour_minute_fraction_cos         364427 non-null  float64\n",
      " 29  day_sin                          364427 non-null  float64\n",
      " 30  day_cos                          364427 non-null  float64\n",
      " 31  day_of_week_nr_sin               364427 non-null  float64\n",
      " 32  day_of_week_nr_cos               364427 non-null  float64\n",
      " 33  week_of_month_nr_sin             364427 non-null  float64\n",
      " 34  week_of_month_nr_cos             364427 non-null  float64\n",
      " 35  geo_country                      364427 non-null  float64\n",
      " 36  session_engaged                  364427 non-null  float64\n",
      " 37  year                             364427 non-null  float64\n",
      " 38  quarter                          364427 non-null  float64\n",
      " 39  is_weekend                       364427 non-null  float64\n",
      " 40  domain                           364427 non-null  float64\n",
      " 41  returning_user                   364427 non-null  float64\n",
      "dtypes: float64(42)\n",
      "memory usage: 119.6 MB\n"
     ]
    }
   ],
   "source": [
    "# test_data=True\n",
    "test_data=False\n",
    "\n",
    "# use to evaluate strategies. otherwise False to just transform data \n",
    "evaluate=True\n",
    "# evaluate=False\n",
    "\n",
    "\n",
    "if test_data==True:\n",
    "\n",
    "    data=pd.read_csv(f\"{filepath}.csv\")\n",
    "    \n",
    "    test= pd.read_csv(f\"{filepath}_test.csv\")\n",
    "    train= pd.read_csv(f\"{filepath}_train.csv\")\n",
    "\n",
    "    sample=0.05\n",
    "    data = data.groupby('day_of_year').apply(lambda x: sample_per_day(x, sample)).reset_index(drop=True)\n",
    "    test = test.groupby('day_of_year').apply(lambda x: sample_per_day(x, sample)).reset_index(drop=True)\n",
    "    train = train.groupby('day_of_year').apply(lambda x: sample_per_day(x, sample)).reset_index(drop=True)\n",
    "    \n",
    "    # create sample df version of test/train for variance studies\n",
    "    test_sample= test\n",
    "    train_sample= train\n",
    "    \n",
    "else:\n",
    "    data=pd.read_csv(f\"{filepath}.csv\")\n",
    "\n",
    "    \n",
    "    test= pd.read_csv(f\"{filepath}_test.csv\")\n",
    "    train= pd.read_csv(f\"{filepath}_train.csv\")\n",
    "\n",
    "    # create sample for variance studies\n",
    "    sample=0.01\n",
    "    test_sample = test.groupby('day_of_year').apply(lambda x: sample_per_day(x, sample)).reset_index(drop=True)\n",
    "    train_sample = train.groupby('day_of_year').apply(lambda x: sample_per_day(x, sample)).reset_index(drop=True)\n",
    "\n",
    "\n",
    " \n",
    "target='returning_user'\n",
    "vars: list[str] = data.columns.to_list()\n",
    "\n",
    "\n",
    "# ensure sorting by day_of_year for correct splitting \n",
    "# \"When in the presence of temporal data, data partition shall use older data to train and newer to test, in order to not use future data to classify past data. In any other case, partition shall be random.\"\n",
    "data.sort_values(by='day_of_year', inplace=True)\n",
    "test.sort_values(by='day_of_year', inplace=True)\n",
    "train.sort_values(by='day_of_year', inplace=True)\n",
    "\n",
    "\n",
    "\n",
    "data.info()"
   ]
  },
  {
   "cell_type": "code",
   "execution_count": 11,
   "metadata": {},
   "outputs": [
    {
     "name": "stdout",
     "output_type": "stream",
     "text": [
      "Train shape: (255098, 42)\n",
      "Test shape: (109329, 42)\n"
     ]
    }
   ],
   "source": [
    "print(f\"Train shape: {train.shape}\")\n",
    "print(f\"Test shape: {test.shape}\")"
   ]
  },
  {
   "cell_type": "markdown",
   "metadata": {},
   "source": [
    "# Feat 1 - Dropping Low Variance Variables"
   ]
  },
  {
   "cell_type": "markdown",
   "metadata": {},
   "source": [
    "## Feat 1 - Study Low Variance Variables and Threshold\n",
    "\n",
    "using sampled dataframe due to heavy processing"
   ]
  },
  {
   "cell_type": "markdown",
   "metadata": {},
   "source": [
    "### precision"
   ]
  },
  {
   "cell_type": "code",
   "execution_count": 12,
   "metadata": {},
   "outputs": [
    {
     "name": "stdout",
     "output_type": "stream",
     "text": [
      "Testing threshold: 0.003\n",
      "Dropping variables: ['year', 'quarter']\n",
      "Remaining features after drop: 40\n",
      "Evaluation results at threshold 0.003: {'accuracy': [0.684981684981685, 0.7454212454212454], 'recall': [0.3320754716981132, 0.045283018867924525], 'precision': [0.34509803921568627, 0.32432432432432434], 'auc': [0.5650703839748122, 0.5075266363988957], 'f1': [0.3384615384615385, 0.07947019867549669]}\n",
      "Evaluation for precision: [0.34509803921568627, 0.32432432432432434]\n",
      "Testing threshold: 0.006\n",
      "Dropping variables: ['year', 'quarter']\n",
      "Remaining features after drop: 40\n",
      "Evaluation results at threshold 0.006: {'accuracy': [0.684981684981685, 0.7454212454212454], 'recall': [0.3320754716981132, 0.045283018867924525], 'precision': [0.34509803921568627, 0.32432432432432434], 'auc': [0.5650703839748122, 0.5075266363988957], 'f1': [0.3384615384615385, 0.07947019867549669]}\n",
      "Evaluation for precision: [0.34509803921568627, 0.32432432432432434]\n",
      "Testing threshold: 0.009\n",
      "Dropping variables: ['year', 'quarter']\n",
      "Remaining features after drop: 40\n",
      "Evaluation results at threshold 0.009: {'accuracy': [0.684981684981685, 0.7454212454212454], 'recall': [0.3320754716981132, 0.045283018867924525], 'precision': [0.34509803921568627, 0.32432432432432434], 'auc': [0.5650703839748122, 0.5075266363988957], 'f1': [0.3384615384615385, 0.07947019867549669]}\n",
      "Evaluation for precision: [0.34509803921568627, 0.32432432432432434]\n",
      "Testing threshold: 0.012\n",
      "Dropping variables: ['year', 'quarter']\n",
      "Remaining features after drop: 40\n",
      "Evaluation results at threshold 0.012: {'accuracy': [0.684981684981685, 0.7454212454212454], 'recall': [0.3320754716981132, 0.045283018867924525], 'precision': [0.34509803921568627, 0.32432432432432434], 'auc': [0.5650703839748122, 0.5075266363988957], 'f1': [0.3384615384615385, 0.07947019867549669]}\n",
      "Evaluation for precision: [0.34509803921568627, 0.32432432432432434]\n",
      "Testing threshold: 0.015\n",
      "Dropping variables: ['year', 'quarter']\n",
      "Remaining features after drop: 40\n",
      "Evaluation results at threshold 0.015: {'accuracy': [0.684981684981685, 0.7454212454212454], 'recall': [0.3320754716981132, 0.045283018867924525], 'precision': [0.34509803921568627, 0.32432432432432434], 'auc': [0.5650703839748122, 0.5075266363988957], 'f1': [0.3384615384615385, 0.07947019867549669]}\n",
      "Evaluation for precision: [0.34509803921568627, 0.32432432432432434]\n",
      "Testing threshold: 0.018\n",
      "Dropping variables: ['year', 'quarter']\n",
      "Remaining features after drop: 40\n",
      "Evaluation results at threshold 0.018: {'accuracy': [0.684981684981685, 0.7454212454212454], 'recall': [0.3320754716981132, 0.045283018867924525], 'precision': [0.34509803921568627, 0.32432432432432434], 'auc': [0.5650703839748122, 0.5075266363988957], 'f1': [0.3384615384615385, 0.07947019867549669]}\n",
      "Evaluation for precision: [0.34509803921568627, 0.32432432432432434]\n",
      "Testing threshold: 0.021\n",
      "Dropping variables: ['year', 'quarter']\n",
      "Remaining features after drop: 40\n",
      "Evaluation results at threshold 0.021: {'accuracy': [0.684981684981685, 0.7454212454212454], 'recall': [0.3320754716981132, 0.045283018867924525], 'precision': [0.34509803921568627, 0.32432432432432434], 'auc': [0.5650703839748122, 0.5075266363988957], 'f1': [0.3384615384615385, 0.07947019867549669]}\n",
      "Evaluation for precision: [0.34509803921568627, 0.32432432432432434]\n",
      "Testing threshold: 0.024\n",
      "Dropping variables: ['year', 'quarter']\n",
      "Remaining features after drop: 40\n",
      "Evaluation results at threshold 0.024: {'accuracy': [0.684981684981685, 0.7454212454212454], 'recall': [0.3320754716981132, 0.045283018867924525], 'precision': [0.34509803921568627, 0.32432432432432434], 'auc': [0.5650703839748122, 0.5075266363988957], 'f1': [0.3384615384615385, 0.07947019867549669]}\n",
      "Evaluation for precision: [0.34509803921568627, 0.32432432432432434]\n",
      "Testing threshold: 0.027\n",
      "Dropping variables: ['year', 'quarter']\n",
      "Remaining features after drop: 40\n",
      "Evaluation results at threshold 0.027: {'accuracy': [0.684981684981685, 0.7454212454212454], 'recall': [0.3320754716981132, 0.045283018867924525], 'precision': [0.34509803921568627, 0.32432432432432434], 'auc': [0.5650703839748122, 0.5075266363988957], 'f1': [0.3384615384615385, 0.07947019867549669]}\n",
      "Evaluation for precision: [0.34509803921568627, 0.32432432432432434]\n",
      "Testing threshold: 0.03\n",
      "Dropping variables: ['year', 'quarter']\n",
      "Remaining features after drop: 40\n",
      "Evaluation results at threshold 0.03: {'accuracy': [0.684981684981685, 0.7454212454212454], 'recall': [0.3320754716981132, 0.045283018867924525], 'precision': [0.34509803921568627, 0.32432432432432434], 'auc': [0.5650703839748122, 0.5075266363988957], 'f1': [0.3384615384615385, 0.07947019867549669]}\n",
      "Evaluation for precision: [0.34509803921568627, 0.32432432432432434]\n",
      "Testing threshold: 0.033\n",
      "Dropping variables: ['year', 'quarter']\n",
      "Remaining features after drop: 40\n",
      "Evaluation results at threshold 0.033: {'accuracy': [0.684981684981685, 0.7454212454212454], 'recall': [0.3320754716981132, 0.045283018867924525], 'precision': [0.34509803921568627, 0.32432432432432434], 'auc': [0.5650703839748122, 0.5075266363988957], 'f1': [0.3384615384615385, 0.07947019867549669]}\n",
      "Evaluation for precision: [0.34509803921568627, 0.32432432432432434]\n"
     ]
    },
    {
     "data": {
      "image/png": "[encoded data removed]",
      "text/plain": [
       "<Figure size 800x400 with 1 Axes>"
      ]
     },
     "metadata": {},
     "output_type": "display_data"
    }
   ],
   "source": [
    "# modified study_variance_for_feature_selection() in dslabs functions to keep minimum variables and print metrics (due to error)\n",
    "if evaluate==True:\n",
    "\n",
    "    eval_metric = \"precision\"\n",
    "    figure(figsize=(2 * HEIGHT, HEIGHT))\n",
    "    study_variance_for_feature_selection(\n",
    "        train_sample,\n",
    "        test_sample,\n",
    "        target=target,\n",
    "        max_threshold=0.05,\n",
    "        lag=0.005,\n",
    "        metric=eval_metric,\n",
    "        file_tag=file_tag,\n",
    "        min_features_to_keep = 10  # Minimum features safeguard\n",
    "\n",
    "    )\n",
    "    show()"
   ]
  },
  {
   "cell_type": "markdown",
   "metadata": {},
   "source": [
    "### recall"
   ]
  },
  {
   "cell_type": "code",
   "execution_count": 13,
   "metadata": {},
   "outputs": [
    {
     "name": "stdout",
     "output_type": "stream",
     "text": [
      "Testing threshold: 0.003\n",
      "Dropping variables: ['year', 'quarter']\n",
      "Remaining features after drop: 40\n",
      "Evaluation results at threshold 0.003: {'accuracy': [0.4661172161172161, 0.597985347985348], 'recall': [0.8037735849056604, 0.32075471698113206], 'precision': [0.2862903225806452, 0.24709302325581395], 'auc': [0.5808468891880176, 0.5037872738472771], 'f1': [0.4222001982160555, 0.2791461412151067]}\n",
      "Evaluation for recall: [0.8037735849056604, 0.32075471698113206]\n",
      "Testing threshold: 0.006\n",
      "Dropping variables: ['year', 'quarter']\n",
      "Remaining features after drop: 40\n",
      "Evaluation results at threshold 0.006: {'accuracy': [0.4661172161172161, 0.597985347985348], 'recall': [0.8037735849056604, 0.32075471698113206], 'precision': [0.2862903225806452, 0.24709302325581395], 'auc': [0.5808468891880176, 0.5037872738472771], 'f1': [0.4222001982160555, 0.2791461412151067]}\n",
      "Evaluation for recall: [0.8037735849056604, 0.32075471698113206]\n",
      "Testing threshold: 0.009\n",
      "Dropping variables: ['year', 'quarter']\n",
      "Remaining features after drop: 40\n",
      "Evaluation results at threshold 0.009: {'accuracy': [0.4661172161172161, 0.597985347985348], 'recall': [0.8037735849056604, 0.32075471698113206], 'precision': [0.2862903225806452, 0.24709302325581395], 'auc': [0.5808468891880176, 0.5037872738472771], 'f1': [0.4222001982160555, 0.2791461412151067]}\n",
      "Evaluation for recall: [0.8037735849056604, 0.32075471698113206]\n",
      "Testing threshold: 0.012\n",
      "Dropping variables: ['year', 'quarter']\n",
      "Remaining features after drop: 40\n",
      "Evaluation results at threshold 0.012: {'accuracy': [0.4661172161172161, 0.597985347985348], 'recall': [0.8037735849056604, 0.32075471698113206], 'precision': [0.2862903225806452, 0.24709302325581395], 'auc': [0.5808468891880176, 0.5037872738472771], 'f1': [0.4222001982160555, 0.2791461412151067]}\n",
      "Evaluation for recall: [0.8037735849056604, 0.32075471698113206]\n",
      "Testing threshold: 0.015\n",
      "Dropping variables: ['year', 'quarter']\n",
      "Remaining features after drop: 40\n",
      "Evaluation results at threshold 0.015: {'accuracy': [0.4661172161172161, 0.597985347985348], 'recall': [0.8037735849056604, 0.32075471698113206], 'precision': [0.2862903225806452, 0.24709302325581395], 'auc': [0.5808468891880176, 0.5037872738472771], 'f1': [0.4222001982160555, 0.2791461412151067]}\n",
      "Evaluation for recall: [0.8037735849056604, 0.32075471698113206]\n",
      "Testing threshold: 0.018\n",
      "Dropping variables: ['year', 'quarter']\n",
      "Remaining features after drop: 40\n",
      "Evaluation results at threshold 0.018: {'accuracy': [0.4661172161172161, 0.597985347985348], 'recall': [0.8037735849056604, 0.32075471698113206], 'precision': [0.2862903225806452, 0.24709302325581395], 'auc': [0.5808468891880176, 0.5037872738472771], 'f1': [0.4222001982160555, 0.2791461412151067]}\n",
      "Evaluation for recall: [0.8037735849056604, 0.32075471698113206]\n",
      "Testing threshold: 0.021\n",
      "Dropping variables: ['year', 'quarter']\n",
      "Remaining features after drop: 40\n",
      "Evaluation results at threshold 0.021: {'accuracy': [0.4661172161172161, 0.597985347985348], 'recall': [0.8037735849056604, 0.32075471698113206], 'precision': [0.2862903225806452, 0.24709302325581395], 'auc': [0.5808468891880176, 0.5037872738472771], 'f1': [0.4222001982160555, 0.2791461412151067]}\n",
      "Evaluation for recall: [0.8037735849056604, 0.32075471698113206]\n",
      "Testing threshold: 0.024\n",
      "Dropping variables: ['year', 'quarter']\n",
      "Remaining features after drop: 40\n",
      "Evaluation results at threshold 0.024: {'accuracy': [0.4661172161172161, 0.597985347985348], 'recall': [0.8037735849056604, 0.32075471698113206], 'precision': [0.2862903225806452, 0.24709302325581395], 'auc': [0.5808468891880176, 0.5037872738472771], 'f1': [0.4222001982160555, 0.2791461412151067]}\n",
      "Evaluation for recall: [0.8037735849056604, 0.32075471698113206]\n",
      "Testing threshold: 0.027\n",
      "Dropping variables: ['year', 'quarter']\n",
      "Remaining features after drop: 40\n",
      "Evaluation results at threshold 0.027: {'accuracy': [0.4661172161172161, 0.597985347985348], 'recall': [0.8037735849056604, 0.32075471698113206], 'precision': [0.2862903225806452, 0.24709302325581395], 'auc': [0.5808468891880176, 0.5037872738472771], 'f1': [0.4222001982160555, 0.2791461412151067]}\n",
      "Evaluation for recall: [0.8037735849056604, 0.32075471698113206]\n",
      "Testing threshold: 0.03\n",
      "Dropping variables: ['year', 'quarter']\n",
      "Remaining features after drop: 40\n",
      "Evaluation results at threshold 0.03: {'accuracy': [0.4661172161172161, 0.597985347985348], 'recall': [0.8037735849056604, 0.32075471698113206], 'precision': [0.2862903225806452, 0.24709302325581395], 'auc': [0.5808468891880176, 0.5037872738472771], 'f1': [0.4222001982160555, 0.2791461412151067]}\n",
      "Evaluation for recall: [0.8037735849056604, 0.32075471698113206]\n",
      "Testing threshold: 0.033\n",
      "Dropping variables: ['year', 'quarter']\n",
      "Remaining features after drop: 40\n",
      "Evaluation results at threshold 0.033: {'accuracy': [0.4661172161172161, 0.597985347985348], 'recall': [0.8037735849056604, 0.32075471698113206], 'precision': [0.2862903225806452, 0.24709302325581395], 'auc': [0.5808468891880176, 0.5037872738472771], 'f1': [0.4222001982160555, 0.2791461412151067]}\n",
      "Evaluation for recall: [0.8037735849056604, 0.32075471698113206]\n"
     ]
    },
    {
     "data": {
      "image/png": "[encoded data removed]",
      "text/plain": [
       "<Figure size 800x400 with 1 Axes>"
      ]
     },
     "metadata": {},
     "output_type": "display_data"
    }
   ],
   "source": [
    "# modified study_variance_for_feature_selection() in dslabs functions to keep minimum variables and print metrics (due to error)\n",
    "if evaluate==True:\n",
    "\n",
    "    eval_metric = \"recall\"\n",
    "    figure(figsize=(2 * HEIGHT, HEIGHT))\n",
    "    study_variance_for_feature_selection(\n",
    "        train_sample,\n",
    "        test_sample,\n",
    "        target=target,\n",
    "        max_threshold=0.033,\n",
    "        lag=0.003,\n",
    "        metric=eval_metric,\n",
    "        file_tag=file_tag,\n",
    "        min_features_to_keep = 10  # Minimum features safeguard\n",
    "\n",
    "    )\n",
    "    show()"
   ]
  },
  {
   "cell_type": "markdown",
   "metadata": {},
   "source": [
    "### accuracy study"
   ]
  },
  {
   "cell_type": "code",
   "execution_count": 14,
   "metadata": {},
   "outputs": [
    {
     "name": "stdout",
     "output_type": "stream",
     "text": [
      "Testing threshold: 0.003\n",
      "Dropping variables: ['year', 'quarter']\n",
      "Remaining features after drop: 40\n",
      "Evaluation results at threshold 0.003: {'accuracy': [0.684981684981685, 0.7454212454212454], 'recall': [0.3320754716981132, 0.045283018867924525], 'precision': [0.34509803921568627, 0.32432432432432434], 'auc': [0.5650703839748122, 0.5075266363988957], 'f1': [0.3384615384615385, 0.07947019867549669]}\n",
      "Evaluation for accuracy: [0.684981684981685, 0.7454212454212454]\n",
      "Testing threshold: 0.006\n",
      "Dropping variables: ['year', 'quarter']\n",
      "Remaining features after drop: 40\n",
      "Evaluation results at threshold 0.006: {'accuracy': [0.684981684981685, 0.7454212454212454], 'recall': [0.3320754716981132, 0.045283018867924525], 'precision': [0.34509803921568627, 0.32432432432432434], 'auc': [0.5650703839748122, 0.5075266363988957], 'f1': [0.3384615384615385, 0.07947019867549669]}\n",
      "Evaluation for accuracy: [0.684981684981685, 0.7454212454212454]\n",
      "Testing threshold: 0.009\n",
      "Dropping variables: ['year', 'quarter']\n",
      "Remaining features after drop: 40\n",
      "Evaluation results at threshold 0.009: {'accuracy': [0.684981684981685, 0.7454212454212454], 'recall': [0.3320754716981132, 0.045283018867924525], 'precision': [0.34509803921568627, 0.32432432432432434], 'auc': [0.5650703839748122, 0.5075266363988957], 'f1': [0.3384615384615385, 0.07947019867549669]}\n",
      "Evaluation for accuracy: [0.684981684981685, 0.7454212454212454]\n",
      "Testing threshold: 0.012\n",
      "Dropping variables: ['year', 'quarter']\n",
      "Remaining features after drop: 40\n",
      "Evaluation results at threshold 0.012: {'accuracy': [0.684981684981685, 0.7454212454212454], 'recall': [0.3320754716981132, 0.045283018867924525], 'precision': [0.34509803921568627, 0.32432432432432434], 'auc': [0.5650703839748122, 0.5075266363988957], 'f1': [0.3384615384615385, 0.07947019867549669]}\n",
      "Evaluation for accuracy: [0.684981684981685, 0.7454212454212454]\n",
      "Testing threshold: 0.015\n",
      "Dropping variables: ['year', 'quarter']\n",
      "Remaining features after drop: 40\n",
      "Evaluation results at threshold 0.015: {'accuracy': [0.684981684981685, 0.7454212454212454], 'recall': [0.3320754716981132, 0.045283018867924525], 'precision': [0.34509803921568627, 0.32432432432432434], 'auc': [0.5650703839748122, 0.5075266363988957], 'f1': [0.3384615384615385, 0.07947019867549669]}\n",
      "Evaluation for accuracy: [0.684981684981685, 0.7454212454212454]\n",
      "Testing threshold: 0.018\n",
      "Dropping variables: ['year', 'quarter']\n",
      "Remaining features after drop: 40\n",
      "Evaluation results at threshold 0.018: {'accuracy': [0.684981684981685, 0.7454212454212454], 'recall': [0.3320754716981132, 0.045283018867924525], 'precision': [0.34509803921568627, 0.32432432432432434], 'auc': [0.5650703839748122, 0.5075266363988957], 'f1': [0.3384615384615385, 0.07947019867549669]}\n",
      "Evaluation for accuracy: [0.684981684981685, 0.7454212454212454]\n",
      "Testing threshold: 0.021\n",
      "Dropping variables: ['year', 'quarter']\n",
      "Remaining features after drop: 40\n",
      "Evaluation results at threshold 0.021: {'accuracy': [0.684981684981685, 0.7454212454212454], 'recall': [0.3320754716981132, 0.045283018867924525], 'precision': [0.34509803921568627, 0.32432432432432434], 'auc': [0.5650703839748122, 0.5075266363988957], 'f1': [0.3384615384615385, 0.07947019867549669]}\n",
      "Evaluation for accuracy: [0.684981684981685, 0.7454212454212454]\n",
      "Testing threshold: 0.024\n",
      "Dropping variables: ['year', 'quarter']\n",
      "Remaining features after drop: 40\n",
      "Evaluation results at threshold 0.024: {'accuracy': [0.684981684981685, 0.7454212454212454], 'recall': [0.3320754716981132, 0.045283018867924525], 'precision': [0.34509803921568627, 0.32432432432432434], 'auc': [0.5650703839748122, 0.5075266363988957], 'f1': [0.3384615384615385, 0.07947019867549669]}\n",
      "Evaluation for accuracy: [0.684981684981685, 0.7454212454212454]\n",
      "Testing threshold: 0.027\n",
      "Dropping variables: ['year', 'quarter']\n",
      "Remaining features after drop: 40\n",
      "Evaluation results at threshold 0.027: {'accuracy': [0.684981684981685, 0.7454212454212454], 'recall': [0.3320754716981132, 0.045283018867924525], 'precision': [0.34509803921568627, 0.32432432432432434], 'auc': [0.5650703839748122, 0.5075266363988957], 'f1': [0.3384615384615385, 0.07947019867549669]}\n",
      "Evaluation for accuracy: [0.684981684981685, 0.7454212454212454]\n",
      "Testing threshold: 0.03\n",
      "Dropping variables: ['year', 'quarter']\n",
      "Remaining features after drop: 40\n",
      "Evaluation results at threshold 0.03: {'accuracy': [0.684981684981685, 0.7454212454212454], 'recall': [0.3320754716981132, 0.045283018867924525], 'precision': [0.34509803921568627, 0.32432432432432434], 'auc': [0.5650703839748122, 0.5075266363988957], 'f1': [0.3384615384615385, 0.07947019867549669]}\n",
      "Evaluation for accuracy: [0.684981684981685, 0.7454212454212454]\n",
      "Testing threshold: 0.033\n",
      "Dropping variables: ['year', 'quarter']\n",
      "Remaining features after drop: 40\n",
      "Evaluation results at threshold 0.033: {'accuracy': [0.684981684981685, 0.7454212454212454], 'recall': [0.3320754716981132, 0.045283018867924525], 'precision': [0.34509803921568627, 0.32432432432432434], 'auc': [0.5650703839748122, 0.5075266363988957], 'f1': [0.3384615384615385, 0.07947019867549669]}\n",
      "Evaluation for accuracy: [0.684981684981685, 0.7454212454212454]\n"
     ]
    },
    {
     "data": {
      "image/png": "[encoded data removed]",
      "text/plain": [
       "<Figure size 800x400 with 1 Axes>"
      ]
     },
     "metadata": {},
     "output_type": "display_data"
    }
   ],
   "source": [
    "if evaluate==True:\n",
    "\n",
    "    eval_metric = \"accuracy\"\n",
    "    figure(figsize=(2 * HEIGHT, HEIGHT))\n",
    "    study_variance_for_feature_selection(\n",
    "        train_sample,\n",
    "        test_sample,\n",
    "        target=target,\n",
    "        max_threshold=0.033,\n",
    "        lag=0.003,\n",
    "        metric=eval_metric,\n",
    "        file_tag=file_tag,\n",
    "        min_features_to_keep = 10  # Minimum features safeguard\n",
    "\n",
    "    )\n",
    "    show()"
   ]
  },
  {
   "cell_type": "markdown",
   "metadata": {},
   "source": [
    "## Feat 1 strategy Application"
   ]
  },
  {
   "cell_type": "code",
   "execution_count": 15,
   "metadata": {},
   "outputs": [
    {
     "name": "stdout",
     "output_type": "stream",
     "text": [
      "Variance threshold: 0.024, Remaining features: 42\n",
      "Variables to drop: []\n",
      "columns to drop: []\n",
      "Remaining columns: Index(['event_name', 'device_category', 'device_mobile_brand_name',\n",
      "       'device_mobile_model_name', 'device_operating_system',\n",
      "       'device_operating_system_version', 'device_language',\n",
      "       'device_web_info_browser', 'device_web_info_browser_version',\n",
      "       'geo_region', 'geo_city', 'traffic_source_medium',\n",
      "       'traffic_source_source', 'engagement_time_msec', 'month', 'day_of_year',\n",
      "       'week_number', 'page_path_level_1', 'page_path_level_2',\n",
      "       'page_path_level_3', 'path_length', 'time_of_day_sin',\n",
      "       'time_of_day_cos', 'local_hour_sin', 'local_hour_cos',\n",
      "       'local_minute_sin', 'local_minute_cos', 'hour_minute_fraction_sin',\n",
      "       'hour_minute_fraction_cos', 'day_sin', 'day_cos', 'day_of_week_nr_sin',\n",
      "       'day_of_week_nr_cos', 'week_of_month_nr_sin', 'week_of_month_nr_cos',\n",
      "       'geo_country', 'session_engaged', 'year', 'quarter', 'is_weekend',\n",
      "       'domain', 'returning_user'],\n",
      "      dtype='object')\n"
     ]
    },
    {
     "data": {
      "text/html": [
       "<div>\n",
       "<style scoped>\n",
       "    .dataframe tbody tr th:only-of-type {\n",
       "        vertical-align: middle;\n",
       "    }\n",
       "\n",
       "    .dataframe tbody tr th {\n",
       "        vertical-align: top;\n",
       "    }\n",
       "\n",
       "    .dataframe thead th {\n",
       "        text-align: right;\n",
       "    }\n",
       "</style>\n",
       "<table border=\"1\" class=\"dataframe\">\n",
       "  <thead>\n",
       "    <tr style=\"text-align: right;\">\n",
       "      <th></th>\n",
       "      <th>event_name</th>\n",
       "      <th>device_category</th>\n",
       "      <th>device_mobile_brand_name</th>\n",
       "      <th>device_mobile_model_name</th>\n",
       "      <th>device_operating_system</th>\n",
       "      <th>device_operating_system_version</th>\n",
       "      <th>device_language</th>\n",
       "      <th>device_web_info_browser</th>\n",
       "      <th>device_web_info_browser_version</th>\n",
       "      <th>geo_region</th>\n",
       "      <th>...</th>\n",
       "      <th>day_of_week_nr_cos</th>\n",
       "      <th>week_of_month_nr_sin</th>\n",
       "      <th>week_of_month_nr_cos</th>\n",
       "      <th>geo_country</th>\n",
       "      <th>session_engaged</th>\n",
       "      <th>year</th>\n",
       "      <th>quarter</th>\n",
       "      <th>is_weekend</th>\n",
       "      <th>domain</th>\n",
       "      <th>returning_user</th>\n",
       "    </tr>\n",
       "  </thead>\n",
       "  <tbody>\n",
       "    <tr>\n",
       "      <th>count</th>\n",
       "      <td>3.644270e+05</td>\n",
       "      <td>3.644270e+05</td>\n",
       "      <td>3.644270e+05</td>\n",
       "      <td>3.644270e+05</td>\n",
       "      <td>3.644270e+05</td>\n",
       "      <td>3.644270e+05</td>\n",
       "      <td>3.644270e+05</td>\n",
       "      <td>3.644270e+05</td>\n",
       "      <td>3.644270e+05</td>\n",
       "      <td>3.644270e+05</td>\n",
       "      <td>...</td>\n",
       "      <td>3.644270e+05</td>\n",
       "      <td>3.644270e+05</td>\n",
       "      <td>3.644270e+05</td>\n",
       "      <td>3.644270e+05</td>\n",
       "      <td>3.644270e+05</td>\n",
       "      <td>3.644270e+05</td>\n",
       "      <td>3.644270e+05</td>\n",
       "      <td>3.644270e+05</td>\n",
       "      <td>3.644270e+05</td>\n",
       "      <td>364427.000000</td>\n",
       "    </tr>\n",
       "    <tr>\n",
       "      <th>mean</th>\n",
       "      <td>4.258261e-17</td>\n",
       "      <td>-3.759124e-17</td>\n",
       "      <td>3.106347e-16</td>\n",
       "      <td>-3.210074e-16</td>\n",
       "      <td>1.132807e-16</td>\n",
       "      <td>3.395690e-16</td>\n",
       "      <td>-4.354189e-16</td>\n",
       "      <td>2.350623e-16</td>\n",
       "      <td>-3.199155e-16</td>\n",
       "      <td>2.041782e-16</td>\n",
       "      <td>...</td>\n",
       "      <td>1.060666e-16</td>\n",
       "      <td>1.260321e-16</td>\n",
       "      <td>8.485326e-17</td>\n",
       "      <td>2.804525e-16</td>\n",
       "      <td>-1.637793e-17</td>\n",
       "      <td>-6.863132e-16</td>\n",
       "      <td>-6.863132e-16</td>\n",
       "      <td>-7.237484e-17</td>\n",
       "      <td>-1.881122e-16</td>\n",
       "      <td>0.258603</td>\n",
       "    </tr>\n",
       "    <tr>\n",
       "      <th>std</th>\n",
       "      <td>1.000001e+00</td>\n",
       "      <td>1.000001e+00</td>\n",
       "      <td>1.000001e+00</td>\n",
       "      <td>1.000001e+00</td>\n",
       "      <td>1.000001e+00</td>\n",
       "      <td>1.000001e+00</td>\n",
       "      <td>1.000001e+00</td>\n",
       "      <td>1.000001e+00</td>\n",
       "      <td>1.000001e+00</td>\n",
       "      <td>1.000001e+00</td>\n",
       "      <td>...</td>\n",
       "      <td>1.000001e+00</td>\n",
       "      <td>1.000001e+00</td>\n",
       "      <td>1.000001e+00</td>\n",
       "      <td>1.000001e+00</td>\n",
       "      <td>1.000001e+00</td>\n",
       "      <td>1.000001e+00</td>\n",
       "      <td>1.000001e+00</td>\n",
       "      <td>1.000001e+00</td>\n",
       "      <td>1.000001e+00</td>\n",
       "      <td>0.437868</td>\n",
       "    </tr>\n",
       "    <tr>\n",
       "      <th>min</th>\n",
       "      <td>-3.112793e+00</td>\n",
       "      <td>-8.375008e-01</td>\n",
       "      <td>-3.554343e+00</td>\n",
       "      <td>-3.465924e+00</td>\n",
       "      <td>-2.338537e+00</td>\n",
       "      <td>-1.879641e+00</td>\n",
       "      <td>-4.399120e+00</td>\n",
       "      <td>-3.428295e+00</td>\n",
       "      <td>-2.442223e+00</td>\n",
       "      <td>-1.696409e+00</td>\n",
       "      <td>...</td>\n",
       "      <td>-1.457667e+00</td>\n",
       "      <td>-1.128193e+00</td>\n",
       "      <td>-1.160285e+00</td>\n",
       "      <td>-4.131487e-01</td>\n",
       "      <td>-3.258325e+00</td>\n",
       "      <td>-5.968412e-01</td>\n",
       "      <td>-5.968412e-01</td>\n",
       "      <td>-4.967290e-01</td>\n",
       "      <td>-5.248707e+00</td>\n",
       "      <td>0.000000</td>\n",
       "    </tr>\n",
       "    <tr>\n",
       "      <th>25%</th>\n",
       "      <td>-4.302245e-01</td>\n",
       "      <td>-8.375008e-01</td>\n",
       "      <td>-5.725151e-01</td>\n",
       "      <td>-8.045217e-01</td>\n",
       "      <td>-1.078404e+00</td>\n",
       "      <td>-1.054978e+00</td>\n",
       "      <td>-4.579492e-04</td>\n",
       "      <td>-3.009464e-01</td>\n",
       "      <td>-7.591802e-01</td>\n",
       "      <td>-7.998015e-01</td>\n",
       "      <td>...</td>\n",
       "      <td>-7.863611e-01</td>\n",
       "      <td>-1.128193e+00</td>\n",
       "      <td>-3.394597e-01</td>\n",
       "      <td>-4.131487e-01</td>\n",
       "      <td>3.069061e-01</td>\n",
       "      <td>-5.968412e-01</td>\n",
       "      <td>-5.968412e-01</td>\n",
       "      <td>-4.967290e-01</td>\n",
       "      <td>1.905231e-01</td>\n",
       "      <td>0.000000</td>\n",
       "    </tr>\n",
       "    <tr>\n",
       "      <th>50%</th>\n",
       "      <td>6.428031e-01</td>\n",
       "      <td>-8.375008e-01</td>\n",
       "      <td>1.729418e-01</td>\n",
       "      <td>-1.391712e-01</td>\n",
       "      <td>1.817289e-01</td>\n",
       "      <td>1.233586e-04</td>\n",
       "      <td>-4.579492e-04</td>\n",
       "      <td>-3.009464e-01</td>\n",
       "      <td>-1.981660e-01</td>\n",
       "      <td>3.584113e-01</td>\n",
       "      <td>...</td>\n",
       "      <td>5.562513e-01</td>\n",
       "      <td>4.847419e-02</td>\n",
       "      <td>-3.394597e-01</td>\n",
       "      <td>-4.131487e-01</td>\n",
       "      <td>3.069061e-01</td>\n",
       "      <td>-5.968412e-01</td>\n",
       "      <td>-5.968412e-01</td>\n",
       "      <td>-4.967290e-01</td>\n",
       "      <td>1.905231e-01</td>\n",
       "      <td>0.000000</td>\n",
       "    </tr>\n",
       "    <tr>\n",
       "      <th>75%</th>\n",
       "      <td>6.428031e-01</td>\n",
       "      <td>1.221126e+00</td>\n",
       "      <td>1.729418e-01</td>\n",
       "      <td>5.261793e-01</td>\n",
       "      <td>8.117952e-01</td>\n",
       "      <td>1.820165e-01</td>\n",
       "      <td>7.760339e-01</td>\n",
       "      <td>1.262728e+00</td>\n",
       "      <td>5.321872e-04</td>\n",
       "      <td>7.902583e-01</td>\n",
       "      <td>...</td>\n",
       "      <td>1.227557e+00</td>\n",
       "      <td>1.225141e+00</td>\n",
       "      <td>1.302192e+00</td>\n",
       "      <td>-4.131487e-01</td>\n",
       "      <td>3.069061e-01</td>\n",
       "      <td>1.675488e+00</td>\n",
       "      <td>1.675488e+00</td>\n",
       "      <td>-4.967290e-01</td>\n",
       "      <td>1.905231e-01</td>\n",
       "      <td>1.000000</td>\n",
       "    </tr>\n",
       "    <tr>\n",
       "      <th>max</th>\n",
       "      <td>3.325372e+00</td>\n",
       "      <td>1.221126e+00</td>\n",
       "      <td>3.154769e+00</td>\n",
       "      <td>2.854906e+00</td>\n",
       "      <td>1.441862e+00</td>\n",
       "      <td>2.243674e+00</td>\n",
       "      <td>7.760339e-01</td>\n",
       "      <td>2.826402e+00</td>\n",
       "      <td>3.728933e+00</td>\n",
       "      <td>1.987059e+00</td>\n",
       "      <td>...</td>\n",
       "      <td>1.227557e+00</td>\n",
       "      <td>1.225141e+00</td>\n",
       "      <td>2.123017e+00</td>\n",
       "      <td>2.420436e+00</td>\n",
       "      <td>3.069061e-01</td>\n",
       "      <td>1.675488e+00</td>\n",
       "      <td>1.675488e+00</td>\n",
       "      <td>2.013170e+00</td>\n",
       "      <td>1.905231e-01</td>\n",
       "      <td>1.000000</td>\n",
       "    </tr>\n",
       "  </tbody>\n",
       "</table>\n",
       "<p>8 rows × 42 columns</p>\n",
       "</div>"
      ],
      "text/plain": [
       "         event_name  device_category  device_mobile_brand_name  \\\n",
       "count  3.644270e+05     3.644270e+05              3.644270e+05   \n",
       "mean   4.258261e-17    -3.759124e-17              3.106347e-16   \n",
       "std    1.000001e+00     1.000001e+00              1.000001e+00   \n",
       "min   -3.112793e+00    -8.375008e-01             -3.554343e+00   \n",
       "25%   -4.302245e-01    -8.375008e-01             -5.725151e-01   \n",
       "50%    6.428031e-01    -8.375008e-01              1.729418e-01   \n",
       "75%    6.428031e-01     1.221126e+00              1.729418e-01   \n",
       "max    3.325372e+00     1.221126e+00              3.154769e+00   \n",
       "\n",
       "       device_mobile_model_name  device_operating_system  \\\n",
       "count              3.644270e+05             3.644270e+05   \n",
       "mean              -3.210074e-16             1.132807e-16   \n",
       "std                1.000001e+00             1.000001e+00   \n",
       "min               -3.465924e+00            -2.338537e+00   \n",
       "25%               -8.045217e-01            -1.078404e+00   \n",
       "50%               -1.391712e-01             1.817289e-01   \n",
       "75%                5.261793e-01             8.117952e-01   \n",
       "max                2.854906e+00             1.441862e+00   \n",
       "\n",
       "       device_operating_system_version  device_language  \\\n",
       "count                     3.644270e+05     3.644270e+05   \n",
       "mean                      3.395690e-16    -4.354189e-16   \n",
       "std                       1.000001e+00     1.000001e+00   \n",
       "min                      -1.879641e+00    -4.399120e+00   \n",
       "25%                      -1.054978e+00    -4.579492e-04   \n",
       "50%                       1.233586e-04    -4.579492e-04   \n",
       "75%                       1.820165e-01     7.760339e-01   \n",
       "max                       2.243674e+00     7.760339e-01   \n",
       "\n",
       "       device_web_info_browser  device_web_info_browser_version    geo_region  \\\n",
       "count             3.644270e+05                     3.644270e+05  3.644270e+05   \n",
       "mean              2.350623e-16                    -3.199155e-16  2.041782e-16   \n",
       "std               1.000001e+00                     1.000001e+00  1.000001e+00   \n",
       "min              -3.428295e+00                    -2.442223e+00 -1.696409e+00   \n",
       "25%              -3.009464e-01                    -7.591802e-01 -7.998015e-01   \n",
       "50%              -3.009464e-01                    -1.981660e-01  3.584113e-01   \n",
       "75%               1.262728e+00                     5.321872e-04  7.902583e-01   \n",
       "max               2.826402e+00                     3.728933e+00  1.987059e+00   \n",
       "\n",
       "       ...  day_of_week_nr_cos  week_of_month_nr_sin  week_of_month_nr_cos  \\\n",
       "count  ...        3.644270e+05          3.644270e+05          3.644270e+05   \n",
       "mean   ...        1.060666e-16          1.260321e-16          8.485326e-17   \n",
       "std    ...        1.000001e+00          1.000001e+00          1.000001e+00   \n",
       "min    ...       -1.457667e+00         -1.128193e+00         -1.160285e+00   \n",
       "25%    ...       -7.863611e-01         -1.128193e+00         -3.394597e-01   \n",
       "50%    ...        5.562513e-01          4.847419e-02         -3.394597e-01   \n",
       "75%    ...        1.227557e+00          1.225141e+00          1.302192e+00   \n",
       "max    ...        1.227557e+00          1.225141e+00          2.123017e+00   \n",
       "\n",
       "        geo_country  session_engaged          year       quarter  \\\n",
       "count  3.644270e+05     3.644270e+05  3.644270e+05  3.644270e+05   \n",
       "mean   2.804525e-16    -1.637793e-17 -6.863132e-16 -6.863132e-16   \n",
       "std    1.000001e+00     1.000001e+00  1.000001e+00  1.000001e+00   \n",
       "min   -4.131487e-01    -3.258325e+00 -5.968412e-01 -5.968412e-01   \n",
       "25%   -4.131487e-01     3.069061e-01 -5.968412e-01 -5.968412e-01   \n",
       "50%   -4.131487e-01     3.069061e-01 -5.968412e-01 -5.968412e-01   \n",
       "75%   -4.131487e-01     3.069061e-01  1.675488e+00  1.675488e+00   \n",
       "max    2.420436e+00     3.069061e-01  1.675488e+00  1.675488e+00   \n",
       "\n",
       "         is_weekend        domain  returning_user  \n",
       "count  3.644270e+05  3.644270e+05   364427.000000  \n",
       "mean  -7.237484e-17 -1.881122e-16        0.258603  \n",
       "std    1.000001e+00  1.000001e+00        0.437868  \n",
       "min   -4.967290e-01 -5.248707e+00        0.000000  \n",
       "25%   -4.967290e-01  1.905231e-01        0.000000  \n",
       "50%   -4.967290e-01  1.905231e-01        0.000000  \n",
       "75%   -4.967290e-01  1.905231e-01        1.000000  \n",
       "max    2.013170e+00  1.905231e-01        1.000000  \n",
       "\n",
       "[8 rows x 42 columns]"
      ]
     },
     "execution_count": 15,
     "metadata": {},
     "output_type": "execute_result"
    }
   ],
   "source": [
    "from pandas import DataFrame, Index\n",
    "\n",
    "def apply_strategy_1(df: DataFrame) -> DataFrame:\n",
    "\n",
    "    # this script is available in data_functions originally from DSLabs site in Feature Selection chapter\n",
    "\n",
    "    df_copy=df.copy()\n",
    "    \n",
    "    vars2drop: list[str] = select_low_variance_variables(df_copy, max_threshold=0.024, min_features_to_keep=10, target=target)\n",
    "    \n",
    "    print(\"columns to drop:\", vars2drop)\n",
    "\n",
    "    df_vars_drop = df_copy.drop(columns=vars2drop, errors='ignore')\n",
    "    \n",
    "    print(\"Remaining columns:\", df_vars_drop.columns)\n",
    "\n",
    "    return df_vars_drop\n",
    "\n",
    "\n",
    "data_1=apply_strategy_1(data)\n",
    "\n",
    "data_1.describe()\n"
   ]
  },
  {
   "cell_type": "markdown",
   "metadata": {},
   "source": [
    "## Feat 1 train/test split "
   ]
  },
  {
   "cell_type": "code",
   "execution_count": 16,
   "metadata": {},
   "outputs": [
    {
     "name": "stdout",
     "output_type": "stream",
     "text": [
      "Labels=[0.0, 1.0]\n"
     ]
    },
    {
     "data": {
      "image/png": "[encoded data removed]",
      "text/plain": [
       "<Figure size 600x400 with 1 Axes>"
      ]
     },
     "metadata": {},
     "output_type": "display_data"
    }
   ],
   "source": [
    "if evaluate==True:\n",
    "\n",
    "    from pandas import concat\n",
    "    from matplotlib.pyplot import figure, show\n",
    "    from sklearn.model_selection import train_test_split\n",
    "    from dslabs_functions import plot_multibar_chart\n",
    "\n",
    "\n",
    "    # Call the function to split the data\n",
    "    from numpy import array, ndarray\n",
    "\n",
    "\n",
    "    y_1, X_1, labels, values = define_target_and_prepare_data(data_1, target)\n",
    "\n",
    "\n",
    "\n",
    "    train_1, test_1 = split_data_save_csv(pd.DataFrame(X_1, columns=data_1.columns), y_1, data_columns=data_1.columns, target_column=target)\n",
    "\n",
    "    # Distribution check\n",
    "    values[\"Train\"] = [\n",
    "        len(train_1[train_1[target] == 0]),\n",
    "        len(train_1[train_1[target] == 1]),\n",
    "    ]\n",
    "    values[\"Test\"] = [\n",
    "        len(test_1[test_1[target] == 0]),\n",
    "        len(test_1[test_1[target] == 1]),\n",
    "    ]\n",
    "\n",
    "    # Visualize the distribution\n",
    "    figure(figsize=(6, 4))\n",
    "    plot_multibar_chart(labels, values, title=\"Data distribution per dataset\")\n",
    "    show()"
   ]
  },
  {
   "cell_type": "markdown",
   "metadata": {},
   "source": [
    "## Feat 1 evaluate"
   ]
  },
  {
   "cell_type": "code",
   "execution_count": 17,
   "metadata": {},
   "outputs": [
    {
     "data": {
      "image/png": "[encoded data removed]",
      "text/plain": [
       "<Figure size 640x480 with 1 Axes>"
      ]
     },
     "metadata": {},
     "output_type": "display_data"
    }
   ],
   "source": [
    "if evaluate==True:\n",
    "\n",
    "    # evaluate_approach is in data_functions originally from DSLABS/ Data Prep / Methodology\n",
    "    # removed Multinomial from run_NB function because dataset has negative values\n",
    "\n",
    "    figure()\n",
    "    eval_1: dict[str, list] = evaluate_approach(train_1, test_1, target='returning_user', metric=\"recall\")\n",
    "    plot_multibar_chart(\n",
    "        [\"NB\", \"KNN\"], eval_1, title=f\"{file_tag}_approach_1_evaluation\", percentage=True\n",
    "    )\n",
    "    savefig(f\"images/{file_tag}_approach_1_evaluation.png\")\n",
    "    show()"
   ]
  },
  {
   "cell_type": "markdown",
   "metadata": {},
   "source": [
    "# Feat 2 - Dropping Redundant Variables\n"
   ]
  },
  {
   "cell_type": "markdown",
   "metadata": {},
   "source": [
    "## Feat 2 - Study redundant variables and threshold"
   ]
  },
  {
   "cell_type": "code",
   "execution_count": 18,
   "metadata": {},
   "outputs": [
    {
     "data": {
      "text/plain": [
       "Index(['event_name', 'device_category', 'device_mobile_brand_name',\n",
       "       'device_mobile_model_name', 'device_operating_system',\n",
       "       'device_operating_system_version', 'device_language',\n",
       "       'device_web_info_browser', 'device_web_info_browser_version',\n",
       "       'geo_region', 'geo_city', 'traffic_source_medium',\n",
       "       'traffic_source_source', 'engagement_time_msec', 'month', 'day_of_year',\n",
       "       'week_number', 'page_path_level_1', 'page_path_level_2',\n",
       "       'page_path_level_3', 'path_length', 'time_of_day_sin',\n",
       "       'time_of_day_cos', 'local_hour_sin', 'local_hour_cos',\n",
       "       'local_minute_sin', 'local_minute_cos', 'hour_minute_fraction_sin',\n",
       "       'hour_minute_fraction_cos', 'day_sin', 'day_cos', 'day_of_week_nr_sin',\n",
       "       'day_of_week_nr_cos', 'week_of_month_nr_sin', 'week_of_month_nr_cos',\n",
       "       'geo_country', 'session_engaged', 'year', 'quarter', 'is_weekend',\n",
       "       'domain', 'returning_user'],\n",
       "      dtype='object')"
      ]
     },
     "execution_count": 18,
     "metadata": {},
     "output_type": "execute_result"
    }
   ],
   "source": [
    "test.columns"
   ]
  },
  {
   "cell_type": "markdown",
   "metadata": {},
   "source": [
    "### precision"
   ]
  },
  {
   "cell_type": "code",
   "execution_count": null,
   "metadata": {},
   "outputs": [],
   "source": [
    "if evaluate==True:\n",
    "\n",
    "    # modified study_variance_for_feature_selection() in dslabs functions to keep minimum variables and print metrics (due to error)\n",
    "\n",
    "\n",
    "    eval_metric = \"precision\"\n",
    "    figure(figsize=(2 * HEIGHT, HEIGHT))\n",
    "    study_redundancy_for_feature_selection(\n",
    "        train_sample,\n",
    "        test_sample,\n",
    "        target=target,\n",
    "        min_threshold = 0.001,\n",
    "        lag = 0.2,\n",
    "        metric=eval_metric,\n",
    "        file_tag=file_tag,\n",
    "    )\n",
    "    show()"
   ]
  },
  {
   "cell_type": "markdown",
   "metadata": {},
   "source": [
    "### recall"
   ]
  },
  {
   "cell_type": "code",
   "execution_count": 19,
   "metadata": {},
   "outputs": [
    {
     "name": "stdout",
     "output_type": "stream",
     "text": [
      "Columns in the train dataset: ['event_name', 'device_category', 'device_mobile_brand_name', 'device_mobile_model_name', 'device_operating_system', 'device_operating_system_version', 'device_language', 'device_web_info_browser', 'device_web_info_browser_version', 'geo_region', 'geo_city', 'traffic_source_medium', 'traffic_source_source', 'engagement_time_msec', 'month', 'day_of_year', 'week_number', 'page_path_level_1', 'page_path_level_2', 'page_path_level_3', 'path_length', 'time_of_day_sin', 'time_of_day_cos', 'local_hour_sin', 'local_hour_cos', 'local_minute_sin', 'local_minute_cos', 'hour_minute_fraction_sin', 'hour_minute_fraction_cos', 'day_sin', 'day_cos', 'day_of_week_nr_sin', 'day_of_week_nr_cos', 'week_of_month_nr_sin', 'week_of_month_nr_cos', 'geo_country', 'session_engaged', 'year', 'quarter', 'is_weekend', 'domain']\n",
      "Variables considered for correlation: ['event_name', 'device_category', 'device_mobile_brand_name', 'device_mobile_model_name', 'device_operating_system', 'device_operating_system_version', 'device_language', 'device_web_info_browser', 'device_web_info_browser_version', 'geo_region', 'geo_city', 'traffic_source_medium', 'traffic_source_source', 'engagement_time_msec', 'month', 'day_of_year', 'week_number', 'page_path_level_1', 'page_path_level_2', 'page_path_level_3', 'path_length', 'time_of_day_sin', 'time_of_day_cos', 'local_hour_sin', 'local_hour_cos', 'local_minute_sin', 'local_minute_cos', 'hour_minute_fraction_sin', 'hour_minute_fraction_cos', 'day_sin', 'day_cos', 'day_of_week_nr_sin', 'day_of_week_nr_cos', 'week_of_month_nr_sin', 'week_of_month_nr_cos', 'geo_country', 'session_engaged', 'year', 'quarter', 'is_weekend', 'domain']\n",
      "Variables to drop at threshold 0.001: ['device_category', 'device_mobile_brand_name', 'device_mobile_model_name', 'device_operating_system', 'device_operating_system_version', 'device_language', 'device_web_info_browser', 'device_web_info_browser_version', 'geo_region', 'geo_city', 'traffic_source_medium', 'traffic_source_source', 'engagement_time_msec', 'month', 'day_of_year', 'week_number', 'page_path_level_1', 'page_path_level_2', 'page_path_level_3', 'path_length', 'time_of_day_sin', 'time_of_day_cos', 'local_hour_sin', 'local_hour_cos', 'local_minute_sin', 'local_minute_cos', 'hour_minute_fraction_sin', 'hour_minute_fraction_cos', 'day_sin', 'day_cos', 'day_of_week_nr_sin', 'day_of_week_nr_cos', 'week_of_month_nr_sin', 'week_of_month_nr_cos', 'geo_country', 'session_engaged', 'is_weekend', 'domain', 'event_name']\n",
      "Evaluation failed or returned empty at threshold 0.001.\n",
      "Variables to drop at threshold 0.201: ['page_path_level_1', 'path_length', 'session_engaged', 'device_mobile_brand_name', 'device_mobile_model_name', 'device_operating_system', 'device_operating_system_version', 'device_web_info_browser_version', 'device_category', 'device_web_info_browser', 'day_of_year', 'week_number', 'day_sin', 'week_of_month_nr_sin', 'week_of_month_nr_cos', 'month', 'day_cos', 'event_name', 'page_path_level_2', 'page_path_level_3', 'domain', 'local_hour_sin', 'local_hour_cos', 'hour_minute_fraction_sin', 'hour_minute_fraction_cos', 'time_of_day_sin', 'time_of_day_cos', 'day_of_week_nr_sin', 'day_of_week_nr_cos']\n",
      "Evaluation results at threshold 0.201: {'accuracy': [0.3131868131868132, 0.6666666666666666], 'recall': [0.8905660377358491, 0.2981132075471698], 'precision': [0.24660397074190177, 0.30739299610894943], 'auc': [0.5093700805366066, 0.5414387077639113], 'f1': [0.3862520458265139, 0.30268199233716475]}\n",
      "Evaluation for recall: [0.8905660377358491, 0.2981132075471698]\n",
      "Variables to drop at threshold 0.401: ['device_mobile_brand_name', 'device_mobile_model_name', 'device_operating_system', 'device_operating_system_version', 'device_category', 'day_of_year', 'week_number', 'week_of_month_nr_sin', 'month', 'page_path_level_2', 'page_path_level_3', 'path_length', 'page_path_level_1', 'local_hour_sin', 'local_hour_cos', 'hour_minute_fraction_sin', 'hour_minute_fraction_cos', 'time_of_day_sin', 'time_of_day_cos', 'day_sin']\n",
      "Evaluation results at threshold 0.401: {'accuracy': [0.3836996336996337, 0.652014652014652], 'recall': [0.8679245283018868, 0.33584905660377357], 'precision': [0.26497695852534564, 0.3037542662116041], 'auc': [0.5482307042960461, 0.5445871643357441], 'f1': [0.4060017652250662, 0.31899641577060933]}\n",
      "Evaluation for recall: [0.8679245283018868, 0.33584905660377357]\n",
      "Variables to drop at threshold 0.601: ['device_mobile_model_name', 'device_operating_system', 'device_category', 'device_mobile_brand_name', 'device_operating_system_version', 'day_of_year', 'week_number', 'month', 'page_path_level_2', 'path_length', 'page_path_level_1', 'page_path_level_3', 'local_hour_sin', 'hour_minute_fraction_sin', 'local_hour_cos', 'hour_minute_fraction_cos', 'time_of_day_sin', 'time_of_day_cos']\n",
      "Evaluation results at threshold 0.601: {'accuracy': [0.3882783882783883, 0.6446886446886447], 'recall': [0.8716981132075472, 0.3471698113207547], 'precision': [0.26705202312138726, 0.2996742671009772], 'auc': [0.552535876434487, 0.5435969975588053], 'f1': [0.4088495575221239, 0.32167832167832167]}\n",
      "Evaluation for recall: [0.8716981132075472, 0.3471698113207547]\n",
      "Variables to drop at threshold 0.801: ['day_of_year', 'week_number', 'month']\n",
      "Evaluation results at threshold 0.801: {'accuracy': [0.3956043956043956, 0.6263736263736264], 'recall': [0.8566037735849057, 0.27547169811320754], 'precision': [0.2673733804475854, 0.25259515570934254], 'auc': [0.5522438456799982, 0.5071433460336291], 'f1': [0.40754039497307004, 0.26353790613718414]}\n",
      "Evaluation for recall: [0.8566037735849057, 0.27547169811320754]\n",
      "Variables to drop at threshold 1.001: []\n",
      "Evaluation results at threshold 1.001: {'accuracy': [0.34065934065934067, 0.597985347985348], 'recall': [0.8943396226415095, 0.32075471698113206], 'precision': [0.25511302475780406, 0.24709302325581395], 'auc': [0.5287901257101139, 0.5037872738472771], 'f1': [0.3969849246231156, 0.2791461412151067]}\n",
      "Evaluation for recall: [0.8943396226415095, 0.32075471698113206]\n"
     ]
    },
    {
     "data": {
      "image/png": "[encoded data removed]",
      "text/plain": [
       "<Figure size 800x400 with 1 Axes>"
      ]
     },
     "metadata": {},
     "output_type": "display_data"
    }
   ],
   "source": [
    "if evaluate==True:\n",
    "\n",
    "    # modified study_variance_for_feature_selection() in dslabs functions to keep minimum variables and print metrics (due to error)\n",
    "\n",
    "\n",
    "    eval_metric = \"recall\"\n",
    "    figure(figsize=(2 * HEIGHT, HEIGHT))\n",
    "    study_redundancy_for_feature_selection(\n",
    "        train_sample,\n",
    "        test_sample,\n",
    "        target=target,\n",
    "        min_threshold = 0.001,\n",
    "        lag = 0.2,\n",
    "        metric=eval_metric,\n",
    "        file_tag=file_tag,\n",
    "    )\n",
    "    show()"
   ]
  },
  {
   "cell_type": "markdown",
   "metadata": {},
   "source": [
    "### accuracy"
   ]
  },
  {
   "cell_type": "code",
   "execution_count": 20,
   "metadata": {},
   "outputs": [
    {
     "name": "stdout",
     "output_type": "stream",
     "text": [
      "Columns in the train dataset: ['event_name', 'device_category', 'device_mobile_brand_name', 'device_mobile_model_name', 'device_operating_system', 'device_operating_system_version', 'device_language', 'device_web_info_browser', 'device_web_info_browser_version', 'geo_region', 'geo_city', 'traffic_source_medium', 'traffic_source_source', 'engagement_time_msec', 'month', 'day_of_year', 'week_number', 'page_path_level_1', 'page_path_level_2', 'page_path_level_3', 'path_length', 'time_of_day_sin', 'time_of_day_cos', 'local_hour_sin', 'local_hour_cos', 'local_minute_sin', 'local_minute_cos', 'hour_minute_fraction_sin', 'hour_minute_fraction_cos', 'day_sin', 'day_cos', 'day_of_week_nr_sin', 'day_of_week_nr_cos', 'week_of_month_nr_sin', 'week_of_month_nr_cos', 'geo_country', 'session_engaged', 'year', 'quarter', 'is_weekend', 'domain']\n",
      "Variables considered for correlation: ['event_name', 'device_category', 'device_mobile_brand_name', 'device_mobile_model_name', 'device_operating_system', 'device_operating_system_version', 'device_language', 'device_web_info_browser', 'device_web_info_browser_version', 'geo_region', 'geo_city', 'traffic_source_medium', 'traffic_source_source', 'engagement_time_msec', 'month', 'day_of_year', 'week_number', 'page_path_level_1', 'page_path_level_2', 'page_path_level_3', 'path_length', 'time_of_day_sin', 'time_of_day_cos', 'local_hour_sin', 'local_hour_cos', 'local_minute_sin', 'local_minute_cos', 'hour_minute_fraction_sin', 'hour_minute_fraction_cos', 'day_sin', 'day_cos', 'day_of_week_nr_sin', 'day_of_week_nr_cos', 'week_of_month_nr_sin', 'week_of_month_nr_cos', 'geo_country', 'session_engaged', 'year', 'quarter', 'is_weekend', 'domain']\n",
      "Variables to drop at threshold 0.001: ['device_category', 'device_mobile_brand_name', 'device_mobile_model_name', 'device_operating_system', 'device_operating_system_version', 'device_language', 'device_web_info_browser', 'device_web_info_browser_version', 'geo_region', 'geo_city', 'traffic_source_medium', 'traffic_source_source', 'engagement_time_msec', 'month', 'day_of_year', 'week_number', 'page_path_level_1', 'page_path_level_2', 'page_path_level_3', 'path_length', 'time_of_day_sin', 'time_of_day_cos', 'local_hour_sin', 'local_hour_cos', 'local_minute_sin', 'local_minute_cos', 'hour_minute_fraction_sin', 'hour_minute_fraction_cos', 'day_sin', 'day_cos', 'day_of_week_nr_sin', 'day_of_week_nr_cos', 'week_of_month_nr_sin', 'week_of_month_nr_cos', 'geo_country', 'session_engaged', 'is_weekend', 'domain', 'event_name']\n",
      "Evaluation results at threshold 0.001: {'accuracy': [0.6868131868131868, 0.7573260073260073], 'recall': [0.10943396226415095, 0.0], 'precision': [0.21481481481481482, 0.0], 'auc': [0.49062991946339346, 0.5], 'f1': [0.145, 0.0]}\n",
      "Evaluation for accuracy: [0.6868131868131868, 0.7573260073260073]\n",
      "Variables to drop at threshold 0.201: ['page_path_level_1', 'path_length', 'session_engaged', 'device_mobile_brand_name', 'device_mobile_model_name', 'device_operating_system', 'device_operating_system_version', 'device_web_info_browser_version', 'device_category', 'device_web_info_browser', 'day_of_year', 'week_number', 'day_sin', 'week_of_month_nr_sin', 'week_of_month_nr_cos', 'month', 'day_cos', 'event_name', 'page_path_level_2', 'page_path_level_3', 'domain', 'local_hour_sin', 'local_hour_cos', 'hour_minute_fraction_sin', 'hour_minute_fraction_cos', 'time_of_day_sin', 'time_of_day_cos', 'day_of_week_nr_sin', 'day_of_week_nr_cos']\n",
      "Evaluation results at threshold 0.201: {'accuracy': [0.7307692307692307, 0.7582417582417582], 'recall': [0.09811320754716982, 0.045283018867924525], 'precision': [0.32098765432098764, 0.5217391304347826], 'auc': [0.5158038830964387, 0.515990965298533], 'f1': [0.15028901734104047, 0.08333333333333333]}\n",
      "Evaluation for accuracy: [0.7307692307692307, 0.7582417582417582]\n",
      "Variables to drop at threshold 0.401: ['device_mobile_brand_name', 'device_mobile_model_name', 'device_operating_system', 'device_operating_system_version', 'device_category', 'day_of_year', 'week_number', 'week_of_month_nr_sin', 'month', 'page_path_level_2', 'page_path_level_3', 'path_length', 'page_path_level_1', 'local_hour_sin', 'local_hour_cos', 'hour_minute_fraction_sin', 'hour_minute_fraction_cos', 'time_of_day_sin', 'time_of_day_cos', 'day_sin']\n",
      "Evaluation results at threshold 0.401: {'accuracy': [0.5723443223443223, 0.7509157509157509], 'recall': [0.5773584905660377, 0.09056603773584905], 'precision': [0.30118110236220474, 0.43636363636363634], 'auc': [0.5740480481850745, 0.5265405763044421], 'f1': [0.3958602846054334, 0.15]}\n",
      "Evaluation for accuracy: [0.5723443223443223, 0.7509157509157509]\n",
      "Variables to drop at threshold 0.601: ['device_mobile_model_name', 'device_operating_system', 'device_category', 'device_mobile_brand_name', 'device_operating_system_version', 'day_of_year', 'week_number', 'month', 'page_path_level_2', 'path_length', 'page_path_level_1', 'page_path_level_3', 'local_hour_sin', 'hour_minute_fraction_sin', 'local_hour_cos', 'hour_minute_fraction_cos', 'time_of_day_sin', 'time_of_day_cos']\n",
      "Evaluation results at threshold 0.601: {'accuracy': [0.576007326007326, 0.7472527472527473], 'recall': [0.5584905660377358, 0.033962264150943396], 'precision': [0.29959514170040485, 0.3103448275862069], 'auc': [0.5700554402135475, 0.5048892336474184], 'f1': [0.38998682476943347, 0.061224489795918366]}\n",
      "Evaluation for accuracy: [0.576007326007326, 0.7472527472527473]\n",
      "Variables to drop at threshold 0.801: ['day_of_year', 'week_number', 'month']\n",
      "Evaluation results at threshold 0.801: {'accuracy': [0.5851648351648352, 0.7527472527472527], 'recall': [0.5735849056603773, 0.033962264150943396], 'precision': [0.3089430894308943, 0.391304347826087], 'auc': [0.5812301795532842, 0.5085168031758345], 'f1': [0.40158520475561427, 0.0625]}\n",
      "Evaluation for accuracy: [0.5851648351648352, 0.7527472527472527]\n",
      "Variables to drop at threshold 1.001: []\n",
      "Evaluation results at threshold 1.001: {'accuracy': [0.4661172161172161, 0.7454212454212454], 'recall': [0.8037735849056604, 0.045283018867924525], 'precision': [0.2862903225806452, 0.32432432432432434], 'auc': [0.5808468891880176, 0.5075266363988957], 'f1': [0.4222001982160555, 0.07947019867549669]}\n",
      "Evaluation for accuracy: [0.4661172161172161, 0.7454212454212454]\n"
     ]
    },
    {
     "data": {
      "image/png": "[encoded data removed]",
      "text/plain": [
       "<Figure size 800x400 with 1 Axes>"
      ]
     },
     "metadata": {},
     "output_type": "display_data"
    }
   ],
   "source": [
    "if evaluate==True:\n",
    "\n",
    "    # modified study_variance_for_feature_selection() in dslabs functions to keep minimum variables and print metrics (due to error)\n",
    "\n",
    "\n",
    "    eval_metric = \"accuracy\"\n",
    "    figure(figsize=(2 * HEIGHT, HEIGHT))\n",
    "    study_redundancy_for_feature_selection(\n",
    "        train_sample,\n",
    "        test_sample,\n",
    "        target=target,\n",
    "        min_threshold = 0.001,\n",
    "        lag = 0.2,\n",
    "        metric=eval_metric,\n",
    "        file_tag=file_tag,\n",
    "    )\n",
    "    show()"
   ]
  },
  {
   "cell_type": "markdown",
   "metadata": {},
   "source": [
    "## Feat 2 strategy aplication"
   ]
  },
  {
   "cell_type": "code",
   "execution_count": 21,
   "metadata": {},
   "outputs": [
    {
     "name": "stdout",
     "output_type": "stream",
     "text": [
      "columns to drop: ['device_mobile_brand_name', 'device_mobile_model_name', 'device_operating_system', 'device_operating_system_version', 'device_category', 'day_of_year', 'week_number', 'year', 'quarter', 'month', 'page_path_level_2', 'page_path_level_3', 'path_length', 'page_path_level_1', 'local_hour_sin', 'local_hour_cos', 'hour_minute_fraction_sin', 'hour_minute_fraction_cos', 'time_of_day_sin', 'time_of_day_cos']\n",
      "Remaining columns: Index(['event_name', 'device_language', 'device_web_info_browser',\n",
      "       'device_web_info_browser_version', 'geo_region', 'geo_city',\n",
      "       'traffic_source_medium', 'traffic_source_source',\n",
      "       'engagement_time_msec', 'local_minute_sin', 'local_minute_cos',\n",
      "       'day_sin', 'day_cos', 'day_of_week_nr_sin', 'day_of_week_nr_cos',\n",
      "       'week_of_month_nr_sin', 'week_of_month_nr_cos', 'geo_country',\n",
      "       'session_engaged', 'is_weekend', 'domain', 'returning_user'],\n",
      "      dtype='object')\n"
     ]
    }
   ],
   "source": [
    "from pandas import DataFrame, Series\n",
    "from sklearn.preprocessing import MinMaxScaler\n",
    "\n",
    "def apply_strategy_2(df):\n",
    "\n",
    "    df_copy=df.copy()\n",
    "\n",
    "    vars2drop = select_redundant_variables(df_copy, min_threshold=0.4, target=target)\n",
    "    print(\"columns to drop:\", vars2drop)\n",
    "\n",
    "    df_vars_drop = df_copy.drop(columns=vars2drop, errors='ignore')\n",
    "    \n",
    "    print(\"Remaining columns:\", df_vars_drop.columns)\n",
    "\n",
    "\n",
    "    return df_vars_drop\n",
    "\n",
    "\n",
    "data_2=data.copy()\n",
    "\n",
    "data_2=apply_strategy_2(data_2)\n"
   ]
  },
  {
   "cell_type": "markdown",
   "metadata": {},
   "source": [
    "## Feat 2 train/test split "
   ]
  },
  {
   "cell_type": "code",
   "execution_count": 22,
   "metadata": {},
   "outputs": [
    {
     "name": "stdout",
     "output_type": "stream",
     "text": [
      "Labels=[0.0, 1.0]\n"
     ]
    },
    {
     "data": {
      "image/png": "[encoded data removed]",
      "text/plain": [
       "<Figure size 600x400 with 1 Axes>"
      ]
     },
     "metadata": {},
     "output_type": "display_data"
    }
   ],
   "source": [
    "if evaluate ==True:\n",
    "    from pandas import concat\n",
    "    from matplotlib.pyplot import figure, show\n",
    "    from sklearn.model_selection import train_test_split\n",
    "    from dslabs_functions import plot_multibar_chart\n",
    "\n",
    "    # train/test split from DSLABS Classification/Evaluation Chapter\n",
    "    # created split_data_save_csv on data_functions\n",
    "\n",
    "    # Call the function to split the data\n",
    "\n",
    "    y_2, X_2, labels, class_counts = define_target_and_prepare_data(data_2, target=target)\n",
    "\n",
    "\n",
    "    train_2, test_2 = split_data_save_csv(pd.DataFrame(X_2, columns=data_2.columns), y_2, data_columns=data_2.columns, target_column=target)\n",
    "\n",
    "\n",
    "    values[\"Train\"] = [\n",
    "        len(train_2[train_2[target] == 0]),\n",
    "        len(train_2[train_2[target] == 1]),\n",
    "    ]\n",
    "    values[\"Test\"] = [\n",
    "        len(test_2[test_2[target] == 0]),\n",
    "        len(test_2[test_2[target] == 1]),\n",
    "    ]\n",
    "\n",
    "    figure(figsize=(6, 4))\n",
    "    plot_multibar_chart(labels, values, title=\"Data distribution per dataset\")"
   ]
  },
  {
   "cell_type": "markdown",
   "metadata": {},
   "source": [
    "## Feat 2 evaluate"
   ]
  },
  {
   "cell_type": "code",
   "execution_count": 23,
   "metadata": {},
   "outputs": [
    {
     "data": {
      "image/png": "[encoded data removed]",
      "text/plain": [
       "<Figure size 640x480 with 1 Axes>"
      ]
     },
     "metadata": {},
     "output_type": "display_data"
    }
   ],
   "source": [
    "if evaluate == True:\n",
    "    figure()\n",
    "    eval_2: dict[str, list] = evaluate_approach(train_2, test_2, target='returning_user', metric=\"recall\")\n",
    "    plot_multibar_chart(\n",
    "        [\"NB\", \"KNN\"], eval_2, title=f\"{file_tag}_approach_2_evaluation\", percentage=True\n",
    "    )\n",
    "    savefig(f\"images/{file_tag}_approach_2_evaluation.png\")\n",
    "    show()"
   ]
  },
  {
   "cell_type": "markdown",
   "metadata": {},
   "source": [
    "# Approach uplift comparison"
   ]
  },
  {
   "cell_type": "markdown",
   "metadata": {},
   "source": [
    "## uplift df"
   ]
  },
  {
   "cell_type": "code",
   "execution_count": 24,
   "metadata": {},
   "outputs": [
    {
     "data": {
      "text/html": [
       "<div>\n",
       "<style scoped>\n",
       "    .dataframe tbody tr th:only-of-type {\n",
       "        vertical-align: middle;\n",
       "    }\n",
       "\n",
       "    .dataframe tbody tr th {\n",
       "        vertical-align: top;\n",
       "    }\n",
       "\n",
       "    .dataframe thead tr th {\n",
       "        text-align: left;\n",
       "    }\n",
       "</style>\n",
       "<table border=\"1\" class=\"dataframe\">\n",
       "  <thead>\n",
       "    <tr>\n",
       "      <th></th>\n",
       "      <th colspan=\"5\" halign=\"left\">Approach 1</th>\n",
       "      <th colspan=\"5\" halign=\"left\">Approach 2</th>\n",
       "      <th colspan=\"5\" halign=\"left\">Uplift</th>\n",
       "    </tr>\n",
       "    <tr>\n",
       "      <th></th>\n",
       "      <th>accuracy</th>\n",
       "      <th>recall</th>\n",
       "      <th>precision</th>\n",
       "      <th>auc</th>\n",
       "      <th>f1</th>\n",
       "      <th>accuracy</th>\n",
       "      <th>recall</th>\n",
       "      <th>precision</th>\n",
       "      <th>auc</th>\n",
       "      <th>f1</th>\n",
       "      <th>accuracy</th>\n",
       "      <th>recall</th>\n",
       "      <th>precision</th>\n",
       "      <th>auc</th>\n",
       "      <th>f1</th>\n",
       "    </tr>\n",
       "  </thead>\n",
       "  <tbody>\n",
       "    <tr>\n",
       "      <th>Naive Bayes</th>\n",
       "      <td>0.329784</td>\n",
       "      <td>0.875708</td>\n",
       "      <td>0.247735</td>\n",
       "      <td>0.516175</td>\n",
       "      <td>0.386212</td>\n",
       "      <td>0.601057</td>\n",
       "      <td>0.491244</td>\n",
       "      <td>0.299664</td>\n",
       "      <td>0.563565</td>\n",
       "      <td>0.372251</td>\n",
       "      <td>0.271273</td>\n",
       "      <td>-0.384463</td>\n",
       "      <td>0.051929</td>\n",
       "      <td>0.047389</td>\n",
       "      <td>-0.013961</td>\n",
       "    </tr>\n",
       "    <tr>\n",
       "      <th>KNN</th>\n",
       "      <td>0.650651</td>\n",
       "      <td>0.275138</td>\n",
       "      <td>0.274825</td>\n",
       "      <td>0.522442</td>\n",
       "      <td>0.274981</td>\n",
       "      <td>0.661846</td>\n",
       "      <td>0.274112</td>\n",
       "      <td>0.287754</td>\n",
       "      <td>0.529465</td>\n",
       "      <td>0.280767</td>\n",
       "      <td>0.011196</td>\n",
       "      <td>-0.001026</td>\n",
       "      <td>0.012929</td>\n",
       "      <td>0.007023</td>\n",
       "      <td>0.005786</td>\n",
       "    </tr>\n",
       "  </tbody>\n",
       "</table>\n",
       "</div>"
      ],
      "text/plain": [
       "            Approach 1                                         Approach 2  \\\n",
       "              accuracy    recall precision       auc        f1   accuracy   \n",
       "Naive Bayes   0.329784  0.875708  0.247735  0.516175  0.386212   0.601057   \n",
       "KNN           0.650651  0.275138  0.274825  0.522442  0.274981   0.661846   \n",
       "\n",
       "                                                       Uplift            \\\n",
       "               recall precision       auc        f1  accuracy    recall   \n",
       "Naive Bayes  0.491244  0.299664  0.563565  0.372251  0.271273 -0.384463   \n",
       "KNN          0.274112  0.287754  0.529465  0.280767  0.011196 -0.001026   \n",
       "\n",
       "                                           \n",
       "            precision       auc        f1  \n",
       "Naive Bayes  0.051929  0.047389 -0.013961  \n",
       "KNN          0.012929  0.007023  0.005786  "
      ]
     },
     "metadata": {},
     "output_type": "display_data"
    }
   ],
   "source": [
    "if evaluate == True:\n",
    "    \n",
    "    algorithms = ['Naive Bayes', 'KNN']\n",
    "\n",
    "    # Create DataFrames for eval_1 and eval_2\n",
    "    df_eval_1 = pd.DataFrame(eval_1, index=algorithms)\n",
    "    df_eval_2 = pd.DataFrame(eval_2, index=algorithms)\n",
    "\n",
    "    # Calculate uplift\n",
    "    df_uplift = df_eval_2 - df_eval_1\n",
    "\n",
    "\n",
    "\n",
    "    # Combine everything into one DataFrame (without misalignment issues)\n",
    "    comparison_df = pd.concat([df_eval_1, df_eval_2, df_uplift], axis=1)\n",
    "    comparison_df.columns = pd.MultiIndex.from_product([['Approach 1', 'Approach 2', 'Uplift'], eval_1.keys()])\n",
    "\n",
    "\n",
    "\n",
    "    # Display the DataFrame\n",
    "    display(comparison_df)"
   ]
  },
  {
   "cell_type": "markdown",
   "metadata": {},
   "source": [
    "# Analysis\n",
    "\n",
    "- No improvement (actuall loss)\n"
   ]
  },
  {
   "cell_type": "markdown",
   "metadata": {},
   "source": [
    "# save to csv"
   ]
  },
  {
   "cell_type": "code",
   "execution_count": 27,
   "metadata": {},
   "outputs": [
    {
     "name": "stdout",
     "output_type": "stream",
     "text": [
      "Index(['event_name', 'device_category', 'device_mobile_brand_name',\n",
      "       'device_mobile_model_name', 'device_operating_system',\n",
      "       'device_operating_system_version', 'device_language',\n",
      "       'device_web_info_browser', 'device_web_info_browser_version',\n",
      "       'geo_region', 'geo_city', 'traffic_source_medium',\n",
      "       'traffic_source_source', 'engagement_time_msec', 'month', 'day_of_year',\n",
      "       'week_number', 'page_path_level_1', 'page_path_level_2',\n",
      "       'page_path_level_3', 'path_length', 'time_of_day_sin',\n",
      "       'time_of_day_cos', 'local_hour_sin', 'local_hour_cos',\n",
      "       'local_minute_sin', 'local_minute_cos', 'hour_minute_fraction_sin',\n",
      "       'hour_minute_fraction_cos', 'day_sin', 'day_cos', 'day_of_week_nr_sin',\n",
      "       'day_of_week_nr_cos', 'week_of_month_nr_sin', 'week_of_month_nr_cos',\n",
      "       'geo_country', 'session_engaged', 'year', 'quarter', 'is_weekend',\n",
      "       'domain', 'returning_user'],\n",
      "      dtype='object')\n"
     ]
    }
   ],
   "source": [
    "if test_data==False:\n",
    "    \n",
    "    \n",
    "    data_save=data.copy()\n",
    "\n",
    "    # data_save=apply_strategy_1(data_save)\n",
    "        \n",
    "    data_save.to_csv(f\"data/df_merch_6_feat_eng_input.csv\", index=False)\n",
    "\n",
    "\n",
    "    print(data_save.columns)\n",
    "\n"
   ]
  },
  {
   "cell_type": "markdown",
   "metadata": {},
   "source": [
    "## train test csv"
   ]
  },
  {
   "cell_type": "code",
   "execution_count": 28,
   "metadata": {},
   "outputs": [
    {
     "name": "stdout",
     "output_type": "stream",
     "text": [
      "Index(['event_name', 'device_category', 'device_mobile_brand_name',\n",
      "       'device_mobile_model_name', 'device_operating_system',\n",
      "       'device_operating_system_version', 'device_language',\n",
      "       'device_web_info_browser', 'device_web_info_browser_version',\n",
      "       'geo_region', 'geo_city', 'traffic_source_medium',\n",
      "       'traffic_source_source', 'engagement_time_msec', 'month', 'day_of_year',\n",
      "       'week_number', 'page_path_level_1', 'page_path_level_2',\n",
      "       'page_path_level_3', 'path_length', 'time_of_day_sin',\n",
      "       'time_of_day_cos', 'local_hour_sin', 'local_hour_cos',\n",
      "       'local_minute_sin', 'local_minute_cos', 'hour_minute_fraction_sin',\n",
      "       'hour_minute_fraction_cos', 'day_sin', 'day_cos', 'day_of_week_nr_sin',\n",
      "       'day_of_week_nr_cos', 'week_of_month_nr_sin', 'week_of_month_nr_cos',\n",
      "       'geo_country', 'session_engaged', 'year', 'quarter', 'is_weekend',\n",
      "       'domain', 'returning_user'],\n",
      "      dtype='object')\n",
      "Index(['event_name', 'device_category', 'device_mobile_brand_name',\n",
      "       'device_mobile_model_name', 'device_operating_system',\n",
      "       'device_operating_system_version', 'device_language',\n",
      "       'device_web_info_browser', 'device_web_info_browser_version',\n",
      "       'geo_region', 'geo_city', 'traffic_source_medium',\n",
      "       'traffic_source_source', 'engagement_time_msec', 'month', 'day_of_year',\n",
      "       'week_number', 'page_path_level_1', 'page_path_level_2',\n",
      "       'page_path_level_3', 'path_length', 'time_of_day_sin',\n",
      "       'time_of_day_cos', 'local_hour_sin', 'local_hour_cos',\n",
      "       'local_minute_sin', 'local_minute_cos', 'hour_minute_fraction_sin',\n",
      "       'hour_minute_fraction_cos', 'day_sin', 'day_cos', 'day_of_week_nr_sin',\n",
      "       'day_of_week_nr_cos', 'week_of_month_nr_sin', 'week_of_month_nr_cos',\n",
      "       'geo_country', 'session_engaged', 'year', 'quarter', 'is_weekend',\n",
      "       'domain', 'returning_user'],\n",
      "      dtype='object')\n"
     ]
    }
   ],
   "source": [
    "if test_data==False:\n",
    "    \n",
    "\n",
    "    # data_save_copy=data_save.copy() \n",
    "    # y, X, labels, class_counts = define_target_and_prepare_data(data_save_copy, target=target)\n",
    "    # train, test = split_data_save_csv(pd.DataFrame(X, columns=data_save_copy.columns), y, data_columns=data_save_copy.columns, target_column=target)  \n",
    "\n",
    "    \n",
    "    train,test=simple_split_df(data_save,sort_by='day_of_year')\n",
    "    \n",
    "    train.to_csv(f\"data/df_merch_6_feat_eng_input_train.csv\", index=False)\n",
    "    print(train.columns)\n",
    "    \n",
    "    test.to_csv(f\"data/df_merch_6_feat_eng_input_test.csv\", index=False)\n",
    "    print(test.columns)"
   ]
  }
 ],
 "metadata": {
  "kernelspec": {
   "display_name": "base",
   "language": "python",
   "name": "python3"
  },
  "language_info": {
   "codemirror_mode": {
    "name": "ipython",
    "version": 3
   },
   "file_extension": ".py",
   "mimetype": "text/x-python",
   "name": "python",
   "nbconvert_exporter": "python",
   "pygments_lexer": "ipython3",
   "version": "3.12.4"
  }
 },
 "nbformat": 4,
 "nbformat_minor": 2
}
