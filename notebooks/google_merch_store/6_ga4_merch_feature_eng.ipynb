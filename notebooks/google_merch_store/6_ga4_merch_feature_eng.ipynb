{
 "cells": [
  {
   "cell_type": "markdown",
   "metadata": {},
   "source": [
    "# File and libraries"
   ]
  },
  {
   "cell_type": "code",
   "execution_count": 21,
   "metadata": {},
   "outputs": [],
   "source": [
    "import pandas as pd\n",
    "import numpy as np\n",
    "\n",
    "\n",
    "filepath=r'data/df_merch_5_scaler_input'\n",
    "\n",
    "\n",
    "file_tag = \"df_merch_feat_eng_input\""
   ]
  },
  {
   "cell_type": "markdown",
   "metadata": {},
   "source": [
    "# DSLabs functions"
   ]
  },
  {
   "cell_type": "code",
   "execution_count": 22,
   "metadata": {},
   "outputs": [],
   "source": [
    "%run \"scripts/dslabs_functions.py\"\n"
   ]
  },
  {
   "cell_type": "markdown",
   "metadata": {},
   "source": [
    "# Data functions"
   ]
  },
  {
   "cell_type": "code",
   "execution_count": 23,
   "metadata": {},
   "outputs": [
    {
     "name": "stdout",
     "output_type": "stream",
     "text": [
      "data_functions lodaded\n"
     ]
    }
   ],
   "source": [
    "%run \"scripts/data_functions.py\"\n"
   ]
  },
  {
   "cell_type": "markdown",
   "metadata": {},
   "source": [
    "# Load"
   ]
  },
  {
   "cell_type": "code",
   "execution_count": 24,
   "metadata": {},
   "outputs": [
    {
     "name": "stdout",
     "output_type": "stream",
     "text": [
      "<class 'pandas.core.frame.DataFrame'>\n",
      "Index: 743351 entries, 0 to 743350\n",
      "Data columns (total 42 columns):\n",
      " #   Column                           Non-Null Count   Dtype  \n",
      "---  ------                           --------------   -----  \n",
      " 0   event_name                       743351 non-null  float64\n",
      " 1   device_category                  743351 non-null  float64\n",
      " 2   device_mobile_brand_name         743351 non-null  float64\n",
      " 3   device_mobile_model_name         743351 non-null  float64\n",
      " 4   device_operating_system          743351 non-null  float64\n",
      " 5   device_operating_system_version  743351 non-null  float64\n",
      " 6   device_language                  743351 non-null  float64\n",
      " 7   device_web_info_browser          743351 non-null  float64\n",
      " 8   device_web_info_browser_version  743351 non-null  float64\n",
      " 9   geo_region                       743351 non-null  float64\n",
      " 10  geo_city                         743351 non-null  float64\n",
      " 11  traffic_source_medium            743351 non-null  float64\n",
      " 12  traffic_source_source            743351 non-null  float64\n",
      " 13  engagement_time_msec             743351 non-null  float64\n",
      " 14  month                            743351 non-null  float64\n",
      " 15  day_of_year                      743351 non-null  float64\n",
      " 16  week_number                      743351 non-null  float64\n",
      " 17  page_path_level_1                743351 non-null  float64\n",
      " 18  page_path_level_2                743351 non-null  float64\n",
      " 19  page_path_level_3                743351 non-null  float64\n",
      " 20  path_length                      743351 non-null  float64\n",
      " 21  time_of_day_sin                  743351 non-null  float64\n",
      " 22  time_of_day_cos                  743351 non-null  float64\n",
      " 23  local_hour_sin                   743351 non-null  float64\n",
      " 24  local_hour_cos                   743351 non-null  float64\n",
      " 25  local_minute_sin                 743351 non-null  float64\n",
      " 26  local_minute_cos                 743351 non-null  float64\n",
      " 27  hour_minute_fraction_sin         743351 non-null  float64\n",
      " 28  hour_minute_fraction_cos         743351 non-null  float64\n",
      " 29  day_sin                          743351 non-null  float64\n",
      " 30  day_cos                          743351 non-null  float64\n",
      " 31  day_of_week_nr_sin               743351 non-null  float64\n",
      " 32  day_of_week_nr_cos               743351 non-null  float64\n",
      " 33  week_of_month_nr_sin             743351 non-null  float64\n",
      " 34  week_of_month_nr_cos             743351 non-null  float64\n",
      " 35  geo_country                      743351 non-null  float64\n",
      " 36  session_engaged                  743351 non-null  float64\n",
      " 37  year                             743351 non-null  float64\n",
      " 38  quarter                          743351 non-null  float64\n",
      " 39  is_weekend                       743351 non-null  float64\n",
      " 40  domain                           743351 non-null  float64\n",
      " 41  returning_user                   743351 non-null  float64\n",
      "dtypes: float64(42)\n",
      "memory usage: 243.9 MB\n"
     ]
    }
   ],
   "source": [
    "# test_data=True\n",
    "test_data=False\n",
    "\n",
    "# use to evaluate strategies. otherwise False to just transform data \n",
    "# evaluate=True\n",
    "evaluate=False\n",
    "\n",
    "\n",
    "if test_data==True:\n",
    "\n",
    "    data=pd.read_csv(f\"{filepath}.csv\")\n",
    "    \n",
    "    test= pd.read_csv(f\"{filepath}_test.csv\")\n",
    "    train= pd.read_csv(f\"{filepath}_train.csv\")\n",
    "\n",
    "    # sample\n",
    "    data=data.sample(frac=0.05, replace=False)\n",
    "    test=test.sample(frac=0.05, replace=False)\n",
    "    train=train.sample(frac=0.05, replace=False)\n",
    "    \n",
    "    # create sample df version of test/train for variance studies\n",
    "    test_sample= test\n",
    "    train_sample= train\n",
    "    \n",
    "else:\n",
    "    data=pd.read_csv(f\"{filepath}.csv\")\n",
    "\n",
    "    \n",
    "    test= pd.read_csv(f\"{filepath}_test.csv\")\n",
    "    train= pd.read_csv(f\"{filepath}_train.csv\")\n",
    "\n",
    "    # create sample for variance studies\n",
    "    test_sample= test.sample(frac=0.05, replace=False)\n",
    "    train_sample= train.sample(frac=0.5, replace=False)\n",
    "\n",
    "\n",
    "\n",
    " \n",
    "target='returning_user'\n",
    "vars: list[str] = data.columns.to_list()\n",
    "\n",
    "\n",
    "# ensure sorting by day_of_year for correct splitting \n",
    "# \"When in the presence of temporal data, data partition shall use older data to train and newer to test, in order to not use future data to classify past data. In any other case, partition shall be random.\"\n",
    "data.sort_values(by='day_of_year', inplace=True)\n",
    "test.sort_values(by='day_of_year', inplace=True)\n",
    "train.sort_values(by='day_of_year', inplace=True)\n",
    "\n",
    "\n",
    "\n",
    "data.info()"
   ]
  },
  {
   "cell_type": "code",
   "execution_count": 25,
   "metadata": {},
   "outputs": [
    {
     "name": "stdout",
     "output_type": "stream",
     "text": [
      "Train shape: (520345, 42)\n",
      "Test shape: (223006, 42)\n"
     ]
    }
   ],
   "source": [
    "print(f\"Train shape: {train.shape}\")\n",
    "print(f\"Test shape: {test.shape}\")"
   ]
  },
  {
   "cell_type": "markdown",
   "metadata": {},
   "source": [
    "# Feat 1 - Dropping Low Variance Variables"
   ]
  },
  {
   "cell_type": "markdown",
   "metadata": {},
   "source": [
    "## Feat 1 - Study Low Variance Variables and Threshold\n",
    "\n",
    "using sampled dataframe due to heavy processing"
   ]
  },
  {
   "cell_type": "markdown",
   "metadata": {},
   "source": [
    "### recall"
   ]
  },
  {
   "cell_type": "code",
   "execution_count": 26,
   "metadata": {},
   "outputs": [],
   "source": [
    "# modified study_variance_for_feature_selection() in dslabs functions to keep minimum variables and print metrics (due to error)\n",
    "if evaluate==True:\n",
    "\n",
    "    eval_metric = \"recall\"\n",
    "    figure(figsize=(2 * HEIGHT, HEIGHT))\n",
    "    study_variance_for_feature_selection(\n",
    "        train_sample,\n",
    "        test_sample,\n",
    "        target=target,\n",
    "        max_threshold=0.033,\n",
    "        lag=0.003,\n",
    "        metric=eval_metric,\n",
    "        file_tag=file_tag,\n",
    "        min_features_to_keep = 10  # Minimum features safeguard\n",
    "\n",
    "    )\n",
    "    show()"
   ]
  },
  {
   "cell_type": "markdown",
   "metadata": {},
   "source": [
    "### accuracy study"
   ]
  },
  {
   "cell_type": "code",
   "execution_count": 27,
   "metadata": {},
   "outputs": [],
   "source": [
    "if evaluate==True:\n",
    "\n",
    "    eval_metric = \"accuracy\"\n",
    "    figure(figsize=(2 * HEIGHT, HEIGHT))\n",
    "    study_variance_for_feature_selection(\n",
    "        train_sample,\n",
    "        test_sample,\n",
    "        target=target,\n",
    "        max_threshold=0.033,\n",
    "        lag=0.003,\n",
    "        metric=eval_metric,\n",
    "        file_tag=file_tag,\n",
    "        min_features_to_keep = 10  # Minimum features safeguard\n",
    "\n",
    "    )\n",
    "    show()"
   ]
  },
  {
   "cell_type": "markdown",
   "metadata": {},
   "source": [
    "## Feat 1 strategy Application"
   ]
  },
  {
   "cell_type": "code",
   "execution_count": 28,
   "metadata": {},
   "outputs": [
    {
     "name": "stdout",
     "output_type": "stream",
     "text": [
      "Variance threshold: 0.024, Remaining features: 40\n",
      "Variables to drop: ['event_name', 'device_mobile_brand_name']\n",
      "columns to drop: ['event_name', 'device_mobile_brand_name']\n",
      "Remaining columns: Index(['device_category', 'device_mobile_model_name',\n",
      "       'device_operating_system', 'device_operating_system_version',\n",
      "       'device_language', 'device_web_info_browser',\n",
      "       'device_web_info_browser_version', 'geo_region', 'geo_city',\n",
      "       'traffic_source_medium', 'traffic_source_source',\n",
      "       'engagement_time_msec', 'month', 'day_of_year', 'week_number',\n",
      "       'page_path_level_1', 'page_path_level_2', 'page_path_level_3',\n",
      "       'path_length', 'time_of_day_sin', 'time_of_day_cos', 'local_hour_sin',\n",
      "       'local_hour_cos', 'local_minute_sin', 'local_minute_cos',\n",
      "       'hour_minute_fraction_sin', 'hour_minute_fraction_cos', 'day_sin',\n",
      "       'day_cos', 'day_of_week_nr_sin', 'day_of_week_nr_cos',\n",
      "       'week_of_month_nr_sin', 'week_of_month_nr_cos', 'geo_country',\n",
      "       'session_engaged', 'year', 'quarter', 'is_weekend', 'domain',\n",
      "       'returning_user'],\n",
      "      dtype='object')\n"
     ]
    },
    {
     "data": {
      "text/html": [
       "<div>\n",
       "<style scoped>\n",
       "    .dataframe tbody tr th:only-of-type {\n",
       "        vertical-align: middle;\n",
       "    }\n",
       "\n",
       "    .dataframe tbody tr th {\n",
       "        vertical-align: top;\n",
       "    }\n",
       "\n",
       "    .dataframe thead th {\n",
       "        text-align: right;\n",
       "    }\n",
       "</style>\n",
       "<table border=\"1\" class=\"dataframe\">\n",
       "  <thead>\n",
       "    <tr style=\"text-align: right;\">\n",
       "      <th></th>\n",
       "      <th>device_category</th>\n",
       "      <th>device_mobile_model_name</th>\n",
       "      <th>device_operating_system</th>\n",
       "      <th>device_operating_system_version</th>\n",
       "      <th>device_language</th>\n",
       "      <th>device_web_info_browser</th>\n",
       "      <th>device_web_info_browser_version</th>\n",
       "      <th>geo_region</th>\n",
       "      <th>geo_city</th>\n",
       "      <th>traffic_source_medium</th>\n",
       "      <th>...</th>\n",
       "      <th>day_of_week_nr_cos</th>\n",
       "      <th>week_of_month_nr_sin</th>\n",
       "      <th>week_of_month_nr_cos</th>\n",
       "      <th>geo_country</th>\n",
       "      <th>session_engaged</th>\n",
       "      <th>year</th>\n",
       "      <th>quarter</th>\n",
       "      <th>is_weekend</th>\n",
       "      <th>domain</th>\n",
       "      <th>returning_user</th>\n",
       "    </tr>\n",
       "  </thead>\n",
       "  <tbody>\n",
       "    <tr>\n",
       "      <th>count</th>\n",
       "      <td>743351.000000</td>\n",
       "      <td>743351.000000</td>\n",
       "      <td>743351.000000</td>\n",
       "      <td>743351.000000</td>\n",
       "      <td>743351.000000</td>\n",
       "      <td>743351.000000</td>\n",
       "      <td>743351.000000</td>\n",
       "      <td>743351.000000</td>\n",
       "      <td>743351.000000</td>\n",
       "      <td>743351.000000</td>\n",
       "      <td>...</td>\n",
       "      <td>743351.000000</td>\n",
       "      <td>743351.000000</td>\n",
       "      <td>743351.000000</td>\n",
       "      <td>743351.000000</td>\n",
       "      <td>743351.000000</td>\n",
       "      <td>743351.000000</td>\n",
       "      <td>743351.000000</td>\n",
       "      <td>743351.000000</td>\n",
       "      <td>743351.000000</td>\n",
       "      <td>743351.000000</td>\n",
       "    </tr>\n",
       "    <tr>\n",
       "      <th>mean</th>\n",
       "      <td>0.405756</td>\n",
       "      <td>0.548265</td>\n",
       "      <td>0.618932</td>\n",
       "      <td>0.456617</td>\n",
       "      <td>0.849813</td>\n",
       "      <td>0.547918</td>\n",
       "      <td>0.395678</td>\n",
       "      <td>0.461666</td>\n",
       "      <td>0.414000</td>\n",
       "      <td>0.532653</td>\n",
       "      <td>...</td>\n",
       "      <td>0.542604</td>\n",
       "      <td>0.479427</td>\n",
       "      <td>0.353487</td>\n",
       "      <td>0.145463</td>\n",
       "      <td>0.915526</td>\n",
       "      <td>0.261844</td>\n",
       "      <td>0.261844</td>\n",
       "      <td>0.198207</td>\n",
       "      <td>0.965614</td>\n",
       "      <td>0.258154</td>\n",
       "    </tr>\n",
       "    <tr>\n",
       "      <th>std</th>\n",
       "      <td>0.485571</td>\n",
       "      <td>0.158116</td>\n",
       "      <td>0.264085</td>\n",
       "      <td>0.242295</td>\n",
       "      <td>0.193411</td>\n",
       "      <td>0.160032</td>\n",
       "      <td>0.161979</td>\n",
       "      <td>0.271285</td>\n",
       "      <td>0.227126</td>\n",
       "      <td>0.288275</td>\n",
       "      <td>...</td>\n",
       "      <td>0.372604</td>\n",
       "      <td>0.425035</td>\n",
       "      <td>0.304509</td>\n",
       "      <td>0.352567</td>\n",
       "      <td>0.278098</td>\n",
       "      <td>0.439638</td>\n",
       "      <td>0.439638</td>\n",
       "      <td>0.398649</td>\n",
       "      <td>0.182219</td>\n",
       "      <td>0.437619</td>\n",
       "    </tr>\n",
       "    <tr>\n",
       "      <th>min</th>\n",
       "      <td>0.000000</td>\n",
       "      <td>0.000000</td>\n",
       "      <td>0.000000</td>\n",
       "      <td>0.000000</td>\n",
       "      <td>0.000000</td>\n",
       "      <td>0.000000</td>\n",
       "      <td>0.000000</td>\n",
       "      <td>0.000000</td>\n",
       "      <td>0.000000</td>\n",
       "      <td>0.000000</td>\n",
       "      <td>...</td>\n",
       "      <td>0.000000</td>\n",
       "      <td>0.000000</td>\n",
       "      <td>0.000000</td>\n",
       "      <td>0.000000</td>\n",
       "      <td>0.000000</td>\n",
       "      <td>0.000000</td>\n",
       "      <td>0.000000</td>\n",
       "      <td>0.000000</td>\n",
       "      <td>0.000000</td>\n",
       "      <td>0.000000</td>\n",
       "    </tr>\n",
       "    <tr>\n",
       "      <th>25%</th>\n",
       "      <td>0.000000</td>\n",
       "      <td>0.421053</td>\n",
       "      <td>0.333333</td>\n",
       "      <td>0.200000</td>\n",
       "      <td>0.849813</td>\n",
       "      <td>0.500000</td>\n",
       "      <td>0.272727</td>\n",
       "      <td>0.243414</td>\n",
       "      <td>0.189702</td>\n",
       "      <td>0.250000</td>\n",
       "      <td>...</td>\n",
       "      <td>0.250000</td>\n",
       "      <td>0.000000</td>\n",
       "      <td>0.250000</td>\n",
       "      <td>0.000000</td>\n",
       "      <td>1.000000</td>\n",
       "      <td>0.000000</td>\n",
       "      <td>0.000000</td>\n",
       "      <td>0.000000</td>\n",
       "      <td>1.000000</td>\n",
       "      <td>0.000000</td>\n",
       "    </tr>\n",
       "    <tr>\n",
       "      <th>50%</th>\n",
       "      <td>0.000000</td>\n",
       "      <td>0.526316</td>\n",
       "      <td>0.666667</td>\n",
       "      <td>0.456617</td>\n",
       "      <td>0.849813</td>\n",
       "      <td>0.500000</td>\n",
       "      <td>0.363636</td>\n",
       "      <td>0.557849</td>\n",
       "      <td>0.470190</td>\n",
       "      <td>0.500000</td>\n",
       "      <td>...</td>\n",
       "      <td>0.750000</td>\n",
       "      <td>0.500000</td>\n",
       "      <td>0.250000</td>\n",
       "      <td>0.000000</td>\n",
       "      <td>1.000000</td>\n",
       "      <td>0.000000</td>\n",
       "      <td>0.000000</td>\n",
       "      <td>0.000000</td>\n",
       "      <td>1.000000</td>\n",
       "      <td>0.000000</td>\n",
       "    </tr>\n",
       "    <tr>\n",
       "      <th>75%</th>\n",
       "      <td>1.000000</td>\n",
       "      <td>0.631579</td>\n",
       "      <td>0.833333</td>\n",
       "      <td>0.500000</td>\n",
       "      <td>1.000000</td>\n",
       "      <td>0.750000</td>\n",
       "      <td>0.395678</td>\n",
       "      <td>0.675089</td>\n",
       "      <td>0.617886</td>\n",
       "      <td>0.750000</td>\n",
       "      <td>...</td>\n",
       "      <td>1.000000</td>\n",
       "      <td>1.000000</td>\n",
       "      <td>0.750000</td>\n",
       "      <td>0.000000</td>\n",
       "      <td>1.000000</td>\n",
       "      <td>1.000000</td>\n",
       "      <td>1.000000</td>\n",
       "      <td>0.000000</td>\n",
       "      <td>1.000000</td>\n",
       "      <td>1.000000</td>\n",
       "    </tr>\n",
       "    <tr>\n",
       "      <th>max</th>\n",
       "      <td>1.000000</td>\n",
       "      <td>1.000000</td>\n",
       "      <td>1.000000</td>\n",
       "      <td>1.000000</td>\n",
       "      <td>1.000000</td>\n",
       "      <td>1.000000</td>\n",
       "      <td>1.000000</td>\n",
       "      <td>1.000000</td>\n",
       "      <td>1.000000</td>\n",
       "      <td>1.000000</td>\n",
       "      <td>...</td>\n",
       "      <td>1.000000</td>\n",
       "      <td>1.000000</td>\n",
       "      <td>1.000000</td>\n",
       "      <td>1.000000</td>\n",
       "      <td>1.000000</td>\n",
       "      <td>1.000000</td>\n",
       "      <td>1.000000</td>\n",
       "      <td>1.000000</td>\n",
       "      <td>1.000000</td>\n",
       "      <td>1.000000</td>\n",
       "    </tr>\n",
       "  </tbody>\n",
       "</table>\n",
       "<p>8 rows × 40 columns</p>\n",
       "</div>"
      ],
      "text/plain": [
       "       device_category  device_mobile_model_name  device_operating_system  \\\n",
       "count    743351.000000             743351.000000            743351.000000   \n",
       "mean          0.405756                  0.548265                 0.618932   \n",
       "std           0.485571                  0.158116                 0.264085   \n",
       "min           0.000000                  0.000000                 0.000000   \n",
       "25%           0.000000                  0.421053                 0.333333   \n",
       "50%           0.000000                  0.526316                 0.666667   \n",
       "75%           1.000000                  0.631579                 0.833333   \n",
       "max           1.000000                  1.000000                 1.000000   \n",
       "\n",
       "       device_operating_system_version  device_language  \\\n",
       "count                    743351.000000    743351.000000   \n",
       "mean                          0.456617         0.849813   \n",
       "std                           0.242295         0.193411   \n",
       "min                           0.000000         0.000000   \n",
       "25%                           0.200000         0.849813   \n",
       "50%                           0.456617         0.849813   \n",
       "75%                           0.500000         1.000000   \n",
       "max                           1.000000         1.000000   \n",
       "\n",
       "       device_web_info_browser  device_web_info_browser_version  \\\n",
       "count            743351.000000                    743351.000000   \n",
       "mean                  0.547918                         0.395678   \n",
       "std                   0.160032                         0.161979   \n",
       "min                   0.000000                         0.000000   \n",
       "25%                   0.500000                         0.272727   \n",
       "50%                   0.500000                         0.363636   \n",
       "75%                   0.750000                         0.395678   \n",
       "max                   1.000000                         1.000000   \n",
       "\n",
       "          geo_region       geo_city  traffic_source_medium  ...  \\\n",
       "count  743351.000000  743351.000000          743351.000000  ...   \n",
       "mean        0.461666       0.414000               0.532653  ...   \n",
       "std         0.271285       0.227126               0.288275  ...   \n",
       "min         0.000000       0.000000               0.000000  ...   \n",
       "25%         0.243414       0.189702               0.250000  ...   \n",
       "50%         0.557849       0.470190               0.500000  ...   \n",
       "75%         0.675089       0.617886               0.750000  ...   \n",
       "max         1.000000       1.000000               1.000000  ...   \n",
       "\n",
       "       day_of_week_nr_cos  week_of_month_nr_sin  week_of_month_nr_cos  \\\n",
       "count       743351.000000         743351.000000         743351.000000   \n",
       "mean             0.542604              0.479427              0.353487   \n",
       "std              0.372604              0.425035              0.304509   \n",
       "min              0.000000              0.000000              0.000000   \n",
       "25%              0.250000              0.000000              0.250000   \n",
       "50%              0.750000              0.500000              0.250000   \n",
       "75%              1.000000              1.000000              0.750000   \n",
       "max              1.000000              1.000000              1.000000   \n",
       "\n",
       "         geo_country  session_engaged           year        quarter  \\\n",
       "count  743351.000000    743351.000000  743351.000000  743351.000000   \n",
       "mean        0.145463         0.915526       0.261844       0.261844   \n",
       "std         0.352567         0.278098       0.439638       0.439638   \n",
       "min         0.000000         0.000000       0.000000       0.000000   \n",
       "25%         0.000000         1.000000       0.000000       0.000000   \n",
       "50%         0.000000         1.000000       0.000000       0.000000   \n",
       "75%         0.000000         1.000000       1.000000       1.000000   \n",
       "max         1.000000         1.000000       1.000000       1.000000   \n",
       "\n",
       "          is_weekend         domain  returning_user  \n",
       "count  743351.000000  743351.000000   743351.000000  \n",
       "mean        0.198207       0.965614        0.258154  \n",
       "std         0.398649       0.182219        0.437619  \n",
       "min         0.000000       0.000000        0.000000  \n",
       "25%         0.000000       1.000000        0.000000  \n",
       "50%         0.000000       1.000000        0.000000  \n",
       "75%         0.000000       1.000000        1.000000  \n",
       "max         1.000000       1.000000        1.000000  \n",
       "\n",
       "[8 rows x 40 columns]"
      ]
     },
     "execution_count": 28,
     "metadata": {},
     "output_type": "execute_result"
    }
   ],
   "source": [
    "from pandas import DataFrame, Index\n",
    "\n",
    "def apply_strategy_1(df: DataFrame) -> DataFrame:\n",
    "\n",
    "    # this script is available in data_functions originally from DSLabs site in Feature Selection chapter\n",
    "\n",
    "    df_copy=df.copy()\n",
    "    \n",
    "    vars2drop: list[str] = select_low_variance_variables(df_copy, max_threshold=0.024, min_features_to_keep=10, target=target)\n",
    "    \n",
    "    print(\"columns to drop:\", vars2drop)\n",
    "\n",
    "    df_vars_drop = df_copy.drop(columns=vars2drop, errors='ignore')\n",
    "    \n",
    "    print(\"Remaining columns:\", df_vars_drop.columns)\n",
    "\n",
    "    return df_vars_drop\n",
    "\n",
    "\n",
    "data_1=apply_strategy_1(data)\n",
    "\n",
    "data_1.describe()\n"
   ]
  },
  {
   "cell_type": "markdown",
   "metadata": {},
   "source": [
    "## Feat 1 train/test split "
   ]
  },
  {
   "cell_type": "code",
   "execution_count": 29,
   "metadata": {},
   "outputs": [],
   "source": [
    "if evaluate==True:\n",
    "\n",
    "    from pandas import concat\n",
    "    from matplotlib.pyplot import figure, show\n",
    "    from sklearn.model_selection import train_test_split\n",
    "    from dslabs_functions import plot_multibar_chart\n",
    "\n",
    "\n",
    "    # Call the function to split the data\n",
    "    from numpy import array, ndarray\n",
    "\n",
    "\n",
    "    y_1, X_1, labels, values = define_target_and_prepare_data(data_1, target)\n",
    "\n",
    "\n",
    "\n",
    "    train_1, test_1 = split_data_save_csv(pd.DataFrame(X_1, columns=data_1.columns), y_1, data_columns=data_1.columns, target_column=target)\n",
    "\n",
    "    # Distribution check\n",
    "    values[\"Train\"] = [\n",
    "        len(train_1[train_1[target] == 0]),\n",
    "        len(train_1[train_1[target] == 1]),\n",
    "    ]\n",
    "    values[\"Test\"] = [\n",
    "        len(test_1[test_1[target] == 0]),\n",
    "        len(test_1[test_1[target] == 1]),\n",
    "    ]\n",
    "\n",
    "    # Visualize the distribution\n",
    "    figure(figsize=(6, 4))\n",
    "    plot_multibar_chart(labels, values, title=\"Data distribution per dataset\")\n",
    "    show()"
   ]
  },
  {
   "cell_type": "markdown",
   "metadata": {},
   "source": [
    "## Feat 1 evaluate"
   ]
  },
  {
   "cell_type": "code",
   "execution_count": 30,
   "metadata": {},
   "outputs": [],
   "source": [
    "if evaluate==True:\n",
    "\n",
    "    # evaluate_approach is in data_functions originally from DSLABS/ Data Prep / Methodology\n",
    "    # removed Multinomial from run_NB function because dataset has negative values\n",
    "\n",
    "    figure()\n",
    "    eval_1: dict[str, list] = evaluate_approach(train_1, test_1, target='returning_user', metric=\"recall\")\n",
    "    plot_multibar_chart(\n",
    "        [\"NB\", \"KNN\"], eval_1, title=f\"{file_tag}_approach_1_evaluation\", percentage=True\n",
    "    )\n",
    "    savefig(f\"images/{file_tag}_approach_1_evaluation.png\")\n",
    "    show()"
   ]
  },
  {
   "cell_type": "markdown",
   "metadata": {},
   "source": [
    "# Feat 2 - Dropping Redundant Variables\n"
   ]
  },
  {
   "cell_type": "markdown",
   "metadata": {},
   "source": [
    "## Feat 2 - Study redundant variables and threshold"
   ]
  },
  {
   "cell_type": "code",
   "execution_count": 31,
   "metadata": {},
   "outputs": [
    {
     "data": {
      "text/plain": [
       "Index(['event_name', 'device_category', 'device_mobile_brand_name',\n",
       "       'device_mobile_model_name', 'device_operating_system',\n",
       "       'device_operating_system_version', 'device_language',\n",
       "       'device_web_info_browser', 'device_web_info_browser_version',\n",
       "       'geo_region', 'geo_city', 'traffic_source_medium',\n",
       "       'traffic_source_source', 'engagement_time_msec', 'month', 'day_of_year',\n",
       "       'week_number', 'page_path_level_1', 'page_path_level_2',\n",
       "       'page_path_level_3', 'path_length', 'time_of_day_sin',\n",
       "       'time_of_day_cos', 'local_hour_sin', 'local_hour_cos',\n",
       "       'local_minute_sin', 'local_minute_cos', 'hour_minute_fraction_sin',\n",
       "       'hour_minute_fraction_cos', 'day_sin', 'day_cos', 'day_of_week_nr_sin',\n",
       "       'day_of_week_nr_cos', 'week_of_month_nr_sin', 'week_of_month_nr_cos',\n",
       "       'geo_country', 'session_engaged', 'year', 'quarter', 'is_weekend',\n",
       "       'domain', 'returning_user'],\n",
       "      dtype='object')"
      ]
     },
     "execution_count": 31,
     "metadata": {},
     "output_type": "execute_result"
    }
   ],
   "source": [
    "test.columns"
   ]
  },
  {
   "cell_type": "code",
   "execution_count": 32,
   "metadata": {},
   "outputs": [],
   "source": [
    "if evaluate==True:\n",
    "\n",
    "    # modified study_variance_for_feature_selection() in dslabs functions to keep minimum variables and print metrics (due to error)\n",
    "\n",
    "\n",
    "    eval_metric = \"recall\"\n",
    "    figure(figsize=(2 * HEIGHT, HEIGHT))\n",
    "    study_redundancy_for_feature_selection(\n",
    "        train_sample,\n",
    "        test_sample,\n",
    "        target=target,\n",
    "        min_threshold = 0.001,\n",
    "        lag = 0.2,\n",
    "        metric=eval_metric,\n",
    "        file_tag=file_tag,\n",
    "    )\n",
    "    show()"
   ]
  },
  {
   "cell_type": "code",
   "execution_count": 33,
   "metadata": {},
   "outputs": [],
   "source": [
    "if evaluate==True:\n",
    "\n",
    "    # modified study_variance_for_feature_selection() in dslabs functions to keep minimum variables and print metrics (due to error)\n",
    "\n",
    "\n",
    "    eval_metric = \"accuracy\"\n",
    "    figure(figsize=(2 * HEIGHT, HEIGHT))\n",
    "    study_redundancy_for_feature_selection(\n",
    "        train_sample,\n",
    "        test_sample,\n",
    "        target=target,\n",
    "        min_threshold = 0.001,\n",
    "        lag = 0.2,\n",
    "        metric=eval_metric,\n",
    "        file_tag=file_tag,\n",
    "    )\n",
    "    show()"
   ]
  },
  {
   "cell_type": "markdown",
   "metadata": {},
   "source": [
    "## Feat 2 strategy aplication"
   ]
  },
  {
   "cell_type": "code",
   "execution_count": 34,
   "metadata": {},
   "outputs": [
    {
     "name": "stdout",
     "output_type": "stream",
     "text": [
      "columns to drop: ['device_mobile_brand_name', 'device_mobile_model_name', 'device_operating_system', 'device_operating_system_version', 'device_category', 'day_of_year', 'week_number', 'year', 'quarter', 'month', 'page_path_level_2', 'page_path_level_3', 'path_length', 'page_path_level_1', 'local_hour_sin', 'local_hour_cos', 'hour_minute_fraction_sin', 'hour_minute_fraction_cos', 'time_of_day_sin', 'time_of_day_cos']\n",
      "Remaining columns: Index(['event_name', 'device_language', 'device_web_info_browser',\n",
      "       'device_web_info_browser_version', 'geo_region', 'geo_city',\n",
      "       'traffic_source_medium', 'traffic_source_source',\n",
      "       'engagement_time_msec', 'local_minute_sin', 'local_minute_cos',\n",
      "       'day_sin', 'day_cos', 'day_of_week_nr_sin', 'day_of_week_nr_cos',\n",
      "       'week_of_month_nr_sin', 'week_of_month_nr_cos', 'geo_country',\n",
      "       'session_engaged', 'is_weekend', 'domain', 'returning_user'],\n",
      "      dtype='object')\n"
     ]
    }
   ],
   "source": [
    "from pandas import DataFrame, Series\n",
    "from sklearn.preprocessing import MinMaxScaler\n",
    "\n",
    "def apply_strategy_2(df):\n",
    "\n",
    "    df_copy=df.copy()\n",
    "\n",
    "    vars2drop = select_redundant_variables(df_copy, min_threshold=0.4, target=target)\n",
    "    print(\"columns to drop:\", vars2drop)\n",
    "\n",
    "    df_vars_drop = df_copy.drop(columns=vars2drop, errors='ignore')\n",
    "    \n",
    "    print(\"Remaining columns:\", df_vars_drop.columns)\n",
    "\n",
    "\n",
    "    return df_vars_drop\n",
    "\n",
    "\n",
    "data_2=data.copy()\n",
    "\n",
    "data_2=apply_strategy_2(data_2)\n"
   ]
  },
  {
   "cell_type": "markdown",
   "metadata": {},
   "source": [
    "## Feat 2 train/test split "
   ]
  },
  {
   "cell_type": "code",
   "execution_count": 35,
   "metadata": {},
   "outputs": [],
   "source": [
    "if evaluate ==True:\n",
    "    from pandas import concat\n",
    "    from matplotlib.pyplot import figure, show\n",
    "    from sklearn.model_selection import train_test_split\n",
    "    from dslabs_functions import plot_multibar_chart\n",
    "\n",
    "    # train/test split from DSLABS Classification/Evaluation Chapter\n",
    "    # created split_data_save_csv on data_functions\n",
    "\n",
    "    # Call the function to split the data\n",
    "\n",
    "    y_2, X_2, labels, class_counts = define_target_and_prepare_data(data_2, target=target)\n",
    "\n",
    "\n",
    "    train_2, test_2 = split_data_save_csv(pd.DataFrame(X_2, columns=data_2.columns), y_2, data_columns=data_2.columns, target_column=target)\n",
    "\n",
    "\n",
    "    values[\"Train\"] = [\n",
    "        len(train_2[train_2[target] == 0]),\n",
    "        len(train_2[train_2[target] == 1]),\n",
    "    ]\n",
    "    values[\"Test\"] = [\n",
    "        len(test_2[test_2[target] == 0]),\n",
    "        len(test_2[test_2[target] == 1]),\n",
    "    ]\n",
    "\n",
    "    figure(figsize=(6, 4))\n",
    "    plot_multibar_chart(labels, values, title=\"Data distribution per dataset\")"
   ]
  },
  {
   "cell_type": "markdown",
   "metadata": {},
   "source": [
    "## Feat 2 evaluate"
   ]
  },
  {
   "cell_type": "code",
   "execution_count": 36,
   "metadata": {},
   "outputs": [],
   "source": [
    "if evaluate == True:\n",
    "    figure()\n",
    "    eval_2: dict[str, list] = evaluate_approach(train_2, test_2, target='returning_user', metric=\"recall\")\n",
    "    plot_multibar_chart(\n",
    "        [\"NB\", \"KNN\"], eval_2, title=f\"{file_tag}_approach_2_evaluation\", percentage=True\n",
    "    )\n",
    "    savefig(f\"images/{file_tag}_approach_2_evaluation.png\")\n",
    "    show()"
   ]
  },
  {
   "cell_type": "markdown",
   "metadata": {},
   "source": [
    "# Approach uplift comparison"
   ]
  },
  {
   "cell_type": "markdown",
   "metadata": {},
   "source": [
    "## uplift df"
   ]
  },
  {
   "cell_type": "code",
   "execution_count": 37,
   "metadata": {},
   "outputs": [],
   "source": [
    "if evaluate == True:\n",
    "    \n",
    "    algorithms = ['Naive Bayes', 'KNN']\n",
    "\n",
    "    # Create DataFrames for eval_1 and eval_2\n",
    "    df_eval_1 = pd.DataFrame(eval_1, index=algorithms)\n",
    "    df_eval_2 = pd.DataFrame(eval_2, index=algorithms)\n",
    "\n",
    "    # Calculate uplift\n",
    "    df_uplift = df_eval_2 - df_eval_1\n",
    "\n",
    "\n",
    "\n",
    "    # Combine everything into one DataFrame (without misalignment issues)\n",
    "    comparison_df = pd.concat([df_eval_1, df_eval_2, df_uplift], axis=1)\n",
    "    comparison_df.columns = pd.MultiIndex.from_product([['Approach 1', 'Approach 2', 'Uplift'], eval_1.keys()])\n",
    "\n",
    "\n",
    "\n",
    "    # Display the DataFrame\n",
    "    display(comparison_df)"
   ]
  },
  {
   "cell_type": "markdown",
   "metadata": {},
   "source": [
    "# Analysis\n",
    "\n",
    "- NB (better on approach 2): \n",
    "    - Scale1 accuracy 0.33, recall 0.87, auc 0.51\n",
    "    - scale2 accuracy 0.43 recall 0.82, auc 0.56\n",
    "- KNN: no significant uplifts between approaches\n",
    "- overall scale 2 vs outliers treatment\n",
    "    - very significant improved recall\n",
    "    - significant accuracy loss\n"
   ]
  },
  {
   "cell_type": "markdown",
   "metadata": {},
   "source": [
    "# save to csv"
   ]
  },
  {
   "cell_type": "code",
   "execution_count": null,
   "metadata": {},
   "outputs": [],
   "source": [
    "if test_data==False:\n",
    "    \n",
    "    \n",
    "    data_save=data.copy()\n",
    "\n",
    "    data_save=apply_strategy_1(data_save)\n",
    "        \n",
    "    data_save.to_csv(f\"data/df_merch_6_feat_eng_input.csv\", index=False)\n",
    "\n",
    "\n",
    "    print(data_save.columns)\n",
    "\n"
   ]
  },
  {
   "cell_type": "markdown",
   "metadata": {},
   "source": [
    "## train test csv"
   ]
  },
  {
   "cell_type": "code",
   "execution_count": null,
   "metadata": {},
   "outputs": [],
   "source": [
    "if test_data==False:\n",
    "    \n",
    "\n",
    "    # data_save_copy=data_save.copy() \n",
    "    # y, X, labels, class_counts = define_target_and_prepare_data(data_save_copy, target=target)\n",
    "    # train, test = split_data_save_csv(pd.DataFrame(X, columns=data_save_copy.columns), y, data_columns=data_save_copy.columns, target_column=target)  \n",
    "\n",
    "    \n",
    "    train,test=simple_split_df(data_save,sort_by='day_of_year')\n",
    "    \n",
    "    train.to_csv(f\"data/df_merch_6_feat_eng_input_train.csv\", index=False)\n",
    "    print(train.columns)\n",
    "    \n",
    "    test.to_csv(f\"data/df_merch_6_feat_eng_input_test.csv\", index=False)\n",
    "    print(test.columns)"
   ]
  }
 ],
 "metadata": {
  "kernelspec": {
   "display_name": "base",
   "language": "python",
   "name": "python3"
  },
  "language_info": {
   "codemirror_mode": {
    "name": "ipython",
    "version": 3
   },
   "file_extension": ".py",
   "mimetype": "text/x-python",
   "name": "python",
   "nbconvert_exporter": "python",
   "pygments_lexer": "ipython3",
   "version": "3.12.4"
  }
 },
 "nbformat": 4,
 "nbformat_minor": 2
}
