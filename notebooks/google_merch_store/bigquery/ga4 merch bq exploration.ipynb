{
  "cells": [
    {
      "cell_type": "markdown",
      "metadata": {
        "id": "VI0xLxmm7HBa"
      },
      "source": [
        "# Example 1: Query a table with SQL and magic commands"
      ]
    },
    {
      "cell_type": "code",
      "execution_count": 1,
      "metadata": {
        "colab": {
          "base_uri": "https://localhost:8080/",
          "height": 81,
          "referenced_widgets": [
            "4fe3623d056c43eba881547d1d0d71c2",
            "51cd20f8522d426eab10082c4859dd15",
            "7be41ded876a4804b3c3f012f73b57c9",
            "2a5b7051f02a43a0beb84356abf1393e",
            "440d258f060940f8a87ee4ad1745c204",
            "b354ced56fbc40acb8f49dfa06c2481b",
            "05e708bf7853470ab5efb4686cb7519a",
            "62abf01dcce7469ab48bd4c72886e559",
            "8a856fa1c73d42a7b8dbbdb1bd171479",
            "b50d38ce13094f3da39d5515e0df3416",
            "1887a347d7a74d19bf0baefef5b8d53f",
            "b3c57d00b9414c668dd17127bee006aa",
            "36664d152e474976980cf581d1543163",
            "e8683993feb14b64b1f4808b3b975dd0",
            "3f2412428dad4c6f8d3eb95af2d18bcb",
            "3ae55893dfc947c2918121c60ae26130",
            "0fac78f7174a4db68818eece81132f45",
            "72c15fa9500e4db7adefb277b57f635c",
            "14a0a2ef96cb4651b134882ef9fdf881",
            "9a23b309a3d740428a83947c61dcdd6c",
            "b60ba0b1c804430d99d57e1883bacede",
            "076bddbb95c24556b4d85f93e73d740f"
          ]
        },
        "executionInfo": {
          "elapsed": 29530,
          "status": "ok",
          "timestamp": 1726940791439,
          "user": {
            "displayName": "",
            "userId": ""
          },
          "user_tz": -60
        },
        "id": "7apwrP5jxUGW",
        "outputId": "b169239a-2d3f-42b0-bfa3-3cbee8b37939"
      },
      "outputs": [
        {
          "data": {
            "application/vnd.jupyter.widget-view+json": {
              "model_id": "4fe3623d056c43eba881547d1d0d71c2",
              "version_major": 2,
              "version_minor": 0
            },
            "text/plain": [
              "Query is running:   0%|          |"
            ]
          },
          "metadata": {},
          "output_type": "display_data"
        },
        {
          "data": {
            "application/vnd.jupyter.widget-view+json": {
              "model_id": "b3c57d00b9414c668dd17127bee006aa",
              "version_major": 2,
              "version_minor": 0
            },
            "text/plain": [
              "Downloading:   0%|          |"
            ]
          },
          "metadata": {},
          "output_type": "display_data"
        }
      ],
      "source": [
        "# Running this code will query a table in BigQuery and download\n",
        "# the results to a Pandas DataFrame named `results`.\n",
        "# Learn more here: https://cloud.google.com/bigquery/docs/visualize-jupyter\n",
        "\n",
        "%%bigquery results --project ist-data-science\n",
        "SELECT * FROM `ist-data-science.ga4_google_merch_store.flattened_raw` #this table name was set based on the table you chose to query"
      ]
    },
    {
      "cell_type": "code",
      "execution_count": 2,
      "metadata": {
        "colab": {
          "base_uri": "https://localhost:8080/",
          "height": 1000
        },
        "executionInfo": {
          "elapsed": 3980,
          "status": "ok",
          "timestamp": 1726940795416,
          "user": {
            "displayName": "",
            "userId": ""
          },
          "user_tz": -60
        },
        "id": "itFJzBFNr72l",
        "outputId": "5bee3c30-a085-406a-bbbd-0c40074825ae"
      },
      "outputs": [
        {
          "data": {
            "text/html": [
              "\n",
              "  <div id=\"df-3f19a8cc-4bba-41f7-a4cd-1525305f06ee\" class=\"colab-df-container\">\n",
              "    <div>\n",
              "<style scoped>\n",
              "    .dataframe tbody tr th:only-of-type {\n",
              "        vertical-align: middle;\n",
              "    }\n",
              "\n",
              "    .dataframe tbody tr th {\n",
              "        vertical-align: top;\n",
              "    }\n",
              "\n",
              "    .dataframe thead th {\n",
              "        text-align: right;\n",
              "    }\n",
              "</style>\n",
              "<table border=\"1\" class=\"dataframe\">\n",
              "  <thead>\n",
              "    <tr style=\"text-align: right;\">\n",
              "      <th></th>\n",
              "      <th>event_date</th>\n",
              "      <th>session_id</th>\n",
              "      <th>user_pseudo_id</th>\n",
              "      <th>event_name</th>\n",
              "      <th>event_timestamp</th>\n",
              "      <th>page_location</th>\n",
              "      <th>page_title</th>\n",
              "      <th>item_id</th>\n",
              "      <th>item_name</th>\n",
              "      <th>item_brand</th>\n",
              "      <th>...</th>\n",
              "      <th>geo_metro</th>\n",
              "      <th>traffic_source_name</th>\n",
              "      <th>traffic_source_medium</th>\n",
              "      <th>traffic_source_source</th>\n",
              "      <th>page_referrer</th>\n",
              "      <th>entrances</th>\n",
              "      <th>debug_mode</th>\n",
              "      <th>ga_session_number</th>\n",
              "      <th>session_engaged</th>\n",
              "      <th>engagement_time_msec</th>\n",
              "    </tr>\n",
              "  </thead>\n",
              "  <tbody>\n",
              "    <tr>\n",
              "      <th>0</th>\n",
              "      <td>2020-11-30</td>\n",
              "      <td>9618800080</td>\n",
              "      <td>1395824.1622992884</td>\n",
              "      <td>begin_checkout</td>\n",
              "      <td>1606756415674646</td>\n",
              "      <td>https://shop.googlemerchandisestore.com/yourin...</td>\n",
              "      <td>Checkout Your Information</td>\n",
              "      <td>9196853</td>\n",
              "      <td>Android Iconic Crewneck Sweatshirt</td>\n",
              "      <td>Android</td>\n",
              "      <td>...</td>\n",
              "      <td>(not set)</td>\n",
              "      <td>(organic)</td>\n",
              "      <td>organic</td>\n",
              "      <td>google</td>\n",
              "      <td>None</td>\n",
              "      <td>&lt;NA&gt;</td>\n",
              "      <td>1</td>\n",
              "      <td>4</td>\n",
              "      <td>1</td>\n",
              "      <td>1</td>\n",
              "    </tr>\n",
              "    <tr>\n",
              "      <th>1</th>\n",
              "      <td>2020-11-28</td>\n",
              "      <td>95373859</td>\n",
              "      <td>83739349.8729103328</td>\n",
              "      <td>view_item</td>\n",
              "      <td>1606550005837693</td>\n",
              "      <td>https://shop.googlemerchandisestore.com/Google...</td>\n",
              "      <td>Lifestyle</td>\n",
              "      <td>GGOEGABK101099</td>\n",
              "      <td>Google Phone Stand Bamboo</td>\n",
              "      <td>(not set)</td>\n",
              "      <td>...</td>\n",
              "      <td>(not set)</td>\n",
              "      <td>(direct)</td>\n",
              "      <td>(none)</td>\n",
              "      <td>(direct)</td>\n",
              "      <td>https://shop.googlemerchandisestore.com/Google...</td>\n",
              "      <td>&lt;NA&gt;</td>\n",
              "      <td>1</td>\n",
              "      <td>4</td>\n",
              "      <td>1</td>\n",
              "      <td>6689</td>\n",
              "    </tr>\n",
              "    <tr>\n",
              "      <th>2</th>\n",
              "      <td>2020-11-07</td>\n",
              "      <td>9571236150</td>\n",
              "      <td>2162170.2903898118</td>\n",
              "      <td>view_item</td>\n",
              "      <td>1604732150618958</td>\n",
              "      <td>https://shop.googlemerchandisestore.com/Google...</td>\n",
              "      <td>Womens | Apparel | Google Merchandise Store</td>\n",
              "      <td>GGOEGXXX1342</td>\n",
              "      <td>Google Crewneck Sweatshirt Green</td>\n",
              "      <td>(not set)</td>\n",
              "      <td>...</td>\n",
              "      <td>(not set)</td>\n",
              "      <td>(referral)</td>\n",
              "      <td>referral</td>\n",
              "      <td>&lt;Other&gt;</td>\n",
              "      <td>None</td>\n",
              "      <td>&lt;NA&gt;</td>\n",
              "      <td>1</td>\n",
              "      <td>4</td>\n",
              "      <td>1</td>\n",
              "      <td>1534</td>\n",
              "    </tr>\n",
              "    <tr>\n",
              "      <th>3</th>\n",
              "      <td>2020-12-05</td>\n",
              "      <td>4900494984</td>\n",
              "      <td>7054156.8209924713</td>\n",
              "      <td>add_to_cart</td>\n",
              "      <td>1607187918643477</td>\n",
              "      <td>https://shop.googlemerchandisestore.com/Google...</td>\n",
              "      <td>Sale | Google Merchandise Store</td>\n",
              "      <td>GGOEACBA104599</td>\n",
              "      <td>Android SM S/F18 Sticker Sheet</td>\n",
              "      <td>(not set)</td>\n",
              "      <td>...</td>\n",
              "      <td>(not set)</td>\n",
              "      <td>(referral)</td>\n",
              "      <td>referral</td>\n",
              "      <td>shop.googlemerchandisestore.com</td>\n",
              "      <td>https://shop.googlemerchandisestore.com/Google...</td>\n",
              "      <td>&lt;NA&gt;</td>\n",
              "      <td>1</td>\n",
              "      <td>2</td>\n",
              "      <td>1</td>\n",
              "      <td>5439</td>\n",
              "    </tr>\n",
              "    <tr>\n",
              "      <th>4</th>\n",
              "      <td>2020-11-25</td>\n",
              "      <td>6353211790</td>\n",
              "      <td>39092538.2458790241</td>\n",
              "      <td>begin_checkout</td>\n",
              "      <td>1606338886296693</td>\n",
              "      <td>https://shop.googlemerchandisestore.com/yourin...</td>\n",
              "      <td>Checkout Your Information</td>\n",
              "      <td>9195032</td>\n",
              "      <td>Google Camp Mug Ivory</td>\n",
              "      <td>Google</td>\n",
              "      <td>...</td>\n",
              "      <td>(not set)</td>\n",
              "      <td>(direct)</td>\n",
              "      <td>(none)</td>\n",
              "      <td>(direct)</td>\n",
              "      <td>None</td>\n",
              "      <td>&lt;NA&gt;</td>\n",
              "      <td>1</td>\n",
              "      <td>22</td>\n",
              "      <td>1</td>\n",
              "      <td>58</td>\n",
              "    </tr>\n",
              "    <tr>\n",
              "      <th>...</th>\n",
              "      <td>...</td>\n",
              "      <td>...</td>\n",
              "      <td>...</td>\n",
              "      <td>...</td>\n",
              "      <td>...</td>\n",
              "      <td>...</td>\n",
              "      <td>...</td>\n",
              "      <td>...</td>\n",
              "      <td>...</td>\n",
              "      <td>...</td>\n",
              "      <td>...</td>\n",
              "      <td>...</td>\n",
              "      <td>...</td>\n",
              "      <td>...</td>\n",
              "      <td>...</td>\n",
              "      <td>...</td>\n",
              "      <td>...</td>\n",
              "      <td>...</td>\n",
              "      <td>...</td>\n",
              "      <td>...</td>\n",
              "      <td>...</td>\n",
              "    </tr>\n",
              "    <tr>\n",
              "      <th>3982727</th>\n",
              "      <td>2020-12-18</td>\n",
              "      <td>2441512295</td>\n",
              "      <td>34315975.5425381937</td>\n",
              "      <td>add_to_cart</td>\n",
              "      <td>1608255860650901</td>\n",
              "      <td>https://shop.googlemerchandisestore.com/Google...</td>\n",
              "      <td>Men's / Unisex | Apparel | Google Merchandise ...</td>\n",
              "      <td>GGOEGXXX1385</td>\n",
              "      <td>Google Men's Tech Fleece Grey</td>\n",
              "      <td>(not set)</td>\n",
              "      <td>...</td>\n",
              "      <td>(not set)</td>\n",
              "      <td>(direct)</td>\n",
              "      <td>(none)</td>\n",
              "      <td>(direct)</td>\n",
              "      <td>https://shop.googlemerchandisestore.com/?</td>\n",
              "      <td>&lt;NA&gt;</td>\n",
              "      <td>1</td>\n",
              "      <td>1</td>\n",
              "      <td>1</td>\n",
              "      <td>5947</td>\n",
              "    </tr>\n",
              "    <tr>\n",
              "      <th>3982728</th>\n",
              "      <td>2020-12-21</td>\n",
              "      <td>8649406270</td>\n",
              "      <td>2201262.6636571339</td>\n",
              "      <td>view_item</td>\n",
              "      <td>1608587841036071</td>\n",
              "      <td>https://shop.googlemerchandisestore.com/Google...</td>\n",
              "      <td>Womens | Apparel | Google Merchandise Store</td>\n",
              "      <td>GGOEGXXX1264</td>\n",
              "      <td>Android Garden Tee Orange</td>\n",
              "      <td>(not set)</td>\n",
              "      <td>...</td>\n",
              "      <td>(not set)</td>\n",
              "      <td>(referral)</td>\n",
              "      <td>referral</td>\n",
              "      <td>&lt;Other&gt;</td>\n",
              "      <td>https://shop.googlemerchandisestore.com/basket...</td>\n",
              "      <td>&lt;NA&gt;</td>\n",
              "      <td>1</td>\n",
              "      <td>6</td>\n",
              "      <td>1</td>\n",
              "      <td>4401</td>\n",
              "    </tr>\n",
              "    <tr>\n",
              "      <th>3982729</th>\n",
              "      <td>2020-12-21</td>\n",
              "      <td>5725703324</td>\n",
              "      <td>2994751.6580189667</td>\n",
              "      <td>add_to_cart</td>\n",
              "      <td>1608515048355629</td>\n",
              "      <td>https://shop.googlemerchandisestore.com/Google...</td>\n",
              "      <td>Men's / Unisex | Apparel | Google Merchandise ...</td>\n",
              "      <td>GGOEGXXX1038</td>\n",
              "      <td>Google F/C Long Sleeve Tee Charcoal</td>\n",
              "      <td>(not set)</td>\n",
              "      <td>...</td>\n",
              "      <td>(not set)</td>\n",
              "      <td>(direct)</td>\n",
              "      <td>(none)</td>\n",
              "      <td>(direct)</td>\n",
              "      <td>None</td>\n",
              "      <td>&lt;NA&gt;</td>\n",
              "      <td>1</td>\n",
              "      <td>1</td>\n",
              "      <td>1</td>\n",
              "      <td>2767</td>\n",
              "    </tr>\n",
              "    <tr>\n",
              "      <th>3982730</th>\n",
              "      <td>2020-11-26</td>\n",
              "      <td>8006557772</td>\n",
              "      <td>7487454.9043521164</td>\n",
              "      <td>add_to_cart</td>\n",
              "      <td>1606382728795425</td>\n",
              "      <td>https://shop.googlemerchandisestore.com/Google...</td>\n",
              "      <td>Men's / Unisex | Apparel | Google Merchandise ...</td>\n",
              "      <td>GGOEGXXX1352</td>\n",
              "      <td>Google Sherpa Zip Hoodie Charcoal</td>\n",
              "      <td>(not set)</td>\n",
              "      <td>...</td>\n",
              "      <td>(not set)</td>\n",
              "      <td>(direct)</td>\n",
              "      <td>(none)</td>\n",
              "      <td>(direct)</td>\n",
              "      <td>None</td>\n",
              "      <td>&lt;NA&gt;</td>\n",
              "      <td>1</td>\n",
              "      <td>1</td>\n",
              "      <td>1</td>\n",
              "      <td>9451</td>\n",
              "    </tr>\n",
              "    <tr>\n",
              "      <th>3982731</th>\n",
              "      <td>2020-12-07</td>\n",
              "      <td>2798318471</td>\n",
              "      <td>89568224.2450998912</td>\n",
              "      <td>view_promotion</td>\n",
              "      <td>1607347805682774</td>\n",
              "      <td>https://shop.googlemerchandisestore.com/</td>\n",
              "      <td>Home</td>\n",
              "      <td>(not set)</td>\n",
              "      <td>(not set)</td>\n",
              "      <td>(not set)</td>\n",
              "      <td>...</td>\n",
              "      <td>(not set)</td>\n",
              "      <td>(referral)</td>\n",
              "      <td>referral</td>\n",
              "      <td>shop.googlemerchandisestore.com</td>\n",
              "      <td>https://shop.googlemerchandisestore.com/store....</td>\n",
              "      <td>&lt;NA&gt;</td>\n",
              "      <td>1</td>\n",
              "      <td>3</td>\n",
              "      <td>0</td>\n",
              "      <td>9</td>\n",
              "    </tr>\n",
              "  </tbody>\n",
              "</table>\n",
              "<p>3982732 rows × 49 columns</p>\n",
              "</div>\n",
              "    <div class=\"colab-df-buttons\">\n",
              "\n",
              "  <div class=\"colab-df-container\">\n",
              "    <button class=\"colab-df-convert\" onclick=\"convertToInteractive('df-3f19a8cc-4bba-41f7-a4cd-1525305f06ee')\"\n",
              "            title=\"Convert this dataframe to an interactive table.\"\n",
              "            style=\"display:none;\">\n",
              "\n",
              "  <svg xmlns=\"http://www.w3.org/2000/svg\" height=\"24px\" viewBox=\"0 -960 960 960\">\n",
              "    <path d=\"M120-120v-720h720v720H120Zm60-500h600v-160H180v160Zm220 220h160v-160H400v160Zm0 220h160v-160H400v160ZM180-400h160v-160H180v160Zm440 0h160v-160H620v160ZM180-180h160v-160H180v160Zm440 0h160v-160H620v160Z\"/>\n",
              "  </svg>\n",
              "    </button>\n",
              "\n",
              "  <style>\n",
              "    .colab-df-container {\n",
              "      display:flex;\n",
              "      gap: 12px;\n",
              "    }\n",
              "\n",
              "    .colab-df-convert {\n",
              "      background-color: #E8F0FE;\n",
              "      border: none;\n",
              "      border-radius: 50%;\n",
              "      cursor: pointer;\n",
              "      display: none;\n",
              "      fill: #1967D2;\n",
              "      height: 32px;\n",
              "      padding: 0 0 0 0;\n",
              "      width: 32px;\n",
              "    }\n",
              "\n",
              "    .colab-df-convert:hover {\n",
              "      background-color: #E2EBFA;\n",
              "      box-shadow: 0px 1px 2px rgba(60, 64, 67, 0.3), 0px 1px 3px 1px rgba(60, 64, 67, 0.15);\n",
              "      fill: #174EA6;\n",
              "    }\n",
              "\n",
              "    .colab-df-buttons div {\n",
              "      margin-bottom: 4px;\n",
              "    }\n",
              "\n",
              "    [theme=dark] .colab-df-convert {\n",
              "      background-color: #3B4455;\n",
              "      fill: #D2E3FC;\n",
              "    }\n",
              "\n",
              "    [theme=dark] .colab-df-convert:hover {\n",
              "      background-color: #434B5C;\n",
              "      box-shadow: 0px 1px 3px 1px rgba(0, 0, 0, 0.15);\n",
              "      filter: drop-shadow(0px 1px 2px rgba(0, 0, 0, 0.3));\n",
              "      fill: #FFFFFF;\n",
              "    }\n",
              "  </style>\n",
              "\n",
              "    <script>\n",
              "      const buttonEl =\n",
              "        document.querySelector('#df-3f19a8cc-4bba-41f7-a4cd-1525305f06ee button.colab-df-convert');\n",
              "      buttonEl.style.display =\n",
              "        google.colab.kernel.accessAllowed ? 'block' : 'none';\n",
              "\n",
              "      async function convertToInteractive(key) {\n",
              "        const element = document.querySelector('#df-3f19a8cc-4bba-41f7-a4cd-1525305f06ee');\n",
              "        const dataTable =\n",
              "          await google.colab.kernel.invokeFunction('convertToInteractive',\n",
              "                                                    [key], {});\n",
              "        if (!dataTable) return;\n",
              "\n",
              "        const docLinkHtml = 'Like what you see? Visit the ' +\n",
              "          '<a target=\"_blank\" href=https://colab.research.google.com/notebooks/data_table.ipynb>data table notebook</a>'\n",
              "          + ' to learn more about interactive tables.';\n",
              "        element.innerHTML = '';\n",
              "        dataTable['output_type'] = 'display_data';\n",
              "        await google.colab.output.renderOutput(dataTable, element);\n",
              "        const docLink = document.createElement('div');\n",
              "        docLink.innerHTML = docLinkHtml;\n",
              "        element.appendChild(docLink);\n",
              "      }\n",
              "    </script>\n",
              "  </div>\n",
              "\n",
              "\n",
              "<div id=\"df-ee6d4df7-372b-49bb-ac83-7dc9cd701b83\">\n",
              "  <button class=\"colab-df-quickchart\" onclick=\"quickchart('df-ee6d4df7-372b-49bb-ac83-7dc9cd701b83')\"\n",
              "            title=\"Suggest charts\"\n",
              "            style=\"display:none;\">\n",
              "\n",
              "<svg xmlns=\"http://www.w3.org/2000/svg\" height=\"24px\"viewBox=\"0 0 24 24\"\n",
              "     width=\"24px\">\n",
              "    <g>\n",
              "        <path d=\"M19 3H5c-1.1 0-2 .9-2 2v14c0 1.1.9 2 2 2h14c1.1 0 2-.9 2-2V5c0-1.1-.9-2-2-2zM9 17H7v-7h2v7zm4 0h-2V7h2v10zm4 0h-2v-4h2v4z\"/>\n",
              "    </g>\n",
              "</svg>\n",
              "  </button>\n",
              "\n",
              "<style>\n",
              "  .colab-df-quickchart {\n",
              "      --bg-color: #E8F0FE;\n",
              "      --fill-color: #1967D2;\n",
              "      --hover-bg-color: #E2EBFA;\n",
              "      --hover-fill-color: #174EA6;\n",
              "      --disabled-fill-color: #AAA;\n",
              "      --disabled-bg-color: #DDD;\n",
              "  }\n",
              "\n",
              "  [theme=dark] .colab-df-quickchart {\n",
              "      --bg-color: #3B4455;\n",
              "      --fill-color: #D2E3FC;\n",
              "      --hover-bg-color: #434B5C;\n",
              "      --hover-fill-color: #FFFFFF;\n",
              "      --disabled-bg-color: #3B4455;\n",
              "      --disabled-fill-color: #666;\n",
              "  }\n",
              "\n",
              "  .colab-df-quickchart {\n",
              "    background-color: var(--bg-color);\n",
              "    border: none;\n",
              "    border-radius: 50%;\n",
              "    cursor: pointer;\n",
              "    display: none;\n",
              "    fill: var(--fill-color);\n",
              "    height: 32px;\n",
              "    padding: 0;\n",
              "    width: 32px;\n",
              "  }\n",
              "\n",
              "  .colab-df-quickchart:hover {\n",
              "    background-color: var(--hover-bg-color);\n",
              "    box-shadow: 0 1px 2px rgba(60, 64, 67, 0.3), 0 1px 3px 1px rgba(60, 64, 67, 0.15);\n",
              "    fill: var(--button-hover-fill-color);\n",
              "  }\n",
              "\n",
              "  .colab-df-quickchart-complete:disabled,\n",
              "  .colab-df-quickchart-complete:disabled:hover {\n",
              "    background-color: var(--disabled-bg-color);\n",
              "    fill: var(--disabled-fill-color);\n",
              "    box-shadow: none;\n",
              "  }\n",
              "\n",
              "  .colab-df-spinner {\n",
              "    border: 2px solid var(--fill-color);\n",
              "    border-color: transparent;\n",
              "    border-bottom-color: var(--fill-color);\n",
              "    animation:\n",
              "      spin 1s steps(1) infinite;\n",
              "  }\n",
              "\n",
              "  @keyframes spin {\n",
              "    0% {\n",
              "      border-color: transparent;\n",
              "      border-bottom-color: var(--fill-color);\n",
              "      border-left-color: var(--fill-color);\n",
              "    }\n",
              "    20% {\n",
              "      border-color: transparent;\n",
              "      border-left-color: var(--fill-color);\n",
              "      border-top-color: var(--fill-color);\n",
              "    }\n",
              "    30% {\n",
              "      border-color: transparent;\n",
              "      border-left-color: var(--fill-color);\n",
              "      border-top-color: var(--fill-color);\n",
              "      border-right-color: var(--fill-color);\n",
              "    }\n",
              "    40% {\n",
              "      border-color: transparent;\n",
              "      border-right-color: var(--fill-color);\n",
              "      border-top-color: var(--fill-color);\n",
              "    }\n",
              "    60% {\n",
              "      border-color: transparent;\n",
              "      border-right-color: var(--fill-color);\n",
              "    }\n",
              "    80% {\n",
              "      border-color: transparent;\n",
              "      border-right-color: var(--fill-color);\n",
              "      border-bottom-color: var(--fill-color);\n",
              "    }\n",
              "    90% {\n",
              "      border-color: transparent;\n",
              "      border-bottom-color: var(--fill-color);\n",
              "    }\n",
              "  }\n",
              "</style>\n",
              "\n",
              "  <script>\n",
              "    async function quickchart(key) {\n",
              "      const quickchartButtonEl =\n",
              "        document.querySelector('#' + key + ' button');\n",
              "      quickchartButtonEl.disabled = true;  // To prevent multiple clicks.\n",
              "      quickchartButtonEl.classList.add('colab-df-spinner');\n",
              "      try {\n",
              "        const charts = await google.colab.kernel.invokeFunction(\n",
              "            'suggestCharts', [key], {});\n",
              "      } catch (error) {\n",
              "        console.error('Error during call to suggestCharts:', error);\n",
              "      }\n",
              "      quickchartButtonEl.classList.remove('colab-df-spinner');\n",
              "      quickchartButtonEl.classList.add('colab-df-quickchart-complete');\n",
              "    }\n",
              "    (() => {\n",
              "      let quickchartButtonEl =\n",
              "        document.querySelector('#df-ee6d4df7-372b-49bb-ac83-7dc9cd701b83 button');\n",
              "      quickchartButtonEl.style.display =\n",
              "        google.colab.kernel.accessAllowed ? 'block' : 'none';\n",
              "    })();\n",
              "  </script>\n",
              "</div>\n",
              "    </div>\n",
              "  </div>\n"
            ],
            "text/plain": [
              "         event_date  session_id       user_pseudo_id      event_name  \\\n",
              "0        2020-11-30  9618800080   1395824.1622992884  begin_checkout   \n",
              "1        2020-11-28    95373859  83739349.8729103328       view_item   \n",
              "2        2020-11-07  9571236150   2162170.2903898118       view_item   \n",
              "3        2020-12-05  4900494984   7054156.8209924713     add_to_cart   \n",
              "4        2020-11-25  6353211790  39092538.2458790241  begin_checkout   \n",
              "...             ...         ...                  ...             ...   \n",
              "3982727  2020-12-18  2441512295  34315975.5425381937     add_to_cart   \n",
              "3982728  2020-12-21  8649406270   2201262.6636571339       view_item   \n",
              "3982729  2020-12-21  5725703324   2994751.6580189667     add_to_cart   \n",
              "3982730  2020-11-26  8006557772   7487454.9043521164     add_to_cart   \n",
              "3982731  2020-12-07  2798318471  89568224.2450998912  view_promotion   \n",
              "\n",
              "          event_timestamp                                      page_location  \\\n",
              "0        1606756415674646  https://shop.googlemerchandisestore.com/yourin...   \n",
              "1        1606550005837693  https://shop.googlemerchandisestore.com/Google...   \n",
              "2        1604732150618958  https://shop.googlemerchandisestore.com/Google...   \n",
              "3        1607187918643477  https://shop.googlemerchandisestore.com/Google...   \n",
              "4        1606338886296693  https://shop.googlemerchandisestore.com/yourin...   \n",
              "...                   ...                                                ...   \n",
              "3982727  1608255860650901  https://shop.googlemerchandisestore.com/Google...   \n",
              "3982728  1608587841036071  https://shop.googlemerchandisestore.com/Google...   \n",
              "3982729  1608515048355629  https://shop.googlemerchandisestore.com/Google...   \n",
              "3982730  1606382728795425  https://shop.googlemerchandisestore.com/Google...   \n",
              "3982731  1607347805682774           https://shop.googlemerchandisestore.com/   \n",
              "\n",
              "                                                page_title         item_id  \\\n",
              "0                                Checkout Your Information         9196853   \n",
              "1                                                Lifestyle  GGOEGABK101099   \n",
              "2              Womens | Apparel | Google Merchandise Store    GGOEGXXX1342   \n",
              "3                          Sale | Google Merchandise Store  GGOEACBA104599   \n",
              "4                                Checkout Your Information         9195032   \n",
              "...                                                    ...             ...   \n",
              "3982727  Men's / Unisex | Apparel | Google Merchandise ...    GGOEGXXX1385   \n",
              "3982728        Womens | Apparel | Google Merchandise Store    GGOEGXXX1264   \n",
              "3982729  Men's / Unisex | Apparel | Google Merchandise ...    GGOEGXXX1038   \n",
              "3982730  Men's / Unisex | Apparel | Google Merchandise ...    GGOEGXXX1352   \n",
              "3982731                                               Home       (not set)   \n",
              "\n",
              "                                   item_name item_brand  ...  geo_metro  \\\n",
              "0         Android Iconic Crewneck Sweatshirt    Android  ...  (not set)   \n",
              "1                  Google Phone Stand Bamboo  (not set)  ...  (not set)   \n",
              "2           Google Crewneck Sweatshirt Green  (not set)  ...  (not set)   \n",
              "3             Android SM S/F18 Sticker Sheet  (not set)  ...  (not set)   \n",
              "4                      Google Camp Mug Ivory     Google  ...  (not set)   \n",
              "...                                      ...        ...  ...        ...   \n",
              "3982727        Google Men's Tech Fleece Grey  (not set)  ...  (not set)   \n",
              "3982728            Android Garden Tee Orange  (not set)  ...  (not set)   \n",
              "3982729  Google F/C Long Sleeve Tee Charcoal  (not set)  ...  (not set)   \n",
              "3982730    Google Sherpa Zip Hoodie Charcoal  (not set)  ...  (not set)   \n",
              "3982731                            (not set)  (not set)  ...  (not set)   \n",
              "\n",
              "        traffic_source_name  traffic_source_medium  \\\n",
              "0                 (organic)                organic   \n",
              "1                  (direct)                 (none)   \n",
              "2                (referral)               referral   \n",
              "3                (referral)               referral   \n",
              "4                  (direct)                 (none)   \n",
              "...                     ...                    ...   \n",
              "3982727            (direct)                 (none)   \n",
              "3982728          (referral)               referral   \n",
              "3982729            (direct)                 (none)   \n",
              "3982730            (direct)                 (none)   \n",
              "3982731          (referral)               referral   \n",
              "\n",
              "                   traffic_source_source  \\\n",
              "0                                 google   \n",
              "1                               (direct)   \n",
              "2                                <Other>   \n",
              "3        shop.googlemerchandisestore.com   \n",
              "4                               (direct)   \n",
              "...                                  ...   \n",
              "3982727                         (direct)   \n",
              "3982728                          <Other>   \n",
              "3982729                         (direct)   \n",
              "3982730                         (direct)   \n",
              "3982731  shop.googlemerchandisestore.com   \n",
              "\n",
              "                                             page_referrer entrances  \\\n",
              "0                                                     None      <NA>   \n",
              "1        https://shop.googlemerchandisestore.com/Google...      <NA>   \n",
              "2                                                     None      <NA>   \n",
              "3        https://shop.googlemerchandisestore.com/Google...      <NA>   \n",
              "4                                                     None      <NA>   \n",
              "...                                                    ...       ...   \n",
              "3982727          https://shop.googlemerchandisestore.com/?      <NA>   \n",
              "3982728  https://shop.googlemerchandisestore.com/basket...      <NA>   \n",
              "3982729                                               None      <NA>   \n",
              "3982730                                               None      <NA>   \n",
              "3982731  https://shop.googlemerchandisestore.com/store....      <NA>   \n",
              "\n",
              "        debug_mode  ga_session_number  session_engaged  engagement_time_msec  \n",
              "0                1                  4                1                     1  \n",
              "1                1                  4                1                  6689  \n",
              "2                1                  4                1                  1534  \n",
              "3                1                  2                1                  5439  \n",
              "4                1                 22                1                    58  \n",
              "...            ...                ...              ...                   ...  \n",
              "3982727          1                  1                1                  5947  \n",
              "3982728          1                  6                1                  4401  \n",
              "3982729          1                  1                1                  2767  \n",
              "3982730          1                  1                1                  9451  \n",
              "3982731          1                  3                0                     9  \n",
              "\n",
              "[3982732 rows x 49 columns]"
            ]
          },
          "execution_count": 2,
          "metadata": {},
          "output_type": "execute_result"
        }
      ],
      "source": [
        "# You can view the resulting Pandas DataFrame and work with using the Pandas library.\n",
        "# https://pandas.pydata.org/docs/getting_started/index.html#getting-started\n",
        "results"
      ]
    },
    {
      "cell_type": "markdown",
      "metadata": {
        "id": "PYt5QGSf67N3"
      },
      "source": [
        "# Example 2: Query a table with BigQuery DataFrames"
      ]
    },
    {
      "cell_type": "code",
      "execution_count": 6,
      "metadata": {
        "executionInfo": {
          "elapsed": 1633,
          "status": "ok",
          "timestamp": 1726940878332,
          "user": {
            "displayName": "",
            "userId": ""
          },
          "user_tz": -60
        },
        "id": "tJSfAiHycbAj"
      },
      "outputs": [],
      "source": [
        "# With BigQuery DataFrames, you can use many familiar Pandas methods, but the\n",
        "# processing happens BigQuery rather than the runtime, allowing you to work with larger\n",
        "# DataFrames that would otherwise not fit in the runtime memory.\n",
        "# Learn more here: https://cloud.google.com/python/docs/reference/bigframes/latest\n",
        "\n",
        "import bigframes.pandas as bf\n",
        "\n",
        "bf.options.bigquery.location = \"US\" #this variable is set based on the dataset you chose to query\n",
        "bf.options.bigquery.project = \"ist-data-science\" #this variable is set based on the dataset you chose to query"
      ]
    },
    {
      "cell_type": "code",
      "execution_count": 7,
      "metadata": {
        "colab": {
          "base_uri": "https://localhost:8080/"
        },
        "executionInfo": {
          "elapsed": 2288,
          "status": "ok",
          "timestamp": 1726940883436,
          "user": {
            "displayName": "",
            "userId": ""
          },
          "user_tz": -60
        },
        "id": "fUsQzlgjiA_G",
        "outputId": "c06cff59-7c50-4e51-bd07-8045a6325abf"
      },
      "outputs": [
        {
          "name": "stdout",
          "output_type": "stream",
          "text": [
            "WARNING: google.colab.auth.authenticate_user() is not supported in Colab Enterprise.\n"
          ]
        }
      ],
      "source": [
        "df = bf.read_gbq(\"ist-data-science.ga4_google_merch_store.flattened_raw\") #this variable is set based on the dataset you chose to query"
      ]
    },
    {
      "cell_type": "code",
      "execution_count": 8,
      "metadata": {
        "colab": {
          "base_uri": "https://localhost:8080/",
          "height": 1000
        },
        "executionInfo": {
          "elapsed": 14290,
          "status": "ok",
          "timestamp": 1726940897724,
          "user": {
            "displayName": "",
            "userId": ""
          },
          "user_tz": -60
        },
        "id": "YQguJBV6iRSI",
        "outputId": "678eb9be-bf73-4115-e680-0e29d42f75db"
      },
      "outputs": [
        {
          "data": {
            "text/html": [
              "Query job 2f74c50a-5107-424d-8fe2-cc09472c1a70 is DONE. 2.1 GB processed. <a target=\"_blank\" href=\"https://console.cloud.google.com/bigquery?project=ist-data-science&j=bq:US:2f74c50a-5107-424d-8fe2-cc09472c1a70&page=queryresults\">Open Job</a>"
            ],
            "text/plain": [
              "<IPython.core.display.HTML object>"
            ]
          },
          "metadata": {},
          "output_type": "display_data"
        },
        {
          "data": {
            "text/html": [
              "Query job f1564d70-8e6f-4378-a2b3-fec4f2a414cc is DONE. 0 Bytes processed. <a target=\"_blank\" href=\"https://console.cloud.google.com/bigquery?project=ist-data-science&j=bq:US:f1564d70-8e6f-4378-a2b3-fec4f2a414cc&page=queryresults\">Open Job</a>"
            ],
            "text/plain": [
              "<IPython.core.display.HTML object>"
            ]
          },
          "metadata": {},
          "output_type": "display_data"
        },
        {
          "data": {
            "text/html": [
              "Query job 7e42c726-6d91-4577-96bb-7fcc92bb1c0a is DONE. 11.6 kB processed. <a target=\"_blank\" href=\"https://console.cloud.google.com/bigquery?project=ist-data-science&j=bq:US:7e42c726-6d91-4577-96bb-7fcc92bb1c0a&page=queryresults\">Open Job</a>"
            ],
            "text/plain": [
              "<IPython.core.display.HTML object>"
            ]
          },
          "metadata": {},
          "output_type": "display_data"
        },
        {
          "data": {
            "text/html": [
              "<div>\n",
              "<style scoped>\n",
              "    .dataframe tbody tr th:only-of-type {\n",
              "        vertical-align: middle;\n",
              "    }\n",
              "\n",
              "    .dataframe tbody tr th {\n",
              "        vertical-align: top;\n",
              "    }\n",
              "\n",
              "    .dataframe thead th {\n",
              "        text-align: right;\n",
              "    }\n",
              "</style>\n",
              "<table border=\"1\" class=\"dataframe\">\n",
              "  <thead>\n",
              "    <tr style=\"text-align: right;\">\n",
              "      <th></th>\n",
              "      <th>event_date</th>\n",
              "      <th>session_id</th>\n",
              "      <th>user_pseudo_id</th>\n",
              "      <th>event_name</th>\n",
              "      <th>event_timestamp</th>\n",
              "      <th>page_location</th>\n",
              "      <th>page_title</th>\n",
              "      <th>item_id</th>\n",
              "      <th>item_name</th>\n",
              "      <th>item_brand</th>\n",
              "      <th>...</th>\n",
              "      <th>geo_metro</th>\n",
              "      <th>traffic_source_name</th>\n",
              "      <th>traffic_source_medium</th>\n",
              "      <th>traffic_source_source</th>\n",
              "      <th>page_referrer</th>\n",
              "      <th>entrances</th>\n",
              "      <th>debug_mode</th>\n",
              "      <th>ga_session_number</th>\n",
              "      <th>session_engaged</th>\n",
              "      <th>engagement_time_msec</th>\n",
              "    </tr>\n",
              "  </thead>\n",
              "  <tbody>\n",
              "    <tr>\n",
              "      <th>0</th>\n",
              "      <td>2020-12-09</td>\n",
              "      <td>2671720812</td>\n",
              "      <td>36739590.6951379629</td>\n",
              "      <td>view_item</td>\n",
              "      <td>1607496626677462</td>\n",
              "      <td>https://shop.googlemerchandisestore.com/Google...</td>\n",
              "      <td>Lifestyle</td>\n",
              "      <td>GGOEGBJR100099</td>\n",
              "      <td>Google Mesh Bag Red</td>\n",
              "      <td>(not set)</td>\n",
              "      <td>...</td>\n",
              "      <td>(not set)</td>\n",
              "      <td>(referral)</td>\n",
              "      <td>referral</td>\n",
              "      <td>&lt;Other&gt;</td>\n",
              "      <td>https://shop.googlemerchandisestore.com/Google...</td>\n",
              "      <td>&lt;NA&gt;</td>\n",
              "      <td>1</td>\n",
              "      <td>2</td>\n",
              "      <td>1</td>\n",
              "      <td>44909</td>\n",
              "    </tr>\n",
              "    <tr>\n",
              "      <th>1</th>\n",
              "      <td>2020-11-27</td>\n",
              "      <td>7568629101</td>\n",
              "      <td>61844846.7182556271</td>\n",
              "      <td>add_to_cart</td>\n",
              "      <td>1606488207536266</td>\n",
              "      <td>https://shop.googlemerchandisestore.com/Google...</td>\n",
              "      <td>Drinkware | Lifestyle | Google Merchandise Store</td>\n",
              "      <td>GGOEGDBJ132299</td>\n",
              "      <td>Stainless Bent Straw/Cleaner</td>\n",
              "      <td>(not set)</td>\n",
              "      <td>...</td>\n",
              "      <td>(not set)</td>\n",
              "      <td>(referral)</td>\n",
              "      <td>referral</td>\n",
              "      <td>&lt;Other&gt;</td>\n",
              "      <td>https://shop.googlemerchandisestore.com/Google...</td>\n",
              "      <td>&lt;NA&gt;</td>\n",
              "      <td>1</td>\n",
              "      <td>2</td>\n",
              "      <td>1</td>\n",
              "      <td>2321</td>\n",
              "    </tr>\n",
              "    <tr>\n",
              "      <th>2</th>\n",
              "      <td>2020-12-25</td>\n",
              "      <td>9539142630</td>\n",
              "      <td>4022952.2986902042</td>\n",
              "      <td>view_item</td>\n",
              "      <td>1608887668492249</td>\n",
              "      <td>https://shop.googlemerchandisestore.com/Google...</td>\n",
              "      <td>Sale | Google Merchandise Store</td>\n",
              "      <td>GGOEGXXX0919</td>\n",
              "      <td>YouTube Women's Favorite Tee White</td>\n",
              "      <td>(not set)</td>\n",
              "      <td>...</td>\n",
              "      <td>(not set)</td>\n",
              "      <td>(organic)</td>\n",
              "      <td>organic</td>\n",
              "      <td>google</td>\n",
              "      <td>https://shop.googlemerchandisestore.com/Google...</td>\n",
              "      <td>&lt;NA&gt;</td>\n",
              "      <td>1</td>\n",
              "      <td>3</td>\n",
              "      <td>1</td>\n",
              "      <td>298</td>\n",
              "    </tr>\n",
              "    <tr>\n",
              "      <th>3</th>\n",
              "      <td>2021-01-01</td>\n",
              "      <td>510052191</td>\n",
              "      <td>38359877.5815012009</td>\n",
              "      <td>view_item</td>\n",
              "      <td>1609505884664271</td>\n",
              "      <td>https://shop.googlemerchandisestore.com/Google...</td>\n",
              "      <td>Google | Shop by Brand | Google Merchandise Store</td>\n",
              "      <td>GGOEGXXX1613</td>\n",
              "      <td>Super G Unisex Joggers</td>\n",
              "      <td>(not set)</td>\n",
              "      <td>...</td>\n",
              "      <td>(not set)</td>\n",
              "      <td>(organic)</td>\n",
              "      <td>organic</td>\n",
              "      <td>google</td>\n",
              "      <td>&lt;NA&gt;</td>\n",
              "      <td>&lt;NA&gt;</td>\n",
              "      <td>1</td>\n",
              "      <td>1</td>\n",
              "      <td>1</td>\n",
              "      <td>1208</td>\n",
              "    </tr>\n",
              "    <tr>\n",
              "      <th>4</th>\n",
              "      <td>2020-12-07</td>\n",
              "      <td>6508478234</td>\n",
              "      <td>37323254.4529518979</td>\n",
              "      <td>view_item</td>\n",
              "      <td>1607321985531500</td>\n",
              "      <td>https://shop.googlemerchandisestore.com/Google...</td>\n",
              "      <td>Sale | Google Merchandise Store</td>\n",
              "      <td>GGOEGXXX1181</td>\n",
              "      <td>Google Women's Striped L/S</td>\n",
              "      <td>(not set)</td>\n",
              "      <td>...</td>\n",
              "      <td>(not set)</td>\n",
              "      <td>(organic)</td>\n",
              "      <td>organic</td>\n",
              "      <td>google</td>\n",
              "      <td>&lt;NA&gt;</td>\n",
              "      <td>&lt;NA&gt;</td>\n",
              "      <td>1</td>\n",
              "      <td>1</td>\n",
              "      <td>1</td>\n",
              "      <td>17162</td>\n",
              "    </tr>\n",
              "    <tr>\n",
              "      <th>5</th>\n",
              "      <td>2020-11-18</td>\n",
              "      <td>7141007195</td>\n",
              "      <td>1918834.3465352460</td>\n",
              "      <td>view_item</td>\n",
              "      <td>1605684093426623</td>\n",
              "      <td>https://shop.googlemerchandisestore.com/Google...</td>\n",
              "      <td>New | Google Merchandise Store</td>\n",
              "      <td>GGCOGDHC161299</td>\n",
              "      <td>Google Blue Stojo Cup</td>\n",
              "      <td>(not set)</td>\n",
              "      <td>...</td>\n",
              "      <td>(not set)</td>\n",
              "      <td>(organic)</td>\n",
              "      <td>organic</td>\n",
              "      <td>google</td>\n",
              "      <td>https://shop.googlemerchandisestore.com/signin...</td>\n",
              "      <td>&lt;NA&gt;</td>\n",
              "      <td>1</td>\n",
              "      <td>1</td>\n",
              "      <td>1</td>\n",
              "      <td>6376</td>\n",
              "    </tr>\n",
              "    <tr>\n",
              "      <th>6</th>\n",
              "      <td>2020-12-17</td>\n",
              "      <td>6384297578</td>\n",
              "      <td>61878973.9611156034</td>\n",
              "      <td>view_item</td>\n",
              "      <td>1608239045746769</td>\n",
              "      <td>https://shop.googlemerchandisestore.com/store....</td>\n",
              "      <td>Home</td>\n",
              "      <td>GGOEGXXX0907</td>\n",
              "      <td>Google Tee Blue</td>\n",
              "      <td>(not set)</td>\n",
              "      <td>...</td>\n",
              "      <td>(not set)</td>\n",
              "      <td>(direct)</td>\n",
              "      <td>(none)</td>\n",
              "      <td>(direct)</td>\n",
              "      <td>https://shop.googlemerchandisestore.com/store....</td>\n",
              "      <td>&lt;NA&gt;</td>\n",
              "      <td>1</td>\n",
              "      <td>1</td>\n",
              "      <td>1</td>\n",
              "      <td>4518</td>\n",
              "    </tr>\n",
              "    <tr>\n",
              "      <th>7</th>\n",
              "      <td>2020-11-23</td>\n",
              "      <td>5906826709</td>\n",
              "      <td>77805852.6832906360</td>\n",
              "      <td>view_item</td>\n",
              "      <td>1606171134501863</td>\n",
              "      <td>https://shop.googlemerchandisestore.com/Google...</td>\n",
              "      <td>Drinkware | Lifestyle | Google Merchandise Store</td>\n",
              "      <td>GGOEGDHB137399</td>\n",
              "      <td>Google Woodtop Bottle Black</td>\n",
              "      <td>(not set)</td>\n",
              "      <td>...</td>\n",
              "      <td>(not set)</td>\n",
              "      <td>(organic)</td>\n",
              "      <td>organic</td>\n",
              "      <td>google</td>\n",
              "      <td>&lt;NA&gt;</td>\n",
              "      <td>&lt;NA&gt;</td>\n",
              "      <td>1</td>\n",
              "      <td>5</td>\n",
              "      <td>1</td>\n",
              "      <td>27282</td>\n",
              "    </tr>\n",
              "    <tr>\n",
              "      <th>8</th>\n",
              "      <td>2021-01-21</td>\n",
              "      <td>3249502377</td>\n",
              "      <td>72684983.3323384153</td>\n",
              "      <td>add_to_cart</td>\n",
              "      <td>1611235206103541</td>\n",
              "      <td>https://shop.googlemerchandisestore.com/Google...</td>\n",
              "      <td>YouTube | Shop by Brand | Google Merchandise S...</td>\n",
              "      <td>9195702</td>\n",
              "      <td>YouTube Icon Tee Charcoal</td>\n",
              "      <td>YouTube</td>\n",
              "      <td>...</td>\n",
              "      <td>(not set)</td>\n",
              "      <td>(referral)</td>\n",
              "      <td>referral</td>\n",
              "      <td>&lt;Other&gt;</td>\n",
              "      <td>https://shop.googlemerchandisestore.com/store....</td>\n",
              "      <td>&lt;NA&gt;</td>\n",
              "      <td>1</td>\n",
              "      <td>1</td>\n",
              "      <td>1</td>\n",
              "      <td>43531</td>\n",
              "    </tr>\n",
              "    <tr>\n",
              "      <th>9</th>\n",
              "      <td>2020-12-23</td>\n",
              "      <td>8859178193</td>\n",
              "      <td>29930506.5218532120</td>\n",
              "      <td>begin_checkout</td>\n",
              "      <td>1608754124788104</td>\n",
              "      <td>https://shop.googlemerchandisestore.com/yourin...</td>\n",
              "      <td>Checkout Your Information</td>\n",
              "      <td>9195803</td>\n",
              "      <td>YouTube Icon Tee Grey</td>\n",
              "      <td>YouTube</td>\n",
              "      <td>...</td>\n",
              "      <td>(not set)</td>\n",
              "      <td>(organic)</td>\n",
              "      <td>organic</td>\n",
              "      <td>google</td>\n",
              "      <td>https://shop.googlemerchandisestore.com/basket...</td>\n",
              "      <td>&lt;NA&gt;</td>\n",
              "      <td>1</td>\n",
              "      <td>1</td>\n",
              "      <td>1</td>\n",
              "      <td>5</td>\n",
              "    </tr>\n",
              "    <tr>\n",
              "      <th>10</th>\n",
              "      <td>2021-01-20</td>\n",
              "      <td>5314277017</td>\n",
              "      <td>76249664.0981825031</td>\n",
              "      <td>view_item</td>\n",
              "      <td>1611116366121651</td>\n",
              "      <td>https://shop.googlemerchandisestore.com/Google...</td>\n",
              "      <td>Womens | Apparel | Google Merchandise Store</td>\n",
              "      <td>GGOEGXXX1343</td>\n",
              "      <td>Google Heather Green Speckled Tee</td>\n",
              "      <td>(not set)</td>\n",
              "      <td>...</td>\n",
              "      <td>(not set)</td>\n",
              "      <td>(organic)</td>\n",
              "      <td>organic</td>\n",
              "      <td>google</td>\n",
              "      <td>&lt;NA&gt;</td>\n",
              "      <td>&lt;NA&gt;</td>\n",
              "      <td>1</td>\n",
              "      <td>1</td>\n",
              "      <td>1</td>\n",
              "      <td>15573</td>\n",
              "    </tr>\n",
              "    <tr>\n",
              "      <th>11</th>\n",
              "      <td>2020-12-05</td>\n",
              "      <td>4758870501</td>\n",
              "      <td>3989449.0196984005</td>\n",
              "      <td>view_item</td>\n",
              "      <td>1607144618827352</td>\n",
              "      <td>https://shop.googlemerchandisestore.com/Google...</td>\n",
              "      <td>Apparel | Google Merchandise Store</td>\n",
              "      <td>GGOEGXXX1340</td>\n",
              "      <td>Google Badge Heavyweight Pullover Black</td>\n",
              "      <td>(not set)</td>\n",
              "      <td>...</td>\n",
              "      <td>(not set)</td>\n",
              "      <td>(organic)</td>\n",
              "      <td>organic</td>\n",
              "      <td>google</td>\n",
              "      <td>https://shop.googlemerchandisestore.com/Google...</td>\n",
              "      <td>&lt;NA&gt;</td>\n",
              "      <td>1</td>\n",
              "      <td>1</td>\n",
              "      <td>1</td>\n",
              "      <td>33976</td>\n",
              "    </tr>\n",
              "    <tr>\n",
              "      <th>12</th>\n",
              "      <td>2020-12-27</td>\n",
              "      <td>8450400815</td>\n",
              "      <td>3360442.5856879049</td>\n",
              "      <td>view_item</td>\n",
              "      <td>1609095951587692</td>\n",
              "      <td>https://shop.googlemerchandisestore.com/store....</td>\n",
              "      <td>Home</td>\n",
              "      <td>GGOEAOAL129199</td>\n",
              "      <td>Android Iconic Pen</td>\n",
              "      <td>(not set)</td>\n",
              "      <td>...</td>\n",
              "      <td>(not set)</td>\n",
              "      <td>(organic)</td>\n",
              "      <td>organic</td>\n",
              "      <td>google</td>\n",
              "      <td>https://shop.googlemerchandisestore.com/store....</td>\n",
              "      <td>&lt;NA&gt;</td>\n",
              "      <td>1</td>\n",
              "      <td>2</td>\n",
              "      <td>1</td>\n",
              "      <td>10919</td>\n",
              "    </tr>\n",
              "    <tr>\n",
              "      <th>13</th>\n",
              "      <td>2020-11-14</td>\n",
              "      <td>7468819718</td>\n",
              "      <td>5934371.4289037546</td>\n",
              "      <td>view_item</td>\n",
              "      <td>1605346442166701</td>\n",
              "      <td>https://shop.googlemerchandisestore.com/Google...</td>\n",
              "      <td>Writing | Stationery | Google Merchandise Store</td>\n",
              "      <td>GGOEGOAQ101299</td>\n",
              "      <td>Google Pen White</td>\n",
              "      <td>(not set)</td>\n",
              "      <td>...</td>\n",
              "      <td>(not set)</td>\n",
              "      <td>(direct)</td>\n",
              "      <td>(none)</td>\n",
              "      <td>(direct)</td>\n",
              "      <td>https://shop.googlemerchandisestore.com/Google...</td>\n",
              "      <td>&lt;NA&gt;</td>\n",
              "      <td>1</td>\n",
              "      <td>1</td>\n",
              "      <td>1</td>\n",
              "      <td>3615</td>\n",
              "    </tr>\n",
              "    <tr>\n",
              "      <th>14</th>\n",
              "      <td>2020-12-17</td>\n",
              "      <td>688018776</td>\n",
              "      <td>2018069.5684159941</td>\n",
              "      <td>view_item</td>\n",
              "      <td>1608247351804830</td>\n",
              "      <td>https://shop.googlemerchandisestore.com/Google...</td>\n",
              "      <td>Drinkware | Lifestyle | Google Merchandise Store</td>\n",
              "      <td>GGOEGDHB137399</td>\n",
              "      <td>Google Woodtop Bottle Black</td>\n",
              "      <td>(not set)</td>\n",
              "      <td>...</td>\n",
              "      <td>(not set)</td>\n",
              "      <td>(direct)</td>\n",
              "      <td>(none)</td>\n",
              "      <td>(direct)</td>\n",
              "      <td>&lt;NA&gt;</td>\n",
              "      <td>&lt;NA&gt;</td>\n",
              "      <td>1</td>\n",
              "      <td>1</td>\n",
              "      <td>1</td>\n",
              "      <td>11203</td>\n",
              "    </tr>\n",
              "    <tr>\n",
              "      <th>15</th>\n",
              "      <td>2020-11-03</td>\n",
              "      <td>946887875</td>\n",
              "      <td>83151527.5488193754</td>\n",
              "      <td>view_item</td>\n",
              "      <td>1604419274158036</td>\n",
              "      <td>https://shop.googlemerchandisestore.com/Google...</td>\n",
              "      <td>Womens | Apparel | Google Merchandise Store</td>\n",
              "      <td>GGOEGXXX1078</td>\n",
              "      <td>Google Women's Grid Zip-Up</td>\n",
              "      <td>(not set)</td>\n",
              "      <td>...</td>\n",
              "      <td>(not set)</td>\n",
              "      <td>(referral)</td>\n",
              "      <td>referral</td>\n",
              "      <td>shop.googlemerchandisestore.com</td>\n",
              "      <td>https://shop.googlemerchandisestore.com/Google...</td>\n",
              "      <td>&lt;NA&gt;</td>\n",
              "      <td>1</td>\n",
              "      <td>4</td>\n",
              "      <td>1</td>\n",
              "      <td>4121</td>\n",
              "    </tr>\n",
              "    <tr>\n",
              "      <th>16</th>\n",
              "      <td>2020-12-22</td>\n",
              "      <td>6015609203</td>\n",
              "      <td>38940697.0285959050</td>\n",
              "      <td>begin_checkout</td>\n",
              "      <td>1608680054210786</td>\n",
              "      <td>https://shop.googlemerchandisestore.com/yourin...</td>\n",
              "      <td>Checkout Your Information</td>\n",
              "      <td>9195841</td>\n",
              "      <td>Google Perk Thermal Tumbler</td>\n",
              "      <td>Google</td>\n",
              "      <td>...</td>\n",
              "      <td>(not set)</td>\n",
              "      <td>(direct)</td>\n",
              "      <td>(none)</td>\n",
              "      <td>(direct)</td>\n",
              "      <td>https://shop.googlemerchandisestore.com/yourin...</td>\n",
              "      <td>&lt;NA&gt;</td>\n",
              "      <td>1</td>\n",
              "      <td>5</td>\n",
              "      <td>1</td>\n",
              "      <td>7</td>\n",
              "    </tr>\n",
              "    <tr>\n",
              "      <th>17</th>\n",
              "      <td>2020-11-08</td>\n",
              "      <td>543927747</td>\n",
              "      <td>28190395.8159227611</td>\n",
              "      <td>view_item</td>\n",
              "      <td>1604800986157222</td>\n",
              "      <td>https://shop.googlemerchandisestore.com/Google...</td>\n",
              "      <td>Hats | Apparel | Google Merchandise Store</td>\n",
              "      <td>GGOEAHPJ131210</td>\n",
              "      <td>Android Iconic Beanie</td>\n",
              "      <td>(not set)</td>\n",
              "      <td>...</td>\n",
              "      <td>(not set)</td>\n",
              "      <td>(referral)</td>\n",
              "      <td>referral</td>\n",
              "      <td>shop.googlemerchandisestore.com</td>\n",
              "      <td>http://shop.googlemerchandisestore.com/store.h...</td>\n",
              "      <td>&lt;NA&gt;</td>\n",
              "      <td>1</td>\n",
              "      <td>1</td>\n",
              "      <td>1</td>\n",
              "      <td>4257</td>\n",
              "    </tr>\n",
              "    <tr>\n",
              "      <th>18</th>\n",
              "      <td>2020-11-04</td>\n",
              "      <td>5495856076</td>\n",
              "      <td>71260187.7819880287</td>\n",
              "      <td>view_item</td>\n",
              "      <td>1604461867497019</td>\n",
              "      <td>https://shop.googlemerchandisestore.com/Google...</td>\n",
              "      <td>Men's / Unisex | Apparel | Google Merchandise ...</td>\n",
              "      <td>GGOEGXXX1038</td>\n",
              "      <td>Google F/C Long Sleeve Tee Charcoal</td>\n",
              "      <td>(not set)</td>\n",
              "      <td>...</td>\n",
              "      <td>(not set)</td>\n",
              "      <td>(direct)</td>\n",
              "      <td>(none)</td>\n",
              "      <td>(direct)</td>\n",
              "      <td>https://shop.googlemerchandisestore.com/store....</td>\n",
              "      <td>&lt;NA&gt;</td>\n",
              "      <td>1</td>\n",
              "      <td>2</td>\n",
              "      <td>1</td>\n",
              "      <td>3407</td>\n",
              "    </tr>\n",
              "    <tr>\n",
              "      <th>19</th>\n",
              "      <td>2020-11-28</td>\n",
              "      <td>785526366</td>\n",
              "      <td>2921448.2882892445</td>\n",
              "      <td>view_item</td>\n",
              "      <td>1606559688090627</td>\n",
              "      <td>https://shop.googlemerchandisestore.com/Google...</td>\n",
              "      <td>Womens | Apparel | Google Merchandise Store</td>\n",
              "      <td>GGOEGXXX1345</td>\n",
              "      <td>Google Red Speckled Tee</td>\n",
              "      <td>(not set)</td>\n",
              "      <td>...</td>\n",
              "      <td>(not set)</td>\n",
              "      <td>(referral)</td>\n",
              "      <td>referral</td>\n",
              "      <td>shop.googlemerchandisestore.com</td>\n",
              "      <td>https://shop.googlemerchandisestore.com/Google...</td>\n",
              "      <td>&lt;NA&gt;</td>\n",
              "      <td>1</td>\n",
              "      <td>2</td>\n",
              "      <td>1</td>\n",
              "      <td>1367</td>\n",
              "    </tr>\n",
              "  </tbody>\n",
              "</table>\n",
              "<p>20 rows × 49 columns</p>\n",
              "</div>[20 rows x 49 columns in total]"
            ],
            "text/plain": [
              "    event_date  session_id       user_pseudo_id      event_name  \\\n",
              "0   2020-12-09  2671720812  36739590.6951379629       view_item   \n",
              "1   2020-11-27  7568629101  61844846.7182556271     add_to_cart   \n",
              "2   2020-12-25  9539142630   4022952.2986902042       view_item   \n",
              "3   2021-01-01   510052191  38359877.5815012009       view_item   \n",
              "4   2020-12-07  6508478234  37323254.4529518979       view_item   \n",
              "5   2020-11-18  7141007195   1918834.3465352460       view_item   \n",
              "6   2020-12-17  6384297578  61878973.9611156034       view_item   \n",
              "7   2020-11-23  5906826709  77805852.6832906360       view_item   \n",
              "8   2021-01-21  3249502377  72684983.3323384153     add_to_cart   \n",
              "9   2020-12-23  8859178193  29930506.5218532120  begin_checkout   \n",
              "10  2021-01-20  5314277017  76249664.0981825031       view_item   \n",
              "11  2020-12-05  4758870501   3989449.0196984005       view_item   \n",
              "12  2020-12-27  8450400815   3360442.5856879049       view_item   \n",
              "13  2020-11-14  7468819718   5934371.4289037546       view_item   \n",
              "14  2020-12-17   688018776   2018069.5684159941       view_item   \n",
              "15  2020-11-03   946887875  83151527.5488193754       view_item   \n",
              "16  2020-12-22  6015609203  38940697.0285959050  begin_checkout   \n",
              "17  2020-11-08   543927747  28190395.8159227611       view_item   \n",
              "18  2020-11-04  5495856076  71260187.7819880287       view_item   \n",
              "19  2020-11-28   785526366   2921448.2882892445       view_item   \n",
              "\n",
              "     event_timestamp                                      page_location  \\\n",
              "0   1607496626677462  https://shop.googlemerchandisestore.com/Google...   \n",
              "1   1606488207536266  https://shop.googlemerchandisestore.com/Google...   \n",
              "2   1608887668492249  https://shop.googlemerchandisestore.com/Google...   \n",
              "3   1609505884664271  https://shop.googlemerchandisestore.com/Google...   \n",
              "4   1607321985531500  https://shop.googlemerchandisestore.com/Google...   \n",
              "5   1605684093426623  https://shop.googlemerchandisestore.com/Google...   \n",
              "6   1608239045746769  https://shop.googlemerchandisestore.com/store....   \n",
              "7   1606171134501863  https://shop.googlemerchandisestore.com/Google...   \n",
              "8   1611235206103541  https://shop.googlemerchandisestore.com/Google...   \n",
              "9   1608754124788104  https://shop.googlemerchandisestore.com/yourin...   \n",
              "10  1611116366121651  https://shop.googlemerchandisestore.com/Google...   \n",
              "11  1607144618827352  https://shop.googlemerchandisestore.com/Google...   \n",
              "12  1609095951587692  https://shop.googlemerchandisestore.com/store....   \n",
              "13  1605346442166701  https://shop.googlemerchandisestore.com/Google...   \n",
              "14  1608247351804830  https://shop.googlemerchandisestore.com/Google...   \n",
              "15  1604419274158036  https://shop.googlemerchandisestore.com/Google...   \n",
              "16  1608680054210786  https://shop.googlemerchandisestore.com/yourin...   \n",
              "17  1604800986157222  https://shop.googlemerchandisestore.com/Google...   \n",
              "18  1604461867497019  https://shop.googlemerchandisestore.com/Google...   \n",
              "19  1606559688090627  https://shop.googlemerchandisestore.com/Google...   \n",
              "\n",
              "                                           page_title         item_id  \\\n",
              "0                                           Lifestyle  GGOEGBJR100099   \n",
              "1    Drinkware | Lifestyle | Google Merchandise Store  GGOEGDBJ132299   \n",
              "2                     Sale | Google Merchandise Store    GGOEGXXX0919   \n",
              "3   Google | Shop by Brand | Google Merchandise Store    GGOEGXXX1613   \n",
              "4                     Sale | Google Merchandise Store    GGOEGXXX1181   \n",
              "5                      New | Google Merchandise Store  GGCOGDHC161299   \n",
              "6                                                Home    GGOEGXXX0907   \n",
              "7    Drinkware | Lifestyle | Google Merchandise Store  GGOEGDHB137399   \n",
              "8   YouTube | Shop by Brand | Google Merchandise S...         9195702   \n",
              "9                           Checkout Your Information         9195803   \n",
              "10        Womens | Apparel | Google Merchandise Store    GGOEGXXX1343   \n",
              "11                 Apparel | Google Merchandise Store    GGOEGXXX1340   \n",
              "12                                               Home  GGOEAOAL129199   \n",
              "13    Writing | Stationery | Google Merchandise Store  GGOEGOAQ101299   \n",
              "14   Drinkware | Lifestyle | Google Merchandise Store  GGOEGDHB137399   \n",
              "15        Womens | Apparel | Google Merchandise Store    GGOEGXXX1078   \n",
              "16                          Checkout Your Information         9195841   \n",
              "17          Hats | Apparel | Google Merchandise Store  GGOEAHPJ131210   \n",
              "18  Men's / Unisex | Apparel | Google Merchandise ...    GGOEGXXX1038   \n",
              "19        Womens | Apparel | Google Merchandise Store    GGOEGXXX1345   \n",
              "\n",
              "                                  item_name item_brand  ...  geo_metro  \\\n",
              "0                       Google Mesh Bag Red  (not set)  ...  (not set)   \n",
              "1              Stainless Bent Straw/Cleaner  (not set)  ...  (not set)   \n",
              "2        YouTube Women's Favorite Tee White  (not set)  ...  (not set)   \n",
              "3                    Super G Unisex Joggers  (not set)  ...  (not set)   \n",
              "4                Google Women's Striped L/S  (not set)  ...  (not set)   \n",
              "5                     Google Blue Stojo Cup  (not set)  ...  (not set)   \n",
              "6                           Google Tee Blue  (not set)  ...  (not set)   \n",
              "7               Google Woodtop Bottle Black  (not set)  ...  (not set)   \n",
              "8                 YouTube Icon Tee Charcoal    YouTube  ...  (not set)   \n",
              "9                     YouTube Icon Tee Grey    YouTube  ...  (not set)   \n",
              "10        Google Heather Green Speckled Tee  (not set)  ...  (not set)   \n",
              "11  Google Badge Heavyweight Pullover Black  (not set)  ...  (not set)   \n",
              "12                       Android Iconic Pen  (not set)  ...  (not set)   \n",
              "13                         Google Pen White  (not set)  ...  (not set)   \n",
              "14              Google Woodtop Bottle Black  (not set)  ...  (not set)   \n",
              "15               Google Women's Grid Zip-Up  (not set)  ...  (not set)   \n",
              "16              Google Perk Thermal Tumbler     Google  ...  (not set)   \n",
              "17                    Android Iconic Beanie  (not set)  ...  (not set)   \n",
              "18      Google F/C Long Sleeve Tee Charcoal  (not set)  ...  (not set)   \n",
              "19                  Google Red Speckled Tee  (not set)  ...  (not set)   \n",
              "\n",
              "   traffic_source_name  traffic_source_medium  \\\n",
              "0           (referral)               referral   \n",
              "1           (referral)               referral   \n",
              "2            (organic)                organic   \n",
              "3            (organic)                organic   \n",
              "4            (organic)                organic   \n",
              "5            (organic)                organic   \n",
              "6             (direct)                 (none)   \n",
              "7            (organic)                organic   \n",
              "8           (referral)               referral   \n",
              "9            (organic)                organic   \n",
              "10           (organic)                organic   \n",
              "11           (organic)                organic   \n",
              "12           (organic)                organic   \n",
              "13            (direct)                 (none)   \n",
              "14            (direct)                 (none)   \n",
              "15          (referral)               referral   \n",
              "16            (direct)                 (none)   \n",
              "17          (referral)               referral   \n",
              "18            (direct)                 (none)   \n",
              "19          (referral)               referral   \n",
              "\n",
              "              traffic_source_source  \\\n",
              "0                           <Other>   \n",
              "1                           <Other>   \n",
              "2                            google   \n",
              "3                            google   \n",
              "4                            google   \n",
              "5                            google   \n",
              "6                          (direct)   \n",
              "7                            google   \n",
              "8                           <Other>   \n",
              "9                            google   \n",
              "10                           google   \n",
              "11                           google   \n",
              "12                           google   \n",
              "13                         (direct)   \n",
              "14                         (direct)   \n",
              "15  shop.googlemerchandisestore.com   \n",
              "16                         (direct)   \n",
              "17  shop.googlemerchandisestore.com   \n",
              "18                         (direct)   \n",
              "19  shop.googlemerchandisestore.com   \n",
              "\n",
              "                                        page_referrer entrances debug_mode  \\\n",
              "0   https://shop.googlemerchandisestore.com/Google...      <NA>          1   \n",
              "1   https://shop.googlemerchandisestore.com/Google...      <NA>          1   \n",
              "2   https://shop.googlemerchandisestore.com/Google...      <NA>          1   \n",
              "3                                                <NA>      <NA>          1   \n",
              "4                                                <NA>      <NA>          1   \n",
              "5   https://shop.googlemerchandisestore.com/signin...      <NA>          1   \n",
              "6   https://shop.googlemerchandisestore.com/store....      <NA>          1   \n",
              "7                                                <NA>      <NA>          1   \n",
              "8   https://shop.googlemerchandisestore.com/store....      <NA>          1   \n",
              "9   https://shop.googlemerchandisestore.com/basket...      <NA>          1   \n",
              "10                                               <NA>      <NA>          1   \n",
              "11  https://shop.googlemerchandisestore.com/Google...      <NA>          1   \n",
              "12  https://shop.googlemerchandisestore.com/store....      <NA>          1   \n",
              "13  https://shop.googlemerchandisestore.com/Google...      <NA>          1   \n",
              "14                                               <NA>      <NA>          1   \n",
              "15  https://shop.googlemerchandisestore.com/Google...      <NA>          1   \n",
              "16  https://shop.googlemerchandisestore.com/yourin...      <NA>          1   \n",
              "17  http://shop.googlemerchandisestore.com/store.h...      <NA>          1   \n",
              "18  https://shop.googlemerchandisestore.com/store....      <NA>          1   \n",
              "19  https://shop.googlemerchandisestore.com/Google...      <NA>          1   \n",
              "\n",
              "    ga_session_number  session_engaged  engagement_time_msec  \n",
              "0                   2                1                 44909  \n",
              "1                   2                1                  2321  \n",
              "2                   3                1                   298  \n",
              "3                   1                1                  1208  \n",
              "4                   1                1                 17162  \n",
              "5                   1                1                  6376  \n",
              "6                   1                1                  4518  \n",
              "7                   5                1                 27282  \n",
              "8                   1                1                 43531  \n",
              "9                   1                1                     5  \n",
              "10                  1                1                 15573  \n",
              "11                  1                1                 33976  \n",
              "12                  2                1                 10919  \n",
              "13                  1                1                  3615  \n",
              "14                  1                1                 11203  \n",
              "15                  4                1                  4121  \n",
              "16                  5                1                     7  \n",
              "17                  1                1                  4257  \n",
              "18                  2                1                  3407  \n",
              "19                  2                1                  1367  \n",
              "\n",
              "[20 rows x 49 columns]"
            ]
          },
          "execution_count": 8,
          "metadata": {},
          "output_type": "execute_result"
        }
      ],
      "source": [
        "# BigFrames can work with tables that are too large to fit in the notebook memory.\n",
        "# Look at the first 20 rows.\n",
        "df.head(20)"
      ]
    },
    {
      "cell_type": "code",
      "execution_count": 9,
      "metadata": {
        "colab": {
          "base_uri": "https://localhost:8080/",
          "height": 1000
        },
        "executionInfo": {
          "elapsed": 26366,
          "status": "ok",
          "timestamp": 1726940924088,
          "user": {
            "displayName": "",
            "userId": ""
          },
          "user_tz": -60
        },
        "id": "acUBFffTBoYj",
        "outputId": "4af1bfd3-b7b2-490f-be61-c7e717b000d2"
      },
      "outputs": [
        {
          "data": {
            "text/html": [
              "Query job 48f404b6-cdf5-467f-90e5-324105ff4d3c is DONE. 0 Bytes processed. <a target=\"_blank\" href=\"https://console.cloud.google.com/bigquery?project=ist-data-science&j=bq:US:48f404b6-cdf5-467f-90e5-324105ff4d3c&page=queryresults\">Open Job</a>"
            ],
            "text/plain": [
              "<IPython.core.display.HTML object>"
            ]
          },
          "metadata": {},
          "output_type": "display_data"
        },
        {
          "name": "stdout",
          "output_type": "stream",
          "text": [
            "<class 'bigframes.dataframe.DataFrame'>\n"
          ]
        },
        {
          "data": {
            "text/html": [
              "Query job 6fba5911-3d41-40aa-9159-58cd939f851b is DONE. 2.1 GB processed. <a target=\"_blank\" href=\"https://console.cloud.google.com/bigquery?project=ist-data-science&j=bq:US:6fba5911-3d41-40aa-9159-58cd939f851b&page=queryresults\">Open Job</a>"
            ],
            "text/plain": [
              "<IPython.core.display.HTML object>"
            ]
          },
          "metadata": {},
          "output_type": "display_data"
        },
        {
          "data": {
            "text/html": [
              "Query job 0bb7ba0f-c4e0-4b2c-8fb1-70c95ecebd65 is DONE. 2.1 GB processed. <a target=\"_blank\" href=\"https://console.cloud.google.com/bigquery?project=ist-data-science&j=bq:US:0bb7ba0f-c4e0-4b2c-8fb1-70c95ecebd65&page=queryresults\">Open Job</a>"
            ],
            "text/plain": [
              "<IPython.core.display.HTML object>"
            ]
          },
          "metadata": {},
          "output_type": "display_data"
        },
        {
          "name": "stdout",
          "output_type": "stream",
          "text": [
            "Index: 3982732 entries, 0 to 3982731\n",
            "Data columns (total 49 columns):\n",
            "  #  Column                             Dtype\n",
            "---  ---------------------------------  -------\n",
            "  0  event_date                         string\n",
            "  1  session_id                         Int64\n",
            "  2  user_pseudo_id                     string\n",
            "  3  event_name                         string\n",
            "  4  event_timestamp                    Int64\n",
            "  5  page_location                      string\n",
            "  6  page_title                         string\n",
            "  7  item_id                            string\n",
            "  8  item_name                          string\n",
            "  9  item_brand                         string\n",
            " 10  item_variant                       string\n",
            " 11  item_category                      string\n",
            " 12  price                              Float64\n",
            " 13  quantity                           Int64\n",
            " 14  item_revenue                       Float64\n",
            " 15  item_list_index                    string\n",
            " 16  promotion_name                     string\n",
            " 17  ecommerce_total_item_quantity      Int64\n",
            " 18  ecommerce_purchase_revenue_in_usd  Float64\n",
            " 19  ecommerce_purchase_revenue         Float64\n",
            " 20  ecommerce_shipping_value           Float64\n",
            " 21  ecommerce_tax_value                Float64\n",
            " 22  ecommerce_unique_items             Int64\n",
            " 23  ecommerce_transaction_id           string\n",
            " 24  device_category                    string\n",
            " 25  device_mobile_brand_name           string\n",
            " 26  device_mobile_model_name           string\n",
            " 27  device_mobile_marketing_name       string\n",
            " 28  device_operating_system            string\n",
            " 29  device_operating_system_version    string\n",
            " 30  device_language                    string\n",
            " 31  device_is_limited_ad_tracking      string\n",
            " 32  device_web_info_browser            string\n",
            " 33  device_web_info_browser_version    string\n",
            " 34  geo_continent                      string\n",
            " 35  geo_country                        string\n",
            " 36  geo_region                         string\n",
            " 37  geo_city                           string\n",
            " 38  geo_sub_continent                  string\n",
            " 39  geo_metro                          string\n",
            " 40  traffic_source_name                string\n",
            " 41  traffic_source_medium              string\n",
            " 42  traffic_source_source              string\n",
            " 43  page_referrer                      string\n",
            " 44  entrances                          Int64\n",
            " 45  debug_mode                         Int64\n",
            " 46  ga_session_number                  Int64\n",
            " 47  session_engaged                    string\n",
            " 48  engagement_time_msec               Int64\n",
            "dtypes: Float64(6), Int64(9), string(34)\n"
          ]
        },
        {
          "data": {
            "text/html": [
              "Query job 0babd6ae-b91c-4f33-89b0-efd2400aa751 is DONE. 0 Bytes processed. <a target=\"_blank\" href=\"https://console.cloud.google.com/bigquery?project=ist-data-science&j=bq:US:0babd6ae-b91c-4f33-89b0-efd2400aa751&page=queryresults\">Open Job</a>"
            ],
            "text/plain": [
              "<IPython.core.display.HTML object>"
            ]
          },
          "metadata": {},
          "output_type": "display_data"
        },
        {
          "name": "stdout",
          "output_type": "stream",
          "text": [
            "memory usage: 1593092800 bytes\n"
          ]
        }
      ],
      "source": [
        "df.info()"
      ]
    },
    {
      "cell_type": "markdown",
      "metadata": {
        "id": "Nuy3eUigr2RV"
      },
      "source": [
        "# Missing Values"
      ]
    },
    {
      "cell_type": "code",
      "execution_count": 10,
      "metadata": {
        "colab": {
          "base_uri": "https://localhost:8080/",
          "height": 581
        },
        "executionInfo": {
          "elapsed": 10326,
          "status": "ok",
          "timestamp": 1726940934411,
          "user": {
            "displayName": "",
            "userId": ""
          },
          "user_tz": -60
        },
        "id": "w6fEajYusMPe",
        "outputId": "1a3571d4-b8f5-4ebb-8d99-c978b68a41f8"
      },
      "outputs": [
        {
          "name": "stderr",
          "output_type": "stream",
          "text": [
            "/usr/local/lib/python3.10/dist-packages/bigframes/core/blocks.py:126: NullIndexPreviewWarning: Creating object with Null Index. Null Index is a preview feature.\n",
            "  warnings.warn(\n"
          ]
        },
        {
          "data": {
            "text/html": [
              "Query job 98bfbeeb-85b5-4d1b-b1a4-8d837ea45e0c is DONE. 2.1 GB processed. <a target=\"_blank\" href=\"https://console.cloud.google.com/bigquery?project=ist-data-science&j=bq:US:98bfbeeb-85b5-4d1b-b1a4-8d837ea45e0c&page=queryresults\">Open Job</a>"
            ],
            "text/plain": [
              "<IPython.core.display.HTML object>"
            ]
          },
          "metadata": {},
          "output_type": "display_data"
        },
        {
          "data": {
            "text/html": [
              "Query job c17ab71a-886c-4604-8526-91de6bfd97c1 is DONE. 0 Bytes processed. <a target=\"_blank\" href=\"https://console.cloud.google.com/bigquery?project=ist-data-science&j=bq:US:c17ab71a-886c-4604-8526-91de6bfd97c1&page=queryresults\">Open Job</a>"
            ],
            "text/plain": [
              "<IPython.core.display.HTML object>"
            ]
          },
          "metadata": {},
          "output_type": "display_data"
        },
        {
          "data": {
            "text/html": [
              "Query job f1041d7c-862a-4b9e-92f9-e5f9191fb167 is DONE. 1.7 kB processed. <a target=\"_blank\" href=\"https://console.cloud.google.com/bigquery?project=ist-data-science&j=bq:US:f1041d7c-862a-4b9e-92f9-e5f9191fb167&page=queryresults\">Open Job</a>"
            ],
            "text/plain": [
              "<IPython.core.display.HTML object>"
            ]
          },
          "metadata": {},
          "output_type": "display_data"
        },
        {
          "data": {
            "text/plain": [
              "event_date                                 0\n",
              "session_id                                 0\n",
              "user_pseudo_id                             0\n",
              "event_name                                 0\n",
              "event_timestamp                            0\n",
              "page_location                              0\n",
              "page_title                                27\n",
              "item_id                                    0\n",
              "item_name                                  0\n",
              "item_brand                                 0\n",
              "item_variant                               0\n",
              "item_category                              0\n",
              "price                                 148459\n",
              "quantity                             3832428\n",
              "item_revenue                               0\n",
              "item_list_index                            0\n",
              "promotion_name                             0\n",
              "ecommerce_total_item_quantity        3231892\n",
              "ecommerce_purchase_revenue_in_usd    3966729\n",
              "ecommerce_purchase_revenue           3967177\n",
              "ecommerce_shipping_value             3982732\n",
              "ecommerce_tax_value                  3967177\n",
              "ecommerce_unique_items                     0\n",
              "ecommerce_transaction_id               26722\n",
              "device_category                            0\n",
              "dtype: Int64"
            ]
          },
          "execution_count": 10,
          "metadata": {},
          "output_type": "execute_result"
        }
      ],
      "source": [
        "df.isnull().sum()\n"
      ]
    },
    {
      "cell_type": "markdown",
      "metadata": {
        "id": "yAhMgStxtAKI"
      },
      "source": [
        "# Matplotlib dslabs functions"
      ]
    },
    {
      "cell_type": "code",
      "execution_count": 14,
      "metadata": {
        "executionInfo": {
          "elapsed": 483,
          "status": "ok",
          "timestamp": 1726941142741,
          "user": {
            "displayName": "",
            "userId": ""
          },
          "user_tz": -60
        },
        "id": "Ybcgebvsr9S-"
      },
      "outputs": [],
      "source": [
        "from matplotlib.collections import PathCollection\n",
        "from matplotlib.colorbar import Colorbar\n",
        "from matplotlib.container import BarContainer\n",
        "from matplotlib.figure import Figure\n",
        "from matplotlib.font_manager import FontProperties\n",
        "from matplotlib.axes import Axes\n",
        "from matplotlib.pyplot import gca, gcf, savefig, subplots, text\n",
        "from matplotlib.dates import AutoDateLocator, AutoDateFormatter\n",
        "from datetime import datetime\n",
        "\n",
        "\n",
        "def plot_bar_chart(\n",
        "    xvalues: list,\n",
        "    yvalues: list,\n",
        "    ax: Axes = None,  # type: ignore\n",
        "    title: str = \"\",\n",
        "    xlabel: str = \"\",\n",
        "    ylabel: str = \"\",\n",
        "    percentage: bool = False,\n",
        ") -> Axes:\n",
        "    if ax is None:\n",
        "        ax = gca()\n",
        "    ax = set_chart_labels(ax=ax, title=title, xlabel=xlabel, ylabel=ylabel)\n",
        "    ax = set_chart_xticks(xvalues, ax=ax, percentage=percentage)\n",
        "    values: BarContainer = ax.bar(\n",
        "        xvalues,\n",
        "        yvalues,\n",
        "        label=yvalues,\n",
        "        edgecolor=\"#0C70B2\",\n",
        "        color=\"#BDDDE0\",\n",
        "        tick_label=xvalues,\n",
        "    )\n",
        "    format = \"%.2f\" if percentage else \"%.0f\"\n",
        "    ax.bar_label(values, fmt=format, fontproperties=FontProperties(size=6))\n",
        "\n",
        "    return ax\n",
        "\n",
        "\n",
        "\n",
        "def set_chart_labels(ax: Axes, title: str = \"\", xlabel: str = \"\", ylabel: str = \"\") -> Axes:\n",
        "    ax.set_title(title)\n",
        "    ax.set_xlabel(xlabel)\n",
        "    ax.set_ylabel(ylabel)\n",
        "    return ax\n",
        "\n",
        "\n",
        "def set_chart_xticks(xvalues: list[str | int | float | datetime], ax: Axes, percentage: bool = False) -> Axes:\n",
        "    if len(xvalues) > 0:\n",
        "        if percentage:\n",
        "            ax.set_ylim(0.0, 1.0)\n",
        "\n",
        "        if isinstance(xvalues[0], datetime):\n",
        "            locator = AutoDateLocator()\n",
        "            ax.xaxis.set_major_locator(locator)\n",
        "            ax.xaxis.set_major_formatter(AutoDateFormatter(locator, defaultfmt=\"%Y-%m-%d\"))\n",
        "        rotation: int = 0\n",
        "        if not any(not isinstance(x, (int, float)) for x in xvalues):\n",
        "            ax.set_xlim(left=xvalues[0], right=xvalues[-1])\n",
        "            ax.set_xticks(xvalues, labels=xvalues)\n",
        "        else:\n",
        "            rotation = 45\n",
        "\n",
        "        ax.tick_params(axis=\"x\", labelrotation=rotation, labelsize=\"xx-small\")\n",
        "\n",
        "    return ax\n"
      ]
    },
    {
      "cell_type": "code",
      "execution_count": 15,
      "metadata": {
        "colab": {
          "base_uri": "https://localhost:8080/",
          "height": 263
        },
        "executionInfo": {
          "elapsed": 486,
          "status": "ok",
          "timestamp": 1726941146277,
          "user": {
            "displayName": "",
            "userId": ""
          },
          "user_tz": -60
        },
        "id": "DdfS1-POr3Z6",
        "outputId": "c3cd0f8c-0748-46ce-feee-0844aaccfb77"
      },
      "outputs": [
        {
          "data": {
            "image/png": "[encoded data removed]",
            "text/plain": [
              "<Figure size 400x200 with 1 Axes>"
            ]
          },
          "metadata": {},
          "output_type": "display_data"
        }
      ],
      "source": [
        "from matplotlib.pyplot import figure, savefig, show\n",
        "\n",
        "figure(figsize=(4, 2))\n",
        "values: dict[str, int] = {\"nr records\": df.shape[0], \"nr variables\": df.shape[1]}\n",
        "plot_bar_chart(\n",
        "    list(values.keys()), list(values.values()), title=\"Nr of records vs nr variables\"\n",
        ")\n",
        "# savefig(f\"images/{file_tag}_records_variables.png\")\n",
        "show()\n",
        "\n",
        "\n"
      ]
    },
    {
      "cell_type": "code",
      "execution_count": 16,
      "metadata": {
        "colab": {
          "base_uri": "https://localhost:8080/",
          "height": 1000
        },
        "executionInfo": {
          "elapsed": 137251,
          "status": "ok",
          "timestamp": 1726941290477,
          "user": {
            "displayName": "",
            "userId": ""
          },
          "user_tz": -60
        },
        "id": "SJD4FPcqsULj",
        "outputId": "3e0f0fba-fc6e-47d0-bc68-ab4a97e3d08e"
      },
      "outputs": [
        {
          "data": {
            "text/html": [
              "Query job 85c17f6f-ee42-4d59-a7f7-70c9af515d8f is DONE. 47.8 MB processed. <a target=\"_blank\" href=\"https://console.cloud.google.com/bigquery?project=ist-data-science&j=bq:US:85c17f6f-ee42-4d59-a7f7-70c9af515d8f&page=queryresults\">Open Job</a>"
            ],
            "text/plain": [
              "<IPython.core.display.HTML object>"
            ]
          },
          "metadata": {},
          "output_type": "display_data"
        },
        {
          "data": {
            "text/html": [
              "Query job 51cff6cf-17d3-4fbc-85e0-209482905b38 is DONE. 31.9 MB processed. <a target=\"_blank\" href=\"https://console.cloud.google.com/bigquery?project=ist-data-science&j=bq:US:51cff6cf-17d3-4fbc-85e0-209482905b38&page=queryresults\">Open Job</a>"
            ],
            "text/plain": [
              "<IPython.core.display.HTML object>"
            ]
          },
          "metadata": {},
          "output_type": "display_data"
        },
        {
          "data": {
            "text/html": [
              "Query job c57f55fe-00ad-488f-b1ec-228626b7e901 is DONE. 82.3 MB processed. <a target=\"_blank\" href=\"https://console.cloud.google.com/bigquery?project=ist-data-science&j=bq:US:c57f55fe-00ad-488f-b1ec-228626b7e901&page=queryresults\">Open Job</a>"
            ],
            "text/plain": [
              "<IPython.core.display.HTML object>"
            ]
          },
          "metadata": {},
          "output_type": "display_data"
        },
        {
          "data": {
            "text/html": [
              "Query job 2a210346-531c-4acc-99ed-3a4e92bf16fe is DONE. 46.9 MB processed. <a target=\"_blank\" href=\"https://console.cloud.google.com/bigquery?project=ist-data-science&j=bq:US:2a210346-531c-4acc-99ed-3a4e92bf16fe&page=queryresults\">Open Job</a>"
            ],
            "text/plain": [
              "<IPython.core.display.HTML object>"
            ]
          },
          "metadata": {},
          "output_type": "display_data"
        },
        {
          "data": {
            "text/html": [
              "Query job ff583536-31bd-4b6a-8c2d-3e3122c0a665 is DONE. 31.9 MB processed. <a target=\"_blank\" href=\"https://console.cloud.google.com/bigquery?project=ist-data-science&j=bq:US:ff583536-31bd-4b6a-8c2d-3e3122c0a665&page=queryresults\">Open Job</a>"
            ],
            "text/plain": [
              "<IPython.core.display.HTML object>"
            ]
          },
          "metadata": {},
          "output_type": "display_data"
        },
        {
          "data": {
            "text/html": [
              "Query job 63f2631c-d1d7-48c0-af66-56bd45162178 is DONE. 270.7 MB processed. <a target=\"_blank\" href=\"https://console.cloud.google.com/bigquery?project=ist-data-science&j=bq:US:63f2631c-d1d7-48c0-af66-56bd45162178&page=queryresults\">Open Job</a>"
            ],
            "text/plain": [
              "<IPython.core.display.HTML object>"
            ]
          },
          "metadata": {},
          "output_type": "display_data"
        },
        {
          "data": {
            "text/html": [
              "Query job 7d74bc07-2cf7-4d61-98a6-aa0c6e09d51d is DONE. 152.7 MB processed. <a target=\"_blank\" href=\"https://console.cloud.google.com/bigquery?project=ist-data-science&j=bq:US:7d74bc07-2cf7-4d61-98a6-aa0c6e09d51d&page=queryresults\">Open Job</a>"
            ],
            "text/plain": [
              "<IPython.core.display.HTML object>"
            ]
          },
          "metadata": {},
          "output_type": "display_data"
        },
        {
          "data": {
            "text/html": [
              "Query job fe4ab208-b261-48a6-a9a3-28f80b8457c0 is DONE. 58.8 MB processed. <a target=\"_blank\" href=\"https://console.cloud.google.com/bigquery?project=ist-data-science&j=bq:US:fe4ab208-b261-48a6-a9a3-28f80b8457c0&page=queryresults\">Open Job</a>"
            ],
            "text/plain": [
              "<IPython.core.display.HTML object>"
            ]
          },
          "metadata": {},
          "output_type": "display_data"
        },
        {
          "data": {
            "text/html": [
              "Query job bb64c157-3cda-4015-a7e8-0724ec126a1e is DONE. 113.3 MB processed. <a target=\"_blank\" href=\"https://console.cloud.google.com/bigquery?project=ist-data-science&j=bq:US:bb64c157-3cda-4015-a7e8-0724ec126a1e&page=queryresults\">Open Job</a>"
            ],
            "text/plain": [
              "<IPython.core.display.HTML object>"
            ]
          },
          "metadata": {},
          "output_type": "display_data"
        },
        {
          "data": {
            "text/html": [
              "Query job 188a49aa-73d0-4512-9107-a55f67f0e3b2 is DONE. 43.0 MB processed. <a target=\"_blank\" href=\"https://console.cloud.google.com/bigquery?project=ist-data-science&j=bq:US:188a49aa-73d0-4512-9107-a55f67f0e3b2&page=queryresults\">Open Job</a>"
            ],
            "text/plain": [
              "<IPython.core.display.HTML object>"
            ]
          },
          "metadata": {},
          "output_type": "display_data"
        },
        {
          "data": {
            "text/html": [
              "Query job c3b84e77-a640-4997-8fb2-6bf0713585d8 is DONE. 43.8 MB processed. <a target=\"_blank\" href=\"https://console.cloud.google.com/bigquery?project=ist-data-science&j=bq:US:c3b84e77-a640-4997-8fb2-6bf0713585d8&page=queryresults\">Open Job</a>"
            ],
            "text/plain": [
              "<IPython.core.display.HTML object>"
            ]
          },
          "metadata": {},
          "output_type": "display_data"
        },
        {
          "data": {
            "text/html": [
              "Query job 6358ffda-f3b2-40dc-9612-22d72eb18211 is DONE. 79.8 MB processed. <a target=\"_blank\" href=\"https://console.cloud.google.com/bigquery?project=ist-data-science&j=bq:US:6358ffda-f3b2-40dc-9612-22d72eb18211&page=queryresults\">Open Job</a>"
            ],
            "text/plain": [
              "<IPython.core.display.HTML object>"
            ]
          },
          "metadata": {},
          "output_type": "display_data"
        },
        {
          "data": {
            "text/html": [
              "Query job 3c34b1a8-d442-4676-81ff-9c01f9cde5c1 is DONE. 30.7 MB processed. <a target=\"_blank\" href=\"https://console.cloud.google.com/bigquery?project=ist-data-science&j=bq:US:3c34b1a8-d442-4676-81ff-9c01f9cde5c1&page=queryresults\">Open Job</a>"
            ],
            "text/plain": [
              "<IPython.core.display.HTML object>"
            ]
          },
          "metadata": {},
          "output_type": "display_data"
        },
        {
          "data": {
            "text/html": [
              "Query job 29aef319-617c-4ec0-bfe8-d9f4bbb62d9d is DONE. 1.2 MB processed. <a target=\"_blank\" href=\"https://console.cloud.google.com/bigquery?project=ist-data-science&j=bq:US:29aef319-617c-4ec0-bfe8-d9f4bbb62d9d&page=queryresults\">Open Job</a>"
            ],
            "text/plain": [
              "<IPython.core.display.HTML object>"
            ]
          },
          "metadata": {},
          "output_type": "display_data"
        },
        {
          "data": {
            "text/html": [
              "Query job ebf9dfd0-caad-4f4b-ae7e-bd85eccc9b8d is DONE. 31.9 MB processed. <a target=\"_blank\" href=\"https://console.cloud.google.com/bigquery?project=ist-data-science&j=bq:US:ebf9dfd0-caad-4f4b-ae7e-bd85eccc9b8d&page=queryresults\">Open Job</a>"
            ],
            "text/plain": [
              "<IPython.core.display.HTML object>"
            ]
          },
          "metadata": {},
          "output_type": "display_data"
        },
        {
          "data": {
            "text/html": [
              "Query job 0cdf16c3-bf6d-46d7-8892-8376f4d70fc7 is DONE. 14.7 MB processed. <a target=\"_blank\" href=\"https://console.cloud.google.com/bigquery?project=ist-data-science&j=bq:US:0cdf16c3-bf6d-46d7-8892-8376f4d70fc7&page=queryresults\">Open Job</a>"
            ],
            "text/plain": [
              "<IPython.core.display.HTML object>"
            ]
          },
          "metadata": {},
          "output_type": "display_data"
        },
        {
          "data": {
            "text/html": [
              "Query job 932dbecc-e70d-417e-93a4-70fba36a5ede is DONE. 45.4 MB processed. <a target=\"_blank\" href=\"https://console.cloud.google.com/bigquery?project=ist-data-science&j=bq:US:932dbecc-e70d-417e-93a4-70fba36a5ede&page=queryresults\">Open Job</a>"
            ],
            "text/plain": [
              "<IPython.core.display.HTML object>"
            ]
          },
          "metadata": {},
          "output_type": "display_data"
        },
        {
          "data": {
            "text/html": [
              "Query job 7e3c646a-5ce2-4ea8-8e8d-9b9dedaa60ac is DONE. 6.0 MB processed. <a target=\"_blank\" href=\"https://console.cloud.google.com/bigquery?project=ist-data-science&j=bq:US:7e3c646a-5ce2-4ea8-8e8d-9b9dedaa60ac&page=queryresults\">Open Job</a>"
            ],
            "text/plain": [
              "<IPython.core.display.HTML object>"
            ]
          },
          "metadata": {},
          "output_type": "display_data"
        },
        {
          "data": {
            "text/html": [
              "Query job 94c595bb-b423-455c-a96b-aeac657e2603 is DONE. 128.0 kB processed. <a target=\"_blank\" href=\"https://console.cloud.google.com/bigquery?project=ist-data-science&j=bq:US:94c595bb-b423-455c-a96b-aeac657e2603&page=queryresults\">Open Job</a>"
            ],
            "text/plain": [
              "<IPython.core.display.HTML object>"
            ]
          },
          "metadata": {},
          "output_type": "display_data"
        },
        {
          "data": {
            "text/html": [
              "Query job c5c010a2-ada8-439d-93a7-11086c525ceb is DONE. 124.4 kB processed. <a target=\"_blank\" href=\"https://console.cloud.google.com/bigquery?project=ist-data-science&j=bq:US:c5c010a2-ada8-439d-93a7-11086c525ceb&page=queryresults\">Open Job</a>"
            ],
            "text/plain": [
              "<IPython.core.display.HTML object>"
            ]
          },
          "metadata": {},
          "output_type": "display_data"
        },
        {
          "data": {
            "text/html": [
              "Query job 86e78502-1758-475b-b019-71594f0fc11a is DONE. 0 Bytes processed. <a target=\"_blank\" href=\"https://console.cloud.google.com/bigquery?project=ist-data-science&j=bq:US:86e78502-1758-475b-b019-71594f0fc11a&page=queryresults\">Open Job</a>"
            ],
            "text/plain": [
              "<IPython.core.display.HTML object>"
            ]
          },
          "metadata": {},
          "output_type": "display_data"
        },
        {
          "data": {
            "text/html": [
              "Query job 3e81a061-690d-4293-a302-6b1ef2bc1de3 is DONE. 124.4 kB processed. <a target=\"_blank\" href=\"https://console.cloud.google.com/bigquery?project=ist-data-science&j=bq:US:3e81a061-690d-4293-a302-6b1ef2bc1de3&page=queryresults\">Open Job</a>"
            ],
            "text/plain": [
              "<IPython.core.display.HTML object>"
            ]
          },
          "metadata": {},
          "output_type": "display_data"
        },
        {
          "data": {
            "text/html": [
              "Query job 5353360b-d954-4b3e-bf46-6770a36b53b0 is DONE. 31.9 MB processed. <a target=\"_blank\" href=\"https://console.cloud.google.com/bigquery?project=ist-data-science&j=bq:US:5353360b-d954-4b3e-bf46-6770a36b53b0&page=queryresults\">Open Job</a>"
            ],
            "text/plain": [
              "<IPython.core.display.HTML object>"
            ]
          },
          "metadata": {},
          "output_type": "display_data"
        },
        {
          "data": {
            "text/html": [
              "Query job 76462853-1727-4f57-9784-909decc219d7 is DONE. 43.5 MB processed. <a target=\"_blank\" href=\"https://console.cloud.google.com/bigquery?project=ist-data-science&j=bq:US:76462853-1727-4f57-9784-909decc219d7&page=queryresults\">Open Job</a>"
            ],
            "text/plain": [
              "<IPython.core.display.HTML object>"
            ]
          },
          "metadata": {},
          "output_type": "display_data"
        },
        {
          "data": {
            "text/html": [
              "Query job c35c6fde-9af4-4dbb-b54b-e4629c14668b is DONE. 34.2 MB processed. <a target=\"_blank\" href=\"https://console.cloud.google.com/bigquery?project=ist-data-science&j=bq:US:c35c6fde-9af4-4dbb-b54b-e4629c14668b&page=queryresults\">Open Job</a>"
            ],
            "text/plain": [
              "<IPython.core.display.HTML object>"
            ]
          },
          "metadata": {},
          "output_type": "display_data"
        },
        {
          "data": {
            "text/html": [
              "Query job 73c83613-3f8d-419d-bb31-c497e0939855 is DONE. 31.1 MB processed. <a target=\"_blank\" href=\"https://console.cloud.google.com/bigquery?project=ist-data-science&j=bq:US:73c83613-3f8d-419d-bb31-c497e0939855&page=queryresults\">Open Job</a>"
            ],
            "text/plain": [
              "<IPython.core.display.HTML object>"
            ]
          },
          "metadata": {},
          "output_type": "display_data"
        },
        {
          "data": {
            "text/html": [
              "Query job 213c6f74-16af-498d-b444-82d7ed86114e is DONE. 33.4 MB processed. <a target=\"_blank\" href=\"https://console.cloud.google.com/bigquery?project=ist-data-science&j=bq:US:213c6f74-16af-498d-b444-82d7ed86114e&page=queryresults\">Open Job</a>"
            ],
            "text/plain": [
              "<IPython.core.display.HTML object>"
            ]
          },
          "metadata": {},
          "output_type": "display_data"
        },
        {
          "data": {
            "text/html": [
              "Query job 9f931032-16ae-44f7-9129-f0900365d4af is DONE. 35.8 MB processed. <a target=\"_blank\" href=\"https://console.cloud.google.com/bigquery?project=ist-data-science&j=bq:US:9f931032-16ae-44f7-9129-f0900365d4af&page=queryresults\">Open Job</a>"
            ],
            "text/plain": [
              "<IPython.core.display.HTML object>"
            ]
          },
          "metadata": {},
          "output_type": "display_data"
        },
        {
          "data": {
            "text/html": [
              "Query job a353b30f-d800-4b3a-bffb-d099a7c830b5 is DONE. 25.3 MB processed. <a target=\"_blank\" href=\"https://console.cloud.google.com/bigquery?project=ist-data-science&j=bq:US:a353b30f-d800-4b3a-bffb-d099a7c830b5&page=queryresults\">Open Job</a>"
            ],
            "text/plain": [
              "<IPython.core.display.HTML object>"
            ]
          },
          "metadata": {},
          "output_type": "display_data"
        },
        {
          "data": {
            "text/html": [
              "Query job 6a49cfb5-26d2-424b-b953-1a4b9d802e13 is DONE. 38.5 MB processed. <a target=\"_blank\" href=\"https://console.cloud.google.com/bigquery?project=ist-data-science&j=bq:US:6a49cfb5-26d2-424b-b953-1a4b9d802e13&page=queryresults\">Open Job</a>"
            ],
            "text/plain": [
              "<IPython.core.display.HTML object>"
            ]
          },
          "metadata": {},
          "output_type": "display_data"
        },
        {
          "data": {
            "text/html": [
              "Query job 9a6c4f49-48af-4d93-a804-df6bf63dd011 is DONE. 13.5 MB processed. <a target=\"_blank\" href=\"https://console.cloud.google.com/bigquery?project=ist-data-science&j=bq:US:9a6c4f49-48af-4d93-a804-df6bf63dd011&page=queryresults\">Open Job</a>"
            ],
            "text/plain": [
              "<IPython.core.display.HTML object>"
            ]
          },
          "metadata": {},
          "output_type": "display_data"
        },
        {
          "data": {
            "text/html": [
              "Query job bccf2171-df3f-4df8-9665-0d83e819b1ef is DONE. 15.9 MB processed. <a target=\"_blank\" href=\"https://console.cloud.google.com/bigquery?project=ist-data-science&j=bq:US:bccf2171-df3f-4df8-9665-0d83e819b1ef&page=queryresults\">Open Job</a>"
            ],
            "text/plain": [
              "<IPython.core.display.HTML object>"
            ]
          },
          "metadata": {},
          "output_type": "display_data"
        },
        {
          "data": {
            "text/html": [
              "Query job 809855bb-f645-426f-8be7-d50d0b26356e is DONE. 32.3 MB processed. <a target=\"_blank\" href=\"https://console.cloud.google.com/bigquery?project=ist-data-science&j=bq:US:809855bb-f645-426f-8be7-d50d0b26356e&page=queryresults\">Open Job</a>"
            ],
            "text/plain": [
              "<IPython.core.display.HTML object>"
            ]
          },
          "metadata": {},
          "output_type": "display_data"
        },
        {
          "data": {
            "text/html": [
              "Query job 757e6a83-7b74-43da-acce-13343154b43a is DONE. 25.9 MB processed. <a target=\"_blank\" href=\"https://console.cloud.google.com/bigquery?project=ist-data-science&j=bq:US:757e6a83-7b74-43da-acce-13343154b43a&page=queryresults\">Open Job</a>"
            ],
            "text/plain": [
              "<IPython.core.display.HTML object>"
            ]
          },
          "metadata": {},
          "output_type": "display_data"
        },
        {
          "data": {
            "text/html": [
              "Query job 6229d35a-185b-4873-b208-18823566e740 is DONE. 34.6 MB processed. <a target=\"_blank\" href=\"https://console.cloud.google.com/bigquery?project=ist-data-science&j=bq:US:6229d35a-185b-4873-b208-18823566e740&page=queryresults\">Open Job</a>"
            ],
            "text/plain": [
              "<IPython.core.display.HTML object>"
            ]
          },
          "metadata": {},
          "output_type": "display_data"
        },
        {
          "data": {
            "text/html": [
              "Query job 80094820-cf83-435e-84da-defd84326788 is DONE. 46.7 MB processed. <a target=\"_blank\" href=\"https://console.cloud.google.com/bigquery?project=ist-data-science&j=bq:US:80094820-cf83-435e-84da-defd84326788&page=queryresults\">Open Job</a>"
            ],
            "text/plain": [
              "<IPython.core.display.HTML object>"
            ]
          },
          "metadata": {},
          "output_type": "display_data"
        },
        {
          "data": {
            "text/html": [
              "Query job 3e7630d1-8968-4821-ad68-ddd2b7c4c526 is DONE. 46.0 MB processed. <a target=\"_blank\" href=\"https://console.cloud.google.com/bigquery?project=ist-data-science&j=bq:US:3e7630d1-8968-4821-ad68-ddd2b7c4c526&page=queryresults\">Open Job</a>"
            ],
            "text/plain": [
              "<IPython.core.display.HTML object>"
            ]
          },
          "metadata": {},
          "output_type": "display_data"
        },
        {
          "data": {
            "text/html": [
              "Query job aafbe33f-047d-457d-9f66-0ef90783e43f is DONE. 41.5 MB processed. <a target=\"_blank\" href=\"https://console.cloud.google.com/bigquery?project=ist-data-science&j=bq:US:aafbe33f-047d-457d-9f66-0ef90783e43f&page=queryresults\">Open Job</a>"
            ],
            "text/plain": [
              "<IPython.core.display.HTML object>"
            ]
          },
          "metadata": {},
          "output_type": "display_data"
        },
        {
          "data": {
            "text/html": [
              "Query job a4fc6e89-dd57-440b-950d-cc777918e704 is DONE. 66.9 MB processed. <a target=\"_blank\" href=\"https://console.cloud.google.com/bigquery?project=ist-data-science&j=bq:US:a4fc6e89-dd57-440b-950d-cc777918e704&page=queryresults\">Open Job</a>"
            ],
            "text/plain": [
              "<IPython.core.display.HTML object>"
            ]
          },
          "metadata": {},
          "output_type": "display_data"
        },
        {
          "data": {
            "text/html": [
              "Query job 19bd6f13-b0d9-44dc-a725-15e439154baa is DONE. 43.8 MB processed. <a target=\"_blank\" href=\"https://console.cloud.google.com/bigquery?project=ist-data-science&j=bq:US:19bd6f13-b0d9-44dc-a725-15e439154baa&page=queryresults\">Open Job</a>"
            ],
            "text/plain": [
              "<IPython.core.display.HTML object>"
            ]
          },
          "metadata": {},
          "output_type": "display_data"
        },
        {
          "data": {
            "text/html": [
              "Query job 9821d662-e8fe-4959-86eb-d5938af27008 is DONE. 44.3 MB processed. <a target=\"_blank\" href=\"https://console.cloud.google.com/bigquery?project=ist-data-science&j=bq:US:9821d662-e8fe-4959-86eb-d5938af27008&page=queryresults\">Open Job</a>"
            ],
            "text/plain": [
              "<IPython.core.display.HTML object>"
            ]
          },
          "metadata": {},
          "output_type": "display_data"
        },
        {
          "data": {
            "text/html": [
              "Query job af828aa4-4d60-4b48-b936-dad6f93ac3dd is DONE. 38.0 MB processed. <a target=\"_blank\" href=\"https://console.cloud.google.com/bigquery?project=ist-data-science&j=bq:US:af828aa4-4d60-4b48-b936-dad6f93ac3dd&page=queryresults\">Open Job</a>"
            ],
            "text/plain": [
              "<IPython.core.display.HTML object>"
            ]
          },
          "metadata": {},
          "output_type": "display_data"
        },
        {
          "data": {
            "text/html": [
              "Query job b2377bdd-4946-4215-b716-2484f6f059c6 is DONE. 47.8 MB processed. <a target=\"_blank\" href=\"https://console.cloud.google.com/bigquery?project=ist-data-science&j=bq:US:b2377bdd-4946-4215-b716-2484f6f059c6&page=queryresults\">Open Job</a>"
            ],
            "text/plain": [
              "<IPython.core.display.HTML object>"
            ]
          },
          "metadata": {},
          "output_type": "display_data"
        },
        {
          "data": {
            "text/html": [
              "Query job 4ddb5968-7a52-42be-9f61-3851c3afeffe is DONE. 107.5 MB processed. <a target=\"_blank\" href=\"https://console.cloud.google.com/bigquery?project=ist-data-science&j=bq:US:4ddb5968-7a52-42be-9f61-3851c3afeffe&page=queryresults\">Open Job</a>"
            ],
            "text/plain": [
              "<IPython.core.display.HTML object>"
            ]
          },
          "metadata": {},
          "output_type": "display_data"
        },
        {
          "data": {
            "text/html": [
              "Query job 59dcdd35-d419-4bd5-bfcb-def9b58a3b05 is DONE. 0 Bytes processed. <a target=\"_blank\" href=\"https://console.cloud.google.com/bigquery?project=ist-data-science&j=bq:US:59dcdd35-d419-4bd5-bfcb-def9b58a3b05&page=queryresults\">Open Job</a>"
            ],
            "text/plain": [
              "<IPython.core.display.HTML object>"
            ]
          },
          "metadata": {},
          "output_type": "display_data"
        },
        {
          "data": {
            "text/html": [
              "Query job 4fc24995-8957-4d5f-9d18-4628213c00f9 is DONE. 31.9 MB processed. <a target=\"_blank\" href=\"https://console.cloud.google.com/bigquery?project=ist-data-science&j=bq:US:4fc24995-8957-4d5f-9d18-4628213c00f9&page=queryresults\">Open Job</a>"
            ],
            "text/plain": [
              "<IPython.core.display.HTML object>"
            ]
          },
          "metadata": {},
          "output_type": "display_data"
        },
        {
          "data": {
            "text/html": [
              "Query job fb715f7a-6e2b-4e51-9361-7f22cb30f22e is DONE. 31.9 MB processed. <a target=\"_blank\" href=\"https://console.cloud.google.com/bigquery?project=ist-data-science&j=bq:US:fb715f7a-6e2b-4e51-9361-7f22cb30f22e&page=queryresults\">Open Job</a>"
            ],
            "text/plain": [
              "<IPython.core.display.HTML object>"
            ]
          },
          "metadata": {},
          "output_type": "display_data"
        },
        {
          "data": {
            "text/html": [
              "Query job 5e7a6315-c89d-45db-ab62-b13203aececb is DONE. 11.9 MB processed. <a target=\"_blank\" href=\"https://console.cloud.google.com/bigquery?project=ist-data-science&j=bq:US:5e7a6315-c89d-45db-ab62-b13203aececb&page=queryresults\">Open Job</a>"
            ],
            "text/plain": [
              "<IPython.core.display.HTML object>"
            ]
          },
          "metadata": {},
          "output_type": "display_data"
        },
        {
          "data": {
            "text/html": [
              "Query job 09843302-d8d0-4c5a-88f9-1d4b5b676315 is DONE. 31.5 MB processed. <a target=\"_blank\" href=\"https://console.cloud.google.com/bigquery?project=ist-data-science&j=bq:US:09843302-d8d0-4c5a-88f9-1d4b5b676315&page=queryresults\">Open Job</a>"
            ],
            "text/plain": [
              "<IPython.core.display.HTML object>"
            ]
          },
          "metadata": {},
          "output_type": "display_data"
        },
        {
          "data": {
            "image/png": "[encoded data removed]",
            "text/plain": [
              "<Figure size 640x480 with 1 Axes>"
            ]
          },
          "metadata": {},
          "output_type": "display_data"
        }
      ],
      "source": [
        "mv: dict[str, int] = {}\n",
        "for var in df.columns:\n",
        "    nr: int = df[var].isna().sum()\n",
        "    if nr > 0:\n",
        "        mv[var] = nr\n",
        "\n",
        "figure()\n",
        "plot_bar_chart(\n",
        "    list(mv.keys()),\n",
        "    list(mv.values()),\n",
        "    title=\"Nr of missing values per variable\",\n",
        "    xlabel=\"variables\",\n",
        "    ylabel=\"nr missing values\",\n",
        ")\n",
        "# savefig(f\"images/{file_tag}_mv.png\")\n",
        "show()"
      ]
    }
  ],
  "metadata": {
    "colab": {
      "cell_execution_strategy": "setup",
      "name": "ga4 merch bq exploration",
      "provenance": []
    },
    "kernelspec": {
      "display_name": "Python 3",
      "name": "python3"
    },
    "language_info": {
      "name": "python"
    },
    "widgets": {
      "application/vnd.jupyter.widget-state+json": {
        "05e708bf7853470ab5efb4686cb7519a": {
          "model_module": "@jupyter-widgets/controls",
          "model_module_version": "1.5.0",
          "model_name": "DescriptionStyleModel",
          "state": {
            "_model_module": "@jupyter-widgets/controls",
            "_model_module_version": "1.5.0",
            "_model_name": "DescriptionStyleModel",
            "_view_count": null,
            "_view_module": "@jupyter-widgets/base",
            "_view_module_version": "1.2.0",
            "_view_name": "StyleView",
            "description_width": ""
          }
        },
        "076bddbb95c24556b4d85f93e73d740f": {
          "model_module": "@jupyter-widgets/controls",
          "model_module_version": "1.5.0",
          "model_name": "DescriptionStyleModel",
          "state": {
            "_model_module": "@jupyter-widgets/controls",
            "_model_module_version": "1.5.0",
            "_model_name": "DescriptionStyleModel",
            "_view_count": null,
            "_view_module": "@jupyter-widgets/base",
            "_view_module_version": "1.2.0",
            "_view_name": "StyleView",
            "description_width": ""
          }
        },
        "0fac78f7174a4db68818eece81132f45": {
          "model_module": "@jupyter-widgets/base",
          "model_module_version": "1.2.0",
          "model_name": "LayoutModel",
          "state": {
            "_model_module": "@jupyter-widgets/base",
            "_model_module_version": "1.2.0",
            "_model_name": "LayoutModel",
            "_view_count": null,
            "_view_module": "@jupyter-widgets/base",
            "_view_module_version": "1.2.0",
            "_view_name": "LayoutView",
            "align_content": null,
            "align_items": null,
            "align_self": null,
            "border": null,
            "bottom": null,
            "display": null,
            "flex": null,
            "flex_flow": null,
            "grid_area": null,
            "grid_auto_columns": null,
            "grid_auto_flow": null,
            "grid_auto_rows": null,
            "grid_column": null,
            "grid_gap": null,
            "grid_row": null,
            "grid_template_areas": null,
            "grid_template_columns": null,
            "grid_template_rows": null,
            "height": null,
            "justify_content": null,
            "justify_items": null,
            "left": null,
            "margin": null,
            "max_height": null,
            "max_width": null,
            "min_height": null,
            "min_width": null,
            "object_fit": null,
            "object_position": null,
            "order": null,
            "overflow": null,
            "overflow_x": null,
            "overflow_y": null,
            "padding": null,
            "right": null,
            "top": null,
            "visibility": null,
            "width": null
          }
        },
        "14a0a2ef96cb4651b134882ef9fdf881": {
          "model_module": "@jupyter-widgets/base",
          "model_module_version": "1.2.0",
          "model_name": "LayoutModel",
          "state": {
            "_model_module": "@jupyter-widgets/base",
            "_model_module_version": "1.2.0",
            "_model_name": "LayoutModel",
            "_view_count": null,
            "_view_module": "@jupyter-widgets/base",
            "_view_module_version": "1.2.0",
            "_view_name": "LayoutView",
            "align_content": null,
            "align_items": null,
            "align_self": null,
            "border": null,
            "bottom": null,
            "display": null,
            "flex": null,
            "flex_flow": null,
            "grid_area": null,
            "grid_auto_columns": null,
            "grid_auto_flow": null,
            "grid_auto_rows": null,
            "grid_column": null,
            "grid_gap": null,
            "grid_row": null,
            "grid_template_areas": null,
            "grid_template_columns": null,
            "grid_template_rows": null,
            "height": null,
            "justify_content": null,
            "justify_items": null,
            "left": null,
            "margin": null,
            "max_height": null,
            "max_width": null,
            "min_height": null,
            "min_width": null,
            "object_fit": null,
            "object_position": null,
            "order": null,
            "overflow": null,
            "overflow_x": null,
            "overflow_y": null,
            "padding": null,
            "right": null,
            "top": null,
            "visibility": null,
            "width": null
          }
        },
        "1887a347d7a74d19bf0baefef5b8d53f": {
          "model_module": "@jupyter-widgets/controls",
          "model_module_version": "1.5.0",
          "model_name": "DescriptionStyleModel",
          "state": {
            "_model_module": "@jupyter-widgets/controls",
            "_model_module_version": "1.5.0",
            "_model_name": "DescriptionStyleModel",
            "_view_count": null,
            "_view_module": "@jupyter-widgets/base",
            "_view_module_version": "1.2.0",
            "_view_name": "StyleView",
            "description_width": ""
          }
        },
        "2a5b7051f02a43a0beb84356abf1393e": {
          "model_module": "@jupyter-widgets/controls",
          "model_module_version": "1.5.0",
          "model_name": "HTMLModel",
          "state": {
            "_dom_classes": [],
            "_model_module": "@jupyter-widgets/controls",
            "_model_module_version": "1.5.0",
            "_model_name": "HTMLModel",
            "_view_count": null,
            "_view_module": "@jupyter-widgets/controls",
            "_view_module_version": "1.5.0",
            "_view_name": "HTMLView",
            "description": "",
            "description_tooltip": null,
            "layout": "IPY_MODEL_b50d38ce13094f3da39d5515e0df3416",
            "placeholder": "​",
            "style": "IPY_MODEL_1887a347d7a74d19bf0baefef5b8d53f",
            "value": ""
          }
        },
        "36664d152e474976980cf581d1543163": {
          "model_module": "@jupyter-widgets/controls",
          "model_module_version": "1.5.0",
          "model_name": "HTMLModel",
          "state": {
            "_dom_classes": [],
            "_model_module": "@jupyter-widgets/controls",
            "_model_module_version": "1.5.0",
            "_model_name": "HTMLModel",
            "_view_count": null,
            "_view_module": "@jupyter-widgets/controls",
            "_view_module_version": "1.5.0",
            "_view_name": "HTMLView",
            "description": "",
            "description_tooltip": null,
            "layout": "IPY_MODEL_0fac78f7174a4db68818eece81132f45",
            "placeholder": "​",
            "style": "IPY_MODEL_72c15fa9500e4db7adefb277b57f635c",
            "value": "Downloading: 100%"
          }
        },
        "3ae55893dfc947c2918121c60ae26130": {
          "model_module": "@jupyter-widgets/base",
          "model_module_version": "1.2.0",
          "model_name": "LayoutModel",
          "state": {
            "_model_module": "@jupyter-widgets/base",
            "_model_module_version": "1.2.0",
            "_model_name": "LayoutModel",
            "_view_count": null,
            "_view_module": "@jupyter-widgets/base",
            "_view_module_version": "1.2.0",
            "_view_name": "LayoutView",
            "align_content": null,
            "align_items": null,
            "align_self": null,
            "border": null,
            "bottom": null,
            "display": null,
            "flex": null,
            "flex_flow": null,
            "grid_area": null,
            "grid_auto_columns": null,
            "grid_auto_flow": null,
            "grid_auto_rows": null,
            "grid_column": null,
            "grid_gap": null,
            "grid_row": null,
            "grid_template_areas": null,
            "grid_template_columns": null,
            "grid_template_rows": null,
            "height": null,
            "justify_content": null,
            "justify_items": null,
            "left": null,
            "margin": null,
            "max_height": null,
            "max_width": null,
            "min_height": null,
            "min_width": null,
            "object_fit": null,
            "object_position": null,
            "order": null,
            "overflow": null,
            "overflow_x": null,
            "overflow_y": null,
            "padding": null,
            "right": null,
            "top": null,
            "visibility": null,
            "width": null
          }
        },
        "3f2412428dad4c6f8d3eb95af2d18bcb": {
          "model_module": "@jupyter-widgets/controls",
          "model_module_version": "1.5.0",
          "model_name": "HTMLModel",
          "state": {
            "_dom_classes": [],
            "_model_module": "@jupyter-widgets/controls",
            "_model_module_version": "1.5.0",
            "_model_name": "HTMLModel",
            "_view_count": null,
            "_view_module": "@jupyter-widgets/controls",
            "_view_module_version": "1.5.0",
            "_view_name": "HTMLView",
            "description": "",
            "description_tooltip": null,
            "layout": "IPY_MODEL_b60ba0b1c804430d99d57e1883bacede",
            "placeholder": "​",
            "style": "IPY_MODEL_076bddbb95c24556b4d85f93e73d740f",
            "value": ""
          }
        },
        "440d258f060940f8a87ee4ad1745c204": {
          "model_module": "@jupyter-widgets/base",
          "model_module_version": "1.2.0",
          "model_name": "LayoutModel",
          "state": {
            "_model_module": "@jupyter-widgets/base",
            "_model_module_version": "1.2.0",
            "_model_name": "LayoutModel",
            "_view_count": null,
            "_view_module": "@jupyter-widgets/base",
            "_view_module_version": "1.2.0",
            "_view_name": "LayoutView",
            "align_content": null,
            "align_items": null,
            "align_self": null,
            "border": null,
            "bottom": null,
            "display": null,
            "flex": null,
            "flex_flow": null,
            "grid_area": null,
            "grid_auto_columns": null,
            "grid_auto_flow": null,
            "grid_auto_rows": null,
            "grid_column": null,
            "grid_gap": null,
            "grid_row": null,
            "grid_template_areas": null,
            "grid_template_columns": null,
            "grid_template_rows": null,
            "height": null,
            "justify_content": null,
            "justify_items": null,
            "left": null,
            "margin": null,
            "max_height": null,
            "max_width": null,
            "min_height": null,
            "min_width": null,
            "object_fit": null,
            "object_position": null,
            "order": null,
            "overflow": null,
            "overflow_x": null,
            "overflow_y": null,
            "padding": null,
            "right": null,
            "top": null,
            "visibility": null,
            "width": null
          }
        },
        "4fe3623d056c43eba881547d1d0d71c2": {
          "model_module": "@jupyter-widgets/controls",
          "model_module_version": "1.5.0",
          "model_name": "HBoxModel",
          "state": {
            "_dom_classes": [],
            "_model_module": "@jupyter-widgets/controls",
            "_model_module_version": "1.5.0",
            "_model_name": "HBoxModel",
            "_view_count": null,
            "_view_module": "@jupyter-widgets/controls",
            "_view_module_version": "1.5.0",
            "_view_name": "HBoxView",
            "box_style": "",
            "children": [
              "IPY_MODEL_51cd20f8522d426eab10082c4859dd15",
              "IPY_MODEL_7be41ded876a4804b3c3f012f73b57c9",
              "IPY_MODEL_2a5b7051f02a43a0beb84356abf1393e"
            ],
            "layout": "IPY_MODEL_440d258f060940f8a87ee4ad1745c204"
          }
        },
        "51cd20f8522d426eab10082c4859dd15": {
          "model_module": "@jupyter-widgets/controls",
          "model_module_version": "1.5.0",
          "model_name": "HTMLModel",
          "state": {
            "_dom_classes": [],
            "_model_module": "@jupyter-widgets/controls",
            "_model_module_version": "1.5.0",
            "_model_name": "HTMLModel",
            "_view_count": null,
            "_view_module": "@jupyter-widgets/controls",
            "_view_module_version": "1.5.0",
            "_view_name": "HTMLView",
            "description": "",
            "description_tooltip": null,
            "layout": "IPY_MODEL_b354ced56fbc40acb8f49dfa06c2481b",
            "placeholder": "​",
            "style": "IPY_MODEL_05e708bf7853470ab5efb4686cb7519a",
            "value": "Job ID 363d5a54-9b05-4bc2-9dde-4accff8622c1 successfully executed: 100%"
          }
        },
        "62abf01dcce7469ab48bd4c72886e559": {
          "model_module": "@jupyter-widgets/base",
          "model_module_version": "1.2.0",
          "model_name": "LayoutModel",
          "state": {
            "_model_module": "@jupyter-widgets/base",
            "_model_module_version": "1.2.0",
            "_model_name": "LayoutModel",
            "_view_count": null,
            "_view_module": "@jupyter-widgets/base",
            "_view_module_version": "1.2.0",
            "_view_name": "LayoutView",
            "align_content": null,
            "align_items": null,
            "align_self": null,
            "border": null,
            "bottom": null,
            "display": null,
            "flex": null,
            "flex_flow": null,
            "grid_area": null,
            "grid_auto_columns": null,
            "grid_auto_flow": null,
            "grid_auto_rows": null,
            "grid_column": null,
            "grid_gap": null,
            "grid_row": null,
            "grid_template_areas": null,
            "grid_template_columns": null,
            "grid_template_rows": null,
            "height": null,
            "justify_content": null,
            "justify_items": null,
            "left": null,
            "margin": null,
            "max_height": null,
            "max_width": null,
            "min_height": null,
            "min_width": null,
            "object_fit": null,
            "object_position": null,
            "order": null,
            "overflow": null,
            "overflow_x": null,
            "overflow_y": null,
            "padding": null,
            "right": null,
            "top": null,
            "visibility": null,
            "width": null
          }
        },
        "72c15fa9500e4db7adefb277b57f635c": {
          "model_module": "@jupyter-widgets/controls",
          "model_module_version": "1.5.0",
          "model_name": "DescriptionStyleModel",
          "state": {
            "_model_module": "@jupyter-widgets/controls",
            "_model_module_version": "1.5.0",
            "_model_name": "DescriptionStyleModel",
            "_view_count": null,
            "_view_module": "@jupyter-widgets/base",
            "_view_module_version": "1.2.0",
            "_view_name": "StyleView",
            "description_width": ""
          }
        },
        "7be41ded876a4804b3c3f012f73b57c9": {
          "model_module": "@jupyter-widgets/controls",
          "model_module_version": "1.5.0",
          "model_name": "FloatProgressModel",
          "state": {
            "_dom_classes": [],
            "_model_module": "@jupyter-widgets/controls",
            "_model_module_version": "1.5.0",
            "_model_name": "FloatProgressModel",
            "_view_count": null,
            "_view_module": "@jupyter-widgets/controls",
            "_view_module_version": "1.5.0",
            "_view_name": "ProgressView",
            "bar_style": "success",
            "description": "",
            "description_tooltip": null,
            "layout": "IPY_MODEL_62abf01dcce7469ab48bd4c72886e559",
            "max": 1,
            "min": 0,
            "orientation": "horizontal",
            "style": "IPY_MODEL_8a856fa1c73d42a7b8dbbdb1bd171479",
            "value": 1
          }
        },
        "8a856fa1c73d42a7b8dbbdb1bd171479": {
          "model_module": "@jupyter-widgets/controls",
          "model_module_version": "1.5.0",
          "model_name": "ProgressStyleModel",
          "state": {
            "_model_module": "@jupyter-widgets/controls",
            "_model_module_version": "1.5.0",
            "_model_name": "ProgressStyleModel",
            "_view_count": null,
            "_view_module": "@jupyter-widgets/base",
            "_view_module_version": "1.2.0",
            "_view_name": "StyleView",
            "bar_color": null,
            "description_width": ""
          }
        },
        "9a23b309a3d740428a83947c61dcdd6c": {
          "model_module": "@jupyter-widgets/controls",
          "model_module_version": "1.5.0",
          "model_name": "ProgressStyleModel",
          "state": {
            "_model_module": "@jupyter-widgets/controls",
            "_model_module_version": "1.5.0",
            "_model_name": "ProgressStyleModel",
            "_view_count": null,
            "_view_module": "@jupyter-widgets/base",
            "_view_module_version": "1.2.0",
            "_view_name": "StyleView",
            "bar_color": null,
            "description_width": ""
          }
        },
        "b354ced56fbc40acb8f49dfa06c2481b": {
          "model_module": "@jupyter-widgets/base",
          "model_module_version": "1.2.0",
          "model_name": "LayoutModel",
          "state": {
            "_model_module": "@jupyter-widgets/base",
            "_model_module_version": "1.2.0",
            "_model_name": "LayoutModel",
            "_view_count": null,
            "_view_module": "@jupyter-widgets/base",
            "_view_module_version": "1.2.0",
            "_view_name": "LayoutView",
            "align_content": null,
            "align_items": null,
            "align_self": null,
            "border": null,
            "bottom": null,
            "display": null,
            "flex": null,
            "flex_flow": null,
            "grid_area": null,
            "grid_auto_columns": null,
            "grid_auto_flow": null,
            "grid_auto_rows": null,
            "grid_column": null,
            "grid_gap": null,
            "grid_row": null,
            "grid_template_areas": null,
            "grid_template_columns": null,
            "grid_template_rows": null,
            "height": null,
            "justify_content": null,
            "justify_items": null,
            "left": null,
            "margin": null,
            "max_height": null,
            "max_width": null,
            "min_height": null,
            "min_width": null,
            "object_fit": null,
            "object_position": null,
            "order": null,
            "overflow": null,
            "overflow_x": null,
            "overflow_y": null,
            "padding": null,
            "right": null,
            "top": null,
            "visibility": null,
            "width": null
          }
        },
        "b3c57d00b9414c668dd17127bee006aa": {
          "model_module": "@jupyter-widgets/controls",
          "model_module_version": "1.5.0",
          "model_name": "HBoxModel",
          "state": {
            "_dom_classes": [],
            "_model_module": "@jupyter-widgets/controls",
            "_model_module_version": "1.5.0",
            "_model_name": "HBoxModel",
            "_view_count": null,
            "_view_module": "@jupyter-widgets/controls",
            "_view_module_version": "1.5.0",
            "_view_name": "HBoxView",
            "box_style": "",
            "children": [
              "IPY_MODEL_36664d152e474976980cf581d1543163",
              "IPY_MODEL_e8683993feb14b64b1f4808b3b975dd0",
              "IPY_MODEL_3f2412428dad4c6f8d3eb95af2d18bcb"
            ],
            "layout": "IPY_MODEL_3ae55893dfc947c2918121c60ae26130"
          }
        },
        "b50d38ce13094f3da39d5515e0df3416": {
          "model_module": "@jupyter-widgets/base",
          "model_module_version": "1.2.0",
          "model_name": "LayoutModel",
          "state": {
            "_model_module": "@jupyter-widgets/base",
            "_model_module_version": "1.2.0",
            "_model_name": "LayoutModel",
            "_view_count": null,
            "_view_module": "@jupyter-widgets/base",
            "_view_module_version": "1.2.0",
            "_view_name": "LayoutView",
            "align_content": null,
            "align_items": null,
            "align_self": null,
            "border": null,
            "bottom": null,
            "display": null,
            "flex": null,
            "flex_flow": null,
            "grid_area": null,
            "grid_auto_columns": null,
            "grid_auto_flow": null,
            "grid_auto_rows": null,
            "grid_column": null,
            "grid_gap": null,
            "grid_row": null,
            "grid_template_areas": null,
            "grid_template_columns": null,
            "grid_template_rows": null,
            "height": null,
            "justify_content": null,
            "justify_items": null,
            "left": null,
            "margin": null,
            "max_height": null,
            "max_width": null,
            "min_height": null,
            "min_width": null,
            "object_fit": null,
            "object_position": null,
            "order": null,
            "overflow": null,
            "overflow_x": null,
            "overflow_y": null,
            "padding": null,
            "right": null,
            "top": null,
            "visibility": null,
            "width": null
          }
        },
        "b60ba0b1c804430d99d57e1883bacede": {
          "model_module": "@jupyter-widgets/base",
          "model_module_version": "1.2.0",
          "model_name": "LayoutModel",
          "state": {
            "_model_module": "@jupyter-widgets/base",
            "_model_module_version": "1.2.0",
            "_model_name": "LayoutModel",
            "_view_count": null,
            "_view_module": "@jupyter-widgets/base",
            "_view_module_version": "1.2.0",
            "_view_name": "LayoutView",
            "align_content": null,
            "align_items": null,
            "align_self": null,
            "border": null,
            "bottom": null,
            "display": null,
            "flex": null,
            "flex_flow": null,
            "grid_area": null,
            "grid_auto_columns": null,
            "grid_auto_flow": null,
            "grid_auto_rows": null,
            "grid_column": null,
            "grid_gap": null,
            "grid_row": null,
            "grid_template_areas": null,
            "grid_template_columns": null,
            "grid_template_rows": null,
            "height": null,
            "justify_content": null,
            "justify_items": null,
            "left": null,
            "margin": null,
            "max_height": null,
            "max_width": null,
            "min_height": null,
            "min_width": null,
            "object_fit": null,
            "object_position": null,
            "order": null,
            "overflow": null,
            "overflow_x": null,
            "overflow_y": null,
            "padding": null,
            "right": null,
            "top": null,
            "visibility": null,
            "width": null
          }
        },
        "e8683993feb14b64b1f4808b3b975dd0": {
          "model_module": "@jupyter-widgets/controls",
          "model_module_version": "1.5.0",
          "model_name": "FloatProgressModel",
          "state": {
            "_dom_classes": [],
            "_model_module": "@jupyter-widgets/controls",
            "_model_module_version": "1.5.0",
            "_model_name": "FloatProgressModel",
            "_view_count": null,
            "_view_module": "@jupyter-widgets/controls",
            "_view_module_version": "1.5.0",
            "_view_name": "ProgressView",
            "bar_style": "success",
            "description": "",
            "description_tooltip": null,
            "layout": "IPY_MODEL_14a0a2ef96cb4651b134882ef9fdf881",
            "max": 3982732,
            "min": 0,
            "orientation": "horizontal",
            "style": "IPY_MODEL_9a23b309a3d740428a83947c61dcdd6c",
            "value": 3982732
          }
        }
      }
    }
  },
  "nbformat": 4,
  "nbformat_minor": 0
}
