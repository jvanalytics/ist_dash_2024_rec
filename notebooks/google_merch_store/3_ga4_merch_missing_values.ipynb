{
 "cells": [
  {
   "cell_type": "markdown",
   "metadata": {},
   "source": [
    "# File and libraries"
   ]
  },
  {
   "cell_type": "code",
   "execution_count": 25,
   "metadata": {},
   "outputs": [],
   "source": [
    "import pandas as pd\n",
    "import numpy as np\n",
    "from sklearn.model_selection import train_test_split\n",
    "\n",
    "\n",
    "filepath=r'data/df_merch_encoded.csv'\n",
    "\n",
    "\n",
    "file_tag = \"df_merch_encoded\""
   ]
  },
  {
   "cell_type": "markdown",
   "metadata": {},
   "source": [
    "# DSLabs functions"
   ]
  },
  {
   "cell_type": "code",
   "execution_count": 26,
   "metadata": {},
   "outputs": [],
   "source": [
    "%run \"scripts/dslabs_functions.py\"\n"
   ]
  },
  {
   "cell_type": "markdown",
   "metadata": {},
   "source": [
    "# Data functions"
   ]
  },
  {
   "cell_type": "code",
   "execution_count": 27,
   "metadata": {},
   "outputs": [
    {
     "name": "stdout",
     "output_type": "stream",
     "text": [
      "data_functions lodaded\n"
     ]
    }
   ],
   "source": [
    "%run \"scripts/data_functions.py\"\n"
   ]
  },
  {
   "cell_type": "markdown",
   "metadata": {},
   "source": [
    "# Load"
   ]
  },
  {
   "cell_type": "code",
   "execution_count": 28,
   "metadata": {},
   "outputs": [
    {
     "name": "stdout",
     "output_type": "stream",
     "text": [
      "<class 'pandas.core.frame.DataFrame'>\n",
      "RangeIndex: 371714 entries, 0 to 371713\n",
      "Data columns (total 35 columns):\n",
      " #   Column                           Non-Null Count   Dtype  \n",
      "---  ------                           --------------   -----  \n",
      " 0   event_name                       371714 non-null  int64  \n",
      " 1   device_category                  371714 non-null  int64  \n",
      " 2   device_mobile_brand_name         371714 non-null  int64  \n",
      " 3   device_mobile_model_name         371713 non-null  float64\n",
      " 4   device_operating_system          371714 non-null  int64  \n",
      " 5   device_operating_system_version  258461 non-null  float64\n",
      " 6   device_language                  199075 non-null  float64\n",
      " 7   device_web_info_browser          371714 non-null  int64  \n",
      " 8   device_web_info_browser_version  362472 non-null  float64\n",
      " 9   geo_country                      371714 non-null  int64  \n",
      " 10  geo_region                       367410 non-null  float64\n",
      " 11  geo_city                         351537 non-null  float64\n",
      " 12  traffic_source_medium            371714 non-null  int64  \n",
      " 13  traffic_source_source            371714 non-null  int64  \n",
      " 14  session_engaged                  371700 non-null  float64\n",
      " 15  engagement_time_msec             371714 non-null  float64\n",
      " 16  returning_user                   371714 non-null  int64  \n",
      " 17  local_hour                       371714 non-null  float64\n",
      " 18  local_minute                     371714 non-null  float64\n",
      " 19  hour_minute_fraction             371714 non-null  float64\n",
      " 20  time_of_day                      371714 non-null  float64\n",
      " 21  year                             371714 non-null  int64  \n",
      " 22  quarter                          371714 non-null  int64  \n",
      " 23  month                            371714 non-null  int64  \n",
      " 24  day                              371714 non-null  float64\n",
      " 25  day_of_year                      371714 non-null  int64  \n",
      " 26  week_number                      371714 non-null  int64  \n",
      " 27  week_of_month                    371714 non-null  int64  \n",
      " 28  day_of_week_nr                   371714 non-null  float64\n",
      " 29  is_weekend                       371714 non-null  int64  \n",
      " 30  domain                           371714 non-null  int64  \n",
      " 31  page_path_level_1                371407 non-null  float64\n",
      " 32  page_path_level_2                371428 non-null  float64\n",
      " 33  page_path_level_3                371329 non-null  float64\n",
      " 34  path_length                      371714 non-null  int64  \n",
      "dtypes: float64(17), int64(18)\n",
      "memory usage: 99.3 MB\n"
     ]
    }
   ],
   "source": [
    "# test_data=True\n",
    "test_data=False\n",
    "\n",
    "if test_data==True:\n",
    "\n",
    "    data=pd.read_csv(filepath)\n",
    "\n",
    "    # 10% sample\n",
    "    data=data.sample(frac=0.1, replace=False)\n",
    "    \n",
    "\n",
    "else:\n",
    "    data=pd.read_csv(filepath)\n",
    "\n",
    " \n",
    "\n",
    "\n",
    "data.info()"
   ]
  },
  {
   "cell_type": "markdown",
   "metadata": {},
   "source": [
    "# MV 1 - Most Frequent"
   ]
  },
  {
   "cell_type": "code",
   "execution_count": 29,
   "metadata": {},
   "outputs": [
    {
     "data": {
      "text/html": [
       "<div>\n",
       "<style scoped>\n",
       "    .dataframe tbody tr th:only-of-type {\n",
       "        vertical-align: middle;\n",
       "    }\n",
       "\n",
       "    .dataframe tbody tr th {\n",
       "        vertical-align: top;\n",
       "    }\n",
       "\n",
       "    .dataframe thead th {\n",
       "        text-align: right;\n",
       "    }\n",
       "</style>\n",
       "<table border=\"1\" class=\"dataframe\">\n",
       "  <thead>\n",
       "    <tr style=\"text-align: right;\">\n",
       "      <th></th>\n",
       "      <th>event_name</th>\n",
       "      <th>device_category</th>\n",
       "      <th>device_mobile_brand_name</th>\n",
       "      <th>device_mobile_model_name</th>\n",
       "      <th>device_operating_system</th>\n",
       "      <th>device_operating_system_version</th>\n",
       "      <th>device_language</th>\n",
       "      <th>device_web_info_browser</th>\n",
       "      <th>device_web_info_browser_version</th>\n",
       "      <th>geo_region</th>\n",
       "      <th>...</th>\n",
       "      <th>page_path_level_2</th>\n",
       "      <th>page_path_level_3</th>\n",
       "      <th>path_length</th>\n",
       "      <th>geo_country</th>\n",
       "      <th>session_engaged</th>\n",
       "      <th>returning_user</th>\n",
       "      <th>year</th>\n",
       "      <th>quarter</th>\n",
       "      <th>is_weekend</th>\n",
       "      <th>domain</th>\n",
       "    </tr>\n",
       "  </thead>\n",
       "  <tbody>\n",
       "    <tr>\n",
       "      <th>count</th>\n",
       "      <td>371714.000000</td>\n",
       "      <td>371714.000000</td>\n",
       "      <td>371714.000000</td>\n",
       "      <td>371714.000000</td>\n",
       "      <td>371714.000000</td>\n",
       "      <td>371714.000000</td>\n",
       "      <td>371714.000000</td>\n",
       "      <td>371714.000000</td>\n",
       "      <td>371714.000000</td>\n",
       "      <td>371714.000000</td>\n",
       "      <td>...</td>\n",
       "      <td>371714.000000</td>\n",
       "      <td>371714.000000</td>\n",
       "      <td>371714.000000</td>\n",
       "      <td>371714.000000</td>\n",
       "      <td>371714.000000</td>\n",
       "      <td>371714.000000</td>\n",
       "      <td>371714.000000</td>\n",
       "      <td>371714.000000</td>\n",
       "      <td>371714.000000</td>\n",
       "      <td>371714.000000</td>\n",
       "    </tr>\n",
       "    <tr>\n",
       "      <th>mean</th>\n",
       "      <td>6.810333</td>\n",
       "      <td>1.812735</td>\n",
       "      <td>4.768653</td>\n",
       "      <td>10.420179</td>\n",
       "      <td>3.715445</td>\n",
       "      <td>4.566043</td>\n",
       "      <td>6.786482</td>\n",
       "      <td>2.191389</td>\n",
       "      <td>4.352573</td>\n",
       "      <td>2990.812379</td>\n",
       "      <td>...</td>\n",
       "      <td>22.926075</td>\n",
       "      <td>264.547014</td>\n",
       "      <td>1.996530</td>\n",
       "      <td>1.145711</td>\n",
       "      <td>0.915217</td>\n",
       "      <td>0.258963</td>\n",
       "      <td>1.261965</td>\n",
       "      <td>1.261965</td>\n",
       "      <td>0.198198</td>\n",
       "      <td>1.966022</td>\n",
       "    </tr>\n",
       "    <tr>\n",
       "      <th>std</th>\n",
       "      <td>1.854883</td>\n",
       "      <td>0.971340</td>\n",
       "      <td>1.345632</td>\n",
       "      <td>3.011988</td>\n",
       "      <td>1.586145</td>\n",
       "      <td>2.421290</td>\n",
       "      <td>1.552400</td>\n",
       "      <td>0.639513</td>\n",
       "      <td>1.779542</td>\n",
       "      <td>1761.545179</td>\n",
       "      <td>...</td>\n",
       "      <td>12.916481</td>\n",
       "      <td>119.734153</td>\n",
       "      <td>1.140094</td>\n",
       "      <td>0.352817</td>\n",
       "      <td>0.278559</td>\n",
       "      <td>0.438066</td>\n",
       "      <td>0.439704</td>\n",
       "      <td>0.439704</td>\n",
       "      <td>0.398643</td>\n",
       "      <td>0.181172</td>\n",
       "    </tr>\n",
       "    <tr>\n",
       "      <th>min</th>\n",
       "      <td>1.000000</td>\n",
       "      <td>1.000000</td>\n",
       "      <td>0.000000</td>\n",
       "      <td>0.000000</td>\n",
       "      <td>0.000000</td>\n",
       "      <td>0.000000</td>\n",
       "      <td>0.000000</td>\n",
       "      <td>0.000000</td>\n",
       "      <td>0.000000</td>\n",
       "      <td>0.000000</td>\n",
       "      <td>...</td>\n",
       "      <td>0.000000</td>\n",
       "      <td>0.000000</td>\n",
       "      <td>0.000000</td>\n",
       "      <td>1.000000</td>\n",
       "      <td>0.000000</td>\n",
       "      <td>0.000000</td>\n",
       "      <td>1.000000</td>\n",
       "      <td>1.000000</td>\n",
       "      <td>0.000000</td>\n",
       "      <td>1.000000</td>\n",
       "    </tr>\n",
       "    <tr>\n",
       "      <th>25%</th>\n",
       "      <td>6.000000</td>\n",
       "      <td>1.000000</td>\n",
       "      <td>4.000000</td>\n",
       "      <td>8.000000</td>\n",
       "      <td>2.000000</td>\n",
       "      <td>2.000000</td>\n",
       "      <td>6.786482</td>\n",
       "      <td>2.000000</td>\n",
       "      <td>3.000000</td>\n",
       "      <td>1580.000000</td>\n",
       "      <td>...</td>\n",
       "      <td>5.000000</td>\n",
       "      <td>130.000000</td>\n",
       "      <td>1.000000</td>\n",
       "      <td>1.000000</td>\n",
       "      <td>1.000000</td>\n",
       "      <td>0.000000</td>\n",
       "      <td>1.000000</td>\n",
       "      <td>1.000000</td>\n",
       "      <td>0.000000</td>\n",
       "      <td>2.000000</td>\n",
       "    </tr>\n",
       "    <tr>\n",
       "      <th>50%</th>\n",
       "      <td>8.000000</td>\n",
       "      <td>1.000000</td>\n",
       "      <td>5.000000</td>\n",
       "      <td>10.000000</td>\n",
       "      <td>4.000000</td>\n",
       "      <td>4.566043</td>\n",
       "      <td>6.786482</td>\n",
       "      <td>2.000000</td>\n",
       "      <td>4.000000</td>\n",
       "      <td>3621.000000</td>\n",
       "      <td>...</td>\n",
       "      <td>28.000000</td>\n",
       "      <td>342.000000</td>\n",
       "      <td>2.000000</td>\n",
       "      <td>1.000000</td>\n",
       "      <td>1.000000</td>\n",
       "      <td>0.000000</td>\n",
       "      <td>1.000000</td>\n",
       "      <td>1.000000</td>\n",
       "      <td>0.000000</td>\n",
       "      <td>2.000000</td>\n",
       "    </tr>\n",
       "    <tr>\n",
       "      <th>75%</th>\n",
       "      <td>8.000000</td>\n",
       "      <td>3.000000</td>\n",
       "      <td>5.000000</td>\n",
       "      <td>12.000000</td>\n",
       "      <td>5.000000</td>\n",
       "      <td>5.000000</td>\n",
       "      <td>8.000000</td>\n",
       "      <td>3.000000</td>\n",
       "      <td>4.352573</td>\n",
       "      <td>4382.000000</td>\n",
       "      <td>...</td>\n",
       "      <td>34.000000</td>\n",
       "      <td>362.000000</td>\n",
       "      <td>3.000000</td>\n",
       "      <td>1.000000</td>\n",
       "      <td>1.000000</td>\n",
       "      <td>1.000000</td>\n",
       "      <td>2.000000</td>\n",
       "      <td>2.000000</td>\n",
       "      <td>0.000000</td>\n",
       "      <td>2.000000</td>\n",
       "    </tr>\n",
       "    <tr>\n",
       "      <th>max</th>\n",
       "      <td>13.000000</td>\n",
       "      <td>3.000000</td>\n",
       "      <td>9.000000</td>\n",
       "      <td>19.000000</td>\n",
       "      <td>6.000000</td>\n",
       "      <td>10.000000</td>\n",
       "      <td>8.000000</td>\n",
       "      <td>4.000000</td>\n",
       "      <td>11.000000</td>\n",
       "      <td>6491.000000</td>\n",
       "      <td>...</td>\n",
       "      <td>51.000000</td>\n",
       "      <td>379.000000</td>\n",
       "      <td>3.000000</td>\n",
       "      <td>2.000000</td>\n",
       "      <td>1.000000</td>\n",
       "      <td>1.000000</td>\n",
       "      <td>2.000000</td>\n",
       "      <td>2.000000</td>\n",
       "      <td>1.000000</td>\n",
       "      <td>2.000000</td>\n",
       "    </tr>\n",
       "  </tbody>\n",
       "</table>\n",
       "<p>8 rows × 35 columns</p>\n",
       "</div>"
      ],
      "text/plain": [
       "          event_name  device_category  device_mobile_brand_name  \\\n",
       "count  371714.000000    371714.000000             371714.000000   \n",
       "mean        6.810333         1.812735                  4.768653   \n",
       "std         1.854883         0.971340                  1.345632   \n",
       "min         1.000000         1.000000                  0.000000   \n",
       "25%         6.000000         1.000000                  4.000000   \n",
       "50%         8.000000         1.000000                  5.000000   \n",
       "75%         8.000000         3.000000                  5.000000   \n",
       "max        13.000000         3.000000                  9.000000   \n",
       "\n",
       "       device_mobile_model_name  device_operating_system  \\\n",
       "count             371714.000000            371714.000000   \n",
       "mean                  10.420179                 3.715445   \n",
       "std                    3.011988                 1.586145   \n",
       "min                    0.000000                 0.000000   \n",
       "25%                    8.000000                 2.000000   \n",
       "50%                   10.000000                 4.000000   \n",
       "75%                   12.000000                 5.000000   \n",
       "max                   19.000000                 6.000000   \n",
       "\n",
       "       device_operating_system_version  device_language  \\\n",
       "count                    371714.000000    371714.000000   \n",
       "mean                          4.566043         6.786482   \n",
       "std                           2.421290         1.552400   \n",
       "min                           0.000000         0.000000   \n",
       "25%                           2.000000         6.786482   \n",
       "50%                           4.566043         6.786482   \n",
       "75%                           5.000000         8.000000   \n",
       "max                          10.000000         8.000000   \n",
       "\n",
       "       device_web_info_browser  device_web_info_browser_version  \\\n",
       "count            371714.000000                    371714.000000   \n",
       "mean                  2.191389                         4.352573   \n",
       "std                   0.639513                         1.779542   \n",
       "min                   0.000000                         0.000000   \n",
       "25%                   2.000000                         3.000000   \n",
       "50%                   2.000000                         4.000000   \n",
       "75%                   3.000000                         4.352573   \n",
       "max                   4.000000                        11.000000   \n",
       "\n",
       "          geo_region  ...  page_path_level_2  page_path_level_3  \\\n",
       "count  371714.000000  ...      371714.000000      371714.000000   \n",
       "mean     2990.812379  ...          22.926075         264.547014   \n",
       "std      1761.545179  ...          12.916481         119.734153   \n",
       "min         0.000000  ...           0.000000           0.000000   \n",
       "25%      1580.000000  ...           5.000000         130.000000   \n",
       "50%      3621.000000  ...          28.000000         342.000000   \n",
       "75%      4382.000000  ...          34.000000         362.000000   \n",
       "max      6491.000000  ...          51.000000         379.000000   \n",
       "\n",
       "         path_length    geo_country  session_engaged  returning_user  \\\n",
       "count  371714.000000  371714.000000    371714.000000   371714.000000   \n",
       "mean        1.996530       1.145711         0.915217        0.258963   \n",
       "std         1.140094       0.352817         0.278559        0.438066   \n",
       "min         0.000000       1.000000         0.000000        0.000000   \n",
       "25%         1.000000       1.000000         1.000000        0.000000   \n",
       "50%         2.000000       1.000000         1.000000        0.000000   \n",
       "75%         3.000000       1.000000         1.000000        1.000000   \n",
       "max         3.000000       2.000000         1.000000        1.000000   \n",
       "\n",
       "                year        quarter     is_weekend         domain  \n",
       "count  371714.000000  371714.000000  371714.000000  371714.000000  \n",
       "mean        1.261965       1.261965       0.198198       1.966022  \n",
       "std         0.439704       0.439704       0.398643       0.181172  \n",
       "min         1.000000       1.000000       0.000000       1.000000  \n",
       "25%         1.000000       1.000000       0.000000       2.000000  \n",
       "50%         1.000000       1.000000       0.000000       2.000000  \n",
       "75%         2.000000       2.000000       0.000000       2.000000  \n",
       "max         2.000000       2.000000       1.000000       2.000000  \n",
       "\n",
       "[8 rows x 35 columns]"
      ]
     },
     "execution_count": 29,
     "metadata": {},
     "output_type": "execute_result"
    }
   ],
   "source": [
    "from numpy import ndarray\n",
    "from pandas import concat\n",
    "from sklearn.impute import SimpleImputer, KNNImputer\n",
    "from dslabs_functions import get_variable_types, mvi_by_filling\n",
    "\n",
    "\n",
    "def mvi_by_filling(data: DataFrame, strategy: str = \"frequent\") -> DataFrame:\n",
    "    df: DataFrame\n",
    "    variables: dict = get_variable_types(data)\n",
    "    stg_num, v_num = \"mean\", -1\n",
    "    stg_sym, v_sym = \"most_frequent\", \"NA\"\n",
    "    stg_bool, v_bool = \"most_frequent\", False\n",
    "    if strategy != \"knn\":\n",
    "        lst_dfs: list = []\n",
    "        if strategy == \"constant\":\n",
    "            stg_num, stg_sym, stg_bool = \"constant\", \"constant\", \"constant\"\n",
    "        if len(variables[\"numeric\"]) > 0:\n",
    "            imp = SimpleImputer(strategy=stg_num, fill_value=v_num, copy=True)\n",
    "            tmp_nr = DataFrame(\n",
    "                imp.fit_transform(data[variables[\"numeric\"]]),\n",
    "                columns=variables[\"numeric\"],\n",
    "            )\n",
    "            lst_dfs.append(tmp_nr)\n",
    "        if len(variables[\"symbolic\"]) > 0:\n",
    "            imp = SimpleImputer(strategy=stg_sym, fill_value=v_sym, copy=True)\n",
    "            tmp_sb = DataFrame(\n",
    "                imp.fit_transform(data[variables[\"symbolic\"]]),\n",
    "                columns=variables[\"symbolic\"],\n",
    "            )\n",
    "            lst_dfs.append(tmp_sb)\n",
    "        if len(variables[\"binary\"]) > 0:\n",
    "            imp = SimpleImputer(strategy=stg_bool, fill_value=v_bool, copy=True)\n",
    "            tmp_bool = DataFrame(\n",
    "                imp.fit_transform(data[variables[\"binary\"]]),\n",
    "                columns=variables[\"binary\"],\n",
    "            )\n",
    "            lst_dfs.append(tmp_bool)\n",
    "        df = concat(lst_dfs, axis=1)\n",
    "    else:\n",
    "        imp = KNNImputer(n_neighbors=5)\n",
    "        imp.fit(data)\n",
    "        ar: ndarray = imp.transform(data)\n",
    "        df = DataFrame(ar, columns=data.columns, index=data.index)\n",
    "    return df\n",
    "\n",
    "\n",
    "data_1 =  mvi_by_filling(data, strategy=\"frequent\")\n",
    "\n",
    "data_1.describe()\n"
   ]
  },
  {
   "cell_type": "markdown",
   "metadata": {},
   "source": [
    "## MV 1 train test split"
   ]
  },
  {
   "cell_type": "code",
   "execution_count": 30,
   "metadata": {},
   "outputs": [],
   "source": [
    "# train_data_1, test_data_1 = train_test_split(data_1, test_size=0.3, random_state=42)\n"
   ]
  },
  {
   "cell_type": "markdown",
   "metadata": {},
   "source": [
    "## MV1 evaluation"
   ]
  },
  {
   "cell_type": "code",
   "execution_count": 31,
   "metadata": {},
   "outputs": [
    {
     "name": "stdout",
     "output_type": "stream",
     "text": [
      "Labels=[0.0, 1.0]\n"
     ]
    }
   ],
   "source": [
    "from numpy import array, ndarray\n",
    "\n",
    "target = \"returning_user\"\n",
    "labels: list = list(data_1[target].unique())\n",
    "labels.sort()\n",
    "print(f\"Labels={labels}\")\n",
    "\n",
    "positive: int = 1\n",
    "negative: int = 0\n",
    "values: dict[str, list[int]] = {\n",
    "    \"Original\": [\n",
    "        len(data_1[data_1[target] == negative]),\n",
    "        len(data_1[data_1[target] == positive]),\n",
    "    ]\n",
    "}\n",
    "\n",
    "y: array = data_1.pop(target).to_list()\n",
    "X: ndarray = data_1.values"
   ]
  },
  {
   "cell_type": "code",
   "execution_count": 32,
   "metadata": {},
   "outputs": [
    {
     "data": {
      "text/plain": [
       "<Axes: title={'center': 'Data distribution per dataset'}>"
      ]
     },
     "execution_count": 32,
     "metadata": {},
     "output_type": "execute_result"
    },
    {
     "data": {
      "image/png": "[encoded data removed]",
      "text/plain": [
       "<Figure size 600x400 with 1 Axes>"
      ]
     },
     "metadata": {},
     "output_type": "display_data"
    }
   ],
   "source": [
    "from pandas import concat\n",
    "from matplotlib.pyplot import figure, show\n",
    "from sklearn.model_selection import train_test_split\n",
    "from dslabs_functions import plot_multibar_chart\n",
    "\n",
    "\n",
    "trnX, tstX, trnY, tstY = train_test_split(X, y, train_size=0.7, stratify=y)\n",
    "\n",
    "train: DataFrame = concat(\n",
    "    [DataFrame(trnX, columns=data_1.columns), DataFrame(trnY, columns=[target])], axis=1\n",
    ")\n",
    "# train.to_csv(f\"data/{file_tag}_train.csv\", index=False)\n",
    "\n",
    "test: DataFrame = concat(\n",
    "    [DataFrame(tstX, columns=data_1.columns), DataFrame(tstY, columns=[target])], axis=1\n",
    ")\n",
    "# test.to_csv(f\"data/{file_tag}_test.csv\", index=False)\n",
    "\n",
    "values[\"Train\"] = [\n",
    "    len(train[train[target] == negative]),\n",
    "    len(train[train[target] == positive]),\n",
    "]\n",
    "values[\"Test\"] = [\n",
    "    len(test[test[target] == negative]),\n",
    "    len(test[test[target] == positive]),\n",
    "]\n",
    "\n",
    "figure(figsize=(6, 4))\n",
    "plot_multibar_chart(labels, values, title=\"Data distribution per dataset\")"
   ]
  },
  {
   "cell_type": "markdown",
   "metadata": {},
   "source": [
    "### naive bayes"
   ]
  },
  {
   "cell_type": "code",
   "execution_count": 33,
   "metadata": {},
   "outputs": [
    {
     "name": "stdout",
     "output_type": "stream",
     "text": [
      "Score over Train: 0.735\n",
      "Score over Test: 0.734\n"
     ]
    }
   ],
   "source": [
    "from sklearn.naive_bayes import GaussianNB\n",
    "\n",
    "clf = GaussianNB()\n",
    "clf.fit(trnX, trnY)\n",
    "pred_trnY: array = clf.predict(trnX)\n",
    "print(f\"Score over Train: {clf.score(trnX, trnY):.3f}\")\n",
    "print(f\"Score over Test: {clf.score(tstX, tstY):.3f}\")"
   ]
  },
  {
   "cell_type": "markdown",
   "metadata": {},
   "source": [
    "# MV 2 - KNN strategy"
   ]
  },
  {
   "cell_type": "code",
   "execution_count": null,
   "metadata": {},
   "outputs": [],
   "source": [
    "# numeric_vars: list[str] = get_variable_types(data)[\"numeric\"]\n",
    "\n",
    "data_2 = mvi_by_filling(data, strategy=\"knn\")\n",
    "\n",
    "data_2.describe()"
   ]
  },
  {
   "cell_type": "markdown",
   "metadata": {},
   "source": [
    "## MV2 train test split"
   ]
  },
  {
   "cell_type": "code",
   "execution_count": 21,
   "metadata": {},
   "outputs": [
    {
     "name": "stdout",
     "output_type": "stream",
     "text": [
      "Labels=[0.0, 1.0]\n"
     ]
    }
   ],
   "source": [
    "# train_data_2, test_data_2 = train_test_split(data_2, test_size=0.3, random_state=42)\n",
    "\n",
    "\n",
    "# from numpy import array, ndarray\n",
    "\n",
    "target = \"returning_user\"\n",
    "labels: list = list(data_2[target].unique())\n",
    "labels.sort()\n",
    "print(f\"Labels={labels}\")\n",
    "\n",
    "positive: int = 1\n",
    "negative: int = 0\n",
    "values: dict[str, list[int]] = {\n",
    "    \"Original\": [\n",
    "        len(data_2[data_2[target] == negative]),\n",
    "        len(data_2[data_2[target] == positive]),\n",
    "    ]\n",
    "}\n",
    "\n",
    "y: array = data_2.pop(target).to_list()\n",
    "X: ndarray = data_2.values"
   ]
  },
  {
   "cell_type": "code",
   "execution_count": 22,
   "metadata": {},
   "outputs": [
    {
     "data": {
      "text/plain": [
       "<Axes: title={'center': 'Data distribution per dataset'}>"
      ]
     },
     "execution_count": 22,
     "metadata": {},
     "output_type": "execute_result"
    },
    {
     "data": {
      "image/png": "[encoded data removed]",
      "text/plain": [
       "<Figure size 600x400 with 1 Axes>"
      ]
     },
     "metadata": {},
     "output_type": "display_data"
    }
   ],
   "source": [
    "trnX, tstX, trnY, tstY = train_test_split(X, y, train_size=0.7, stratify=y)\n",
    "\n",
    "train: DataFrame = concat(\n",
    "    [DataFrame(trnX, columns=data_2.columns), DataFrame(trnY, columns=[target])], axis=1\n",
    ")\n",
    "# train.to_csv(f\"data/{file_tag}_train.csv\", index=False)\n",
    "\n",
    "test: DataFrame = concat(\n",
    "    [DataFrame(tstX, columns=data_2.columns), DataFrame(tstY, columns=[target])], axis=1\n",
    ")\n",
    "# test.to_csv(f\"data/{file_tag}_test.csv\", index=False)\n",
    "\n",
    "values[\"Train\"] = [\n",
    "    len(train[train[target] == negative]),\n",
    "    len(train[train[target] == positive]),\n",
    "]\n",
    "values[\"Test\"] = [\n",
    "    len(test[test[target] == negative]),\n",
    "    len(test[test[target] == positive]),\n",
    "]\n",
    "\n",
    "figure(figsize=(6, 4))\n",
    "plot_multibar_chart(labels, values, title=\"Data distribution per dataset\")"
   ]
  },
  {
   "cell_type": "markdown",
   "metadata": {},
   "source": [
    "# test inputs"
   ]
  },
  {
   "cell_type": "markdown",
   "metadata": {},
   "source": [
    "### naive bayes"
   ]
  },
  {
   "cell_type": "code",
   "execution_count": 23,
   "metadata": {},
   "outputs": [
    {
     "name": "stdout",
     "output_type": "stream",
     "text": [
      "Score over Train: 0.731\n",
      "Score over Test: 0.727\n"
     ]
    }
   ],
   "source": [
    "# from sklearn.naive_bayes import GaussianNB\n",
    "\n",
    "clf = GaussianNB()\n",
    "clf.fit(trnX, trnY)\n",
    "pred_trnY: array = clf.predict(trnX)\n",
    "print(f\"Score over Train: {clf.score(trnX, trnY):.3f}\")\n",
    "print(f\"Score over Test: {clf.score(tstX, tstY):.3f}\")"
   ]
  },
  {
   "cell_type": "markdown",
   "metadata": {},
   "source": [
    "# save to csv"
   ]
  },
  {
   "cell_type": "code",
   "execution_count": 24,
   "metadata": {},
   "outputs": [],
   "source": [
    "# # choose final version\n",
    "# data_final=data_1\n",
    "\n",
    "# # Saving to CSV files\n",
    "# data_final.to_csv('data/df_merch_mv_input.csv',index=False)\n"
   ]
  }
 ],
 "metadata": {
  "kernelspec": {
   "display_name": "base",
   "language": "python",
   "name": "python3"
  },
  "language_info": {
   "codemirror_mode": {
    "name": "ipython",
    "version": 3
   },
   "file_extension": ".py",
   "mimetype": "text/x-python",
   "name": "python",
   "nbconvert_exporter": "python",
   "pygments_lexer": "ipython3",
   "version": "3.12.4"
  }
 },
 "nbformat": 4,
 "nbformat_minor": 2
}
