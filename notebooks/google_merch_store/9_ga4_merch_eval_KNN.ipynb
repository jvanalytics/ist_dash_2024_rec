{
 "cells": [
  {
   "cell_type": "markdown",
   "metadata": {},
   "source": [
    "# File and libraries"
   ]
  },
  {
   "cell_type": "code",
   "execution_count": 6,
   "metadata": {},
   "outputs": [],
   "source": [
    "import pandas as pd\n",
    "import numpy as np\n",
    "\n",
    "\n",
    "filepath=r'data/df_merch_7_bal_input'\n",
    "test_filepath= f\"{filepath}_test.csv\"\n",
    "train_filepath= f\"{filepath}_train.csv\"\n",
    "\n",
    "file_tag = \"df_merch_final\""
   ]
  },
  {
   "cell_type": "markdown",
   "metadata": {},
   "source": [
    "# DSLabs functions"
   ]
  },
  {
   "cell_type": "code",
   "execution_count": 7,
   "metadata": {},
   "outputs": [],
   "source": [
    "%run \"scripts/dslabs_functions.py\"\n"
   ]
  },
  {
   "cell_type": "markdown",
   "metadata": {},
   "source": [
    "# Data functions"
   ]
  },
  {
   "cell_type": "code",
   "execution_count": 8,
   "metadata": {},
   "outputs": [
    {
     "name": "stdout",
     "output_type": "stream",
     "text": [
      "data_functions lodaded\n"
     ]
    }
   ],
   "source": [
    "%run \"scripts/data_functions.py\"\n"
   ]
  },
  {
   "cell_type": "markdown",
   "metadata": {},
   "source": [
    "# Load"
   ]
  },
  {
   "cell_type": "code",
   "execution_count": 9,
   "metadata": {},
   "outputs": [
    {
     "name": "stdout",
     "output_type": "stream",
     "text": [
      "<class 'pandas.core.frame.DataFrame'>\n",
      "Index: 363410 entries, 0 to 363409\n",
      "Data columns (total 25 columns):\n",
      " #   Column                    Non-Null Count   Dtype  \n",
      "---  ------                    --------------   -----  \n",
      " 0   device_category           363410 non-null  float64\n",
      " 1   traffic_source_medium     363410 non-null  float64\n",
      " 2   traffic_source_source     363410 non-null  float64\n",
      " 3   day_of_year               363410 non-null  float64\n",
      " 4   page_path_level_3         363410 non-null  float64\n",
      " 5   path_length               363410 non-null  float64\n",
      " 6   time_of_day_sin           363410 non-null  float64\n",
      " 7   time_of_day_cos           363410 non-null  float64\n",
      " 8   local_hour_sin            363410 non-null  float64\n",
      " 9   local_hour_cos            363410 non-null  float64\n",
      " 10  local_minute_sin          363410 non-null  float64\n",
      " 11  local_minute_cos          363410 non-null  float64\n",
      " 12  hour_minute_fraction_sin  363410 non-null  float64\n",
      " 13  hour_minute_fraction_cos  363410 non-null  float64\n",
      " 14  day_sin                   363410 non-null  float64\n",
      " 15  day_cos                   363410 non-null  float64\n",
      " 16  day_of_week_nr_sin        363410 non-null  float64\n",
      " 17  day_of_week_nr_cos        363410 non-null  float64\n",
      " 18  week_of_month_nr_sin      363410 non-null  float64\n",
      " 19  week_of_month_nr_cos      363410 non-null  float64\n",
      " 20  geo_country               363410 non-null  float64\n",
      " 21  year                      363410 non-null  float64\n",
      " 22  quarter                   363410 non-null  float64\n",
      " 23  is_weekend                363410 non-null  float64\n",
      " 24  returning_user            363410 non-null  float64\n",
      "dtypes: float64(25)\n",
      "memory usage: 72.1 MB\n"
     ]
    }
   ],
   "source": [
    "\n",
    "# test_data=True\n",
    "test_data=False\n",
    "\n",
    "# use to evaluate strategies. otherwise False to just transform data \n",
    "evaluate=True\n",
    "# evaluate=False\n",
    "\n",
    "if test_data==True:\n",
    "\n",
    "    data=pd.read_csv(f\"{filepath}.csv\")\n",
    "    \n",
    "    test= pd.read_csv(test_filepath)\n",
    "    train= pd.read_csv(train_filepath)\n",
    "\n",
    "    # sample\n",
    "    data = data.groupby('day_of_year').apply(lambda x: sample_per_day(x, 0.01)).reset_index(drop=True)\n",
    "    test = test.groupby('day_of_year').apply(lambda x: sample_per_day(x, 0.01)).reset_index(drop=True)\n",
    "    train = train.groupby('day_of_year').apply(lambda x: sample_per_day(x, 0.01)).reset_index(drop=True)\n",
    "\n",
    "    # data=data.sample(frac=0.05, replace=False)\n",
    "    # test=test.sample(frac=0.05, replace=False)\n",
    "    # train=train.sample(frac=0.05, replace=False)\n",
    "    \n",
    "    \n",
    "else:\n",
    "    data=pd.read_csv(f\"{filepath}.csv\")  \n",
    "    test= pd.read_csv(test_filepath)\n",
    "    train= pd.read_csv(train_filepath)\n",
    "\n",
    "    # larger sample 10%\n",
    "    # data = data.groupby('day_of_year').apply(lambda x: sample_per_day(x, 0.1)).reset_index(drop=True)\n",
    "    # test = test.groupby('day_of_year').apply(lambda x: sample_per_day(x, 0.1)).reset_index(drop=True)\n",
    "    # train = train.groupby('day_of_year').apply(lambda x: sample_per_day(x, 0.1)).reset_index(drop=True)\n",
    "\n",
    " \n",
    "target='returning_user'\n",
    "target_metric='f2'\n",
    "vars: list[str] = data.columns.to_list()\n",
    "labels: list = list(data[target].unique())\n",
    "\n",
    "\n",
    "# ensure sorting by day_of_year for correct splitting \n",
    "# \"When in the presence of temporal data, data partition shall use older data to train and newer to test, in order to not use future data to classify past data. In any other case, partition shall be random.\"\n",
    "data.sort_values(by='day_of_year', inplace=True)\n",
    "test.sort_values(by='day_of_year', inplace=True)\n",
    "train.sort_values(by='day_of_year', inplace=True)\n",
    "\n",
    "\n",
    "\n",
    "data.info()"
   ]
  },
  {
   "cell_type": "markdown",
   "metadata": {},
   "source": [
    "# Distribution Check"
   ]
  },
  {
   "cell_type": "code",
   "execution_count": 10,
   "metadata": {},
   "outputs": [
    {
     "data": {
      "image/png": "[encoded data removed]",
      "text/plain": [
       "<Figure size 600x400 with 1 Axes>"
      ]
     },
     "metadata": {},
     "output_type": "display_data"
    }
   ],
   "source": [
    "from pandas import concat\n",
    "from matplotlib.pyplot import figure, show\n",
    "from dslabs_functions import plot_multibar_chart\n",
    "\n",
    "\n",
    "# Distribution check\n",
    "\n",
    "\n",
    "# Create a dictionary to store original class counts\n",
    "values: dict[str, list[int]] = {\n",
    "    \"Original\": [\n",
    "        len(data[data[target] == 0]),  # Assuming 0 is the negative class\n",
    "        len(data[data[target] == 1]),  # Assuming 1 is the positive class\n",
    "    ]\n",
    "}\n",
    "\n",
    "values[\"Train\"] = [\n",
    "    len(train[train[target] == 0]),\n",
    "    len(train[train[target] == 1]),\n",
    "]\n",
    "values[\"Test\"] = [\n",
    "    len(test[test[target] == 0]),\n",
    "    len(test[test[target] == 1]),\n",
    "]\n",
    "\n",
    "# Visualize the distribution\n",
    "figure(figsize=(6, 4))\n",
    "plot_multibar_chart(labels, values, title=\"Data distribution per dataset\")\n",
    "show()"
   ]
  },
  {
   "cell_type": "markdown",
   "metadata": {},
   "source": [
    "# Model Evaluation"
   ]
  },
  {
   "cell_type": "code",
   "execution_count": 12,
   "metadata": {},
   "outputs": [
    {
     "name": "stdout",
     "output_type": "stream",
     "text": [
      "Train#=186674 Test#=109024\n",
      "Labels=[0.0, 1.0]\n"
     ]
    }
   ],
   "source": [
    "if evaluate==True:\n",
    "    \n",
    "    trnX, tstX, trnY, tstY, labels, vars = read_train_test_from_files(train, test, target)\n",
    "    print(f'Train#={len(trnX)} Test#={len(tstX)}')\n",
    "    print(f'Labels={labels}')"
   ]
  },
  {
   "cell_type": "markdown",
   "metadata": {},
   "source": [
    "## recall evaluation"
   ]
  },
  {
   "cell_type": "code",
   "execution_count": null,
   "metadata": {},
   "outputs": [],
   "source": [
    "if evaluate==True:\n",
    "\n",
    "    best_model_recall, recall_params = knn_study(trnX, trnY, tstX, tstY, k_max=25, metric='recall')\n",
    "    savefig(f'images/{file_tag}_knn_recall_study.png')\n",
    "    show()"
   ]
  },
  {
   "cell_type": "markdown",
   "metadata": {},
   "source": [
    "## evaluate precision"
   ]
  },
  {
   "cell_type": "code",
   "execution_count": null,
   "metadata": {},
   "outputs": [],
   "source": [
    "if evaluate==True:\n",
    "\n",
    "    best_model_prec, prec_params = knn_study(trnX, trnY, tstX, tstY, k_max=25, metric='precision')\n",
    "    savefig(f'images/{file_tag}_knn_precision_study.png')\n",
    "    show()"
   ]
  },
  {
   "cell_type": "markdown",
   "metadata": {},
   "source": [
    "## evaluate f2"
   ]
  },
  {
   "cell_type": "code",
   "execution_count": null,
   "metadata": {},
   "outputs": [],
   "source": [
    "if evaluate==True:\n",
    "\n",
    "    best_model_fl, fl_params = knn_study(trnX, trnY, tstX, tstY, k_max=25, metric='f2')\n",
    "    savefig(f'images/{file_tag}_knn_accuracy_study.png')\n",
    "    show()"
   ]
  },
  {
   "cell_type": "markdown",
   "metadata": {},
   "source": [
    "## Evaluate for best model"
   ]
  },
  {
   "cell_type": "code",
   "execution_count": null,
   "metadata": {},
   "outputs": [],
   "source": [
    "if evaluate==True:\n",
    "\n",
    "    figure()\n",
    "\n",
    "\n",
    "    best_model, params = knn_study(trnX, trnY, tstX, tstY, k_max=25, metric=target_metric)\n",
    "    savefig(f'images/{file_tag}_knn_{target_metric}_study.png')\n",
    "    show()"
   ]
  },
  {
   "cell_type": "markdown",
   "metadata": {},
   "source": [
    "# Best Model Performance"
   ]
  },
  {
   "cell_type": "code",
   "execution_count": null,
   "metadata": {},
   "outputs": [],
   "source": [
    "if evaluate == True:\n",
    "    prd_trn: array = best_model.predict(trnX)\n",
    "    prd_tst: array = best_model.predict(tstX)\n",
    "    figure()\n",
    "    plot_evaluation_results(params, trnY, prd_trn, tstY, prd_tst, labels)\n",
    "    savefig(f'images/{file_tag}_dt_{params[\"name\"]}_best_{params[\"metric\"]}_eval.png')\n",
    "    show()"
   ]
  },
  {
   "cell_type": "markdown",
   "metadata": {},
   "source": [
    "# Overfitting"
   ]
  },
  {
   "cell_type": "code",
   "execution_count": null,
   "metadata": {},
   "outputs": [],
   "source": [
    "from matplotlib.pyplot import figure, savefig\n",
    "\n",
    "distance: Literal[\"manhattan\", \"euclidean\", \"chebyshev\"] = params[\"params\"][1]\n",
    "K_MAX = 25\n",
    "kvalues: list[int] = [i for i in range(1, K_MAX, 2)]\n",
    "y_tst_values: list = []\n",
    "y_trn_values: list = []\n",
    "acc_metric: str = \"accuracy\"\n",
    "for k in kvalues:\n",
    "    clf = KNeighborsClassifier(n_neighbors=k, metric=distance)\n",
    "    clf.fit(trnX, trnY)\n",
    "    prd_tst_Y: array = clf.predict(tstX)\n",
    "    prd_trn_Y: array = clf.predict(trnX)\n",
    "    y_tst_values.append(CLASS_EVAL_METRICS[acc_metric](tstY, prd_tst_Y))\n",
    "    y_trn_values.append(CLASS_EVAL_METRICS[acc_metric](trnY, prd_trn_Y))\n",
    "\n",
    "figure()\n",
    "plot_multiline_chart(\n",
    "    kvalues,\n",
    "    {\"Train\": y_trn_values, \"Test\": y_tst_values},\n",
    "    title=f\"KNN overfitting study for {distance}\",\n",
    "    xlabel=\"K\",\n",
    "    ylabel=str(target_metric),\n",
    "    percentage=True,\n",
    ")\n",
    "savefig(f\"images/{file_tag}_knn_overfitting.png\")\n",
    "show()"
   ]
  },
  {
   "cell_type": "markdown",
   "metadata": {},
   "source": [
    "# Additional evaluation"
   ]
  },
  {
   "cell_type": "code",
   "execution_count": 26,
   "metadata": {},
   "outputs": [],
   "source": [
    "from sklearn.model_selection import GridSearchCV\n",
    "from sklearn.neighbors import KNeighborsClassifier\n",
    "\n",
    "knn = KNeighborsClassifier()\n",
    "param_grid = {\n",
    "    'n_neighbors': range(1, 31),\n",
    "    'weights': ['uniform', 'distance'],\n",
    "    'metric': ['euclidean', 'manhattan', 'minkowski']\n",
    "}\n",
    "grid_search = GridSearchCV(knn, param_grid, cv=5, scoring='f1') # f2 not available\n",
    "grid_search.fit(trnX, trnY)\n",
    "best_knn = grid_search.best_estimator_"
   ]
  },
  {
   "cell_type": "markdown",
   "metadata": {},
   "source": [
    "# Analysis\n",
    "\n",
    "- Traffic source and medium with higher importance\n",
    "- overfitting from level 3\n"
   ]
  }
 ],
 "metadata": {
  "kernelspec": {
   "display_name": "base",
   "language": "python",
   "name": "python3"
  },
  "language_info": {
   "codemirror_mode": {
    "name": "ipython",
    "version": 3
   },
   "file_extension": ".py",
   "mimetype": "text/x-python",
   "name": "python",
   "nbconvert_exporter": "python",
   "pygments_lexer": "ipython3",
   "version": "3.12.4"
  }
 },
 "nbformat": 4,
 "nbformat_minor": 2
}
