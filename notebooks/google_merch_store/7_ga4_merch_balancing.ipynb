{
 "cells": [
  {
   "cell_type": "markdown",
   "metadata": {},
   "source": [
    "# File and libraries"
   ]
  },
  {
   "cell_type": "code",
   "execution_count": 62,
   "metadata": {},
   "outputs": [],
   "source": [
    "import pandas as pd\n",
    "import numpy as np\n",
    "\n",
    "\n",
    "filepath=r'data/df_merch_6_feat_eng_input'\n",
    "test_filepath= f\"{filepath}_test.csv\"\n",
    "train_filepath= f\"{filepath}_train.csv\"\n",
    "\n",
    "file_tag = \"df_merch_balancing_input\""
   ]
  },
  {
   "cell_type": "markdown",
   "metadata": {},
   "source": [
    "# DSLabs functions"
   ]
  },
  {
   "cell_type": "code",
   "execution_count": 63,
   "metadata": {},
   "outputs": [],
   "source": [
    "%run \"scripts/dslabs_functions.py\"\n"
   ]
  },
  {
   "cell_type": "markdown",
   "metadata": {},
   "source": [
    "# Data functions"
   ]
  },
  {
   "cell_type": "code",
   "execution_count": 64,
   "metadata": {},
   "outputs": [
    {
     "name": "stdout",
     "output_type": "stream",
     "text": [
      "data_functions lodaded\n"
     ]
    }
   ],
   "source": [
    "%run \"scripts/data_functions.py\"\n"
   ]
  },
  {
   "cell_type": "markdown",
   "metadata": {},
   "source": [
    "# Load"
   ]
  },
  {
   "cell_type": "code",
   "execution_count": 65,
   "metadata": {},
   "outputs": [
    {
     "name": "stdout",
     "output_type": "stream",
     "text": [
      "<class 'pandas.core.frame.DataFrame'>\n",
      "Index: 364427 entries, 0 to 364426\n",
      "Data columns (total 42 columns):\n",
      " #   Column                           Non-Null Count   Dtype  \n",
      "---  ------                           --------------   -----  \n",
      " 0   event_name                       364427 non-null  float64\n",
      " 1   device_category                  364427 non-null  float64\n",
      " 2   device_mobile_brand_name         364427 non-null  float64\n",
      " 3   device_mobile_model_name         364427 non-null  float64\n",
      " 4   device_operating_system          364427 non-null  float64\n",
      " 5   device_operating_system_version  364427 non-null  float64\n",
      " 6   device_language                  364427 non-null  float64\n",
      " 7   device_web_info_browser          364427 non-null  float64\n",
      " 8   device_web_info_browser_version  364427 non-null  float64\n",
      " 9   geo_region                       364427 non-null  float64\n",
      " 10  geo_city                         364427 non-null  float64\n",
      " 11  traffic_source_medium            364427 non-null  float64\n",
      " 12  traffic_source_source            364427 non-null  float64\n",
      " 13  engagement_time_msec             364427 non-null  float64\n",
      " 14  month                            364427 non-null  float64\n",
      " 15  day_of_year                      364427 non-null  float64\n",
      " 16  week_number                      364427 non-null  float64\n",
      " 17  page_path_level_1                364427 non-null  float64\n",
      " 18  page_path_level_2                364427 non-null  float64\n",
      " 19  page_path_level_3                364427 non-null  float64\n",
      " 20  path_length                      364427 non-null  float64\n",
      " 21  time_of_day_sin                  364427 non-null  float64\n",
      " 22  time_of_day_cos                  364427 non-null  float64\n",
      " 23  local_hour_sin                   364427 non-null  float64\n",
      " 24  local_hour_cos                   364427 non-null  float64\n",
      " 25  local_minute_sin                 364427 non-null  float64\n",
      " 26  local_minute_cos                 364427 non-null  float64\n",
      " 27  hour_minute_fraction_sin         364427 non-null  float64\n",
      " 28  hour_minute_fraction_cos         364427 non-null  float64\n",
      " 29  day_sin                          364427 non-null  float64\n",
      " 30  day_cos                          364427 non-null  float64\n",
      " 31  day_of_week_nr_sin               364427 non-null  float64\n",
      " 32  day_of_week_nr_cos               364427 non-null  float64\n",
      " 33  week_of_month_nr_sin             364427 non-null  float64\n",
      " 34  week_of_month_nr_cos             364427 non-null  float64\n",
      " 35  geo_country                      364427 non-null  float64\n",
      " 36  session_engaged                  364427 non-null  float64\n",
      " 37  year                             364427 non-null  float64\n",
      " 38  quarter                          364427 non-null  float64\n",
      " 39  is_weekend                       364427 non-null  float64\n",
      " 40  domain                           364427 non-null  float64\n",
      " 41  returning_user                   364427 non-null  float64\n",
      "dtypes: float64(42)\n",
      "memory usage: 119.6 MB\n"
     ]
    }
   ],
   "source": [
    "\n",
    "test_data=True\n",
    "# test_data=False\n",
    "\n",
    "# use to evaluate strategies. otherwise False to just transform data \n",
    "evaluate=True\n",
    "# evaluate=False\n",
    "\n",
    "\n",
    "if test_data==True:\n",
    "\n",
    "    data=pd.read_csv(f\"{filepath}.csv\")\n",
    "    \n",
    "    test= pd.read_csv(test_filepath)\n",
    "    train= pd.read_csv(train_filepath)\n",
    "\n",
    "    # sample\n",
    "    sample=0.05\n",
    "    data = data.groupby('day_of_year').apply(lambda x: sample_per_day(x, sample)).reset_index(drop=True)\n",
    "    test = test.groupby('day_of_year').apply(lambda x: sample_per_day(x, sample)).reset_index(drop=True)\n",
    "    train = train.groupby('day_of_year').apply(lambda x: sample_per_day(x, sample)).reset_index(drop=True)\n",
    "    \n",
    "    \n",
    "else:\n",
    "    data=pd.read_csv(f\"{filepath}.csv\")  \n",
    "    test= pd.read_csv(test_filepath)\n",
    "    train= pd.read_csv(train_filepath)\n",
    "\n",
    "\n",
    "\n",
    " \n",
    "target='returning_user'\n",
    "vars: list[str] = data.columns.to_list()\n",
    "labels: list = list(data[target].unique())\n",
    "\n",
    "\n",
    "# ensure sorting by day_of_year for correct splitting \n",
    "# \"When in the presence of temporal data, data partition shall use older data to train and newer to test, in order to not use future data to classify past data. In any other case, partition shall be random.\"\n",
    "data.sort_values(by='day_of_year', inplace=True)\n",
    "test.sort_values(by='day_of_year', inplace=True)\n",
    "train.sort_values(by='day_of_year', inplace=True)\n",
    "\n",
    "\n",
    "\n",
    "data.info()"
   ]
  },
  {
   "cell_type": "code",
   "execution_count": 66,
   "metadata": {},
   "outputs": [
    {
     "data": {
      "text/plain": [
       "Index(['event_name', 'device_category', 'device_mobile_brand_name',\n",
       "       'device_mobile_model_name', 'device_operating_system',\n",
       "       'device_operating_system_version', 'device_language',\n",
       "       'device_web_info_browser', 'device_web_info_browser_version',\n",
       "       'geo_region', 'geo_city', 'traffic_source_medium',\n",
       "       'traffic_source_source', 'engagement_time_msec', 'month', 'day_of_year',\n",
       "       'week_number', 'page_path_level_1', 'page_path_level_2',\n",
       "       'page_path_level_3', 'path_length', 'time_of_day_sin',\n",
       "       'time_of_day_cos', 'local_hour_sin', 'local_hour_cos',\n",
       "       'local_minute_sin', 'local_minute_cos', 'hour_minute_fraction_sin',\n",
       "       'hour_minute_fraction_cos', 'day_sin', 'day_cos', 'day_of_week_nr_sin',\n",
       "       'day_of_week_nr_cos', 'week_of_month_nr_sin', 'week_of_month_nr_cos',\n",
       "       'geo_country', 'session_engaged', 'year', 'quarter', 'is_weekend',\n",
       "       'domain', 'returning_user'],\n",
       "      dtype='object')"
      ]
     },
     "execution_count": 66,
     "metadata": {},
     "output_type": "execute_result"
    }
   ],
   "source": [
    "test.columns"
   ]
  },
  {
   "cell_type": "markdown",
   "metadata": {},
   "source": [
    "# Balancing Analysis"
   ]
  },
  {
   "cell_type": "code",
   "execution_count": 67,
   "metadata": {},
   "outputs": [
    {
     "name": "stdout",
     "output_type": "stream",
     "text": [
      "Minority class= 1.0 : 94242\n",
      "Majority class= 0.0 : 270185\n",
      "Original class distribution:\n",
      "returning_user\n",
      "0.0    74.139677\n",
      "1.0    25.860323\n",
      "Name: proportion, dtype: float64\n",
      "\n"
     ]
    },
    {
     "data": {
      "image/png": "[encoded data removed]",
      "text/plain": [
       "<Figure size 640x480 with 1 Axes>"
      ]
     },
     "metadata": {},
     "output_type": "display_data"
    }
   ],
   "source": [
    "from pandas import read_csv, concat, DataFrame, Series\n",
    "from matplotlib.pyplot import figure, show\n",
    "from dslabs_functions import plot_bar_chart\n",
    "\n",
    "\n",
    "target_count: Series = data[target].value_counts()\n",
    "positive_class = target_count.idxmin()\n",
    "negative_class = target_count.idxmax()\n",
    "\n",
    "print(\"Minority class=\", positive_class, \":\", target_count[positive_class])\n",
    "print(\"Majority class=\", negative_class, \":\", target_count[negative_class])\n",
    "values: dict[str, list] = {\n",
    "    \"Original\": [target_count[positive_class], target_count[negative_class]]\n",
    "}\n",
    "\n",
    "print(f\"Original class distribution:\\n{data[target].value_counts(normalize=True) * 100}\\n\")\n",
    "\n",
    "\n",
    "figure()\n",
    "plot_bar_chart(\n",
    "    target_count.index.to_list(), target_count.to_list(), title=\"Class balance\"\n",
    ")\n",
    "show()"
   ]
  },
  {
   "cell_type": "markdown",
   "metadata": {},
   "source": [
    "# Balance 1 - Undersampling"
   ]
  },
  {
   "cell_type": "markdown",
   "metadata": {},
   "source": [
    "## Bal 1 strategy Application"
   ]
  },
  {
   "cell_type": "code",
   "execution_count": 68,
   "metadata": {},
   "outputs": [
    {
     "name": "stdout",
     "output_type": "stream",
     "text": [
      "Original class distribution:\n",
      "returning_user\n",
      "0.0    73.392579\n",
      "1.0    26.607421\n",
      "Name: proportion, dtype: float64\n",
      "\n",
      "Balanced class distribution:\n",
      "returning_user\n",
      "0.0    50.0\n",
      "1.0    50.0\n",
      "Name: proportion, dtype: float64\n",
      "\n"
     ]
    }
   ],
   "source": [
    "from pandas import DataFrame, Series\n",
    "from sklearn.preprocessing import StandardScaler\n",
    "\n",
    "\n",
    "def apply_strategy_1(df: DataFrame) -> DataFrame:\n",
    "\n",
    "    df_copy=df.copy()\n",
    "\n",
    "    df_balanced=apply_balanced_downsampling(df_copy)\n",
    "    \n",
    "    return df_balanced\n",
    "\n",
    "\n",
    "train_1=apply_strategy_1(train)\n",
    "test_1=test.copy()\n",
    "\n"
   ]
  },
  {
   "cell_type": "markdown",
   "metadata": {},
   "source": [
    "## Bal 1 train/test split "
   ]
  },
  {
   "cell_type": "code",
   "execution_count": 69,
   "metadata": {},
   "outputs": [
    {
     "data": {
      "image/png": "[encoded data removed]",
      "text/plain": [
       "<Figure size 600x400 with 1 Axes>"
      ]
     },
     "metadata": {},
     "output_type": "display_data"
    }
   ],
   "source": [
    "if evaluate==True:\n",
    "    from pandas import concat\n",
    "    from matplotlib.pyplot import figure, show\n",
    "    from dslabs_functions import plot_multibar_chart\n",
    "\n",
    "\n",
    "    # Distribution check\n",
    "\n",
    "\n",
    "    # Create a dictionary to store original class counts\n",
    "    values: dict[str, list[int]] = {\n",
    "        \"Original\": [\n",
    "            len(data[data[target] == 0]),  # Assuming 0 is the negative class\n",
    "            len(data[data[target] == 1]),  # Assuming 1 is the positive class\n",
    "        ]\n",
    "    }\n",
    "\n",
    "    values[\"Train\"] = [\n",
    "        len(train_1[train_1[target] == 0]),\n",
    "        len(train_1[train_1[target] == 1]),\n",
    "    ]\n",
    "    values[\"Test\"] = [\n",
    "        len(test_1[test_1[target] == 0]),\n",
    "        len(test_1[test_1[target] == 1]),\n",
    "    ]\n",
    "\n",
    "    # Visualize the distribution\n",
    "    figure(figsize=(6, 4))\n",
    "    plot_multibar_chart(labels, values, title=\"Data distribution per dataset\")\n",
    "    show()"
   ]
  },
  {
   "cell_type": "markdown",
   "metadata": {},
   "source": [
    "## Bal 1 evaluate"
   ]
  },
  {
   "cell_type": "code",
   "execution_count": 70,
   "metadata": {},
   "outputs": [
    {
     "data": {
      "image/png": "[encoded data removed]",
      "text/plain": [
       "<Figure size 640x480 with 1 Axes>"
      ]
     },
     "metadata": {},
     "output_type": "display_data"
    }
   ],
   "source": [
    "# evaluate_approach is in data_functions originally from DSLABS/ Data Prep / Methodology\n",
    "# removed Multinomial from run_NB function because dataset has negative values\n",
    "\n",
    "if evaluate==True:\n",
    "    figure()\n",
    "    eval_1: dict[str, list] = evaluate_approach(train_1, test_1, target='returning_user', metric=\"precision\")\n",
    "    plot_multibar_chart(\n",
    "        [\"NB\", \"KNN\"], eval_1, title=f\"{file_tag}_approach_1_evaluation\", percentage=True\n",
    "    )\n",
    "    savefig(f\"images/{file_tag}_approach_1_evaluation.png\")\n",
    "    show()"
   ]
  },
  {
   "cell_type": "markdown",
   "metadata": {},
   "source": [
    "# Bal 2 - Hybrid Sampling\n",
    "\n",
    "Reduce from negative class from 75% and then oversample the positives into making a 60/40 ratio\n"
   ]
  },
  {
   "cell_type": "markdown",
   "metadata": {},
   "source": [
    "## Bal 2 strategy aplication"
   ]
  },
  {
   "cell_type": "code",
   "execution_count": 71,
   "metadata": {},
   "outputs": [
    {
     "name": "stdout",
     "output_type": "stream",
     "text": [
      "Original class distribution:\n",
      "returning_user\n",
      "0.0    73.392579\n",
      "1.0    26.607421\n",
      "Name: proportion, dtype: float64\n",
      "\n",
      "Hybrid class distribution (60.0/40.0):\n",
      "returning_user\n",
      "0.0    60.000214\n",
      "1.0    39.999786\n",
      "Name: proportion, dtype: float64\n",
      "\n"
     ]
    }
   ],
   "source": [
    "\n",
    "\n",
    "def apply_strategy_2(df):\n",
    "    # Create a copy of the dataframe\n",
    "    df_copy = df.copy()\n",
    "\n",
    "    df_balanced=apply_balanced_hybrid(df_copy,target='returning_user',minority_ratio=0.5)\n",
    "\n",
    "    return df_balanced\n",
    "\n",
    "\n",
    "train_2=apply_strategy_2(train)\n",
    "test_2=test.copy()\n"
   ]
  },
  {
   "cell_type": "markdown",
   "metadata": {},
   "source": [
    "## Bal 2 distribution check"
   ]
  },
  {
   "cell_type": "code",
   "execution_count": 72,
   "metadata": {},
   "outputs": [
    {
     "data": {
      "image/png": "[encoded data removed]",
      "text/plain": [
       "<Figure size 600x400 with 1 Axes>"
      ]
     },
     "metadata": {},
     "output_type": "display_data"
    }
   ],
   "source": [
    "if evaluate==True:\n",
    "\n",
    "    from matplotlib.pyplot import figure, show\n",
    "    from dslabs_functions import plot_multibar_chart\n",
    "\n",
    "\n",
    "    # Distribution check\n",
    "\n",
    "\n",
    "    # Create a dictionary to store original class counts\n",
    "    values: dict[str, list[int]] = {\n",
    "        \"Original\": [\n",
    "            len(data[data[target] == 0]),  # Assuming 0 is the negative class\n",
    "            len(data[data[target] == 1]),  # Assuming 1 is the positive class\n",
    "        ]\n",
    "    }\n",
    "\n",
    "    values[\"Train\"] = [\n",
    "        len(train_2[train_2[target] == 0]),\n",
    "        len(train_2[train_2[target] == 1]),\n",
    "    ]\n",
    "    values[\"Test\"] = [\n",
    "        len(test_2[test_2[target] == 0]),\n",
    "        len(test_2[test_2[target] == 1]),\n",
    "    ]\n",
    "\n",
    "    # Visualize the distribution\n",
    "    figure(figsize=(6, 4))\n",
    "    plot_multibar_chart(labels, values, title=\"Data distribution per dataset\")\n",
    "    show()"
   ]
  },
  {
   "cell_type": "markdown",
   "metadata": {},
   "source": [
    "## Bal 2 evaluate"
   ]
  },
  {
   "cell_type": "code",
   "execution_count": 73,
   "metadata": {},
   "outputs": [
    {
     "data": {
      "image/png": "[encoded data removed]",
      "text/plain": [
       "<Figure size 640x480 with 1 Axes>"
      ]
     },
     "metadata": {},
     "output_type": "display_data"
    }
   ],
   "source": [
    "if evaluate == True:\n",
    "    figure()\n",
    "    eval_2: dict[str, list] = evaluate_approach(train_2, test_2, target='returning_user', metric=\"precision\")\n",
    "    plot_multibar_chart(\n",
    "        [\"NB\", \"KNN\"], eval_2, title=f\"{file_tag}_approach_2_evaluation\", percentage=True\n",
    "    )\n",
    "    savefig(f\"images/{file_tag}_approach_2_evaluation.png\")\n",
    "    show()"
   ]
  },
  {
   "cell_type": "markdown",
   "metadata": {},
   "source": [
    "# Bal 3 - SMOTE"
   ]
  },
  {
   "cell_type": "code",
   "execution_count": 74,
   "metadata": {},
   "outputs": [
    {
     "name": "stdout",
     "output_type": "stream",
     "text": [
      "Original class distribution:\n",
      "returning_user\n",
      "0.0    73.392579\n",
      "1.0    26.607421\n",
      "Name: proportion, dtype: float64\n",
      "\n",
      "New class distribution:\n",
      "returning_user\n",
      "0.0    50.0\n",
      "1.0    50.0\n",
      "Name: proportion, dtype: float64\n",
      "\n"
     ]
    }
   ],
   "source": [
    "\n",
    "def apply_strategy_3(df):\n",
    "\n",
    "    # Create a copy of the dataframe\n",
    "    df_copy = df.copy()\n",
    "\n",
    "    df_smote=apply_balanced_smote(df_copy)\n",
    "\n",
    "\n",
    "    return df_smote\n",
    "\n",
    "\n",
    "train_3=apply_strategy_3(train)\n",
    "test_3=test.copy()\n"
   ]
  },
  {
   "cell_type": "markdown",
   "metadata": {},
   "source": [
    "## Bal 3 distribution"
   ]
  },
  {
   "cell_type": "code",
   "execution_count": 75,
   "metadata": {},
   "outputs": [
    {
     "data": {
      "image/png": "[encoded data removed]",
      "text/plain": [
       "<Figure size 600x400 with 1 Axes>"
      ]
     },
     "metadata": {},
     "output_type": "display_data"
    }
   ],
   "source": [
    "if evaluate==True:\n",
    "\n",
    "    from pandas import concat\n",
    "    from matplotlib.pyplot import figure, show\n",
    "    from dslabs_functions import plot_multibar_chart\n",
    "\n",
    "\n",
    "    # Distribution check\n",
    "\n",
    "\n",
    "    # Create a dictionary to store original class counts\n",
    "    values: dict[str, list[int]] = {\n",
    "        \"Original\": [\n",
    "            len(data[data[target] == 0]),  # Assuming 0 is the negative class\n",
    "            len(data[data[target] == 1]),  # Assuming 1 is the positive class\n",
    "        ]\n",
    "    }\n",
    "\n",
    "    values[\"Train\"] = [\n",
    "        len(train_3[train_3[target] == 0]),\n",
    "        len(train_3[train_3[target] == 1]),\n",
    "    ]\n",
    "    values[\"Test\"] = [\n",
    "        len(test_3[test_3[target] == 0]),\n",
    "        len(test_3[test_3[target] == 1]),\n",
    "    ]\n",
    "\n",
    "    # Visualize the distribution\n",
    "    figure(figsize=(6, 4))\n",
    "    plot_multibar_chart(labels, values, title=\"Data distribution per dataset\")\n",
    "    show()"
   ]
  },
  {
   "cell_type": "markdown",
   "metadata": {},
   "source": [
    "## Bal 3 evaluate"
   ]
  },
  {
   "cell_type": "code",
   "execution_count": 76,
   "metadata": {},
   "outputs": [
    {
     "data": {
      "image/png": "[encoded data removed]",
      "text/plain": [
       "<Figure size 640x480 with 1 Axes>"
      ]
     },
     "metadata": {},
     "output_type": "display_data"
    }
   ],
   "source": [
    "if evaluate == True:\n",
    "    figure()\n",
    "    eval_3: dict[str, list] = evaluate_approach(train_3, test_3, target='returning_user', metric=\"precision\")\n",
    "    plot_multibar_chart(\n",
    "        [\"NB\", \"KNN\"], eval_3, title=f\"{file_tag}_approach_3_evaluation\", percentage=True\n",
    "    )\n",
    "    savefig(f\"images/{file_tag}_approach_3_evaluation.png\")\n",
    "    show()"
   ]
  },
  {
   "cell_type": "markdown",
   "metadata": {},
   "source": [
    "# Approach uplift comparison"
   ]
  },
  {
   "cell_type": "markdown",
   "metadata": {},
   "source": [
    "## uplift df"
   ]
  },
  {
   "cell_type": "code",
   "execution_count": 77,
   "metadata": {},
   "outputs": [
    {
     "data": {
      "text/html": [
       "<div>\n",
       "<style scoped>\n",
       "    .dataframe tbody tr th:only-of-type {\n",
       "        vertical-align: middle;\n",
       "    }\n",
       "\n",
       "    .dataframe tbody tr th {\n",
       "        vertical-align: top;\n",
       "    }\n",
       "\n",
       "    .dataframe thead tr th {\n",
       "        text-align: left;\n",
       "    }\n",
       "</style>\n",
       "<table border=\"1\" class=\"dataframe\">\n",
       "  <thead>\n",
       "    <tr>\n",
       "      <th></th>\n",
       "      <th colspan=\"5\" halign=\"left\">Undersampling</th>\n",
       "      <th colspan=\"5\" halign=\"left\">Hybrid</th>\n",
       "      <th colspan=\"5\" halign=\"left\">SMOTE</th>\n",
       "    </tr>\n",
       "    <tr>\n",
       "      <th></th>\n",
       "      <th>accuracy</th>\n",
       "      <th>recall</th>\n",
       "      <th>precision</th>\n",
       "      <th>auc</th>\n",
       "      <th>f1</th>\n",
       "      <th>accuracy</th>\n",
       "      <th>recall</th>\n",
       "      <th>precision</th>\n",
       "      <th>auc</th>\n",
       "      <th>f1</th>\n",
       "      <th>accuracy</th>\n",
       "      <th>recall</th>\n",
       "      <th>precision</th>\n",
       "      <th>auc</th>\n",
       "      <th>f1</th>\n",
       "    </tr>\n",
       "  </thead>\n",
       "  <tbody>\n",
       "    <tr>\n",
       "      <th>Naive Bayes</th>\n",
       "      <td>0.414410</td>\n",
       "      <td>0.867410</td>\n",
       "      <td>0.274242</td>\n",
       "      <td>0.568924</td>\n",
       "      <td>0.416730</td>\n",
       "      <td>0.265446</td>\n",
       "      <td>0.987902</td>\n",
       "      <td>0.245650</td>\n",
       "      <td>0.511869</td>\n",
       "      <td>0.393462</td>\n",
       "      <td>0.426246</td>\n",
       "      <td>0.852922</td>\n",
       "      <td>0.276485</td>\n",
       "      <td>0.571781</td>\n",
       "      <td>0.417600</td>\n",
       "    </tr>\n",
       "    <tr>\n",
       "      <th>KNN</th>\n",
       "      <td>0.595368</td>\n",
       "      <td>0.416657</td>\n",
       "      <td>0.275732</td>\n",
       "      <td>0.534412</td>\n",
       "      <td>0.331853</td>\n",
       "      <td>0.390418</td>\n",
       "      <td>0.804339</td>\n",
       "      <td>0.256464</td>\n",
       "      <td>0.531602</td>\n",
       "      <td>0.388920</td>\n",
       "      <td>0.637169</td>\n",
       "      <td>0.301893</td>\n",
       "      <td>0.272407</td>\n",
       "      <td>0.522809</td>\n",
       "      <td>0.286393</td>\n",
       "    </tr>\n",
       "  </tbody>\n",
       "</table>\n",
       "</div>"
      ],
      "text/plain": [
       "            Undersampling                                            Hybrid  \\\n",
       "                 accuracy    recall precision       auc        f1  accuracy   \n",
       "Naive Bayes      0.414410  0.867410  0.274242  0.568924  0.416730  0.265446   \n",
       "KNN              0.595368  0.416657  0.275732  0.534412  0.331853  0.390418   \n",
       "\n",
       "                                                        SMOTE            \\\n",
       "               recall precision       auc        f1  accuracy    recall   \n",
       "Naive Bayes  0.987902  0.245650  0.511869  0.393462  0.426246  0.852922   \n",
       "KNN          0.804339  0.256464  0.531602  0.388920  0.637169  0.301893   \n",
       "\n",
       "                                           \n",
       "            precision       auc        f1  \n",
       "Naive Bayes  0.276485  0.571781  0.417600  \n",
       "KNN          0.272407  0.522809  0.286393  "
      ]
     },
     "execution_count": 77,
     "metadata": {},
     "output_type": "execute_result"
    }
   ],
   "source": [
    "algorithms = ['Naive Bayes', 'KNN']\n",
    "\n",
    "# Create DataFrames for eval_1 and eval_2\n",
    "df_eval_1 = pd.DataFrame(eval_1, index=algorithms)\n",
    "df_eval_2 = pd.DataFrame(eval_2, index=algorithms)\n",
    "df_eval_3 = pd.DataFrame(eval_3, index=algorithms)\n",
    "\n",
    "# Calculate uplift\n",
    "# df_uplift = df_eval_2 - df_eval_1\n",
    "\n",
    "# Combine everything into one DataFrame (without misalignment issues)\n",
    "comparison_df = pd.concat([df_eval_1, df_eval_2, df_eval_3], axis=1)\n",
    "comparison_df.columns = pd.MultiIndex.from_product([['Undersampling', 'Hybrid', 'SMOTE'], eval_1.keys()])\n",
    "\n",
    "\n",
    "\n",
    "# Display the DataFrame\n",
    "comparison_df"
   ]
  },
  {
   "cell_type": "markdown",
   "metadata": {},
   "source": [
    "# Analysis\n",
    "\n",
    "- Huge improvements in recall and slgithly better fl on KNN"
   ]
  },
  {
   "cell_type": "markdown",
   "metadata": {},
   "source": [
    "# save to csv"
   ]
  },
  {
   "cell_type": "code",
   "execution_count": 83,
   "metadata": {},
   "outputs": [
    {
     "name": "stdout",
     "output_type": "stream",
     "text": [
      "Index(['event_name', 'device_category', 'device_mobile_brand_name',\n",
      "       'device_mobile_model_name', 'device_operating_system',\n",
      "       'device_operating_system_version', 'device_language',\n",
      "       'device_web_info_browser', 'device_web_info_browser_version',\n",
      "       'geo_region', 'geo_city', 'traffic_source_medium',\n",
      "       'traffic_source_source', 'engagement_time_msec', 'month', 'day_of_year',\n",
      "       'week_number', 'page_path_level_1', 'page_path_level_2',\n",
      "       'page_path_level_3', 'path_length', 'time_of_day_sin',\n",
      "       'time_of_day_cos', 'local_hour_sin', 'local_hour_cos',\n",
      "       'local_minute_sin', 'local_minute_cos', 'hour_minute_fraction_sin',\n",
      "       'hour_minute_fraction_cos', 'day_sin', 'day_cos', 'day_of_week_nr_sin',\n",
      "       'day_of_week_nr_cos', 'week_of_month_nr_sin', 'week_of_month_nr_cos',\n",
      "       'geo_country', 'session_engaged', 'year', 'quarter', 'is_weekend',\n",
      "       'domain', 'returning_user'],\n",
      "      dtype='object')\n"
     ]
    }
   ],
   "source": [
    "if test_data==False:\n",
    "    \n",
    "    # do not balance original dataset      \n",
    "    data_save=data.copy()\n",
    "    \n",
    "            \n",
    "    data_save.to_csv(f\"data/df_merch_7_bal_input.csv\", index=False)\n",
    "\n",
    "\n",
    "    print(data_save.columns)\n",
    "\n"
   ]
  },
  {
   "cell_type": "markdown",
   "metadata": {},
   "source": [
    "## train test csv"
   ]
  },
  {
   "cell_type": "code",
   "execution_count": 84,
   "metadata": {},
   "outputs": [
    {
     "name": "stdout",
     "output_type": "stream",
     "text": [
      "Original class distribution:\n",
      "returning_user\n",
      "0.0    73.392579\n",
      "1.0    26.607421\n",
      "Name: proportion, dtype: float64\n",
      "\n",
      "New class distribution:\n",
      "returning_user\n",
      "0.0    50.0\n",
      "1.0    50.0\n",
      "Name: proportion, dtype: float64\n",
      "\n",
      "Index(['event_name', 'device_category', 'device_mobile_brand_name',\n",
      "       'device_mobile_model_name', 'device_operating_system',\n",
      "       'device_operating_system_version', 'device_language',\n",
      "       'device_web_info_browser', 'device_web_info_browser_version',\n",
      "       'geo_region', 'geo_city', 'traffic_source_medium',\n",
      "       'traffic_source_source', 'engagement_time_msec', 'month', 'day_of_year',\n",
      "       'week_number', 'page_path_level_1', 'page_path_level_2',\n",
      "       'page_path_level_3', 'path_length', 'time_of_day_sin',\n",
      "       'time_of_day_cos', 'local_hour_sin', 'local_hour_cos',\n",
      "       'local_minute_sin', 'local_minute_cos', 'hour_minute_fraction_sin',\n",
      "       'hour_minute_fraction_cos', 'day_sin', 'day_cos', 'day_of_week_nr_sin',\n",
      "       'day_of_week_nr_cos', 'week_of_month_nr_sin', 'week_of_month_nr_cos',\n",
      "       'geo_country', 'session_engaged', 'year', 'quarter', 'is_weekend',\n",
      "       'domain', 'returning_user'],\n",
      "      dtype='object')\n",
      "Index(['event_name', 'device_category', 'device_mobile_brand_name',\n",
      "       'device_mobile_model_name', 'device_operating_system',\n",
      "       'device_operating_system_version', 'device_language',\n",
      "       'device_web_info_browser', 'device_web_info_browser_version',\n",
      "       'geo_region', 'geo_city', 'traffic_source_medium',\n",
      "       'traffic_source_source', 'engagement_time_msec', 'month', 'day_of_year',\n",
      "       'week_number', 'page_path_level_1', 'page_path_level_2',\n",
      "       'page_path_level_3', 'path_length', 'time_of_day_sin',\n",
      "       'time_of_day_cos', 'local_hour_sin', 'local_hour_cos',\n",
      "       'local_minute_sin', 'local_minute_cos', 'hour_minute_fraction_sin',\n",
      "       'hour_minute_fraction_cos', 'day_sin', 'day_cos', 'day_of_week_nr_sin',\n",
      "       'day_of_week_nr_cos', 'week_of_month_nr_sin', 'week_of_month_nr_cos',\n",
      "       'geo_country', 'session_engaged', 'year', 'quarter', 'is_weekend',\n",
      "       'domain', 'returning_user'],\n",
      "      dtype='object')\n"
     ]
    }
   ],
   "source": [
    "if test_data==False:\n",
    "\n",
    "    # train_save,test_save=simple_split_df(data_save,sort_by='day_of_year')\n",
    "    \n",
    "    train_save=apply_strategy_3(train)         \n",
    "    \n",
    "    train_save.to_csv(f\"data/df_merch_7_bal_input_train.csv\", index=False)\n",
    "    print(train.columns)\n",
    "    \n",
    "    test.to_csv(f\"data/df_merch_7_bal_input_test.csv\", index=False)\n",
    "    print(test.columns)"
   ]
  }
 ],
 "metadata": {
  "kernelspec": {
   "display_name": "base",
   "language": "python",
   "name": "python3"
  },
  "language_info": {
   "codemirror_mode": {
    "name": "ipython",
    "version": 3
   },
   "file_extension": ".py",
   "mimetype": "text/x-python",
   "name": "python",
   "nbconvert_exporter": "python",
   "pygments_lexer": "ipython3",
   "version": "3.12.4"
  }
 },
 "nbformat": 4,
 "nbformat_minor": 2
}
