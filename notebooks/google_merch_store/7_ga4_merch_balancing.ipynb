{
 "cells": [
  {
   "cell_type": "markdown",
   "metadata": {},
   "source": [
    "# File and libraries"
   ]
  },
  {
   "cell_type": "code",
   "execution_count": 19,
   "metadata": {},
   "outputs": [],
   "source": [
    "import pandas as pd\n",
    "import numpy as np\n",
    "\n",
    "\n",
    "filepath=r'data/df_merch_6_feat_eng_input'\n",
    "test_filepath= f\"{filepath}_test.csv\"\n",
    "train_filepath= f\"{filepath}_train.csv\"\n",
    "\n",
    "file_tag = \"Google Merch Shop\""
   ]
  },
  {
   "cell_type": "markdown",
   "metadata": {},
   "source": [
    "# DSLabs functions"
   ]
  },
  {
   "cell_type": "code",
   "execution_count": 20,
   "metadata": {},
   "outputs": [],
   "source": [
    "%run \"scripts/dslabs_functions.py\"\n"
   ]
  },
  {
   "cell_type": "markdown",
   "metadata": {},
   "source": [
    "# Data functions"
   ]
  },
  {
   "cell_type": "code",
   "execution_count": 21,
   "metadata": {},
   "outputs": [
    {
     "name": "stdout",
     "output_type": "stream",
     "text": [
      "data_functions lodaded\n"
     ]
    }
   ],
   "source": [
    "%run \"scripts/data_functions.py\"\n"
   ]
  },
  {
   "cell_type": "markdown",
   "metadata": {},
   "source": [
    "# Load"
   ]
  },
  {
   "cell_type": "code",
   "execution_count": 22,
   "metadata": {},
   "outputs": [
    {
     "name": "stdout",
     "output_type": "stream",
     "text": [
      "<class 'pandas.core.frame.DataFrame'>\n",
      "Index: 363410 entries, 0 to 363409\n",
      "Data columns (total 41 columns):\n",
      " #   Column                           Non-Null Count   Dtype  \n",
      "---  ------                           --------------   -----  \n",
      " 0   event_name                       363410 non-null  float64\n",
      " 1   device_category                  363410 non-null  float64\n",
      " 2   device_mobile_model_name         363410 non-null  float64\n",
      " 3   device_operating_system          363410 non-null  float64\n",
      " 4   device_operating_system_version  363410 non-null  float64\n",
      " 5   device_language                  363410 non-null  float64\n",
      " 6   device_web_info_browser          363410 non-null  float64\n",
      " 7   device_web_info_browser_version  363410 non-null  float64\n",
      " 8   geo_region                       363410 non-null  float64\n",
      " 9   geo_city                         363410 non-null  float64\n",
      " 10  traffic_source_medium            363410 non-null  float64\n",
      " 11  traffic_source_source            363410 non-null  float64\n",
      " 12  engagement_time_msec             363410 non-null  float64\n",
      " 13  month                            363410 non-null  float64\n",
      " 14  day_of_year                      363410 non-null  float64\n",
      " 15  week_number                      363410 non-null  float64\n",
      " 16  page_path_level_1                363410 non-null  float64\n",
      " 17  page_path_level_2                363410 non-null  float64\n",
      " 18  page_path_level_3                363410 non-null  float64\n",
      " 19  path_length                      363410 non-null  float64\n",
      " 20  time_of_day_sin                  363410 non-null  float64\n",
      " 21  time_of_day_cos                  363410 non-null  float64\n",
      " 22  local_hour_sin                   363410 non-null  float64\n",
      " 23  local_hour_cos                   363410 non-null  float64\n",
      " 24  local_minute_sin                 363410 non-null  float64\n",
      " 25  local_minute_cos                 363410 non-null  float64\n",
      " 26  hour_minute_fraction_sin         363410 non-null  float64\n",
      " 27  hour_minute_fraction_cos         363410 non-null  float64\n",
      " 28  day_sin                          363410 non-null  float64\n",
      " 29  day_cos                          363410 non-null  float64\n",
      " 30  day_of_week_nr_sin               363410 non-null  float64\n",
      " 31  day_of_week_nr_cos               363410 non-null  float64\n",
      " 32  week_of_month_nr_sin             363410 non-null  float64\n",
      " 33  week_of_month_nr_cos             363410 non-null  float64\n",
      " 34  geo_country                      363410 non-null  float64\n",
      " 35  session_engaged                  363410 non-null  float64\n",
      " 36  year                             363410 non-null  float64\n",
      " 37  quarter                          363410 non-null  float64\n",
      " 38  is_weekend                       363410 non-null  float64\n",
      " 39  domain                           363410 non-null  float64\n",
      " 40  returning_user                   363410 non-null  float64\n",
      "dtypes: float64(41)\n",
      "memory usage: 116.4 MB\n"
     ]
    }
   ],
   "source": [
    "\n",
    "# test_data=True\n",
    "test_data=False\n",
    "\n",
    "# use to evaluate strategies. otherwise False to just transform data \n",
    "evaluate=True\n",
    "# evaluate=False\n",
    "\n",
    "\n",
    "if test_data==True:\n",
    "\n",
    "    data=pd.read_csv(f\"{filepath}.csv\")\n",
    "    \n",
    "    test= pd.read_csv(test_filepath)\n",
    "    train= pd.read_csv(train_filepath)\n",
    "\n",
    "    # sample\n",
    "    sample=0.05\n",
    "    data = data.groupby('day_of_year').apply(lambda x: sample_per_day(x, sample)).reset_index(drop=True)\n",
    "    test = test.groupby('day_of_year').apply(lambda x: sample_per_day(x, sample)).reset_index(drop=True)\n",
    "    train = train.groupby('day_of_year').apply(lambda x: sample_per_day(x, sample)).reset_index(drop=True)\n",
    "    \n",
    "    \n",
    "else:\n",
    "    data=pd.read_csv(f\"{filepath}.csv\")  \n",
    "    test= pd.read_csv(test_filepath)\n",
    "    train= pd.read_csv(train_filepath)\n",
    "\n",
    "\n",
    "\n",
    " \n",
    "target='returning_user'\n",
    "target_metric='f2'\n",
    "vars: list[str] = data.columns.to_list()\n",
    "labels: list = list(data[target].unique())\n",
    "\n",
    "\n",
    "# ensure sorting by day_of_year for correct splitting \n",
    "# \"When in the presence of temporal data, data partition shall use older data to train and newer to test, in order to not use future data to classify past data. In any other case, partition shall be random.\"\n",
    "data.sort_values(by='day_of_year', inplace=True)\n",
    "test.sort_values(by='day_of_year', inplace=True)\n",
    "train.sort_values(by='day_of_year', inplace=True)\n",
    "\n",
    "\n",
    "\n",
    "data.info()"
   ]
  },
  {
   "cell_type": "code",
   "execution_count": 23,
   "metadata": {},
   "outputs": [
    {
     "data": {
      "text/plain": [
       "Index(['event_name', 'device_category', 'device_mobile_model_name',\n",
       "       'device_operating_system', 'device_operating_system_version',\n",
       "       'device_language', 'device_web_info_browser',\n",
       "       'device_web_info_browser_version', 'geo_region', 'geo_city',\n",
       "       'traffic_source_medium', 'traffic_source_source',\n",
       "       'engagement_time_msec', 'month', 'day_of_year', 'week_number',\n",
       "       'page_path_level_1', 'page_path_level_2', 'page_path_level_3',\n",
       "       'path_length', 'time_of_day_sin', 'time_of_day_cos', 'local_hour_sin',\n",
       "       'local_hour_cos', 'local_minute_sin', 'local_minute_cos',\n",
       "       'hour_minute_fraction_sin', 'hour_minute_fraction_cos', 'day_sin',\n",
       "       'day_cos', 'day_of_week_nr_sin', 'day_of_week_nr_cos',\n",
       "       'week_of_month_nr_sin', 'week_of_month_nr_cos', 'geo_country',\n",
       "       'session_engaged', 'year', 'quarter', 'is_weekend', 'domain',\n",
       "       'returning_user'],\n",
       "      dtype='object')"
      ]
     },
     "execution_count": 23,
     "metadata": {},
     "output_type": "execute_result"
    }
   ],
   "source": [
    "test.columns"
   ]
  },
  {
   "cell_type": "markdown",
   "metadata": {},
   "source": [
    "# Balancing Analysis"
   ]
  },
  {
   "cell_type": "code",
   "execution_count": 24,
   "metadata": {},
   "outputs": [
    {
     "name": "stdout",
     "output_type": "stream",
     "text": [
      "Minority class= 1.0 : 94199\n",
      "Majority class= 0.0 : 269211\n",
      "Original class distribution:\n",
      "returning_user\n",
      "0.0    74.079139\n",
      "1.0    25.920861\n",
      "Name: proportion, dtype: float64\n",
      "\n"
     ]
    },
    {
     "data": {
      "image/png": "[encoded data removed]",
      "text/plain": [
       "<Figure size 640x480 with 1 Axes>"
      ]
     },
     "metadata": {},
     "output_type": "display_data"
    }
   ],
   "source": [
    "from pandas import read_csv, concat, DataFrame, Series\n",
    "from matplotlib.pyplot import figure, show\n",
    "from dslabs_functions import plot_bar_chart\n",
    "\n",
    "\n",
    "target_count: Series = data[target].value_counts()\n",
    "positive_class = target_count.idxmin()\n",
    "negative_class = target_count.idxmax()\n",
    "\n",
    "print(\"Minority class=\", positive_class, \":\", target_count[positive_class])\n",
    "print(\"Majority class=\", negative_class, \":\", target_count[negative_class])\n",
    "values: dict[str, list] = {\n",
    "    \"Original\": [target_count[positive_class], target_count[negative_class]]\n",
    "}\n",
    "\n",
    "print(f\"Original class distribution:\\n{data[target].value_counts(normalize=True) * 100}\\n\")\n",
    "\n",
    "\n",
    "figure()\n",
    "plot_bar_chart(\n",
    "    target_count.index.to_list(), target_count.to_list(), title=f\"{file_tag} Class balance\"\n",
    ")\n",
    "show()"
   ]
  },
  {
   "cell_type": "markdown",
   "metadata": {},
   "source": [
    "# Balance 1 - Undersampling"
   ]
  },
  {
   "cell_type": "markdown",
   "metadata": {},
   "source": [
    "## Bal 1 strategy Application"
   ]
  },
  {
   "cell_type": "code",
   "execution_count": 25,
   "metadata": {},
   "outputs": [
    {
     "name": "stdout",
     "output_type": "stream",
     "text": [
      "Original class distribution:\n",
      "returning_user\n",
      "0.0    73.382183\n",
      "1.0    26.617817\n",
      "Name: proportion, dtype: float64\n",
      "\n",
      "Balanced class distribution:\n",
      "returning_user\n",
      "1.0    50.0\n",
      "0.0    50.0\n",
      "Name: proportion, dtype: float64\n",
      "\n"
     ]
    }
   ],
   "source": [
    "from pandas import DataFrame, Series\n",
    "from sklearn.preprocessing import StandardScaler\n",
    "\n",
    "\n",
    "def apply_strategy_1(df: DataFrame) -> DataFrame:\n",
    "\n",
    "    df_copy=df.copy()\n",
    "\n",
    "    df_balanced=apply_balanced_downsampling(df_copy,sort_by='day_of_year')\n",
    "    \n",
    "    return df_balanced\n",
    "\n",
    "\n",
    "train_1=apply_strategy_1(train)\n",
    "test_1=test.copy()\n",
    "\n"
   ]
  },
  {
   "cell_type": "markdown",
   "metadata": {},
   "source": [
    "## Bal 1 train/test split "
   ]
  },
  {
   "cell_type": "code",
   "execution_count": 26,
   "metadata": {},
   "outputs": [
    {
     "data": {
      "image/png": "[encoded data removed]",
      "text/plain": [
       "<Figure size 600x400 with 1 Axes>"
      ]
     },
     "metadata": {},
     "output_type": "display_data"
    }
   ],
   "source": [
    "if evaluate==True:\n",
    "    from pandas import concat\n",
    "    from matplotlib.pyplot import figure, show\n",
    "    from dslabs_functions import plot_multibar_chart\n",
    "\n",
    "\n",
    "    # Distribution check\n",
    "\n",
    "\n",
    "    # Create a dictionary to store original class counts\n",
    "    values: dict[str, list[int]] = {\n",
    "        \"Original\": [\n",
    "            len(data[data[target] == 0]),  # Assuming 0 is the negative class\n",
    "            len(data[data[target] == 1]),  # Assuming 1 is the positive class\n",
    "        ]\n",
    "    }\n",
    "\n",
    "    values[\"Train\"] = [\n",
    "        len(train_1[train_1[target] == 0]),\n",
    "        len(train_1[train_1[target] == 1]),\n",
    "    ]\n",
    "    values[\"Test\"] = [\n",
    "        len(test_1[test_1[target] == 0]),\n",
    "        len(test_1[test_1[target] == 1]),\n",
    "    ]\n",
    "\n",
    "    # Visualize the distribution\n",
    "    figure(figsize=(6, 4))\n",
    "    plot_multibar_chart(labels, values, title=f\"{file_tag} Data distribution per dataset\")\n",
    "    show()"
   ]
  },
  {
   "cell_type": "markdown",
   "metadata": {},
   "source": [
    "## Bal 1 evaluate"
   ]
  },
  {
   "cell_type": "code",
   "execution_count": 27,
   "metadata": {},
   "outputs": [
    {
     "data": {
      "image/png": "[encoded data removed]",
      "text/plain": [
       "<Figure size 640x480 with 1 Axes>"
      ]
     },
     "metadata": {},
     "output_type": "display_data"
    }
   ],
   "source": [
    "# evaluate_approach is in data_functions originally from DSLABS/ Data Prep / Methodology\n",
    "# removed Multinomial from run_NB function because dataset has negative values\n",
    "\n",
    "if evaluate==True:\n",
    "    figure()\n",
    "    eval_1: dict[str, list] = evaluate_approach(train_1, test_1, target='returning_user', metric=target_metric)\n",
    "    plot_multibar_chart(\n",
    "        [\"NB\", \"KNN\"], eval_1, title=f\"{file_tag} Undersampling evaluation\", percentage=True\n",
    "    )\n",
    "    savefig(f\"images/{file_tag}_approach_1_evaluation.png\")\n",
    "    show()"
   ]
  },
  {
   "cell_type": "markdown",
   "metadata": {},
   "source": [
    "# Bal 2 - Hybrid Sampling\n",
    "\n",
    "Reduce from negative class from 75% and then oversample the positives into making a 60/40 ratio\n"
   ]
  },
  {
   "cell_type": "markdown",
   "metadata": {},
   "source": [
    "## Bal 2 strategy aplication"
   ]
  },
  {
   "cell_type": "code",
   "execution_count": 28,
   "metadata": {},
   "outputs": [
    {
     "name": "stdout",
     "output_type": "stream",
     "text": [
      "Original class distribution:\n",
      "returning_user\n",
      "0.0    73.382183\n",
      "1.0    26.617817\n",
      "Name: proportion, dtype: float64\n",
      "\n",
      "Hybrid class distribution (50.0/50.0):\n",
      "returning_user\n",
      "0.0    50.0\n",
      "1.0    50.0\n",
      "Name: proportion, dtype: float64\n",
      "\n"
     ]
    }
   ],
   "source": [
    "\n",
    "\n",
    "def apply_strategy_2(df):\n",
    "    # Create a copy of the dataframe\n",
    "    df_copy = df.copy()\n",
    "\n",
    "    df_balanced=apply_balanced_hybrid(df_copy,target='returning_user',minority_ratio=0.5,sort_by='day_of_year')\n",
    "\n",
    "    return df_balanced\n",
    "\n",
    "\n",
    "train_2=apply_strategy_2(train)\n",
    "test_2=test.copy()\n"
   ]
  },
  {
   "cell_type": "markdown",
   "metadata": {},
   "source": [
    "## Bal 2 distribution check"
   ]
  },
  {
   "cell_type": "code",
   "execution_count": 29,
   "metadata": {},
   "outputs": [
    {
     "data": {
      "image/png": "[encoded data removed]",
      "text/plain": [
       "<Figure size 600x400 with 1 Axes>"
      ]
     },
     "metadata": {},
     "output_type": "display_data"
    }
   ],
   "source": [
    "if evaluate==True:\n",
    "\n",
    "    from matplotlib.pyplot import figure, show\n",
    "    from dslabs_functions import plot_multibar_chart\n",
    "\n",
    "\n",
    "    # Distribution check\n",
    "\n",
    "\n",
    "    # Create a dictionary to store original class counts\n",
    "    values: dict[str, list[int]] = {\n",
    "        \"Original\": [\n",
    "            len(data[data[target] == 0]),  # Assuming 0 is the negative class\n",
    "            len(data[data[target] == 1]),  # Assuming 1 is the positive class\n",
    "        ]\n",
    "    }\n",
    "\n",
    "    values[\"Train\"] = [\n",
    "        len(train_2[train_2[target] == 0]),\n",
    "        len(train_2[train_2[target] == 1]),\n",
    "    ]\n",
    "    values[\"Test\"] = [\n",
    "        len(test_2[test_2[target] == 0]),\n",
    "        len(test_2[test_2[target] == 1]),\n",
    "    ]\n",
    "\n",
    "    # Visualize the distribution\n",
    "    figure(figsize=(6, 4))\n",
    "    plot_multibar_chart(labels, values, title=f\"{file_tag} Data distribution per dataset\")\n",
    "    show()"
   ]
  },
  {
   "cell_type": "markdown",
   "metadata": {},
   "source": [
    "## Bal 2 evaluate"
   ]
  },
  {
   "cell_type": "code",
   "execution_count": 30,
   "metadata": {},
   "outputs": [
    {
     "data": {
      "image/png": "[encoded data removed]",
      "text/plain": [
       "<Figure size 640x480 with 1 Axes>"
      ]
     },
     "metadata": {},
     "output_type": "display_data"
    }
   ],
   "source": [
    "if evaluate == True:\n",
    "    figure()\n",
    "    eval_2: dict[str, list] = evaluate_approach(train_2, test_2, target='returning_user', metric=target_metric)\n",
    "    plot_multibar_chart(\n",
    "        [\"NB\", \"KNN\"], eval_2, title=f\"{file_tag} Hybrid Sampling Evaluation\", percentage=True\n",
    "    )\n",
    "    savefig(f\"images/{file_tag}_approach_2_evaluation.png\")\n",
    "    show()"
   ]
  },
  {
   "cell_type": "markdown",
   "metadata": {},
   "source": [
    "# Bal 3 - SMOTE"
   ]
  },
  {
   "cell_type": "markdown",
   "metadata": {},
   "source": [
    "## Bal 3 strategy application"
   ]
  },
  {
   "cell_type": "code",
   "execution_count": 31,
   "metadata": {},
   "outputs": [
    {
     "name": "stdout",
     "output_type": "stream",
     "text": [
      "Original class distribution:\n",
      "returning_user\n",
      "0.0    73.382183\n",
      "1.0    26.617817\n",
      "Name: proportion, dtype: float64\n",
      "\n",
      "New class distribution:\n",
      "returning_user\n",
      "0.0    50.0\n",
      "1.0    50.0\n",
      "Name: proportion, dtype: float64\n",
      "\n"
     ]
    }
   ],
   "source": [
    "\n",
    "def apply_strategy_3(df):\n",
    "\n",
    "    # Create a copy of the dataframe\n",
    "    df_copy = df.copy()\n",
    "\n",
    "    df_smote=apply_balanced_smote(df_copy,target=target,sort_by='day_of_year')\n",
    "\n",
    "\n",
    "    return df_smote\n",
    "\n",
    "\n",
    "train_3=apply_strategy_3(train)\n",
    "test_3=test.copy()\n"
   ]
  },
  {
   "cell_type": "markdown",
   "metadata": {},
   "source": [
    "## Bal 3 distribution"
   ]
  },
  {
   "cell_type": "code",
   "execution_count": 32,
   "metadata": {},
   "outputs": [
    {
     "data": {
      "image/png": "[encoded data removed]",
      "text/plain": [
       "<Figure size 600x400 with 1 Axes>"
      ]
     },
     "metadata": {},
     "output_type": "display_data"
    }
   ],
   "source": [
    "if evaluate==True:\n",
    "\n",
    "    from pandas import concat\n",
    "    from matplotlib.pyplot import figure, show\n",
    "    from dslabs_functions import plot_multibar_chart\n",
    "\n",
    "\n",
    "    # Distribution check\n",
    "\n",
    "\n",
    "    # Create a dictionary to store original class counts\n",
    "    values: dict[str, list[int]] = {\n",
    "        \"Original\": [\n",
    "            len(data[data[target] == 0]),  # Assuming 0 is the negative class\n",
    "            len(data[data[target] == 1]),  # Assuming 1 is the positive class\n",
    "        ]\n",
    "    }\n",
    "\n",
    "    values[\"Train\"] = [\n",
    "        len(train_3[train_3[target] == 0]),\n",
    "        len(train_3[train_3[target] == 1]),\n",
    "    ]\n",
    "    values[\"Test\"] = [\n",
    "        len(test_3[test_3[target] == 0]),\n",
    "        len(test_3[test_3[target] == 1]),\n",
    "    ]\n",
    "\n",
    "    # Visualize the distribution\n",
    "    figure(figsize=(6, 4))\n",
    "    plot_multibar_chart(labels, values, title=f\"{file_tag} Data distribution per dataset\")\n",
    "    show()"
   ]
  },
  {
   "cell_type": "markdown",
   "metadata": {},
   "source": [
    "## Bal 3 evaluate"
   ]
  },
  {
   "cell_type": "code",
   "execution_count": 33,
   "metadata": {},
   "outputs": [
    {
     "data": {
      "image/png": "[encoded data removed]",
      "text/plain": [
       "<Figure size 640x480 with 1 Axes>"
      ]
     },
     "metadata": {},
     "output_type": "display_data"
    }
   ],
   "source": [
    "if evaluate == True:\n",
    "    figure()\n",
    "    eval_3: dict[str, list] = evaluate_approach(train_3, test_3, target='returning_user', metric=target_metric)\n",
    "    plot_multibar_chart(\n",
    "        [\"NB\", \"KNN\"], eval_3, title=f\"{file_tag} SMOTE evaluation\", percentage=True\n",
    "    )\n",
    "    savefig(f\"images/{file_tag}_approach_3_evaluation.png\")\n",
    "    show()"
   ]
  },
  {
   "cell_type": "markdown",
   "metadata": {},
   "source": [
    "# Approach uplift comparison"
   ]
  },
  {
   "cell_type": "markdown",
   "metadata": {},
   "source": [
    "## uplift df"
   ]
  },
  {
   "cell_type": "code",
   "execution_count": 34,
   "metadata": {},
   "outputs": [
    {
     "data": {
      "text/html": [
       "<div>\n",
       "<style scoped>\n",
       "    .dataframe tbody tr th:only-of-type {\n",
       "        vertical-align: middle;\n",
       "    }\n",
       "\n",
       "    .dataframe tbody tr th {\n",
       "        vertical-align: top;\n",
       "    }\n",
       "\n",
       "    .dataframe thead tr th {\n",
       "        text-align: left;\n",
       "    }\n",
       "</style>\n",
       "<table border=\"1\" class=\"dataframe\">\n",
       "  <thead>\n",
       "    <tr>\n",
       "      <th></th>\n",
       "      <th colspan=\"6\" halign=\"left\">Undersampling</th>\n",
       "      <th colspan=\"6\" halign=\"left\">Hybrid</th>\n",
       "      <th colspan=\"6\" halign=\"left\">SMOTE</th>\n",
       "    </tr>\n",
       "    <tr>\n",
       "      <th></th>\n",
       "      <th>accuracy</th>\n",
       "      <th>recall</th>\n",
       "      <th>precision</th>\n",
       "      <th>auc</th>\n",
       "      <th>f1</th>\n",
       "      <th>f2</th>\n",
       "      <th>accuracy</th>\n",
       "      <th>recall</th>\n",
       "      <th>precision</th>\n",
       "      <th>auc</th>\n",
       "      <th>f1</th>\n",
       "      <th>f2</th>\n",
       "      <th>accuracy</th>\n",
       "      <th>recall</th>\n",
       "      <th>precision</th>\n",
       "      <th>auc</th>\n",
       "      <th>f1</th>\n",
       "      <th>f2</th>\n",
       "    </tr>\n",
       "  </thead>\n",
       "  <tbody>\n",
       "    <tr>\n",
       "      <th>Naive Bayes</th>\n",
       "      <td>0.367745</td>\n",
       "      <td>0.889417</td>\n",
       "      <td>0.263042</td>\n",
       "      <td>0.544876</td>\n",
       "      <td>0.406008</td>\n",
       "      <td>0.602482</td>\n",
       "      <td>0.247129</td>\n",
       "      <td>0.998150</td>\n",
       "      <td>0.243736</td>\n",
       "      <td>0.502134</td>\n",
       "      <td>0.391799</td>\n",
       "      <td>0.616506</td>\n",
       "      <td>0.379201</td>\n",
       "      <td>0.873145</td>\n",
       "      <td>0.264463</td>\n",
       "      <td>0.546917</td>\n",
       "      <td>0.405965</td>\n",
       "      <td>0.597915</td>\n",
       "    </tr>\n",
       "    <tr>\n",
       "      <th>KNN</th>\n",
       "      <td>0.541119</td>\n",
       "      <td>0.473817</td>\n",
       "      <td>0.258007</td>\n",
       "      <td>0.518267</td>\n",
       "      <td>0.334092</td>\n",
       "      <td>0.405912</td>\n",
       "      <td>0.329148</td>\n",
       "      <td>0.867558</td>\n",
       "      <td>0.248127</td>\n",
       "      <td>0.511962</td>\n",
       "      <td>0.385887</td>\n",
       "      <td>0.578647</td>\n",
       "      <td>0.563225</td>\n",
       "      <td>0.440480</td>\n",
       "      <td>0.262380</td>\n",
       "      <td>0.521547</td>\n",
       "      <td>0.328866</td>\n",
       "      <td>0.387830</td>\n",
       "    </tr>\n",
       "  </tbody>\n",
       "</table>\n",
       "</div>"
      ],
      "text/plain": [
       "            Undersampling                                                    \\\n",
       "                 accuracy    recall precision       auc        f1        f2   \n",
       "Naive Bayes      0.367745  0.889417  0.263042  0.544876  0.406008  0.602482   \n",
       "KNN              0.541119  0.473817  0.258007  0.518267  0.334092  0.405912   \n",
       "\n",
       "               Hybrid                                                    \\\n",
       "             accuracy    recall precision       auc        f1        f2   \n",
       "Naive Bayes  0.247129  0.998150  0.243736  0.502134  0.391799  0.616506   \n",
       "KNN          0.329148  0.867558  0.248127  0.511962  0.385887  0.578647   \n",
       "\n",
       "                SMOTE                                                    \n",
       "             accuracy    recall precision       auc        f1        f2  \n",
       "Naive Bayes  0.379201  0.873145  0.264463  0.546917  0.405965  0.597915  \n",
       "KNN          0.563225  0.440480  0.262380  0.521547  0.328866  0.387830  "
      ]
     },
     "execution_count": 34,
     "metadata": {},
     "output_type": "execute_result"
    }
   ],
   "source": [
    "algorithms = ['Naive Bayes', 'KNN']\n",
    "\n",
    "# Create DataFrames for eval_1 and eval_2\n",
    "df_eval_1 = pd.DataFrame(eval_1, index=algorithms)\n",
    "df_eval_2 = pd.DataFrame(eval_2, index=algorithms)\n",
    "df_eval_3 = pd.DataFrame(eval_3, index=algorithms)\n",
    "\n",
    "# Calculate uplift\n",
    "# df_uplift = df_eval_2 - df_eval_1\n",
    "\n",
    "# Combine everything into one DataFrame (without misalignment issues)\n",
    "comparison_df = pd.concat([df_eval_1, df_eval_2, df_eval_3], axis=1)\n",
    "comparison_df.columns = pd.MultiIndex.from_product([['Undersampling', 'Hybrid', 'SMOTE'], eval_1.keys()])\n",
    "\n",
    "\n",
    "\n",
    "# Display the DataFrame\n",
    "comparison_df"
   ]
  },
  {
   "cell_type": "markdown",
   "metadata": {},
   "source": [
    "# Analysis\n",
    "\n",
    "- Huge improvements in recall and f2 with hybrid approach. 100% recall on the same approach\n",
    "- SMOTE offers a slight better precision but with much worse recall, f2. however 100% recall makes it lose precision and ability to predict negative class. so SMOTE will be the choice"
   ]
  },
  {
   "cell_type": "markdown",
   "metadata": {},
   "source": [
    "# unbalanced save to csv"
   ]
  },
  {
   "cell_type": "code",
   "execution_count": 35,
   "metadata": {},
   "outputs": [
    {
     "name": "stdout",
     "output_type": "stream",
     "text": [
      "Index(['event_name', 'device_category', 'device_mobile_model_name',\n",
      "       'device_operating_system', 'device_operating_system_version',\n",
      "       'device_language', 'device_web_info_browser',\n",
      "       'device_web_info_browser_version', 'geo_region', 'geo_city',\n",
      "       'traffic_source_medium', 'traffic_source_source',\n",
      "       'engagement_time_msec', 'month', 'day_of_year', 'week_number',\n",
      "       'page_path_level_1', 'page_path_level_2', 'page_path_level_3',\n",
      "       'path_length', 'time_of_day_sin', 'time_of_day_cos', 'local_hour_sin',\n",
      "       'local_hour_cos', 'local_minute_sin', 'local_minute_cos',\n",
      "       'hour_minute_fraction_sin', 'hour_minute_fraction_cos', 'day_sin',\n",
      "       'day_cos', 'day_of_week_nr_sin', 'day_of_week_nr_cos',\n",
      "       'week_of_month_nr_sin', 'week_of_month_nr_cos', 'geo_country',\n",
      "       'session_engaged', 'year', 'quarter', 'is_weekend', 'domain',\n",
      "       'returning_user'],\n",
      "      dtype='object')\n"
     ]
    }
   ],
   "source": [
    "if test_data==False:\n",
    "    \n",
    "    # do not balance original dataset      \n",
    "    data_save=data.copy()\n",
    "               \n",
    "    data_save.to_csv(f\"data/df_merch_7_bal_input.csv\", index=False)\n",
    "\n",
    "    # sampled versions to keep consistency    \n",
    "    sample=0.05\n",
    "\n",
    "    data_sample = data.groupby('day_of_year').apply(lambda x: sample_per_day(x, sample)).reset_index(drop=True)\n",
    "    data_sample.to_csv(f\"data/df_merch_7_bal_input_sample.csv\", index=False)\n",
    "\n",
    "    \n",
    "    print(data_save.columns)\n"
   ]
  },
  {
   "cell_type": "markdown",
   "metadata": {},
   "source": [
    "## train test and sample csv"
   ]
  },
  {
   "cell_type": "code",
   "execution_count": 36,
   "metadata": {},
   "outputs": [
    {
     "name": "stdout",
     "output_type": "stream",
     "text": [
      "Original class distribution:\n",
      "returning_user\n",
      "0.0    73.382183\n",
      "1.0    26.617817\n",
      "Name: proportion, dtype: float64\n",
      "\n",
      "New class distribution:\n",
      "returning_user\n",
      "0.0    50.0\n",
      "1.0    50.0\n",
      "Name: proportion, dtype: float64\n",
      "\n",
      "Index(['event_name', 'device_category', 'device_mobile_model_name',\n",
      "       'device_operating_system', 'device_operating_system_version',\n",
      "       'device_language', 'device_web_info_browser',\n",
      "       'device_web_info_browser_version', 'geo_region', 'geo_city',\n",
      "       'traffic_source_medium', 'traffic_source_source',\n",
      "       'engagement_time_msec', 'month', 'day_of_year', 'week_number',\n",
      "       'page_path_level_1', 'page_path_level_2', 'page_path_level_3',\n",
      "       'path_length', 'time_of_day_sin', 'time_of_day_cos', 'local_hour_sin',\n",
      "       'local_hour_cos', 'local_minute_sin', 'local_minute_cos',\n",
      "       'hour_minute_fraction_sin', 'hour_minute_fraction_cos', 'day_sin',\n",
      "       'day_cos', 'day_of_week_nr_sin', 'day_of_week_nr_cos',\n",
      "       'week_of_month_nr_sin', 'week_of_month_nr_cos', 'geo_country',\n",
      "       'session_engaged', 'year', 'quarter', 'is_weekend', 'domain',\n",
      "       'returning_user'],\n",
      "      dtype='object')\n",
      "Index(['event_name', 'device_category', 'device_mobile_model_name',\n",
      "       'device_operating_system', 'device_operating_system_version',\n",
      "       'device_language', 'device_web_info_browser',\n",
      "       'device_web_info_browser_version', 'geo_region', 'geo_city',\n",
      "       'traffic_source_medium', 'traffic_source_source',\n",
      "       'engagement_time_msec', 'month', 'day_of_year', 'week_number',\n",
      "       'page_path_level_1', 'page_path_level_2', 'page_path_level_3',\n",
      "       'path_length', 'time_of_day_sin', 'time_of_day_cos', 'local_hour_sin',\n",
      "       'local_hour_cos', 'local_minute_sin', 'local_minute_cos',\n",
      "       'hour_minute_fraction_sin', 'hour_minute_fraction_cos', 'day_sin',\n",
      "       'day_cos', 'day_of_week_nr_sin', 'day_of_week_nr_cos',\n",
      "       'week_of_month_nr_sin', 'week_of_month_nr_cos', 'geo_country',\n",
      "       'session_engaged', 'year', 'quarter', 'is_weekend', 'domain',\n",
      "       'returning_user'],\n",
      "      dtype='object')\n",
      "Original class distribution:\n",
      "returning_user\n",
      "0.0    50.641799\n",
      "1.0    49.358201\n",
      "Name: proportion, dtype: float64\n",
      "\n",
      "New class distribution:\n",
      "returning_user\n",
      "0.0    50.0\n",
      "1.0    50.0\n",
      "Name: proportion, dtype: float64\n",
      "\n",
      "(5452, 41)\n"
     ]
    }
   ],
   "source": [
    "if test_data==False:\n",
    "   \n",
    "    train_save=apply_strategy_3(train)         \n",
    "    train_save.to_csv(f\"data/df_merch_7_bal_input_train.csv\", index=False)\n",
    " \n",
    "    print(train.columns)\n",
    "\n",
    "    test.to_csv(f\"data/df_merch_7_bal_input_test.csv\", index=False)\n",
    "    print(test.columns)\n",
    "\n",
    "    \n",
    "    # sampled versions to keep consistency    \n",
    "    sample=0.05\n",
    "    \n",
    "    train_save_sample = train_save.groupby('day_of_year').apply(lambda x: sample_per_day(x, sample)).reset_index(drop=True)\n",
    "    train_save_sample=apply_strategy_3(train_save_sample)         \n",
    "    train_save_sample.to_csv(f\"data/df_merch_7_bal_input_train_sample.csv\", index=False)\n",
    "\n",
    "        \n",
    "    test_save_sample = test.groupby('day_of_year').apply(lambda x: sample_per_day(x, sample)).reset_index(drop=True)\n",
    "    test_save_sample.to_csv(f\"data/df_merch_7_bal_input_test_sample.csv\", index=False)\n",
    "    \n",
    "    \n",
    "    print(test_save_sample.shape)"
   ]
  }
 ],
 "metadata": {
  "kernelspec": {
   "display_name": "base",
   "language": "python",
   "name": "python3"
  },
  "language_info": {
   "codemirror_mode": {
    "name": "ipython",
    "version": 3
   },
   "file_extension": ".py",
   "mimetype": "text/x-python",
   "name": "python",
   "nbconvert_exporter": "python",
   "pygments_lexer": "ipython3",
   "version": "3.12.4"
  }
 },
 "nbformat": 4,
 "nbformat_minor": 2
}
