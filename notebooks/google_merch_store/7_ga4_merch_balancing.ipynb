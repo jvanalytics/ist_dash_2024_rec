{
 "cells": [
  {
   "cell_type": "markdown",
   "metadata": {},
   "source": [
    "# File and libraries"
   ]
  },
  {
   "cell_type": "code",
   "execution_count": 1,
   "metadata": {},
   "outputs": [],
   "source": [
    "import pandas as pd\n",
    "import numpy as np\n",
    "\n",
    "\n",
    "filepath=r'data/df_merch_6_feat_eng_input'\n",
    "test_filepath= f\"{filepath}_test.csv\"\n",
    "train_filepath= f\"{filepath}_train.csv\"\n",
    "\n",
    "file_tag = \"df_merch_balancing_input\""
   ]
  },
  {
   "cell_type": "markdown",
   "metadata": {},
   "source": [
    "# DSLabs functions"
   ]
  },
  {
   "cell_type": "code",
   "execution_count": 2,
   "metadata": {},
   "outputs": [],
   "source": [
    "%run \"scripts/dslabs_functions.py\"\n"
   ]
  },
  {
   "cell_type": "markdown",
   "metadata": {},
   "source": [
    "# Data functions"
   ]
  },
  {
   "cell_type": "code",
   "execution_count": 3,
   "metadata": {},
   "outputs": [
    {
     "name": "stdout",
     "output_type": "stream",
     "text": [
      "data_functions lodaded\n"
     ]
    }
   ],
   "source": [
    "%run \"scripts/data_functions.py\"\n"
   ]
  },
  {
   "cell_type": "markdown",
   "metadata": {},
   "source": [
    "# Load"
   ]
  },
  {
   "cell_type": "code",
   "execution_count": 4,
   "metadata": {},
   "outputs": [
    {
     "name": "stdout",
     "output_type": "stream",
     "text": [
      "<class 'pandas.core.frame.DataFrame'>\n",
      "Index: 743351 entries, 0 to 743350\n",
      "Data columns (total 40 columns):\n",
      " #   Column                           Non-Null Count   Dtype  \n",
      "---  ------                           --------------   -----  \n",
      " 0   device_category                  743351 non-null  float64\n",
      " 1   device_mobile_model_name         743351 non-null  float64\n",
      " 2   device_operating_system          743351 non-null  float64\n",
      " 3   device_operating_system_version  743351 non-null  float64\n",
      " 4   device_language                  743351 non-null  float64\n",
      " 5   device_web_info_browser          743351 non-null  float64\n",
      " 6   device_web_info_browser_version  743351 non-null  float64\n",
      " 7   geo_region                       743351 non-null  float64\n",
      " 8   geo_city                         743351 non-null  float64\n",
      " 9   traffic_source_medium            743351 non-null  float64\n",
      " 10  traffic_source_source            743351 non-null  float64\n",
      " 11  engagement_time_msec             743351 non-null  float64\n",
      " 12  month                            743351 non-null  float64\n",
      " 13  day_of_year                      743351 non-null  float64\n",
      " 14  week_number                      743351 non-null  float64\n",
      " 15  page_path_level_1                743351 non-null  float64\n",
      " 16  page_path_level_2                743351 non-null  float64\n",
      " 17  page_path_level_3                743351 non-null  float64\n",
      " 18  path_length                      743351 non-null  float64\n",
      " 19  time_of_day_sin                  743351 non-null  float64\n",
      " 20  time_of_day_cos                  743351 non-null  float64\n",
      " 21  local_hour_sin                   743351 non-null  float64\n",
      " 22  local_hour_cos                   743351 non-null  float64\n",
      " 23  local_minute_sin                 743351 non-null  float64\n",
      " 24  local_minute_cos                 743351 non-null  float64\n",
      " 25  hour_minute_fraction_sin         743351 non-null  float64\n",
      " 26  hour_minute_fraction_cos         743351 non-null  float64\n",
      " 27  day_sin                          743351 non-null  float64\n",
      " 28  day_cos                          743351 non-null  float64\n",
      " 29  day_of_week_nr_sin               743351 non-null  float64\n",
      " 30  day_of_week_nr_cos               743351 non-null  float64\n",
      " 31  week_of_month_nr_sin             743351 non-null  float64\n",
      " 32  week_of_month_nr_cos             743351 non-null  float64\n",
      " 33  geo_country                      743351 non-null  float64\n",
      " 34  session_engaged                  743351 non-null  float64\n",
      " 35  year                             743351 non-null  float64\n",
      " 36  quarter                          743351 non-null  float64\n",
      " 37  is_weekend                       743351 non-null  float64\n",
      " 38  domain                           743351 non-null  float64\n",
      " 39  returning_user                   743351 non-null  float64\n",
      "dtypes: float64(40)\n",
      "memory usage: 232.5 MB\n"
     ]
    }
   ],
   "source": [
    "\n",
    "test_data=True\n",
    "# test_data=False\n",
    "\n",
    "# use to evaluate strategies. otherwise False to just transform data \n",
    "evaluate=True\n",
    "# evaluate=False\n",
    "\n",
    "\n",
    "if test_data==True:\n",
    "\n",
    "    data=pd.read_csv(f\"{filepath}.csv\")\n",
    "    \n",
    "    test= pd.read_csv(test_filepath)\n",
    "    train= pd.read_csv(train_filepath)\n",
    "\n",
    "    # sample\n",
    "    data=data.sample(frac=0.05, replace=False)\n",
    "    test=test.sample(frac=0.05, replace=False)\n",
    "    train=train.sample(frac=0.05, replace=False)\n",
    "    \n",
    "    \n",
    "else:\n",
    "    data=pd.read_csv(f\"{filepath}.csv\")  \n",
    "    test= pd.read_csv(test_filepath)\n",
    "    train= pd.read_csv(train_filepath)\n",
    "\n",
    "\n",
    "\n",
    " \n",
    "target='returning_user'\n",
    "vars: list[str] = data.columns.to_list()\n",
    "labels: list = list(data[target].unique())\n",
    "\n",
    "\n",
    "# ensure sorting by day_of_year for correct splitting \n",
    "# \"When in the presence of temporal data, data partition shall use older data to train and newer to test, in order to not use future data to classify past data. In any other case, partition shall be random.\"\n",
    "data.sort_values(by='day_of_year', inplace=True)\n",
    "test.sort_values(by='day_of_year', inplace=True)\n",
    "train.sort_values(by='day_of_year', inplace=True)\n",
    "\n",
    "\n",
    "\n",
    "data.info()"
   ]
  },
  {
   "cell_type": "code",
   "execution_count": 5,
   "metadata": {},
   "outputs": [
    {
     "data": {
      "text/plain": [
       "Index(['device_category', 'device_mobile_model_name',\n",
       "       'device_operating_system', 'device_operating_system_version',\n",
       "       'device_language', 'device_web_info_browser',\n",
       "       'device_web_info_browser_version', 'geo_region', 'geo_city',\n",
       "       'traffic_source_medium', 'traffic_source_source',\n",
       "       'engagement_time_msec', 'month', 'day_of_year', 'week_number',\n",
       "       'page_path_level_1', 'page_path_level_2', 'page_path_level_3',\n",
       "       'path_length', 'time_of_day_sin', 'time_of_day_cos', 'local_hour_sin',\n",
       "       'local_hour_cos', 'local_minute_sin', 'local_minute_cos',\n",
       "       'hour_minute_fraction_sin', 'hour_minute_fraction_cos', 'day_sin',\n",
       "       'day_cos', 'day_of_week_nr_sin', 'day_of_week_nr_cos',\n",
       "       'week_of_month_nr_sin', 'week_of_month_nr_cos', 'geo_country',\n",
       "       'session_engaged', 'year', 'quarter', 'is_weekend', 'domain',\n",
       "       'returning_user'],\n",
       "      dtype='object')"
      ]
     },
     "execution_count": 5,
     "metadata": {},
     "output_type": "execute_result"
    }
   ],
   "source": [
    "test.columns"
   ]
  },
  {
   "cell_type": "markdown",
   "metadata": {},
   "source": [
    "# Balancing Analysis"
   ]
  },
  {
   "cell_type": "code",
   "execution_count": 6,
   "metadata": {},
   "outputs": [
    {
     "name": "stdout",
     "output_type": "stream",
     "text": [
      "Minority class= 1.0 : 191899\n",
      "Majority class= 0.0 : 551452\n",
      "Original class distribution:\n",
      "returning_user\n",
      "0.0    74.184605\n",
      "1.0    25.815395\n",
      "Name: proportion, dtype: float64\n",
      "\n"
     ]
    },
    {
     "data": {
      "image/png": "[encoded data removed]",
      "text/plain": [
       "<Figure size 640x480 with 1 Axes>"
      ]
     },
     "metadata": {},
     "output_type": "display_data"
    }
   ],
   "source": [
    "from pandas import read_csv, concat, DataFrame, Series\n",
    "from matplotlib.pyplot import figure, show\n",
    "from dslabs_functions import plot_bar_chart\n",
    "\n",
    "\n",
    "target_count: Series = data[target].value_counts()\n",
    "positive_class = target_count.idxmin()\n",
    "negative_class = target_count.idxmax()\n",
    "\n",
    "print(\"Minority class=\", positive_class, \":\", target_count[positive_class])\n",
    "print(\"Majority class=\", negative_class, \":\", target_count[negative_class])\n",
    "values: dict[str, list] = {\n",
    "    \"Original\": [target_count[positive_class], target_count[negative_class]]\n",
    "}\n",
    "\n",
    "print(f\"Original class distribution:\\n{data[target].value_counts(normalize=True) * 100}\\n\")\n",
    "\n",
    "\n",
    "figure()\n",
    "plot_bar_chart(\n",
    "    target_count.index.to_list(), target_count.to_list(), title=\"Class balance\"\n",
    ")\n",
    "show()"
   ]
  },
  {
   "cell_type": "markdown",
   "metadata": {},
   "source": [
    "# Balance 1 - Undersampling"
   ]
  },
  {
   "cell_type": "markdown",
   "metadata": {},
   "source": [
    "## Bal 1 strategy Application"
   ]
  },
  {
   "cell_type": "code",
   "execution_count": 7,
   "metadata": {},
   "outputs": [
    {
     "name": "stdout",
     "output_type": "stream",
     "text": [
      "Original class distribution:\n",
      "returning_user\n",
      "0.0    73.421288\n",
      "1.0    26.578712\n",
      "Name: proportion, dtype: float64\n",
      "\n",
      "Balanced class distribution:\n",
      "returning_user\n",
      "1.0    50.0\n",
      "0.0    50.0\n",
      "Name: proportion, dtype: float64\n",
      "\n"
     ]
    }
   ],
   "source": [
    "from pandas import DataFrame, Series\n",
    "from sklearn.preprocessing import StandardScaler\n",
    "\n",
    "\n",
    "\n",
    "def apply_strategy_1(df: DataFrame) -> DataFrame:\n",
    "\n",
    "    df_copy=df.copy()\n",
    "\n",
    "    # this script is available in data_functions originally from DSLabs site in Outlier chapter\n",
    "\n",
    "    # Ensure positive_class and negative_class are defined and match the target values\n",
    "    positive_class = 1  # Or whatever your positive class value is\n",
    "    negative_class = 0  # Or whatever your negative class value is\n",
    "\n",
    "    # Separate the majority and minority classes\n",
    "    df_majority = df_copy[df_copy[target] == negative_class]\n",
    "    df_minority = df_copy[df_copy[target] == positive_class]\n",
    "\n",
    "    # Check the class distribution\n",
    "    print(f\"Original class distribution:\\n{df_copy[target].value_counts(normalize=True) * 100}\\n\")\n",
    "\n",
    "    # Downsample the majority class to match the size of the minority class\n",
    "    df_majority_downsampled = df_majority.sample(n=len(df_minority), random_state=42)\n",
    "\n",
    "    # Combine the downsampled majority class with the minority class\n",
    "    df_balanced = pd.concat([df_majority_downsampled, df_minority])\n",
    "\n",
    "    # sort  the combined dataset\n",
    "    df_balanced.sort_values(by='day_of_year', inplace=True)\n",
    "    \n",
    "\n",
    "    # Check the new class distribution to verify the balance\n",
    "    print(f\"Balanced class distribution:\\n{df_balanced[target].value_counts(normalize=True) * 100}\\n\")\n",
    "\n",
    "    \n",
    "    return df_balanced\n",
    "\n",
    "\n",
    "train_1=apply_strategy_1(train)\n",
    "test_1=test.copy()\n",
    "\n"
   ]
  },
  {
   "cell_type": "markdown",
   "metadata": {},
   "source": [
    "## Bal 1 train/test split "
   ]
  },
  {
   "cell_type": "code",
   "execution_count": 8,
   "metadata": {},
   "outputs": [
    {
     "data": {
      "image/png": "[encoded data removed]",
      "text/plain": [
       "<Figure size 600x400 with 1 Axes>"
      ]
     },
     "metadata": {},
     "output_type": "display_data"
    }
   ],
   "source": [
    "if evaluate==True:\n",
    "    from pandas import concat\n",
    "    from matplotlib.pyplot import figure, show\n",
    "    from dslabs_functions import plot_multibar_chart\n",
    "\n",
    "\n",
    "    # Distribution check\n",
    "\n",
    "\n",
    "    # Create a dictionary to store original class counts\n",
    "    values: dict[str, list[int]] = {\n",
    "        \"Original\": [\n",
    "            len(data[data[target] == 0]),  # Assuming 0 is the negative class\n",
    "            len(data[data[target] == 1]),  # Assuming 1 is the positive class\n",
    "        ]\n",
    "    }\n",
    "\n",
    "    values[\"Train\"] = [\n",
    "        len(train_1[train_1[target] == 0]),\n",
    "        len(train_1[train_1[target] == 1]),\n",
    "    ]\n",
    "    values[\"Test\"] = [\n",
    "        len(test_1[test_1[target] == 0]),\n",
    "        len(test_1[test_1[target] == 1]),\n",
    "    ]\n",
    "\n",
    "    # Visualize the distribution\n",
    "    figure(figsize=(6, 4))\n",
    "    plot_multibar_chart(labels, values, title=\"Data distribution per dataset\")\n",
    "    show()"
   ]
  },
  {
   "cell_type": "markdown",
   "metadata": {},
   "source": [
    "## Bal 1 evaluate"
   ]
  },
  {
   "cell_type": "code",
   "execution_count": 9,
   "metadata": {},
   "outputs": [
    {
     "data": {
      "image/png": "[encoded data removed]",
      "text/plain": [
       "<Figure size 640x480 with 1 Axes>"
      ]
     },
     "metadata": {},
     "output_type": "display_data"
    }
   ],
   "source": [
    "# evaluate_approach is in data_functions originally from DSLABS/ Data Prep / Methodology\n",
    "# removed Multinomial from run_NB function because dataset has negative values\n",
    "\n",
    "if evaluate==True:\n",
    "    figure()\n",
    "    eval_1: dict[str, list] = evaluate_approach(train_1, test_1, target='returning_user', metric=\"recall\")\n",
    "    plot_multibar_chart(\n",
    "        [\"NB\", \"KNN\"], eval_1, title=f\"{file_tag}_approach_1_evaluation\", percentage=True\n",
    "    )\n",
    "    savefig(f\"images/{file_tag}_approach_1_evaluation.png\")\n",
    "    show()"
   ]
  },
  {
   "cell_type": "markdown",
   "metadata": {},
   "source": [
    "# Bal 2 - Hybrid Sampling\n",
    "\n",
    "Reduce from negative class from 75 to 60% and then oversample the positives into 50/50\n"
   ]
  },
  {
   "cell_type": "markdown",
   "metadata": {},
   "source": [
    "## Bal 2 strategy aplication"
   ]
  },
  {
   "cell_type": "code",
   "execution_count": 11,
   "metadata": {},
   "outputs": [
    {
     "name": "stdout",
     "output_type": "stream",
     "text": [
      "Original class distribution:\n",
      "returning_user\n",
      "0.0    73.421288\n",
      "1.0    26.578712\n",
      "Name: proportion, dtype: float64\n",
      "\n",
      "Hybrid class distribution:\n",
      "returning_user\n",
      "0.0    50.0\n",
      "1.0    50.0\n",
      "Name: proportion, dtype: float64\n",
      "\n"
     ]
    }
   ],
   "source": [
    "\n",
    "\n",
    "def apply_strategy_2(df):\n",
    "\n",
    "     # Create a copy of the dataframe\n",
    "    df_copy = df.copy()\n",
    "\n",
    "    # Define positive and negative classes\n",
    "    positive_class = 1  # Modify as per your positive class value\n",
    "    negative_class = 0  # Modify as per your negative class value\n",
    "\n",
    "    # Separate the majority and minority classes\n",
    "    df_majority = df_copy[df_copy[target] == negative_class]\n",
    "    df_minority = df_copy[df_copy[target] == positive_class]\n",
    "\n",
    "    # Check the current class distribution\n",
    "    print(f\"Original class distribution:\\n{df_copy[target].value_counts(normalize=True) * 100}\\n\")\n",
    "\n",
    "    # Sort by 'day_of_year' (or another time-related feature) to ensure the data is split based on time\n",
    "    df_majority.sort_values(by='day_of_year', inplace=True)\n",
    "    df_minority.sort_values(by='day_of_year', inplace=True)\n",
    "\n",
    "    # Determine the number of majority samples for a the desired split\n",
    "    total_samples = len(df_copy)\n",
    "    desired_majority_size = int(0.6 * total_samples)\n",
    "\n",
    "    # Keep the older data for majority class (downsampling based on time, not randomly)\n",
    "    df_majority_downsampled = df_majority.head(desired_majority_size)\n",
    "\n",
    "    # Upsample the minority class to match the new majority size for a 50/50 split\n",
    "    upsample_size = len(df_majority_downsampled)\n",
    "    df_minority_upsampled = df_minority.sample(n=upsample_size, replace=True)\n",
    "\n",
    "    # Combine the downsampled majority and upsampled minority classes\n",
    "    df_balanced = pd.concat([df_majority_downsampled, df_minority_upsampled])\n",
    "\n",
    "    # Sort the dataset by 'day_of_year' again if needed\n",
    "    df_balanced.sort_values(by='day_of_year', inplace=True)\n",
    "\n",
    "    # Check the new class distribution\n",
    "    print(f\"Hybrid class distribution:\\n{df_balanced[target].value_counts(normalize=True) * 100}\\n\")\n",
    "\n",
    "    return df_balanced\n",
    "\n",
    "\n",
    "train_2=apply_strategy_2(train)\n",
    "test_2=test.copy()\n"
   ]
  },
  {
   "cell_type": "code",
   "execution_count": 12,
   "metadata": {},
   "outputs": [],
   "source": [
    "# from numpy import ndarray\n",
    "# from pandas import Series\n",
    "# from imblearn.over_sampling import SMOTE\n",
    "\n",
    "\n",
    "# SMOTE DRAFT   \n",
    "# \n",
    "# # Copy the DataFrame\n",
    "#     df_copy = df.copy()\n",
    "\n",
    "#     # Define random state for reproducibility\n",
    "#     RANDOM_STATE = 42\n",
    "\n",
    "#     # Separate the features (X) and target (y)\n",
    "#     y = df_copy.pop(target).values\n",
    "#     X: ndarray = df_copy.values\n",
    "\n",
    "#     # Initialize SMOTE\n",
    "#     smote = SMOTE(sampling_strategy=\"minority\", random_state=RANDOM_STATE)\n",
    "\n",
    "#     # Fit and resample\n",
    "#     smote_X, smote_y = smote.fit_resample(X, y)\n",
    "\n",
    "#     # Reconstruct the DataFrame from the SMOTE output\n",
    "#     df_smote = concat([DataFrame(smote_X, columns=df_copy.columns), DataFrame(smote_y, columns=[target])], axis=1)\n",
    "\n",
    "\n",
    "#     # Print class distribution and shape\n",
    "#     smote_target_count: Series = Series(smote_y).value_counts()\n",
    "#     print(\"Minority class=\", smote_target_count.index[1], \":\", smote_target_count[1])\n",
    "#     print(\"Majority class=\", smote_target_count.index[0], \":\", smote_target_count[0])\n",
    "#     print(\n",
    "#         \"Proportion:\",\n",
    "#         round(smote_target_count[1] / smote_target_count[0], 2),\n",
    "#         \": 1\",\n",
    "#     )\n",
    "#     print(\"Shape of the new DataFrame:\", df_smote.shape)\n",
    "\n",
    "#     print(\"Class counts after SMOTE:\")\n",
    "#     print(df_smote[target].value_counts())\n",
    "\n",
    "#     return df_smote"
   ]
  },
  {
   "cell_type": "markdown",
   "metadata": {},
   "source": [
    "## Bal 2 train/test split "
   ]
  },
  {
   "cell_type": "code",
   "execution_count": 13,
   "metadata": {},
   "outputs": [
    {
     "data": {
      "image/png": "[encoded data removed]",
      "text/plain": [
       "<Figure size 600x400 with 1 Axes>"
      ]
     },
     "metadata": {},
     "output_type": "display_data"
    }
   ],
   "source": [
    "if evaluate==True:\n",
    "\n",
    "    from pandas import concat\n",
    "    from matplotlib.pyplot import figure, show\n",
    "    from dslabs_functions import plot_multibar_chart\n",
    "\n",
    "\n",
    "    # Distribution check\n",
    "\n",
    "\n",
    "    # Create a dictionary to store original class counts\n",
    "    values: dict[str, list[int]] = {\n",
    "        \"Original\": [\n",
    "            len(data[data[target] == 0]),  # Assuming 0 is the negative class\n",
    "            len(data[data[target] == 1]),  # Assuming 1 is the positive class\n",
    "        ]\n",
    "    }\n",
    "\n",
    "    values[\"Train\"] = [\n",
    "        len(train_2[train_2[target] == 0]),\n",
    "        len(train_2[train_2[target] == 1]),\n",
    "    ]\n",
    "    values[\"Test\"] = [\n",
    "        len(test_2[test_2[target] == 0]),\n",
    "        len(test_2[test_2[target] == 1]),\n",
    "    ]\n",
    "\n",
    "    # Visualize the distribution\n",
    "    figure(figsize=(6, 4))\n",
    "    plot_multibar_chart(labels, values, title=\"Data distribution per dataset\")\n",
    "    show()"
   ]
  },
  {
   "cell_type": "markdown",
   "metadata": {},
   "source": [
    "## Bal 2 evaluate"
   ]
  },
  {
   "cell_type": "code",
   "execution_count": 14,
   "metadata": {},
   "outputs": [
    {
     "data": {
      "image/png": "[encoded data removed]",
      "text/plain": [
       "<Figure size 640x480 with 1 Axes>"
      ]
     },
     "metadata": {},
     "output_type": "display_data"
    }
   ],
   "source": [
    "if evaluate == True:\n",
    "    figure()\n",
    "    eval_2: dict[str, list] = evaluate_approach(train_2, test_2, target='returning_user', metric=\"recall\")\n",
    "    plot_multibar_chart(\n",
    "        [\"NB\", \"KNN\"], eval_2, title=f\"{file_tag}_approach_2_evaluation\", percentage=True\n",
    "    )\n",
    "    savefig(f\"images/{file_tag}_approach_2_evaluation.png\")\n",
    "    show()"
   ]
  },
  {
   "cell_type": "markdown",
   "metadata": {},
   "source": [
    "# Approach uplift comparison"
   ]
  },
  {
   "cell_type": "markdown",
   "metadata": {},
   "source": [
    "## uplift df"
   ]
  },
  {
   "cell_type": "code",
   "execution_count": 15,
   "metadata": {},
   "outputs": [
    {
     "data": {
      "text/html": [
       "<div>\n",
       "<style scoped>\n",
       "    .dataframe tbody tr th:only-of-type {\n",
       "        vertical-align: middle;\n",
       "    }\n",
       "\n",
       "    .dataframe tbody tr th {\n",
       "        vertical-align: top;\n",
       "    }\n",
       "\n",
       "    .dataframe thead tr th {\n",
       "        text-align: left;\n",
       "    }\n",
       "</style>\n",
       "<table border=\"1\" class=\"dataframe\">\n",
       "  <thead>\n",
       "    <tr>\n",
       "      <th></th>\n",
       "      <th colspan=\"5\" halign=\"left\">Approach 1</th>\n",
       "      <th colspan=\"5\" halign=\"left\">Approach 2</th>\n",
       "      <th colspan=\"5\" halign=\"left\">Uplift</th>\n",
       "    </tr>\n",
       "    <tr>\n",
       "      <th></th>\n",
       "      <th>accuracy</th>\n",
       "      <th>recall</th>\n",
       "      <th>precision</th>\n",
       "      <th>auc</th>\n",
       "      <th>f1</th>\n",
       "      <th>accuracy</th>\n",
       "      <th>recall</th>\n",
       "      <th>precision</th>\n",
       "      <th>auc</th>\n",
       "      <th>f1</th>\n",
       "      <th>accuracy</th>\n",
       "      <th>recall</th>\n",
       "      <th>precision</th>\n",
       "      <th>auc</th>\n",
       "      <th>f1</th>\n",
       "    </tr>\n",
       "  </thead>\n",
       "  <tbody>\n",
       "    <tr>\n",
       "      <th>Naive Bayes</th>\n",
       "      <td>0.403464</td>\n",
       "      <td>0.872085</td>\n",
       "      <td>0.270315</td>\n",
       "      <td>0.563643</td>\n",
       "      <td>0.412706</td>\n",
       "      <td>0.287409</td>\n",
       "      <td>0.977630</td>\n",
       "      <td>0.249386</td>\n",
       "      <td>0.523332</td>\n",
       "      <td>0.397399</td>\n",
       "      <td>-0.116055</td>\n",
       "      <td>0.105545</td>\n",
       "      <td>-0.020929</td>\n",
       "      <td>-0.040310</td>\n",
       "      <td>-0.015307</td>\n",
       "    </tr>\n",
       "    <tr>\n",
       "      <th>KNN</th>\n",
       "      <td>0.574473</td>\n",
       "      <td>0.441714</td>\n",
       "      <td>0.267071</td>\n",
       "      <td>0.529095</td>\n",
       "      <td>0.332876</td>\n",
       "      <td>0.457311</td>\n",
       "      <td>0.690362</td>\n",
       "      <td>0.261630</td>\n",
       "      <td>0.536969</td>\n",
       "      <td>0.379455</td>\n",
       "      <td>-0.117163</td>\n",
       "      <td>0.248647</td>\n",
       "      <td>-0.005441</td>\n",
       "      <td>0.007874</td>\n",
       "      <td>0.046579</td>\n",
       "    </tr>\n",
       "  </tbody>\n",
       "</table>\n",
       "</div>"
      ],
      "text/plain": [
       "            Approach 1                                         Approach 2  \\\n",
       "              accuracy    recall precision       auc        f1   accuracy   \n",
       "Naive Bayes   0.403464  0.872085  0.270315  0.563643  0.412706   0.287409   \n",
       "KNN           0.574473  0.441714  0.267071  0.529095  0.332876   0.457311   \n",
       "\n",
       "                                                       Uplift            \\\n",
       "               recall precision       auc        f1  accuracy    recall   \n",
       "Naive Bayes  0.977630  0.249386  0.523332  0.397399 -0.116055  0.105545   \n",
       "KNN          0.690362  0.261630  0.536969  0.379455 -0.117163  0.248647   \n",
       "\n",
       "                                           \n",
       "            precision       auc        f1  \n",
       "Naive Bayes -0.020929 -0.040310 -0.015307  \n",
       "KNN         -0.005441  0.007874  0.046579  "
      ]
     },
     "execution_count": 15,
     "metadata": {},
     "output_type": "execute_result"
    }
   ],
   "source": [
    "algorithms = ['Naive Bayes', 'KNN']\n",
    "\n",
    "# Create DataFrames for eval_1 and eval_2\n",
    "df_eval_1 = pd.DataFrame(eval_1, index=algorithms)\n",
    "df_eval_2 = pd.DataFrame(eval_2, index=algorithms)\n",
    "\n",
    "# Calculate uplift\n",
    "df_uplift = df_eval_2 - df_eval_1\n",
    "\n",
    "\n",
    "\n",
    "# Combine everything into one DataFrame (without misalignment issues)\n",
    "comparison_df = pd.concat([df_eval_1, df_eval_2, df_uplift], axis=1)\n",
    "comparison_df.columns = pd.MultiIndex.from_product([['Approach 1', 'Approach 2', 'Uplift'], eval_1.keys()])\n",
    "\n",
    "\n",
    "\n",
    "# Display the DataFrame\n",
    "comparison_df"
   ]
  },
  {
   "cell_type": "markdown",
   "metadata": {},
   "source": [
    "# Analysis\n",
    "\n"
   ]
  },
  {
   "cell_type": "markdown",
   "metadata": {},
   "source": [
    "# save to csv"
   ]
  },
  {
   "cell_type": "code",
   "execution_count": 16,
   "metadata": {},
   "outputs": [
    {
     "name": "stdout",
     "output_type": "stream",
     "text": [
      "Original class distribution:\n",
      "returning_user\n",
      "0.0    74.184605\n",
      "1.0    25.815395\n",
      "Name: proportion, dtype: float64\n",
      "\n",
      "Balanced class distribution:\n",
      "returning_user\n",
      "1.0    50.0\n",
      "0.0    50.0\n",
      "Name: proportion, dtype: float64\n",
      "\n",
      "Index(['device_category', 'device_mobile_model_name',\n",
      "       'device_operating_system', 'device_operating_system_version',\n",
      "       'device_language', 'device_web_info_browser',\n",
      "       'device_web_info_browser_version', 'geo_region', 'geo_city',\n",
      "       'traffic_source_medium', 'traffic_source_source',\n",
      "       'engagement_time_msec', 'month', 'day_of_year', 'week_number',\n",
      "       'page_path_level_1', 'page_path_level_2', 'page_path_level_3',\n",
      "       'path_length', 'time_of_day_sin', 'time_of_day_cos', 'local_hour_sin',\n",
      "       'local_hour_cos', 'local_minute_sin', 'local_minute_cos',\n",
      "       'hour_minute_fraction_sin', 'hour_minute_fraction_cos', 'day_sin',\n",
      "       'day_cos', 'day_of_week_nr_sin', 'day_of_week_nr_cos',\n",
      "       'week_of_month_nr_sin', 'week_of_month_nr_cos', 'geo_country',\n",
      "       'session_engaged', 'year', 'quarter', 'is_weekend', 'domain',\n",
      "       'returning_user'],\n",
      "      dtype='object')\n"
     ]
    }
   ],
   "source": [
    "if test_data==False:\n",
    "      \n",
    "    data_save=apply_strategy_1(data)\n",
    "        \n",
    "    data_save.to_csv(f\"data/df_merch_7_bal_input.csv\", index=False)\n",
    "\n",
    "\n",
    "    print(data_save.columns)\n",
    "\n"
   ]
  },
  {
   "cell_type": "markdown",
   "metadata": {},
   "source": [
    "## train test csv"
   ]
  },
  {
   "cell_type": "code",
   "execution_count": 17,
   "metadata": {},
   "outputs": [
    {
     "name": "stdout",
     "output_type": "stream",
     "text": [
      "Index(['device_category', 'device_mobile_model_name',\n",
      "       'device_operating_system', 'device_operating_system_version',\n",
      "       'device_language', 'device_web_info_browser',\n",
      "       'device_web_info_browser_version', 'geo_region', 'geo_city',\n",
      "       'traffic_source_medium', 'traffic_source_source',\n",
      "       'engagement_time_msec', 'month', 'day_of_year', 'week_number',\n",
      "       'page_path_level_1', 'page_path_level_2', 'page_path_level_3',\n",
      "       'path_length', 'time_of_day_sin', 'time_of_day_cos', 'local_hour_sin',\n",
      "       'local_hour_cos', 'local_minute_sin', 'local_minute_cos',\n",
      "       'hour_minute_fraction_sin', 'hour_minute_fraction_cos', 'day_sin',\n",
      "       'day_cos', 'day_of_week_nr_sin', 'day_of_week_nr_cos',\n",
      "       'week_of_month_nr_sin', 'week_of_month_nr_cos', 'geo_country',\n",
      "       'session_engaged', 'year', 'quarter', 'is_weekend', 'domain',\n",
      "       'returning_user'],\n",
      "      dtype='object')\n",
      "Index(['device_category', 'device_mobile_model_name',\n",
      "       'device_operating_system', 'device_operating_system_version',\n",
      "       'device_language', 'device_web_info_browser',\n",
      "       'device_web_info_browser_version', 'geo_region', 'geo_city',\n",
      "       'traffic_source_medium', 'traffic_source_source',\n",
      "       'engagement_time_msec', 'month', 'day_of_year', 'week_number',\n",
      "       'page_path_level_1', 'page_path_level_2', 'page_path_level_3',\n",
      "       'path_length', 'time_of_day_sin', 'time_of_day_cos', 'local_hour_sin',\n",
      "       'local_hour_cos', 'local_minute_sin', 'local_minute_cos',\n",
      "       'hour_minute_fraction_sin', 'hour_minute_fraction_cos', 'day_sin',\n",
      "       'day_cos', 'day_of_week_nr_sin', 'day_of_week_nr_cos',\n",
      "       'week_of_month_nr_sin', 'week_of_month_nr_cos', 'geo_country',\n",
      "       'session_engaged', 'year', 'quarter', 'is_weekend', 'domain',\n",
      "       'returning_user'],\n",
      "      dtype='object')\n"
     ]
    }
   ],
   "source": [
    "if test_data==False:\n",
    "       \n",
    "    train_save,test_save=simple_split_df(data_save,sort_by='day_of_year')\n",
    "    \n",
    "    train_save.to_csv(f\"data/df_merch_7_bal_input_train.csv\", index=False)\n",
    "    print(train.columns)\n",
    "    \n",
    "    test.to_csv(f\"data/df_merch_7_bal_input_test.csv\", index=False)\n",
    "    print(test.columns)"
   ]
  }
 ],
 "metadata": {
  "kernelspec": {
   "display_name": "base",
   "language": "python",
   "name": "python3"
  },
  "language_info": {
   "codemirror_mode": {
    "name": "ipython",
    "version": 3
   },
   "file_extension": ".py",
   "mimetype": "text/x-python",
   "name": "python",
   "nbconvert_exporter": "python",
   "pygments_lexer": "ipython3",
   "version": "3.12.4"
  }
 },
 "nbformat": 4,
 "nbformat_minor": 2
}
