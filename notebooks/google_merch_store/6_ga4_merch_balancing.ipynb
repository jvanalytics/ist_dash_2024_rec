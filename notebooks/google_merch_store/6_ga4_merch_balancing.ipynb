{
 "cells": [
  {
   "cell_type": "markdown",
   "metadata": {},
   "source": [
    "# File and libraries"
   ]
  },
  {
   "cell_type": "code",
   "execution_count": 1,
   "metadata": {},
   "outputs": [],
   "source": [
    "import pandas as pd\n",
    "import numpy as np\n",
    "from sklearn.model_selection import train_test_split\n",
    "\n",
    "\n",
    "filepath=r'data/df_merch_5_scaler_input.csv'\n",
    "\n",
    "\n",
    "file_tag = \"df_merch_balancing_input\""
   ]
  },
  {
   "cell_type": "markdown",
   "metadata": {},
   "source": [
    "# DSLabs functions"
   ]
  },
  {
   "cell_type": "code",
   "execution_count": 2,
   "metadata": {},
   "outputs": [],
   "source": [
    "%run \"scripts/dslabs_functions.py\"\n"
   ]
  },
  {
   "cell_type": "markdown",
   "metadata": {},
   "source": [
    "# Data functions"
   ]
  },
  {
   "cell_type": "code",
   "execution_count": 3,
   "metadata": {},
   "outputs": [
    {
     "name": "stdout",
     "output_type": "stream",
     "text": [
      "data_functions lodaded\n"
     ]
    }
   ],
   "source": [
    "%run \"scripts/data_functions.py\"\n"
   ]
  },
  {
   "cell_type": "markdown",
   "metadata": {},
   "source": [
    "# Load"
   ]
  },
  {
   "cell_type": "code",
   "execution_count": 4,
   "metadata": {},
   "outputs": [
    {
     "name": "stdout",
     "output_type": "stream",
     "text": [
      "<class 'pandas.core.frame.DataFrame'>\n",
      "Index: 37168 entries, 736 to 742880\n",
      "Data columns (total 42 columns):\n",
      " #   Column                           Non-Null Count  Dtype  \n",
      "---  ------                           --------------  -----  \n",
      " 0   event_name                       37168 non-null  float64\n",
      " 1   device_category                  37168 non-null  float64\n",
      " 2   device_mobile_brand_name         37168 non-null  float64\n",
      " 3   device_mobile_model_name         37168 non-null  float64\n",
      " 4   device_operating_system          37168 non-null  float64\n",
      " 5   device_operating_system_version  37168 non-null  float64\n",
      " 6   device_language                  37168 non-null  float64\n",
      " 7   device_web_info_browser          37168 non-null  float64\n",
      " 8   device_web_info_browser_version  37168 non-null  float64\n",
      " 9   geo_region                       37168 non-null  float64\n",
      " 10  geo_city                         37168 non-null  float64\n",
      " 11  traffic_source_medium            37168 non-null  float64\n",
      " 12  traffic_source_source            37168 non-null  float64\n",
      " 13  engagement_time_msec             37168 non-null  float64\n",
      " 14  month                            37168 non-null  float64\n",
      " 15  day_of_year                      37168 non-null  float64\n",
      " 16  week_number                      37168 non-null  float64\n",
      " 17  page_path_level_1                37168 non-null  float64\n",
      " 18  page_path_level_2                37168 non-null  float64\n",
      " 19  page_path_level_3                37168 non-null  float64\n",
      " 20  path_length                      37168 non-null  float64\n",
      " 21  time_of_day_sin                  37168 non-null  float64\n",
      " 22  time_of_day_cos                  37168 non-null  float64\n",
      " 23  local_hour_sin                   37168 non-null  float64\n",
      " 24  local_hour_cos                   37168 non-null  float64\n",
      " 25  local_minute_sin                 37168 non-null  float64\n",
      " 26  local_minute_cos                 37168 non-null  float64\n",
      " 27  hour_minute_fraction_sin         37168 non-null  float64\n",
      " 28  hour_minute_fraction_cos         37168 non-null  float64\n",
      " 29  day_sin                          37168 non-null  float64\n",
      " 30  day_cos                          37168 non-null  float64\n",
      " 31  day_of_week_nr_sin               37168 non-null  float64\n",
      " 32  day_of_week_nr_cos               37168 non-null  float64\n",
      " 33  week_of_month_nr_sin             37168 non-null  float64\n",
      " 34  week_of_month_nr_cos             37168 non-null  float64\n",
      " 35  geo_country                      37168 non-null  float64\n",
      " 36  session_engaged                  37168 non-null  float64\n",
      " 37  year                             37168 non-null  float64\n",
      " 38  quarter                          37168 non-null  float64\n",
      " 39  is_weekend                       37168 non-null  float64\n",
      " 40  domain                           37168 non-null  float64\n",
      " 41  returning_user                   37168 non-null  float64\n",
      "dtypes: float64(42)\n",
      "memory usage: 12.2 MB\n"
     ]
    }
   ],
   "source": [
    "test_data=True\n",
    "# test_data=False\n",
    "\n",
    "if test_data==True:\n",
    "\n",
    "    data=pd.read_csv(filepath)\n",
    "\n",
    "    # smaller sample to test\n",
    "    data=data.sample(frac=0.05, replace=False)\n",
    "    \n",
    "\n",
    "else:\n",
    "    data=pd.read_csv(filepath)\n",
    "    # 50% sample\n",
    "    # data=data.sample(frac=0.5, replace=False)\n",
    "\n",
    " \n",
    "target='returning_user'\n",
    "vars: list[str] = data.columns.to_list()\n",
    "\n",
    "\n",
    "# ensure sorting by day_of_year for correct splitting \n",
    "# \"When in the presence of temporal data, data partition shall use older data to train and newer to test, in order to not use future data to classify past data. In any other case, partition shall be random.\"\n",
    "data.sort_values(by='day_of_year', inplace=True)\n",
    "\n",
    "\n",
    "\n",
    "data.info()"
   ]
  },
  {
   "cell_type": "markdown",
   "metadata": {},
   "source": [
    "# Balancing Analysis"
   ]
  },
  {
   "cell_type": "code",
   "execution_count": 5,
   "metadata": {},
   "outputs": [
    {
     "name": "stdout",
     "output_type": "stream",
     "text": [
      "Minority class= 1.0 : 9556\n",
      "Majority class= 0.0 : 27612\n",
      "Proportion: 0.35 : 1\n"
     ]
    },
    {
     "data": {
      "image/png": "[encoded data removed]",
      "text/plain": [
       "<Figure size 640x480 with 1 Axes>"
      ]
     },
     "metadata": {},
     "output_type": "display_data"
    }
   ],
   "source": [
    "from pandas import read_csv, concat, DataFrame, Series\n",
    "from matplotlib.pyplot import figure, show\n",
    "from dslabs_functions import plot_bar_chart\n",
    "\n",
    "\n",
    "target_count: Series = data[target].value_counts()\n",
    "positive_class = target_count.idxmin()\n",
    "negative_class = target_count.idxmax()\n",
    "\n",
    "print(\"Minority class=\", positive_class, \":\", target_count[positive_class])\n",
    "print(\"Majority class=\", negative_class, \":\", target_count[negative_class])\n",
    "print(\n",
    "    \"Proportion:\",\n",
    "    round(target_count[positive_class] / target_count[negative_class], 2),\n",
    "    \": 1\",\n",
    ")\n",
    "values: dict[str, list] = {\n",
    "    \"Original\": [target_count[positive_class], target_count[negative_class]]\n",
    "}\n",
    "\n",
    "figure()\n",
    "plot_bar_chart(\n",
    "    target_count.index.to_list(), target_count.to_list(), title=\"Class balance\"\n",
    ")\n",
    "show()"
   ]
  },
  {
   "cell_type": "markdown",
   "metadata": {},
   "source": [
    "# Balance 1 - Undersampling"
   ]
  },
  {
   "cell_type": "markdown",
   "metadata": {},
   "source": [
    "## Bal 1 strategy Application"
   ]
  },
  {
   "cell_type": "code",
   "execution_count": 6,
   "metadata": {},
   "outputs": [
    {
     "name": "stdout",
     "output_type": "stream",
     "text": [
      "Original class distribution:\n",
      "returning_user\n",
      "0.0    74.289712\n",
      "1.0    25.710288\n",
      "Name: proportion, dtype: float64\n",
      "\n",
      "Balanced class distribution:\n",
      "returning_user\n",
      "0.0    50.0\n",
      "1.0    50.0\n",
      "Name: proportion, dtype: float64\n",
      "\n",
      "returning_user\n",
      "0.0    0.5\n",
      "1.0    0.5\n",
      "Name: proportion, dtype: float64\n"
     ]
    }
   ],
   "source": [
    "from pandas import DataFrame, Series\n",
    "from sklearn.preprocessing import StandardScaler\n",
    "\n",
    "\n",
    "\n",
    "def apply_strategy_1(df: DataFrame) -> DataFrame:\n",
    "\n",
    "    df_copy=df.copy()\n",
    "\n",
    "    # this script is available in data_functions originally from DSLabs site in Outlier chapter\n",
    "\n",
    "    # Ensure positive_class and negative_class are defined and match the target values\n",
    "    positive_class = 1  # Or whatever your positive class value is\n",
    "    negative_class = 0  # Or whatever your negative class value is\n",
    "\n",
    "    # Separate the majority and minority classes\n",
    "    df_majority = df_copy[df_copy[target] == negative_class]\n",
    "    df_minority = df_copy[df_copy[target] == positive_class]\n",
    "\n",
    "    # Check the class distribution\n",
    "    print(f\"Original class distribution:\\n{df_copy[target].value_counts(normalize=True) * 100}\\n\")\n",
    "\n",
    "    # Downsample the majority class to match the size of the minority class\n",
    "    df_majority_downsampled = df_majority.sample(n=len(df_minority), random_state=42)\n",
    "\n",
    "    # Combine the downsampled majority class with the minority class\n",
    "    df_balanced = pd.concat([df_majority_downsampled, df_minority])\n",
    "\n",
    "    # Shuffle the combined dataset\n",
    "    df_balanced = df_balanced.sample(frac=1, random_state=42).reset_index(drop=True)\n",
    "    df_balanced.sort_values(by='day_of_year', inplace=True)\n",
    "    \n",
    "\n",
    "    # Check the new class distribution to verify the balance\n",
    "    print(f\"Balanced class distribution:\\n{df_balanced[target].value_counts(normalize=True) * 100}\\n\")\n",
    "\n",
    "\n",
    "    # Check class distribution\n",
    "    values = df_balanced[target].value_counts(normalize=True) \n",
    "    print(values)\n",
    "\n",
    "    \n",
    "    return df_balanced\n",
    "\n",
    "\n",
    "data_1=apply_strategy_1(data)\n",
    "\n",
    "\n",
    "\n"
   ]
  },
  {
   "cell_type": "code",
   "execution_count": 7,
   "metadata": {},
   "outputs": [
    {
     "name": "stdout",
     "output_type": "stream",
     "text": [
      "[0. 1.]\n"
     ]
    }
   ],
   "source": [
    "print(data_1[target].unique())\n"
   ]
  },
  {
   "cell_type": "markdown",
   "metadata": {},
   "source": [
    "## Bal 1 Target Prep"
   ]
  },
  {
   "cell_type": "code",
   "execution_count": 8,
   "metadata": {},
   "outputs": [
    {
     "name": "stdout",
     "output_type": "stream",
     "text": [
      "Labels=[0.0, 1.0]\n"
     ]
    }
   ],
   "source": [
    "from numpy import array, ndarray\n",
    "\n",
    "\n",
    "y_1, X_1, labels, values = define_target_and_prepare_data(data_1, target)\n"
   ]
  },
  {
   "cell_type": "markdown",
   "metadata": {},
   "source": [
    "## Bal 1 train/test split "
   ]
  },
  {
   "cell_type": "code",
   "execution_count": 9,
   "metadata": {},
   "outputs": [
    {
     "data": {
      "image/png": "[encoded data removed]",
      "text/plain": [
       "<Figure size 600x400 with 1 Axes>"
      ]
     },
     "metadata": {},
     "output_type": "display_data"
    }
   ],
   "source": [
    "from pandas import concat\n",
    "from matplotlib.pyplot import figure, show\n",
    "from sklearn.model_selection import train_test_split\n",
    "from dslabs_functions import plot_multibar_chart\n",
    "\n",
    "\n",
    "# Call the function to split the data\n",
    "train_1, test_1 = split_data_save_csv(pd.DataFrame(X_1, columns=data_1.columns), y_1, data_columns=data_1.columns, target_column=target)\n",
    "\n",
    "# Distribution check\n",
    "values[\"Train\"] = [\n",
    "    len(train_1[train_1[target] == 0]),\n",
    "    len(train_1[train_1[target] == 1]),\n",
    "]\n",
    "values[\"Test\"] = [\n",
    "    len(test_1[test_1[target] == 0]),\n",
    "    len(test_1[test_1[target] == 1]),\n",
    "]\n",
    "\n",
    "# Visualize the distribution\n",
    "figure(figsize=(6, 4))\n",
    "plot_multibar_chart(labels, values, title=\"Data distribution per dataset\")\n",
    "show()"
   ]
  },
  {
   "cell_type": "markdown",
   "metadata": {},
   "source": [
    "## Bal 1 evaluate"
   ]
  },
  {
   "cell_type": "code",
   "execution_count": 10,
   "metadata": {},
   "outputs": [
    {
     "data": {
      "image/png": "[encoded data removed]",
      "text/plain": [
       "<Figure size 640x480 with 1 Axes>"
      ]
     },
     "metadata": {},
     "output_type": "display_data"
    }
   ],
   "source": [
    "# evaluate_approach is in data_functions originally from DSLABS/ Data Prep / Methodology\n",
    "# removed Multinomial from run_NB function because dataset has negative values\n",
    "\n",
    "figure()\n",
    "eval_1: dict[str, list] = evaluate_approach(train_1, test_1, target='returning_user', metric=\"recall\")\n",
    "plot_multibar_chart(\n",
    "    [\"NB\", \"KNN\"], eval_1, title=f\"{file_tag}_approach_1_evaluation\", percentage=True\n",
    ")\n",
    "savefig(f\"images/{file_tag}_approach_1_evaluation.png\")\n",
    "show()"
   ]
  },
  {
   "cell_type": "markdown",
   "metadata": {},
   "source": [
    "# Bal 2 - SMOTE\n"
   ]
  },
  {
   "cell_type": "markdown",
   "metadata": {},
   "source": [
    "## Bal 2 strategy aplication"
   ]
  },
  {
   "cell_type": "code",
   "execution_count": 18,
   "metadata": {},
   "outputs": [
    {
     "name": "stdout",
     "output_type": "stream",
     "text": [
      "Minority class= 1.0 : 27612\n",
      "Majority class= 0.0 : 27612\n",
      "Proportion: 1.0 : 1\n",
      "Shape of the new DataFrame: (55224, 42)\n",
      "Class counts after SMOTE:\n",
      "returning_user\n",
      "0.0    27612\n",
      "1.0    27612\n",
      "Name: count, dtype: int64\n"
     ]
    }
   ],
   "source": [
    "from numpy import ndarray\n",
    "from pandas import Series\n",
    "from imblearn.over_sampling import SMOTE\n",
    "\n",
    "def apply_strategy_2(df):\n",
    "\n",
    "   # Copy the DataFrame\n",
    "    original = df.copy()\n",
    "\n",
    "    # Define random state for reproducibility\n",
    "    RANDOM_STATE = 42\n",
    "\n",
    "    # Separate the features (X) and target (y)\n",
    "    y = original.pop(target).values\n",
    "    X: ndarray = original.values\n",
    "\n",
    "    # Initialize SMOTE\n",
    "    smote = SMOTE(sampling_strategy=\"minority\", random_state=RANDOM_STATE)\n",
    "\n",
    "    # Fit and resample\n",
    "    smote_X, smote_y = smote.fit_resample(X, y)\n",
    "\n",
    "    # Reconstruct the DataFrame from the SMOTE output\n",
    "    df_smote = concat([DataFrame(smote_X, columns=original.columns), DataFrame(smote_y, columns=[target])], axis=1)\n",
    "\n",
    "\n",
    "    # Print class distribution and shape\n",
    "    smote_target_count: Series = Series(smote_y).value_counts()\n",
    "    print(\"Minority class=\", smote_target_count.index[1], \":\", smote_target_count[1])\n",
    "    print(\"Majority class=\", smote_target_count.index[0], \":\", smote_target_count[0])\n",
    "    print(\n",
    "        \"Proportion:\",\n",
    "        round(smote_target_count[1] / smote_target_count[0], 2),\n",
    "        \": 1\",\n",
    "    )\n",
    "    print(\"Shape of the new DataFrame:\", df_smote.shape)\n",
    "\n",
    "    print(\"Class counts after SMOTE:\")\n",
    "    print(df_smote[target].value_counts())\n",
    "\n",
    "    return df_smote\n",
    "\n",
    "data_2=apply_strategy_2(data)\n"
   ]
  },
  {
   "cell_type": "markdown",
   "metadata": {},
   "source": [
    "## Bal 2 target prep"
   ]
  },
  {
   "cell_type": "code",
   "execution_count": 19,
   "metadata": {},
   "outputs": [
    {
     "name": "stdout",
     "output_type": "stream",
     "text": [
      "Labels=[0.0, 1.0]\n"
     ]
    }
   ],
   "source": [
    "y_2, X_2, labels, class_counts = define_target_and_prepare_data(data_2, target=target)\n"
   ]
  },
  {
   "cell_type": "markdown",
   "metadata": {},
   "source": [
    "## Bal 2 train/test split "
   ]
  },
  {
   "cell_type": "code",
   "execution_count": 20,
   "metadata": {},
   "outputs": [
    {
     "data": {
      "text/plain": [
       "<Axes: title={'center': 'Data distribution per dataset'}>"
      ]
     },
     "execution_count": 20,
     "metadata": {},
     "output_type": "execute_result"
    },
    {
     "data": {
      "image/png": "[encoded data removed]",
      "text/plain": [
       "<Figure size 600x400 with 1 Axes>"
      ]
     },
     "metadata": {},
     "output_type": "display_data"
    }
   ],
   "source": [
    "from pandas import concat\n",
    "from matplotlib.pyplot import figure, show\n",
    "from sklearn.model_selection import train_test_split\n",
    "from dslabs_functions import plot_multibar_chart\n",
    "\n",
    "# train/test split from DSLABS Classification/Evaluation Chapter\n",
    "# created split_data_save_csv on data_functions\n",
    "\n",
    "# Call the function to split the data\n",
    "train_2, test_2 = split_data_save_csv(pd.DataFrame(X_2, columns=data_2.columns), y_2, data_columns=data_2.columns, target_column=target)\n",
    "\n",
    "\n",
    "values[\"Train\"] = [\n",
    "    len(train_2[train_2[target] == 0]),\n",
    "    len(train_2[train_2[target] == 1]),\n",
    "]\n",
    "values[\"Test\"] = [\n",
    "    len(test_2[test_2[target] == 0]),\n",
    "    len(test_2[test_2[target] == 1]),\n",
    "]\n",
    "\n",
    "figure(figsize=(6, 4))\n",
    "plot_multibar_chart(labels, values, title=\"Data distribution per dataset\")"
   ]
  },
  {
   "cell_type": "markdown",
   "metadata": {},
   "source": [
    "## Bal 2 evaluate"
   ]
  },
  {
   "cell_type": "code",
   "execution_count": 21,
   "metadata": {},
   "outputs": [
    {
     "ename": "ValueError",
     "evalue": "Only one class present in y_true. ROC AUC score is not defined in that case.",
     "output_type": "error",
     "traceback": [
      "\u001b[1;31m---------------------------------------------------------------------------\u001b[0m",
      "\u001b[1;31mValueError\u001b[0m                                Traceback (most recent call last)",
      "Cell \u001b[1;32mIn[21], line 2\u001b[0m\n\u001b[0;32m      1\u001b[0m figure()\n\u001b[1;32m----> 2\u001b[0m eval_2: \u001b[38;5;28mdict\u001b[39m[\u001b[38;5;28mstr\u001b[39m, \u001b[38;5;28mlist\u001b[39m] \u001b[38;5;241m=\u001b[39m evaluate_approach(train_2, test_2, target\u001b[38;5;241m=\u001b[39m\u001b[38;5;124m'\u001b[39m\u001b[38;5;124mreturning_user\u001b[39m\u001b[38;5;124m'\u001b[39m, metric\u001b[38;5;241m=\u001b[39m\u001b[38;5;124m\"\u001b[39m\u001b[38;5;124mrecall\u001b[39m\u001b[38;5;124m\"\u001b[39m)\n\u001b[0;32m      3\u001b[0m plot_multibar_chart(\n\u001b[0;32m      4\u001b[0m     [\u001b[38;5;124m\"\u001b[39m\u001b[38;5;124mNB\u001b[39m\u001b[38;5;124m\"\u001b[39m, \u001b[38;5;124m\"\u001b[39m\u001b[38;5;124mKNN\u001b[39m\u001b[38;5;124m\"\u001b[39m], eval_2, title\u001b[38;5;241m=\u001b[39m\u001b[38;5;124mf\u001b[39m\u001b[38;5;124m\"\u001b[39m\u001b[38;5;132;01m{\u001b[39;00mfile_tag\u001b[38;5;132;01m}\u001b[39;00m\u001b[38;5;124m_approach_2_evaluation\u001b[39m\u001b[38;5;124m\"\u001b[39m, percentage\u001b[38;5;241m=\u001b[39m\u001b[38;5;28;01mTrue\u001b[39;00m\n\u001b[0;32m      5\u001b[0m )\n\u001b[0;32m      6\u001b[0m savefig(\u001b[38;5;124mf\u001b[39m\u001b[38;5;124m\"\u001b[39m\u001b[38;5;124mimages/\u001b[39m\u001b[38;5;132;01m{\u001b[39;00mfile_tag\u001b[38;5;132;01m}\u001b[39;00m\u001b[38;5;124m_approach_2_evaluation.png\u001b[39m\u001b[38;5;124m\"\u001b[39m)\n",
      "File \u001b[1;32mC:\\Data\\Coding\\Python\\ist_dash_2024_rec\\notebooks\\google_merch_store\\scripts\\data_functions.py:502\u001b[0m, in \u001b[0;36mevaluate_approach\u001b[1;34m(train, test, target, metric)\u001b[0m\n\u001b[0;32m    499\u001b[0m tstX: ndarray \u001b[38;5;241m=\u001b[39m test\u001b[38;5;241m.\u001b[39mvalues\n\u001b[0;32m    500\u001b[0m \u001b[38;5;28meval\u001b[39m: \u001b[38;5;28mdict\u001b[39m[\u001b[38;5;28mstr\u001b[39m, \u001b[38;5;28mlist\u001b[39m] \u001b[38;5;241m=\u001b[39m {}\n\u001b[1;32m--> 502\u001b[0m eval_NB: \u001b[38;5;28mdict\u001b[39m[\u001b[38;5;28mstr\u001b[39m, \u001b[38;5;28mfloat\u001b[39m] \u001b[38;5;241m=\u001b[39m run_NB(trnX, trnY, tstX, tstY, metric\u001b[38;5;241m=\u001b[39mmetric)\n\u001b[0;32m    503\u001b[0m eval_KNN: \u001b[38;5;28mdict\u001b[39m[\u001b[38;5;28mstr\u001b[39m, \u001b[38;5;28mfloat\u001b[39m] \u001b[38;5;241m=\u001b[39m run_KNN(trnX, trnY, tstX, tstY, metric\u001b[38;5;241m=\u001b[39mmetric)\n\u001b[0;32m    504\u001b[0m \u001b[38;5;28;01mif\u001b[39;00m eval_NB \u001b[38;5;241m!=\u001b[39m {} \u001b[38;5;129;01mand\u001b[39;00m eval_KNN \u001b[38;5;241m!=\u001b[39m {}:\n",
      "File \u001b[1;32mC:\\Data\\Coding\\Python\\ist_dash_2024_rec\\notebooks\\google_merch_store\\scripts\\dslabs_functions.py:637\u001b[0m, in \u001b[0;36mrun_NB\u001b[1;34m(trnX, trnY, tstX, tstY, metric)\u001b[0m\n\u001b[0;32m    635\u001b[0m     prd: ndarray \u001b[38;5;241m=\u001b[39m best_model\u001b[38;5;241m.\u001b[39mpredict(tstX)\n\u001b[0;32m    636\u001b[0m     \u001b[38;5;28;01mfor\u001b[39;00m key \u001b[38;5;129;01min\u001b[39;00m CLASS_EVAL_METRICS:\n\u001b[1;32m--> 637\u001b[0m         \u001b[38;5;28meval\u001b[39m[key] \u001b[38;5;241m=\u001b[39m CLASS_EVAL_METRICS[key](tstY, prd)\n\u001b[0;32m    638\u001b[0m \u001b[38;5;28;01mreturn\u001b[39;00m \u001b[38;5;28meval\u001b[39m\n",
      "File \u001b[1;32mc:\\ProgramData\\anaconda3\\Lib\\site-packages\\sklearn\\utils\\_param_validation.py:213\u001b[0m, in \u001b[0;36mvalidate_params.<locals>.decorator.<locals>.wrapper\u001b[1;34m(*args, **kwargs)\u001b[0m\n\u001b[0;32m    207\u001b[0m \u001b[38;5;28;01mtry\u001b[39;00m:\n\u001b[0;32m    208\u001b[0m     \u001b[38;5;28;01mwith\u001b[39;00m config_context(\n\u001b[0;32m    209\u001b[0m         skip_parameter_validation\u001b[38;5;241m=\u001b[39m(\n\u001b[0;32m    210\u001b[0m             prefer_skip_nested_validation \u001b[38;5;129;01mor\u001b[39;00m global_skip_validation\n\u001b[0;32m    211\u001b[0m         )\n\u001b[0;32m    212\u001b[0m     ):\n\u001b[1;32m--> 213\u001b[0m         \u001b[38;5;28;01mreturn\u001b[39;00m func(\u001b[38;5;241m*\u001b[39margs, \u001b[38;5;241m*\u001b[39m\u001b[38;5;241m*\u001b[39mkwargs)\n\u001b[0;32m    214\u001b[0m \u001b[38;5;28;01mexcept\u001b[39;00m InvalidParameterError \u001b[38;5;28;01mas\u001b[39;00m e:\n\u001b[0;32m    215\u001b[0m     \u001b[38;5;66;03m# When the function is just a wrapper around an estimator, we allow\u001b[39;00m\n\u001b[0;32m    216\u001b[0m     \u001b[38;5;66;03m# the function to delegate validation to the estimator, but we replace\u001b[39;00m\n\u001b[0;32m    217\u001b[0m     \u001b[38;5;66;03m# the name of the estimator by the name of the function in the error\u001b[39;00m\n\u001b[0;32m    218\u001b[0m     \u001b[38;5;66;03m# message to avoid confusion.\u001b[39;00m\n\u001b[0;32m    219\u001b[0m     msg \u001b[38;5;241m=\u001b[39m re\u001b[38;5;241m.\u001b[39msub(\n\u001b[0;32m    220\u001b[0m         \u001b[38;5;124mr\u001b[39m\u001b[38;5;124m\"\u001b[39m\u001b[38;5;124mparameter of \u001b[39m\u001b[38;5;124m\\\u001b[39m\u001b[38;5;124mw+ must be\u001b[39m\u001b[38;5;124m\"\u001b[39m,\n\u001b[0;32m    221\u001b[0m         \u001b[38;5;124mf\u001b[39m\u001b[38;5;124m\"\u001b[39m\u001b[38;5;124mparameter of \u001b[39m\u001b[38;5;132;01m{\u001b[39;00mfunc\u001b[38;5;241m.\u001b[39m\u001b[38;5;18m__qualname__\u001b[39m\u001b[38;5;132;01m}\u001b[39;00m\u001b[38;5;124m must be\u001b[39m\u001b[38;5;124m\"\u001b[39m,\n\u001b[0;32m    222\u001b[0m         \u001b[38;5;28mstr\u001b[39m(e),\n\u001b[0;32m    223\u001b[0m     )\n",
      "File \u001b[1;32mc:\\ProgramData\\anaconda3\\Lib\\site-packages\\sklearn\\metrics\\_ranking.py:640\u001b[0m, in \u001b[0;36mroc_auc_score\u001b[1;34m(y_true, y_score, average, sample_weight, max_fpr, multi_class, labels)\u001b[0m\n\u001b[0;32m    638\u001b[0m     labels \u001b[38;5;241m=\u001b[39m np\u001b[38;5;241m.\u001b[39munique(y_true)\n\u001b[0;32m    639\u001b[0m     y_true \u001b[38;5;241m=\u001b[39m label_binarize(y_true, classes\u001b[38;5;241m=\u001b[39mlabels)[:, \u001b[38;5;241m0\u001b[39m]\n\u001b[1;32m--> 640\u001b[0m     \u001b[38;5;28;01mreturn\u001b[39;00m _average_binary_score(\n\u001b[0;32m    641\u001b[0m         partial(_binary_roc_auc_score, max_fpr\u001b[38;5;241m=\u001b[39mmax_fpr),\n\u001b[0;32m    642\u001b[0m         y_true,\n\u001b[0;32m    643\u001b[0m         y_score,\n\u001b[0;32m    644\u001b[0m         average,\n\u001b[0;32m    645\u001b[0m         sample_weight\u001b[38;5;241m=\u001b[39msample_weight,\n\u001b[0;32m    646\u001b[0m     )\n\u001b[0;32m    647\u001b[0m \u001b[38;5;28;01melse\u001b[39;00m:  \u001b[38;5;66;03m# multilabel-indicator\u001b[39;00m\n\u001b[0;32m    648\u001b[0m     \u001b[38;5;28;01mreturn\u001b[39;00m _average_binary_score(\n\u001b[0;32m    649\u001b[0m         partial(_binary_roc_auc_score, max_fpr\u001b[38;5;241m=\u001b[39mmax_fpr),\n\u001b[0;32m    650\u001b[0m         y_true,\n\u001b[1;32m   (...)\u001b[0m\n\u001b[0;32m    653\u001b[0m         sample_weight\u001b[38;5;241m=\u001b[39msample_weight,\n\u001b[0;32m    654\u001b[0m     )\n",
      "File \u001b[1;32mc:\\ProgramData\\anaconda3\\Lib\\site-packages\\sklearn\\metrics\\_base.py:75\u001b[0m, in \u001b[0;36m_average_binary_score\u001b[1;34m(binary_metric, y_true, y_score, average, sample_weight)\u001b[0m\n\u001b[0;32m     72\u001b[0m     \u001b[38;5;28;01mraise\u001b[39;00m \u001b[38;5;167;01mValueError\u001b[39;00m(\u001b[38;5;124m\"\u001b[39m\u001b[38;5;132;01m{0}\u001b[39;00m\u001b[38;5;124m format is not supported\u001b[39m\u001b[38;5;124m\"\u001b[39m\u001b[38;5;241m.\u001b[39mformat(y_type))\n\u001b[0;32m     74\u001b[0m \u001b[38;5;28;01mif\u001b[39;00m y_type \u001b[38;5;241m==\u001b[39m \u001b[38;5;124m\"\u001b[39m\u001b[38;5;124mbinary\u001b[39m\u001b[38;5;124m\"\u001b[39m:\n\u001b[1;32m---> 75\u001b[0m     \u001b[38;5;28;01mreturn\u001b[39;00m binary_metric(y_true, y_score, sample_weight\u001b[38;5;241m=\u001b[39msample_weight)\n\u001b[0;32m     77\u001b[0m check_consistent_length(y_true, y_score, sample_weight)\n\u001b[0;32m     78\u001b[0m y_true \u001b[38;5;241m=\u001b[39m check_array(y_true)\n",
      "File \u001b[1;32mc:\\ProgramData\\anaconda3\\Lib\\site-packages\\sklearn\\metrics\\_ranking.py:382\u001b[0m, in \u001b[0;36m_binary_roc_auc_score\u001b[1;34m(y_true, y_score, sample_weight, max_fpr)\u001b[0m\n\u001b[0;32m    380\u001b[0m \u001b[38;5;250m\u001b[39m\u001b[38;5;124;03m\"\"\"Binary roc auc score.\"\"\"\u001b[39;00m\n\u001b[0;32m    381\u001b[0m \u001b[38;5;28;01mif\u001b[39;00m \u001b[38;5;28mlen\u001b[39m(np\u001b[38;5;241m.\u001b[39munique(y_true)) \u001b[38;5;241m!=\u001b[39m \u001b[38;5;241m2\u001b[39m:\n\u001b[1;32m--> 382\u001b[0m     \u001b[38;5;28;01mraise\u001b[39;00m \u001b[38;5;167;01mValueError\u001b[39;00m(\n\u001b[0;32m    383\u001b[0m         \u001b[38;5;124m\"\u001b[39m\u001b[38;5;124mOnly one class present in y_true. ROC AUC score \u001b[39m\u001b[38;5;124m\"\u001b[39m\n\u001b[0;32m    384\u001b[0m         \u001b[38;5;124m\"\u001b[39m\u001b[38;5;124mis not defined in that case.\u001b[39m\u001b[38;5;124m\"\u001b[39m\n\u001b[0;32m    385\u001b[0m     )\n\u001b[0;32m    387\u001b[0m fpr, tpr, _ \u001b[38;5;241m=\u001b[39m roc_curve(y_true, y_score, sample_weight\u001b[38;5;241m=\u001b[39msample_weight)\n\u001b[0;32m    388\u001b[0m \u001b[38;5;28;01mif\u001b[39;00m max_fpr \u001b[38;5;129;01mis\u001b[39;00m \u001b[38;5;28;01mNone\u001b[39;00m \u001b[38;5;129;01mor\u001b[39;00m max_fpr \u001b[38;5;241m==\u001b[39m \u001b[38;5;241m1\u001b[39m:\n",
      "\u001b[1;31mValueError\u001b[0m: Only one class present in y_true. ROC AUC score is not defined in that case."
     ]
    },
    {
     "data": {
      "text/plain": [
       "<Figure size 640x480 with 0 Axes>"
      ]
     },
     "metadata": {},
     "output_type": "display_data"
    }
   ],
   "source": [
    "\n",
    "figure()\n",
    "eval_2: dict[str, list] = evaluate_approach(train_2, test_2, target='returning_user', metric=\"recall\")\n",
    "plot_multibar_chart(\n",
    "    [\"NB\", \"KNN\"], eval_2, title=f\"{file_tag}_approach_2_evaluation\", percentage=True\n",
    ")\n",
    "savefig(f\"images/{file_tag}_approach_2_evaluation.png\")\n",
    "show()"
   ]
  },
  {
   "cell_type": "markdown",
   "metadata": {},
   "source": [
    "# Approach uplift comparison"
   ]
  },
  {
   "cell_type": "markdown",
   "metadata": {},
   "source": [
    "## uplift df"
   ]
  },
  {
   "cell_type": "code",
   "execution_count": null,
   "metadata": {},
   "outputs": [],
   "source": [
    "algorithms = ['Naive Bayes', 'KNN']\n",
    "\n",
    "# Create DataFrames for eval_1 and eval_2\n",
    "df_eval_1 = pd.DataFrame(eval_1, index=algorithms)\n",
    "df_eval_2 = pd.DataFrame(eval_2, index=algorithms)\n",
    "\n",
    "# Calculate uplift\n",
    "df_uplift = df_eval_2 - df_eval_1\n",
    "\n",
    "\n",
    "\n",
    "# Combine everything into one DataFrame (without misalignment issues)\n",
    "comparison_df = pd.concat([df_eval_1, df_eval_2, df_uplift], axis=1)\n",
    "comparison_df.columns = pd.MultiIndex.from_product([['Approach 1', 'Approach 2', 'Uplift'], eval_1.keys()])\n",
    "\n",
    "\n",
    "\n",
    "# Display the DataFrame\n",
    "comparison_df"
   ]
  },
  {
   "cell_type": "markdown",
   "metadata": {},
   "source": [
    "# Analysis\n",
    "\n",
    "- Uplift between outlier input approaches is specially significant when it comes to recall (55.7%  out1 to 37% out2). \n",
    "- Accuracy however is lower on out1 vs out2 treatment strategies\n",
    "- data processing time is almost equal\n",
    "- Considering out1 is the best between both strategies, if we compare between previous dataset and outlier treatment, we have\n",
    "    - an improvement in NB recall (0.35 to 0.55!)\n",
    "    - slight loss in NB accuracy: 0.63 to 0.59 \n",
    "    - slight improvement in NB's auc and f1 \n",
    "    - no significant improvements in KNN\n",
    "\n",
    "- Considering we seriously want to improve recall, then we will move forward with strategy outlier 1 (thresholding outliers)"
   ]
  },
  {
   "cell_type": "markdown",
   "metadata": {},
   "source": [
    "## AI insight on recall\n",
    "\n",
    "Why Recall Matters in Predicting Returning Users:\n",
    "\n",
    "1. Maximizing Engagement Opportunities:\n",
    "\n",
    "    - Predicting returning users correctly allows for personalized marketing, tailored content, and targeted offers. If the system misses a returning user (false negative), it’s a missed opportunity to engage with a user who could otherwise benefit from personalized strategies.\n",
    "    - Having a higher recall ensures that you’re capturing the maximum number of actual returning users, even if some non-returning users are mistakenly classified as returning (false positives).\n",
    "\n",
    "2. False Positives Aren’t as Costly:\n",
    "    - In this case, a false positive means treating a new user as a returning user. While this might slightly reduce the accuracy of personalization, the cost of this mistake is generally low (e.g., showing personalized recommendations to a non-returning user).\n",
    "    - False negatives (missing true returning users), on the other hand, mean lost opportunities for accurate personalization and retention efforts, which could directly affect engagement and conversion.\n",
    "\n",
    "3. Personalization Strategies and Marketing Tactics:\n",
    "    - Since personalization and remarketing strategies often rely on recognizing returning users, prioritizing recall ensures that your campaigns are more inclusive, targeting as many actual returning users as possible.\n",
    "    - Even if your system misclassifies some users, the effect on user experience is minor compared to the benefit of catching more real returning users and improving their experience.\n",
    "\n",
    "4. Conclusion:\n",
    "    - Given that false positives are not very costly in your scenario and maximizing engagement with true returning users is key, focusing on better recall makes sense. The out1 strategy, which provides a significant recall improvement, would likely be more effective in helping your system predict returning users more accurately and improving marketing efforts."
   ]
  },
  {
   "cell_type": "markdown",
   "metadata": {},
   "source": [
    "# save to csv"
   ]
  },
  {
   "cell_type": "code",
   "execution_count": 39,
   "metadata": {},
   "outputs": [],
   "source": [
    "if test_data==False:\n",
    "    \n",
    "    # \n",
    "    # data=apply_strategy_1(data)\n",
    "    \n",
    "    data.to_csv(f\"data/df_merch_5_scaler_input.csv\", index=False)\n",
    "    "
   ]
  }
 ],
 "metadata": {
  "kernelspec": {
   "display_name": "base",
   "language": "python",
   "name": "python3"
  },
  "language_info": {
   "codemirror_mode": {
    "name": "ipython",
    "version": 3
   },
   "file_extension": ".py",
   "mimetype": "text/x-python",
   "name": "python",
   "nbconvert_exporter": "python",
   "pygments_lexer": "ipython3",
   "version": "3.12.4"
  }
 },
 "nbformat": 4,
 "nbformat_minor": 2
}
