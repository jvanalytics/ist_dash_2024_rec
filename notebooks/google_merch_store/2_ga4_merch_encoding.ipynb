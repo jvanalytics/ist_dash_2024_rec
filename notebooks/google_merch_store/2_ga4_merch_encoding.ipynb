{
 "cells": [
  {
   "cell_type": "markdown",
   "metadata": {},
   "source": [
    "# File and libraries"
   ]
  },
  {
   "cell_type": "code",
   "execution_count": 1,
   "metadata": {},
   "outputs": [],
   "source": [
    "import pandas as pd\n",
    "import numpy as np\n",
    "\n",
    "\n",
    "filepath=r'df_merch_pre_proc.csv'\n",
    "\n",
    "file_tag = \"df_merch_pre_proc\""
   ]
  },
  {
   "cell_type": "markdown",
   "metadata": {},
   "source": [
    "# DSLabs functions"
   ]
  },
  {
   "cell_type": "code",
   "execution_count": 2,
   "metadata": {},
   "outputs": [],
   "source": [
    "%run \"dslabs_functions.py\"\n"
   ]
  },
  {
   "cell_type": "markdown",
   "metadata": {},
   "source": [
    "# Data functions"
   ]
  },
  {
   "cell_type": "code",
   "execution_count": 3,
   "metadata": {},
   "outputs": [
    {
     "name": "stdout",
     "output_type": "stream",
     "text": [
      "data_functions lodaded\n"
     ]
    }
   ],
   "source": [
    "%run \"data_functions.py\"\n"
   ]
  },
  {
   "cell_type": "markdown",
   "metadata": {},
   "source": [
    "# Load"
   ]
  },
  {
   "cell_type": "code",
   "execution_count": 4,
   "metadata": {},
   "outputs": [
    {
     "name": "stdout",
     "output_type": "stream",
     "text": [
      "<class 'pandas.core.frame.DataFrame'>\n",
      "RangeIndex: 308445 entries, 0 to 308444\n",
      "Data columns (total 35 columns):\n",
      " #   Column                           Non-Null Count   Dtype  \n",
      "---  ------                           --------------   -----  \n",
      " 0   event_name                       308445 non-null  object \n",
      " 1   device_category                  308445 non-null  object \n",
      " 2   device_mobile_brand_name         308445 non-null  object \n",
      " 3   device_mobile_model_name         308445 non-null  object \n",
      " 4   device_operating_system          308445 non-null  object \n",
      " 5   device_operating_system_version  214887 non-null  object \n",
      " 6   device_language                  169432 non-null  object \n",
      " 7   device_web_info_browser          308445 non-null  object \n",
      " 8   device_web_info_browser_version  308445 non-null  object \n",
      " 9   geo_country                      308445 non-null  object \n",
      " 10  geo_region                       304880 non-null  object \n",
      " 11  geo_city                         291990 non-null  object \n",
      " 12  traffic_source_medium            308445 non-null  object \n",
      " 13  traffic_source_source            308445 non-null  object \n",
      " 14  session_engaged                  308433 non-null  float64\n",
      " 15  engagement_time_msec             308445 non-null  float64\n",
      " 16  returning_user                   308445 non-null  int64  \n",
      " 17  local_hour                       308445 non-null  int64  \n",
      " 18  local_minute                     308445 non-null  int64  \n",
      " 19  hour_minute_fraction             308445 non-null  float64\n",
      " 20  time_of_day                      308445 non-null  object \n",
      " 21  year                             308445 non-null  int64  \n",
      " 22  quarter                          308445 non-null  int64  \n",
      " 23  month                            308445 non-null  int64  \n",
      " 24  day                              308445 non-null  int64  \n",
      " 25  day_of_week                      308445 non-null  object \n",
      " 26  day_of_year                      308445 non-null  int64  \n",
      " 27  week_number                      308445 non-null  int64  \n",
      " 28  day_of_week_nr                   308445 non-null  int64  \n",
      " 29  is_weekend                       308445 non-null  int64  \n",
      " 30  domain                           308445 non-null  object \n",
      " 31  page_path_level_1                308204 non-null  object \n",
      " 32  page_path_level_2                308249 non-null  object \n",
      " 33  page_path_level_3                308249 non-null  object \n",
      " 34  path_length                      308445 non-null  int64  \n",
      "dtypes: float64(3), int64(12), object(20)\n",
      "memory usage: 82.4+ MB\n"
     ]
    }
   ],
   "source": [
    "# test_data=True\n",
    "test_data=False\n",
    "\n",
    "if test_data==True:\n",
    "\n",
    "    data=pd.read_csv(filepath)\n",
    "\n",
    "    # 10% sample\n",
    "    data=data.sample(frac=0.1, replace=False)\n",
    "    \n",
    "\n",
    "else:\n",
    "    data=pd.read_csv(filepath)\n",
    "\n",
    " \n",
    "\n",
    "# encoded dataframe duplication\n",
    "data_enc = data.copy()\n",
    "\n",
    "data_enc.info()"
   ]
  },
  {
   "cell_type": "markdown",
   "metadata": {},
   "source": [
    "# Geo columns\n",
    "Using the distance from a central point, like Google's headquarters in California, as a proxy for geographical encoding can be a clever approach. For GA4 datasets related to Google services, proximity to headquarters (Mountain View, California) might correlate with certain behaviors or delivery times."
   ]
  },
  {
   "cell_type": "markdown",
   "metadata": {},
   "source": [
    "## geo_region\n",
    "Using the distance from a central point, like Google's headquarters in California, as a proxy for geographical encoding can be a clever approach. For GA4 datasets related to Google services, proximity to headquarters (Mountain View, California) might correlate with certain behaviors or delivery times."
   ]
  },
  {
   "cell_type": "code",
   "execution_count": 5,
   "metadata": {},
   "outputs": [
    {
     "name": "stdout",
     "output_type": "stream",
     "text": [
      "['North Carolina', 'Vermont', 'Rhode Island', 'North Dakota', 'Minnesota', 'Utah', 'New Jersey', 'Maryland', 'Hawaii', 'Alberta', 'Georgia', 'Colorado', 'Oregon', 'Texas', 'District of Columbia', 'Indiana', 'Montana', 'Kansas', 'West Virginia', 'Alaska', 'Nevada', 'New Mexico', 'Washington', 'Delaware', 'Kentucky', 'Oklahoma', 'Illinois', 'Wyoming', 'South Carolina', 'Arizona', 'Prince Edward Island', 'New Hampshire', 'South Dakota', nan, 'Ontario', 'Mississippi', 'Arkansas', 'Pennsylvania', 'Michigan', 'British Columbia', 'Wisconsin', 'Louisiana', 'Manitoba', 'Quebec', 'Nebraska', 'Tennessee', 'New Brunswick', 'Missouri', 'Saskatchewan', 'Connecticut', 'California', 'Iowa', 'Nova Scotia', 'Idaho', 'Florida', 'Ohio', 'New York', 'Alabama', 'Massachusetts', 'Newfoundland and Labrador', 'Maine', 'Virginia']\n"
     ]
    }
   ],
   "source": [
    "geo_region_list = data['geo_region'].tolist()\n",
    "distinct_geo_regions = list(set(geo_region_list))\n",
    "\n",
    "print(distinct_geo_regions)"
   ]
  },
  {
   "cell_type": "code",
   "execution_count": 6,
   "metadata": {},
   "outputs": [],
   "source": [
    "region_distances_to_google_hq = {\n",
    "    \"Quebec\": 2887,\n",
    "    \"Oklahoma\": 1645,\n",
    "    \"Ontario\": 2520,\n",
    "    \"Manitoba\": 2010,\n",
    "    \"South Carolina\": 1006,\n",
    "    \"Arkansas\": 1388,\n",
    "    \"New Jersey\": 2845,\n",
    "    \"Alaska\": 4860,\n",
    "    \"Washington\": 2375,\n",
    "    \"Vermont\": 2880,\n",
    "    \"Idaho\": 2110,\n",
    "    \"Newfoundland and Labrador\": 3620,\n",
    "    \"Louisiana\": 1500,\n",
    "    \"New York\": 2840,\n",
    "    \"Kansas\": 1470,\n",
    "    \"Rhode Island\": 2850,\n",
    "    \"Nova Scotia\": 3200,\n",
    "    \"District of Columbia\": 2770,\n",
    "    \"Prince Edward Island\": 3300,\n",
    "    \"Oregon\": 2200,\n",
    "    \"Florida\": 1240,\n",
    "    \"Alberta\": 1950,\n",
    "    \"Arizona\": 1200,\n",
    "    \"Montana\": 2000,\n",
    "    \"South Dakota\": 1600,\n",
    "    \"Hawaii\": 4900,\n",
    "    \"Colorado\": 1400,\n",
    "    \"California\": 200,\n",
    "    \"Utah\": 1300,\n",
    "    \"Maryland\": 2750,\n",
    "    \"Indiana\": 1400,\n",
    "    \"Delaware\": 2800,\n",
    "    \"Pennsylvania\": 2700,\n",
    "    \"Michigan\": 2000,\n",
    "    \"Iowa\": 1500,\n",
    "    \"Virginia\": 2700,\n",
    "    \"Connecticut\": 2850,\n",
    "    \"Nevada\": 1000,\n",
    "    \"British Columbia\": 2200,\n",
    "    \"Georgia\": 1050,\n",
    "    \"Mississippi\": 1300,\n",
    "    \"New Mexico\": 1200,\n",
    "    \"Maine\": 2900,\n",
    "    \"North Dakota\": 1700,\n",
    "    \"Nebraska\": 1500,\n",
    "    \"North Carolina\": 1050,\n",
    "    \"Minnesota\": 1700,\n",
    "    \"Illinois\": 1400,\n",
    "    \"Tennessee\": 1100,\n",
    "    \"Massachusetts\": 2850,\n",
    "    \"Wisconsin\": 1600,\n",
    "    \"Kentucky\": 1200,\n",
    "    \"Alabama\": 1100,\n",
    "    \"Ohio\": 1500,\n",
    "    \"Saskatchewan\": 1800,\n",
    "    \"Texas\": 1300,\n",
    "    \"West Virginia\": 2600,\n",
    "    \"Missouri\": 1300,\n",
    "    \"New Brunswick\": 3000,\n",
    "    \"New Hampshire\": 2850,\n",
    "    \"Wyoming\": 1800\n",
    "}\n"
   ]
  },
  {
   "cell_type": "code",
   "execution_count": 7,
   "metadata": {},
   "outputs": [],
   "source": [
    "data_enc['geo_region'] = encode_column_with_mapping(data_enc, 'geo_region', region_distances_to_google_hq)\n"
   ]
  },
  {
   "cell_type": "markdown",
   "metadata": {},
   "source": [
    "# geo_city"
   ]
  },
  {
   "cell_type": "code",
   "execution_count": null,
   "metadata": {},
   "outputs": [
    {
     "name": "stdout",
     "output_type": "stream",
     "text": [
      "['Charleston', 'Houston', 'Yorba Linda', 'San Antonio', 'Edmonton', 'San Mateo', 'Hamilton', 'Rochester', 'Kirkland', 'Saskatoon', 'Vaughan', 'Bridgeport', 'Nashville', 'Redwood City', 'Milpitas', 'Richmond', 'Minneapolis', 'Markham', 'Gatineau', 'Pittsburgh', 'Jacksonville', 'Cambridge', 'Indianapolis', 'Cupertino', 'Albuquerque', 'Des Moines', 'San Jose', 'Boise', 'Salt Lake City', 'Laval', 'Newark', 'Las Vegas', 'Wichita', 'Fremont', 'Quebec City', 'Other', 'Kitchener', 'Salmon Arm', 'Montreal', 'Mississauga', 'Providence', 'Omaha', 'Vancouver', 'Honolulu', 'Ottawa', 'Fort Worth', 'Miami', 'Dallas', 'San Francisco', 'Milwaukee', 'Roseville', 'Kansas City', 'Tampa', 'Orlando', 'London', 'Oakland', 'New York', 'Boston', 'Chicago', 'Atlanta', 'Little Rock', 'Longueuil', 'Palo Alto', 'Calgary', 'Birmingham', 'Charlotte', 'Wilmington', 'Jackson', nan, 'Brampton', 'Portland', 'Seattle', 'Oklahoma City', 'Surrey', 'Austin', 'Irvine', 'Oakville', 'Cleveland', 'New Orleans', 'Cincinnati', 'Columbus', 'Baltimore', 'Virginia Beach', 'Santa Clara', 'San Diego', 'Winnipeg', 'Phoenix', 'Toronto', 'Halifax', 'Fargo', 'Cypress', 'Richmond Hill', 'Redmond', 'Aurora', 'Springfield', 'Manchester', 'Philadelphia', 'Burlington', 'Raleigh', 'Washington', 'Mountain View', 'Turner', 'Billings', 'Sunnyvale', 'Sacramento', 'Boardman', 'New York City', 'Detroit', 'Coffeyville', 'Memphis', 'Bellevue', 'Ashburn', 'Lincoln', 'Cedar Rapids', 'Denver', 'Louisville', 'Los Angeles', 'Jersey City']\n"
     ]
    }
   ],
   "source": [
    "geo_city_list = data['geo_city'].tolist()\n",
    "distinct_geo_cities = list(set(geo_city_list))\n",
    "\n",
    "print(distinct_geo_cities)"
   ]
  },
  {
   "cell_type": "code",
   "execution_count": 10,
   "metadata": {},
   "outputs": [],
   "source": [
    "city_distances_to_google_hq = {\n",
    "    \"Toronto\": 2520,\n",
    "    \"Oakland\": 200,\n",
    "    \"Providence\": 2850,\n",
    "    \"New York City\": 2840,\n",
    "    \"Cincinnati\": 1400,\n",
    "    \"Lincoln\": 1500,\n",
    "    \"Cambridge\": 2850,\n",
    "    \"Virginia Beach\": 2700,\n",
    "    \"Yorba Linda\": 200,\n",
    "    \"Philadelphia\": 2700,\n",
    "    \"Surrey\": 2200,\n",
    "    \"Kitchener\": 2520,\n",
    "    \"Fargo\": 1700,\n",
    "    \"Mississauga\": 2520,\n",
    "    \"Jacksonville\": 1240,\n",
    "    \"Des Moines\": 1500,\n",
    "    \"Redwood City\": 200,\n",
    "    \"Edmonton\": 1950,\n",
    "    \"Burlington\": 2850,\n",
    "    \"Minneapolis\": 1700,\n",
    "    \"Boise\": 2110,\n",
    "    \"Nashville\": 1100,\n",
    "    \"Richmond Hill\": 2520,\n",
    "    \"Miami\": 1240,\n",
    "    \"Irvine\": 200,\n",
    "    \"Sunnyvale\": 200,\n",
    "    \"Washington\": 2770,\n",
    "    \"Jackson\": 1300,\n",
    "    \"San Antonio\": 1300,\n",
    "    \"London\": 4860,\n",
    "    \"Aurora\": 200,\n",
    "    \"Milpitas\": 200,\n",
    "    \"Saskatoon\": 1800,\n",
    "    \"Palo Alto\": 200,\n",
    "    \"Chicago\": 1400,\n",
    "    \"Mountain View\": 0,\n",
    "    \"Boston\": 2850,\n",
    "    \"San Jose\": 200,\n",
    "    \"Halifax\": 3200,\n",
    "    \"Louisville\": 1200,\n",
    "    \"Newark\": 2845,\n",
    "    \"Columbus\": 1500,\n",
    "    \"Cypress\": 200,\n",
    "    \"Orlando\": 1240,\n",
    "    \"Phoenix\": 1200,\n",
    "    \"Winnipeg\": 2010,\n",
    "    \"Los Angeles\": 200,\n",
    "    \"Denver\": 1400,\n",
    "    \"Roseville\": 200,\n",
    "    \"Detroit\": 2000,\n",
    "    \"Montreal\": 2887,\n",
    "    \"Vancouver\": 2200,\n",
    "    \"Albuquerque\": 1200,\n",
    "    \"Fremont\": 200,\n",
    "    \"Santa Clara\": 200,\n",
    "    \"Other\": 0,  # Assuming \"Other\" as none to later be filled with different techniques\n",
    "    \"San Mateo\": 200,\n",
    "    \"Wichita\": 1470,\n",
    "    \"San Francisco\": 200,\n",
    "    \"Charleston\": 1006,\n",
    "    \"Richmond\": 2700,\n",
    "    \"Kansas City\": 1470,\n",
    "    \"Bellevue\": 2375,\n",
    "    \"Pittsburgh\": 2700,\n",
    "    \"Turner\": 0,  \n",
    "    \"Raleigh\": 1050,\n",
    "    \"Markham\": 2520,\n",
    "    \"Ashburn\": 2770,\n",
    "    \"Oklahoma City\": 1645,\n",
    "    \"Brampton\": 2520,\n",
    "    \"Vaughan\": 2520,\n",
    "    \"Charlotte\": 1050,\n",
    "    \"Tampa\": 1240,\n",
    "    \"Indianapolis\": 1400,\n",
    "    \"Austin\": 1300,\n",
    "    \"Calgary\": 1950,\n",
    "    \"Oakville\": 2520,\n",
    "    \"Rochester\": 2840,\n",
    "    \"Longueuil\": 2887,\n",
    "    \"Dallas\": 1300,\n",
    "    \"Manchester\": 2850,\n",
    "    \"Birmingham\": 1100,\n",
    "    \"San Diego\": 200,\n",
    "    \"Honolulu\": 4900,\n",
    "    \"Salt Lake City\": 1300,\n",
    "    \"Wilmington\": 2800,\n",
    "    \"Atlanta\": 1050,\n",
    "    \"Baltimore\": 2750,\n",
    "    \"Cleveland\": 1500,\n",
    "    \"New York\": 2840,\n",
    "    \"Coffeyville\": 1470,\n",
    "    \"Salmon Arm\": 2200,\n",
    "    \"Milwaukee\": 1600,\n",
    "    \"Billings\": 2000,\n",
    "    \"Sacramento\": 200,\n",
    "    \"Springfield\": 1400,\n",
    "    \"Boardman\": 2375,\n",
    "    \"Portland\": 2200,\n",
    "    \"Houston\": 1300,\n",
    "    \"Hamilton\": 2520,\n",
    "    \"Redmond\": 2375,\n",
    "    \"Las Vegas\": 1000,\n",
    "    \"New Orleans\": 1500,\n",
    "    \"Memphis\": 1300,\n",
    "    \"Kirkland\": 2375,\n",
    "    \"Cedar Rapids\": 1500,\n",
    "    \"Jersey City\": 2845,\n",
    "    \"Cupertino\": 200,\n",
    "    \"Omaha\": 1500,\n",
    "    \"Bridgeport\": 2850,\n",
    "    \"Gatineau\": 2887,\n",
    "    \"Laval\": 2887,\n",
    "    \"Fort Worth\": 1300,\n",
    "    \"Seattle\": 2375,\n",
    "    \"Quebec City\": 2887,\n",
    "    \"Ottawa\": 2520,\n",
    "    \"Little Rock\": 1388\n",
    "}\n",
    "\n",
    "\n",
    "max_distance = max(city_distances_to_google_hq.values())\n",
    "\n",
    "city_distances_to_google_hq[\"Other\"] = max_distance\n",
    "city_distances_to_google_hq[\"Turner\"] = max_distance\n",
    "\n"
   ]
  },
  {
   "cell_type": "code",
   "execution_count": 11,
   "metadata": {},
   "outputs": [],
   "source": [
    "data_enc['geo_city'] = encode_column_with_mapping(data_enc, 'geo_city', city_distances_to_google_hq)\n"
   ]
  }
 ],
 "metadata": {
  "kernelspec": {
   "display_name": "base",
   "language": "python",
   "name": "python3"
  },
  "language_info": {
   "codemirror_mode": {
    "name": "ipython",
    "version": 3
   },
   "file_extension": ".py",
   "mimetype": "text/x-python",
   "name": "python",
   "nbconvert_exporter": "python",
   "pygments_lexer": "ipython3",
   "version": "3.12.4"
  }
 },
 "nbformat": 4,
 "nbformat_minor": 2
}
