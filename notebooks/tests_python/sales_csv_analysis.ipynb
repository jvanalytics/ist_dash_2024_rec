{
 "cells": [
  {
   "cell_type": "code",
   "execution_count": 45,
   "metadata": {},
   "outputs": [
    {
     "name": "stdout",
     "output_type": "stream",
     "text": [
      "   Company   Person  Sales\n",
      "0     GOOG      Sam    200\n",
      "1     GOOG  Charlie    120\n",
      "2     GOOG    Frank    340\n",
      "3     MSFT     Tina    600\n",
      "4     MSFT      Amy    124\n",
      "5     MSFT  Vanessa    243\n",
      "6       FB     Carl    870\n",
      "7       FB    Sarah    350\n",
      "8     APPL     John    250\n",
      "9     APPL    Linda    130\n",
      "10    APPL     Mike    750\n",
      "11    APPL    Chris    350\n"
     ]
    }
   ],
   "source": [
    "import pandas as pd\n",
    "import matplotlib.pyplot as plt\n",
    "import numpy as np\n",
    "\n",
    "sales_csv_path = ('/Users/lourefra/Documents/Mercedes-benz.io/TRAINING/post graduation course IST - Data science/fich_csv_tests/sales_info.csv')\n",
    "\n",
    "\n",
    "df = pd.read_csv(sales_csv_path)\n",
    "\n",
    "print(df)"
   ]
  },
  {
   "cell_type": "markdown",
   "metadata": {},
   "source": []
  },
  {
   "cell_type": "markdown",
   "metadata": {},
   "source": [
    "Group data"
   ]
  },
  {
   "cell_type": "code",
   "execution_count": 25,
   "metadata": {},
   "outputs": [
    {
     "data": {
      "text/html": [
       "<div>\n",
       "<style scoped>\n",
       "    .dataframe tbody tr th:only-of-type {\n",
       "        vertical-align: middle;\n",
       "    }\n",
       "\n",
       "    .dataframe tbody tr th {\n",
       "        vertical-align: top;\n",
       "    }\n",
       "\n",
       "    .dataframe thead th {\n",
       "        text-align: right;\n",
       "    }\n",
       "</style>\n",
       "<table border=\"1\" class=\"dataframe\">\n",
       "  <thead>\n",
       "    <tr style=\"text-align: right;\">\n",
       "      <th></th>\n",
       "      <th>Company</th>\n",
       "      <th>Sales</th>\n",
       "    </tr>\n",
       "  </thead>\n",
       "  <tbody>\n",
       "    <tr>\n",
       "      <th>0</th>\n",
       "      <td>APPL</td>\n",
       "      <td>1480</td>\n",
       "    </tr>\n",
       "    <tr>\n",
       "      <th>1</th>\n",
       "      <td>FB</td>\n",
       "      <td>1220</td>\n",
       "    </tr>\n",
       "    <tr>\n",
       "      <th>2</th>\n",
       "      <td>GOOG</td>\n",
       "      <td>660</td>\n",
       "    </tr>\n",
       "    <tr>\n",
       "      <th>3</th>\n",
       "      <td>MSFT</td>\n",
       "      <td>967</td>\n",
       "    </tr>\n",
       "  </tbody>\n",
       "</table>\n",
       "</div>"
      ],
      "text/plain": [
       "  Company  Sales\n",
       "0    APPL   1480\n",
       "1      FB   1220\n",
       "2    GOOG    660\n",
       "3    MSFT    967"
      ]
     },
     "execution_count": 25,
     "metadata": {},
     "output_type": "execute_result"
    }
   ],
   "source": [
    "df.groupby(['Company']).sum('Sales').reset_index()"
   ]
  },
  {
   "cell_type": "code",
   "execution_count": 22,
   "metadata": {},
   "outputs": [
    {
     "data": {
      "text/html": [
       "<div>\n",
       "<style scoped>\n",
       "    .dataframe tbody tr th:only-of-type {\n",
       "        vertical-align: middle;\n",
       "    }\n",
       "\n",
       "    .dataframe tbody tr th {\n",
       "        vertical-align: top;\n",
       "    }\n",
       "\n",
       "    .dataframe thead th {\n",
       "        text-align: right;\n",
       "    }\n",
       "</style>\n",
       "<table border=\"1\" class=\"dataframe\">\n",
       "  <thead>\n",
       "    <tr style=\"text-align: right;\">\n",
       "      <th></th>\n",
       "      <th>Company</th>\n",
       "      <th>Person</th>\n",
       "      <th>Sales</th>\n",
       "    </tr>\n",
       "  </thead>\n",
       "  <tbody>\n",
       "    <tr>\n",
       "      <th>0</th>\n",
       "      <td>APPL</td>\n",
       "      <td>Chris</td>\n",
       "      <td>350</td>\n",
       "    </tr>\n",
       "    <tr>\n",
       "      <th>1</th>\n",
       "      <td>APPL</td>\n",
       "      <td>John</td>\n",
       "      <td>250</td>\n",
       "    </tr>\n",
       "    <tr>\n",
       "      <th>2</th>\n",
       "      <td>APPL</td>\n",
       "      <td>Linda</td>\n",
       "      <td>130</td>\n",
       "    </tr>\n",
       "    <tr>\n",
       "      <th>3</th>\n",
       "      <td>APPL</td>\n",
       "      <td>Mike</td>\n",
       "      <td>750</td>\n",
       "    </tr>\n",
       "    <tr>\n",
       "      <th>4</th>\n",
       "      <td>FB</td>\n",
       "      <td>Carl</td>\n",
       "      <td>870</td>\n",
       "    </tr>\n",
       "    <tr>\n",
       "      <th>5</th>\n",
       "      <td>FB</td>\n",
       "      <td>Sarah</td>\n",
       "      <td>350</td>\n",
       "    </tr>\n",
       "    <tr>\n",
       "      <th>6</th>\n",
       "      <td>GOOG</td>\n",
       "      <td>Charlie</td>\n",
       "      <td>120</td>\n",
       "    </tr>\n",
       "    <tr>\n",
       "      <th>7</th>\n",
       "      <td>GOOG</td>\n",
       "      <td>Frank</td>\n",
       "      <td>340</td>\n",
       "    </tr>\n",
       "    <tr>\n",
       "      <th>8</th>\n",
       "      <td>GOOG</td>\n",
       "      <td>Sam</td>\n",
       "      <td>200</td>\n",
       "    </tr>\n",
       "    <tr>\n",
       "      <th>9</th>\n",
       "      <td>MSFT</td>\n",
       "      <td>Amy</td>\n",
       "      <td>124</td>\n",
       "    </tr>\n",
       "    <tr>\n",
       "      <th>10</th>\n",
       "      <td>MSFT</td>\n",
       "      <td>Tina</td>\n",
       "      <td>600</td>\n",
       "    </tr>\n",
       "    <tr>\n",
       "      <th>11</th>\n",
       "      <td>MSFT</td>\n",
       "      <td>Vanessa</td>\n",
       "      <td>243</td>\n",
       "    </tr>\n",
       "  </tbody>\n",
       "</table>\n",
       "</div>"
      ],
      "text/plain": [
       "   Company   Person  Sales\n",
       "0     APPL    Chris    350\n",
       "1     APPL     John    250\n",
       "2     APPL    Linda    130\n",
       "3     APPL     Mike    750\n",
       "4       FB     Carl    870\n",
       "5       FB    Sarah    350\n",
       "6     GOOG  Charlie    120\n",
       "7     GOOG    Frank    340\n",
       "8     GOOG      Sam    200\n",
       "9     MSFT      Amy    124\n",
       "10    MSFT     Tina    600\n",
       "11    MSFT  Vanessa    243"
      ]
     },
     "execution_count": 22,
     "metadata": {},
     "output_type": "execute_result"
    }
   ],
   "source": [
    "df.groupby(['Company','Person']).sum('Sales').reset_index()\n"
   ]
  },
  {
   "cell_type": "code",
   "execution_count": 30,
   "metadata": {},
   "outputs": [
    {
     "name": "stdout",
     "output_type": "stream",
     "text": [
      "  Company  Sales\n",
      "0    APPL   1480\n",
      "1      FB   1220\n",
      "2    GOOG    660\n",
      "3    MSFT    967\n"
     ]
    }
   ],
   "source": [
    "df_2 = df.groupby('Company').agg({'Sales':'sum'}).reset_index()\n",
    "print(df_2)"
   ]
  },
  {
   "cell_type": "code",
   "execution_count": 34,
   "metadata": {},
   "outputs": [
    {
     "name": "stdout",
     "output_type": "stream",
     "text": [
      "  Company  total_sales  num_persons\n",
      "0    APPL         1480            4\n",
      "1      FB         1220            2\n",
      "2    GOOG          660            3\n",
      "3    MSFT          967            3\n"
     ]
    }
   ],
   "source": [
    "df_2_1 = df.groupby('Company').agg(\\\n",
    "total_sales=('Sales','sum'),\\\n",
    "num_persons=('Person','count')\n",
    ")\\\n",
    ".reset_index()\\\n",
    "\n",
    "print(df_2_1)"
   ]
  },
  {
   "cell_type": "markdown",
   "metadata": {},
   "source": [
    "Creating visuals\n"
   ]
  },
  {
   "cell_type": "code",
   "execution_count": 55,
   "metadata": {},
   "outputs": [
    {
     "name": "stderr",
     "output_type": "stream",
     "text": [
      "/var/folders/c4/7p0dsfgx11b12ysjrzs_hf940000gn/T/ipykernel_3336/1612603297.py:14: UserWarning: No artists with labels found to put in legend.  Note that artists whose label start with an underscore are ignored when legend() is called with no argument.\n",
      "  plt.legend()\n"
     ]
    },
    {
     "data": {
      "image/png": "[encoded data removed]",
      "text/plain": [
       "<Figure size 1000x600 with 1 Axes>"
      ]
     },
     "metadata": {},
     "output_type": "display_data"
    }
   ],
   "source": [
    "\n",
    "# Configura o tamanho da figura\n",
    "plt.figure(figsize=(10, 6))\n",
    "\n",
    "# Cria o gráfico de barras para 'total_sales'\n",
    "plt.bar(df_2_1['Company'],df_2_1['total_sales'],color = 'Red',width=0.4)\n",
    "\n",
    "\n",
    "# Adiciona rótulos e título\n",
    "plt.xlabel('Company')\n",
    "plt.ylabel('Sales')\n",
    "plt.title('Sales by company')\n",
    "\n",
    "# Mostra a legenda\n",
    "plt.legend()\n",
    "\n",
    "# Mostra o gráfico\n",
    "plt.show()"
   ]
  },
  {
   "cell_type": "code",
   "execution_count": 57,
   "metadata": {},
   "outputs": [
    {
     "name": "stderr",
     "output_type": "stream",
     "text": [
      "/var/folders/c4/7p0dsfgx11b12ysjrzs_hf940000gn/T/ipykernel_3336/3090766053.py:19: UserWarning: No artists with labels found to put in legend.  Note that artists whose label start with an underscore are ignored when legend() is called with no argument.\n",
      "  plt.legend()\n"
     ]
    },
    {
     "data": {
      "image/png": "[encoded data removed]",
      "text/plain": [
       "<Figure size 1000x600 with 1 Axes>"
      ]
     },
     "metadata": {},
     "output_type": "display_data"
    }
   ],
   "source": [
    "\n",
    "# Configura o tamanho da figura\n",
    "plt.figure(figsize=(10, 6))\n",
    "\n",
    "#dados\n",
    "company = df_2_1['Company']\n",
    "total_sales= df_2_1['total_sales']\n",
    "num_persons= df_2_1['num_persons']\n",
    "\n",
    "# Cria o gráfico de barras para 'total_sales'\n",
    "plt.bar(company,total_sales,color = 'Red',width=0.4)\n",
    "\n",
    "\n",
    "# Adiciona rótulos e título\n",
    "plt.xlabel('Company')\n",
    "plt.ylabel('Sales')\n",
    "plt.title('Sales by company')\n",
    "\n",
    "# Mostra a legenda\n",
    "plt.legend()\n",
    "\n",
    "# Mostra o gráfico\n",
    "plt.show()"
   ]
  },
  {
   "cell_type": "code",
   "execution_count": 58,
   "metadata": {},
   "outputs": [
    {
     "data": {
      "image/png": "[encoded data removed]",
      "text/plain": [
       "<Figure size 1000x600 with 1 Axes>"
      ]
     },
     "metadata": {},
     "output_type": "display_data"
    }
   ],
   "source": [
    "# Configura o tamanho da figura\n",
    "plt.figure(figsize=(10, 6))\n",
    "\n",
    "#dados\n",
    "company = df_2_1['Company']\n",
    "total_sales= df_2_1['total_sales']\n",
    "num_persons= df_2_1['num_persons']\n",
    "\n",
    "# Cria o gráfico de barras para 'total_sales'\n",
    "plt.bar(company,total_sales,color = 'Red',width=0.4)\n",
    "\n",
    "\n",
    "# Definindo a largura das barras\n",
    "bar_width = 0.4\n",
    "index = np.arange(len(company))  # Posições no eixo X\n",
    "\n",
    "\n",
    "# Cria as barras para total_sales e num_persons\n",
    "plt.bar(index, total_sales, bar_width, color='red', label='Total Sales')\n",
    "plt.bar(index + bar_width, num_persons, bar_width, color='blue', label='Number of Persons')\n",
    "\n",
    "\n",
    "\n",
    "# Adiciona rótulos e título\n",
    "plt.xlabel('Company')\n",
    "plt.ylabel('Sales and num of persons')\n",
    "plt.title('Sales and persons by Company')\n",
    "plt.xticks(index + bar_width / 2, company)  # Define as labels do eixo X para ficarem no centro das barras\n",
    "\n",
    "\n",
    "# Mostra a legenda\n",
    "plt.legend()\n",
    "\n",
    "# Mostra o gráfico\n",
    "plt.show()"
   ]
  },
  {
   "cell_type": "code",
   "execution_count": null,
   "metadata": {},
   "outputs": [],
   "source": []
  }
 ],
 "metadata": {
  "kernelspec": {
   "display_name": "base",
   "language": "python",
   "name": "python3"
  },
  "language_info": {
   "codemirror_mode": {
    "name": "ipython",
    "version": 3
   },
   "file_extension": ".py",
   "mimetype": "text/x-python",
   "name": "python",
   "nbconvert_exporter": "python",
   "pygments_lexer": "ipython3",
   "version": "3.12.2"
  }
 },
 "nbformat": 4,
 "nbformat_minor": 2
}
