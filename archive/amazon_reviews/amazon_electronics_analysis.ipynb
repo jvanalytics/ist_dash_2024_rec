{
 "cells": [
  {
   "cell_type": "markdown",
   "metadata": {},
   "source": [
    "# Library Import and files\n",
    "\n",
    "- Files available here: https://amazon-reviews-2023.github.io/"
   ]
  },
  {
   "cell_type": "markdown",
   "metadata": {},
   "source": [
    "## nvidia rapids verification to run using rapids ubuntu"
   ]
  },
  {
   "cell_type": "code",
   "execution_count": 56,
   "metadata": {},
   "outputs": [
    {
     "name": "stdout",
     "output_type": "stream",
     "text": [
      "`nvidia-smi` command not found. Using CPU-based `pandas`.\n"
     ]
    }
   ],
   "source": [
    "import subprocess\n",
    "import pandas as pd\n",
    "\n",
    "def check_nvidia_gpu():\n",
    "    try:\n",
    "        # Check if NVIDIA GPU is available using nvidia-smi\n",
    "        result = subprocess.run(['nvidia-smi'], stdout=subprocess.PIPE, stderr=subprocess.PIPE, text=True)\n",
    "        if result.returncode == 0:\n",
    "            print(\"NVIDIA GPU detected.\")\n",
    "            return True\n",
    "        else:\n",
    "            print(\"No NVIDIA GPU detected. Using CPU-based `pandas`.\")\n",
    "            return False\n",
    "    except FileNotFoundError:\n",
    "        print(\"`nvidia-smi` command not found. Using CPU-based `pandas`.\")\n",
    "        return False\n",
    "    except Exception as e:\n",
    "        print(f\"An error occurred while checking for the GPU: {str(e)}. Using CPU-based `pandas`.\")\n",
    "        return False\n",
    "\n",
    "if __name__ == \"__main__\":\n",
    "    # Check if we have a GPU\n",
    "    gpu_available = check_nvidia_gpu()\n",
    "\n",
    "    if gpu_available:\n",
    "        try:\n",
    "            # Load the cuDF extension to accelerate pandas with the GPU\n",
    "            print(\"Loading GPU-accelerated `cudf.pandas`...\")\n",
    "            # Ensure this works inside Jupyter using the `%load_ext` magic command\n",
    "            get_ipython().run_line_magic('load_ext', 'cudf.pandas')\n",
    "            print(\"GPU acceleration enabled!\")\n",
    "        except Exception as e:\n",
    "            print(f\"Failed to load `cudf.pandas`. Error: {e}\")\n",
    "            print(\"Falling back to CPU-based `pandas`.\")\n",
    "\n"
   ]
  },
  {
   "cell_type": "markdown",
   "metadata": {},
   "source": [
    "# Local File"
   ]
  },
  {
   "cell_type": "code",
   "execution_count": 57,
   "metadata": {},
   "outputs": [
    {
     "ename": "KeyboardInterrupt",
     "evalue": "",
     "output_type": "error",
     "traceback": [
      "\u001b[1;31m---------------------------------------------------------------------------\u001b[0m",
      "\u001b[1;31mKeyboardInterrupt\u001b[0m                         Traceback (most recent call last)",
      "\u001b[1;32m~\\AppData\\Local\\Temp\\ipykernel_17128\\3285943906.py\u001b[0m in \u001b[0;36m?\u001b[1;34m()\u001b[0m\n\u001b[0;32m      8\u001b[0m \u001b[1;31m# Initialize an empty list to store the chunks\u001b[0m\u001b[1;33m\u001b[0m\u001b[1;33m\u001b[0m\u001b[0m\n\u001b[0;32m      9\u001b[0m \u001b[0mchunks\u001b[0m \u001b[1;33m=\u001b[0m \u001b[1;33m[\u001b[0m\u001b[1;33m]\u001b[0m\u001b[1;33m\u001b[0m\u001b[1;33m\u001b[0m\u001b[0m\n\u001b[0;32m     10\u001b[0m \u001b[1;33m\u001b[0m\u001b[0m\n\u001b[0;32m     11\u001b[0m \u001b[1;31m# Load the first chunk (or any number of chunks you want)\u001b[0m\u001b[1;33m\u001b[0m\u001b[1;33m\u001b[0m\u001b[0m\n\u001b[1;32m---> 12\u001b[1;33m \u001b[1;32mfor\u001b[0m \u001b[0mchunk\u001b[0m \u001b[1;32min\u001b[0m \u001b[0mpd\u001b[0m\u001b[1;33m.\u001b[0m\u001b[0mread_json\u001b[0m\u001b[1;33m(\u001b[0m\u001b[0mfile_path\u001b[0m\u001b[1;33m,\u001b[0m \u001b[0mlines\u001b[0m\u001b[1;33m=\u001b[0m\u001b[1;32mTrue\u001b[0m\u001b[1;33m,\u001b[0m \u001b[0mchunksize\u001b[0m\u001b[1;33m=\u001b[0m\u001b[0mchunk_size\u001b[0m\u001b[1;33m)\u001b[0m\u001b[1;33m:\u001b[0m\u001b[1;33m\u001b[0m\u001b[1;33m\u001b[0m\u001b[0m\n\u001b[0m\u001b[0;32m     13\u001b[0m     \u001b[0mchunks\u001b[0m\u001b[1;33m.\u001b[0m\u001b[0mappend\u001b[0m\u001b[1;33m(\u001b[0m\u001b[0mchunk\u001b[0m\u001b[1;33m)\u001b[0m\u001b[1;33m\u001b[0m\u001b[1;33m\u001b[0m\u001b[0m\n\u001b[0;32m     14\u001b[0m     \u001b[1;31m# Break after the first chunk to load only a sample\u001b[0m\u001b[1;33m\u001b[0m\u001b[1;33m\u001b[0m\u001b[0m\n\u001b[0;32m     15\u001b[0m     \u001b[1;32mbreak\u001b[0m\u001b[1;33m\u001b[0m\u001b[1;33m\u001b[0m\u001b[0m\n",
      "\u001b[1;32mc:\\ProgramData\\anaconda3\\Lib\\site-packages\\pandas\\io\\json\\_json.py\u001b[0m in \u001b[0;36m?\u001b[1;34m(self)\u001b[0m\n\u001b[0;32m   1098\u001b[0m \u001b[1;33m\u001b[0m\u001b[0m\n\u001b[0;32m   1099\u001b[0m             \u001b[1;31m# Make sure that the returned objects have the right index.\u001b[0m\u001b[1;33m\u001b[0m\u001b[1;33m\u001b[0m\u001b[0m\n\u001b[0;32m   1100\u001b[0m             \u001b[0mobj\u001b[0m\u001b[1;33m.\u001b[0m\u001b[0mindex\u001b[0m \u001b[1;33m=\u001b[0m \u001b[0mrange\u001b[0m\u001b[1;33m(\u001b[0m\u001b[0mself\u001b[0m\u001b[1;33m.\u001b[0m\u001b[0mnrows_seen\u001b[0m\u001b[1;33m,\u001b[0m \u001b[0mself\u001b[0m\u001b[1;33m.\u001b[0m\u001b[0mnrows_seen\u001b[0m \u001b[1;33m+\u001b[0m \u001b[0mlen\u001b[0m\u001b[1;33m(\u001b[0m\u001b[0mobj\u001b[0m\u001b[1;33m)\u001b[0m\u001b[1;33m)\u001b[0m\u001b[1;33m\u001b[0m\u001b[1;33m\u001b[0m\u001b[0m\n\u001b[0;32m   1101\u001b[0m             \u001b[0mself\u001b[0m\u001b[1;33m.\u001b[0m\u001b[0mnrows_seen\u001b[0m \u001b[1;33m+=\u001b[0m \u001b[0mlen\u001b[0m\u001b[1;33m(\u001b[0m\u001b[0mobj\u001b[0m\u001b[1;33m)\u001b[0m\u001b[1;33m\u001b[0m\u001b[1;33m\u001b[0m\u001b[0m\n\u001b[1;32m-> 1102\u001b[1;33m         \u001b[1;32mexcept\u001b[0m \u001b[0mException\u001b[0m \u001b[1;32mas\u001b[0m \u001b[0mex\u001b[0m\u001b[1;33m:\u001b[0m\u001b[1;33m\u001b[0m\u001b[1;33m\u001b[0m\u001b[0m\n\u001b[0m\u001b[0;32m   1103\u001b[0m             \u001b[0mself\u001b[0m\u001b[1;33m.\u001b[0m\u001b[0mclose\u001b[0m\u001b[1;33m(\u001b[0m\u001b[1;33m)\u001b[0m\u001b[1;33m\u001b[0m\u001b[1;33m\u001b[0m\u001b[0m\n\u001b[0;32m   1104\u001b[0m             \u001b[1;32mraise\u001b[0m \u001b[0mex\u001b[0m\u001b[1;33m\u001b[0m\u001b[1;33m\u001b[0m\u001b[0m\n\u001b[0;32m   1105\u001b[0m \u001b[1;33m\u001b[0m\u001b[0m\n",
      "\u001b[1;32mc:\\ProgramData\\anaconda3\\Lib\\site-packages\\pandas\\io\\json\\_json.py\u001b[0m in \u001b[0;36m?\u001b[1;34m(self, json)\u001b[0m\n\u001b[0;32m   1047\u001b[0m             \u001b[1;34m\"dtype_backend\"\u001b[0m\u001b[1;33m:\u001b[0m \u001b[0mself\u001b[0m\u001b[1;33m.\u001b[0m\u001b[0mdtype_backend\u001b[0m\u001b[1;33m,\u001b[0m\u001b[1;33m\u001b[0m\u001b[1;33m\u001b[0m\u001b[0m\n\u001b[0;32m   1048\u001b[0m         \u001b[1;33m}\u001b[0m\u001b[1;33m\u001b[0m\u001b[1;33m\u001b[0m\u001b[0m\n\u001b[0;32m   1049\u001b[0m         \u001b[0mobj\u001b[0m \u001b[1;33m=\u001b[0m \u001b[1;32mNone\u001b[0m\u001b[1;33m\u001b[0m\u001b[1;33m\u001b[0m\u001b[0m\n\u001b[0;32m   1050\u001b[0m         \u001b[1;32mif\u001b[0m \u001b[0mtyp\u001b[0m \u001b[1;33m==\u001b[0m \u001b[1;34m\"frame\"\u001b[0m\u001b[1;33m:\u001b[0m\u001b[1;33m\u001b[0m\u001b[1;33m\u001b[0m\u001b[0m\n\u001b[1;32m-> 1051\u001b[1;33m             \u001b[0mobj\u001b[0m \u001b[1;33m=\u001b[0m \u001b[0mFrameParser\u001b[0m\u001b[1;33m(\u001b[0m\u001b[0mjson\u001b[0m\u001b[1;33m,\u001b[0m \u001b[1;33m**\u001b[0m\u001b[0mkwargs\u001b[0m\u001b[1;33m)\u001b[0m\u001b[1;33m.\u001b[0m\u001b[0mparse\u001b[0m\u001b[1;33m(\u001b[0m\u001b[1;33m)\u001b[0m\u001b[1;33m\u001b[0m\u001b[1;33m\u001b[0m\u001b[0m\n\u001b[0m\u001b[0;32m   1052\u001b[0m \u001b[1;33m\u001b[0m\u001b[0m\n\u001b[0;32m   1053\u001b[0m         \u001b[1;32mif\u001b[0m \u001b[0mtyp\u001b[0m \u001b[1;33m==\u001b[0m \u001b[1;34m\"series\"\u001b[0m \u001b[1;32mor\u001b[0m \u001b[0mobj\u001b[0m \u001b[1;32mis\u001b[0m \u001b[1;32mNone\u001b[0m\u001b[1;33m:\u001b[0m\u001b[1;33m\u001b[0m\u001b[1;33m\u001b[0m\u001b[0m\n\u001b[0;32m   1054\u001b[0m             \u001b[1;32mif\u001b[0m \u001b[1;32mnot\u001b[0m \u001b[0misinstance\u001b[0m\u001b[1;33m(\u001b[0m\u001b[0mdtype\u001b[0m\u001b[1;33m,\u001b[0m \u001b[0mbool\u001b[0m\u001b[1;33m)\u001b[0m\u001b[1;33m:\u001b[0m\u001b[1;33m\u001b[0m\u001b[1;33m\u001b[0m\u001b[0m\n",
      "\u001b[1;32mc:\\ProgramData\\anaconda3\\Lib\\site-packages\\pandas\\io\\json\\_json.py\u001b[0m in \u001b[0;36m?\u001b[1;34m(self)\u001b[0m\n\u001b[0;32m   1185\u001b[0m     \u001b[1;33m@\u001b[0m\u001b[0mfinal\u001b[0m\u001b[1;33m\u001b[0m\u001b[1;33m\u001b[0m\u001b[0m\n\u001b[0;32m   1186\u001b[0m     \u001b[1;32mdef\u001b[0m \u001b[0mparse\u001b[0m\u001b[1;33m(\u001b[0m\u001b[0mself\u001b[0m\u001b[1;33m)\u001b[0m\u001b[1;33m:\u001b[0m\u001b[1;33m\u001b[0m\u001b[1;33m\u001b[0m\u001b[0m\n\u001b[1;32m-> 1187\u001b[1;33m         \u001b[0mself\u001b[0m\u001b[1;33m.\u001b[0m\u001b[0m_parse\u001b[0m\u001b[1;33m(\u001b[0m\u001b[1;33m)\u001b[0m\u001b[1;33m\u001b[0m\u001b[1;33m\u001b[0m\u001b[0m\n\u001b[0m\u001b[0;32m   1188\u001b[0m \u001b[1;33m\u001b[0m\u001b[0m\n\u001b[0;32m   1189\u001b[0m         \u001b[1;32mif\u001b[0m \u001b[0mself\u001b[0m\u001b[1;33m.\u001b[0m\u001b[0mobj\u001b[0m \u001b[1;32mis\u001b[0m \u001b[1;32mNone\u001b[0m\u001b[1;33m:\u001b[0m\u001b[1;33m\u001b[0m\u001b[1;33m\u001b[0m\u001b[0m\n\u001b[0;32m   1190\u001b[0m             \u001b[1;32mreturn\u001b[0m \u001b[1;32mNone\u001b[0m\u001b[1;33m\u001b[0m\u001b[1;33m\u001b[0m\u001b[0m\n",
      "\u001b[1;32mc:\\ProgramData\\anaconda3\\Lib\\site-packages\\pandas\\io\\json\\_json.py\u001b[0m in \u001b[0;36m?\u001b[1;34m(self)\u001b[0m\n\u001b[0;32m   1398\u001b[0m         \u001b[0mjson\u001b[0m \u001b[1;33m=\u001b[0m \u001b[0mself\u001b[0m\u001b[1;33m.\u001b[0m\u001b[0mjson\u001b[0m\u001b[1;33m\u001b[0m\u001b[1;33m\u001b[0m\u001b[0m\n\u001b[0;32m   1399\u001b[0m         \u001b[0morient\u001b[0m \u001b[1;33m=\u001b[0m \u001b[0mself\u001b[0m\u001b[1;33m.\u001b[0m\u001b[0morient\u001b[0m\u001b[1;33m\u001b[0m\u001b[1;33m\u001b[0m\u001b[0m\n\u001b[0;32m   1400\u001b[0m \u001b[1;33m\u001b[0m\u001b[0m\n\u001b[0;32m   1401\u001b[0m         \u001b[1;32mif\u001b[0m \u001b[0morient\u001b[0m \u001b[1;33m==\u001b[0m \u001b[1;34m\"columns\"\u001b[0m\u001b[1;33m:\u001b[0m\u001b[1;33m\u001b[0m\u001b[1;33m\u001b[0m\u001b[0m\n\u001b[1;32m-> 1402\u001b[1;33m             self.obj = DataFrame(\n\u001b[0m\u001b[0;32m   1403\u001b[0m                 \u001b[0mujson_loads\u001b[0m\u001b[1;33m(\u001b[0m\u001b[0mjson\u001b[0m\u001b[1;33m,\u001b[0m \u001b[0mprecise_float\u001b[0m\u001b[1;33m=\u001b[0m\u001b[0mself\u001b[0m\u001b[1;33m.\u001b[0m\u001b[0mprecise_float\u001b[0m\u001b[1;33m)\u001b[0m\u001b[1;33m,\u001b[0m \u001b[0mdtype\u001b[0m\u001b[1;33m=\u001b[0m\u001b[1;32mNone\u001b[0m\u001b[1;33m\u001b[0m\u001b[1;33m\u001b[0m\u001b[0m\n\u001b[0;32m   1404\u001b[0m             \u001b[1;33m)\u001b[0m\u001b[1;33m\u001b[0m\u001b[1;33m\u001b[0m\u001b[0m\n\u001b[0;32m   1405\u001b[0m         \u001b[1;32melif\u001b[0m \u001b[0morient\u001b[0m \u001b[1;33m==\u001b[0m \u001b[1;34m\"split\"\u001b[0m\u001b[1;33m:\u001b[0m\u001b[1;33m\u001b[0m\u001b[1;33m\u001b[0m\u001b[0m\n",
      "\u001b[1;32mc:\\ProgramData\\anaconda3\\Lib\\site-packages\\pandas\\core\\frame.py\u001b[0m in \u001b[0;36m?\u001b[1;34m(self, data, index, columns, dtype, copy)\u001b[0m\n\u001b[1;32m--> 694\u001b[1;33m     def __init__(\n\u001b[0m\u001b[0;32m    695\u001b[0m         \u001b[0mself\u001b[0m\u001b[1;33m,\u001b[0m\u001b[1;33m\u001b[0m\u001b[1;33m\u001b[0m\u001b[0m\n\u001b[0;32m    696\u001b[0m         \u001b[0mdata\u001b[0m\u001b[1;33m=\u001b[0m\u001b[1;32mNone\u001b[0m\u001b[1;33m,\u001b[0m\u001b[1;33m\u001b[0m\u001b[1;33m\u001b[0m\u001b[0m\n\u001b[0;32m    697\u001b[0m         \u001b[0mindex\u001b[0m\u001b[1;33m:\u001b[0m \u001b[0mAxes\u001b[0m \u001b[1;33m|\u001b[0m \u001b[1;32mNone\u001b[0m \u001b[1;33m=\u001b[0m \u001b[1;32mNone\u001b[0m\u001b[1;33m,\u001b[0m\u001b[1;33m\u001b[0m\u001b[1;33m\u001b[0m\u001b[0m\n",
      "\u001b[1;31mKeyboardInterrupt\u001b[0m: "
     ]
    }
   ],
   "source": [
    "\n",
    "file_path='meta_Electronics.jsonl'\n",
    "\n",
    "\n",
    "\n",
    "# Specify the chunk size (e.g., load 1000 lines at a time)\n",
    "chunk_size = 500000\n",
    "\n",
    "# Initialize an empty list to store the chunks\n",
    "chunks = []\n",
    "\n",
    "# Load the first chunk (or any number of chunks you want)\n",
    "for chunk in pd.read_json(file_path, lines=True, chunksize=chunk_size):\n",
    "    chunks.append(chunk)\n",
    "    # Break after the first chunk to load only a sample\n",
    "    break\n",
    "\n",
    "# Concatenate the chunks into a single DataFrame (optional)\n",
    "df = pd.concat(chunks)\n",
    "\n",
    "# Print the sample data\n",
    "display(df.head())\n"
   ]
  },
  {
   "cell_type": "code",
   "execution_count": 7,
   "metadata": {},
   "outputs": [
    {
     "name": "stdout",
     "output_type": "stream",
     "text": [
      "<class 'pandas.core.frame.DataFrame'>\n",
      "RangeIndex: 100000 entries, 0 to 99999\n",
      "Data columns (total 16 columns):\n",
      " #   Column           Non-Null Count   Dtype  \n",
      "---  ------           --------------   -----  \n",
      " 0   main_category    98945 non-null   object \n",
      " 1   title            100000 non-null  object \n",
      " 2   average_rating   100000 non-null  float64\n",
      " 3   rating_number    100000 non-null  int64  \n",
      " 4   features         100000 non-null  object \n",
      " 5   description      100000 non-null  object \n",
      " 6   price            41829 non-null   object \n",
      " 7   images           100000 non-null  object \n",
      " 8   videos           100000 non-null  object \n",
      " 9   store            99445 non-null   object \n",
      " 10  categories       100000 non-null  object \n",
      " 11  details          100000 non-null  object \n",
      " 12  parent_asin      100000 non-null  object \n",
      " 13  bought_together  0 non-null       float64\n",
      " 14  subtitle         33 non-null      object \n",
      " 15  author           22 non-null      object \n",
      "dtypes: float64(2), int64(1), object(13)\n",
      "memory usage: 12.2+ MB\n"
     ]
    }
   ],
   "source": [
    "df.info()"
   ]
  },
  {
   "cell_type": "code",
   "execution_count": 8,
   "metadata": {},
   "outputs": [
    {
     "name": "stdout",
     "output_type": "stream",
     "text": [
      "100000\n"
     ]
    }
   ],
   "source": [
    "print(df['parent_asin'].nunique())"
   ]
  },
  {
   "cell_type": "markdown",
   "metadata": {},
   "source": [
    "# How many categories?"
   ]
  },
  {
   "cell_type": "code",
   "execution_count": 9,
   "metadata": {},
   "outputs": [
    {
     "name": "stdout",
     "output_type": "stream",
     "text": [
      "Maximum path length: 7\n"
     ]
    }
   ],
   "source": [
    "df['path_length'] = df['categories'].apply(len)\n",
    "\n",
    "max_path_length = df['path_length'].max()\n",
    "\n",
    "print(f\"Maximum path length: {max_path_length}\")\n"
   ]
  },
  {
   "cell_type": "markdown",
   "metadata": {},
   "source": [
    "## split df categories to then join with original df"
   ]
  },
  {
   "cell_type": "code",
   "execution_count": 10,
   "metadata": {},
   "outputs": [
    {
     "name": "stdout",
     "output_type": "stream",
     "text": [
      "<class 'pandas.core.frame.DataFrame'>\n",
      "RangeIndex: 100000 entries, 0 to 99999\n",
      "Data columns (total 24 columns):\n",
      " #   Column           Non-Null Count   Dtype  \n",
      "---  ------           --------------   -----  \n",
      " 0   main_category    98945 non-null   object \n",
      " 1   title            100000 non-null  object \n",
      " 2   average_rating   100000 non-null  float64\n",
      " 3   rating_number    100000 non-null  int64  \n",
      " 4   features         100000 non-null  object \n",
      " 5   description      100000 non-null  object \n",
      " 6   price            41829 non-null   object \n",
      " 7   images           100000 non-null  object \n",
      " 8   videos           100000 non-null  object \n",
      " 9   store            99445 non-null   object \n",
      " 10  categories       100000 non-null  object \n",
      " 11  details          100000 non-null  object \n",
      " 12  parent_asin      100000 non-null  object \n",
      " 13  bought_together  0 non-null       float64\n",
      " 14  subtitle         33 non-null      object \n",
      " 15  author           22 non-null      object \n",
      " 16  path_length      100000 non-null  int64  \n",
      " 17  category_1       100000 non-null  object \n",
      " 18  category_2       100000 non-null  object \n",
      " 19  category_3       100000 non-null  object \n",
      " 20  category_4       100000 non-null  object \n",
      " 21  category_5       100000 non-null  object \n",
      " 22  category_6       100000 non-null  object \n",
      " 23  category_7       100000 non-null  object \n",
      "dtypes: float64(2), int64(2), object(20)\n",
      "memory usage: 18.3+ MB\n"
     ]
    }
   ],
   "source": [
    "# Step 1: Split the 'categories' column into 9 columns\n",
    "df_split = df['categories'].apply(lambda x: ','.join(x)).str.split(',', expand=True)\n",
    "\n",
    "# Step 2: Rename columns (e.g., category_1, category_2, ..., category_9)\n",
    "df_split.columns = [f'category_{i+1}' for i in range(df_split.shape[1])]\n",
    "\n",
    "\n",
    "# Encode missing values as a new category, with page path number\n",
    "for col in df_split.columns:\n",
    "    df_split[col] = df_split[col].fillna(df['path_length'])\n",
    "\n",
    "\n",
    "# Step 3: Concatenate the new split columns back to the original DataFrame (df)\n",
    "df = pd.concat([df, df_split], axis=1)\n",
    "\n",
    "\n",
    "df.info()\n"
   ]
  },
  {
   "cell_type": "code",
   "execution_count": 11,
   "metadata": {},
   "outputs": [
    {
     "name": "stdout",
     "output_type": "stream",
     "text": [
      "main_category        1055\n",
      "title                   0\n",
      "average_rating          0\n",
      "rating_number           0\n",
      "features                0\n",
      "description             0\n",
      "price               58171\n",
      "images                  0\n",
      "videos                  0\n",
      "store                 555\n",
      "categories              0\n",
      "details                 0\n",
      "parent_asin             0\n",
      "bought_together    100000\n",
      "subtitle            99967\n",
      "author              99978\n",
      "path_length             0\n",
      "category_1              0\n",
      "category_2              0\n",
      "category_3              0\n",
      "category_4              0\n",
      "category_5              0\n",
      "category_6              0\n",
      "category_7              0\n",
      "dtype: int64\n"
     ]
    }
   ],
   "source": [
    "print(df.isnull().sum())\n"
   ]
  },
  {
   "cell_type": "markdown",
   "metadata": {},
   "source": [
    "# Image and video count"
   ]
  },
  {
   "cell_type": "code",
   "execution_count": 12,
   "metadata": {},
   "outputs": [],
   "source": [
    "df['num_images'] = df['images'].apply(len)\n",
    "\n",
    "df['num_videos'] = df['videos'].apply(len)\n"
   ]
  },
  {
   "cell_type": "markdown",
   "metadata": {},
   "source": [
    "# Feature string parsing"
   ]
  },
  {
   "cell_type": "markdown",
   "metadata": {},
   "source": [
    "## feature df"
   ]
  },
  {
   "cell_type": "code",
   "execution_count": 42,
   "metadata": {},
   "outputs": [
    {
     "name": "stdout",
     "output_type": "stream",
     "text": [
      "{'Brand': 'MTAKYA', 'Connector Type': 'USB Type C', 'Cable Type': 'Lightning', 'Compatible Devices': 'Charging Adapter, Smartphone', 'Special Feature': 'Braided, Tangle Free, Fast Charging', 'Package Dimensions': '7.6 x 5.75 x 0.51 inches; 2.89 Ounces', 'Date First Available': 'February 8, 2023', 'Manufacturer': 'Dongguan Lijie Electronic Technology Co., Ltd.'}\n"
     ]
    }
   ],
   "source": [
    "# generate random row sample to get values from dict\n",
    "print(df['details'].sample(n=1).iloc[0])\n"
   ]
  },
  {
   "cell_type": "code",
   "execution_count": 25,
   "metadata": {},
   "outputs": [],
   "source": [
    "df_feature = df[['title','average_rating','main_category','details','parent_asin']]"
   ]
  },
  {
   "cell_type": "code",
   "execution_count": 55,
   "metadata": {},
   "outputs": [
    {
     "data": {
      "text/html": [
       "<div>\n",
       "<style scoped>\n",
       "    .dataframe tbody tr th:only-of-type {\n",
       "        vertical-align: middle;\n",
       "    }\n",
       "\n",
       "    .dataframe tbody tr th {\n",
       "        vertical-align: top;\n",
       "    }\n",
       "\n",
       "    .dataframe thead th {\n",
       "        text-align: right;\n",
       "    }\n",
       "</style>\n",
       "<table border=\"1\" class=\"dataframe\">\n",
       "  <thead>\n",
       "    <tr style=\"text-align: right;\">\n",
       "      <th></th>\n",
       "      <th>title</th>\n",
       "      <th>average_rating</th>\n",
       "      <th>main_category</th>\n",
       "      <th>details</th>\n",
       "      <th>parent_asin</th>\n",
       "      <th>Brand</th>\n",
       "      <th>Package_Dimensions</th>\n",
       "    </tr>\n",
       "  </thead>\n",
       "  <tbody>\n",
       "    <tr>\n",
       "      <th>22060</th>\n",
       "      <td>[3 Colors] Leather Camera Case/bag For Olympus...</td>\n",
       "      <td>4.0</td>\n",
       "      <td>Computers</td>\n",
       "      <td>{'Manufacturer': 'shoppers3 (Olympus )', 'Item...</td>\n",
       "      <td>B005CLNC20</td>\n",
       "      <td>Shoppers3 (Olympus )</td>\n",
       "      <td>None</td>\n",
       "    </tr>\n",
       "    <tr>\n",
       "      <th>37313</th>\n",
       "      <td>ReplacementScrews Stand Screws Compatible with...</td>\n",
       "      <td>2.4</td>\n",
       "      <td>All Electronics</td>\n",
       "      <td>{'Package Dimensions': '6.5 x 3.5 x 0.5 inches...</td>\n",
       "      <td>B07QP8WFWD</td>\n",
       "      <td>ReplacementScrews</td>\n",
       "      <td>6.5 x 3.5 x 0.5 inches</td>\n",
       "    </tr>\n",
       "    <tr>\n",
       "      <th>49</th>\n",
       "      <td>IU3D Low Noise DC 24V 0.12A 4010 Brushless Fan...</td>\n",
       "      <td>3.3</td>\n",
       "      <td>Industrial &amp; Scientific</td>\n",
       "      <td>{'Brand': 'IU3D', 'Power Connector Type': '2-P...</td>\n",
       "      <td>B08T8BSHQ9</td>\n",
       "      <td>IU3D</td>\n",
       "      <td>5.16 x 4.29 x 1.42 inches; 1.45 Ounces</td>\n",
       "    </tr>\n",
       "    <tr>\n",
       "      <th>74807</th>\n",
       "      <td>Precision Design PD-FD300 Bounce Flash Diffuse...</td>\n",
       "      <td>3.4</td>\n",
       "      <td>Camera &amp; Photo</td>\n",
       "      <td>{'Package Dimensions': '6.7 x 5.4 x 2.2 inches...</td>\n",
       "      <td>B003733QRQ</td>\n",
       "      <td>None</td>\n",
       "      <td>6.7 x 5.4 x 2.2 inches</td>\n",
       "    </tr>\n",
       "    <tr>\n",
       "      <th>29674</th>\n",
       "      <td>CORSAIR VENGEANCE RGB PRO 16GB (2x8GB) DDR4 40...</td>\n",
       "      <td>4.8</td>\n",
       "      <td>Computers</td>\n",
       "      <td>{'RAM': '16 GB DDR4', 'Memory Speed': '4000 MH...</td>\n",
       "      <td>B07DKMJ61N</td>\n",
       "      <td>Corsair</td>\n",
       "      <td>None</td>\n",
       "    </tr>\n",
       "    <tr>\n",
       "      <th>48155</th>\n",
       "      <td>Husky Mounts Full Motion TV Wall Mount Articul...</td>\n",
       "      <td>4.2</td>\n",
       "      <td>All Electronics</td>\n",
       "      <td>{'Brand Name': 'Husky Mounts', 'Item Weight': ...</td>\n",
       "      <td>B00XZHBVZI</td>\n",
       "      <td>Husky Mounts</td>\n",
       "      <td>None</td>\n",
       "    </tr>\n",
       "    <tr>\n",
       "      <th>81149</th>\n",
       "      <td>HMDX Go XL Portable Speaker Case, HX-GO4GY Gray</td>\n",
       "      <td>3.8</td>\n",
       "      <td>Cell Phones &amp; Accessories</td>\n",
       "      <td>{'Product Dimensions': '4 x 0.75 x 6.5 inches'...</td>\n",
       "      <td>B00CDJ6OJ2</td>\n",
       "      <td>HMDX</td>\n",
       "      <td>None</td>\n",
       "    </tr>\n",
       "    <tr>\n",
       "      <th>99940</th>\n",
       "      <td>100PCS Mixed Cartoon Stickers, Cute Cartoon Ch...</td>\n",
       "      <td>4.3</td>\n",
       "      <td>Amazon Home</td>\n",
       "      <td>{'Brand': 'DDUAN', 'Color': 'Multicolor', 'Roo...</td>\n",
       "      <td>B0B2RBG35G</td>\n",
       "      <td>DDUAN</td>\n",
       "      <td>4.06 x 2.76 x 0.47 inches</td>\n",
       "    </tr>\n",
       "    <tr>\n",
       "      <th>11401</th>\n",
       "      <td>Universal 10 10.1 Inch Android Tablet Case, Un...</td>\n",
       "      <td>4.5</td>\n",
       "      <td>Cell Phones &amp; Accessories</td>\n",
       "      <td>{'Product Dimensions': '10.5 x 7.4 x 0.6 inche...</td>\n",
       "      <td>B0C1PC2B8Q</td>\n",
       "      <td>Dluggs</td>\n",
       "      <td>None</td>\n",
       "    </tr>\n",
       "    <tr>\n",
       "      <th>454</th>\n",
       "      <td>Canon BP-2L5 Battery - Replacement for Canon N...</td>\n",
       "      <td>1.0</td>\n",
       "      <td>Camera &amp; Photo</td>\n",
       "      <td>{'Item model number': 'NB-2LH-DL2', 'Date Firs...</td>\n",
       "      <td>B00GWVPZSI</td>\n",
       "      <td>None</td>\n",
       "      <td>None</td>\n",
       "    </tr>\n",
       "  </tbody>\n",
       "</table>\n",
       "</div>"
      ],
      "text/plain": [
       "                                                   title  average_rating  \\\n",
       "22060  [3 Colors] Leather Camera Case/bag For Olympus...             4.0   \n",
       "37313  ReplacementScrews Stand Screws Compatible with...             2.4   \n",
       "49     IU3D Low Noise DC 24V 0.12A 4010 Brushless Fan...             3.3   \n",
       "74807  Precision Design PD-FD300 Bounce Flash Diffuse...             3.4   \n",
       "29674  CORSAIR VENGEANCE RGB PRO 16GB (2x8GB) DDR4 40...             4.8   \n",
       "48155  Husky Mounts Full Motion TV Wall Mount Articul...             4.2   \n",
       "81149    HMDX Go XL Portable Speaker Case, HX-GO4GY Gray             3.8   \n",
       "99940  100PCS Mixed Cartoon Stickers, Cute Cartoon Ch...             4.3   \n",
       "11401  Universal 10 10.1 Inch Android Tablet Case, Un...             4.5   \n",
       "454    Canon BP-2L5 Battery - Replacement for Canon N...             1.0   \n",
       "\n",
       "                   main_category  \\\n",
       "22060                  Computers   \n",
       "37313            All Electronics   \n",
       "49       Industrial & Scientific   \n",
       "74807             Camera & Photo   \n",
       "29674                  Computers   \n",
       "48155            All Electronics   \n",
       "81149  Cell Phones & Accessories   \n",
       "99940                Amazon Home   \n",
       "11401  Cell Phones & Accessories   \n",
       "454               Camera & Photo   \n",
       "\n",
       "                                                 details parent_asin  \\\n",
       "22060  {'Manufacturer': 'shoppers3 (Olympus )', 'Item...  B005CLNC20   \n",
       "37313  {'Package Dimensions': '6.5 x 3.5 x 0.5 inches...  B07QP8WFWD   \n",
       "49     {'Brand': 'IU3D', 'Power Connector Type': '2-P...  B08T8BSHQ9   \n",
       "74807  {'Package Dimensions': '6.7 x 5.4 x 2.2 inches...  B003733QRQ   \n",
       "29674  {'RAM': '16 GB DDR4', 'Memory Speed': '4000 MH...  B07DKMJ61N   \n",
       "48155  {'Brand Name': 'Husky Mounts', 'Item Weight': ...  B00XZHBVZI   \n",
       "81149  {'Product Dimensions': '4 x 0.75 x 6.5 inches'...  B00CDJ6OJ2   \n",
       "99940  {'Brand': 'DDUAN', 'Color': 'Multicolor', 'Roo...  B0B2RBG35G   \n",
       "11401  {'Product Dimensions': '10.5 x 7.4 x 0.6 inche...  B0C1PC2B8Q   \n",
       "454    {'Item model number': 'NB-2LH-DL2', 'Date Firs...  B00GWVPZSI   \n",
       "\n",
       "                      Brand                      Package_Dimensions  \n",
       "22060  Shoppers3 (Olympus )                                    None  \n",
       "37313     ReplacementScrews                  6.5 x 3.5 x 0.5 inches  \n",
       "49                     IU3D  5.16 x 4.29 x 1.42 inches; 1.45 Ounces  \n",
       "74807                  None                  6.7 x 5.4 x 2.2 inches  \n",
       "29674               Corsair                                    None  \n",
       "48155          Husky Mounts                                    None  \n",
       "81149                  HMDX                                    None  \n",
       "99940                 DDUAN               4.06 x 2.76 x 0.47 inches  \n",
       "11401                Dluggs                                    None  \n",
       "454                    None                                    None  "
      ]
     },
     "metadata": {},
     "output_type": "display_data"
    }
   ],
   "source": [
    "display(df_feature.sample(n=10))"
   ]
  },
  {
   "cell_type": "code",
   "execution_count": null,
   "metadata": {},
   "outputs": [],
   "source": [
    "# unique_keys = set()\n",
    "# for details_dict in df_feature['details']:\n",
    "#     if isinstance(details_dict, dict):  # Ensure it's a dictionary\n",
    "#         unique_keys.update(details_dict.keys())\n",
    "\n",
    "# # Display the unique keys\n",
    "# print(unique_keys)"
   ]
  },
  {
   "cell_type": "code",
   "execution_count": 29,
   "metadata": {},
   "outputs": [
    {
     "name": "stderr",
     "output_type": "stream",
     "text": [
      "C:\\Users\\João Valente\\AppData\\Local\\Temp\\ipykernel_17128\\1785869541.py:10: SettingWithCopyWarning: \n",
      "A value is trying to be set on a copy of a slice from a DataFrame.\n",
      "Try using .loc[row_indexer,col_indexer] = value instead\n",
      "\n",
      "See the caveats in the documentation: https://pandas.pydata.org/pandas-docs/stable/user_guide/indexing.html#returning-a-view-versus-a-copy\n",
      "  df_feature[column_name] = df_feature['details'].apply(lambda x: x.get(key, None))\n",
      "C:\\Users\\João Valente\\AppData\\Local\\Temp\\ipykernel_17128\\1785869541.py:10: SettingWithCopyWarning: \n",
      "A value is trying to be set on a copy of a slice from a DataFrame.\n",
      "Try using .loc[row_indexer,col_indexer] = value instead\n",
      "\n",
      "See the caveats in the documentation: https://pandas.pydata.org/pandas-docs/stable/user_guide/indexing.html#returning-a-view-versus-a-copy\n",
      "  df_feature[column_name] = df_feature['details'].apply(lambda x: x.get(key, None))\n"
     ]
    }
   ],
   "source": [
    "keys_to_extract = [\n",
    "    'Brand',\n",
    "    'Package Dimensions',\n",
    "]\n",
    "\n",
    "\n",
    "# Loop over the list of keys and create new columns in the DataFrame\n",
    "for key in keys_to_extract:\n",
    "    column_name = key.replace(' ', '_').replace('By', '_By')  # Replace spaces and handle \"By\" for column names\n",
    "    df_feature[column_name] = df_feature['details'].apply(lambda x: x.get(key, None))\n"
   ]
  },
  {
   "cell_type": "code",
   "execution_count": 36,
   "metadata": {},
   "outputs": [
    {
     "data": {
      "text/html": [
       "<div>\n",
       "<style scoped>\n",
       "    .dataframe tbody tr th:only-of-type {\n",
       "        vertical-align: middle;\n",
       "    }\n",
       "\n",
       "    .dataframe tbody tr th {\n",
       "        vertical-align: top;\n",
       "    }\n",
       "\n",
       "    .dataframe thead th {\n",
       "        text-align: right;\n",
       "    }\n",
       "</style>\n",
       "<table border=\"1\" class=\"dataframe\">\n",
       "  <thead>\n",
       "    <tr style=\"text-align: right;\">\n",
       "      <th></th>\n",
       "      <th>title</th>\n",
       "      <th>average_rating</th>\n",
       "      <th>main_category</th>\n",
       "      <th>details</th>\n",
       "      <th>parent_asin</th>\n",
       "      <th>Brand</th>\n",
       "      <th>Package_Dimensions</th>\n",
       "    </tr>\n",
       "  </thead>\n",
       "  <tbody>\n",
       "    <tr>\n",
       "      <th>19122</th>\n",
       "      <td>SDNP80 Lithium-Ion Battery - Rechargeable Ultr...</td>\n",
       "      <td>3.2</td>\n",
       "      <td>All Electronics</td>\n",
       "      <td>{'Package Dimensions': '2 x 2 x 2 inches', 'It...</td>\n",
       "      <td>B00HXWFK1M</td>\n",
       "      <td>Synergy Digital</td>\n",
       "      <td>2 x 2 x 2 inches</td>\n",
       "    </tr>\n",
       "    <tr>\n",
       "      <th>63297</th>\n",
       "      <td>Finis SWIMP3 1G Waterproof 1GB MP3 Player with...</td>\n",
       "      <td>4.5</td>\n",
       "      <td>Home Audio &amp; Theater</td>\n",
       "      <td>{'Manufacturer': 'Finis', 'Date First Availabl...</td>\n",
       "      <td>B00366RGE8</td>\n",
       "      <td>FINIS</td>\n",
       "      <td>None</td>\n",
       "    </tr>\n",
       "    <tr>\n",
       "      <th>28211</th>\n",
       "      <td>LiViTech(TM Modern Art Flower Design Series 36...</td>\n",
       "      <td>4.5</td>\n",
       "      <td>Computers</td>\n",
       "      <td>{'Other display features': 'PC Accessory', 'Co...</td>\n",
       "      <td>B00GU58K6K</td>\n",
       "      <td>LiViTech</td>\n",
       "      <td>None</td>\n",
       "    </tr>\n",
       "    <tr>\n",
       "      <th>42447</th>\n",
       "      <td>KNACRO PWM-to-Voltage Module 0% -100% PWM Conv...</td>\n",
       "      <td>3.1</td>\n",
       "      <td>All Electronics</td>\n",
       "      <td>{'Package Dimensions': '6.02 x 4.21 x 0.55 inc...</td>\n",
       "      <td>B0797NBC79</td>\n",
       "      <td>KNACRO</td>\n",
       "      <td>6.02 x 4.21 x 0.55 inches</td>\n",
       "    </tr>\n",
       "    <tr>\n",
       "      <th>34846</th>\n",
       "      <td>MC Vinyl 7x5ft Litter Baby Boss Boys Theme Pho...</td>\n",
       "      <td>4.8</td>\n",
       "      <td>Camera &amp; Photo</td>\n",
       "      <td>{'Package Dimensions': '12.9 x 9.2 x 0.6 inche...</td>\n",
       "      <td>B07RSQY4LL</td>\n",
       "      <td>None</td>\n",
       "      <td>12.9 x 9.2 x 0.6 inches</td>\n",
       "    </tr>\n",
       "    <tr>\n",
       "      <th>56208</th>\n",
       "      <td>ASUS ZenPad 10 10.1-inch IPS WXGA (1920x1200) ...</td>\n",
       "      <td>4.1</td>\n",
       "      <td>Computers</td>\n",
       "      <td>{'Standing screen display size': '10.1 Inches'...</td>\n",
       "      <td>B01MYGPQSK</td>\n",
       "      <td>ASUS</td>\n",
       "      <td>None</td>\n",
       "    </tr>\n",
       "    <tr>\n",
       "      <th>83897</th>\n",
       "      <td>Hynix HMT325S6CFR8C-PB 2GB DDR3 1600MHz CL11 2...</td>\n",
       "      <td>4.7</td>\n",
       "      <td>Computers</td>\n",
       "      <td>{'Package Dimensions': '3.7 x 3.1 x 0.02 inche...</td>\n",
       "      <td>B00L3QXI6S</td>\n",
       "      <td>Hynix</td>\n",
       "      <td>3.7 x 3.1 x 0.02 inches</td>\n",
       "    </tr>\n",
       "    <tr>\n",
       "      <th>98869</th>\n",
       "      <td>WiFi Extenders 1200Mbps Signal Booster for Hom...</td>\n",
       "      <td>3.5</td>\n",
       "      <td>Computers</td>\n",
       "      <td>{'Product Dimensions': '2 x 2 x 1.5 inches', '...</td>\n",
       "      <td>B08BJWTSPP</td>\n",
       "      <td>Getue</td>\n",
       "      <td>None</td>\n",
       "    </tr>\n",
       "    <tr>\n",
       "      <th>22260</th>\n",
       "      <td>cyen Adapter Headphone Adapter Headphone Adapt...</td>\n",
       "      <td>3.8</td>\n",
       "      <td>All Electronics</td>\n",
       "      <td>{'Product Dimensions': '8.3 x 2 x 5.5 inches',...</td>\n",
       "      <td>B07FVY8K5R</td>\n",
       "      <td>CYen</td>\n",
       "      <td>None</td>\n",
       "    </tr>\n",
       "    <tr>\n",
       "      <th>34409</th>\n",
       "      <td>HP 697738-001 Unbranded Portia USB Mouse</td>\n",
       "      <td>1.0</td>\n",
       "      <td>Computers</td>\n",
       "      <td>{'Package Dimensions': '6 x 5.5 x 1.9 inches',...</td>\n",
       "      <td>B014QIXE8Q</td>\n",
       "      <td>HP</td>\n",
       "      <td>6 x 5.5 x 1.9 inches</td>\n",
       "    </tr>\n",
       "  </tbody>\n",
       "</table>\n",
       "</div>"
      ],
      "text/plain": [
       "                                                   title  average_rating  \\\n",
       "19122  SDNP80 Lithium-Ion Battery - Rechargeable Ultr...             3.2   \n",
       "63297  Finis SWIMP3 1G Waterproof 1GB MP3 Player with...             4.5   \n",
       "28211  LiViTech(TM Modern Art Flower Design Series 36...             4.5   \n",
       "42447  KNACRO PWM-to-Voltage Module 0% -100% PWM Conv...             3.1   \n",
       "34846  MC Vinyl 7x5ft Litter Baby Boss Boys Theme Pho...             4.8   \n",
       "56208  ASUS ZenPad 10 10.1-inch IPS WXGA (1920x1200) ...             4.1   \n",
       "83897  Hynix HMT325S6CFR8C-PB 2GB DDR3 1600MHz CL11 2...             4.7   \n",
       "98869  WiFi Extenders 1200Mbps Signal Booster for Hom...             3.5   \n",
       "22260  cyen Adapter Headphone Adapter Headphone Adapt...             3.8   \n",
       "34409           HP 697738-001 Unbranded Portia USB Mouse             1.0   \n",
       "\n",
       "              main_category  \\\n",
       "19122       All Electronics   \n",
       "63297  Home Audio & Theater   \n",
       "28211             Computers   \n",
       "42447       All Electronics   \n",
       "34846        Camera & Photo   \n",
       "56208             Computers   \n",
       "83897             Computers   \n",
       "98869             Computers   \n",
       "22260       All Electronics   \n",
       "34409             Computers   \n",
       "\n",
       "                                                 details parent_asin  \\\n",
       "19122  {'Package Dimensions': '2 x 2 x 2 inches', 'It...  B00HXWFK1M   \n",
       "63297  {'Manufacturer': 'Finis', 'Date First Availabl...  B00366RGE8   \n",
       "28211  {'Other display features': 'PC Accessory', 'Co...  B00GU58K6K   \n",
       "42447  {'Package Dimensions': '6.02 x 4.21 x 0.55 inc...  B0797NBC79   \n",
       "34846  {'Package Dimensions': '12.9 x 9.2 x 0.6 inche...  B07RSQY4LL   \n",
       "56208  {'Standing screen display size': '10.1 Inches'...  B01MYGPQSK   \n",
       "83897  {'Package Dimensions': '3.7 x 3.1 x 0.02 inche...  B00L3QXI6S   \n",
       "98869  {'Product Dimensions': '2 x 2 x 1.5 inches', '...  B08BJWTSPP   \n",
       "22260  {'Product Dimensions': '8.3 x 2 x 5.5 inches',...  B07FVY8K5R   \n",
       "34409  {'Package Dimensions': '6 x 5.5 x 1.9 inches',...  B014QIXE8Q   \n",
       "\n",
       "                 Brand         Package_Dimensions  \n",
       "19122  Synergy Digital           2 x 2 x 2 inches  \n",
       "63297            FINIS                       None  \n",
       "28211         LiViTech                       None  \n",
       "42447           KNACRO  6.02 x 4.21 x 0.55 inches  \n",
       "34846             None    12.9 x 9.2 x 0.6 inches  \n",
       "56208             ASUS                       None  \n",
       "83897            Hynix    3.7 x 3.1 x 0.02 inches  \n",
       "98869            Getue                       None  \n",
       "22260             CYen                       None  \n",
       "34409               HP       6 x 5.5 x 1.9 inches  "
      ]
     },
     "metadata": {},
     "output_type": "display_data"
    }
   ],
   "source": [
    "display(df_feature.sample(n=10))"
   ]
  },
  {
   "cell_type": "code",
   "execution_count": null,
   "metadata": {},
   "outputs": [],
   "source": [
    "print(df_feature.isnull().sum())\n"
   ]
  }
 ],
 "metadata": {
  "kernelspec": {
   "display_name": "Python 3 (ipykernel)",
   "language": "python",
   "name": "python3"
  },
  "language_info": {
   "codemirror_mode": {
    "name": "ipython",
    "version": 3
   },
   "file_extension": ".py",
   "mimetype": "text/x-python",
   "name": "python",
   "nbconvert_exporter": "python",
   "pygments_lexer": "ipython3",
   "version": "3.12.4"
  }
 },
 "nbformat": 4,
 "nbformat_minor": 4
}
