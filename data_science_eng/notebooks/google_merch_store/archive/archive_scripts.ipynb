{
 "cells": [
  {
   "cell_type": "code",
   "execution_count": null,
   "metadata": {},
   "outputs": [],
   "source": [
    "%run \"dslabs_functions.py\""
   ]
  },
  {
   "cell_type": "code",
   "execution_count": null,
   "metadata": {},
   "outputs": [],
   "source": [
    "import pandas as pd\n",
    "import numpy as np\n",
    "\n",
    "\n",
    "filepath=r'df_merch_pre_proc.csv'\n",
    "\n",
    "file_tag = \"df_merch_pre_proc\"\n",
    "\n",
    "\n",
    "# test_data=True\n",
    "test_data=False\n",
    "\n",
    "if test_data==True:\n",
    "\n",
    "    data=pd.read_csv(filepath)\n",
    "\n",
    "    # 10% sample\n",
    "    data=data.sample(frac=0.1, replace=False)\n",
    "    \n",
    "\n",
    "else:\n",
    "    data=pd.read_csv(filepath)\n",
    "\n",
    "\n",
    "data.info()"
   ]
  },
  {
   "cell_type": "markdown",
   "metadata": {},
   "source": [
    "### Symbolic Distribution filtered to top 10 value counts dimensions' per variable"
   ]
  },
  {
   "cell_type": "code",
   "execution_count": null,
   "metadata": {},
   "outputs": [],
   "source": [
    "\n",
    "# Assuming you have already created a 'returning_user' column in your data\n",
    "\n",
    "symbolic: list[str] = variable_types[\"symbolic\"] + variable_types[\"binary\"]\n",
    "\n",
    "# Check if there are symbolic variables\n",
    "if [] != symbolic:\n",
    "    rows, cols = define_grid(len(symbolic))\n",
    "    \n",
    "    # Increase the figure size to improve spacing (adjust the scale as needed)\n",
    "    fig, axs = subplots(\n",
    "        rows, cols, figsize=(cols * HEIGHT * 1.5, rows * HEIGHT * 1.5), squeeze=False\n",
    "    )\n",
    "    \n",
    "    i, j = 0, 0\n",
    "    for n in range(len(symbolic)):\n",
    "        # Get value counts for the symbolic variable and limit to top 10 categories\n",
    "        top_10_categories = data[symbolic[n]].value_counts().nlargest(10).index\n",
    "\n",
    "        # Filter the data to include only the top 10 categories for the symbolic variable\n",
    "        filtered_data = data[data[symbolic[n]].isin(top_10_categories)]\n",
    "\n",
    "        # Group by the symbolic variable and 'returning_user', and get counts\n",
    "        grouped_counts: pd.DataFrame = filtered_data.groupby([symbolic[n], 'returning_user']).size().unstack(fill_value=0)\n",
    "\n",
    "        # Get the index (top 10 categories) and values (counts of new and returning users)\n",
    "        categories = grouped_counts.index.to_list()\n",
    "        new_users = grouped_counts[0].to_list()  # New users (ga_session_number = 1)\n",
    "        returning_users = grouped_counts[1].to_list()  # Returning users (ga_session_number > 1)\n",
    "\n",
    "        # Plot stacked bar chart with adjusted bar width\n",
    "        bar_width = 0.6  # Adjust bar width\n",
    "        axs[i, j].bar(categories, new_users, width=bar_width, label=\"New Users\", color=\"lightblue\")\n",
    "        axs[i, j].bar(categories, returning_users, bottom=new_users, width=bar_width, label=\"Returning Users\", color=\"orange\")\n",
    "\n",
    "        # Add chart details\n",
    "        axs[i, j].set_title(f\"Stacked Histogram for {symbolic[n]} (Top 10)\")\n",
    "        axs[i, j].set_xlabel(symbolic[n])\n",
    "        axs[i, j].set_ylabel(\"nr records\")\n",
    "        \n",
    "        # Rotate x-axis labels for better readability\n",
    "        axs[i, j].tick_params(axis='x', rotation=45)\n",
    "\n",
    "        # Add legend\n",
    "        axs[i, j].legend()\n",
    "\n",
    "        # Move to the next subplot\n",
    "        i, j = (i + 1, 0) if (n + 1) % cols == 0 else (i, j + 1)\n",
    "\n",
    "    # Adjust layout for better fitting\n",
    "    fig.tight_layout()\n",
    "\n",
    "    # Show the plot\n",
    "    show()\n",
    "\n",
    "else:\n",
    "    print(\"There are no symbolic variables.\")"
   ]
  }
 ],
 "metadata": {
  "language_info": {
   "name": "python"
  }
 },
 "nbformat": 4,
 "nbformat_minor": 2
}
