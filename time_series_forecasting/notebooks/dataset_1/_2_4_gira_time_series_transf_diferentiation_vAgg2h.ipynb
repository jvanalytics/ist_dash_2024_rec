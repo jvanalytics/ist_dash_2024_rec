{
 "cells": [
  {
   "cell_type": "markdown",
   "metadata": {},
   "source": [
    "# File and libraries"
   ]
  },
  {
   "cell_type": "code",
   "execution_count": 2,
   "metadata": {},
   "outputs": [],
   "source": [
    "import pandas as pd\n",
    "import numpy as np\n",
    "\n",
    "\n",
    "filepath=r'data/df_gira_agg_2h_scaling_input.csv'\n",
    "\n",
    "\n",
    "file_tag = \"Gira Bike\"\n"
   ]
  },
  {
   "cell_type": "markdown",
   "metadata": {},
   "source": [
    "# DSLabs functions"
   ]
  },
  {
   "cell_type": "code",
   "execution_count": 3,
   "metadata": {},
   "outputs": [],
   "source": [
    "%run \"scripts/dslabs_functions.py\"\n"
   ]
  },
  {
   "cell_type": "markdown",
   "metadata": {},
   "source": [
    "# Data functions"
   ]
  },
  {
   "cell_type": "code",
   "execution_count": 4,
   "metadata": {},
   "outputs": [
    {
     "name": "stdout",
     "output_type": "stream",
     "text": [
      "data_functions lodaded\n"
     ]
    }
   ],
   "source": [
    "%run \"scripts/data_functions.py\"\n"
   ]
  },
  {
   "cell_type": "code",
   "execution_count": 5,
   "metadata": {},
   "outputs": [
    {
     "data": {
      "text/plain": [
       "temperature_2m                                                 object\n",
       "rain_mm                                                        object\n",
       "wmo_weather_code                                               object\n",
       "wind_speed_10m                                                 object\n",
       "is_holiday_lisbon                                              object\n",
       "target_station_status                                          object\n",
       "target_station_load_rate                                       object\n",
       "station_load_rate_ Rua do Arco Cego / Av. Magalhães Lima       object\n",
       "station_load_rate_ Av. Rovisco Pais / Av. Manuel da Maia       object\n",
       "station_load_rate_ Praça de Londres                            object\n",
       "station_load_rate_ Av. Duque de Ávila / Jardim Arco Do Cego    object\n",
       "station_load_rate_ Av. Barbosa Du Bocage / Rua Arco do Cego    object\n",
       "dtype: object"
      ]
     },
     "metadata": {},
     "output_type": "display_data"
    },
    {
     "name": "stdout",
     "output_type": "stream",
     "text": [
      "\n",
      "Tipos de dados após a conversão:\n"
     ]
    },
    {
     "data": {
      "text/plain": [
       "temperature_2m                                                 float64\n",
       "rain_mm                                                        float64\n",
       "wmo_weather_code                                               float64\n",
       "wind_speed_10m                                                 float64\n",
       "is_holiday_lisbon                                              float64\n",
       "target_station_status                                          float64\n",
       "target_station_load_rate                                       float64\n",
       "station_load_rate_ Rua do Arco Cego / Av. Magalhães Lima       float64\n",
       "station_load_rate_ Av. Rovisco Pais / Av. Manuel da Maia       float64\n",
       "station_load_rate_ Praça de Londres                            float64\n",
       "station_load_rate_ Av. Duque de Ávila / Jardim Arco Do Cego    float64\n",
       "station_load_rate_ Av. Barbosa Du Bocage / Rua Arco do Cego    float64\n",
       "dtype: object"
      ]
     },
     "metadata": {},
     "output_type": "display_data"
    },
    {
     "data": {
      "text/html": [
       "<div>\n",
       "<style scoped>\n",
       "    .dataframe tbody tr th:only-of-type {\n",
       "        vertical-align: middle;\n",
       "    }\n",
       "\n",
       "    .dataframe tbody tr th {\n",
       "        vertical-align: top;\n",
       "    }\n",
       "\n",
       "    .dataframe thead th {\n",
       "        text-align: right;\n",
       "    }\n",
       "</style>\n",
       "<table border=\"1\" class=\"dataframe\">\n",
       "  <thead>\n",
       "    <tr style=\"text-align: right;\">\n",
       "      <th></th>\n",
       "      <th>temperature_2m</th>\n",
       "      <th>rain_mm</th>\n",
       "      <th>wmo_weather_code</th>\n",
       "      <th>wind_speed_10m</th>\n",
       "      <th>is_holiday_lisbon</th>\n",
       "      <th>target_station_status</th>\n",
       "      <th>target_station_load_rate</th>\n",
       "      <th>station_load_rate_ Rua do Arco Cego / Av. Magalhães Lima</th>\n",
       "      <th>station_load_rate_ Av. Rovisco Pais / Av. Manuel da Maia</th>\n",
       "      <th>station_load_rate_ Praça de Londres</th>\n",
       "      <th>station_load_rate_ Av. Duque de Ávila / Jardim Arco Do Cego</th>\n",
       "      <th>station_load_rate_ Av. Barbosa Du Bocage / Rua Arco do Cego</th>\n",
       "    </tr>\n",
       "    <tr>\n",
       "      <th>date</th>\n",
       "      <th></th>\n",
       "      <th></th>\n",
       "      <th></th>\n",
       "      <th></th>\n",
       "      <th></th>\n",
       "      <th></th>\n",
       "      <th></th>\n",
       "      <th></th>\n",
       "      <th></th>\n",
       "      <th></th>\n",
       "      <th></th>\n",
       "      <th></th>\n",
       "    </tr>\n",
       "  </thead>\n",
       "  <tbody>\n",
       "    <tr>\n",
       "      <th>2023-03-31 14:00:00</th>\n",
       "      <td>0.629548</td>\n",
       "      <td>-0.185984</td>\n",
       "      <td>-0.266712</td>\n",
       "      <td>0.372947</td>\n",
       "      <td>-0.185323</td>\n",
       "      <td>-18.098242</td>\n",
       "      <td>0.046047</td>\n",
       "      <td>1.197282</td>\n",
       "      <td>-0.286165</td>\n",
       "      <td>-0.500981</td>\n",
       "      <td>0.685285</td>\n",
       "      <td>-0.584853</td>\n",
       "    </tr>\n",
       "    <tr>\n",
       "      <th>2023-03-31 16:00:00</th>\n",
       "      <td>0.419629</td>\n",
       "      <td>-0.185984</td>\n",
       "      <td>-0.266712</td>\n",
       "      <td>0.228509</td>\n",
       "      <td>-0.185323</td>\n",
       "      <td>0.056934</td>\n",
       "      <td>0.098741</td>\n",
       "      <td>0.524269</td>\n",
       "      <td>-0.363202</td>\n",
       "      <td>-0.461967</td>\n",
       "      <td>0.435683</td>\n",
       "      <td>-0.773243</td>\n",
       "    </tr>\n",
       "    <tr>\n",
       "      <th>2023-03-31 18:00:00</th>\n",
       "      <td>0.018876</td>\n",
       "      <td>-0.185984</td>\n",
       "      <td>-0.266712</td>\n",
       "      <td>-0.509729</td>\n",
       "      <td>-0.185323</td>\n",
       "      <td>0.056934</td>\n",
       "      <td>-0.537644</td>\n",
       "      <td>-0.236529</td>\n",
       "      <td>0.727484</td>\n",
       "      <td>-0.146307</td>\n",
       "      <td>-0.415901</td>\n",
       "      <td>-0.323200</td>\n",
       "    </tr>\n",
       "    <tr>\n",
       "      <th>2023-03-31 20:00:00</th>\n",
       "      <td>-0.420045</td>\n",
       "      <td>-0.185984</td>\n",
       "      <td>-0.266712</td>\n",
       "      <td>-1.103530</td>\n",
       "      <td>-0.185323</td>\n",
       "      <td>0.056934</td>\n",
       "      <td>0.001460</td>\n",
       "      <td>0.599512</td>\n",
       "      <td>0.111185</td>\n",
       "      <td>-1.075554</td>\n",
       "      <td>-0.557831</td>\n",
       "      <td>0.048348</td>\n",
       "    </tr>\n",
       "    <tr>\n",
       "      <th>2023-03-31 22:00:00</th>\n",
       "      <td>-0.668130</td>\n",
       "      <td>-0.185984</td>\n",
       "      <td>-0.266712</td>\n",
       "      <td>-1.167724</td>\n",
       "      <td>-0.185323</td>\n",
       "      <td>0.056934</td>\n",
       "      <td>1.099933</td>\n",
       "      <td>0.403043</td>\n",
       "      <td>0.111185</td>\n",
       "      <td>-0.500981</td>\n",
       "      <td>-0.949364</td>\n",
       "      <td>0.200106</td>\n",
       "    </tr>\n",
       "  </tbody>\n",
       "</table>\n",
       "</div>"
      ],
      "text/plain": [
       "                     temperature_2m   rain_mm  wmo_weather_code  \\\n",
       "date                                                              \n",
       "2023-03-31 14:00:00        0.629548 -0.185984         -0.266712   \n",
       "2023-03-31 16:00:00        0.419629 -0.185984         -0.266712   \n",
       "2023-03-31 18:00:00        0.018876 -0.185984         -0.266712   \n",
       "2023-03-31 20:00:00       -0.420045 -0.185984         -0.266712   \n",
       "2023-03-31 22:00:00       -0.668130 -0.185984         -0.266712   \n",
       "\n",
       "                     wind_speed_10m  is_holiday_lisbon  target_station_status  \\\n",
       "date                                                                            \n",
       "2023-03-31 14:00:00        0.372947          -0.185323             -18.098242   \n",
       "2023-03-31 16:00:00        0.228509          -0.185323               0.056934   \n",
       "2023-03-31 18:00:00       -0.509729          -0.185323               0.056934   \n",
       "2023-03-31 20:00:00       -1.103530          -0.185323               0.056934   \n",
       "2023-03-31 22:00:00       -1.167724          -0.185323               0.056934   \n",
       "\n",
       "                     target_station_load_rate  \\\n",
       "date                                            \n",
       "2023-03-31 14:00:00                  0.046047   \n",
       "2023-03-31 16:00:00                  0.098741   \n",
       "2023-03-31 18:00:00                 -0.537644   \n",
       "2023-03-31 20:00:00                  0.001460   \n",
       "2023-03-31 22:00:00                  1.099933   \n",
       "\n",
       "                     station_load_rate_ Rua do Arco Cego / Av. Magalhães Lima  \\\n",
       "date                                                                            \n",
       "2023-03-31 14:00:00                                           1.197282          \n",
       "2023-03-31 16:00:00                                           0.524269          \n",
       "2023-03-31 18:00:00                                          -0.236529          \n",
       "2023-03-31 20:00:00                                           0.599512          \n",
       "2023-03-31 22:00:00                                           0.403043          \n",
       "\n",
       "                     station_load_rate_ Av. Rovisco Pais / Av. Manuel da Maia  \\\n",
       "date                                                                            \n",
       "2023-03-31 14:00:00                                          -0.286165          \n",
       "2023-03-31 16:00:00                                          -0.363202          \n",
       "2023-03-31 18:00:00                                           0.727484          \n",
       "2023-03-31 20:00:00                                           0.111185          \n",
       "2023-03-31 22:00:00                                           0.111185          \n",
       "\n",
       "                     station_load_rate_ Praça de Londres  \\\n",
       "date                                                       \n",
       "2023-03-31 14:00:00                            -0.500981   \n",
       "2023-03-31 16:00:00                            -0.461967   \n",
       "2023-03-31 18:00:00                            -0.146307   \n",
       "2023-03-31 20:00:00                            -1.075554   \n",
       "2023-03-31 22:00:00                            -0.500981   \n",
       "\n",
       "                     station_load_rate_ Av. Duque de Ávila / Jardim Arco Do Cego  \\\n",
       "date                                                                               \n",
       "2023-03-31 14:00:00                                           0.685285             \n",
       "2023-03-31 16:00:00                                           0.435683             \n",
       "2023-03-31 18:00:00                                          -0.415901             \n",
       "2023-03-31 20:00:00                                          -0.557831             \n",
       "2023-03-31 22:00:00                                          -0.949364             \n",
       "\n",
       "                     station_load_rate_ Av. Barbosa Du Bocage / Rua Arco do Cego  \n",
       "date                                                                              \n",
       "2023-03-31 14:00:00                                          -0.584853            \n",
       "2023-03-31 16:00:00                                          -0.773243            \n",
       "2023-03-31 18:00:00                                          -0.323200            \n",
       "2023-03-31 20:00:00                                           0.048348            \n",
       "2023-03-31 22:00:00                                           0.200106            "
      ]
     },
     "metadata": {},
     "output_type": "display_data"
    },
    {
     "data": {
      "text/plain": [
       "Timestamp('2022-01-01 12:00:00')"
      ]
     },
     "metadata": {},
     "output_type": "display_data"
    },
    {
     "data": {
      "text/plain": [
       "Timestamp('2023-03-31 22:00:00')"
      ]
     },
     "metadata": {},
     "output_type": "display_data"
    },
    {
     "data": {
      "text/plain": [
       "(5421, 12)"
      ]
     },
     "metadata": {},
     "output_type": "display_data"
    }
   ],
   "source": [
    "import pandas as pd\n",
    "\n",
    "# Carregar o dataset\n",
    "data = pd.read_csv(filepath, decimal=\",\", index_col='date', parse_dates=True, infer_datetime_format=True)\n",
    "\n",
    "# Verificar os tipos de dados antes da conversão\n",
    "display(data.dtypes)\n",
    "\n",
    "# Forçar a conversão para o tipo numérico para todas as colunas que devem ser numéricas\n",
    "# Selecionando todas as colunas, exceto o índice (que é de data)\n",
    "numeric_columns = data.columns.difference(['date'])\n",
    "\n",
    "# Tentar converter as colunas numéricas\n",
    "for col in numeric_columns:\n",
    "    data[col] = pd.to_numeric(data[col], errors='coerce')\n",
    "\n",
    "test_split_threshold=0.9\n",
    "target = 'target_station_load_rate' \n",
    "\n",
    "# Verifique o tipo das colunas após a conversão\n",
    "print(\"\\nTipos de dados após a conversão:\")\n",
    "display(data.dtypes)\n",
    "\n",
    "# Exibir as últimas linhas para confirmar que os dados estão corretos\n",
    "display(data.tail())\n",
    "\n",
    "display(data.index.min())\n",
    "display(data.index.max())\n",
    "display(data.shape)\n"
   ]
  },
  {
   "cell_type": "markdown",
   "metadata": {},
   "source": [
    "# Aggregation\n",
    "- Aggregation is just the operation of grouping smaller details into a coarser one, most similar to the approach we took in the profiling step.\n",
    "\n",
    "- In order to do it, we just need to apply the previous function - ts_aggregation_by, already available in the dslabs_functions file, that receives the univariate series to transform, the granularity level to aggregate into - gran_level, and the aggregation function to apply - agg_func."
   ]
  },
  {
   "cell_type": "markdown",
   "metadata": {},
   "source": [
    "## Aggregation 0 (no tranformation)"
   ]
  },
  {
   "cell_type": "markdown",
   "metadata": {},
   "source": [
    "### df_0 - Creating series for original df with time +target variable"
   ]
  },
  {
   "cell_type": "code",
   "execution_count": null,
   "metadata": {},
   "outputs": [
    {
     "data": {
      "image/png": "[encoded data removed]",
      "text/plain": [
       "<Figure size 1200x200 with 1 Axes>"
      ]
     },
     "metadata": {},
     "output_type": "display_data"
    }
   ],
   "source": [
    "from pandas import read_csv, DataFrame, Series\n",
    "from matplotlib.pyplot import figure, show\n",
    "from dslabs_functions import plot_line_chart, HEIGHT\n",
    "\n",
    "target = 'target_station_load_rate' \n",
    "\n",
    "data_0 = data.copy()\n",
    "\n",
    "df_0: DataFrame = data_0\n",
    "#series - series of original df with no transformation\n",
    "series: Series = df_0[target]\n",
    "\n",
    "figure(figsize=(3 * HEIGHT, HEIGHT / 2))\n",
    "plot_line_chart(\n",
    "    series.index.to_list(),\n",
    "    series.to_list(),\n",
    "    xlabel=series.index.name,\n",
    "    ylabel=target,\n",
    "    title=f\"{file_tag} | Series Bi-Hourly - Before Aggregation\",\n",
    ")\n",
    "show()"
   ]
  },
  {
   "cell_type": "code",
   "execution_count": null,
   "metadata": {},
   "outputs": [
    {
     "data": {
      "text/html": [
       "<div>\n",
       "<style scoped>\n",
       "    .dataframe tbody tr th:only-of-type {\n",
       "        vertical-align: middle;\n",
       "    }\n",
       "\n",
       "    .dataframe tbody tr th {\n",
       "        vertical-align: top;\n",
       "    }\n",
       "\n",
       "    .dataframe thead th {\n",
       "        text-align: right;\n",
       "    }\n",
       "</style>\n",
       "<table border=\"1\" class=\"dataframe\">\n",
       "  <thead>\n",
       "    <tr style=\"text-align: right;\">\n",
       "      <th></th>\n",
       "      <th>temperature_2m</th>\n",
       "      <th>rain_mm</th>\n",
       "      <th>wmo_weather_code</th>\n",
       "      <th>wind_speed_10m</th>\n",
       "      <th>is_holiday_lisbon</th>\n",
       "      <th>target_station_status</th>\n",
       "      <th>target_station_load_rate</th>\n",
       "      <th>station_load_rate_ Rua do Arco Cego / Av. Magalhães Lima</th>\n",
       "      <th>station_load_rate_ Av. Rovisco Pais / Av. Manuel da Maia</th>\n",
       "      <th>station_load_rate_ Praça de Londres</th>\n",
       "      <th>station_load_rate_ Av. Duque de Ávila / Jardim Arco Do Cego</th>\n",
       "      <th>station_load_rate_ Av. Barbosa Du Bocage / Rua Arco do Cego</th>\n",
       "    </tr>\n",
       "    <tr>\n",
       "      <th>date</th>\n",
       "      <th></th>\n",
       "      <th></th>\n",
       "      <th></th>\n",
       "      <th></th>\n",
       "      <th></th>\n",
       "      <th></th>\n",
       "      <th></th>\n",
       "      <th></th>\n",
       "      <th></th>\n",
       "      <th></th>\n",
       "      <th></th>\n",
       "      <th></th>\n",
       "    </tr>\n",
       "  </thead>\n",
       "  <tbody>\n",
       "    <tr>\n",
       "      <th>2022-01-01 12:00:00</th>\n",
       "      <td>0.209711</td>\n",
       "      <td>-0.185984</td>\n",
       "      <td>-0.266712</td>\n",
       "      <td>-1.183773</td>\n",
       "      <td>5.395986</td>\n",
       "      <td>0.056934</td>\n",
       "      <td>0.155489</td>\n",
       "      <td>-0.295052</td>\n",
       "      <td>0.545027</td>\n",
       "      <td>0.563042</td>\n",
       "      <td>-0.841692</td>\n",
       "      <td>-0.495891</td>\n",
       "    </tr>\n",
       "    <tr>\n",
       "      <th>2022-01-01 14:00:00</th>\n",
       "      <td>0.438713</td>\n",
       "      <td>-0.185984</td>\n",
       "      <td>-0.266712</td>\n",
       "      <td>-1.135627</td>\n",
       "      <td>5.395986</td>\n",
       "      <td>0.056934</td>\n",
       "      <td>-0.440362</td>\n",
       "      <td>-0.892822</td>\n",
       "      <td>0.131458</td>\n",
       "      <td>0.846781</td>\n",
       "      <td>-0.807433</td>\n",
       "      <td>-0.673815</td>\n",
       "    </tr>\n",
       "    <tr>\n",
       "      <th>2022-01-01 16:00:00</th>\n",
       "      <td>0.076126</td>\n",
       "      <td>-0.185984</td>\n",
       "      <td>-0.325721</td>\n",
       "      <td>-1.071433</td>\n",
       "      <td>5.395986</td>\n",
       "      <td>0.056934</td>\n",
       "      <td>-0.926771</td>\n",
       "      <td>-0.219808</td>\n",
       "      <td>-1.028156</td>\n",
       "      <td>-0.018624</td>\n",
       "      <td>-1.233225</td>\n",
       "      <td>-0.977332</td>\n",
       "    </tr>\n",
       "    <tr>\n",
       "      <th>2022-01-01 18:00:00</th>\n",
       "      <td>-0.458211</td>\n",
       "      <td>-0.185984</td>\n",
       "      <td>-0.266712</td>\n",
       "      <td>-0.846751</td>\n",
       "      <td>5.395986</td>\n",
       "      <td>0.056934</td>\n",
       "      <td>-1.088907</td>\n",
       "      <td>-0.654550</td>\n",
       "      <td>-0.338875</td>\n",
       "      <td>-1.032993</td>\n",
       "      <td>-1.443674</td>\n",
       "      <td>-0.846506</td>\n",
       "    </tr>\n",
       "    <tr>\n",
       "      <th>2022-01-01 20:00:00</th>\n",
       "      <td>-0.477295</td>\n",
       "      <td>-0.185984</td>\n",
       "      <td>-0.266712</td>\n",
       "      <td>-0.654167</td>\n",
       "      <td>5.395986</td>\n",
       "      <td>0.056934</td>\n",
       "      <td>-1.088907</td>\n",
       "      <td>-0.596027</td>\n",
       "      <td>0.078749</td>\n",
       "      <td>-0.589650</td>\n",
       "      <td>-0.699762</td>\n",
       "      <td>-0.846506</td>\n",
       "    </tr>\n",
       "  </tbody>\n",
       "</table>\n",
       "</div>"
      ],
      "text/plain": [
       "                     temperature_2m   rain_mm  wmo_weather_code  \\\n",
       "date                                                              \n",
       "2022-01-01 12:00:00        0.209711 -0.185984         -0.266712   \n",
       "2022-01-01 14:00:00        0.438713 -0.185984         -0.266712   \n",
       "2022-01-01 16:00:00        0.076126 -0.185984         -0.325721   \n",
       "2022-01-01 18:00:00       -0.458211 -0.185984         -0.266712   \n",
       "2022-01-01 20:00:00       -0.477295 -0.185984         -0.266712   \n",
       "\n",
       "                     wind_speed_10m  is_holiday_lisbon  target_station_status  \\\n",
       "date                                                                            \n",
       "2022-01-01 12:00:00       -1.183773           5.395986               0.056934   \n",
       "2022-01-01 14:00:00       -1.135627           5.395986               0.056934   \n",
       "2022-01-01 16:00:00       -1.071433           5.395986               0.056934   \n",
       "2022-01-01 18:00:00       -0.846751           5.395986               0.056934   \n",
       "2022-01-01 20:00:00       -0.654167           5.395986               0.056934   \n",
       "\n",
       "                     target_station_load_rate  \\\n",
       "date                                            \n",
       "2022-01-01 12:00:00                  0.155489   \n",
       "2022-01-01 14:00:00                 -0.440362   \n",
       "2022-01-01 16:00:00                 -0.926771   \n",
       "2022-01-01 18:00:00                 -1.088907   \n",
       "2022-01-01 20:00:00                 -1.088907   \n",
       "\n",
       "                     station_load_rate_ Rua do Arco Cego / Av. Magalhães Lima  \\\n",
       "date                                                                            \n",
       "2022-01-01 12:00:00                                          -0.295052          \n",
       "2022-01-01 14:00:00                                          -0.892822          \n",
       "2022-01-01 16:00:00                                          -0.219808          \n",
       "2022-01-01 18:00:00                                          -0.654550          \n",
       "2022-01-01 20:00:00                                          -0.596027          \n",
       "\n",
       "                     station_load_rate_ Av. Rovisco Pais / Av. Manuel da Maia  \\\n",
       "date                                                                            \n",
       "2022-01-01 12:00:00                                           0.545027          \n",
       "2022-01-01 14:00:00                                           0.131458          \n",
       "2022-01-01 16:00:00                                          -1.028156          \n",
       "2022-01-01 18:00:00                                          -0.338875          \n",
       "2022-01-01 20:00:00                                           0.078749          \n",
       "\n",
       "                     station_load_rate_ Praça de Londres  \\\n",
       "date                                                       \n",
       "2022-01-01 12:00:00                             0.563042   \n",
       "2022-01-01 14:00:00                             0.846781   \n",
       "2022-01-01 16:00:00                            -0.018624   \n",
       "2022-01-01 18:00:00                            -1.032993   \n",
       "2022-01-01 20:00:00                            -0.589650   \n",
       "\n",
       "                     station_load_rate_ Av. Duque de Ávila / Jardim Arco Do Cego  \\\n",
       "date                                                                               \n",
       "2022-01-01 12:00:00                                          -0.841692             \n",
       "2022-01-01 14:00:00                                          -0.807433             \n",
       "2022-01-01 16:00:00                                          -1.233225             \n",
       "2022-01-01 18:00:00                                          -1.443674             \n",
       "2022-01-01 20:00:00                                          -0.699762             \n",
       "\n",
       "                     station_load_rate_ Av. Barbosa Du Bocage / Rua Arco do Cego  \n",
       "date                                                                              \n",
       "2022-01-01 12:00:00                                          -0.495891            \n",
       "2022-01-01 14:00:00                                          -0.673815            \n",
       "2022-01-01 16:00:00                                          -0.977332            \n",
       "2022-01-01 18:00:00                                          -0.846506            \n",
       "2022-01-01 20:00:00                                          -0.846506            "
      ]
     },
     "metadata": {},
     "output_type": "display_data"
    },
    {
     "data": {
      "text/plain": [
       "date\n",
       "2022-01-01 12:00:00    0.155489\n",
       "2022-01-01 14:00:00   -0.440362\n",
       "2022-01-01 16:00:00   -0.926771\n",
       "2022-01-01 18:00:00   -1.088907\n",
       "2022-01-01 20:00:00   -1.088907\n",
       "Name: target_station_load_rate, dtype: float64"
      ]
     },
     "metadata": {},
     "output_type": "display_data"
    }
   ],
   "source": [
    "display(df_0.head())\n",
    "display(series.head())"
   ]
  },
  {
   "cell_type": "markdown",
   "metadata": {},
   "source": [
    "### Evaluate"
   ]
  },
  {
   "cell_type": "code",
   "execution_count": null,
   "metadata": {},
   "outputs": [],
   "source": [
    "from pandas import Series, DataFrame\n",
    "\n",
    "def series_train_test_split(data, trn_pct: float = 0.90):\n",
    "    trn_size: int = int(len(data) * trn_pct)\n",
    "    df_cp = data.copy()\n",
    "\n",
    "    if isinstance(df_cp, Series):\n",
    "        train: Series = df_cp.iloc[:trn_size]\n",
    "        test: Series = df_cp.iloc[trn_size:]\n",
    "    elif isinstance(df_cp, DataFrame):\n",
    "        train: DataFrame = df_cp.iloc[:trn_size]\n",
    "        test: DataFrame = df_cp.iloc[trn_size:]\n",
    "    else:\n",
    "        raise TypeError(\"Input must be a Series or DataFrame.\")\n",
    "\n",
    "    return train, test\n",
    "\n",
    "def dataframe_temporal_train_test_split(data: DataFrame, trn_pct: float = 0.90) -> tuple[DataFrame, DataFrame]:\n",
    "    trn_size: int = int(len(data) * trn_pct)\n",
    "    df_cp: DataFrame = data.copy()\n",
    "    train: DataFrame = df_cp.iloc[:trn_size]\n",
    "    test: DataFrame = df_cp.iloc[trn_size:]\n",
    "    return train, test"
   ]
  },
  {
   "cell_type": "code",
   "execution_count": null,
   "metadata": {},
   "outputs": [],
   "source": [
    "from math import sqrt\n",
    "from matplotlib.pyplot import subplots\n",
    "from pandas import Series\n",
    "\n",
    "def plot_forecasting_eval(trn: Series, tst: Series, prd_trn: Series, prd_tst: Series, title: str = \"\") -> list:\n",
    "    # Calculate evaluation metrics\n",
    "    ev1: dict = {\n",
    "        \"RMSE\": [sqrt(FORECAST_MEASURES[\"MSE\"](trn, prd_trn)), sqrt(FORECAST_MEASURES[\"MSE\"](tst, prd_tst))],\n",
    "        \"MAE\": [FORECAST_MEASURES[\"MAE\"](trn, prd_trn), FORECAST_MEASURES[\"MAE\"](tst, prd_tst)],\n",
    "    }\n",
    "    ev2: dict = {\n",
    "        \"MAPE\": [FORECAST_MEASURES[\"MAPE\"](trn, prd_trn), FORECAST_MEASURES[\"MAPE\"](tst, prd_tst)],\n",
    "        \"R2\": [FORECAST_MEASURES[\"R2\"](trn, prd_trn), FORECAST_MEASURES[\"R2\"](tst, prd_tst)],\n",
    "    }\n",
    "\n",
    "    # Print metric values and sizes of train and test sets\n",
    "    print(f\"\\n### Forecasting Evaluation Metrics ({title}) ###\")\n",
    "    print(f\"Train size: {len(trn)}\")\n",
    "    print(f\"Test size: {len(tst)}\")\n",
    "    print(f\"RMSE - Train: {ev1['RMSE'][0]:.4f}, Test: {ev1['RMSE'][1]:.4f}\")\n",
    "    print(f\"MAE - Train: {ev1['MAE'][0]:.4f}, Test: {ev1['MAE'][1]:.4f}\")\n",
    "    print(f\"MAPE - Train: {ev2['MAPE'][0]:.4f}, Test: {ev2['MAPE'][1]:.4f}\")\n",
    "    print(f\"R2 - Train: {ev2['R2'][0]:.4f}, Test: {ev2['R2'][1]:.4f}\\n\")\n",
    "\n",
    "    # Plot the metrics\n",
    "    HEIGHT = 6\n",
    "    fig, axs = subplots(1, 2, figsize=(1.5 * HEIGHT, 0.75 * HEIGHT), squeeze=True)\n",
    "    fig.suptitle(title)\n",
    "    plot_multibar_chart([\"train\", \"test\"], ev1, ax=axs[0], title=\"Scale-dependent error\", percentage=False)\n",
    "    plot_multibar_chart([\"train\", \"test\"], ev2, ax=axs[1], title=\"Percentage error\", percentage=True)\n",
    "\n",
    "    return axs"
   ]
  },
  {
   "cell_type": "code",
   "execution_count": null,
   "metadata": {},
   "outputs": [],
   "source": [
    "test_split_threshold=0.9"
   ]
  },
  {
   "cell_type": "code",
   "execution_count": null,
   "metadata": {},
   "outputs": [
    {
     "name": "stdout",
     "output_type": "stream",
     "text": [
      "\n",
      "### Forecasting Evaluation Metrics (Gira Bike | Linear Regression - No Aggregation) ###\n",
      "Train size: 4878\n",
      "Test size: 543\n",
      "RMSE - Train: 0.9859, Test: 1.0247\n",
      "MAE - Train: 0.8066, Test: 0.7382\n",
      "MAPE - Train: 1.2797, Test: 1.7767\n",
      "R2 - Train: 0.0322, Test: -0.0948\n",
      "\n"
     ]
    },
    {
     "data": {
      "text/plain": [
       "array([<Axes: title={'center': 'Scale-dependent error'}>,\n",
       "       <Axes: title={'center': 'Percentage error'}>], dtype=object)"
      ]
     },
     "metadata": {},
     "output_type": "display_data"
    },
    {
     "data": {
      "image/png": "[encoded data removed]",
      "text/plain": [
       "<Figure size 900x450 with 2 Axes>"
      ]
     },
     "metadata": {},
     "output_type": "display_data"
    }
   ],
   "source": [
    "from sklearn.linear_model import LinearRegression\n",
    "from matplotlib.pyplot import savefig\n",
    "import pandas as pd\n",
    "from numpy import arange\n",
    "\n",
    "\n",
    "series = series.sort_index()\n",
    "\n",
    "train_0, test_0 = series_train_test_split(series, trn_pct=test_split_threshold)\n",
    "\n",
    "trnX_0 = arange(len(train_0)).reshape(-1, 1)\n",
    "trnY_0 = train_0.to_numpy()\n",
    "tstX_0 = arange(len(train_0), len(series)).reshape(-1, 1)\n",
    "tstY_0 = test_0.to_numpy()\n",
    "\n",
    "model = LinearRegression()\n",
    "model.fit(trnX_0, trnY_0)\n",
    "\n",
    "prd_trn_0: Series = Series(model.predict(trnX_0), index=train_0.index)\n",
    "prd_tst_0: Series = Series(model.predict(tstX_0), index=test_0.index)\n",
    "\n",
    "plot_forecasting_eval(train_0, test_0, prd_trn_0, prd_tst_0, title=f\"{file_tag} | Linear Regression - No Aggregation\")"
   ]
  }
 ],
 "metadata": {
  "kernelspec": {
   "display_name": "base",
   "language": "python",
   "name": "python3"
  },
  "language_info": {
   "codemirror_mode": {
    "name": "ipython",
    "version": 3
   },
   "file_extension": ".py",
   "mimetype": "text/x-python",
   "name": "python",
   "nbconvert_exporter": "python",
   "pygments_lexer": "ipython3",
   "version": "3.12.2"
  }
 },
 "nbformat": 4,
 "nbformat_minor": 2
}
