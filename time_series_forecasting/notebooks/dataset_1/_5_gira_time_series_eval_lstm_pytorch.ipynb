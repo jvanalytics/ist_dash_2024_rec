{
 "cells": [
  {
   "cell_type": "markdown",
   "metadata": {},
   "source": [
    "# Install pytorch\n",
    "- https://pytorch.org/\n",
    "\n",
    "1. Go to anaconda terminal as admin and enter\n",
    "```bash\n",
    "conda create --name pytorch_cpu python=3.12\n",
    "```\n",
    "\n",
    "2. activate environment\n",
    "\n",
    "```bash\n",
    "conda activate pytorch_cpu\n",
    "```\n",
    "\n",
    "3. install pytorch\n",
    "```bash \n",
    "\n",
    "# CPU Only Windows and Linux\n",
    "conda install pytorch==2.5.0 torchvision==0.20.0 torchaudio==2.5.0 cpuonly -c pytorch\n",
    "\n",
    "# MAC OSX\n",
    "conda install pytorch==2.5.0 torchvision==0.20.0 torchaudio==2.5.0 -c pytorch\n",
    "\n",
    "```\n",
    "\n",
    "4. install additional packages from dslabs and data functions\n",
    "```bash\n",
    "conda install pandas scikit-learn matplotlib statsmodels\n",
    "```\n",
    "\n",
    "5. if jupyter has errors run\n",
    "\n",
    "```bash\n",
    "conda install -n pytorch_cpu ipykernel --update-deps --force-reinstall\n",
    "```\n",
    "\n"
   ]
  },
  {
   "cell_type": "markdown",
   "metadata": {},
   "source": []
  }
 ],
 "metadata": {
  "language_info": {
   "name": "python"
  }
 },
 "nbformat": 4,
 "nbformat_minor": 2
}
