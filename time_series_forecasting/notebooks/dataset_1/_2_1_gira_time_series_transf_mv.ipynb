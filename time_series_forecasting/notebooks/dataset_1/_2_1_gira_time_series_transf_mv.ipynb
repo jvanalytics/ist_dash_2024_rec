{
 "cells": [
  {
   "cell_type": "markdown",
   "metadata": {},
   "source": [
    "# File and libraries"
   ]
  },
  {
   "cell_type": "code",
   "execution_count": null,
   "metadata": {},
   "outputs": [],
   "source": [
    "import pandas as pd\n",
    "import numpy as np\n",
    "from sklearn.model_selection import train_test_split\n",
    "\n",
    "\n",
    "filepath=r'data/df_merch_0_2024_agg_time_pre_proc.csv'\n",
    "\n",
    "file_tag = \"Google Merch Store 2024-2025\"\n"
   ]
  },
  {
   "cell_type": "markdown",
   "metadata": {},
   "source": [
    "# DSLabs functions"
   ]
  },
  {
   "cell_type": "code",
   "execution_count": null,
   "metadata": {},
   "outputs": [],
   "source": [
    "%run \"scripts/dslabs_functions.py\"\n"
   ]
  },
  {
   "cell_type": "markdown",
   "metadata": {},
   "source": [
    "# Data functions"
   ]
  },
  {
   "cell_type": "code",
   "execution_count": null,
   "metadata": {},
   "outputs": [
    {
     "name": "stdout",
     "output_type": "stream",
     "text": [
      "data_functions loaded\n"
     ]
    }
   ],
   "source": [
    "%run \"scripts/data_functions.py\"\n"
   ]
  },
  {
   "cell_type": "markdown",
   "metadata": {},
   "source": [
    "# Load"
   ]
  },
  {
   "cell_type": "code",
   "execution_count": null,
   "metadata": {},
   "outputs": [
    {
     "name": "stdout",
     "output_type": "stream",
     "text": [
      "<class 'pandas.core.frame.DataFrame'>\n",
      "DatetimeIndex: 427 entries, 2024-01-04 to 2025-03-05\n",
      "Data columns (total 46 columns):\n",
      " #   Column                           Non-Null Count  Dtype  \n",
      "---  ------                           --------------  -----  \n",
      " 0   Sessions                         427 non-null    int64  \n",
      " 1   Seven-day active users           427 non-null    int64  \n",
      " 2   28-day active users              427 non-null    int64  \n",
      " 3   Events per session               427 non-null    float64\n",
      " 4   Add to baskets                   427 non-null    int64  \n",
      " 5   Average purchase revenue         389 non-null    float64\n",
      " 6   Purchase revenue                 389 non-null    float64\n",
      " 7   Average session duration         427 non-null    float64\n",
      " 8   ARPU                             389 non-null    float64\n",
      " 9   ARPPU                            389 non-null    float64\n",
      " 10  Views per user                   427 non-null    float64\n",
      " 11  Total users                      427 non-null    int64  \n",
      " 12  Promotion clicks                 343 non-null    float64\n",
      " 13  Sessions Mobile                  427 non-null    int64  \n",
      " 14  Seven-day active users Mobile    427 non-null    int64  \n",
      " 15  28-day active users Mobile       427 non-null    int64  \n",
      " 16  New users Mobile                 427 non-null    int64  \n",
      " 17  Scrolled users Mobile            330 non-null    float64\n",
      " 18  Engaged sessions Mobile          427 non-null    int64  \n",
      " 19  Views Mobile                     427 non-null    int64  \n",
      " 20  Event count Mobile               427 non-null    int64  \n",
      " 21  Events per session Mobile        427 non-null    float64\n",
      " 22  Item-list view events Mobile     427 non-null    int64  \n",
      " 23  Item view events Mobile          427 non-null    int64  \n",
      " 24  Add to baskets Mobile            427 non-null    int64  \n",
      " 25  Checkouts Mobile                 401 non-null    float64\n",
      " 26  E-commerce purchases Mobile      383 non-null    float64\n",
      " 27  Average purchase revenue Mobile  363 non-null    float64\n",
      " 28  Purchase revenue Mobile          383 non-null    float64\n",
      " 29  First time purchasers Mobile     383 non-null    float64\n",
      " 30  Average session duration Mobile  427 non-null    float64\n",
      " 31  Sessions (not set)               427 non-null    float64\n",
      " 32  Sessions affiliate               427 non-null    float64\n",
      " 33  Sessions cpc                     427 non-null    float64\n",
      " 34  Sessions cpm                     427 non-null    float64\n",
      " 35  Sessions email                   427 non-null    float64\n",
      " 36  Sessions other                   427 non-null    float64\n",
      " 37  Sessions referral                427 non-null    float64\n",
      " 38  season                           427 non-null    float64\n",
      " 39  commercial_season                427 non-null    float64\n",
      " 40  week_of_month                    427 non-null    int64  \n",
      " 41  day_of_week_nr                   427 non-null    int64  \n",
      " 42  is_weekend                       427 non-null    int64  \n",
      " 43  is_holiday                       427 non-null    int64  \n",
      " 44  is_major_event_day               427 non-null    int64  \n",
      " 45  is_commercial_event_day          427 non-null    int64  \n",
      "dtypes: float64(25), int64(21)\n",
      "memory usage: 156.8 KB\n"
     ]
    }
   ],
   "source": [
    "# test_data=True\n",
    "test_data=False\n",
    "\n",
    "\n",
    "data=pd.read_csv(filepath, decimal=\".\",  index_col='Date', parse_dates=True,  infer_datetime_format=True)\n",
    "\n",
    " \n",
    "# target='E-commerce purchases' # using for testing null values on supporting variables\n",
    "\n",
    "target='Sessions' # the target class for project which does not contain nulls\n",
    "\n",
    "\n",
    "series: Series = data[target]\n",
    "\n",
    "\n",
    "test_split_threshold = 0.8\n",
    "\n",
    "data.info()"
   ]
  }
 ],
 "metadata": {
  "language_info": {
   "name": "python"
  }
 },
 "nbformat": 4,
 "nbformat_minor": 2
}
