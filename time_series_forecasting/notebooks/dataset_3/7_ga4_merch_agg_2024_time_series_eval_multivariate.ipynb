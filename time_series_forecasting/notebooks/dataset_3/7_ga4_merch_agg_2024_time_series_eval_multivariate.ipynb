{
 "cells": [
  {
   "cell_type": "markdown",
   "metadata": {},
   "source": [
    "# File and libraries"
   ]
  },
  {
   "cell_type": "code",
   "execution_count": 1,
   "metadata": {},
   "outputs": [],
   "source": [
    "import pandas as pd\n",
    "import numpy as np\n",
    "\n",
    "\n",
    "file_tag = \"Google Merch Store 2024-2025\"\n"
   ]
  },
  {
   "cell_type": "markdown",
   "metadata": {},
   "source": [
    "# DSLabs functions"
   ]
  },
  {
   "cell_type": "code",
   "execution_count": 2,
   "metadata": {},
   "outputs": [],
   "source": [
    "%run \"scripts/dslabs_functions.py\"\n"
   ]
  },
  {
   "cell_type": "markdown",
   "metadata": {},
   "source": [
    "# Data functions"
   ]
  },
  {
   "cell_type": "code",
   "execution_count": 3,
   "metadata": {},
   "outputs": [
    {
     "name": "stdout",
     "output_type": "stream",
     "text": [
      "data_functions loaded\n"
     ]
    }
   ],
   "source": [
    "%run \"scripts/data_functions.py\"\n"
   ]
  },
  {
   "cell_type": "markdown",
   "metadata": {},
   "source": [
    "# Load"
   ]
  },
  {
   "cell_type": "code",
   "execution_count": 5,
   "metadata": {},
   "outputs": [
    {
     "name": "stdout",
     "output_type": "stream",
     "text": [
      "<class 'pandas.core.frame.DataFrame'>\n",
      "DatetimeIndex: 331 entries, 2024-01-14 to 2024-12-09\n",
      "Data columns (total 46 columns):\n",
      " #   Column                           Non-Null Count  Dtype  \n",
      "---  ------                           --------------  -----  \n",
      " 0   Sessions                         331 non-null    float64\n",
      " 1   Seven-day active users           331 non-null    float64\n",
      " 2   28-day active users              331 non-null    float64\n",
      " 3   Events per session               331 non-null    float64\n",
      " 4   Add to baskets                   331 non-null    float64\n",
      " 5   Average purchase revenue         331 non-null    float64\n",
      " 6   Purchase revenue                 331 non-null    float64\n",
      " 7   Average session duration         331 non-null    float64\n",
      " 8   ARPU                             331 non-null    float64\n",
      " 9   ARPPU                            331 non-null    float64\n",
      " 10  Views per user                   331 non-null    float64\n",
      " 11  Total users                      331 non-null    float64\n",
      " 12  Promotion clicks                 331 non-null    float64\n",
      " 13  Sessions Mobile                  331 non-null    float64\n",
      " 14  Seven-day active users Mobile    331 non-null    float64\n",
      " 15  28-day active users Mobile       331 non-null    float64\n",
      " 16  New users Mobile                 331 non-null    float64\n",
      " 17  Scrolled users Mobile            331 non-null    float64\n",
      " 18  Engaged sessions Mobile          331 non-null    float64\n",
      " 19  Views Mobile                     331 non-null    float64\n",
      " 20  Event count Mobile               331 non-null    float64\n",
      " 21  Events per session Mobile        331 non-null    float64\n",
      " 22  Item-list view events Mobile     331 non-null    float64\n",
      " 23  Item view events Mobile          331 non-null    float64\n",
      " 24  Add to baskets Mobile            331 non-null    float64\n",
      " 25  Checkouts Mobile                 331 non-null    float64\n",
      " 26  E-commerce purchases Mobile      331 non-null    float64\n",
      " 27  Average purchase revenue Mobile  331 non-null    float64\n",
      " 28  Purchase revenue Mobile          331 non-null    float64\n",
      " 29  First time purchasers Mobile     331 non-null    float64\n",
      " 30  Average session duration Mobile  331 non-null    float64\n",
      " 31  Sessions (not set)               331 non-null    float64\n",
      " 32  Sessions affiliate               331 non-null    float64\n",
      " 33  Sessions cpc                     331 non-null    float64\n",
      " 34  Sessions cpm                     331 non-null    float64\n",
      " 35  Sessions email                   331 non-null    float64\n",
      " 36  Sessions other                   331 non-null    float64\n",
      " 37  Sessions referral                331 non-null    float64\n",
      " 38  season                           331 non-null    float64\n",
      " 39  commercial_season                331 non-null    float64\n",
      " 40  week_of_month                    331 non-null    float64\n",
      " 41  day_of_week_nr                   331 non-null    float64\n",
      " 42  is_weekend                       331 non-null    float64\n",
      " 43  is_holiday                       331 non-null    float64\n",
      " 44  is_major_event_day               331 non-null    float64\n",
      " 45  is_commercial_event_day          331 non-null    float64\n",
      "dtypes: float64(46)\n",
      "memory usage: 121.5 KB\n"
     ]
    }
   ],
   "source": [
    "test_data=True\n",
    "# test_data=False\n",
    "\n",
    "\n",
    "train=pd.read_csv(f\"data/df_merch_0_2024_agg_time_final_train.csv\", decimal=\".\",  index_col='Date', parse_dates=True,  infer_datetime_format=True)\n",
    "\n",
    "test=pd.read_csv(f\"data/df_merch_0_2024_agg_time_final_test.csv\", decimal=\".\",  index_col='Date', parse_dates=True,  infer_datetime_format=True)\n",
    "\n",
    "\n",
    "\n",
    "train.info()"
   ]
  },
  {
   "cell_type": "markdown",
   "metadata": {},
   "source": [
    "# ARIMA"
   ]
  },
  {
   "cell_type": "code",
   "execution_count": null,
   "metadata": {},
   "outputs": [],
   "source": []
  },
  {
   "cell_type": "markdown",
   "metadata": {},
   "source": [
    "# LSTMs"
   ]
  },
  {
   "cell_type": "code",
   "execution_count": null,
   "metadata": {},
   "outputs": [],
   "source": []
  }
 ],
 "metadata": {
  "kernelspec": {
   "display_name": "base",
   "language": "python",
   "name": "python3"
  },
  "language_info": {
   "codemirror_mode": {
    "name": "ipython",
    "version": 3
   },
   "file_extension": ".py",
   "mimetype": "text/x-python",
   "name": "python",
   "nbconvert_exporter": "python",
   "pygments_lexer": "ipython3",
   "version": "3.12.4"
  }
 },
 "nbformat": 4,
 "nbformat_minor": 2
}
