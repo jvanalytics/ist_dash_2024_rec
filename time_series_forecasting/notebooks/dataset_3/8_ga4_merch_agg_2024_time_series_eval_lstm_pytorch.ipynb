{
 "cells": [
  {
   "cell_type": "markdown",
   "metadata": {},
   "source": [
    "# Install pytorch\n",
    "- https://pytorch.org/\n",
    "\n",
    "1. Go to anaconda terminal as admin and enter\n",
    "```bash\n",
    "conda create --name pytorch_cpu python=3.12\n",
    "```\n",
    "\n",
    "2. activate environment\n",
    "\n",
    "```bash\n",
    "conda activate pytorch_cpu\n",
    "```\n",
    "\n",
    "3. install pytorch\n",
    "```bash \n",
    "\n",
    "# CPU Only Windows and Linux\n",
    "conda install pytorch==2.5.0 torchvision==0.20.0 torchaudio==2.5.0 cpuonly -c pytorch\n",
    "\n",
    "# MAC OSX\n",
    "conda install pytorch==2.5.0 torchvision==0.20.0 torchaudio==2.5.0 -c pytorch\n",
    "\n",
    "```\n",
    "\n",
    "4. install additional packages from dslabs and data functions\n",
    "```bash\n",
    "conda install pandas scikit-learn matplotlib statsmodels\n",
    "```\n",
    "\n",
    "5. if jupyter has errors run\n",
    "\n",
    "```bash\n",
    "conda install -n pytorch_cpu ipykernel --update-deps --force-reinstall\n",
    "```\n",
    "\n"
   ]
  },
  {
   "cell_type": "markdown",
   "metadata": {},
   "source": [
    "# DSLabs functions"
   ]
  },
  {
   "cell_type": "code",
   "execution_count": 21,
   "metadata": {},
   "outputs": [],
   "source": [
    "%run \"scripts/dslabs_functions.py\"\n"
   ]
  },
  {
   "cell_type": "markdown",
   "metadata": {},
   "source": [
    "# Data functions"
   ]
  },
  {
   "cell_type": "code",
   "execution_count": 22,
   "metadata": {},
   "outputs": [
    {
     "name": "stdout",
     "output_type": "stream",
     "text": [
      "data_functions loaded\n"
     ]
    }
   ],
   "source": [
    "%run \"scripts/data_functions.py\"\n"
   ]
  },
  {
   "cell_type": "markdown",
   "metadata": {},
   "source": [
    "# Load"
   ]
  },
  {
   "cell_type": "code",
   "execution_count": 23,
   "metadata": {},
   "outputs": [
    {
     "name": "stdout",
     "output_type": "stream",
     "text": [
      "<class 'pandas.core.frame.DataFrame'>\n",
      "DatetimeIndex: 107 entries, 2024-11-19 to 2025-03-05\n",
      "Data columns (total 46 columns):\n",
      " #   Column                           Non-Null Count  Dtype  \n",
      "---  ------                           --------------  -----  \n",
      " 0   Sessions                         107 non-null    float64\n",
      " 1   Seven-day active users           107 non-null    float64\n",
      " 2   28-day active users              107 non-null    float64\n",
      " 3   Events per session               107 non-null    float64\n",
      " 4   Add to baskets                   107 non-null    float64\n",
      " 5   Checkouts                        107 non-null    float64\n",
      " 6   E-commerce purchases             107 non-null    float64\n",
      " 7   Average purchase revenue         107 non-null    float64\n",
      " 8   Purchase revenue                 107 non-null    float64\n",
      " 9   Average session duration         107 non-null    float64\n",
      " 10  ARPU                             107 non-null    float64\n",
      " 11  ARPPU                            107 non-null    float64\n",
      " 12  Views per user                   107 non-null    float64\n",
      " 13  Total users                      107 non-null    float64\n",
      " 14  Promotion views                  107 non-null    float64\n",
      " 15  Promotion clicks                 107 non-null    float64\n",
      " 16  Sessions Mobile                  107 non-null    float64\n",
      " 17  Seven-day active users Mobile    107 non-null    float64\n",
      " 18  28-day active users Mobile       107 non-null    float64\n",
      " 19  New users Mobile                 107 non-null    float64\n",
      " 20  Scrolled users Mobile            107 non-null    float64\n",
      " 21  Engaged sessions Mobile          107 non-null    float64\n",
      " 22  Views Mobile                     107 non-null    float64\n",
      " 23  Event count Mobile               107 non-null    float64\n",
      " 24  Events per session Mobile        107 non-null    float64\n",
      " 25  Item-list view events Mobile     107 non-null    float64\n",
      " 26  Item view events Mobile          107 non-null    float64\n",
      " 27  Add to baskets Mobile            107 non-null    float64\n",
      " 28  Checkouts Mobile                 107 non-null    float64\n",
      " 29  E-commerce purchases Mobile      107 non-null    float64\n",
      " 30  Average purchase revenue Mobile  107 non-null    float64\n",
      " 31  Purchase revenue Mobile          107 non-null    float64\n",
      " 32  First time purchasers Mobile     107 non-null    float64\n",
      " 33  Average session duration Mobile  107 non-null    float64\n",
      " 34  Sessions (not set)               107 non-null    float64\n",
      " 35  Sessions affiliate               107 non-null    float64\n",
      " 36  Sessions cpc                     107 non-null    float64\n",
      " 37  Sessions cpm                     107 non-null    float64\n",
      " 38  Sessions email                   107 non-null    float64\n",
      " 39  Sessions organic                 107 non-null    float64\n",
      " 40  Sessions other                   107 non-null    float64\n",
      " 41  Sessions referral                107 non-null    float64\n",
      " 42  season                           107 non-null    float64\n",
      " 43  commercial_season                107 non-null    float64\n",
      " 44  is_weekend                       107 non-null    float64\n",
      " 45  is_holiday                       107 non-null    float64\n",
      "dtypes: float64(46)\n",
      "memory usage: 39.3 KB\n"
     ]
    }
   ],
   "source": [
    "import pandas as pd\n",
    "import numpy as np\n",
    "\n",
    "\n",
    "file_tag = \"Google Merch Store 2024-2025\"\n",
    "\n",
    "\n",
    "test_data=True\n",
    "# test_data=False\n",
    "\n",
    "\n",
    "train=pd.read_csv(f\"data/df_merch_0_2024_agg_time_final_train.csv\", decimal=\".\",  index_col='Date', parse_dates=True,  infer_datetime_format=True)\n",
    "\n",
    "test=pd.read_csv(f\"data/df_merch_0_2024_agg_time_final_test.csv\", decimal=\".\",  index_col='Date', parse_dates=True,  infer_datetime_format=True)\n",
    "\n",
    "target='Sessions'\n",
    "\n",
    "\n",
    "test.info()"
   ]
  },
  {
   "cell_type": "markdown",
   "metadata": {},
   "source": [
    "# LSTM Pytorch Univariate"
   ]
  },
  {
   "cell_type": "markdown",
   "metadata": {},
   "source": [
    "## Univariate Pytorch Functions and data prep"
   ]
  },
  {
   "cell_type": "code",
   "execution_count": null,
   "metadata": {},
   "outputs": [],
   "source": []
  },
  {
   "cell_type": "code",
   "execution_count": 16,
   "metadata": {},
   "outputs": [],
   "source": [
    "from torch import no_grad, tensor\n",
    "from torch.nn import LSTM, Linear, Module, MSELoss\n",
    "from torch.optim import Adam\n",
    "from torch.utils.data import DataLoader, TensorDataset\n",
    "\n",
    "\n",
    "def prepare_dataset_for_lstm(series, seq_length: int = 4):\n",
    "    setX: list = []\n",
    "    setY: list = []\n",
    "    for i in range(len(series) - seq_length):\n",
    "        past = series[i : i + seq_length]\n",
    "        future = series[i + 1 : i + seq_length + 1]\n",
    "        setX.append(past)\n",
    "        setY.append(future)\n",
    "    return tensor(setX), tensor(setY)\n",
    "\n",
    "\n",
    "class DS_LSTM(Module):\n",
    "    def __init__(self, train, input_size: int = 1, hidden_size: int = 50, num_layers: int = 1, length: int = 4):\n",
    "        super().__init__()\n",
    "        self.lstm = LSTM(input_size=input_size, hidden_size=hidden_size, num_layers=num_layers, batch_first=True)\n",
    "        self.linear = Linear(hidden_size, 1)\n",
    "        self.optimizer = Adam(self.parameters())\n",
    "        self.loss_fn = MSELoss()\n",
    "\n",
    "        trnX, trnY = prepare_dataset_for_lstm(train, seq_length=length)\n",
    "        self.loader = DataLoader(TensorDataset(trnX, trnY), shuffle=True, batch_size=len(train) // 10)\n",
    "\n",
    "    def forward(self, x):\n",
    "        x, _ = self.lstm(x)\n",
    "        x = self.linear(x)\n",
    "        return x\n",
    "\n",
    "    def fit(self):\n",
    "        self.train()\n",
    "        for batchX, batchY in self.loader:\n",
    "            y_pred = self(batchX)\n",
    "            loss = self.loss_fn(y_pred, batchY)\n",
    "            self.optimizer.zero_grad()\n",
    "            loss.backward()\n",
    "            self.optimizer.step()\n",
    "        return loss\n",
    "\n",
    "    def predict(self, X):\n",
    "        with no_grad():\n",
    "            y_pred = self(X)\n",
    "        return y_pred[:, -1, :]"
   ]
  },
  {
   "cell_type": "code",
   "execution_count": 17,
   "metadata": {},
   "outputs": [],
   "source": [
    "from dslabs_functions import HEIGHT, plot_multiline_chart\n",
    "from copy import deepcopy\n",
    "\n",
    "from matplotlib.pyplot import figure, savefig, subplots\n",
    "from dslabs_functions import FORECAST_MEASURES, DELTA_IMPROVE, plot_multiline_chart\n",
    "\n",
    "\n",
    "def lstm_study(train, test, nr_episodes: int = 1000, measure: str = \"R2\"):\n",
    "    sequence_size = [2, 4, 8]\n",
    "    nr_hidden_units = [25, 50, 100]\n",
    "\n",
    "    step: int = nr_episodes // 10\n",
    "    episodes = [1] + list(range(0, nr_episodes + 1, step))[1:]\n",
    "    flag = measure == \"R2\" or measure == \"MAPE\"\n",
    "    best_model = None\n",
    "    best_params: dict = {\"name\": \"LSTM\", \"metric\": measure, \"params\": ()}\n",
    "    best_performance: float = -100000\n",
    "\n",
    "    _, axs = subplots(1, len(sequence_size), figsize=(len(sequence_size) * HEIGHT, HEIGHT))\n",
    "\n",
    "    for i in range(len(sequence_size)):\n",
    "        length = sequence_size[i]\n",
    "        tstX, tstY = prepare_dataset_for_lstm(test, seq_length=length)\n",
    "\n",
    "        values = {}\n",
    "        for hidden in nr_hidden_units:\n",
    "            yvalues = []\n",
    "            model = DS_LSTM(train, hidden_size=hidden)\n",
    "            for n in range(0, nr_episodes + 1):\n",
    "                model.fit()\n",
    "                if n % step == 0:\n",
    "                    prd_tst = model.predict(tstX)\n",
    "                    eval: float = FORECAST_MEASURES[measure](test[length:], prd_tst)\n",
    "                    print(f\"seq length={length} hidden_units={hidden} nr_episodes={n}\", eval)\n",
    "                    if eval > best_performance and abs(eval - best_performance) > DELTA_IMPROVE:\n",
    "                        best_performance: float = eval\n",
    "                        best_params[\"params\"] = (length, hidden, n)\n",
    "                        best_model = deepcopy(model)\n",
    "                    yvalues.append(eval)\n",
    "            values[hidden] = yvalues\n",
    "        plot_multiline_chart(\n",
    "            episodes,\n",
    "            values,\n",
    "            ax=axs[i],\n",
    "            title=f\"LSTM seq length={length} ({measure})\",\n",
    "            xlabel=\"nr episodes\",\n",
    "            ylabel=measure,\n",
    "            percentage=flag,\n",
    "        )\n",
    "    print(\n",
    "        f\"LSTM best results achieved with length={best_params[\"params\"][0]} hidden_units={best_params[\"params\"][1]} and nr_episodes={best_params[\"params\"][2]}) ==> measure={best_performance:.2f}\"\n",
    "    )\n",
    "    return best_model, best_params\n"
   ]
  },
  {
   "cell_type": "markdown",
   "metadata": {},
   "source": [
    "## Univariate Pytorch Study"
   ]
  },
  {
   "cell_type": "code",
   "execution_count": 6,
   "metadata": {},
   "outputs": [
    {
     "name": "stdout",
     "output_type": "stream",
     "text": [
      "seq length=2 hidden_units=25 nr_episodes=0 -0.028420329093933105\n",
      "seq length=2 hidden_units=25 nr_episodes=300 -0.8231798410415649\n",
      "seq length=2 hidden_units=25 nr_episodes=600 -0.9856460094451904\n",
      "seq length=2 hidden_units=25 nr_episodes=900 -1.0386030673980713\n",
      "seq length=2 hidden_units=25 nr_episodes=1200 -0.9462580680847168\n",
      "seq length=2 hidden_units=25 nr_episodes=1500 -0.8544689416885376\n",
      "seq length=2 hidden_units=25 nr_episodes=1800 -0.8112362623214722\n",
      "seq length=2 hidden_units=25 nr_episodes=2100 -0.6418496370315552\n",
      "seq length=2 hidden_units=25 nr_episodes=2400 -0.6085681915283203\n",
      "seq length=2 hidden_units=25 nr_episodes=2700 -0.5666204690933228\n",
      "seq length=2 hidden_units=25 nr_episodes=3000 -0.5691418647766113\n",
      "seq length=2 hidden_units=50 nr_episodes=0 -0.015601515769958496\n",
      "seq length=2 hidden_units=50 nr_episodes=300 -0.9170279502868652\n",
      "seq length=2 hidden_units=50 nr_episodes=600 -1.147350788116455\n",
      "seq length=2 hidden_units=50 nr_episodes=900 -1.0295438766479492\n",
      "seq length=2 hidden_units=50 nr_episodes=1200 -0.9787758588790894\n",
      "seq length=2 hidden_units=50 nr_episodes=1500 -0.8252543210983276\n",
      "seq length=2 hidden_units=50 nr_episodes=1800 -0.7493436336517334\n",
      "seq length=2 hidden_units=50 nr_episodes=2100 -0.648452639579773\n",
      "seq length=2 hidden_units=50 nr_episodes=2400 -0.6167581081390381\n",
      "seq length=2 hidden_units=50 nr_episodes=2700 -0.5094149112701416\n",
      "seq length=2 hidden_units=50 nr_episodes=3000 -0.5058971643447876\n",
      "seq length=2 hidden_units=100 nr_episodes=0 -0.02620089054107666\n",
      "seq length=2 hidden_units=100 nr_episodes=300 -1.0052850246429443\n",
      "seq length=2 hidden_units=100 nr_episodes=600 -1.0788838863372803\n",
      "seq length=2 hidden_units=100 nr_episodes=900 -0.840553879737854\n",
      "seq length=2 hidden_units=100 nr_episodes=1200 -0.5972651243209839\n",
      "seq length=2 hidden_units=100 nr_episodes=1500 -0.5379538536071777\n",
      "seq length=2 hidden_units=100 nr_episodes=1800 -0.5345481634140015\n",
      "seq length=2 hidden_units=100 nr_episodes=2100 -0.4884936809539795\n",
      "seq length=2 hidden_units=100 nr_episodes=2400 -0.5394155979156494\n",
      "seq length=2 hidden_units=100 nr_episodes=2700 -0.5474179983139038\n",
      "seq length=2 hidden_units=100 nr_episodes=3000 -0.6889442205429077\n",
      "seq length=4 hidden_units=25 nr_episodes=0 -0.014948487281799316\n",
      "seq length=4 hidden_units=25 nr_episodes=300 -0.7180458307266235\n",
      "seq length=4 hidden_units=25 nr_episodes=600 -0.7222433090209961\n",
      "seq length=4 hidden_units=25 nr_episodes=900 -0.9447708129882812\n",
      "seq length=4 hidden_units=25 nr_episodes=1200 -1.0275976657867432\n",
      "seq length=4 hidden_units=25 nr_episodes=1500 -1.0112898349761963\n",
      "seq length=4 hidden_units=25 nr_episodes=1800 -0.9770044088363647\n",
      "seq length=4 hidden_units=25 nr_episodes=2100 -0.9599668979644775\n",
      "seq length=4 hidden_units=25 nr_episodes=2400 -0.9964421987533569\n",
      "seq length=4 hidden_units=25 nr_episodes=2700 -0.9001283645629883\n",
      "seq length=4 hidden_units=25 nr_episodes=3000 -0.9506144523620605\n",
      "seq length=4 hidden_units=50 nr_episodes=0 -0.012738466262817383\n",
      "seq length=4 hidden_units=50 nr_episodes=300 -0.7408421039581299\n",
      "seq length=4 hidden_units=50 nr_episodes=600 -0.8730010986328125\n",
      "seq length=4 hidden_units=50 nr_episodes=900 -0.8394336700439453\n",
      "seq length=4 hidden_units=50 nr_episodes=1200 -0.8880398273468018\n",
      "seq length=4 hidden_units=50 nr_episodes=1500 -1.0137581825256348\n",
      "seq length=4 hidden_units=50 nr_episodes=1800 -1.1392428874969482\n",
      "seq length=4 hidden_units=50 nr_episodes=2100 -1.2003302574157715\n",
      "seq length=4 hidden_units=50 nr_episodes=2400 -1.1845977306365967\n",
      "seq length=4 hidden_units=50 nr_episodes=2700 -1.2619562149047852\n",
      "seq length=4 hidden_units=50 nr_episodes=3000 -1.290132761001587\n",
      "seq length=4 hidden_units=100 nr_episodes=0 -0.005433082580566406\n",
      "seq length=4 hidden_units=100 nr_episodes=300 -0.788983941078186\n",
      "seq length=4 hidden_units=100 nr_episodes=600 -1.1160337924957275\n",
      "seq length=4 hidden_units=100 nr_episodes=900 -0.9621787071228027\n",
      "seq length=4 hidden_units=100 nr_episodes=1200 -0.9723110198974609\n",
      "seq length=4 hidden_units=100 nr_episodes=1500 -0.9909349679946899\n",
      "seq length=4 hidden_units=100 nr_episodes=1800 -1.007528305053711\n",
      "seq length=4 hidden_units=100 nr_episodes=2100 -1.0442843437194824\n",
      "seq length=4 hidden_units=100 nr_episodes=2400 -1.216341257095337\n",
      "seq length=4 hidden_units=100 nr_episodes=2700 -1.446403980255127\n",
      "seq length=4 hidden_units=100 nr_episodes=3000 -1.5896124839782715\n",
      "seq length=8 hidden_units=25 nr_episodes=0 -0.007776856422424316\n",
      "seq length=8 hidden_units=25 nr_episodes=300 -0.6348726749420166\n",
      "seq length=8 hidden_units=25 nr_episodes=600 -0.7445120811462402\n",
      "seq length=8 hidden_units=25 nr_episodes=900 -0.9617103338241577\n",
      "seq length=8 hidden_units=25 nr_episodes=1200 -0.8763129711151123\n",
      "seq length=8 hidden_units=25 nr_episodes=1500 -0.8746017217636108\n",
      "seq length=8 hidden_units=25 nr_episodes=1800 -0.8398715257644653\n",
      "seq length=8 hidden_units=25 nr_episodes=2100 -0.8953075408935547\n",
      "seq length=8 hidden_units=25 nr_episodes=2400 -0.9724984169006348\n",
      "seq length=8 hidden_units=25 nr_episodes=2700 -1.2134454250335693\n",
      "seq length=8 hidden_units=25 nr_episodes=3000 -1.4088764190673828\n",
      "seq length=8 hidden_units=50 nr_episodes=0 -0.014395833015441895\n",
      "seq length=8 hidden_units=50 nr_episodes=300 -0.6503593921661377\n",
      "seq length=8 hidden_units=50 nr_episodes=600 -0.987704873085022\n",
      "seq length=8 hidden_units=50 nr_episodes=900 -0.8297001123428345\n",
      "seq length=8 hidden_units=50 nr_episodes=1200 -0.8110370635986328\n",
      "seq length=8 hidden_units=50 nr_episodes=1500 -0.9260416030883789\n",
      "seq length=8 hidden_units=50 nr_episodes=1800 -0.8486741781234741\n",
      "seq length=8 hidden_units=50 nr_episodes=2100 -1.1360437870025635\n",
      "seq length=8 hidden_units=50 nr_episodes=2400 -1.1256537437438965\n",
      "seq length=8 hidden_units=50 nr_episodes=2700 -1.5662412643432617\n",
      "seq length=8 hidden_units=50 nr_episodes=3000 -1.9559099674224854\n",
      "seq length=8 hidden_units=100 nr_episodes=0 -0.03489387035369873\n",
      "seq length=8 hidden_units=100 nr_episodes=300 -0.7305992841720581\n",
      "seq length=8 hidden_units=100 nr_episodes=600 -0.5124404430389404\n",
      "seq length=8 hidden_units=100 nr_episodes=900 -1.0349230766296387\n",
      "seq length=8 hidden_units=100 nr_episodes=1200 -1.1678779125213623\n",
      "seq length=8 hidden_units=100 nr_episodes=1500 -1.1788878440856934\n",
      "seq length=8 hidden_units=100 nr_episodes=1800 -1.0323691368103027\n",
      "seq length=8 hidden_units=100 nr_episodes=2100 -1.2106680870056152\n",
      "seq length=8 hidden_units=100 nr_episodes=2400 -1.0007009506225586\n",
      "seq length=8 hidden_units=100 nr_episodes=2700 -1.0329349040985107\n",
      "seq length=8 hidden_units=100 nr_episodes=3000 -1.1232318878173828\n",
      "LSTM best results achieved with length=4 hidden_units=100 and nr_episodes=0) ==> measure=-0.01\n"
     ]
    },
    {
     "data": {
      "image/png": "[encoded data removed]",
      "text/plain": [
       "<Figure size 1200x400 with 3 Axes>"
      ]
     },
     "metadata": {},
     "output_type": "display_data"
    }
   ],
   "source": [
    "# # Prepare the training and testing data using the time index as the feature\n",
    "from numpy import arange\n",
    "\n",
    "# trnX = arange(len(train)).reshape(-1, 1)\n",
    "# trnY = train[target].to_numpy()\n",
    "# tstX = arange(len(train), len(train+test)).reshape(-1, 1)\n",
    "# tstY = test[target].to_numpy()\n",
    "\n",
    "\n",
    "# Example usage\n",
    "# Assuming `train` and `test` are your DataFrames and `target` is the target column name\n",
    "# trnX = arange(len(train)).reshape(-1, 1)\n",
    "# trnY = train[target].to_numpy().astype(np.float32)  # Convert to float32\n",
    "# tstX = arange(len(train), len(train) + len(test)).reshape(-1, 1)\n",
    "# tstY = test[target].to_numpy().astype(np.float32)  # Convert to float32\n",
    "\n",
    "trnY = train[[target]].values.astype(\"float32\")\n",
    "tstY = test[[target]].values.astype(\"float32\")\n",
    "\n",
    "\n",
    "best_model, best_params = lstm_study(trnY, tstY, nr_episodes=3000, measure='R2')"
   ]
  },
  {
   "cell_type": "markdown",
   "metadata": {},
   "source": [
    "## Pytorch Model and Loss Univariate\n"
   ]
  },
  {
   "cell_type": "code",
   "execution_count": 7,
   "metadata": {},
   "outputs": [
    {
     "name": "stdout",
     "output_type": "stream",
     "text": [
      "tensor(0.8094, grad_fn=<MseLossBackward0>)\n"
     ]
    }
   ],
   "source": [
    "model = DS_LSTM(trnY, input_size=1, hidden_size=50, num_layers=1)\n",
    "loss = model.fit()\n",
    "print(loss)"
   ]
  },
  {
   "cell_type": "markdown",
   "metadata": {},
   "source": [
    "## Univariate Pytorch eval"
   ]
  },
  {
   "cell_type": "code",
   "execution_count": 20,
   "metadata": {},
   "outputs": [
    {
     "ename": "ValueError",
     "evalue": "y_true and y_pred have different number of output (46!=1)",
     "output_type": "error",
     "traceback": [
      "\u001b[1;31m---------------------------------------------------------------------------\u001b[0m",
      "\u001b[1;31mValueError\u001b[0m                                Traceback (most recent call last)",
      "Cell \u001b[1;32mIn[20], line 17\u001b[0m\n\u001b[0;32m     14\u001b[0m prd_tst \u001b[38;5;241m=\u001b[39m best_model\u001b[38;5;241m.\u001b[39mpredict(tstX)\n\u001b[0;32m     16\u001b[0m \u001b[38;5;66;03m# Plot the forecasting evaluation\u001b[39;00m\n\u001b[1;32m---> 17\u001b[0m plot_single_model_evaluation(train[best_length:], test[:best_length], prd_trn, prd_tst, title\u001b[38;5;241m=\u001b[39m\u001b[38;5;124mf\u001b[39m\u001b[38;5;124m\"\u001b[39m\u001b[38;5;132;01m{\u001b[39;00mfile_tag\u001b[38;5;132;01m}\u001b[39;00m\u001b[38;5;124m - LSTM (length=\u001b[39m\u001b[38;5;132;01m{\u001b[39;00mbest_length\u001b[38;5;132;01m}\u001b[39;00m\u001b[38;5;124m, hidden=\u001b[39m\u001b[38;5;132;01m{\u001b[39;00mparams[\u001b[38;5;241m1\u001b[39m]\u001b[38;5;132;01m}\u001b[39;00m\u001b[38;5;124m, epochs=\u001b[39m\u001b[38;5;132;01m{\u001b[39;00mparams[\u001b[38;5;241m2\u001b[39m]\u001b[38;5;132;01m}\u001b[39;00m\u001b[38;5;124m)\u001b[39m\u001b[38;5;124m\"\u001b[39m)\n\u001b[0;32m     18\u001b[0m savefig(\u001b[38;5;124mf\u001b[39m\u001b[38;5;124m\"\u001b[39m\u001b[38;5;124mimages/\u001b[39m\u001b[38;5;132;01m{\u001b[39;00mfile_tag\u001b[38;5;132;01m}\u001b[39;00m\u001b[38;5;124m_LSTM_multivariate_predictions.png\u001b[39m\u001b[38;5;124m\"\u001b[39m)\n",
      "File \u001b[1;32mC:\\Data\\Coding\\Python\\ist_dash_2024_rec\\time_series_forecasting\\notebooks\\dataset_3\\scripts\\data_functions.py:1753\u001b[0m, in \u001b[0;36mplot_single_model_evaluation\u001b[1;34m(train, test, prd_train, prd_test, title)\u001b[0m\n\u001b[0;32m   1743\u001b[0m \u001b[38;5;28;01mdef\u001b[39;00m \u001b[38;5;21mplot_single_model_evaluation\u001b[39m(train: Series, test: Series, prd_train: Series, prd_test: Series, title: \u001b[38;5;28mstr\u001b[39m \u001b[38;5;241m=\u001b[39m \u001b[38;5;124m\"\u001b[39m\u001b[38;5;124m\"\u001b[39m):\n\u001b[0;32m   1744\u001b[0m     \u001b[38;5;66;03m# Drop NaN values from the input series\u001b[39;00m\n\u001b[0;32m   1745\u001b[0m     \u001b[38;5;66;03m# train = train.dropna()\u001b[39;00m\n\u001b[1;32m   (...)\u001b[0m\n\u001b[0;32m   1749\u001b[0m     \n\u001b[0;32m   1750\u001b[0m     \u001b[38;5;66;03m# Calculate performance metrics\u001b[39;00m\n\u001b[0;32m   1751\u001b[0m     metrics \u001b[38;5;241m=\u001b[39m {\n\u001b[0;32m   1752\u001b[0m         \u001b[38;5;124m\"\u001b[39m\u001b[38;5;124mMAE\u001b[39m\u001b[38;5;124m\"\u001b[39m: [\n\u001b[1;32m-> 1753\u001b[0m             mean_absolute_error(train, prd_train),\n\u001b[0;32m   1754\u001b[0m             mean_absolute_error(test, prd_test),\n\u001b[0;32m   1755\u001b[0m         ],\n\u001b[0;32m   1756\u001b[0m         \u001b[38;5;124m\"\u001b[39m\u001b[38;5;124mMSE\u001b[39m\u001b[38;5;124m\"\u001b[39m: [\n\u001b[0;32m   1757\u001b[0m             mean_squared_error(train, prd_train),\n\u001b[0;32m   1758\u001b[0m             mean_squared_error(test, prd_test),\n\u001b[0;32m   1759\u001b[0m         ],\n\u001b[0;32m   1760\u001b[0m         \u001b[38;5;124m\"\u001b[39m\u001b[38;5;124mRMSE\u001b[39m\u001b[38;5;124m\"\u001b[39m: [\n\u001b[0;32m   1761\u001b[0m             mean_squared_error(train, prd_train, squared\u001b[38;5;241m=\u001b[39m\u001b[38;5;28;01mFalse\u001b[39;00m),\n\u001b[0;32m   1762\u001b[0m             mean_squared_error(test, prd_test, squared\u001b[38;5;241m=\u001b[39m\u001b[38;5;28;01mFalse\u001b[39;00m),\n\u001b[0;32m   1763\u001b[0m         ],\n\u001b[0;32m   1764\u001b[0m         \u001b[38;5;124m\"\u001b[39m\u001b[38;5;124mR²\u001b[39m\u001b[38;5;124m\"\u001b[39m: [\n\u001b[0;32m   1765\u001b[0m             r2_score(train, prd_train),\n\u001b[0;32m   1766\u001b[0m             r2_score(test, prd_test),\n\u001b[0;32m   1767\u001b[0m         ]\n\u001b[0;32m   1768\u001b[0m     }\n\u001b[0;32m   1770\u001b[0m     \u001b[38;5;66;03m# Create a DataFrame from the metrics dictionary\u001b[39;00m\n\u001b[0;32m   1771\u001b[0m     performance_df \u001b[38;5;241m=\u001b[39m pd\u001b[38;5;241m.\u001b[39mDataFrame(metrics, index\u001b[38;5;241m=\u001b[39m[\u001b[38;5;124m\"\u001b[39m\u001b[38;5;124mTrain\u001b[39m\u001b[38;5;124m\"\u001b[39m, \u001b[38;5;124m\"\u001b[39m\u001b[38;5;124mTest\u001b[39m\u001b[38;5;124m\"\u001b[39m])\u001b[38;5;241m.\u001b[39mT\n",
      "File \u001b[1;32mc:\\ProgramData\\anaconda3\\envs\\pytorch_cpu\\Lib\\site-packages\\sklearn\\utils\\_param_validation.py:216\u001b[0m, in \u001b[0;36mvalidate_params.<locals>.decorator.<locals>.wrapper\u001b[1;34m(*args, **kwargs)\u001b[0m\n\u001b[0;32m    210\u001b[0m \u001b[38;5;28;01mtry\u001b[39;00m:\n\u001b[0;32m    211\u001b[0m     \u001b[38;5;28;01mwith\u001b[39;00m config_context(\n\u001b[0;32m    212\u001b[0m         skip_parameter_validation\u001b[38;5;241m=\u001b[39m(\n\u001b[0;32m    213\u001b[0m             prefer_skip_nested_validation \u001b[38;5;129;01mor\u001b[39;00m global_skip_validation\n\u001b[0;32m    214\u001b[0m         )\n\u001b[0;32m    215\u001b[0m     ):\n\u001b[1;32m--> 216\u001b[0m         \u001b[38;5;28;01mreturn\u001b[39;00m func(\u001b[38;5;241m*\u001b[39margs, \u001b[38;5;241m*\u001b[39m\u001b[38;5;241m*\u001b[39mkwargs)\n\u001b[0;32m    217\u001b[0m \u001b[38;5;28;01mexcept\u001b[39;00m InvalidParameterError \u001b[38;5;28;01mas\u001b[39;00m e:\n\u001b[0;32m    218\u001b[0m     \u001b[38;5;66;03m# When the function is just a wrapper around an estimator, we allow\u001b[39;00m\n\u001b[0;32m    219\u001b[0m     \u001b[38;5;66;03m# the function to delegate validation to the estimator, but we replace\u001b[39;00m\n\u001b[0;32m    220\u001b[0m     \u001b[38;5;66;03m# the name of the estimator by the name of the function in the error\u001b[39;00m\n\u001b[0;32m    221\u001b[0m     \u001b[38;5;66;03m# message to avoid confusion.\u001b[39;00m\n\u001b[0;32m    222\u001b[0m     msg \u001b[38;5;241m=\u001b[39m re\u001b[38;5;241m.\u001b[39msub(\n\u001b[0;32m    223\u001b[0m         \u001b[38;5;124mr\u001b[39m\u001b[38;5;124m\"\u001b[39m\u001b[38;5;124mparameter of \u001b[39m\u001b[38;5;124m\\\u001b[39m\u001b[38;5;124mw+ must be\u001b[39m\u001b[38;5;124m\"\u001b[39m,\n\u001b[0;32m    224\u001b[0m         \u001b[38;5;124mf\u001b[39m\u001b[38;5;124m\"\u001b[39m\u001b[38;5;124mparameter of \u001b[39m\u001b[38;5;132;01m{\u001b[39;00mfunc\u001b[38;5;241m.\u001b[39m\u001b[38;5;18m__qualname__\u001b[39m\u001b[38;5;132;01m}\u001b[39;00m\u001b[38;5;124m must be\u001b[39m\u001b[38;5;124m\"\u001b[39m,\n\u001b[0;32m    225\u001b[0m         \u001b[38;5;28mstr\u001b[39m(e),\n\u001b[0;32m    226\u001b[0m     )\n",
      "File \u001b[1;32mc:\\ProgramData\\anaconda3\\envs\\pytorch_cpu\\Lib\\site-packages\\sklearn\\metrics\\_regression.py:277\u001b[0m, in \u001b[0;36mmean_absolute_error\u001b[1;34m(y_true, y_pred, sample_weight, multioutput)\u001b[0m\n\u001b[0;32m    222\u001b[0m \u001b[38;5;250m\u001b[39m\u001b[38;5;124;03m\"\"\"Mean absolute error regression loss.\u001b[39;00m\n\u001b[0;32m    223\u001b[0m \n\u001b[0;32m    224\u001b[0m \u001b[38;5;124;03mRead more in the :ref:`User Guide <mean_absolute_error>`.\u001b[39;00m\n\u001b[1;32m   (...)\u001b[0m\n\u001b[0;32m    272\u001b[0m \u001b[38;5;124;03m0.85...\u001b[39;00m\n\u001b[0;32m    273\u001b[0m \u001b[38;5;124;03m\"\"\"\u001b[39;00m\n\u001b[0;32m    274\u001b[0m xp, _ \u001b[38;5;241m=\u001b[39m get_namespace(y_true, y_pred, sample_weight, multioutput)\n\u001b[0;32m    276\u001b[0m _, y_true, y_pred, sample_weight, multioutput \u001b[38;5;241m=\u001b[39m (\n\u001b[1;32m--> 277\u001b[0m     _check_reg_targets_with_floating_dtype(\n\u001b[0;32m    278\u001b[0m         y_true, y_pred, sample_weight, multioutput, xp\u001b[38;5;241m=\u001b[39mxp\n\u001b[0;32m    279\u001b[0m     )\n\u001b[0;32m    280\u001b[0m )\n\u001b[0;32m    282\u001b[0m check_consistent_length(y_true, y_pred, sample_weight)\n\u001b[0;32m    284\u001b[0m output_errors \u001b[38;5;241m=\u001b[39m _average(\n\u001b[0;32m    285\u001b[0m     xp\u001b[38;5;241m.\u001b[39mabs(y_pred \u001b[38;5;241m-\u001b[39m y_true), weights\u001b[38;5;241m=\u001b[39msample_weight, axis\u001b[38;5;241m=\u001b[39m\u001b[38;5;241m0\u001b[39m, xp\u001b[38;5;241m=\u001b[39mxp\n\u001b[0;32m    286\u001b[0m )\n",
      "File \u001b[1;32mc:\\ProgramData\\anaconda3\\envs\\pytorch_cpu\\Lib\\site-packages\\sklearn\\metrics\\_regression.py:198\u001b[0m, in \u001b[0;36m_check_reg_targets_with_floating_dtype\u001b[1;34m(y_true, y_pred, sample_weight, multioutput, xp)\u001b[0m\n\u001b[0;32m    148\u001b[0m \u001b[38;5;250m\u001b[39m\u001b[38;5;124;03m\"\"\"Ensures that y_true, y_pred, and sample_weight correspond to the same\u001b[39;00m\n\u001b[0;32m    149\u001b[0m \u001b[38;5;124;03mregression task.\u001b[39;00m\n\u001b[0;32m    150\u001b[0m \n\u001b[1;32m   (...)\u001b[0m\n\u001b[0;32m    194\u001b[0m \u001b[38;5;124;03m    correct keyword.\u001b[39;00m\n\u001b[0;32m    195\u001b[0m \u001b[38;5;124;03m\"\"\"\u001b[39;00m\n\u001b[0;32m    196\u001b[0m dtype_name \u001b[38;5;241m=\u001b[39m _find_matching_floating_dtype(y_true, y_pred, sample_weight, xp\u001b[38;5;241m=\u001b[39mxp)\n\u001b[1;32m--> 198\u001b[0m y_type, y_true, y_pred, multioutput \u001b[38;5;241m=\u001b[39m _check_reg_targets(\n\u001b[0;32m    199\u001b[0m     y_true, y_pred, multioutput, dtype\u001b[38;5;241m=\u001b[39mdtype_name, xp\u001b[38;5;241m=\u001b[39mxp\n\u001b[0;32m    200\u001b[0m )\n\u001b[0;32m    202\u001b[0m \u001b[38;5;66;03m# _check_reg_targets does not accept sample_weight as input.\u001b[39;00m\n\u001b[0;32m    203\u001b[0m \u001b[38;5;66;03m# Convert sample_weight's data type separately to match dtype_name.\u001b[39;00m\n\u001b[0;32m    204\u001b[0m \u001b[38;5;28;01mif\u001b[39;00m sample_weight \u001b[38;5;129;01mis\u001b[39;00m \u001b[38;5;129;01mnot\u001b[39;00m \u001b[38;5;28;01mNone\u001b[39;00m:\n",
      "File \u001b[1;32mc:\\ProgramData\\anaconda3\\envs\\pytorch_cpu\\Lib\\site-packages\\sklearn\\metrics\\_regression.py:115\u001b[0m, in \u001b[0;36m_check_reg_targets\u001b[1;34m(y_true, y_pred, multioutput, dtype, xp)\u001b[0m\n\u001b[0;32m    112\u001b[0m     y_pred \u001b[38;5;241m=\u001b[39m xp\u001b[38;5;241m.\u001b[39mreshape(y_pred, (\u001b[38;5;241m-\u001b[39m\u001b[38;5;241m1\u001b[39m, \u001b[38;5;241m1\u001b[39m))\n\u001b[0;32m    114\u001b[0m \u001b[38;5;28;01mif\u001b[39;00m y_true\u001b[38;5;241m.\u001b[39mshape[\u001b[38;5;241m1\u001b[39m] \u001b[38;5;241m!=\u001b[39m y_pred\u001b[38;5;241m.\u001b[39mshape[\u001b[38;5;241m1\u001b[39m]:\n\u001b[1;32m--> 115\u001b[0m     \u001b[38;5;28;01mraise\u001b[39;00m \u001b[38;5;167;01mValueError\u001b[39;00m(\n\u001b[0;32m    116\u001b[0m         \u001b[38;5;124m\"\u001b[39m\u001b[38;5;124my_true and y_pred have different number of output (\u001b[39m\u001b[38;5;132;01m{0}\u001b[39;00m\u001b[38;5;124m!=\u001b[39m\u001b[38;5;132;01m{1}\u001b[39;00m\u001b[38;5;124m)\u001b[39m\u001b[38;5;124m\"\u001b[39m\u001b[38;5;241m.\u001b[39mformat(\n\u001b[0;32m    117\u001b[0m             y_true\u001b[38;5;241m.\u001b[39mshape[\u001b[38;5;241m1\u001b[39m], y_pred\u001b[38;5;241m.\u001b[39mshape[\u001b[38;5;241m1\u001b[39m]\n\u001b[0;32m    118\u001b[0m         )\n\u001b[0;32m    119\u001b[0m     )\n\u001b[0;32m    121\u001b[0m n_outputs \u001b[38;5;241m=\u001b[39m y_true\u001b[38;5;241m.\u001b[39mshape[\u001b[38;5;241m1\u001b[39m]\n\u001b[0;32m    122\u001b[0m allowed_multioutput_str \u001b[38;5;241m=\u001b[39m (\u001b[38;5;124m\"\u001b[39m\u001b[38;5;124mraw_values\u001b[39m\u001b[38;5;124m\"\u001b[39m, \u001b[38;5;124m\"\u001b[39m\u001b[38;5;124muniform_average\u001b[39m\u001b[38;5;124m\"\u001b[39m, \u001b[38;5;124m\"\u001b[39m\u001b[38;5;124mvariance_weighted\u001b[39m\u001b[38;5;124m\"\u001b[39m)\n",
      "\u001b[1;31mValueError\u001b[0m: y_true and y_pred have different number of output (46!=1)"
     ]
    }
   ],
   "source": [
    "\n",
    "params = best_params[\"params\"]\n",
    "best_length = params[0]\n",
    "\n",
    "\n",
    "trn_series = train[[target]].values.astype(\"float32\")\n",
    "tst_series = test[[target]].values.astype(\"float32\")\n",
    "\n",
    "\n",
    "trnX, trnY = prepare_dataset_for_lstm(trn_series, seq_length=best_length)\n",
    "tstX, tstY  = prepare_dataset_for_lstm(tst_series, seq_length=best_length)\n",
    "\n",
    "\n",
    "prd_trn = best_model.predict(trnX)\n",
    "prd_tst = best_model.predict(tstX)\n",
    "\n",
    "# Plot the forecasting evaluation\n",
    "plot_single_model_evaluation(train[best_length:], test[:best_length], prd_trn, prd_tst, title=f\"{file_tag} - LSTM (length={best_length}, hidden={params[1]}, epochs={params[2]})\")\n",
    "savefig(f\"images/{file_tag}_LSTM_multivariate_predictions.png\")"
   ]
  },
  {
   "cell_type": "markdown",
   "metadata": {},
   "source": [
    "## Plot lstm tensorflow model univariate"
   ]
  },
  {
   "cell_type": "code",
   "execution_count": 19,
   "metadata": {},
   "outputs": [
    {
     "ename": "AttributeError",
     "evalue": "'Tensor' object has no attribute 'index'",
     "output_type": "error",
     "traceback": [
      "\u001b[1;31m---------------------------------------------------------------------------\u001b[0m",
      "\u001b[1;31mAttributeError\u001b[0m                            Traceback (most recent call last)",
      "Cell \u001b[1;32mIn[19], line 1\u001b[0m\n\u001b[1;32m----> 1\u001b[0m plot_forecasting_series(\n\u001b[0;32m      2\u001b[0m     trnY, \n\u001b[0;32m      3\u001b[0m     tstY,\n\u001b[0;32m      4\u001b[0m     prd_tst,\n\u001b[0;32m      5\u001b[0m     title\u001b[38;5;241m=\u001b[39m\u001b[38;5;124mf\u001b[39m\u001b[38;5;124m\"\u001b[39m\u001b[38;5;132;01m{\u001b[39;00mfile_tag\u001b[38;5;132;01m}\u001b[39;00m\u001b[38;5;124m - LSTM Multivariate Predictions\u001b[39m\u001b[38;5;124m\"\u001b[39m,\n\u001b[0;32m      6\u001b[0m     xlabel\u001b[38;5;241m=\u001b[39m\u001b[38;5;124m'\u001b[39m\u001b[38;5;124mDate\u001b[39m\u001b[38;5;124m'\u001b[39m,\n\u001b[0;32m      7\u001b[0m     ylabel\u001b[38;5;241m=\u001b[39mtarget,\n\u001b[0;32m      8\u001b[0m )\n",
      "File \u001b[1;32mC:\\Data\\Coding\\Python\\ist_dash_2024_rec\\time_series_forecasting\\notebooks\\dataset_3\\scripts\\data_functions.py:1641\u001b[0m, in \u001b[0;36mplot_forecasting_series\u001b[1;34m(trn, tst, prd_tst, title, xlabel, ylabel)\u001b[0m\n\u001b[0;32m   1639\u001b[0m ax\u001b[38;5;241m.\u001b[39mset_xlabel(xlabel)\n\u001b[0;32m   1640\u001b[0m ax\u001b[38;5;241m.\u001b[39mset_ylabel(ylabel)\n\u001b[1;32m-> 1641\u001b[0m ax\u001b[38;5;241m.\u001b[39mplot(trn\u001b[38;5;241m.\u001b[39mindex, trn\u001b[38;5;241m.\u001b[39mvalues, label\u001b[38;5;241m=\u001b[39m\u001b[38;5;124m\"\u001b[39m\u001b[38;5;124mtrain\u001b[39m\u001b[38;5;124m\"\u001b[39m, color\u001b[38;5;241m=\u001b[39mPAST_COLOR)\n\u001b[0;32m   1642\u001b[0m ax\u001b[38;5;241m.\u001b[39mplot(tst\u001b[38;5;241m.\u001b[39mindex, tst\u001b[38;5;241m.\u001b[39mvalues, label\u001b[38;5;241m=\u001b[39m\u001b[38;5;124m\"\u001b[39m\u001b[38;5;124mtest\u001b[39m\u001b[38;5;124m\"\u001b[39m, color\u001b[38;5;241m=\u001b[39mFUTURE_COLOR)\n\u001b[0;32m   1643\u001b[0m ax\u001b[38;5;241m.\u001b[39mplot(prd_tst\u001b[38;5;241m.\u001b[39mindex, prd_tst\u001b[38;5;241m.\u001b[39mvalues, \u001b[38;5;124m\"\u001b[39m\u001b[38;5;124m--\u001b[39m\u001b[38;5;124m\"\u001b[39m, label\u001b[38;5;241m=\u001b[39m\u001b[38;5;124m\"\u001b[39m\u001b[38;5;124mtest prediction\u001b[39m\u001b[38;5;124m\"\u001b[39m, color\u001b[38;5;241m=\u001b[39mPRED_FUTURE_COLOR)\n",
      "\u001b[1;31mAttributeError\u001b[0m: 'Tensor' object has no attribute 'index'"
     ]
    },
    {
     "data": {
      "image/png": "[encoded data removed]",
      "text/plain": [
       "<Figure size 1600x400 with 1 Axes>"
      ]
     },
     "metadata": {},
     "output_type": "display_data"
    }
   ],
   "source": [
    "plot_forecasting_series(\n",
    "    trnY, \n",
    "    tstY,\n",
    "    prd_tst,\n",
    "    title=f\"{file_tag} - LSTM Multivariate Predictions\",\n",
    "    xlabel='Date',\n",
    "    ylabel=target,\n",
    ")"
   ]
  },
  {
   "cell_type": "markdown",
   "metadata": {},
   "source": [
    "# LSTM Pytorch Multivariate"
   ]
  },
  {
   "cell_type": "markdown",
   "metadata": {},
   "source": [
    "## Pytorch Multivariate Functions"
   ]
  },
  {
   "cell_type": "code",
   "execution_count": 24,
   "metadata": {},
   "outputs": [],
   "source": [
    "from torch import no_grad, tensor\n",
    "from torch.nn import LSTM, Linear, Module, MSELoss\n",
    "from torch.optim import Adam\n",
    "from torch.utils.data import DataLoader, TensorDataset\n",
    "import numpy as np\n",
    "\n",
    "def prepare_dataset_for_lstm(features, target, seq_length: int = 4):\n",
    "    setX: list = []\n",
    "    setY: list = []\n",
    "    for i in range(len(target) - seq_length):\n",
    "        past = features[i : i + seq_length]\n",
    "        future = target[i + seq_length]  # Predict the next value only\n",
    "        setX.append(past)\n",
    "        setY.append(future)\n",
    "    setX = tensor(np.array(setX, dtype=np.float32))  # Convert to torch.float32\n",
    "    setY = tensor(np.array(setY, dtype=np.float32))  # Convert to torch.float32\n",
    "    return setX, setY\n",
    "\n",
    "class DS_LSTM(Module):\n",
    "    def __init__(self, trainX, trainY, input_size: int, hidden_size: int = 50, num_layers: int = 1, length: int = 4):\n",
    "        super().__init__()\n",
    "        self.lstm = LSTM(input_size=input_size, hidden_size=hidden_size, num_layers=num_layers, batch_first=True)\n",
    "        self.linear = Linear(hidden_size, 1)\n",
    "        self.optimizer = Adam(self.parameters())\n",
    "        self.loss_fn = MSELoss()\n",
    "\n",
    "        trnX, trnY = prepare_dataset_for_lstm(trainX, trainY, seq_length=length)\n",
    "        self.loader = DataLoader(TensorDataset(trnX, trnY), shuffle=True, batch_size=len(trainX) // 10)\n",
    "\n",
    "    def forward(self, x):\n",
    "        x, _ = self.lstm(x)\n",
    "        x = self.linear(x)\n",
    "        return x\n",
    "\n",
    "    def fit(self):\n",
    "        self.train()\n",
    "        for batchX, batchY in self.loader:\n",
    "            y_pred = self(batchX)\n",
    "            loss = self.loss_fn(y_pred, batchY)\n",
    "            self.optimizer.zero_grad()\n",
    "            loss.backward()\n",
    "            self.optimizer.step()\n",
    "        return loss\n",
    "\n",
    "    def predict(self, X):\n",
    "        with no_grad():\n",
    "            y_pred = self(X)\n",
    "        return y_pred[:, -1, :]\n",
    "\n",
    "from dslabs_functions import HEIGHT, plot_multiline_chart\n",
    "from copy import deepcopy\n",
    "from matplotlib.pyplot import figure, savefig, subplots\n",
    "from dslabs_functions import FORECAST_MEASURES, DELTA_IMPROVE, plot_multiline_chart\n",
    "\n",
    "def lstm_study(trainX, trainY, testX, testY, nr_episodes: int = 1000, measure: str = \"R2\"):\n",
    "    sequence_size = [2, 4, 8]\n",
    "    nr_hidden_units = [25, 50, 100]\n",
    "\n",
    "    step: int = nr_episodes // 10\n",
    "    episodes = [1] + list(range(0, nr_episodes + 1, step))[1:]\n",
    "    flag = measure == \"R2\" or measure == \"MAPE\"\n",
    "    best_model = None\n",
    "    best_params: dict = {\"name\": \"LSTM\", \"metric\": measure, \"params\": ()}\n",
    "    best_performance: float = -100000\n",
    "\n",
    "    _, axs = subplots(1, len(sequence_size), figsize=(len(sequence_size) * HEIGHT, HEIGHT))\n",
    "\n",
    "    for i in range(len(sequence_size)):\n",
    "        length = sequence_size[i]\n",
    "        tstX, tstY = prepare_dataset_for_lstm(testX, testY, seq_length=length)\n",
    "\n",
    "        values = {}\n",
    "        for hidden in nr_hidden_units:\n",
    "            yvalues = []\n",
    "            model = DS_LSTM(trainX, trainY, input_size=trainX.shape[1], hidden_size=hidden, length=length)\n",
    "            for n in range(0, nr_episodes + 1):\n",
    "                model.fit()\n",
    "                if n % step == 0:\n",
    "                    prd_tst = model.predict(tstX)\n",
    "                    eval: float = FORECAST_MEASURES[measure](testY[length:], prd_tst)\n",
    "                    print(f\"seq length={length} hidden_units={hidden} nr_episodes={n}\", eval)\n",
    "                    if eval > best_performance and abs(eval - best_performance) > DELTA_IMPROVE:\n",
    "                        best_performance: float = eval\n",
    "                        best_params[\"params\"] = (length, hidden, n)\n",
    "                        best_model = deepcopy(model)\n",
    "                    yvalues.append(eval)\n",
    "            values[hidden] = yvalues\n",
    "        plot_multiline_chart(\n",
    "            episodes,\n",
    "            values,\n",
    "            ax=axs[i],\n",
    "            title=f\"LSTM seq length={length} ({measure})\",\n",
    "            xlabel=\"nr episodes\",\n",
    "            ylabel=measure,\n",
    "            percentage=flag,\n",
    "        )\n",
    "    print(\n",
    "        f\"LSTM best results achieved with length={best_params['params'][0]} hidden_units={best_params['params'][1]} and nr_episodes={best_params['params'][2]}) ==> measure={best_performance:.2f}\"\n",
    "    )\n",
    "    return best_model, best_params\n"
   ]
  },
  {
   "cell_type": "markdown",
   "metadata": {},
   "source": [
    "## Pytorch Multivariate Data Study"
   ]
  },
  {
   "cell_type": "code",
   "execution_count": null,
   "metadata": {},
   "outputs": [
    {
     "name": "stdout",
     "output_type": "stream",
     "text": [
      "seq length=2 hidden_units=25 nr_episodes=0 -0.06636440753936768\n",
      "seq length=2 hidden_units=25 nr_episodes=300 0.024653375148773193\n",
      "seq length=2 hidden_units=25 nr_episodes=600 0.029581964015960693\n",
      "seq length=2 hidden_units=25 nr_episodes=900 0.019234836101531982\n",
      "seq length=2 hidden_units=25 nr_episodes=1200 0.015068113803863525\n",
      "seq length=2 hidden_units=25 nr_episodes=1500 0.01087641716003418\n",
      "seq length=2 hidden_units=25 nr_episodes=1800 0.010970354080200195\n",
      "seq length=2 hidden_units=25 nr_episodes=2100 0.014959156513214111\n",
      "seq length=2 hidden_units=25 nr_episodes=2400 0.020481228828430176\n",
      "seq length=2 hidden_units=25 nr_episodes=2700 0.01674175262451172\n",
      "seq length=2 hidden_units=25 nr_episodes=3000 0.014060139656066895\n",
      "seq length=2 hidden_units=50 nr_episodes=0 -0.08155536651611328\n",
      "seq length=2 hidden_units=50 nr_episodes=300 -0.004880070686340332\n",
      "seq length=2 hidden_units=50 nr_episodes=600 0.017344176769256592\n",
      "seq length=2 hidden_units=50 nr_episodes=900 0.024670004844665527\n",
      "seq length=2 hidden_units=50 nr_episodes=1200 0.020863115787506104\n",
      "seq length=2 hidden_units=50 nr_episodes=1500 0.02272278070449829\n",
      "seq length=2 hidden_units=50 nr_episodes=1800 0.02034461498260498\n",
      "seq length=2 hidden_units=50 nr_episodes=2100 0.02516275644302368\n",
      "seq length=2 hidden_units=50 nr_episodes=2400 0.01678168773651123\n",
      "seq length=2 hidden_units=50 nr_episodes=2700 0.014679372310638428\n",
      "seq length=2 hidden_units=50 nr_episodes=3000 0.020212531089782715\n",
      "seq length=2 hidden_units=100 nr_episodes=0 0.006383657455444336\n",
      "seq length=2 hidden_units=100 nr_episodes=300 0.020101070404052734\n",
      "seq length=2 hidden_units=100 nr_episodes=600 0.021797895431518555\n",
      "seq length=2 hidden_units=100 nr_episodes=900 0.02355372905731201\n",
      "seq length=2 hidden_units=100 nr_episodes=1200 0.04178088903427124\n",
      "seq length=2 hidden_units=100 nr_episodes=1500 0.02384287118911743\n",
      "seq length=2 hidden_units=100 nr_episodes=1800 0.032839417457580566\n",
      "seq length=2 hidden_units=100 nr_episodes=2100 0.021690189838409424\n",
      "seq length=2 hidden_units=100 nr_episodes=2400 0.019866943359375\n",
      "seq length=2 hidden_units=100 nr_episodes=2700 0.028258442878723145\n",
      "seq length=2 hidden_units=100 nr_episodes=3000 0.019293606281280518\n",
      "seq length=4 hidden_units=25 nr_episodes=0 -0.020616888999938965\n",
      "seq length=4 hidden_units=25 nr_episodes=300 0.01626896858215332\n",
      "seq length=4 hidden_units=25 nr_episodes=600 0.010029017925262451\n",
      "seq length=4 hidden_units=25 nr_episodes=900 0.018233180046081543\n",
      "seq length=4 hidden_units=25 nr_episodes=1200 0.018742501735687256\n",
      "seq length=4 hidden_units=25 nr_episodes=1500 0.015048503875732422\n",
      "seq length=4 hidden_units=25 nr_episodes=1800 0.017706573009490967\n",
      "seq length=4 hidden_units=25 nr_episodes=2100 0.009632408618927002\n",
      "seq length=4 hidden_units=25 nr_episodes=2400 0.011189460754394531\n",
      "seq length=4 hidden_units=25 nr_episodes=2700 0.01704484224319458\n",
      "seq length=4 hidden_units=25 nr_episodes=3000 0.012808740139007568\n",
      "seq length=4 hidden_units=50 nr_episodes=0 0.032126545906066895\n",
      "seq length=4 hidden_units=50 nr_episodes=300 0.014595508575439453\n",
      "seq length=4 hidden_units=50 nr_episodes=600 0.009182572364807129\n",
      "seq length=4 hidden_units=50 nr_episodes=900 0.007417559623718262\n",
      "seq length=4 hidden_units=50 nr_episodes=1200 0.0067296624183654785\n",
      "seq length=4 hidden_units=50 nr_episodes=1500 0.005425155162811279\n",
      "seq length=4 hidden_units=50 nr_episodes=1800 0.0008512139320373535\n",
      "seq length=4 hidden_units=50 nr_episodes=2100 0.004406392574310303\n",
      "seq length=4 hidden_units=50 nr_episodes=2400 -0.00042247772216796875\n",
      "seq length=4 hidden_units=50 nr_episodes=2700 0.004633784294128418\n",
      "seq length=4 hidden_units=50 nr_episodes=3000 -0.000990748405456543\n",
      "seq length=4 hidden_units=100 nr_episodes=0 -0.008344650268554688\n",
      "seq length=4 hidden_units=100 nr_episodes=300 -0.0019392967224121094\n",
      "seq length=4 hidden_units=100 nr_episodes=600 -0.007353305816650391\n",
      "seq length=4 hidden_units=100 nr_episodes=900 0.00593489408493042\n",
      "seq length=4 hidden_units=100 nr_episodes=1200 0.005782067775726318\n",
      "seq length=4 hidden_units=100 nr_episodes=1500 0.008233368396759033\n",
      "seq length=4 hidden_units=100 nr_episodes=1800 0.007525920867919922\n",
      "seq length=4 hidden_units=100 nr_episodes=2100 0.009854376316070557\n",
      "seq length=4 hidden_units=100 nr_episodes=2400 0.012899577617645264\n",
      "seq length=4 hidden_units=100 nr_episodes=2700 0.01100146770477295\n",
      "seq length=4 hidden_units=100 nr_episodes=3000 0.010138928890228271\n",
      "seq length=8 hidden_units=25 nr_episodes=0 -0.11328649520874023\n",
      "seq length=8 hidden_units=25 nr_episodes=300 -0.04398846626281738\n",
      "seq length=8 hidden_units=25 nr_episodes=600 -0.020090818405151367\n",
      "seq length=8 hidden_units=25 nr_episodes=900 -0.015784025192260742\n",
      "seq length=8 hidden_units=25 nr_episodes=1200 -0.00036454200744628906\n",
      "seq length=8 hidden_units=25 nr_episodes=1500 -0.005494356155395508\n",
      "seq length=8 hidden_units=25 nr_episodes=1800 -0.002174854278564453\n",
      "seq length=8 hidden_units=25 nr_episodes=2100 -0.0004687309265136719\n",
      "seq length=8 hidden_units=25 nr_episodes=2400 -0.0028296709060668945\n",
      "seq length=8 hidden_units=25 nr_episodes=2700 -0.0057991743087768555\n",
      "seq length=8 hidden_units=25 nr_episodes=3000 0.0001996159553527832\n",
      "seq length=8 hidden_units=50 nr_episodes=0 -0.01711726188659668\n",
      "seq length=8 hidden_units=50 nr_episodes=300 0.020695865154266357\n",
      "seq length=8 hidden_units=50 nr_episodes=600 0.010002195835113525\n",
      "seq length=8 hidden_units=50 nr_episodes=900 0.011573553085327148\n",
      "seq length=8 hidden_units=50 nr_episodes=1200 0.008128583431243896\n",
      "seq length=8 hidden_units=50 nr_episodes=1500 0.007628321647644043\n",
      "seq length=8 hidden_units=50 nr_episodes=1800 0.005821287631988525\n"
     ]
    }
   ],
   "source": [
    "# Example usage\n",
    "# Assuming `train` and `test` are your DataFrames and `target` is the target column name\n",
    "trnY = train.pop(target).values.astype(np.float32)\n",
    "tstY = test.pop(target).values.astype(np.float32)\n",
    "trnX = train.values.astype(np.float32)\n",
    "tstX = test.values.astype(np.float32)\n",
    "\n",
    "# Run the study\n",
    "best_model, best_params = lstm_study(trnX, trnY, tstX, tstY, nr_episodes=3000, measure='R2')"
   ]
  },
  {
   "cell_type": "markdown",
   "metadata": {},
   "source": [
    "## Pytorch Multivariate Model and Loss"
   ]
  },
  {
   "cell_type": "code",
   "execution_count": null,
   "metadata": {},
   "outputs": [],
   "source": [
    "model = DS_LSTM(trnX,trnY, input_size=1, hidden_size=50, num_layers=1)\n",
    "loss = model.fit()\n",
    "print(loss)"
   ]
  },
  {
   "cell_type": "markdown",
   "metadata": {},
   "source": [
    "## Pytorch Multivariate Model Evaluation"
   ]
  },
  {
   "cell_type": "code",
   "execution_count": null,
   "metadata": {},
   "outputs": [],
   "source": [
    "\n",
    "params = best_params[\"params\"]\n",
    "best_length = params[0]\n",
    "\n",
    "# Assuming `train` and `test` are your DataFrames and `target` is the target column name\n",
    "trnY = train.pop(target).values.astype(np.float32)\n",
    "tstY = test.pop(target).values.astype(np.float32)\n",
    "trnX = train.values.astype(np.float32)\n",
    "tstX = test.values.astype(np.float32)\n",
    "\n",
    "\n",
    "trnX, trnY = prepare_dataset_for_lstm(trnX, seq_length=best_length)\n",
    "tstX, tstY  = prepare_dataset_for_lstm(tstX, seq_length=best_length)\n",
    "\n",
    "\n",
    "prd_trn = best_model.predict(trnX)\n",
    "prd_tst = best_model.predict(tstX)\n",
    "\n",
    "# Plot the forecasting evaluation\n",
    "plot_single_model_evaluation(train[best_length:], test[:best_length], prd_trn, prd_tst, title=f\"{file_tag} - LSTM (length={best_length}, hidden={params[1]}, epochs={params[2]})\")\n",
    "savefig(f\"images/{file_tag}_LSTM_multivariate_predictions.png\")"
   ]
  },
  {
   "cell_type": "markdown",
   "metadata": {},
   "source": [
    "## Pytorch Multivariate Plots"
   ]
  },
  {
   "cell_type": "code",
   "execution_count": null,
   "metadata": {},
   "outputs": [],
   "source": [
    "plot_forecasting_series(\n",
    "    train[target],\n",
    "    test[target],\n",
    "    prd_tst,\n",
    "    title=f\"{file_tag} - LSTM Univariate Predictions\",\n",
    "    xlabel='Date',\n",
    "    ylabel=target,\n",
    ")"
   ]
  }
 ],
 "metadata": {
  "kernelspec": {
   "display_name": "pytorch_cpu",
   "language": "python",
   "name": "python3"
  },
  "language_info": {
   "codemirror_mode": {
    "name": "ipython",
    "version": 3
   },
   "file_extension": ".py",
   "mimetype": "text/x-python",
   "name": "python",
   "nbconvert_exporter": "python",
   "pygments_lexer": "ipython3",
   "version": "3.12.9"
  }
 },
 "nbformat": 4,
 "nbformat_minor": 2
}
