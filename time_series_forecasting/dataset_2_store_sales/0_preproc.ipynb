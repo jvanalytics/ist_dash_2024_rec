{
 "cells": [
  {
   "cell_type": "markdown",
   "metadata": {},
   "source": [
    "# Files & imports"
   ]
  },
  {
   "cell_type": "code",
   "execution_count": 2,
   "metadata": {},
   "outputs": [
    {
     "name": "stdout",
     "output_type": "stream",
     "text": [
      "/Users/cozmaeug/Private/IST PG - DS/DaSH ENG/ist_dash_2024_rec/time_series_forecasting/dataset_2_store_sales\n"
     ]
    }
   ],
   "source": [
    "from pandas import read_csv, DataFrame\n",
    "import pandas as pd\n",
    "\n",
    "import os\n",
    "print(os.getcwd())"
   ]
  },
  {
   "cell_type": "code",
   "execution_count": 3,
   "metadata": {},
   "outputs": [],
   "source": [
    "## https://www.kaggle.com/competitions/store-sales-time-series-forecasting/data\n",
    "\n",
    "holidays = pd.read_csv(\"/Users/cozmaeug/Private/IST PG - DS/DaSH ENG/ist_dash_2024_rec/time_series_forecasting/dataset_2_store_sales/dataset/holidays_events.csv\") \n",
    "oil = pd.read_csv(\"/Users/cozmaeug/Private/IST PG - DS/DaSH ENG/ist_dash_2024_rec/time_series_forecasting/dataset_2_store_sales/dataset/oil.csv\")\n",
    "stores = pd.read_csv(\"/Users/cozmaeug/Private/IST PG - DS/DaSH ENG/ist_dash_2024_rec/time_series_forecasting/dataset_2_store_sales/dataset/stores.csv\")\n",
    "transactions = pd.read_csv(\"/Users/cozmaeug/Private/IST PG - DS/DaSH ENG/ist_dash_2024_rec/time_series_forecasting/dataset_2_store_sales/dataset/transactions.csv\")\n",
    "\n",
    "test_df = pd.read_csv(\"/Users/cozmaeug/Private/IST PG - DS/DaSH ENG/ist_dash_2024_rec/time_series_forecasting/dataset_2_store_sales/dataset/test.csv\")\n",
    "\n",
    "train_df = pd.read_csv(\"/Users/cozmaeug/Private/IST PG - DS/DaSH ENG/ist_dash_2024_rec/time_series_forecasting/dataset_2_store_sales/dataset/train.csv\")\n",
    "\n",
    "file_tag = \"Store Sales\"\n"
   ]
  }
 ],
 "metadata": {
  "kernelspec": {
   "display_name": "base",
   "language": "python",
   "name": "python3"
  },
  "language_info": {
   "codemirror_mode": {
    "name": "ipython",
    "version": 3
   },
   "file_extension": ".py",
   "mimetype": "text/x-python",
   "name": "python",
   "nbconvert_exporter": "python",
   "pygments_lexer": "ipython3",
   "version": "3.12.4"
  }
 },
 "nbformat": 4,
 "nbformat_minor": 2
}
