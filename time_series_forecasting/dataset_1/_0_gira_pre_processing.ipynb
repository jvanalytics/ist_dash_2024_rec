{
 "cells": [
  {
   "cell_type": "markdown",
   "metadata": {},
   "source": [
    "# Goal of the ML project \n",
    "- Dataset: gira bike sharing system data\n",
    "\n",
    "- Time series and  Forecasting\n",
    "- Apply techniques:\n",
    "    - LSVM\n",
    "    - ARIMA/ Linear Regression"
   ]
  },
  {
   "cell_type": "markdown",
   "metadata": {},
   "source": [
    "# Data Selection"
   ]
  },
  {
   "cell_type": "markdown",
   "metadata": {},
   "source": [
    "## Import libraries"
   ]
  },
  {
   "cell_type": "code",
   "execution_count": null,
   "metadata": {},
   "outputs": [],
   "source": [
    "import pandas as pd\n",
    "import numpy as np\n",
    "import matplotlib.pyplot as plt\n",
    "from IPython.display import display"
   ]
  },
  {
   "cell_type": "code",
   "execution_count": null,
   "metadata": {},
   "outputs": [],
   "source": []
  },
  {
   "cell_type": "markdown",
   "metadata": {},
   "source": [
    "## Import Functions"
   ]
  },
  {
   "cell_type": "markdown",
   "metadata": {},
   "source": [
    "### dslabs_functions"
   ]
  },
  {
   "cell_type": "code",
   "execution_count": null,
   "metadata": {},
   "outputs": [
    {
     "name": "stdout",
     "output_type": "stream",
     "text": [
      "dslabs_functions lodaded\n"
     ]
    }
   ],
   "source": [
    "%run \"scripts/dslabs_functions.py\""
   ]
  },
  {
   "cell_type": "markdown",
   "metadata": {},
   "source": [
    "### data functions"
   ]
  },
  {
   "cell_type": "code",
   "execution_count": null,
   "metadata": {},
   "outputs": [
    {
     "name": "stdout",
     "output_type": "stream",
     "text": [
      "dslabs_functions lodaded\n",
      "data_functions lodaded\n"
     ]
    }
   ],
   "source": [
    "%run \"scripts/data_functions.py\"\n"
   ]
  },
  {
   "cell_type": "code",
   "execution_count": null,
   "metadata": {},
   "outputs": [],
   "source": []
  },
  {
   "cell_type": "markdown",
   "metadata": {},
   "source": [
    "## Load Files "
   ]
  },
  {
   "cell_type": "markdown",
   "metadata": {},
   "source": [
    "### Holidays Calendar in Lisbon 2022"
   ]
  },
  {
   "cell_type": "code",
   "execution_count": 34,
   "metadata": {},
   "outputs": [
    {
     "data": {
      "application/vnd.microsoft.datawrangler.viewer.v0+json": {
       "columns": [
        {
         "name": "index",
         "rawType": "int64",
         "type": "integer"
        },
        {
         "name": "date",
         "rawType": "datetime64[ns]",
         "type": "datetime"
        },
        {
         "name": "holiday_lisbon",
         "rawType": "int64",
         "type": "integer"
        }
       ],
       "conversionMethod": "pd.DataFrame",
       "ref": "544383b6-4de5-4466-879e-4abe46684532",
       "rows": [
        [
         "0",
         "2022-01-01 00:00:00",
         "1"
        ],
        [
         "1",
         "2022-03-01 00:00:00",
         "1"
        ],
        [
         "2",
         "2022-04-15 00:00:00",
         "1"
        ],
        [
         "3",
         "2022-04-17 00:00:00",
         "1"
        ],
        [
         "4",
         "2022-04-25 00:00:00",
         "1"
        ]
       ],
       "shape": {
        "columns": 2,
        "rows": 5
       }
      },
      "text/html": [
       "<div>\n",
       "<style scoped>\n",
       "    .dataframe tbody tr th:only-of-type {\n",
       "        vertical-align: middle;\n",
       "    }\n",
       "\n",
       "    .dataframe tbody tr th {\n",
       "        vertical-align: top;\n",
       "    }\n",
       "\n",
       "    .dataframe thead th {\n",
       "        text-align: right;\n",
       "    }\n",
       "</style>\n",
       "<table border=\"1\" class=\"dataframe\">\n",
       "  <thead>\n",
       "    <tr style=\"text-align: right;\">\n",
       "      <th></th>\n",
       "      <th>date</th>\n",
       "      <th>holiday_lisbon</th>\n",
       "    </tr>\n",
       "  </thead>\n",
       "  <tbody>\n",
       "    <tr>\n",
       "      <th>0</th>\n",
       "      <td>2022-01-01</td>\n",
       "      <td>1</td>\n",
       "    </tr>\n",
       "    <tr>\n",
       "      <th>1</th>\n",
       "      <td>2022-03-01</td>\n",
       "      <td>1</td>\n",
       "    </tr>\n",
       "    <tr>\n",
       "      <th>2</th>\n",
       "      <td>2022-04-15</td>\n",
       "      <td>1</td>\n",
       "    </tr>\n",
       "    <tr>\n",
       "      <th>3</th>\n",
       "      <td>2022-04-17</td>\n",
       "      <td>1</td>\n",
       "    </tr>\n",
       "    <tr>\n",
       "      <th>4</th>\n",
       "      <td>2022-04-25</td>\n",
       "      <td>1</td>\n",
       "    </tr>\n",
       "  </tbody>\n",
       "</table>\n",
       "</div>"
      ],
      "text/plain": [
       "        date  holiday_lisbon\n",
       "0 2022-01-01               1\n",
       "1 2022-03-01               1\n",
       "2 2022-04-15               1\n",
       "3 2022-04-17               1\n",
       "4 2022-04-25               1"
      ]
     },
     "metadata": {},
     "output_type": "display_data"
    }
   ],
   "source": [
    "filepath_holidays_lx_2022 = r'data/holidays-lisbon-2022.xlsx'\n",
    "#filepath_weather_ny_d = r'data/open-meteo-new-york-daily-2024.csv'\n",
    "df_holidays_lx = pd.read_excel(filepath_holidays_lx_2022, na_values=\"\")\n",
    "display(df_holidays_lx.head())"
   ]
  },
  {
   "cell_type": "markdown",
   "metadata": {},
   "source": [
    "### Weather file - Lisbon\n",
    "- Weather info, hourly, from Lisbon for the year 2022\n",
    "    - info: rain, precipitation, temperature,...\n",
    "- This weather info was extracted from OpenMeteo\n",
    "    - Link here - https://open-meteo.com/en/docs/historical-weather-api#latitude=38.7167&longitude=-9.1333&start_date=2019-01-01&end_date=2019-12-31&hourly=&daily=weather_code,temperature_2m_max,temperature_2m_min,temperature_2m_mean,apparent_temperature_max,apparent_temperature_min,apparent_temperature_mean,sunrise,sunset,daylight_duration,sunshine_duration,precipitation_sum,rain_sum,snowfall_sum,precipitation_hours,wind_speed_10m_max,wind_gusts_10m_max,wind_direction_10m_dominant,shortwave_radiation_sum,et0_fao_evapotranspiration&timezone=Europe%2FLondon&models=\n",
    "\n",
    "    "
   ]
  },
  {
   "cell_type": "code",
   "execution_count": 15,
   "metadata": {},
   "outputs": [],
   "source": [
    "filepath_weather_lx_h = r'data/open-meteo-lisbon-hourly-2022.csv'\n",
    "#filepath_weather_ny_d = r'data/open-meteo-new-york-daily-2024.csv'"
   ]
  },
  {
   "cell_type": "code",
   "execution_count": 16,
   "metadata": {},
   "outputs": [
    {
     "data": {
      "application/vnd.microsoft.datawrangler.viewer.v0+json": {
       "columns": [
        {
         "name": "index",
         "rawType": "int64",
         "type": "integer"
        },
        {
         "name": "time",
         "rawType": "object",
         "type": "string"
        },
        {
         "name": "temperature_2m (°C)",
         "rawType": "float64",
         "type": "float"
        },
        {
         "name": "relative_humidity_2m (%)",
         "rawType": "int64",
         "type": "integer"
        },
        {
         "name": "dew_point_2m (°C)",
         "rawType": "float64",
         "type": "float"
        },
        {
         "name": "apparent_temperature (°C)",
         "rawType": "float64",
         "type": "float"
        },
        {
         "name": "precipitation (mm)",
         "rawType": "float64",
         "type": "float"
        },
        {
         "name": "rain (mm)",
         "rawType": "float64",
         "type": "float"
        },
        {
         "name": "snowfall (cm)",
         "rawType": "float64",
         "type": "float"
        },
        {
         "name": "snow_depth (m)",
         "rawType": "float64",
         "type": "float"
        },
        {
         "name": "weather_code (wmo code)",
         "rawType": "int64",
         "type": "integer"
        },
        {
         "name": "pressure_msl (hPa)",
         "rawType": "float64",
         "type": "float"
        },
        {
         "name": "surface_pressure (hPa)",
         "rawType": "float64",
         "type": "float"
        },
        {
         "name": "cloud_cover (%)",
         "rawType": "int64",
         "type": "integer"
        },
        {
         "name": "cloud_cover_low (%)",
         "rawType": "int64",
         "type": "integer"
        },
        {
         "name": "cloud_cover_mid (%)",
         "rawType": "int64",
         "type": "integer"
        },
        {
         "name": "cloud_cover_high (%)",
         "rawType": "int64",
         "type": "integer"
        },
        {
         "name": "et0_fao_evapotranspiration (mm)",
         "rawType": "float64",
         "type": "float"
        },
        {
         "name": "vapour_pressure_deficit (kPa)",
         "rawType": "float64",
         "type": "float"
        },
        {
         "name": "wind_speed_10m (km/h)",
         "rawType": "float64",
         "type": "float"
        },
        {
         "name": "wind_speed_100m (km/h)",
         "rawType": "float64",
         "type": "float"
        },
        {
         "name": "wind_direction_10m (°)",
         "rawType": "int64",
         "type": "integer"
        },
        {
         "name": "wind_direction_100m (°)",
         "rawType": "int64",
         "type": "integer"
        },
        {
         "name": "wind_gusts_10m (km/h)",
         "rawType": "float64",
         "type": "float"
        },
        {
         "name": "soil_temperature_0_to_7cm (°C)",
         "rawType": "float64",
         "type": "float"
        },
        {
         "name": "soil_temperature_7_to_28cm (°C)",
         "rawType": "float64",
         "type": "float"
        },
        {
         "name": "soil_temperature_28_to_100cm (°C)",
         "rawType": "float64",
         "type": "float"
        },
        {
         "name": "soil_temperature_100_to_255cm (°C)",
         "rawType": "float64",
         "type": "float"
        },
        {
         "name": "soil_moisture_0_to_7cm (m³/m³)",
         "rawType": "float64",
         "type": "float"
        },
        {
         "name": "soil_moisture_7_to_28cm (m³/m³)",
         "rawType": "float64",
         "type": "float"
        },
        {
         "name": "soil_moisture_28_to_100cm (m³/m³)",
         "rawType": "float64",
         "type": "float"
        },
        {
         "name": "soil_moisture_100_to_255cm (m³/m³)",
         "rawType": "float64",
         "type": "float"
        }
       ],
       "conversionMethod": "pd.DataFrame",
       "ref": "428c3fde-66df-458b-9d7e-f96342be9d02",
       "rows": [
        [
         "0",
         "2019-01-01T00:00",
         "9.9",
         "85",
         "7.5",
         "8.1",
         "0.0",
         "0.0",
         "0.0",
         "0.0",
         "1",
         "1030.4",
         "1024.5",
         "30",
         "0",
         "0",
         "0",
         "0.0",
         "0.19",
         "8.1",
         "15.8",
         "32",
         "49",
         "13.3",
         "10.0",
         "11.9",
         "13.6",
         "17.1",
         "0.339",
         "0.35",
         "0.36",
         "0.3"
        ],
        [
         "1",
         "2019-01-01T01:00",
         "9.2",
         "87",
         "7.1",
         "7.3",
         "0.0",
         "0.0",
         "0.0",
         "0.0",
         "0",
         "1030.5",
         "1024.5",
         "0",
         "0",
         "0",
         "0",
         "0.0",
         "0.15",
         "8.0",
         "17.1",
         "36",
         "46",
         "15.1",
         "9.7",
         "11.8",
         "13.6",
         "17.1",
         "0.339",
         "0.35",
         "0.36",
         "0.3"
        ],
        [
         "2",
         "2019-01-01T02:00",
         "8.9",
         "88",
         "6.9",
         "6.9",
         "0.0",
         "0.0",
         "0.0",
         "0.0",
         "0",
         "1030.8",
         "1024.8",
         "0",
         "0",
         "0",
         "0",
         "0.0",
         "0.14",
         "8.3",
         "17.8",
         "34",
         "42",
         "15.8",
         "9.5",
         "11.7",
         "13.6",
         "17.1",
         "0.339",
         "0.35",
         "0.36",
         "0.3"
        ],
        [
         "3",
         "2019-01-01T03:00",
         "8.6",
         "88",
         "6.7",
         "6.5",
         "0.0",
         "0.0",
         "0.0",
         "0.0",
         "0",
         "1031.0",
         "1025.0",
         "0",
         "0",
         "0",
         "0",
         "0.0",
         "0.14",
         "9.0",
         "18.4",
         "37",
         "40",
         "16.9",
         "9.3",
         "11.6",
         "13.6",
         "17.1",
         "0.339",
         "0.35",
         "0.36",
         "0.3"
        ],
        [
         "4",
         "2019-01-01T04:00",
         "8.4",
         "88",
         "6.5",
         "6.0",
         "0.0",
         "0.0",
         "0.0",
         "0.0",
         "0",
         "1030.6",
         "1024.6",
         "0",
         "0",
         "0",
         "0",
         "0.0",
         "0.13",
         "10.2",
         "20.6",
         "39",
         "44",
         "19.1",
         "9.1",
         "11.4",
         "13.6",
         "17.1",
         "0.339",
         "0.35",
         "0.36",
         "0.3"
        ]
       ],
       "shape": {
        "columns": 31,
        "rows": 5
       }
      },
      "text/html": [
       "<div>\n",
       "<style scoped>\n",
       "    .dataframe tbody tr th:only-of-type {\n",
       "        vertical-align: middle;\n",
       "    }\n",
       "\n",
       "    .dataframe tbody tr th {\n",
       "        vertical-align: top;\n",
       "    }\n",
       "\n",
       "    .dataframe thead th {\n",
       "        text-align: right;\n",
       "    }\n",
       "</style>\n",
       "<table border=\"1\" class=\"dataframe\">\n",
       "  <thead>\n",
       "    <tr style=\"text-align: right;\">\n",
       "      <th></th>\n",
       "      <th>time</th>\n",
       "      <th>temperature_2m (°C)</th>\n",
       "      <th>relative_humidity_2m (%)</th>\n",
       "      <th>dew_point_2m (°C)</th>\n",
       "      <th>apparent_temperature (°C)</th>\n",
       "      <th>precipitation (mm)</th>\n",
       "      <th>rain (mm)</th>\n",
       "      <th>snowfall (cm)</th>\n",
       "      <th>snow_depth (m)</th>\n",
       "      <th>weather_code (wmo code)</th>\n",
       "      <th>...</th>\n",
       "      <th>wind_direction_100m (°)</th>\n",
       "      <th>wind_gusts_10m (km/h)</th>\n",
       "      <th>soil_temperature_0_to_7cm (°C)</th>\n",
       "      <th>soil_temperature_7_to_28cm (°C)</th>\n",
       "      <th>soil_temperature_28_to_100cm (°C)</th>\n",
       "      <th>soil_temperature_100_to_255cm (°C)</th>\n",
       "      <th>soil_moisture_0_to_7cm (m³/m³)</th>\n",
       "      <th>soil_moisture_7_to_28cm (m³/m³)</th>\n",
       "      <th>soil_moisture_28_to_100cm (m³/m³)</th>\n",
       "      <th>soil_moisture_100_to_255cm (m³/m³)</th>\n",
       "    </tr>\n",
       "  </thead>\n",
       "  <tbody>\n",
       "    <tr>\n",
       "      <th>0</th>\n",
       "      <td>2019-01-01T00:00</td>\n",
       "      <td>9.9</td>\n",
       "      <td>85</td>\n",
       "      <td>7.5</td>\n",
       "      <td>8.1</td>\n",
       "      <td>0.0</td>\n",
       "      <td>0.0</td>\n",
       "      <td>0.0</td>\n",
       "      <td>0.0</td>\n",
       "      <td>1</td>\n",
       "      <td>...</td>\n",
       "      <td>49</td>\n",
       "      <td>13.3</td>\n",
       "      <td>10.0</td>\n",
       "      <td>11.9</td>\n",
       "      <td>13.6</td>\n",
       "      <td>17.1</td>\n",
       "      <td>0.339</td>\n",
       "      <td>0.35</td>\n",
       "      <td>0.36</td>\n",
       "      <td>0.3</td>\n",
       "    </tr>\n",
       "    <tr>\n",
       "      <th>1</th>\n",
       "      <td>2019-01-01T01:00</td>\n",
       "      <td>9.2</td>\n",
       "      <td>87</td>\n",
       "      <td>7.1</td>\n",
       "      <td>7.3</td>\n",
       "      <td>0.0</td>\n",
       "      <td>0.0</td>\n",
       "      <td>0.0</td>\n",
       "      <td>0.0</td>\n",
       "      <td>0</td>\n",
       "      <td>...</td>\n",
       "      <td>46</td>\n",
       "      <td>15.1</td>\n",
       "      <td>9.7</td>\n",
       "      <td>11.8</td>\n",
       "      <td>13.6</td>\n",
       "      <td>17.1</td>\n",
       "      <td>0.339</td>\n",
       "      <td>0.35</td>\n",
       "      <td>0.36</td>\n",
       "      <td>0.3</td>\n",
       "    </tr>\n",
       "    <tr>\n",
       "      <th>2</th>\n",
       "      <td>2019-01-01T02:00</td>\n",
       "      <td>8.9</td>\n",
       "      <td>88</td>\n",
       "      <td>6.9</td>\n",
       "      <td>6.9</td>\n",
       "      <td>0.0</td>\n",
       "      <td>0.0</td>\n",
       "      <td>0.0</td>\n",
       "      <td>0.0</td>\n",
       "      <td>0</td>\n",
       "      <td>...</td>\n",
       "      <td>42</td>\n",
       "      <td>15.8</td>\n",
       "      <td>9.5</td>\n",
       "      <td>11.7</td>\n",
       "      <td>13.6</td>\n",
       "      <td>17.1</td>\n",
       "      <td>0.339</td>\n",
       "      <td>0.35</td>\n",
       "      <td>0.36</td>\n",
       "      <td>0.3</td>\n",
       "    </tr>\n",
       "    <tr>\n",
       "      <th>3</th>\n",
       "      <td>2019-01-01T03:00</td>\n",
       "      <td>8.6</td>\n",
       "      <td>88</td>\n",
       "      <td>6.7</td>\n",
       "      <td>6.5</td>\n",
       "      <td>0.0</td>\n",
       "      <td>0.0</td>\n",
       "      <td>0.0</td>\n",
       "      <td>0.0</td>\n",
       "      <td>0</td>\n",
       "      <td>...</td>\n",
       "      <td>40</td>\n",
       "      <td>16.9</td>\n",
       "      <td>9.3</td>\n",
       "      <td>11.6</td>\n",
       "      <td>13.6</td>\n",
       "      <td>17.1</td>\n",
       "      <td>0.339</td>\n",
       "      <td>0.35</td>\n",
       "      <td>0.36</td>\n",
       "      <td>0.3</td>\n",
       "    </tr>\n",
       "    <tr>\n",
       "      <th>4</th>\n",
       "      <td>2019-01-01T04:00</td>\n",
       "      <td>8.4</td>\n",
       "      <td>88</td>\n",
       "      <td>6.5</td>\n",
       "      <td>6.0</td>\n",
       "      <td>0.0</td>\n",
       "      <td>0.0</td>\n",
       "      <td>0.0</td>\n",
       "      <td>0.0</td>\n",
       "      <td>0</td>\n",
       "      <td>...</td>\n",
       "      <td>44</td>\n",
       "      <td>19.1</td>\n",
       "      <td>9.1</td>\n",
       "      <td>11.4</td>\n",
       "      <td>13.6</td>\n",
       "      <td>17.1</td>\n",
       "      <td>0.339</td>\n",
       "      <td>0.35</td>\n",
       "      <td>0.36</td>\n",
       "      <td>0.3</td>\n",
       "    </tr>\n",
       "  </tbody>\n",
       "</table>\n",
       "<p>5 rows × 31 columns</p>\n",
       "</div>"
      ],
      "text/plain": [
       "               time  temperature_2m (°C)  relative_humidity_2m (%)  \\\n",
       "0  2019-01-01T00:00                  9.9                        85   \n",
       "1  2019-01-01T01:00                  9.2                        87   \n",
       "2  2019-01-01T02:00                  8.9                        88   \n",
       "3  2019-01-01T03:00                  8.6                        88   \n",
       "4  2019-01-01T04:00                  8.4                        88   \n",
       "\n",
       "   dew_point_2m (°C)  apparent_temperature (°C)  precipitation (mm)  \\\n",
       "0                7.5                        8.1                 0.0   \n",
       "1                7.1                        7.3                 0.0   \n",
       "2                6.9                        6.9                 0.0   \n",
       "3                6.7                        6.5                 0.0   \n",
       "4                6.5                        6.0                 0.0   \n",
       "\n",
       "   rain (mm)  snowfall (cm)  snow_depth (m)  weather_code (wmo code)  ...  \\\n",
       "0        0.0            0.0             0.0                        1  ...   \n",
       "1        0.0            0.0             0.0                        0  ...   \n",
       "2        0.0            0.0             0.0                        0  ...   \n",
       "3        0.0            0.0             0.0                        0  ...   \n",
       "4        0.0            0.0             0.0                        0  ...   \n",
       "\n",
       "   wind_direction_100m (°)  wind_gusts_10m (km/h)  \\\n",
       "0                       49                   13.3   \n",
       "1                       46                   15.1   \n",
       "2                       42                   15.8   \n",
       "3                       40                   16.9   \n",
       "4                       44                   19.1   \n",
       "\n",
       "   soil_temperature_0_to_7cm (°C)  soil_temperature_7_to_28cm (°C)  \\\n",
       "0                            10.0                             11.9   \n",
       "1                             9.7                             11.8   \n",
       "2                             9.5                             11.7   \n",
       "3                             9.3                             11.6   \n",
       "4                             9.1                             11.4   \n",
       "\n",
       "   soil_temperature_28_to_100cm (°C)  soil_temperature_100_to_255cm (°C)  \\\n",
       "0                               13.6                                17.1   \n",
       "1                               13.6                                17.1   \n",
       "2                               13.6                                17.1   \n",
       "3                               13.6                                17.1   \n",
       "4                               13.6                                17.1   \n",
       "\n",
       "   soil_moisture_0_to_7cm (m³/m³)  soil_moisture_7_to_28cm (m³/m³)  \\\n",
       "0                           0.339                             0.35   \n",
       "1                           0.339                             0.35   \n",
       "2                           0.339                             0.35   \n",
       "3                           0.339                             0.35   \n",
       "4                           0.339                             0.35   \n",
       "\n",
       "   soil_moisture_28_to_100cm (m³/m³)  soil_moisture_100_to_255cm (m³/m³)  \n",
       "0                               0.36                                 0.3  \n",
       "1                               0.36                                 0.3  \n",
       "2                               0.36                                 0.3  \n",
       "3                               0.36                                 0.3  \n",
       "4                               0.36                                 0.3  \n",
       "\n",
       "[5 rows x 31 columns]"
      ]
     },
     "metadata": {},
     "output_type": "display_data"
    }
   ],
   "source": [
    "df_weather_ny_h = pd.read_csv(filepath_weather_lx_h,sep=';', na_values=\"\")\n",
    "display(df_weather_ny_h.head())"
   ]
  },
  {
   "cell_type": "markdown",
   "metadata": {},
   "source": [
    "### Main file - Gira bike sharing system data\n",
    "- Data on each gira stations in Lisbon, regarding available capacity by minute, between the period of 1/1/22 and 31/6/22.\n",
    "    - Contains info on:\n",
    "        - desig_comercial - Name of the gira bike station in Lisbon\n",
    "        - num_bicicletas - Number of docked bikes in the station (station load)\n",
    "        - num_docas - number of docks in the station (station capacity)\n",
    "        - position - longitude and latitute points of the gira bike stations\n",
    "        - entity_ts - time stamp of each record regarding the station load at each minute\n",
    "        - estado - statu of the gira bike station, can be active or in repair\n",
    "    - Data provided on dados.cm-lisboa website\n",
    "        - link here - https://dados.cm-lisboa.pt/dataset/gira-bicicletas-de-lisboa-historico"
   ]
  },
  {
   "cell_type": "code",
   "execution_count": null,
   "metadata": {},
   "outputs": [
    {
     "data": {
      "application/vnd.microsoft.datawrangler.viewer.v0+json": {
       "columns": [
        {
         "name": "index",
         "rawType": "int64",
         "type": "integer"
        },
        {
         "name": "desigcomercial",
         "rawType": "object",
         "type": "string"
        },
        {
         "name": "numbicicletas",
         "rawType": "int64",
         "type": "integer"
        },
        {
         "name": "numdocas",
         "rawType": "int64",
         "type": "integer"
        },
        {
         "name": "position",
         "rawType": "object",
         "type": "string"
        },
        {
         "name": "entity_ts",
         "rawType": "object",
         "type": "string"
        },
        {
         "name": "estado",
         "rawType": "object",
         "type": "string"
        }
       ],
       "conversionMethod": "pd.DataFrame",
       "ref": "6c3ee781-4049-48b8-9cae-4e7ba2eb0e31",
       "rows": [
        [
         "0",
         "417 - Av. Duque de Ávila / Jardim Arco Do Cego",
         "3",
         "23",
         "{\"coordinates\":[-9.142703,38.735352],\"type\":\"Point\"}",
         "2022-01-01T13:38:03.130Z",
         "active"
        ],
        [
         "1",
         "446 - Av. República / Interface Entrecampos ",
         "25",
         "40",
         "{\"coordinates\":[-9.14773,38.74456],\"type\":\"Point\"}",
         "2022-01-01T13:38:04.625Z",
         "active"
        ],
        [
         "2",
         "416 - Av. República / Avenida Duque de Ávila",
         "6",
         "16",
         "{\"coordinates\":[-9.14553,38.735304],\"type\":\"Point\"}",
         "2022-01-01T13:38:03.751Z",
         "active"
        ],
        [
         "3",
         "103 - Jardim da Água",
         "16",
         "20",
         "{\"coordinates\":[-9.095019,38.761218],\"type\":\"Point\"}",
         "2022-01-01T13:38:04.204Z",
         "active"
        ],
        [
         "4",
         "415 - Av. Duque de Ávila / Av. Conde Valbom",
         "9",
         "20",
         "{\"coordinates\":[-9.148443,38.735188],\"type\":\"Point\"}",
         "2022-01-01T13:38:04.179Z",
         "active"
        ],
        [
         "5",
         "464 - Av. da Igreja / Rua Afonso Lopes Vieira",
         "2",
         "14",
         "{\"coordinates\":[-9.148427,38.75165],\"type\":\"Point\"}",
         "2022-01-01T13:38:03.650Z",
         "active"
        ],
        [
         "6",
         "476 - Av. Professor Gama Pinto / Reitoria",
         "17",
         "23",
         "{\"coordinates\":[-9.15885,38.75231],\"type\":\"Point\"}",
         "2022-01-01T13:38:04.163Z",
         "active"
        ],
        [
         "7",
         "102 - Porta do Mar",
         "2",
         "14",
         "{\"coordinates\":[-9.096439,38.759156],\"type\":\"Point\"}",
         "2022-01-01T13:38:02.966Z",
         "active"
        ],
        [
         "8",
         "216 - Praça D. Luís I",
         "0",
         "21",
         "{\"coordinates\":[-9.14655,38.70663],\"type\":\"Point\"}",
         "2022-01-01T13:38:04.646Z",
         "active"
        ],
        [
         "9",
         "460 - Av. Rio de Janeiro / Parque de Jogos 1º de Maio",
         "12",
         "15",
         "{\"coordinates\":[-9.13749,38.75176],\"type\":\"Point\"}",
         "2022-01-01T13:38:04.507Z",
         "active"
        ],
        [
         "10",
         "426 - Av. Elias Garcia / Av. 5 de Outubro",
         "9",
         "14",
         "{\"coordinates\":[-9.14793,38.739046],\"type\":\"Point\"}",
         "2022-01-01T13:38:03.283Z",
         "active"
        ],
        [
         "11",
         "105 - CC Vasco da Gama",
         "15",
         "40",
         "{\"coordinates\":[-9.096222,38.768548],\"type\":\"Point\"}",
         "2022-01-01T13:38:03.790Z",
         "active"
        ],
        [
         "12",
         "150 - Avenida Dr. Francisco Luis Gomes / Go Fit",
         "5",
         "17",
         "{\"coordinates\":[-9.111745,38.769665],\"type\":\"Point\"}",
         "2022-01-01T13:38:04.156Z",
         "active"
        ],
        [
         "13",
         "135 - Avenida Cidade de Lourenço Marques / Vale do",
         "8",
         "20",
         "{\"coordinates\":[-9.118689,38.764067],\"type\":\"Point\"}",
         "2022-01-01T13:38:04.079Z",
         "active"
        ],
        [
         "14",
         "412 - Av. Ressano Garcia / Av. António Augusto de Aguiar",
         "4",
         "16",
         "{\"coordinates\":[-9.1546,38.73448],\"type\":\"Point\"}",
         "2022-01-01T13:38:04.024Z",
         "active"
        ],
        [
         "15",
         "410 - Rua da Mesquita / Universidade Nova de Lisboa",
         "23",
         "40",
         "{\"coordinates\":[-9.16015,38.73492],\"type\":\"Point\"}",
         "2022-01-01T13:18:03.348Z",
         "active"
        ],
        [
         "16",
         "475 - Av. Professor Gama Pinto / Cantina Velha",
         "26",
         "41",
         "{\"coordinates\":[-9.15907,38.75115],\"type\":\"Point\"}",
         "2022-01-01T13:18:03.564Z",
         "active"
        ],
        [
         "17",
         "474 - Av. do Brasil / Av. Rio de Janeiro",
         "9",
         "16",
         "{\"coordinates\":[-9.1409,38.75832],\"type\":\"Point\"}",
         "2022-01-01T13:18:03.717Z",
         "active"
        ],
        [
         "18",
         "309 - Rua da Palma",
         "1",
         "10",
         "{\"coordinates\":[-9.13577,38.71901],\"type\":\"Point\"}",
         "2022-01-01T13:18:03.572Z",
         "active"
        ],
        [
         "19",
         "208 - Cais das Pombas",
         "6",
         "22",
         "{\"coordinates\":[-9.14373,38.70523],\"type\":\"Point\"}",
         "2022-01-01T13:18:04.507Z",
         "active"
        ],
        [
         "20",
         "308 - Marquês de Pombal",
         "0",
         "11",
         "{\"coordinates\":[-9.14969,38.7246],\"type\":\"Point\"}",
         "2022-01-01T13:18:02.947Z",
         "active"
        ],
        [
         "21",
         "150 - Avenida Dr. Francisco Luis Gomes / Go Fit",
         "5",
         "17",
         "{\"coordinates\":[-9.111745,38.769665],\"type\":\"Point\"}",
         "2022-01-01T13:18:03.729Z",
         "active"
        ],
        [
         "22",
         "476 - Av. Professor Gama Pinto / Reitoria",
         "17",
         "23",
         "{\"coordinates\":[-9.15885,38.75231],\"type\":\"Point\"}",
         "2022-01-01T13:18:03.146Z",
         "active"
        ],
        [
         "23",
         "468 - Largo Frei Heitor Pinto",
         "2",
         "21",
         "{\"coordinates\":[-9.13827,38.75482],\"type\":\"Point\"}",
         "2022-01-01T13:18:04.032Z",
         "active"
        ],
        [
         "24",
         "556 - Alamedas das Linhas de Torres / Estrada da T",
         "7",
         "11",
         "{\"coordinates\":[-9.161462,38.773489],\"type\":\"Point\"}",
         "2022-01-01T13:18:02.744Z",
         "active"
        ],
        [
         "25",
         "206 - Av. Brasília / Doca de Alcântara",
         "6",
         "22",
         "{\"coordinates\":[-9.17502,38.70141],\"type\":\"Point\"}",
         "2022-01-01T13:18:03.253Z",
         "active"
        ],
        [
         "26",
         "215 - Av. 24 de Julho",
         "1",
         "17",
         "{\"coordinates\":[-9.14949,38.70662],\"type\":\"Point\"}",
         "2022-01-01T13:18:03.868Z",
         "active"
        ],
        [
         "27",
         "473 - Av. do Brasil / Av. de Roma",
         "8",
         "14",
         "{\"coordinates\":[-9.14697,38.75643],\"type\":\"Point\"}",
         "2022-01-01T13:18:03.799Z",
         "active"
        ],
        [
         "28",
         "431 - Rua do Arco Cego / Av. Magalhães Lima",
         "4",
         "14",
         "{\"coordinates\":[-9.14199,38.73937],\"type\":\"Point\"}",
         "2022-01-01T12:58:03.436Z",
         "active"
        ],
        [
         "29",
         "218 - Cais do Sodré",
         "3",
         "22",
         "{\"coordinates\":[-9.14471,38.70617],\"type\":\"Point\"}",
         "2022-01-01T12:58:02.505Z",
         "active"
        ],
        [
         "30",
         "108 - Rua do Bojador",
         "6",
         "14",
         "{\"coordinates\":[-9.09235,38.774289],\"type\":\"Point\"}",
         "2022-01-01T12:58:02.051Z",
         "active"
        ],
        [
         "31",
         "107 - Rotunda dos Vice-Reis",
         "6",
         "14",
         "{\"coordinates\":[-9.095416,38.774505],\"type\":\"Point\"}",
         "2022-01-01T12:58:03.434Z",
         "active"
        ],
        [
         "32",
         "215 - Av. 24 de Julho",
         "1",
         "17",
         "{\"coordinates\":[-9.14949,38.70662],\"type\":\"Point\"}",
         "2022-01-01T12:58:03.348Z",
         "active"
        ],
        [
         "33",
         "478 - Alameda da Universidade / Faculdade de Letras",
         "16",
         "32",
         "{\"coordinates\":[-9.15717,38.75359],\"type\":\"Point\"}",
         "2022-01-01T12:58:03.418Z",
         "active"
        ],
        [
         "34",
         "552 - Alameda das Linhas de Torres / Hospital Puli",
         "8",
         "12",
         "{\"coordinates\":[-9.157335,38.766075],\"type\":\"Point\"}",
         "2022-01-01T12:58:02.441Z",
         "active"
        ],
        [
         "35",
         "205 - Av. Brasília / Cordoaria",
         "2",
         "10",
         "{\"coordinates\":[-9.188,38.697],\"type\":\"Point\"}",
         "2022-01-01T12:58:03.072Z",
         "active"
        ],
        [
         "36",
         "430 - Av. Barbosa Du Bocage / Rua Arco do Cego",
         "3",
         "20",
         "{\"coordinates\":[-9.14329,38.74081],\"type\":\"Point\"}",
         "2022-01-01T13:38:03.336Z",
         "active"
        ],
        [
         "37",
         "550 - Rua Fernando Curado Ribeiro / Alameda das Li",
         "3",
         "20",
         "{\"coordinates\":[-9.156487,38.760871],\"type\":\"Point\"}",
         "2022-01-01T13:18:03.270Z",
         "active"
        ],
        [
         "38",
         "426 - Av. Elias Garcia / Av. 5 de Outubro",
         "9",
         "14",
         "{\"coordinates\":[-9.14793,38.739046],\"type\":\"Point\"}",
         "2022-01-01T13:18:03.298Z",
         "active"
        ],
        [
         "39",
         "483 - Rua Professor Francisco Lucas Pires ",
         "14",
         "16",
         "{\"coordinates\":[-9.16405,38.75939],\"type\":\"Point\"}",
         "2022-01-01T13:18:02.629Z",
         "active"
        ],
        [
         "40",
         "550 - Rua Fernando Curado Ribeiro / Alameda das Li",
         "4",
         "20",
         "{\"coordinates\":[-9.156487,38.760871],\"type\":\"Point\"}",
         "2022-01-01T17:18:07.941Z",
         "active"
        ],
        [
         "41",
         "461 - Rua Professora Teresa Ambrósio",
         "17",
         "32",
         "{\"coordinates\":[-9.155564,38.749141],\"type\":\"Point\"}",
         "2022-01-01T17:18:07.085Z",
         "active"
        ],
        [
         "42",
         "225 - Martim Moniz",
         "1",
         "16",
         "{\"coordinates\":[-9.13694,38.71526],\"type\":\"Point\"}",
         "2022-01-01T17:18:07.845Z",
         "active"
        ],
        [
         "43",
         "473 - Av. do Brasil / Av. de Roma",
         "8",
         "14",
         "{\"coordinates\":[-9.14697,38.75643],\"type\":\"Point\"}",
         "2022-01-01T17:18:08.606Z",
         "active"
        ],
        [
         "44",
         "102 - Porta do Mar",
         "2",
         "14",
         "{\"coordinates\":[-9.096439,38.759156],\"type\":\"Point\"}",
         "2022-01-01T17:18:07.286Z",
         "active"
        ],
        [
         "45",
         "131 - Avenida de Berlim / Praça Baden Powell",
         "3",
         "21",
         "{\"coordinates\":[-9.110767,38.768137],\"type\":\"Point\"}",
         "2022-01-01T17:18:09.276Z",
         "active"
        ],
        [
         "46",
         "480 - Faculdade de Ciências",
         "12",
         "25",
         "{\"coordinates\":[-9.15503,38.75587],\"type\":\"Point\"}",
         "2022-01-01T17:18:08.790Z",
         "active"
        ],
        [
         "47",
         "134 - Praça Cidade do Luso",
         "5",
         "20",
         "{\"coordinates\":[-9.116342,38.765588],\"type\":\"Point\"}",
         "2022-01-01T17:18:07.591Z",
         "active"
        ],
        [
         "48",
         "114 - Via do Oriente",
         "5",
         "10",
         "{\"coordinates\":[-9.09974,38.78836],\"type\":\"Point\"}",
         "2022-01-01T17:18:08.245Z",
         "active"
        ],
        [
         "49",
         "215 - Av. 24 de Julho",
         "0",
         "17",
         "{\"coordinates\":[-9.14949,38.70662],\"type\":\"Point\"}",
         "2022-01-01T17:18:06.811Z",
         "active"
        ]
       ],
       "shape": {
        "columns": 6,
        "rows": 1555396
       }
      },
      "text/html": [
       "<div>\n",
       "<style scoped>\n",
       "    .dataframe tbody tr th:only-of-type {\n",
       "        vertical-align: middle;\n",
       "    }\n",
       "\n",
       "    .dataframe tbody tr th {\n",
       "        vertical-align: top;\n",
       "    }\n",
       "\n",
       "    .dataframe thead th {\n",
       "        text-align: right;\n",
       "    }\n",
       "</style>\n",
       "<table border=\"1\" class=\"dataframe\">\n",
       "  <thead>\n",
       "    <tr style=\"text-align: right;\">\n",
       "      <th></th>\n",
       "      <th>desigcomercial</th>\n",
       "      <th>numbicicletas</th>\n",
       "      <th>numdocas</th>\n",
       "      <th>position</th>\n",
       "      <th>entity_ts</th>\n",
       "      <th>estado</th>\n",
       "    </tr>\n",
       "  </thead>\n",
       "  <tbody>\n",
       "    <tr>\n",
       "      <th>0</th>\n",
       "      <td>417 - Av. Duque de Ávila / Jardim Arco Do Cego</td>\n",
       "      <td>3</td>\n",
       "      <td>23</td>\n",
       "      <td>{\"coordinates\":[-9.142703,38.735352],\"type\":\"P...</td>\n",
       "      <td>2022-01-01T13:38:03.130Z</td>\n",
       "      <td>active</td>\n",
       "    </tr>\n",
       "    <tr>\n",
       "      <th>1</th>\n",
       "      <td>446 - Av. República / Interface Entrecampos</td>\n",
       "      <td>25</td>\n",
       "      <td>40</td>\n",
       "      <td>{\"coordinates\":[-9.14773,38.74456],\"type\":\"Poi...</td>\n",
       "      <td>2022-01-01T13:38:04.625Z</td>\n",
       "      <td>active</td>\n",
       "    </tr>\n",
       "    <tr>\n",
       "      <th>2</th>\n",
       "      <td>416 - Av. República / Avenida Duque de Ávila</td>\n",
       "      <td>6</td>\n",
       "      <td>16</td>\n",
       "      <td>{\"coordinates\":[-9.14553,38.735304],\"type\":\"Po...</td>\n",
       "      <td>2022-01-01T13:38:03.751Z</td>\n",
       "      <td>active</td>\n",
       "    </tr>\n",
       "    <tr>\n",
       "      <th>3</th>\n",
       "      <td>103 - Jardim da Água</td>\n",
       "      <td>16</td>\n",
       "      <td>20</td>\n",
       "      <td>{\"coordinates\":[-9.095019,38.761218],\"type\":\"P...</td>\n",
       "      <td>2022-01-01T13:38:04.204Z</td>\n",
       "      <td>active</td>\n",
       "    </tr>\n",
       "    <tr>\n",
       "      <th>4</th>\n",
       "      <td>415 - Av. Duque de Ávila / Av. Conde Valbom</td>\n",
       "      <td>9</td>\n",
       "      <td>20</td>\n",
       "      <td>{\"coordinates\":[-9.148443,38.735188],\"type\":\"P...</td>\n",
       "      <td>2022-01-01T13:38:04.179Z</td>\n",
       "      <td>active</td>\n",
       "    </tr>\n",
       "    <tr>\n",
       "      <th>...</th>\n",
       "      <td>...</td>\n",
       "      <td>...</td>\n",
       "      <td>...</td>\n",
       "      <td>...</td>\n",
       "      <td>...</td>\n",
       "      <td>...</td>\n",
       "    </tr>\n",
       "    <tr>\n",
       "      <th>1555391</th>\n",
       "      <td>486 - Rua Hermano Neves / Rua José Escada</td>\n",
       "      <td>2</td>\n",
       "      <td>14</td>\n",
       "      <td>{\"coordinates\":[-9.16985,38.75954],\"type\":\"Poi...</td>\n",
       "      <td>2022-06-30T10:33:28.035Z</td>\n",
       "      <td>active</td>\n",
       "    </tr>\n",
       "    <tr>\n",
       "      <th>1555392</th>\n",
       "      <td>417 - Av. Duque de Ávila / Jardim Arco Do Cego</td>\n",
       "      <td>9</td>\n",
       "      <td>23</td>\n",
       "      <td>{\"coordinates\":[-9.142703,38.735352],\"type\":\"P...</td>\n",
       "      <td>2022-06-30T10:33:25.612Z</td>\n",
       "      <td>active</td>\n",
       "    </tr>\n",
       "    <tr>\n",
       "      <th>1555393</th>\n",
       "      <td>449 - Av. 5 de Outubro / Rua da Cruz Vermelha</td>\n",
       "      <td>0</td>\n",
       "      <td>14</td>\n",
       "      <td>{\"coordinates\":[-9.150085,38.746836],\"type\":\"P...</td>\n",
       "      <td>2022-06-30T10:13:36.074Z</td>\n",
       "      <td>active</td>\n",
       "    </tr>\n",
       "    <tr>\n",
       "      <th>1555394</th>\n",
       "      <td>479 - Rua Professor Oliveira Marques</td>\n",
       "      <td>13</td>\n",
       "      <td>14</td>\n",
       "      <td>{\"coordinates\":[-9.15724,38.75491],\"type\":\"Poi...</td>\n",
       "      <td>2022-06-30T10:13:37.004Z</td>\n",
       "      <td>active</td>\n",
       "    </tr>\n",
       "    <tr>\n",
       "      <th>1555395</th>\n",
       "      <td>216 - Praça D. Luís I</td>\n",
       "      <td>4</td>\n",
       "      <td>21</td>\n",
       "      <td>{\"coordinates\":[-9.14655,38.70663],\"type\":\"Poi...</td>\n",
       "      <td>2022-06-30T10:33:29.403Z</td>\n",
       "      <td>active</td>\n",
       "    </tr>\n",
       "  </tbody>\n",
       "</table>\n",
       "<p>1555396 rows × 6 columns</p>\n",
       "</div>"
      ],
      "text/plain": [
       "                                         desigcomercial  numbicicletas  \\\n",
       "0        417 - Av. Duque de Ávila / Jardim Arco Do Cego              3   \n",
       "1          446 - Av. República / Interface Entrecampos              25   \n",
       "2          416 - Av. República / Avenida Duque de Ávila              6   \n",
       "3                                  103 - Jardim da Água             16   \n",
       "4           415 - Av. Duque de Ávila / Av. Conde Valbom              9   \n",
       "...                                                 ...            ...   \n",
       "1555391       486 - Rua Hermano Neves / Rua José Escada              2   \n",
       "1555392  417 - Av. Duque de Ávila / Jardim Arco Do Cego              9   \n",
       "1555393   449 - Av. 5 de Outubro / Rua da Cruz Vermelha              0   \n",
       "1555394            479 - Rua Professor Oliveira Marques             13   \n",
       "1555395                           216 - Praça D. Luís I              4   \n",
       "\n",
       "         numdocas                                           position  \\\n",
       "0              23  {\"coordinates\":[-9.142703,38.735352],\"type\":\"P...   \n",
       "1              40  {\"coordinates\":[-9.14773,38.74456],\"type\":\"Poi...   \n",
       "2              16  {\"coordinates\":[-9.14553,38.735304],\"type\":\"Po...   \n",
       "3              20  {\"coordinates\":[-9.095019,38.761218],\"type\":\"P...   \n",
       "4              20  {\"coordinates\":[-9.148443,38.735188],\"type\":\"P...   \n",
       "...           ...                                                ...   \n",
       "1555391        14  {\"coordinates\":[-9.16985,38.75954],\"type\":\"Poi...   \n",
       "1555392        23  {\"coordinates\":[-9.142703,38.735352],\"type\":\"P...   \n",
       "1555393        14  {\"coordinates\":[-9.150085,38.746836],\"type\":\"P...   \n",
       "1555394        14  {\"coordinates\":[-9.15724,38.75491],\"type\":\"Poi...   \n",
       "1555395        21  {\"coordinates\":[-9.14655,38.70663],\"type\":\"Poi...   \n",
       "\n",
       "                        entity_ts  estado  \n",
       "0        2022-01-01T13:38:03.130Z  active  \n",
       "1        2022-01-01T13:38:04.625Z  active  \n",
       "2        2022-01-01T13:38:03.751Z  active  \n",
       "3        2022-01-01T13:38:04.204Z  active  \n",
       "4        2022-01-01T13:38:04.179Z  active  \n",
       "...                           ...     ...  \n",
       "1555391  2022-06-30T10:33:28.035Z  active  \n",
       "1555392  2022-06-30T10:33:25.612Z  active  \n",
       "1555393  2022-06-30T10:13:36.074Z  active  \n",
       "1555394  2022-06-30T10:13:37.004Z  active  \n",
       "1555395  2022-06-30T10:33:29.403Z  active  \n",
       "\n",
       "[1555396 rows x 6 columns]"
      ]
     },
     "metadata": {},
     "output_type": "display_data"
    }
   ],
   "source": [
    "filepath = 'data/estacoes-gira-1-semestre-2022.csv'\n",
    "\n",
    "test_data = False\n",
    "# Load the data\n",
    "\n",
    "if test_data:\n",
    "    df = pd.read_csv(filepath, na_values=\"\")\n",
    "    df: Dataframe = df.sample(frac = 0.1,sep = ',', replace = False)\n",
    "else:\n",
    "    df = pd.read_csv(filepath, sep =',', na_values=\"\")\n",
    "display(df)"
   ]
  },
  {
   "cell_type": "code",
   "execution_count": 55,
   "metadata": {},
   "outputs": [
    {
     "data": {
      "application/vnd.microsoft.datawrangler.viewer.v0+json": {
       "columns": [
        {
         "name": "index",
         "rawType": "int64",
         "type": "integer"
        },
        {
         "name": "desigcomercial",
         "rawType": "object",
         "type": "string"
        },
        {
         "name": "numbicicletas",
         "rawType": "int64",
         "type": "integer"
        },
        {
         "name": "numdocas",
         "rawType": "int64",
         "type": "integer"
        },
        {
         "name": "position",
         "rawType": "object",
         "type": "string"
        },
        {
         "name": "entity_ts",
         "rawType": "object",
         "type": "string"
        },
        {
         "name": "estado",
         "rawType": "object",
         "type": "string"
        }
       ],
       "conversionMethod": "pd.DataFrame",
       "ref": "10c8047d-68f1-44af-8b22-c9c6818a9aa7",
       "rows": [
        [
         "0",
         "417 - Av. Duque de Ávila / Jardim Arco Do Cego",
         "3",
         "23",
         "{\"coordinates\":[-9.142703,38.735352],\"type\":\"Point\"}",
         "2022-01-01T13:38:03.130Z",
         "active"
        ],
        [
         "1",
         "446 - Av. República / Interface Entrecampos ",
         "25",
         "40",
         "{\"coordinates\":[-9.14773,38.74456],\"type\":\"Point\"}",
         "2022-01-01T13:38:04.625Z",
         "active"
        ],
        [
         "2",
         "416 - Av. República / Avenida Duque de Ávila",
         "6",
         "16",
         "{\"coordinates\":[-9.14553,38.735304],\"type\":\"Point\"}",
         "2022-01-01T13:38:03.751Z",
         "active"
        ],
        [
         "3",
         "103 - Jardim da Água",
         "16",
         "20",
         "{\"coordinates\":[-9.095019,38.761218],\"type\":\"Point\"}",
         "2022-01-01T13:38:04.204Z",
         "active"
        ],
        [
         "4",
         "415 - Av. Duque de Ávila / Av. Conde Valbom",
         "9",
         "20",
         "{\"coordinates\":[-9.148443,38.735188],\"type\":\"Point\"}",
         "2022-01-01T13:38:04.179Z",
         "active"
        ],
        [
         "5",
         "464 - Av. da Igreja / Rua Afonso Lopes Vieira",
         "2",
         "14",
         "{\"coordinates\":[-9.148427,38.75165],\"type\":\"Point\"}",
         "2022-01-01T13:38:03.650Z",
         "active"
        ],
        [
         "6",
         "476 - Av. Professor Gama Pinto / Reitoria",
         "17",
         "23",
         "{\"coordinates\":[-9.15885,38.75231],\"type\":\"Point\"}",
         "2022-01-01T13:38:04.163Z",
         "active"
        ],
        [
         "7",
         "102 - Porta do Mar",
         "2",
         "14",
         "{\"coordinates\":[-9.096439,38.759156],\"type\":\"Point\"}",
         "2022-01-01T13:38:02.966Z",
         "active"
        ],
        [
         "8",
         "216 - Praça D. Luís I",
         "0",
         "21",
         "{\"coordinates\":[-9.14655,38.70663],\"type\":\"Point\"}",
         "2022-01-01T13:38:04.646Z",
         "active"
        ],
        [
         "9",
         "460 - Av. Rio de Janeiro / Parque de Jogos 1º de Maio",
         "12",
         "15",
         "{\"coordinates\":[-9.13749,38.75176],\"type\":\"Point\"}",
         "2022-01-01T13:38:04.507Z",
         "active"
        ],
        [
         "10",
         "426 - Av. Elias Garcia / Av. 5 de Outubro",
         "9",
         "14",
         "{\"coordinates\":[-9.14793,38.739046],\"type\":\"Point\"}",
         "2022-01-01T13:38:03.283Z",
         "active"
        ],
        [
         "11",
         "105 - CC Vasco da Gama",
         "15",
         "40",
         "{\"coordinates\":[-9.096222,38.768548],\"type\":\"Point\"}",
         "2022-01-01T13:38:03.790Z",
         "active"
        ],
        [
         "12",
         "150 - Avenida Dr. Francisco Luis Gomes / Go Fit",
         "5",
         "17",
         "{\"coordinates\":[-9.111745,38.769665],\"type\":\"Point\"}",
         "2022-01-01T13:38:04.156Z",
         "active"
        ],
        [
         "13",
         "135 - Avenida Cidade de Lourenço Marques / Vale do",
         "8",
         "20",
         "{\"coordinates\":[-9.118689,38.764067],\"type\":\"Point\"}",
         "2022-01-01T13:38:04.079Z",
         "active"
        ],
        [
         "14",
         "412 - Av. Ressano Garcia / Av. António Augusto de Aguiar",
         "4",
         "16",
         "{\"coordinates\":[-9.1546,38.73448],\"type\":\"Point\"}",
         "2022-01-01T13:38:04.024Z",
         "active"
        ],
        [
         "15",
         "410 - Rua da Mesquita / Universidade Nova de Lisboa",
         "23",
         "40",
         "{\"coordinates\":[-9.16015,38.73492],\"type\":\"Point\"}",
         "2022-01-01T13:18:03.348Z",
         "active"
        ],
        [
         "16",
         "475 - Av. Professor Gama Pinto / Cantina Velha",
         "26",
         "41",
         "{\"coordinates\":[-9.15907,38.75115],\"type\":\"Point\"}",
         "2022-01-01T13:18:03.564Z",
         "active"
        ],
        [
         "17",
         "474 - Av. do Brasil / Av. Rio de Janeiro",
         "9",
         "16",
         "{\"coordinates\":[-9.1409,38.75832],\"type\":\"Point\"}",
         "2022-01-01T13:18:03.717Z",
         "active"
        ],
        [
         "18",
         "309 - Rua da Palma",
         "1",
         "10",
         "{\"coordinates\":[-9.13577,38.71901],\"type\":\"Point\"}",
         "2022-01-01T13:18:03.572Z",
         "active"
        ],
        [
         "19",
         "208 - Cais das Pombas",
         "6",
         "22",
         "{\"coordinates\":[-9.14373,38.70523],\"type\":\"Point\"}",
         "2022-01-01T13:18:04.507Z",
         "active"
        ],
        [
         "20",
         "308 - Marquês de Pombal",
         "0",
         "11",
         "{\"coordinates\":[-9.14969,38.7246],\"type\":\"Point\"}",
         "2022-01-01T13:18:02.947Z",
         "active"
        ],
        [
         "21",
         "150 - Avenida Dr. Francisco Luis Gomes / Go Fit",
         "5",
         "17",
         "{\"coordinates\":[-9.111745,38.769665],\"type\":\"Point\"}",
         "2022-01-01T13:18:03.729Z",
         "active"
        ],
        [
         "22",
         "476 - Av. Professor Gama Pinto / Reitoria",
         "17",
         "23",
         "{\"coordinates\":[-9.15885,38.75231],\"type\":\"Point\"}",
         "2022-01-01T13:18:03.146Z",
         "active"
        ],
        [
         "23",
         "468 - Largo Frei Heitor Pinto",
         "2",
         "21",
         "{\"coordinates\":[-9.13827,38.75482],\"type\":\"Point\"}",
         "2022-01-01T13:18:04.032Z",
         "active"
        ],
        [
         "24",
         "556 - Alamedas das Linhas de Torres / Estrada da T",
         "7",
         "11",
         "{\"coordinates\":[-9.161462,38.773489],\"type\":\"Point\"}",
         "2022-01-01T13:18:02.744Z",
         "active"
        ],
        [
         "25",
         "206 - Av. Brasília / Doca de Alcântara",
         "6",
         "22",
         "{\"coordinates\":[-9.17502,38.70141],\"type\":\"Point\"}",
         "2022-01-01T13:18:03.253Z",
         "active"
        ],
        [
         "26",
         "215 - Av. 24 de Julho",
         "1",
         "17",
         "{\"coordinates\":[-9.14949,38.70662],\"type\":\"Point\"}",
         "2022-01-01T13:18:03.868Z",
         "active"
        ],
        [
         "27",
         "473 - Av. do Brasil / Av. de Roma",
         "8",
         "14",
         "{\"coordinates\":[-9.14697,38.75643],\"type\":\"Point\"}",
         "2022-01-01T13:18:03.799Z",
         "active"
        ],
        [
         "28",
         "431 - Rua do Arco Cego / Av. Magalhães Lima",
         "4",
         "14",
         "{\"coordinates\":[-9.14199,38.73937],\"type\":\"Point\"}",
         "2022-01-01T12:58:03.436Z",
         "active"
        ],
        [
         "29",
         "218 - Cais do Sodré",
         "3",
         "22",
         "{\"coordinates\":[-9.14471,38.70617],\"type\":\"Point\"}",
         "2022-01-01T12:58:02.505Z",
         "active"
        ],
        [
         "30",
         "108 - Rua do Bojador",
         "6",
         "14",
         "{\"coordinates\":[-9.09235,38.774289],\"type\":\"Point\"}",
         "2022-01-01T12:58:02.051Z",
         "active"
        ],
        [
         "31",
         "107 - Rotunda dos Vice-Reis",
         "6",
         "14",
         "{\"coordinates\":[-9.095416,38.774505],\"type\":\"Point\"}",
         "2022-01-01T12:58:03.434Z",
         "active"
        ],
        [
         "32",
         "215 - Av. 24 de Julho",
         "1",
         "17",
         "{\"coordinates\":[-9.14949,38.70662],\"type\":\"Point\"}",
         "2022-01-01T12:58:03.348Z",
         "active"
        ],
        [
         "33",
         "478 - Alameda da Universidade / Faculdade de Letras",
         "16",
         "32",
         "{\"coordinates\":[-9.15717,38.75359],\"type\":\"Point\"}",
         "2022-01-01T12:58:03.418Z",
         "active"
        ],
        [
         "34",
         "552 - Alameda das Linhas de Torres / Hospital Puli",
         "8",
         "12",
         "{\"coordinates\":[-9.157335,38.766075],\"type\":\"Point\"}",
         "2022-01-01T12:58:02.441Z",
         "active"
        ],
        [
         "35",
         "205 - Av. Brasília / Cordoaria",
         "2",
         "10",
         "{\"coordinates\":[-9.188,38.697],\"type\":\"Point\"}",
         "2022-01-01T12:58:03.072Z",
         "active"
        ],
        [
         "36",
         "430 - Av. Barbosa Du Bocage / Rua Arco do Cego",
         "3",
         "20",
         "{\"coordinates\":[-9.14329,38.74081],\"type\":\"Point\"}",
         "2022-01-01T13:38:03.336Z",
         "active"
        ],
        [
         "37",
         "550 - Rua Fernando Curado Ribeiro / Alameda das Li",
         "3",
         "20",
         "{\"coordinates\":[-9.156487,38.760871],\"type\":\"Point\"}",
         "2022-01-01T13:18:03.270Z",
         "active"
        ],
        [
         "38",
         "426 - Av. Elias Garcia / Av. 5 de Outubro",
         "9",
         "14",
         "{\"coordinates\":[-9.14793,38.739046],\"type\":\"Point\"}",
         "2022-01-01T13:18:03.298Z",
         "active"
        ],
        [
         "39",
         "483 - Rua Professor Francisco Lucas Pires ",
         "14",
         "16",
         "{\"coordinates\":[-9.16405,38.75939],\"type\":\"Point\"}",
         "2022-01-01T13:18:02.629Z",
         "active"
        ],
        [
         "40",
         "550 - Rua Fernando Curado Ribeiro / Alameda das Li",
         "4",
         "20",
         "{\"coordinates\":[-9.156487,38.760871],\"type\":\"Point\"}",
         "2022-01-01T17:18:07.941Z",
         "active"
        ],
        [
         "41",
         "461 - Rua Professora Teresa Ambrósio",
         "17",
         "32",
         "{\"coordinates\":[-9.155564,38.749141],\"type\":\"Point\"}",
         "2022-01-01T17:18:07.085Z",
         "active"
        ],
        [
         "42",
         "225 - Martim Moniz",
         "1",
         "16",
         "{\"coordinates\":[-9.13694,38.71526],\"type\":\"Point\"}",
         "2022-01-01T17:18:07.845Z",
         "active"
        ],
        [
         "43",
         "473 - Av. do Brasil / Av. de Roma",
         "8",
         "14",
         "{\"coordinates\":[-9.14697,38.75643],\"type\":\"Point\"}",
         "2022-01-01T17:18:08.606Z",
         "active"
        ],
        [
         "44",
         "102 - Porta do Mar",
         "2",
         "14",
         "{\"coordinates\":[-9.096439,38.759156],\"type\":\"Point\"}",
         "2022-01-01T17:18:07.286Z",
         "active"
        ],
        [
         "45",
         "131 - Avenida de Berlim / Praça Baden Powell",
         "3",
         "21",
         "{\"coordinates\":[-9.110767,38.768137],\"type\":\"Point\"}",
         "2022-01-01T17:18:09.276Z",
         "active"
        ],
        [
         "46",
         "480 - Faculdade de Ciências",
         "12",
         "25",
         "{\"coordinates\":[-9.15503,38.75587],\"type\":\"Point\"}",
         "2022-01-01T17:18:08.790Z",
         "active"
        ],
        [
         "47",
         "134 - Praça Cidade do Luso",
         "5",
         "20",
         "{\"coordinates\":[-9.116342,38.765588],\"type\":\"Point\"}",
         "2022-01-01T17:18:07.591Z",
         "active"
        ],
        [
         "48",
         "114 - Via do Oriente",
         "5",
         "10",
         "{\"coordinates\":[-9.09974,38.78836],\"type\":\"Point\"}",
         "2022-01-01T17:18:08.245Z",
         "active"
        ],
        [
         "49",
         "215 - Av. 24 de Julho",
         "0",
         "17",
         "{\"coordinates\":[-9.14949,38.70662],\"type\":\"Point\"}",
         "2022-01-01T17:18:06.811Z",
         "active"
        ]
       ],
       "shape": {
        "columns": 6,
        "rows": 3938292
       }
      },
      "text/html": [
       "<div>\n",
       "<style scoped>\n",
       "    .dataframe tbody tr th:only-of-type {\n",
       "        vertical-align: middle;\n",
       "    }\n",
       "\n",
       "    .dataframe tbody tr th {\n",
       "        vertical-align: top;\n",
       "    }\n",
       "\n",
       "    .dataframe thead th {\n",
       "        text-align: right;\n",
       "    }\n",
       "</style>\n",
       "<table border=\"1\" class=\"dataframe\">\n",
       "  <thead>\n",
       "    <tr style=\"text-align: right;\">\n",
       "      <th></th>\n",
       "      <th>desigcomercial</th>\n",
       "      <th>numbicicletas</th>\n",
       "      <th>numdocas</th>\n",
       "      <th>position</th>\n",
       "      <th>entity_ts</th>\n",
       "      <th>estado</th>\n",
       "    </tr>\n",
       "  </thead>\n",
       "  <tbody>\n",
       "    <tr>\n",
       "      <th>0</th>\n",
       "      <td>417 - Av. Duque de Ávila / Jardim Arco Do Cego</td>\n",
       "      <td>3</td>\n",
       "      <td>23</td>\n",
       "      <td>{\"coordinates\":[-9.142703,38.735352],\"type\":\"P...</td>\n",
       "      <td>2022-01-01T13:38:03.130Z</td>\n",
       "      <td>active</td>\n",
       "    </tr>\n",
       "    <tr>\n",
       "      <th>1</th>\n",
       "      <td>446 - Av. República / Interface Entrecampos</td>\n",
       "      <td>25</td>\n",
       "      <td>40</td>\n",
       "      <td>{\"coordinates\":[-9.14773,38.74456],\"type\":\"Poi...</td>\n",
       "      <td>2022-01-01T13:38:04.625Z</td>\n",
       "      <td>active</td>\n",
       "    </tr>\n",
       "    <tr>\n",
       "      <th>2</th>\n",
       "      <td>416 - Av. República / Avenida Duque de Ávila</td>\n",
       "      <td>6</td>\n",
       "      <td>16</td>\n",
       "      <td>{\"coordinates\":[-9.14553,38.735304],\"type\":\"Po...</td>\n",
       "      <td>2022-01-01T13:38:03.751Z</td>\n",
       "      <td>active</td>\n",
       "    </tr>\n",
       "    <tr>\n",
       "      <th>3</th>\n",
       "      <td>103 - Jardim da Água</td>\n",
       "      <td>16</td>\n",
       "      <td>20</td>\n",
       "      <td>{\"coordinates\":[-9.095019,38.761218],\"type\":\"P...</td>\n",
       "      <td>2022-01-01T13:38:04.204Z</td>\n",
       "      <td>active</td>\n",
       "    </tr>\n",
       "    <tr>\n",
       "      <th>4</th>\n",
       "      <td>415 - Av. Duque de Ávila / Av. Conde Valbom</td>\n",
       "      <td>9</td>\n",
       "      <td>20</td>\n",
       "      <td>{\"coordinates\":[-9.148443,38.735188],\"type\":\"P...</td>\n",
       "      <td>2022-01-01T13:38:04.179Z</td>\n",
       "      <td>active</td>\n",
       "    </tr>\n",
       "    <tr>\n",
       "      <th>...</th>\n",
       "      <td>...</td>\n",
       "      <td>...</td>\n",
       "      <td>...</td>\n",
       "      <td>...</td>\n",
       "      <td>...</td>\n",
       "      <td>...</td>\n",
       "    </tr>\n",
       "    <tr>\n",
       "      <th>3938287</th>\n",
       "      <td>479 - Rua Professor Oliveira Marques</td>\n",
       "      <td>10</td>\n",
       "      <td>13</td>\n",
       "      <td>{\"coordinates\":[-9.15724,38.75491],\"type\":\"Poi...</td>\n",
       "      <td>2023-02-16T11:47:16.000Z</td>\n",
       "      <td>active</td>\n",
       "    </tr>\n",
       "    <tr>\n",
       "      <th>3938288</th>\n",
       "      <td>513 - Rua Guiomar Torresão/Metro de Carnide</td>\n",
       "      <td>0</td>\n",
       "      <td>20</td>\n",
       "      <td>{\"coordinates\":[-9.19216,38.758691],\"type\":\"Po...</td>\n",
       "      <td>2023-02-16T11:47:16.000Z</td>\n",
       "      <td>repair</td>\n",
       "    </tr>\n",
       "    <tr>\n",
       "      <th>3938289</th>\n",
       "      <td>410 - Rua da Mesquita / Universidade Nova de L...</td>\n",
       "      <td>0</td>\n",
       "      <td>40</td>\n",
       "      <td>{\"coordinates\":[-9.16015,38.73492],\"type\":\"Poi...</td>\n",
       "      <td>2023-02-16T12:27:31.000Z</td>\n",
       "      <td>repair</td>\n",
       "    </tr>\n",
       "    <tr>\n",
       "      <th>3938290</th>\n",
       "      <td>410 - Rua da Mesquita / Universidade Nova de L...</td>\n",
       "      <td>0</td>\n",
       "      <td>40</td>\n",
       "      <td>{\"coordinates\":[-9.16015,38.73492],\"type\":\"Poi...</td>\n",
       "      <td>2023-02-16T12:07:30.000Z</td>\n",
       "      <td>repair</td>\n",
       "    </tr>\n",
       "    <tr>\n",
       "      <th>3938291</th>\n",
       "      <td>435 - Interface de Sete Rios</td>\n",
       "      <td>5</td>\n",
       "      <td>43</td>\n",
       "      <td>{\"coordinates\":[-9.166955,38.740579],\"type\":\"P...</td>\n",
       "      <td>2023-02-16T12:27:31.000Z</td>\n",
       "      <td>active</td>\n",
       "    </tr>\n",
       "  </tbody>\n",
       "</table>\n",
       "<p>3938292 rows × 6 columns</p>\n",
       "</div>"
      ],
      "text/plain": [
       "                                            desigcomercial  numbicicletas  \\\n",
       "0           417 - Av. Duque de Ávila / Jardim Arco Do Cego              3   \n",
       "1             446 - Av. República / Interface Entrecampos              25   \n",
       "2             416 - Av. República / Avenida Duque de Ávila              6   \n",
       "3                                     103 - Jardim da Água             16   \n",
       "4              415 - Av. Duque de Ávila / Av. Conde Valbom              9   \n",
       "...                                                    ...            ...   \n",
       "3938287               479 - Rua Professor Oliveira Marques             10   \n",
       "3938288        513 - Rua Guiomar Torresão/Metro de Carnide              0   \n",
       "3938289  410 - Rua da Mesquita / Universidade Nova de L...              0   \n",
       "3938290  410 - Rua da Mesquita / Universidade Nova de L...              0   \n",
       "3938291                       435 - Interface de Sete Rios              5   \n",
       "\n",
       "         numdocas                                           position  \\\n",
       "0              23  {\"coordinates\":[-9.142703,38.735352],\"type\":\"P...   \n",
       "1              40  {\"coordinates\":[-9.14773,38.74456],\"type\":\"Poi...   \n",
       "2              16  {\"coordinates\":[-9.14553,38.735304],\"type\":\"Po...   \n",
       "3              20  {\"coordinates\":[-9.095019,38.761218],\"type\":\"P...   \n",
       "4              20  {\"coordinates\":[-9.148443,38.735188],\"type\":\"P...   \n",
       "...           ...                                                ...   \n",
       "3938287        13  {\"coordinates\":[-9.15724,38.75491],\"type\":\"Poi...   \n",
       "3938288        20  {\"coordinates\":[-9.19216,38.758691],\"type\":\"Po...   \n",
       "3938289        40  {\"coordinates\":[-9.16015,38.73492],\"type\":\"Poi...   \n",
       "3938290        40  {\"coordinates\":[-9.16015,38.73492],\"type\":\"Poi...   \n",
       "3938291        43  {\"coordinates\":[-9.166955,38.740579],\"type\":\"P...   \n",
       "\n",
       "                        entity_ts  estado  \n",
       "0        2022-01-01T13:38:03.130Z  active  \n",
       "1        2022-01-01T13:38:04.625Z  active  \n",
       "2        2022-01-01T13:38:03.751Z  active  \n",
       "3        2022-01-01T13:38:04.204Z  active  \n",
       "4        2022-01-01T13:38:04.179Z  active  \n",
       "...                           ...     ...  \n",
       "3938287  2023-02-16T11:47:16.000Z  active  \n",
       "3938288  2023-02-16T11:47:16.000Z  repair  \n",
       "3938289  2023-02-16T12:27:31.000Z  repair  \n",
       "3938290  2023-02-16T12:07:30.000Z  repair  \n",
       "3938291  2023-02-16T12:27:31.000Z  active  \n",
       "\n",
       "[3938292 rows x 6 columns]"
      ]
     },
     "metadata": {},
     "output_type": "display_data"
    }
   ],
   "source": [
    "import pandas as pd\n",
    "\n",
    "# File paths\n",
    "filepaths = ['data/estacoes-gira-1-semestre-2022.csv', 'data/estacoes-gira-2-semestre-2022.csv']\n",
    "\n",
    "test_data = False\n",
    "\n",
    "# Load the data\n",
    "df_list = [pd.read_csv(file, sep=',', na_values=\"\") for file in filepaths]\n",
    "\n",
    "df = pd.concat(df_list, ignore_index=True)\n",
    "\n",
    "# Sample if test_data is True\n",
    "if test_data:\n",
    "    df = df.sample(frac=0.1, replace=False)\n",
    "\n",
    "display(df)\n"
   ]
  },
  {
   "cell_type": "code",
   "execution_count": 56,
   "metadata": {},
   "outputs": [
    {
     "data": {
      "text/plain": [
       "(3938292, 6)"
      ]
     },
     "execution_count": 56,
     "metadata": {},
     "output_type": "execute_result"
    }
   ],
   "source": [
    "df.shape"
   ]
  },
  {
   "cell_type": "markdown",
   "metadata": {},
   "source": [
    "# Data Cleaning/Transformation\n",
    "\n",
    "- Feature Engineering steps\n",
    "    - In this project, we have the main dataset (df) with capacity data for each gira bike station. In order to enrich the analysis, we decided to cross join this data with hourly meteorological conditions (from openMeteo) in Lisbon, to understand how the weather may influence the gira bike stations load over time. Lisbon's Holiday data was also included.\n",
    "\n",
    "- Remove data from 2023 in the df main\n",
    "- Add new features\n",
    "    - Add holiday col\n",
    "        - Add column is_holiday(0 or 1) that indicates if the day corresponds to a holiday date in 2022.\n",
    "    -   Spacial:\n",
    "        - longitude of the gira bike station\n",
    "        - latitude of the gira bike station\n",
    "    - Weather\n",
    "        - weather_desc: The weather conditions during the ride (e.g., Overcast, Clear sky, Rainy).\n",
    "        rain: The amount of rain (in mm) during the ride.\n",
    "        - temperature: The temperature (in °C) during the ride.\n",
    "    - Create col station load target:\n",
    "        - station_target_load hourly (numbicicletas / numdocas) * 100\n",
    "    - station_A_load hourly\n",
    "    - station_B_load hourly\n",
    "    - station_C_load hourly\n",
    "    - station_D_load hourly    \n",
    "\n",
    "- Agreggation:\n",
    "    - Aggregate the data hourly to have less rows\n",
    "- Rename original cols from main df - citi bike\n",
    "- Remove id columns: make sure to remove id columns from the df\n",
    "- Create dataset for data exploration:\n",
    "    - normal dataset with\n",
    "- Create dataset for time forecasting (1):\n",
    "    - trasnform the dataset\n",
    "    - create taget columns (station load for target station)\n",
    "    - keep external variables (station_a, station_b, station_c, weather_info, is_holiday)\n",
    "- Create dataset for time forecasting (2):\n",
    "    - trasnform the dataset\n",
    "    - create taget columns (station load for target station)\n",
    "    - remove external variables"
   ]
  },
  {
   "cell_type": "markdown",
   "metadata": {},
   "source": [
    "## Remove data from 2023 in the main df"
   ]
  },
  {
   "cell_type": "code",
   "execution_count": 57,
   "metadata": {},
   "outputs": [
    {
     "data": {
      "application/vnd.microsoft.datawrangler.viewer.v0+json": {
       "columns": [
        {
         "name": "index",
         "rawType": "int64",
         "type": "integer"
        },
        {
         "name": "desigcomercial",
         "rawType": "object",
         "type": "string"
        },
        {
         "name": "numbicicletas",
         "rawType": "int64",
         "type": "integer"
        },
        {
         "name": "numdocas",
         "rawType": "int64",
         "type": "integer"
        },
        {
         "name": "position",
         "rawType": "object",
         "type": "string"
        },
        {
         "name": "entity_ts",
         "rawType": "object",
         "type": "string"
        },
        {
         "name": "estado",
         "rawType": "object",
         "type": "string"
        }
       ],
       "conversionMethod": "pd.DataFrame",
       "ref": "ffb204d6-fb89-479e-8991-5d92013039bb",
       "rows": [
        [
         "0",
         "417 - Av. Duque de Ávila / Jardim Arco Do Cego",
         "3",
         "23",
         "{\"coordinates\":[-9.142703,38.735352],\"type\":\"Point\"}",
         "2022-01-01T13:38:03.130Z",
         "active"
        ],
        [
         "1",
         "446 - Av. República / Interface Entrecampos ",
         "25",
         "40",
         "{\"coordinates\":[-9.14773,38.74456],\"type\":\"Point\"}",
         "2022-01-01T13:38:04.625Z",
         "active"
        ],
        [
         "2",
         "416 - Av. República / Avenida Duque de Ávila",
         "6",
         "16",
         "{\"coordinates\":[-9.14553,38.735304],\"type\":\"Point\"}",
         "2022-01-01T13:38:03.751Z",
         "active"
        ],
        [
         "3",
         "103 - Jardim da Água",
         "16",
         "20",
         "{\"coordinates\":[-9.095019,38.761218],\"type\":\"Point\"}",
         "2022-01-01T13:38:04.204Z",
         "active"
        ],
        [
         "4",
         "415 - Av. Duque de Ávila / Av. Conde Valbom",
         "9",
         "20",
         "{\"coordinates\":[-9.148443,38.735188],\"type\":\"Point\"}",
         "2022-01-01T13:38:04.179Z",
         "active"
        ]
       ],
       "shape": {
        "columns": 6,
        "rows": 5
       }
      },
      "text/html": [
       "<div>\n",
       "<style scoped>\n",
       "    .dataframe tbody tr th:only-of-type {\n",
       "        vertical-align: middle;\n",
       "    }\n",
       "\n",
       "    .dataframe tbody tr th {\n",
       "        vertical-align: top;\n",
       "    }\n",
       "\n",
       "    .dataframe thead th {\n",
       "        text-align: right;\n",
       "    }\n",
       "</style>\n",
       "<table border=\"1\" class=\"dataframe\">\n",
       "  <thead>\n",
       "    <tr style=\"text-align: right;\">\n",
       "      <th></th>\n",
       "      <th>desigcomercial</th>\n",
       "      <th>numbicicletas</th>\n",
       "      <th>numdocas</th>\n",
       "      <th>position</th>\n",
       "      <th>entity_ts</th>\n",
       "      <th>estado</th>\n",
       "    </tr>\n",
       "  </thead>\n",
       "  <tbody>\n",
       "    <tr>\n",
       "      <th>0</th>\n",
       "      <td>417 - Av. Duque de Ávila / Jardim Arco Do Cego</td>\n",
       "      <td>3</td>\n",
       "      <td>23</td>\n",
       "      <td>{\"coordinates\":[-9.142703,38.735352],\"type\":\"P...</td>\n",
       "      <td>2022-01-01T13:38:03.130Z</td>\n",
       "      <td>active</td>\n",
       "    </tr>\n",
       "    <tr>\n",
       "      <th>1</th>\n",
       "      <td>446 - Av. República / Interface Entrecampos</td>\n",
       "      <td>25</td>\n",
       "      <td>40</td>\n",
       "      <td>{\"coordinates\":[-9.14773,38.74456],\"type\":\"Poi...</td>\n",
       "      <td>2022-01-01T13:38:04.625Z</td>\n",
       "      <td>active</td>\n",
       "    </tr>\n",
       "    <tr>\n",
       "      <th>2</th>\n",
       "      <td>416 - Av. República / Avenida Duque de Ávila</td>\n",
       "      <td>6</td>\n",
       "      <td>16</td>\n",
       "      <td>{\"coordinates\":[-9.14553,38.735304],\"type\":\"Po...</td>\n",
       "      <td>2022-01-01T13:38:03.751Z</td>\n",
       "      <td>active</td>\n",
       "    </tr>\n",
       "    <tr>\n",
       "      <th>3</th>\n",
       "      <td>103 - Jardim da Água</td>\n",
       "      <td>16</td>\n",
       "      <td>20</td>\n",
       "      <td>{\"coordinates\":[-9.095019,38.761218],\"type\":\"P...</td>\n",
       "      <td>2022-01-01T13:38:04.204Z</td>\n",
       "      <td>active</td>\n",
       "    </tr>\n",
       "    <tr>\n",
       "      <th>4</th>\n",
       "      <td>415 - Av. Duque de Ávila / Av. Conde Valbom</td>\n",
       "      <td>9</td>\n",
       "      <td>20</td>\n",
       "      <td>{\"coordinates\":[-9.148443,38.735188],\"type\":\"P...</td>\n",
       "      <td>2022-01-01T13:38:04.179Z</td>\n",
       "      <td>active</td>\n",
       "    </tr>\n",
       "  </tbody>\n",
       "</table>\n",
       "</div>"
      ],
      "text/plain": [
       "                                   desigcomercial  numbicicletas  numdocas  \\\n",
       "0  417 - Av. Duque de Ávila / Jardim Arco Do Cego              3        23   \n",
       "1    446 - Av. República / Interface Entrecampos              25        40   \n",
       "2    416 - Av. República / Avenida Duque de Ávila              6        16   \n",
       "3                            103 - Jardim da Água             16        20   \n",
       "4     415 - Av. Duque de Ávila / Av. Conde Valbom              9        20   \n",
       "\n",
       "                                            position  \\\n",
       "0  {\"coordinates\":[-9.142703,38.735352],\"type\":\"P...   \n",
       "1  {\"coordinates\":[-9.14773,38.74456],\"type\":\"Poi...   \n",
       "2  {\"coordinates\":[-9.14553,38.735304],\"type\":\"Po...   \n",
       "3  {\"coordinates\":[-9.095019,38.761218],\"type\":\"P...   \n",
       "4  {\"coordinates\":[-9.148443,38.735188],\"type\":\"P...   \n",
       "\n",
       "                  entity_ts  estado  \n",
       "0  2022-01-01T13:38:03.130Z  active  \n",
       "1  2022-01-01T13:38:04.625Z  active  \n",
       "2  2022-01-01T13:38:03.751Z  active  \n",
       "3  2022-01-01T13:38:04.204Z  active  \n",
       "4  2022-01-01T13:38:04.179Z  active  "
      ]
     },
     "execution_count": 57,
     "metadata": {},
     "output_type": "execute_result"
    }
   ],
   "source": [
    "df.head()"
   ]
  },
  {
   "cell_type": "code",
   "execution_count": 58,
   "metadata": {},
   "outputs": [],
   "source": [
    "# Convert 'entity_ts' column in df to datetime\n",
    "df['entity_ts'] = pd.to_datetime(df['entity_ts'].str[:-5])  # Remove os últimos 5 caracteres se necessário\n",
    "df = df[df['entity_ts'].dt.year != 2023]"
   ]
  },
  {
   "cell_type": "code",
   "execution_count": 59,
   "metadata": {},
   "outputs": [
    {
     "data": {
      "text/plain": [
       "(3348370, 6)"
      ]
     },
     "execution_count": 59,
     "metadata": {},
     "output_type": "execute_result"
    }
   ],
   "source": [
    "df.shape"
   ]
  },
  {
   "cell_type": "markdown",
   "metadata": {},
   "source": [
    "## Add Holiday column to main df"
   ]
  },
  {
   "cell_type": "markdown",
   "metadata": {},
   "source": [
    "|"
   ]
  },
  {
   "cell_type": "code",
   "execution_count": null,
   "metadata": {},
   "outputs": [
    {
     "name": "stderr",
     "output_type": "stream",
     "text": [
      "/var/folders/c4/7p0dsfgx11b12ysjrzs_hf940000gn/T/ipykernel_33261/4065444723.py:7: FutureWarning: 'H' is deprecated and will be removed in a future version, please use 'h' instead.\n",
      "  df['entity_ts_hour'] = df['entity_ts'].dt.floor('H')  # Extrai a hora (arredondada para baixo)\n"
     ]
    },
    {
     "data": {
      "application/vnd.microsoft.datawrangler.viewer.v0+json": {
       "columns": [
        {
         "name": "index",
         "rawType": "int64",
         "type": "integer"
        },
        {
         "name": "desigcomercial",
         "rawType": "object",
         "type": "string"
        },
        {
         "name": "numbicicletas",
         "rawType": "int64",
         "type": "integer"
        },
        {
         "name": "numdocas",
         "rawType": "int64",
         "type": "integer"
        },
        {
         "name": "position",
         "rawType": "object",
         "type": "string"
        },
        {
         "name": "entity_ts",
         "rawType": "datetime64[ns]",
         "type": "datetime"
        },
        {
         "name": "estado",
         "rawType": "object",
         "type": "string"
        },
        {
         "name": "entity_ts_hour",
         "rawType": "datetime64[ns]",
         "type": "datetime"
        },
        {
         "name": "entity_ts_day",
         "rawType": "datetime64[ns]",
         "type": "datetime"
        },
        {
         "name": "date",
         "rawType": "datetime64[ns]",
         "type": "datetime"
        },
        {
         "name": "holiday_lisbon",
         "rawType": "float64",
         "type": "float"
        }
       ],
       "conversionMethod": "pd.DataFrame",
       "ref": "d6e10089-8661-4d09-8a05-2c04818ca44d",
       "rows": [
        [
         "0",
         "417 - Av. Duque de Ávila / Jardim Arco Do Cego",
         "3",
         "23",
         "{\"coordinates\":[-9.142703,38.735352],\"type\":\"Point\"}",
         "2022-01-01 13:38:03",
         "active",
         "2022-01-01 13:00:00",
         "2022-01-01 00:00:00",
         "2022-01-01 00:00:00",
         "1.0"
        ],
        [
         "1",
         "446 - Av. República / Interface Entrecampos ",
         "25",
         "40",
         "{\"coordinates\":[-9.14773,38.74456],\"type\":\"Point\"}",
         "2022-01-01 13:38:04",
         "active",
         "2022-01-01 13:00:00",
         "2022-01-01 00:00:00",
         "2022-01-01 00:00:00",
         "1.0"
        ],
        [
         "2",
         "416 - Av. República / Avenida Duque de Ávila",
         "6",
         "16",
         "{\"coordinates\":[-9.14553,38.735304],\"type\":\"Point\"}",
         "2022-01-01 13:38:03",
         "active",
         "2022-01-01 13:00:00",
         "2022-01-01 00:00:00",
         "2022-01-01 00:00:00",
         "1.0"
        ],
        [
         "3",
         "103 - Jardim da Água",
         "16",
         "20",
         "{\"coordinates\":[-9.095019,38.761218],\"type\":\"Point\"}",
         "2022-01-01 13:38:04",
         "active",
         "2022-01-01 13:00:00",
         "2022-01-01 00:00:00",
         "2022-01-01 00:00:00",
         "1.0"
        ],
        [
         "4",
         "415 - Av. Duque de Ávila / Av. Conde Valbom",
         "9",
         "20",
         "{\"coordinates\":[-9.148443,38.735188],\"type\":\"Point\"}",
         "2022-01-01 13:38:04",
         "active",
         "2022-01-01 13:00:00",
         "2022-01-01 00:00:00",
         "2022-01-01 00:00:00",
         "1.0"
        ]
       ],
       "shape": {
        "columns": 10,
        "rows": 5
       }
      },
      "text/html": [
       "<div>\n",
       "<style scoped>\n",
       "    .dataframe tbody tr th:only-of-type {\n",
       "        vertical-align: middle;\n",
       "    }\n",
       "\n",
       "    .dataframe tbody tr th {\n",
       "        vertical-align: top;\n",
       "    }\n",
       "\n",
       "    .dataframe thead th {\n",
       "        text-align: right;\n",
       "    }\n",
       "</style>\n",
       "<table border=\"1\" class=\"dataframe\">\n",
       "  <thead>\n",
       "    <tr style=\"text-align: right;\">\n",
       "      <th></th>\n",
       "      <th>desigcomercial</th>\n",
       "      <th>numbicicletas</th>\n",
       "      <th>numdocas</th>\n",
       "      <th>position</th>\n",
       "      <th>entity_ts</th>\n",
       "      <th>estado</th>\n",
       "      <th>entity_ts_hour</th>\n",
       "      <th>entity_ts_day</th>\n",
       "      <th>date</th>\n",
       "      <th>holiday_lisbon</th>\n",
       "    </tr>\n",
       "  </thead>\n",
       "  <tbody>\n",
       "    <tr>\n",
       "      <th>0</th>\n",
       "      <td>417 - Av. Duque de Ávila / Jardim Arco Do Cego</td>\n",
       "      <td>3</td>\n",
       "      <td>23</td>\n",
       "      <td>{\"coordinates\":[-9.142703,38.735352],\"type\":\"P...</td>\n",
       "      <td>2022-01-01 13:38:03</td>\n",
       "      <td>active</td>\n",
       "      <td>2022-01-01 13:00:00</td>\n",
       "      <td>2022-01-01</td>\n",
       "      <td>2022-01-01</td>\n",
       "      <td>1.0</td>\n",
       "    </tr>\n",
       "    <tr>\n",
       "      <th>1</th>\n",
       "      <td>446 - Av. República / Interface Entrecampos</td>\n",
       "      <td>25</td>\n",
       "      <td>40</td>\n",
       "      <td>{\"coordinates\":[-9.14773,38.74456],\"type\":\"Poi...</td>\n",
       "      <td>2022-01-01 13:38:04</td>\n",
       "      <td>active</td>\n",
       "      <td>2022-01-01 13:00:00</td>\n",
       "      <td>2022-01-01</td>\n",
       "      <td>2022-01-01</td>\n",
       "      <td>1.0</td>\n",
       "    </tr>\n",
       "    <tr>\n",
       "      <th>2</th>\n",
       "      <td>416 - Av. República / Avenida Duque de Ávila</td>\n",
       "      <td>6</td>\n",
       "      <td>16</td>\n",
       "      <td>{\"coordinates\":[-9.14553,38.735304],\"type\":\"Po...</td>\n",
       "      <td>2022-01-01 13:38:03</td>\n",
       "      <td>active</td>\n",
       "      <td>2022-01-01 13:00:00</td>\n",
       "      <td>2022-01-01</td>\n",
       "      <td>2022-01-01</td>\n",
       "      <td>1.0</td>\n",
       "    </tr>\n",
       "    <tr>\n",
       "      <th>3</th>\n",
       "      <td>103 - Jardim da Água</td>\n",
       "      <td>16</td>\n",
       "      <td>20</td>\n",
       "      <td>{\"coordinates\":[-9.095019,38.761218],\"type\":\"P...</td>\n",
       "      <td>2022-01-01 13:38:04</td>\n",
       "      <td>active</td>\n",
       "      <td>2022-01-01 13:00:00</td>\n",
       "      <td>2022-01-01</td>\n",
       "      <td>2022-01-01</td>\n",
       "      <td>1.0</td>\n",
       "    </tr>\n",
       "    <tr>\n",
       "      <th>4</th>\n",
       "      <td>415 - Av. Duque de Ávila / Av. Conde Valbom</td>\n",
       "      <td>9</td>\n",
       "      <td>20</td>\n",
       "      <td>{\"coordinates\":[-9.148443,38.735188],\"type\":\"P...</td>\n",
       "      <td>2022-01-01 13:38:04</td>\n",
       "      <td>active</td>\n",
       "      <td>2022-01-01 13:00:00</td>\n",
       "      <td>2022-01-01</td>\n",
       "      <td>2022-01-01</td>\n",
       "      <td>1.0</td>\n",
       "    </tr>\n",
       "  </tbody>\n",
       "</table>\n",
       "</div>"
      ],
      "text/plain": [
       "                                   desigcomercial  numbicicletas  numdocas  \\\n",
       "0  417 - Av. Duque de Ávila / Jardim Arco Do Cego              3        23   \n",
       "1    446 - Av. República / Interface Entrecampos              25        40   \n",
       "2    416 - Av. República / Avenida Duque de Ávila              6        16   \n",
       "3                            103 - Jardim da Água             16        20   \n",
       "4     415 - Av. Duque de Ávila / Av. Conde Valbom              9        20   \n",
       "\n",
       "                                            position           entity_ts  \\\n",
       "0  {\"coordinates\":[-9.142703,38.735352],\"type\":\"P... 2022-01-01 13:38:03   \n",
       "1  {\"coordinates\":[-9.14773,38.74456],\"type\":\"Poi... 2022-01-01 13:38:04   \n",
       "2  {\"coordinates\":[-9.14553,38.735304],\"type\":\"Po... 2022-01-01 13:38:03   \n",
       "3  {\"coordinates\":[-9.095019,38.761218],\"type\":\"P... 2022-01-01 13:38:04   \n",
       "4  {\"coordinates\":[-9.148443,38.735188],\"type\":\"P... 2022-01-01 13:38:04   \n",
       "\n",
       "   estado      entity_ts_hour entity_ts_day       date  holiday_lisbon  \n",
       "0  active 2022-01-01 13:00:00    2022-01-01 2022-01-01             1.0  \n",
       "1  active 2022-01-01 13:00:00    2022-01-01 2022-01-01             1.0  \n",
       "2  active 2022-01-01 13:00:00    2022-01-01 2022-01-01             1.0  \n",
       "3  active 2022-01-01 13:00:00    2022-01-01 2022-01-01             1.0  \n",
       "4  active 2022-01-01 13:00:00    2022-01-01 2022-01-01             1.0  "
      ]
     },
     "metadata": {},
     "output_type": "display_data"
    }
   ],
   "source": [
    "# Convert 'date' column in df_holidays_lx to datetime\n",
    "df_holidays_lx['date'] = pd.to_datetime(df_holidays_lx['date'])\n",
    "\n",
    "\n",
    "# Extract hour and day from 'entity_ts'\n",
    "df['entity_ts_hour'] = df['entity_ts'].dt.floor('H')  # Extrai a hora (arredondada para baixo)\n",
    "df['entity_ts_day'] = df['entity_ts'].dt.normalize()  # Extrai a data (sem horário)\n",
    "\n",
    "# Realize o merge\n",
    "df = df.merge(df_holidays_lx, left_on='entity_ts_day', right_on='date', how='left')\n",
    "df['holiday_lisbon'] = df['holiday_lisbon'].fillna(0)\n",
    "\n",
    "# Exiba o DataFrame resultante\n",
    "display(df.head())"
   ]
  },
  {
   "cell_type": "code",
   "execution_count": 61,
   "metadata": {},
   "outputs": [
    {
     "data": {
      "text/plain": [
       "holiday_lisbon\n",
       "0.0    3207409\n",
       "1.0     140961\n",
       "Name: count, dtype: int64"
      ]
     },
     "execution_count": 61,
     "metadata": {},
     "output_type": "execute_result"
    }
   ],
   "source": [
    "df['holiday_lisbon'].value_counts()"
   ]
  },
  {
   "cell_type": "markdown",
   "metadata": {},
   "source": [
    "## Add longituded and latitude of the station column"
   ]
  },
  {
   "cell_type": "markdown",
   "metadata": {},
   "source": [
    "## Add weather info cols in main df"
   ]
  },
  {
   "cell_type": "markdown",
   "metadata": {},
   "source": [
    "## Add col target - station load rate"
   ]
  },
  {
   "cell_type": "markdown",
   "metadata": {},
   "source": [
    "## Agreggation hour level"
   ]
  },
  {
   "cell_type": "code",
   "execution_count": null,
   "metadata": {},
   "outputs": [],
   "source": [
    "- Rename original cols from main df \n",
    "- Remove id columns: make sure to remove id columns from the df\n",
    "- Create dataset for data exploration:\n",
    "    - normal dataset with\n",
    "- Create dataset for time forecasting (1):\n",
    "    - trasnform the dataset\n",
    "    - create taget columns (station load for target station)\n",
    "    - keep external variables (station_a, station_b, station_c, weather_info, is_holiday)\n",
    "- Create dataset for time forecasting (2):\n",
    "    - trasnform the dataset\n",
    "    - create taget columns (station load for target station)\n",
    "    - remove external variables"
   ]
  },
  {
   "cell_type": "markdown",
   "metadata": {},
   "source": [
    "## Rename original cols from main df "
   ]
  },
  {
   "cell_type": "markdown",
   "metadata": {},
   "source": [
    "## Remove id columns: make sure to remove id columns from the df"
   ]
  },
  {
   "cell_type": "markdown",
   "metadata": {},
   "source": [
    "# Create dataset for data exploration:"
   ]
  },
  {
   "cell_type": "markdown",
   "metadata": {},
   "source": [
    "# Create dataset for time forecasting (1)"
   ]
  },
  {
   "cell_type": "markdown",
   "metadata": {},
   "source": [
    "# Create dataset for time forecasting (2) - excluding external variables"
   ]
  },
  {
   "cell_type": "markdown",
   "metadata": {},
   "source": []
  }
 ],
 "metadata": {
  "kernelspec": {
   "display_name": "base",
   "language": "python",
   "name": "python3"
  },
  "language_info": {
   "codemirror_mode": {
    "name": "ipython",
    "version": 3
   },
   "file_extension": ".py",
   "mimetype": "text/x-python",
   "name": "python",
   "nbconvert_exporter": "python",
   "pygments_lexer": "ipython3",
   "version": "3.12.2"
  }
 },
 "nbformat": 4,
 "nbformat_minor": 2
}
